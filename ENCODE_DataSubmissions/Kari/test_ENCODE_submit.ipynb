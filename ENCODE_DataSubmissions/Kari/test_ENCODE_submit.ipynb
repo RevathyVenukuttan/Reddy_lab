{
 "cells": [
  {
   "cell_type": "code",
   "execution_count": 1,
   "metadata": {},
   "outputs": [
    {
     "name": "stdout",
     "output_type": "stream",
     "text": [
      "2021-02-24 14:55:29,844:eu_debug:\tConnecting to www.encodeproject.org\n",
      "2021-02-24 14:55:29,846:eu_debug:\tsubmission=False: In non-submission mode.\n",
      "2021-02-24 14:55:30,555:eu_debug:\tsubmission=True: In submission mode.\n",
      "2021-02-24 14:55:30,562:eu_debug:\t\n",
      "IN post().\n",
      "2021-02-24 14:55:30,562:eu_debug:\t<<<<<< POST genetic_modification record tim-reddy:wg-starrseq-NA18517-genetic-modification To DCC with URL https://www.encodeproject.org/genetic_modification and this payload:\n",
      "\n",
      "{\n",
      "  \"aliases\": [\n",
      "    \"tim-reddy:wg-starrseq-NA18517-genetic-modification\"\n",
      "  ],\n",
      "  \"award\": \"/awards/UM1HG009428/\",\n",
      "  \"category\": \"episome\",\n",
      "  \"introduced_elements\": \"sheared genomic DNA\",\n",
      "  \"introduced_elements_donor\": \"tim-reddy:NA18517-human-genomic-dna\",\n",
      "  \"lab\": \"/labs/tim-reddy/\",\n",
      "  \"nucleic_acid_delivery_method\": [\n",
      "    \"transient transfection\"\n",
      "  ],\n",
      "  \"purpose\": \"characterization\"\n",
      "}\n",
      "\n",
      "\n",
      "2021-02-24 14:55:30,925:eu_debug:\tSuccess.\n"
     ]
    }
   ],
   "source": [
    "%%bash\n",
    "cd /data/reddylab/Revathy/dev/Kari/ENCODE\n",
    "eu_register.py -m prod -p genetic_modification -i GeneticModification.txt"
   ]
  },
  {
   "cell_type": "code",
   "execution_count": 2,
   "metadata": {},
   "outputs": [
    {
     "name": "stdout",
     "output_type": "stream",
     "text": [
      "2021-02-24 14:56:11,579:eu_debug:\tConnecting to www.encodeproject.org\n",
      "2021-02-24 14:56:11,580:eu_debug:\tsubmission=False: In non-submission mode.\n",
      "2021-02-24 14:56:12,227:eu_debug:\tsubmission=True: In submission mode.\n",
      "2021-02-24 14:56:12,234:eu_debug:\t\n",
      "IN post().\n",
      "2021-02-24 14:56:12,235:eu_debug:\t<<<<<< POST biosample record tim-reddy:wg-starrseq-NA18517-k562-rep1-biosample To DCC with URL https://www.encodeproject.org/biosample and this payload:\n",
      "\n",
      "{\n",
      "  \"aliases\": [\n",
      "    \"tim-reddy:wg-starrseq-NA18517-k562-rep1-biosample\"\n",
      "  ],\n",
      "  \"award\": \"/awards/UM1HG009428/\",\n",
      "  \"biosample_ontology\": \"encode:K562\",\n",
      "  \"donor\": \"encode:donor of K562\",\n",
      "  \"genetic_modifications\": [\n",
      "    \"tim-reddy:wg-starrseq-NA18517-genetic-modification\"\n",
      "  ],\n",
      "  \"lab\": \"/labs/tim-reddy/\",\n",
      "  \"organism\": \"human\",\n",
      "  \"source\": \"/sources/atcc/\"\n",
      "}\n",
      "\n",
      "\n",
      "2021-02-24 14:56:12,763:eu_debug:\tSuccess.\n"
     ]
    }
   ],
   "source": [
    "%%bash\n",
    "eu_register.py -m prod -p biosample -i Biosample.txt"
   ]
  },
  {
   "cell_type": "code",
   "execution_count": 3,
   "metadata": {},
   "outputs": [
    {
     "name": "stdout",
     "output_type": "stream",
     "text": [
      "2021-02-24 14:56:54,072:eu_debug:\tConnecting to www.encodeproject.org\n",
      "2021-02-24 14:56:54,072:eu_debug:\tsubmission=False: In non-submission mode.\n",
      "2021-02-24 14:56:54,820:eu_debug:\tsubmission=True: In submission mode.\n",
      "2021-02-24 14:56:54,828:eu_debug:\t\n",
      "IN post().\n",
      "2021-02-24 14:56:54,828:eu_debug:\t<<<<<< POST library record tim-reddy:wg-starrseq-NA18517-input-rep1-lib To DCC with URL https://www.encodeproject.org/library and this payload:\n",
      "\n",
      "{\n",
      "  \"aliases\": [\n",
      "    \"tim-reddy:wg-starrseq-NA18517-input-rep1-lib\"\n",
      "  ],\n",
      "  \"award\": \"/awards/UM1HG009428/\",\n",
      "  \"lab\": \"/labs/tim-reddy/\",\n",
      "  \"nucleic_acid_term_name\": \"DNA\",\n",
      "  \"size_range\": \"300-800\"\n",
      "}\n",
      "\n",
      "\n",
      "2021-02-24 14:56:55,198:eu_debug:\tSuccess.\n",
      "2021-02-24 14:56:55,199:eu_debug:\t\n",
      "IN post().\n",
      "2021-02-24 14:56:55,199:eu_debug:\t<<<<<< POST library record tim-reddy:wg-starrseq-NA18517-k562-rep1-lib To DCC with URL https://www.encodeproject.org/library and this payload:\n",
      "\n",
      "{\n",
      "  \"aliases\": [\n",
      "    \"tim-reddy:wg-starrseq-NA18517-k562-rep1-lib\"\n",
      "  ],\n",
      "  \"award\": \"/awards/UM1HG009428/\",\n",
      "  \"biosample\": \"tim-reddy:wg-starrseq-NA18517-k562-rep1-biosample\",\n",
      "  \"extraction_method\": \"RNeasy\",\n",
      "  \"lab\": \"/labs/tim-reddy/\",\n",
      "  \"nucleic_acid_term_name\": \"RNA\",\n",
      "  \"size_range\": \"300-800\"\n",
      "}\n",
      "\n",
      "\n",
      "2021-02-24 14:56:55,595:eu_debug:\tSuccess.\n"
     ]
    }
   ],
   "source": [
    "%%bash\n",
    "eu_register.py -m prod -p library -i Library.txt"
   ]
  },
  {
   "cell_type": "code",
   "execution_count": 4,
   "metadata": {},
   "outputs": [
    {
     "name": "stdout",
     "output_type": "stream",
     "text": [
      "2021-02-24 14:57:51,735:eu_debug:\tConnecting to www.encodeproject.org\n",
      "2021-02-24 14:57:51,736:eu_debug:\tsubmission=False: In non-submission mode.\n",
      "2021-02-24 14:57:52,458:eu_debug:\tsubmission=True: In submission mode.\n",
      "2021-02-24 14:57:52,480:eu_debug:\t\n",
      "IN post().\n",
      "2021-02-24 14:57:52,481:eu_debug:\t<<<<<< POST functional_characterization_experiment record tim-reddy:wg-starrseq-NA18517-input To DCC with URL https://www.encodeproject.org/functional_characterization_experiment and this payload:\n",
      "\n",
      "{\n",
      "  \"aliases\": [\n",
      "    \"tim-reddy:wg-starrseq-NA18517-input\"\n",
      "  ],\n",
      "  \"assay_term_name\": \"pooled clone sequencing\",\n",
      "  \"award\": \"/awards/UM1HG009428/\",\n",
      "  \"biosample_ontology\": \"/biosample-types/cloning_host_NTR_0000545/\",\n",
      "  \"lab\": \"/labs/tim-reddy/\",\n",
      "  \"plasmids_library_type\": \"elements mapping\"\n",
      "}\n",
      "\n",
      "\n",
      "2021-02-24 14:57:52,830:eu_debug:\tSuccess.\n",
      "2021-02-24 14:57:52,832:eu_debug:\t\n",
      "IN post().\n",
      "2021-02-24 14:57:52,832:eu_debug:\t<<<<<< POST functional_characterization_experiment record tim-reddy:wg-starrseq-NA18517-k562 To DCC with URL https://www.encodeproject.org/functional_characterization_experiment and this payload:\n",
      "\n",
      "{\n",
      "  \"aliases\": [\n",
      "    \"tim-reddy:wg-starrseq-NA18517-k562\"\n",
      "  ],\n",
      "  \"assay_term_name\": \"STARR-seq\",\n",
      "  \"award\": \"/awards/UM1HG009428/\",\n",
      "  \"biosample_ontology\": \"encode:K562\",\n",
      "  \"lab\": \"/labs/tim-reddy/\",\n",
      "  \"possible_controls\": [\n",
      "    \"tim-reddy:wg-starrseq-NA18517-input\"\n",
      "  ]\n",
      "}\n",
      "\n",
      "\n",
      "2021-02-24 14:57:53,186:eu_debug:\tSuccess.\n"
     ]
    }
   ],
   "source": [
    "%%bash\n",
    "eu_register.py -m prod -p functional_characterization_experiment -i FunctionalCharacterizationExperiment.txt"
   ]
  },
  {
   "cell_type": "code",
   "execution_count": 5,
   "metadata": {},
   "outputs": [
    {
     "name": "stdout",
     "output_type": "stream",
     "text": [
      "2021-02-24 14:57:56,530:eu_debug:\tConnecting to www.encodeproject.org\n",
      "2021-02-24 14:57:56,531:eu_debug:\tsubmission=False: In non-submission mode.\n",
      "2021-02-24 14:57:57,205:eu_debug:\tsubmission=True: In submission mode.\n",
      "2021-02-24 14:57:57,212:eu_debug:\t\n",
      "IN post().\n",
      "2021-02-24 14:57:57,213:eu_debug:\t<<<<<< POST replicate record tim-reddy:wg-starrseq-NA18517-input-rep1 To DCC with URL https://www.encodeproject.org/replicate and this payload:\n",
      "\n",
      "{\n",
      "  \"aliases\": [\n",
      "    \"tim-reddy:wg-starrseq-NA18517-input-rep1\"\n",
      "  ],\n",
      "  \"biological_replicate_number\": 1,\n",
      "  \"experiment\": \"tim-reddy:wg-starrseq-NA18517-input\",\n",
      "  \"library\": \"tim-reddy:wg-starrseq-NA18517-input-rep1-lib\",\n",
      "  \"technical_replicate_number\": 1\n",
      "}\n",
      "\n",
      "\n",
      "2021-02-24 14:57:57,574:eu_debug:\tSuccess.\n",
      "2021-02-24 14:57:57,574:eu_debug:\t\n",
      "IN post().\n",
      "2021-02-24 14:57:57,575:eu_debug:\t<<<<<< POST replicate record tim-reddy:wg-starrseq-NA18517-k562-rep1 To DCC with URL https://www.encodeproject.org/replicate and this payload:\n",
      "\n",
      "{\n",
      "  \"aliases\": [\n",
      "    \"tim-reddy:wg-starrseq-NA18517-k562-rep1\"\n",
      "  ],\n",
      "  \"biological_replicate_number\": 1,\n",
      "  \"experiment\": \"tim-reddy:wg-starrseq-NA18517-k562\",\n",
      "  \"library\": \"tim-reddy:wg-starrseq-NA18517-k562-rep1-lib\",\n",
      "  \"technical_replicate_number\": 1\n",
      "}\n",
      "\n",
      "\n",
      "2021-02-24 14:57:58,200:eu_debug:\tSuccess.\n"
     ]
    }
   ],
   "source": [
    "%%bash\n",
    "eu_register.py -m prod -p replicate -i Replicate.txt"
   ]
  },
  {
   "cell_type": "code",
   "execution_count": 5,
   "metadata": {},
   "outputs": [
    {
     "name": "stdout",
     "output_type": "stream",
     "text": [
      "2021-03-01 17:47:08,508:eu_debug:\tConnecting to www.encodeproject.org\n",
      "2021-03-01 17:47:08,509:eu_debug:\tsubmission=False: In non-submission mode.\n",
      "2021-03-01 17:47:09,135:eu_debug:\tsubmission=True: In submission mode.\n",
      "2021-03-01 17:47:09,142:eu_debug:\t\n",
      "IN post().\n",
      "2021-03-01 17:47:54,292:eu_debug:\t<<<<<< POST file record tim-reddy:k562_wgstarrseq_input_rep1_bam To DCC with URL https://www.encodeproject.org/file and this payload:\n",
      "\n",
      "{\n",
      "  \"aliases\": [\n",
      "    \"tim-reddy:k562_wgstarrseq_input_rep1_bam\"\n",
      "  ],\n",
      "  \"assembly\": \"GRCh38\",\n",
      "  \"award\": \"/awards/UM1HG009428/\",\n",
      "  \"dataset\": \"tim-reddy:wg-starrseq-NA18517-input\",\n",
      "  \"derived_from\": [\n",
      "    \"/files/GRCh38_no_alt_analysis_set_GCA_000001405.15/\",\n",
      "    \"tim-reddy:k562_wgstarrseq_input_rep1_read1\",\n",
      "    \"tim-reddy:k562_wgstarrseq_input_rep1_read2\"\n",
      "  ],\n",
      "  \"file_format\": \"bam\",\n",
      "  \"file_size\": 22837697926,\n",
      "  \"lab\": \"/labs/tim-reddy/\",\n",
      "  \"md5sum\": \"2f3e097d253c9ad4f084819d937b2646\",\n",
      "  \"output_type\": \"alignments\",\n",
      "  \"submitted_file_name\": \"/data/reddylab/kstrouse/god/input_libs/A001_v2/combined_reads/processing/starr_seq/A001_combined-pe/A001.f3q10.sorted.dups_marked.bam\"\n",
      "}\n",
      "\n",
      "\n",
      "2021-03-01 17:47:55,028:eu_debug:\t{'title': 'Conflict', 'description': 'There was a conflict when trying to complete your request.', '@type': ['HTTPConflict', 'Error'], 'status': 'error', 'detail': \"Keys conflict: [('alias', 'tim-reddy:k562_wgstarrseq_input_rep1_bam'), ('alias', 'md5:2f3e097d253c9ad4f084819d937b2646')]\", 'code': 409}\n",
      "2021-03-01 17:47:55,028:eu_debug:\t>>>>>>GET tim-reddy:k562_wgstarrseq_input_rep1_bam From DCC with URL https://www.encodeproject.org/tim-reddy:k562_wgstarrseq_input_rep1_bam/?format=json&datastore=database\n",
      "2021-03-01 17:47:55,705:eu_debug:\tWill not POST 'tim-reddy:k562_wgstarrseq_input_rep1_bam' since it already exists with aliases '['tim-reddy:k562_wgstarrseq_input_rep1_bam']'.\n",
      "2021-03-01 17:47:55,705:eu_debug:\t\n",
      "IN post().\n",
      "2021-03-01 17:48:01,526:eu_debug:\t<<<<<< POST file record tim-reddy:k562_wgstarrseq_input_rep1_bw To DCC with URL https://www.encodeproject.org/file and this payload:\n",
      "\n",
      "{\n",
      "  \"aliases\": [\n",
      "    \"tim-reddy:k562_wgstarrseq_input_rep1_bw\"\n",
      "  ],\n",
      "  \"assembly\": \"GRCh38\",\n",
      "  \"award\": \"/awards/UM1HG009428/\",\n",
      "  \"dataset\": \"tim-reddy:wg-starrseq-NA18517-input\",\n",
      "  \"derived_from\": [\n",
      "    \"tim-reddy:k562_wgstarrseq_input_rep1_bam\"\n",
      "  ],\n",
      "  \"file_format\": \"bigWig\",\n",
      "  \"file_size\": 2824339709,\n",
      "  \"lab\": \"/labs/tim-reddy/\",\n",
      "  \"md5sum\": \"5caf8d9be90013cbcf30268ff8c5a2ff\",\n",
      "  \"output_type\": \"signal of unique reads\",\n",
      "  \"submitted_file_name\": \"/data/reddylab/kstrouse/god/input_libs/A001_v2/combined_reads/processing/starr_seq/A001_combined-pe/A001.f3q10.sorted.dedup.rpkm.bw\"\n",
      "}\n",
      "\n",
      "\n",
      "2021-03-01 17:48:02,198:eu_debug:\t{'title': 'Conflict', 'description': 'There was a conflict when trying to complete your request.', '@type': ['HTTPConflict', 'Error'], 'status': 'error', 'detail': \"Keys conflict: [('alias', 'tim-reddy:k562_wgstarrseq_input_rep1_bw'), ('alias', 'md5:5caf8d9be90013cbcf30268ff8c5a2ff')]\", 'code': 409}\n",
      "2021-03-01 17:48:02,198:eu_debug:\t>>>>>>GET tim-reddy:k562_wgstarrseq_input_rep1_bw From DCC with URL https://www.encodeproject.org/tim-reddy:k562_wgstarrseq_input_rep1_bw/?format=json&datastore=database\n",
      "2021-03-01 17:48:02,889:eu_debug:\tWill not POST 'tim-reddy:k562_wgstarrseq_input_rep1_bw' since it already exists with aliases '['tim-reddy:k562_wgstarrseq_input_rep1_bw']'.\n"
     ]
    }
   ],
   "source": [
    "%%bash\n",
    "eu_register.py -m prod -p file -i input_redo.txt"
   ]
  },
  {
   "cell_type": "code",
   "execution_count": null,
   "metadata": {},
   "outputs": [],
   "source": []
  }
 ],
 "metadata": {
  "kernelspec": {
   "display_name": "Python 3",
   "language": "python",
   "name": "python3"
  },
  "language_info": {
   "codemirror_mode": {
    "name": "ipython",
    "version": 3
   },
   "file_extension": ".py",
   "mimetype": "text/x-python",
   "name": "python",
   "nbconvert_exporter": "python",
   "pygments_lexer": "ipython3",
   "version": "3.6.7"
  }
 },
 "nbformat": 4,
 "nbformat_minor": 2
}
