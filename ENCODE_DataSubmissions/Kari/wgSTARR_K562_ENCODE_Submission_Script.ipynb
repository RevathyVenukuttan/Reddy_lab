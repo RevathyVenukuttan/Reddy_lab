{
 "cells": [
  {
   "cell_type": "code",
   "execution_count": 1,
   "metadata": {},
   "outputs": [
    {
     "name": "stdout",
     "output_type": "stream",
     "text": [
      "usage: eu_register.py [-h] [-m DCC_MODE] [-d] [--no-aliases] -p PROFILE_ID -i\n",
      "                      INFILE [--patch] [-w]\n",
      "\n",
      "Given a tab-delimited or JSON input file containing one or more records belonging to one of the profiles\n",
      "listed on the ENCODE Portal (such as https://www.encodeproject.org/profiles/biosample.json),\n",
      "either POSTS or PATCHES the records. The default is to POST each record; to PATCH instead, see\n",
      "the ``--patch`` option.\n",
      "\n",
      "When POSTING file records, the md5sum of each file will be calculated for you if you haven't\n",
      "already provided the `md5sum` property. Then, after the POST operation completes, the actual file\n",
      "will be uploaded to AWS S3. In order for this to work, you must set the `submitted_file_name`\n",
      "property to the full, local path to your file to upload. Alternatively, you can set\n",
      "`submitted_file_name` to and existing S3 object, i.e. s3://mybucket/reads.fastq.\n",
      "\n",
      "Note that there is a special 'trick' defined in the ``encode_utils.connection.Connection()``\n",
      "class that can be taken advantage of to simplify submission under certain profiles.\n",
      "It concerns the `attachment` property in any profile that employs it, such as the `document`\n",
      "profile.  The trick works as follows: instead of constructing the `attachment` propery object\n",
      "value as defined in the schema, simply use a single-key object of the following format::\n",
      "\n",
      "  {\"path\": \"/path/to/myfile\"}\n",
      "\n",
      "and the `attachment` object will be constructed for you.\n",
      "\n",
      "|\n",
      "\n",
      "optional arguments:\n",
      "  -h, --help            show this help message and exit\n",
      "  -m DCC_MODE, --dcc-mode DCC_MODE\n",
      "                        \n",
      "                            The ENCODE Portal site ('prod' or 'dev', or an explicit host name, i.e. 'demo.encodedcc.org') to connect to.\n",
      "  -d, --dry-run         \n",
      "                            Set this option to enable the dry-run feature, such that no modifications are performed on the\n",
      "                            ENCODE Portal.  This is useful if you'd like to inspect the logs or ensure the validity of\n",
      "                            your input file.\n",
      "  --no-aliases          \n",
      "                            Setting this option is NOT advised. Set this option for doing a POST when your input file \n",
      "                            doesn't contain an 'aliases' column, even though this property is supported in the corresponding\n",
      "                            ENCODE profile.\n",
      "                            When POSTING a record to a profile that includes the 'aliases' property, this package requires\n",
      "                            the 'aliases' property be used for traceability purposes and because without this property, \n",
      "                            it'll be very easy to create duplicate objects on the Portal.  For example, you can easily \n",
      "                            create the same biosample as many times as you want on the Portal when not providing an alias.\n",
      "  -p PROFILE_ID, --profile_id PROFILE_ID\n",
      "                        \n",
      "                            The ID of the profile to submit to, i.e. use 'genetic_modification' for\n",
      "                            https://www.encodeproject.org/profiles/genetic_modification.json. The profile will be pulled down for\n",
      "                            type-checking in order to type-cast any values in the input file to the proper type (i.e. some\n",
      "                            values need to be submitted as integers, not strings).\n",
      "  -i INFILE, --infile INFILE\n",
      "                        \n",
      "                            The JSON input file or tab-delimited input file. \n",
      "                        \n",
      "                            **The tab-delimited file format:**\n",
      "                            Must have a field-header line as the first line.\n",
      "                            Any lines after the header line that start with a '#' will be skipped, as well as any empty lines.\n",
      "                            The field names must be exactly equal to the corresponding property names in the corresponding \n",
      "                            profile. Non-scematic fields are allowed as long as they begin with a '#'; they will be \n",
      "                            skipped. If a property has an array data type (as indicated in the profile's documentation \n",
      "                            on the Portal), the array literals '[' and ']' are optional. Values within the array must \n",
      "                            be comma-delimited. For example, if a property takes an array of strings, then you can use \n",
      "                            either of these as the value:\n",
      "                        \n",
      "                            1) str1,str2,str3\n",
      "                            2) [str1,str2,str3]\n",
      "                        \n",
      "                            On the other hand, if a property takes a JSON object as a value, then the value you enter must be\n",
      "                            valid JSON. This is true anytime you have to specify a JSON object.  Thus, if you are submitting a\n",
      "                            genetic_modification and you have two 'introduced_tags' to provide, you can supply them in either\n",
      "                            of the following two ways:\n",
      "                        \n",
      "                            1) {\"name\": \"eGFP\", \"location\": \"C-terminal\"},{\"name\": \"FLAG\",\"C-terminal\"}\n",
      "                            2) [{\"name\": \"eGFP\", \"location\": \"C-terminal\"},{\"name\": \"FLAG\",\"C-terminal\"}]\n",
      "                        \n",
      "                            **The JSON input file**\n",
      "                            Can be a single JSON object, or an array of JSON objects. Key names must match property names of\n",
      "                            an ENCODE record type (profile).\n",
      "                        \n",
      "                            **The following applies to either input file formats**\n",
      "                            When patching objects, you must specify the 'record_id' field to indicate the identifier of the record.\n",
      "                            Note that this a special field that is not present in the ENCODE schema, and doesn't use the '#'\n",
      "                            prefix to mark it as non-schematic. Here you can specify any valid record identifier\n",
      "                            (i.e. UUID, accession, alias).\n",
      "                        \n",
      "                            Some profiles (most) require specification of the 'award' and 'lab' attributes. These may be set\n",
      "                            as fields in the input file, or can be left out, in which case the default values for these\n",
      "                            attributes will be pulled from the environment variables DCC_AWARD and DCC_LAB, respectively.\n",
      "                            \n",
      "  --patch               \n",
      "                            Presence of this option indicates to PATCH an existing DCC record rather than register a new one.\n",
      "  -w, --overwrite-array-values\n",
      "                        \n",
      "                            Only has meaning in combination with the --patch option. When this is specified, it means that\n",
      "                            any keys with array values will be overwritten on the ENCODE Portal with the corresponding value\n",
      "                            to patch. The default action is to extend the array value with the patch value and then to remove\n",
      "                            any duplicates.\n"
     ]
    }
   ],
   "source": [
    "%%bash \n",
    "eu_register.py --help"
   ]
  },
  {
   "cell_type": "code",
   "execution_count": 3,
   "metadata": {},
   "outputs": [
    {
     "name": "stdout",
     "output_type": "stream",
     "text": [
      "Overwriting /data/reddylab/Revathy/scripts/excel_to_text_for_ENCODE.py\n"
     ]
    }
   ],
   "source": [
    "%%writefile /data/reddylab/Revathy/scripts/excel_to_text_for_ENCODE.py\n",
    "\n",
    "import pandas as pd\n",
    "import numpy\n",
    "import xlrd\n",
    "import argparse\n",
    "parser = argparse.ArgumentParser(formatter_class=argparse.RawTextHelpFormatter, \\\n",
    "description=\"\"\"\n",
    "\n",
    "excel_to_text_for_ENCODE.py\n",
    "\n",
    "This script enables the conversion of a metadata objects spreadsheet required for \n",
    "data submission into ENCODE portal from the excel form into .txt files for each of \n",
    "the sheet present in the spreadsheet. Each sheet represents each metadata object. \n",
    "The default sheet options are : [genetic_modification, biosample, library, \n",
    "functional_characterization_exp, replicate, file]. The script is WIP as it \n",
    "incorporates only for the above mentioned 6 metadata objects for now.\n",
    "\n",
    "\"\"\")\n",
    "\n",
    "###############################\n",
    "# required arguments:\n",
    "\n",
    "parser.add_argument(\"-i\", \"--excel-file\", help=\"\"\"required, file path to the metadata objects excel spreadsheet for ENCODE data submission.\"\"\", \n",
    "                        required=True)\n",
    "parser.add_argument(\"-o\", \"--out-directory\", help=\"\"\"required, path to the directory where the output .txt files should be located.\"\"\")\n",
    "###############################\n",
    "# optional arguments:\n",
    "\n",
    "parser.add_argument(\"--sheet-names\", type=str, nargs='*', default=['genetic_modification','biosample','library','functional_characterization_exp','replicate','file'],\n",
    "                    help=\"\"\"required, names of the sheets present in the metadata objects excel spreadsheet.\"\"\")\n",
    "\n",
    "args = parser.parse_args()\n",
    "\n",
    "for sheet in args.sheet_names:\n",
    "    df = pd.read_excel(args.excel_file, sheet_name = sheet)\n",
    "    df.fillna('', inplace=True)\n",
    "    if (sheet=='functional_characterization_exp'):\n",
    "        sheet = 'functional_characterization_experiment'\n",
    "    df.to_csv('%s/%s.txt' % (args.out_directory, sheet), sep='\\t', index=False)\n",
    "\n"
   ]
  },
  {
   "cell_type": "code",
   "execution_count": 4,
   "metadata": {},
   "outputs": [],
   "source": [
    "%%bash\n",
    "source /data/reddylab/software/miniconda3/bin/activate revathy_py3\n",
    "python /data/reddylab/Revathy/scripts/excel_to_text_for_ENCODE.py \\\n",
    "-i /data/reddylab/Revathy/collabs/Kari/ENCODE/Reddy-DCC-data-wgSTARRseq-A001_final_v2.xlsx \\\n",
    "-o /data/reddylab/Revathy/collabs/Kari/ENCODE/metadata \\\n",
    "--sheet-names biosample library replicate file "
   ]
  },
  {
   "cell_type": "markdown",
   "metadata": {},
   "source": [
    "#### Script for submission into production server \n"
   ]
  },
  {
   "cell_type": "code",
   "execution_count": 3,
   "metadata": {},
   "outputs": [
    {
     "name": "stdout",
     "output_type": "stream",
     "text": [
      "Submitted batch job 25960842\n"
     ]
    }
   ],
   "source": [
    "%%bash\n",
    "source /data/reddylab/software/miniconda3/bin/activate revathy_py3\n",
    "mkdir -p /data/reddylab/Revathy/collabs/Kari/ENCODE/logs\n",
    "cd /data/reddylab/Revathy/collabs/Kari/ENCODE/metadata\n",
    "sbatch -p all \\\n",
    "    --mem 16G \\\n",
    "    -o /data/reddylab/Revathy/collabs/Kari/ENCODE/logs/submission_script.out \\\n",
    "    <<'EOF'\n",
    "#!/bin/bash\n",
    "NAMES=( \\\n",
    "     file \\\n",
    ")\n",
    "NAME=${NAMES[${SLURM_ARRAY_TASK_ID}]}\n",
    "eu_register.py -m prod -p ${NAME} -i Reddy-DCC-data-wgSTARRseq-A001_file_narrowPeak.txt \\\n",
    "EOF"
   ]
  },
  {
   "cell_type": "code",
   "execution_count": 1,
   "metadata": {},
   "outputs": [
    {
     "name": "stdout",
     "output_type": "stream",
     "text": [
      "2021-09-07 15:10:28,445:eu_debug:\tConnecting to www.encodeproject.org\n",
      "2021-09-07 15:10:28,489:eu_debug:\tsubmission=False: In non-submission mode.\n"
     ]
    }
   ],
   "source": [
    "import encode_utils as eu\n",
    "from encode_utils.connection import Connection\n",
    "\n",
    "conn = Connection(\"prod\")"
   ]
  },
  {
   "cell_type": "code",
   "execution_count": 11,
   "metadata": {},
   "outputs": [
    {
     "name": "stdout",
     "output_type": "stream",
     "text": [
      "2021-03-02 12:08:35,256:eu_debug:\t>>>>>>GET ENCFF814CNR From DCC with URL https://www.encodeproject.org/ENCFF814CNR/?format=json\n"
     ]
    },
    {
     "data": {
      "text/plain": [
       "{'@context': '/terms/',\n",
       " '@id': '/files/ENCFF814CNR/',\n",
       " '@type': ['File', 'Item'],\n",
       " 'accession': 'ENCFF814CNR',\n",
       " 'actions': [{'href': '/files/ENCFF814CNR/#!edit',\n",
       "   'name': 'edit',\n",
       "   'profile': '/profiles/File.json',\n",
       "   'title': 'Edit'},\n",
       "  {'href': '/files/ENCFF814CNR/#!edit-json',\n",
       "   'name': 'edit-json',\n",
       "   'profile': '/profiles/File.json',\n",
       "   'title': 'Edit JSON'}],\n",
       " 'aliases': ['tim-reddy:k562_wgstarrseq_input_rep1_bam'],\n",
       " 'alternate_accessions': [],\n",
       " 'assay_term_name': 'pooled clone sequencing',\n",
       " 'assembly': 'GRCh38',\n",
       " 'audit': {},\n",
       " 'award': {'@id': '/awards/UM1HG009428/',\n",
       "  '@type': ['Award', 'Item'],\n",
       "  'component': 'functional characterization',\n",
       "  'description': 'There is a fundamental gap in understanding how the millions of known regulatory elements functionally contribute to gene regulation and phenotypes. Continued existence of that gap is an important problem because, until it is filled, it will remain extremely difficult to identify the genetic mechanisms underlying the thousands of observed genetic associations with disease phenotypes. Our long-term goal is to understand how and to what extent gene regulatory elements alter target gene expression and impact phenotypes. The objectives of this particular proposal are to functionally characterize all regulatory elements contributing to the differentiation of CD4+ T cells. In doing so, we will identify the causal regulatory mechanisms that modulate the immune system. The rationale for this work is that understanding those mechanisms will be the foundation for future efforts to therapeutically modulate the immune system, and will establish a discovery platform for determining the mechanisms underlying countless other model systems. Specifically, we will characterize three complementary components of regulatory element activity: (i) the capacity of regulatory elements to drive expression of a reporter gene, (ii) the effect of each regulatory element on the expression of one or more target genes, and (iii) the contributions of regulatory elements to phenotypic function, namely differentiation. We will accomplish those goals across three specific aims. In Aim 1, we will quantify the activity of all regulatory elements that have evidence of differential activity between subtypes of mouse CD4 T cells. We will do so using a capture-based high-throughput reporter assay that allows us to assay larger (>500 bp) fragments from specific genomic regions of interest. In Aim 2, we will quantify the effects of regulatory elements on target genes using a novel strategy that combines high-throughput CRISPR/ Cas9-based epigenome editing screens and targeted high-throughput single-cell RNA-sequencing. In Aim 3, we will determine which regulatory elements are necessary or sufficient for CD4 T cell differentiation using high-throughput CRISPR/Cas9-based epigenome-editing screens combined differentiation into particular CD4 T cell subtypes. Each aim will provide functional characterization of all of the regulatory elements implicated in CD4 T cell differentiation. Together, the aims will provide a comprehensive, multi-layered, and systematic understanding of the ways that gene regulatory elements modulate the immune system. The result will be an actionable set of targets for designing strategies to modulate immune system activity for therapeutic benefit. Because the approach is general to any model system, the same strategy can be readily transferred to diverse systems including differentiation and disease models. Therefore, we expect that this project will have both immediate and long-term benefit for determining the ways that regulatory elements contribute to health and disease.',\n",
       "  'end_date': '2021-06-30',\n",
       "  'name': 'UM1HG009428',\n",
       "  'pi': {'@id': '/users/261fcf1a-04d9-4879-a56a-320915587586/',\n",
       "   '@type': ['User', 'Item'],\n",
       "   'lab': {'@id': '/labs/tim-reddy/',\n",
       "    '@type': ['Lab', 'Item'],\n",
       "    'address1': 'CIEMAS, Room 2347',\n",
       "    'address2': '101 Science Drive, IGSP Box 3382',\n",
       "    'awards': ['/awards/U01HG007900/', '/awards/U54HG006998/'],\n",
       "    'city': 'Durham',\n",
       "    'country': 'USA',\n",
       "    'fax': '',\n",
       "    'institute_label': 'Duke',\n",
       "    'institute_name': 'Duke University',\n",
       "    'name': 'tim-reddy',\n",
       "    'phone1': '919-564-9536',\n",
       "    'phone2': '',\n",
       "    'pi': '/users/261fcf1a-04d9-4879-a56a-320915587586/',\n",
       "    'postal_code': '27708',\n",
       "    'schema_version': '5',\n",
       "    'state': 'NC',\n",
       "    'status': 'current',\n",
       "    'title': 'Tim Reddy, Duke',\n",
       "    'uuid': 'cc2272f4-10de-4310-8233-33a3ace62643'},\n",
       "   'submits_for': ['/labs/richard-myers/',\n",
       "    '/labs/barbara-wold/',\n",
       "    '/labs/ali-mortazavi/',\n",
       "    '/labs/ross-hardison/',\n",
       "    '/labs/tim-reddy/'],\n",
       "   'title': 'Tim Reddy',\n",
       "   'uuid': '261fcf1a-04d9-4879-a56a-320915587586'},\n",
       "  'project': 'ENCODE',\n",
       "  'rfa': 'ENCODE4',\n",
       "  'schema_version': '8',\n",
       "  'start_date': '2017-08-21',\n",
       "  'status': 'current',\n",
       "  'title': 'REGULATORY MECHANISMS OF CD4+ T CELL DIFFERENTIATION',\n",
       "  'url': 'https://projectreporter.nih.gov/project_info_description.cfm?aid=9247591&icde=36236391&ddparam=&ddvalue=&ddsub=&cr=1&csb=default&cs=ASC&pball=',\n",
       "  'uuid': '3830963f-2518-412d-b685-ca00c1fc92e4',\n",
       "  'viewing_group': 'ENCODE4'},\n",
       " 'biological_replicates': [1],\n",
       " 'biosample_ontology': {'@id': '/biosample-types/cloning_host_NTR_0000545/',\n",
       "  '@type': ['BiosampleType', 'Item'],\n",
       "  'aliases': [],\n",
       "  'cell_slims': [],\n",
       "  'classification': 'cloning host',\n",
       "  'dbxrefs': [],\n",
       "  'developmental_slims': [],\n",
       "  'name': 'cloning_host_NTR_0000545',\n",
       "  'organ_slims': [],\n",
       "  'references': [],\n",
       "  'schema_version': '1',\n",
       "  'status': 'released',\n",
       "  'synonyms': [],\n",
       "  'system_slims': [],\n",
       "  'term_id': 'NTR:0000545',\n",
       "  'term_name': 'DNA cloning sample',\n",
       "  'uuid': '09e6c39a-92af-41fc-a535-7a86d5e9590a'},\n",
       " 'cloud_metadata': {'file_size': 2824339709,\n",
       "  'md5sum_base64': 'XK+Nm+kAE8vPMCaP+MWi/w==',\n",
       "  'url': 'https://encode-files.s3.amazonaws.com/2021/02/24/20474e49-7c73-4a7b-a48f-795d6969bcda/ENCFF814CNR.bam'},\n",
       " 'dataset': '/functional-characterization-experiments/ENCSR870PYS/',\n",
       " 'date_created': '2021-02-24T21:06:51.996662+00:00',\n",
       " 'dbxrefs': [],\n",
       " 'derived_from': ['/files/GRCh38_no_alt_analysis_set_GCA_000001405.15/',\n",
       "  '/files/ENCFF952HCE/',\n",
       "  '/files/ENCFF985XQS/'],\n",
       " 'fastq_signature': [],\n",
       " 'file_format': 'bam',\n",
       " 'file_size': 2824339709,\n",
       " 'file_type': 'bam',\n",
       " 'flowcell_details': [],\n",
       " 'href': '/files/ENCFF814CNR/@@download/ENCFF814CNR.bam',\n",
       " 'lab': {'@id': '/labs/tim-reddy/',\n",
       "  '@type': ['Lab', 'Item'],\n",
       "  'address1': 'CIEMAS, Room 2347',\n",
       "  'address2': '101 Science Drive, IGSP Box 3382',\n",
       "  'awards': ['/awards/U01HG007900/', '/awards/U54HG006998/'],\n",
       "  'city': 'Durham',\n",
       "  'country': 'USA',\n",
       "  'fax': '',\n",
       "  'institute_label': 'Duke',\n",
       "  'institute_name': 'Duke University',\n",
       "  'name': 'tim-reddy',\n",
       "  'phone1': '919-564-9536',\n",
       "  'phone2': '',\n",
       "  'pi': '/users/261fcf1a-04d9-4879-a56a-320915587586/',\n",
       "  'postal_code': '27708',\n",
       "  'schema_version': '5',\n",
       "  'state': 'NC',\n",
       "  'status': 'current',\n",
       "  'title': 'Tim Reddy, Duke',\n",
       "  'uuid': 'cc2272f4-10de-4310-8233-33a3ace62643'},\n",
       " 'md5sum': '5caf8d9be90013cbcf30268ff8c5a2ff',\n",
       " 'no_file_available': False,\n",
       " 'output_category': 'alignment',\n",
       " 'output_type': 'alignments',\n",
       " 'quality_metrics': [],\n",
       " 'replicate_libraries': ['/libraries/ENCLB406WFG/'],\n",
       " 's3_uri': 's3://encode-files/2021/02/24/20474e49-7c73-4a7b-a48f-795d6969bcda/ENCFF814CNR.bam',\n",
       " 'schema_version': '28',\n",
       " 'status': 'uploading',\n",
       " 'submitted_by': {'@id': '/users/826dd675-b1cb-44e9-958a-c7457ec1c879/',\n",
       "  '@type': ['User', 'Item'],\n",
       "  'lab': '/labs/tim-reddy/',\n",
       "  'submits_for': ['/labs/tim-reddy/'],\n",
       "  'title': 'Revathy Venukuttan',\n",
       "  'uuid': '826dd675-b1cb-44e9-958a-c7457ec1c879'},\n",
       " 'superseded_by': [],\n",
       " 'technical_replicates': ['1_1'],\n",
       " 'title': 'ENCFF814CNR',\n",
       " 'uuid': '20474e49-7c73-4a7b-a48f-795d6969bcda'}"
      ]
     },
     "execution_count": 11,
     "metadata": {},
     "output_type": "execute_result"
    }
   ],
   "source": [
    "conn.get(\"ENCFF814CNR\")"
   ]
  },
  {
   "cell_type": "code",
   "execution_count": 2,
   "metadata": {},
   "outputs": [
    {
     "name": "stdout",
     "output_type": "stream",
     "text": [
      "2021-03-02 16:30:26,487:eu_debug:\t\n",
      "IN upload_file()\n",
      "\n",
      "2021-03-02 16:30:26,489:eu_debug:\tAttempting to generate new file upload credentials\n",
      "2021-03-02 16:30:27,286:eu_debug:\tSuccess: upload credentials for 'ENCFF814CNR' regenerated.\n",
      "2021-03-02 16:30:27,287:eu_debug:\t>>>>>>GET ENCFF814CNR From DCC with URL https://www.encodeproject.org/ENCFF814CNR/?format=json\n",
      "2021-03-02 16:30:28,000:eu_debug:\tRunning command 'aws s3 cp /data/reddylab/kstrouse/god/input_libs/A001_v2/combined_reads/processing/starr_seq/A001_combined-pe/A001.f3q10.sorted.dedup.rpkm.bw s3://encode-files/2021/02/24/20474e49-7c73-4a7b-a48f-795d6969bcda/ENCFF814CNR.bam'.\n",
      "2021-03-02 16:31:32,745:eu_debug:\tAWS upload successful.\n"
     ]
    }
   ],
   "source": [
    "conn.upload_file(file_id='ENCFF814CNR', file_path='/data/reddylab/kstrouse/god/input_libs/A001_v2/combined_reads/processing/starr_seq/A001_combined-pe/A001.f3q10.sorted.dedup.rpkm.bw')\n"
   ]
  },
  {
   "cell_type": "code",
   "execution_count": 12,
   "metadata": {},
   "outputs": [
    {
     "name": "stdout",
     "output_type": "stream",
     "text": [
      "2021-03-02 12:09:27,715:eu_debug:\t>>>>>>GET ENCFF778LRW From DCC with URL https://www.encodeproject.org/ENCFF778LRW/?format=json\n"
     ]
    },
    {
     "data": {
      "text/plain": [
       "{'@context': '/terms/',\n",
       " '@id': '/files/ENCFF778LRW/',\n",
       " '@type': ['File', 'Item'],\n",
       " 'accession': 'ENCFF778LRW',\n",
       " 'actions': [{'href': '/files/ENCFF778LRW/#!edit',\n",
       "   'name': 'edit',\n",
       "   'profile': '/profiles/File.json',\n",
       "   'title': 'Edit'},\n",
       "  {'href': '/files/ENCFF778LRW/#!edit-json',\n",
       "   'name': 'edit-json',\n",
       "   'profile': '/profiles/File.json',\n",
       "   'title': 'Edit JSON'}],\n",
       " 'aliases': ['tim-reddy:k562_wgstarrseq_input_rep1_bw'],\n",
       " 'alternate_accessions': [],\n",
       " 'assay_term_name': 'pooled clone sequencing',\n",
       " 'assembly': 'GRCh38',\n",
       " 'audit': {},\n",
       " 'award': {'@id': '/awards/UM1HG009428/',\n",
       "  '@type': ['Award', 'Item'],\n",
       "  'component': 'functional characterization',\n",
       "  'description': 'There is a fundamental gap in understanding how the millions of known regulatory elements functionally contribute to gene regulation and phenotypes. Continued existence of that gap is an important problem because, until it is filled, it will remain extremely difficult to identify the genetic mechanisms underlying the thousands of observed genetic associations with disease phenotypes. Our long-term goal is to understand how and to what extent gene regulatory elements alter target gene expression and impact phenotypes. The objectives of this particular proposal are to functionally characterize all regulatory elements contributing to the differentiation of CD4+ T cells. In doing so, we will identify the causal regulatory mechanisms that modulate the immune system. The rationale for this work is that understanding those mechanisms will be the foundation for future efforts to therapeutically modulate the immune system, and will establish a discovery platform for determining the mechanisms underlying countless other model systems. Specifically, we will characterize three complementary components of regulatory element activity: (i) the capacity of regulatory elements to drive expression of a reporter gene, (ii) the effect of each regulatory element on the expression of one or more target genes, and (iii) the contributions of regulatory elements to phenotypic function, namely differentiation. We will accomplish those goals across three specific aims. In Aim 1, we will quantify the activity of all regulatory elements that have evidence of differential activity between subtypes of mouse CD4 T cells. We will do so using a capture-based high-throughput reporter assay that allows us to assay larger (>500 bp) fragments from specific genomic regions of interest. In Aim 2, we will quantify the effects of regulatory elements on target genes using a novel strategy that combines high-throughput CRISPR/ Cas9-based epigenome editing screens and targeted high-throughput single-cell RNA-sequencing. In Aim 3, we will determine which regulatory elements are necessary or sufficient for CD4 T cell differentiation using high-throughput CRISPR/Cas9-based epigenome-editing screens combined differentiation into particular CD4 T cell subtypes. Each aim will provide functional characterization of all of the regulatory elements implicated in CD4 T cell differentiation. Together, the aims will provide a comprehensive, multi-layered, and systematic understanding of the ways that gene regulatory elements modulate the immune system. The result will be an actionable set of targets for designing strategies to modulate immune system activity for therapeutic benefit. Because the approach is general to any model system, the same strategy can be readily transferred to diverse systems including differentiation and disease models. Therefore, we expect that this project will have both immediate and long-term benefit for determining the ways that regulatory elements contribute to health and disease.',\n",
       "  'end_date': '2021-06-30',\n",
       "  'name': 'UM1HG009428',\n",
       "  'pi': {'@id': '/users/261fcf1a-04d9-4879-a56a-320915587586/',\n",
       "   '@type': ['User', 'Item'],\n",
       "   'lab': {'@id': '/labs/tim-reddy/',\n",
       "    '@type': ['Lab', 'Item'],\n",
       "    'address1': 'CIEMAS, Room 2347',\n",
       "    'address2': '101 Science Drive, IGSP Box 3382',\n",
       "    'awards': ['/awards/U01HG007900/', '/awards/U54HG006998/'],\n",
       "    'city': 'Durham',\n",
       "    'country': 'USA',\n",
       "    'fax': '',\n",
       "    'institute_label': 'Duke',\n",
       "    'institute_name': 'Duke University',\n",
       "    'name': 'tim-reddy',\n",
       "    'phone1': '919-564-9536',\n",
       "    'phone2': '',\n",
       "    'pi': '/users/261fcf1a-04d9-4879-a56a-320915587586/',\n",
       "    'postal_code': '27708',\n",
       "    'schema_version': '5',\n",
       "    'state': 'NC',\n",
       "    'status': 'current',\n",
       "    'title': 'Tim Reddy, Duke',\n",
       "    'uuid': 'cc2272f4-10de-4310-8233-33a3ace62643'},\n",
       "   'submits_for': ['/labs/richard-myers/',\n",
       "    '/labs/barbara-wold/',\n",
       "    '/labs/ali-mortazavi/',\n",
       "    '/labs/ross-hardison/',\n",
       "    '/labs/tim-reddy/'],\n",
       "   'title': 'Tim Reddy',\n",
       "   'uuid': '261fcf1a-04d9-4879-a56a-320915587586'},\n",
       "  'project': 'ENCODE',\n",
       "  'rfa': 'ENCODE4',\n",
       "  'schema_version': '8',\n",
       "  'start_date': '2017-08-21',\n",
       "  'status': 'current',\n",
       "  'title': 'REGULATORY MECHANISMS OF CD4+ T CELL DIFFERENTIATION',\n",
       "  'url': 'https://projectreporter.nih.gov/project_info_description.cfm?aid=9247591&icde=36236391&ddparam=&ddvalue=&ddsub=&cr=1&csb=default&cs=ASC&pball=',\n",
       "  'uuid': '3830963f-2518-412d-b685-ca00c1fc92e4',\n",
       "  'viewing_group': 'ENCODE4'},\n",
       " 'biological_replicates': [1],\n",
       " 'biosample_ontology': {'@id': '/biosample-types/cloning_host_NTR_0000545/',\n",
       "  '@type': ['BiosampleType', 'Item'],\n",
       "  'aliases': [],\n",
       "  'cell_slims': [],\n",
       "  'classification': 'cloning host',\n",
       "  'dbxrefs': [],\n",
       "  'developmental_slims': [],\n",
       "  'name': 'cloning_host_NTR_0000545',\n",
       "  'organ_slims': [],\n",
       "  'references': [],\n",
       "  'schema_version': '1',\n",
       "  'status': 'released',\n",
       "  'synonyms': [],\n",
       "  'system_slims': [],\n",
       "  'term_id': 'NTR:0000545',\n",
       "  'term_name': 'DNA cloning sample',\n",
       "  'uuid': '09e6c39a-92af-41fc-a535-7a86d5e9590a'},\n",
       " 'cloud_metadata': {'file_size': 22837697926,\n",
       "  'md5sum_base64': 'Lz4JfSU8mtTwhIGdk3smRg==',\n",
       "  'url': 'https://encode-files.s3.amazonaws.com/2021/02/24/c4e5f893-ff09-4653-891e-bc7d70823658/ENCFF778LRW.bigWig'},\n",
       " 'dataset': '/functional-characterization-experiments/ENCSR870PYS/',\n",
       " 'date_created': '2021-02-24T21:22:09.338930+00:00',\n",
       " 'dbxrefs': [],\n",
       " 'derived_from': ['/files/ENCFF814CNR/'],\n",
       " 'fastq_signature': [],\n",
       " 'file_format': 'bigWig',\n",
       " 'file_size': 22837697926,\n",
       " 'file_type': 'bigWig',\n",
       " 'flowcell_details': [],\n",
       " 'href': '/files/ENCFF778LRW/@@download/ENCFF778LRW.bigWig',\n",
       " 'lab': {'@id': '/labs/tim-reddy/',\n",
       "  '@type': ['Lab', 'Item'],\n",
       "  'address1': 'CIEMAS, Room 2347',\n",
       "  'address2': '101 Science Drive, IGSP Box 3382',\n",
       "  'awards': ['/awards/U01HG007900/', '/awards/U54HG006998/'],\n",
       "  'city': 'Durham',\n",
       "  'country': 'USA',\n",
       "  'fax': '',\n",
       "  'institute_label': 'Duke',\n",
       "  'institute_name': 'Duke University',\n",
       "  'name': 'tim-reddy',\n",
       "  'phone1': '919-564-9536',\n",
       "  'phone2': '',\n",
       "  'pi': '/users/261fcf1a-04d9-4879-a56a-320915587586/',\n",
       "  'postal_code': '27708',\n",
       "  'schema_version': '5',\n",
       "  'state': 'NC',\n",
       "  'status': 'current',\n",
       "  'title': 'Tim Reddy, Duke',\n",
       "  'uuid': 'cc2272f4-10de-4310-8233-33a3ace62643'},\n",
       " 'md5sum': '2f3e097d253c9ad4f084819d937b2646',\n",
       " 'no_file_available': False,\n",
       " 'output_category': 'signal',\n",
       " 'output_type': 'signal of unique reads',\n",
       " 'quality_metrics': [],\n",
       " 'replicate_libraries': ['/libraries/ENCLB406WFG/'],\n",
       " 's3_uri': 's3://encode-files/2021/02/24/c4e5f893-ff09-4653-891e-bc7d70823658/ENCFF778LRW.bigWig',\n",
       " 'schema_version': '28',\n",
       " 'status': 'uploading',\n",
       " 'submitted_by': {'@id': '/users/826dd675-b1cb-44e9-958a-c7457ec1c879/',\n",
       "  '@type': ['User', 'Item'],\n",
       "  'lab': '/labs/tim-reddy/',\n",
       "  'submits_for': ['/labs/tim-reddy/'],\n",
       "  'title': 'Revathy Venukuttan',\n",
       "  'uuid': '826dd675-b1cb-44e9-958a-c7457ec1c879'},\n",
       " 'submitted_file_name': '/data/reddylab/kstrouse/god/input_libs/A001_v2/combined_reads/processing/starr_seq/A001_combined-pe/A001.f3q10.sorted.dups_marked.bam',\n",
       " 'superseded_by': [],\n",
       " 'technical_replicates': ['1_1'],\n",
       " 'title': 'ENCFF778LRW',\n",
       " 'uuid': 'c4e5f893-ff09-4653-891e-bc7d70823658'}"
      ]
     },
     "execution_count": 12,
     "metadata": {},
     "output_type": "execute_result"
    }
   ],
   "source": [
    "conn.get('ENCFF778LRW')"
   ]
  },
  {
   "cell_type": "code",
   "execution_count": 3,
   "metadata": {},
   "outputs": [
    {
     "name": "stdout",
     "output_type": "stream",
     "text": [
      "2021-03-02 16:32:28,736:eu_debug:\t\n",
      "IN upload_file()\n",
      "\n",
      "2021-03-02 16:32:28,737:eu_debug:\tAttempting to generate new file upload credentials\n",
      "2021-03-02 16:32:29,581:eu_debug:\tSuccess: upload credentials for 'ENCFF778LRW' regenerated.\n",
      "2021-03-02 16:32:29,583:eu_debug:\t>>>>>>GET ENCFF778LRW From DCC with URL https://www.encodeproject.org/ENCFF778LRW/?format=json\n",
      "2021-03-02 16:32:30,387:eu_debug:\tRunning command 'aws s3 cp /data/reddylab/kstrouse/god/input_libs/A001_v2/combined_reads/processing/starr_seq/A001_combined-pe/A001.f3q10.sorted.dups_marked.bam s3://encode-files/2021/02/24/c4e5f893-ff09-4653-891e-bc7d70823658/ENCFF778LRW.bigWig'.\n",
      "2021-03-02 16:38:32,611:eu_debug:\tAWS upload successful.\n"
     ]
    }
   ],
   "source": [
    "conn.upload_file(file_id='ENCFF778LRW', file_path='/data/reddylab/kstrouse/god/input_libs/A001_v2/combined_reads/processing/starr_seq/A001_combined-pe/A001.f3q10.sorted.dups_marked.bam')"
   ]
  },
  {
   "cell_type": "code",
   "execution_count": 21,
   "metadata": {
    "scrolled": true
   },
   "outputs": [
    {
     "name": "stdout",
     "output_type": "stream",
     "text": [
      "2023-04-21 18:54:49,655:eu_debug:\tConnecting to www.encodeproject.org\n",
      "2023-04-21 18:54:49,699:eu_debug:\tsubmission=False: In non-submission mode.\n",
      "2023-04-21 18:54:50,369:eu_debug:\tsubmission=True: In submission mode.\n",
      "2023-04-21 18:54:50,374:eu_debug:\t\n",
      "IN post().\n",
      "2023-04-21 18:54:50,377:eu_debug:\t<<<<<< POST file record tim-reddy:k562_wgstarrseq_k562_CRADLE_peak-bed To DCC with URL https://www.encodeproject.org/file and this payload:\n",
      "\n",
      "{\n",
      "  \"aliases\": [\n",
      "    \"tim-reddy:k562_wgstarrseq_k562_CRADLE_peak-bed\"\n",
      "  ],\n",
      "  \"assembly\": \"GRCh38\",\n",
      "  \"award\": \"/awards/UM1HG009428/\",\n",
      "  \"dataset\": \"tim-reddy:wg-starrseq-NA18517-k562\",\n",
      "  \"derived_from\": [\n",
      "    \"tim-reddy:k562_wgstarrseq_input_rep1_bw\",\n",
      "    \"tim-reddy:k562_wgstarrseq_k562_rep1_bw\",\n",
      "    \"tim-reddy:k562_wgstarrseq_k562_rep2_bw\",\n",
      "    \"tim-reddy:k562_wgstarrseq_k562_rep3_bw\"\n",
      "  ],\n",
      "  \"file_format\": \"bed\",\n",
      "  \"file_format_type\": \"element enrichments\",\n",
      "  \"file_size\": 842680,\n",
      "  \"lab\": \"/labs/tim-reddy/\",\n",
      "  \"md5sum\": \"3b234d133a61576915a8fb1cbaabc852\",\n",
      "  \"output_type\": \"element quantifications\",\n",
      "  \"submitted_file_name\": \"/data/reddylab/Revathy/collabs/Kari/ENCODE/data/wgSTARRseq_k562_kmer36_fdr0.05.CRADLE_peaks.bed.gz\"\n",
      "}\n",
      "\n",
      "\n",
      "2023-04-21 18:54:51,428:eu_debug:\tSuccess.\n",
      "2023-04-21 18:54:51,437:eu_debug:\t\n",
      "IN upload_file()\n",
      "\n",
      "2023-04-21 18:54:51,437:eu_debug:\tAttempting to generate new file upload credentials\n",
      "2023-04-21 18:54:52,421:eu_debug:\tSuccess: upload credentials for 'ENCFF908UFR' regenerated.\n",
      "2023-04-21 18:54:52,422:eu_debug:\t>>>>>>GET ENCFF908UFR From DCC with URL https://www.encodeproject.org/ENCFF908UFR/?format=json&datastore=database\n",
      "2023-04-21 18:54:53,597:eu_debug:\tRunning command 'aws s3 cp /data/reddylab/Revathy/collabs/Kari/ENCODE/data/wgSTARRseq_k562_kmer36_fdr0.05.CRADLE_peaks.bed.gz s3://encode-files/2023/04/21/ebefb389-7281-4a18-8b7b-a1e87197f838/ENCFF908UFR.bed.gz'.\n",
      "2023-04-21 18:54:59,094:eu_debug:\tAWS upload successful.\n"
     ]
    }
   ],
   "source": [
    "%%bash\n",
    "cd /data/reddylab/Revathy/collabs/Kari/ENCODE/metadata\n",
    "eu_register.py -m prod -p file -i Reddy-DCC-data-wgSTARRseq-A001_file_CRADLE.txt"
   ]
  },
  {
   "cell_type": "code",
   "execution_count": 20,
   "metadata": {},
   "outputs": [
    {
     "name": "stdout",
     "output_type": "stream",
     "text": [
      "dataset\tfile_format\tfile_format_type\toutput_type\tsubmitted_file_name\taward\tlab\taliases\tassembly\tderived_from\r\n",
      "tim-reddy:wg-starrseq-NA18517-k562\tbed\telement enrichments\telement quantifications\t/data/reddylab/Revathy/collabs/Kari/ENCODE/data/wgSTARRseq_k562_kmer36_fdr0.05.CRADLE_peaks.bed.gz\t/awards/UM1HG009428/\t/labs/tim-reddy/\ttim-reddy:k562_wgstarrseq_k562_CRADLE_peak-bed\tGRCh38\ttim-reddy:k562_wgstarrseq_input_rep1_bw, tim-reddy:k562_wgstarrseq_k562_rep1_bw, tim-reddy:k562_wgstarrseq_k562_rep2_bw, tim-reddy:k562_wgstarrseq_k562_rep3_bw"
     ]
    }
   ],
   "source": [
    "!cat /data/reddylab/Revathy/collabs/Kari/ENCODE/metadata/Reddy-DCC-data-wgSTARRseq-A001_file_CRADLE.txt"
   ]
  },
  {
   "cell_type": "code",
   "execution_count": 9,
   "metadata": {},
   "outputs": [],
   "source": [
    "%%bash\n",
    "cat /data/reddylab/kstrouse/superstarr/output_libs/A001_K562/CRADLE/CRADLEcorr_kmer36/peaks/fdr0.05/CRADLE_peaks \\\n",
    "| tail -n+2 \\\n",
    "| awk -vOFS=\"\\t\" '{print $1, $2, $3, $4, '100',$6, $7, $8, $9, $10, $11}' \\\n",
    "> /data/reddylab/Revathy/collabs/Kari/ENCODE/data/wgSTARRseq_k562_kmer36_fdr0.05.CRADLE_peaks\n"
   ]
  },
  {
   "cell_type": "code",
   "execution_count": 19,
   "metadata": {},
   "outputs": [],
   "source": [
    "%%bash\n",
    "gzip -c /data/reddylab/Revathy/collabs/Kari/ENCODE/data/wgSTARRseq_k562_kmer36_fdr0.05.CRADLE_peaks \\\n",
    "> /data/reddylab/Revathy/collabs/Kari/ENCODE/data/wgSTARRseq_k562_kmer36_fdr0.05.CRADLE_peaks.bed.gz"
   ]
  },
  {
   "cell_type": "code",
   "execution_count": 10,
   "metadata": {},
   "outputs": [
    {
     "name": "stdout",
     "output_type": "stream",
     "text": [
      "chr\tstart\tend\tname\tscore\tstrand\teffectSize\tinputCount\toutputCount\t-log(pvalue)\t-log(qvalue)\tcohen's_d\r\n",
      "chr1\t17320\t17470\tchr1:17320-17470\t.\t.\t-65\t-59\t-125\t2.92\t2.0\tnan\r\n",
      "chr1\t492302\t492378\tchr1:492302-492378\t.\t.\t-54\t-42\t-96\t2.81\t2.33\tnan\r\n",
      "chr1\t844088\t844138\tchr1:844088-844138\t.\t.\t113\t-35\t77\t3.07\t2.29\tnan\r\n",
      "chr1\t869788\t870038\tchr1:869788-870038\t.\t.\t-107\t-17\t-124\t3.89\t3.11\tnan\r\n",
      "chr1\t902870\t902920\tchr1:902870-902920\t.\t.\t80\t-24\t56\t3.55\t2.31\tnan\r\n",
      "chr1\t913038\t913238\tchr1:913038-913238\t.\t.\t105\t-36\t69\t3.03\t2.25\tnan\r\n",
      "chr1\t925588\t925888\tchr1:925588-925888\t.\t.\t-100\t-35\t-136\t2.59\t1.97\tnan\r\n",
      "chr1\t930538\t930588\tchr1:930538-930588\t.\t.\t-34\t-26\t-60\t3.89\t2.63\tnan\r\n",
      "chr1\t931138\t931188\tchr1:931138-931188\t.\t.\t-59\t-74\t-134\t3.07\t2.12\tnan\r\n"
     ]
    }
   ],
   "source": [
    "!head /data/reddylab/kstrouse/superstarr/output_libs/A001_K562/CRADLE/CRADLEcorr_kmer36/peaks/fdr0.05/CRADLE_peaks"
   ]
  },
  {
   "cell_type": "code",
   "execution_count": 11,
   "metadata": {},
   "outputs": [
    {
     "name": "stdout",
     "output_type": "stream",
     "text": [
      "chr1\t17320\t17470\tchr1:17320-17470\t100\t.\t-65\t-59\t-125\t2.92\t2.0\r\n",
      "chr1\t492302\t492378\tchr1:492302-492378\t100\t.\t-54\t-42\t-96\t2.81\t2.33\r\n",
      "chr1\t844088\t844138\tchr1:844088-844138\t100\t.\t113\t-35\t77\t3.07\t2.29\r\n",
      "chr1\t869788\t870038\tchr1:869788-870038\t100\t.\t-107\t-17\t-124\t3.89\t3.11\r\n",
      "chr1\t902870\t902920\tchr1:902870-902920\t100\t.\t80\t-24\t56\t3.55\t2.31\r\n",
      "chr1\t913038\t913238\tchr1:913038-913238\t100\t.\t105\t-36\t69\t3.03\t2.25\r\n",
      "chr1\t925588\t925888\tchr1:925588-925888\t100\t.\t-100\t-35\t-136\t2.59\t1.97\r\n",
      "chr1\t930538\t930588\tchr1:930538-930588\t100\t.\t-34\t-26\t-60\t3.89\t2.63\r\n",
      "chr1\t931138\t931188\tchr1:931138-931188\t100\t.\t-59\t-74\t-134\t3.07\t2.12\r\n",
      "chr1\t936838\t936938\tchr1:936838-936938\t100\t.\t117\t-21\t96\t3.18\t2.1\r\n"
     ]
    }
   ],
   "source": [
    "!head /data/reddylab/Revathy/collabs/Kari/ENCODE/data/wgSTARRseq_k562_kmer36_fdr0.05.CRADLE_peaks"
   ]
  },
  {
   "cell_type": "code",
   "execution_count": 13,
   "metadata": {},
   "outputs": [
    {
     "name": "stderr",
     "output_type": "stream",
     "text": [
      "pass1 - making usageList (23 chroms): 7 millis\n",
      "pass2 - checking and writing primary data (38671 records, 11 fields): 174 millis\n"
     ]
    }
   ],
   "source": [
    "%%bash\n",
    "/data/common/shared_conda_envs/ucsc/bin/bedToBigBed \\\n",
    "/data/reddylab/Revathy/collabs/Kari/ENCODE/data/wgSTARRseq_k562_kmer36_fdr0.05.CRADLE_peaks \\\n",
    "/data/reddylab/Reference_Data/Genomes/hg38/hg38.fa.chrom.sizes \\\n",
    "-as=/home/rv103/reddylab_data/Revathy/software/mpra_starr.as \\\n",
    "-type=bed6+5 \\\n",
    "/data/reddylab/Revathy/collabs/Kari/ENCODE/data/wgSTARRseq_k562_kmer36_fdr0.05.CRADLE_peaks.bigBed "
   ]
  },
  {
   "cell_type": "code",
   "execution_count": 15,
   "metadata": {},
   "outputs": [
    {
     "name": "stdout",
     "output_type": "stream",
     "text": [
      "��\u0004\u0000\r\n",
      "\u0000�\u0004\u0000\u0000\u0000\u0000\u0000\u0000�\u0005\u0000\u0000\u0000\u0000\u0000\u0000\u0018/\u000f\u0000\u0000\u0000\u0000\u0000\u000b",
      "\u0000\u0006\u00000\u0001\u0000\u0000\u0000\u0000\u0000\u0000(\u0004\u0000\u0000\u0000\u0000\u0000\u0000��\u0000\u0000P\u0004\u0000\u0000\u0000\u0000\u0000\u00000\f",
      "\u0000\u0000\u0000\u0000\u0000\u0000\u0014J\u000f\u0000\u0000\u0000\u0000\u0000�s\u0013\u0000\u0000\u0000\u0000\u0000�0\u0000\u0000\u0000\u0000\u0000\u0000�\u0013\u0000\u0000\u0000\u0000\u0000�9\u0017\u0000\u0000\u0000\u0000\u0000\u0000�\u0000\u0000\u0000\u0000\u0000\u0000�S\u0017\u0000\u0000\u0000\u0000\u0000��\u0019\u0000\u0000\u0000\u0000\u0000\u0000\f",
      "\u0003\u0000\u0000\u0000\u0000\u0000\u0005\u0002\u001a\u0000\u0000\u0000\u0000\u0000Jt\u001b\u0000\u0000\u0000\u0000\u0000\u00000\f",
      "\u0000\u0000\u0000\u0000\u0000\u0006�\u001b\u0000\u0000\u0000\u0000\u0000],\u001c",
      "\u0000\u0000\u0000\u0000\u0000\u0000�0\u0000\u0000\u0000\u0000\u0000�D\u001c",
      "\u0000\u0000\u0000\u0000\u0000c|\u001c",
      "\u0000\u0000\u0000\u0000\u0000\u0000\u0000�\u0000\u0000\u0000\u0000\u0000��\u001c",
      "\u0000\u0000\u0000\u0000\u0000\u000b",
      "�\u001c",
      "\u0000\u0000\u0000\u0000\u0000\u0000\u0000\f",
      "\u0003\u0000\u0000\u0000\u0000G�\u001c",
      "\u0000\u0000\u0000\u0000\u0000P�\u001c",
      "\u0000\u0000\u0000\u0000\u0000\u0000\u00000\f",
      "\u0000\u0000\u0000\u0000��\u001c",
      "\u0000\u0000\u0000\u0000\u0000��\u001c",
      "\u0000\u0000\u0000\u0000\u0000\u0000\u0000�0\u0000\u0000\u0000\u0000��\u001c",
      "\u0000\u0000\u0000\u0000\u0000��\u001c",
      "\u0000\u0000\u0000\u0000\u0000table mpra_starr\r\n",
      "\"BED6+5 MPRA/STARR-seq common file format\"\r\n",
      "(\r\n",
      "string  chrom;\t\t\"Reference sequence chromosome or scaffold\"\r\n",
      "uint    chromStart;\t\"Start position in chromosome\"\r\n",
      "uint    chromEnd;\t\"End position in chromosome\"\r\n",
      "string  name;\t\t\"Name of tested element or region\"\r\n",
      "uint    score;\t\t\"Indicates how dark the peak will be displayed in the browser (0-1000)\"\r\n",
      "char[1] strand;\t\t\"+ or - for strand, . for unknown\"\r\n"
     ]
    }
   ],
   "source": [
    "!ls -lah /data/reddylab/Revathy/collabs/Kari/ENCODE/data/wgSTARRseq_k562_kmer36_fdr0.05.CRADLE_peaks.bigBed"
   ]
  },
  {
   "cell_type": "code",
   "execution_count": 14,
   "metadata": {},
   "outputs": [
    {
     "name": "stdout",
     "output_type": "stream",
     "text": [
      "5ad8b343085b18b8c1960e7daafa4b27  /data/reddylab/Revathy/collabs/Kari/ENCODE/data/wgSTARRseq_k562_kmer36_fdr0.05.CRADLE_peaks.bigBed\r\n"
     ]
    }
   ],
   "source": [
    "!md5sum /data/reddylab/Revathy/collabs/Kari/ENCODE/data/wgSTARRseq_k562_kmer36_fdr0.05.CRADLE_peaks.bigBed"
   ]
  },
  {
   "cell_type": "code",
   "execution_count": 17,
   "metadata": {},
   "outputs": [
    {
     "name": "stdout",
     "output_type": "stream",
     "text": [
      "2023-04-21 14:55:20,306:eu_debug:\tConnecting to www.encodeproject.org\n",
      "2023-04-21 14:55:20,351:eu_debug:\tsubmission=False: In non-submission mode.\n",
      "2023-04-21 14:55:21,042:eu_debug:\t\n",
      "IN upload_file()\n",
      "\n",
      "2023-04-21 14:55:21,044:eu_debug:\tAttempting to generate new file upload credentials\n",
      "2023-04-21 14:55:22,070:eu_debug:\tSuccess: upload credentials for 'ENCFF181MIF' regenerated.\n",
      "2023-04-21 14:55:22,071:eu_debug:\t>>>>>>GET ENCFF181MIF From DCC with URL https://www.encodeproject.org/ENCFF181MIF/?format=json\n",
      "2023-04-21 14:55:22,631:eu_debug:\tRunning command 'aws s3 cp /data/reddylab/Revathy/collabs/Kari/ENCODE/data/wgSTARRseq_k562_kmer36_fdr0.05.CRADLE_peaks.bigBed s3://encode-files/2022/10/19/d9236427-6339-48ee-b2b3-5531ae4cea06/ENCFF181MIF.bed.gz'.\n",
      "2023-04-21 14:55:24,856:eu_debug:\tAWS upload successful.\n"
     ]
    }
   ],
   "source": [
    "import encode_utils as eu\n",
    "from encode_utils.connection import Connection\n",
    "\n",
    "conn = Connection(\"prod\")\n",
    "conn.upload_file(file_id='ENCFF181MIF', file_path='/data/reddylab/Revathy/collabs/Kari/ENCODE/data/wgSTARRseq_k562_kmer36_fdr0.05.CRADLE_peaks.bigBed')"
   ]
  },
  {
   "cell_type": "code",
   "execution_count": 1,
   "metadata": {},
   "outputs": [
    {
     "name": "stdout",
     "output_type": "stream",
     "text": [
      "A001-K562-rep1.f3q10.sorted.dups_marked.macs_keep_dups_norm_peaks.narrowPeak.gz\r\n",
      "A001-K562-rep2.f3q10.sorted.dups_marked.macs_norm_peaks.narrowPeak.gz\r\n",
      "A001-K562-rep3.f3q10.sorted.dups_marked.macs_norm_peaks.narrowPeak.gz\r\n",
      "corrected_peaks\r\n",
      "wgSTARRseq_k562_kmer36_fdr0.05.CRADLE_peaks\r\n",
      "wgSTARRseq_k562_kmer36_fdr0.05_CRADLE_peaks.bed.gz\r\n",
      "wgSTARRseq_k562_kmer36_fdr0.05.CRADLE_peaks.bigBed\r\n",
      "wgSTARRseq_k562_kmer36_fdr0.05.CRADLE_peaks.gz\r\n",
      "wgSTARRseq_k562_kmer36_fdr0.05_CRADLE_peaks.narrowPeak.gz\r\n"
     ]
    }
   ],
   "source": [
    "!ls /data/reddylab/Revathy/collabs/Kari/ENCODE/data/"
   ]
  },
  {
   "cell_type": "markdown",
   "metadata": {},
   "source": [
    "#### correct the score column in narrowPeak files"
   ]
  },
  {
   "cell_type": "code",
   "execution_count": 3,
   "metadata": {},
   "outputs": [],
   "source": [
    "%%bash \n",
    "mkdir -p /data/reddylab/Revathy/collabs/Kari/ENCODE/data/corrected_peaks\n",
    "cd /data/reddylab/Revathy/collabs/Kari/ENCODE/data/\n",
    "files=$(ls *.gz)\n",
    "for file in ${files[@]};\n",
    "do \n",
    "zcat ${file} | awk 'BEGIN{OFS=FS}$5>1000{$5=1000}{print}' > /data/reddylab/Revathy/collabs/Kari/ENCODE/data/corrected_peaks/${file/.gz}\n",
    "done"
   ]
  },
  {
   "cell_type": "code",
   "execution_count": 2,
   "metadata": {},
   "outputs": [
    {
     "name": "stdout",
     "output_type": "stream",
     "text": [
      "2021-09-07 15:12:03,929:eu_debug:\t\n",
      "IN upload_file()\n",
      "\n",
      "2021-09-07 15:12:03,932:eu_debug:\tAttempting to generate new file upload credentials\n",
      "2021-09-07 15:12:04,809:eu_debug:\tSuccess: upload credentials for 'ENCFF454ZKK' regenerated.\n",
      "2021-09-07 15:12:04,810:eu_debug:\t>>>>>>GET ENCFF454ZKK From DCC with URL https://www.encodeproject.org/ENCFF454ZKK/?format=json\n",
      "2021-09-07 15:12:05,402:eu_debug:\tRunning command 'aws s3 cp /data/reddylab/Revathy/collabs/Kari/ENCODE/data/corrected_peaks/A001-K562-rep1.f3q10.sorted.dups_marked.macs_keep_dups_norm_peaks.narrowPeak.gz s3://encode-files/2021/09/02/e3276af7-d53b-44ca-994f-87d249d96617/ENCFF454ZKK.bed.gz'.\n",
      "2021-09-07 15:12:14,085:eu_debug:\tAWS upload successful.\n",
      "2021-09-07 15:12:14,088:eu_debug:\t\n",
      "IN upload_file()\n",
      "\n",
      "2021-09-07 15:12:14,090:eu_debug:\tAttempting to generate new file upload credentials\n",
      "2021-09-07 15:12:15,023:eu_debug:\tSuccess: upload credentials for 'ENCFF919UHO' regenerated.\n",
      "2021-09-07 15:12:15,023:eu_debug:\t>>>>>>GET ENCFF919UHO From DCC with URL https://www.encodeproject.org/ENCFF919UHO/?format=json\n",
      "2021-09-07 15:12:15,628:eu_debug:\tRunning command 'aws s3 cp /data/reddylab/Revathy/collabs/Kari/ENCODE/data/corrected_peaks/A001-K562-rep2.f3q10.sorted.dups_marked.macs_norm_peaks.narrowPeak.gz s3://encode-files/2021/09/02/9ff34dd5-787d-4125-af71-f787063d5a24/ENCFF919UHO.bed.gz'.\n",
      "2021-09-07 15:12:17,850:eu_debug:\tAWS upload successful.\n",
      "2021-09-07 15:12:17,854:eu_debug:\t\n",
      "IN upload_file()\n",
      "\n",
      "2021-09-07 15:12:17,855:eu_debug:\tAttempting to generate new file upload credentials\n",
      "2021-09-07 15:12:18,985:eu_debug:\tSuccess: upload credentials for 'ENCFF549QUG' regenerated.\n",
      "2021-09-07 15:12:18,987:eu_debug:\t>>>>>>GET ENCFF549QUG From DCC with URL https://www.encodeproject.org/ENCFF549QUG/?format=json\n",
      "2021-09-07 15:12:19,533:eu_debug:\tRunning command 'aws s3 cp /data/reddylab/Revathy/collabs/Kari/ENCODE/data/corrected_peaks/A001-K562-rep3.f3q10.sorted.dups_marked.macs_norm_peaks.narrowPeak.gz s3://encode-files/2021/09/02/51816c10-3f7f-4b08-bfea-51b24558a613/ENCFF549QUG.bed.gz'.\n",
      "2021-09-07 15:12:21,722:eu_debug:\tAWS upload successful.\n"
     ]
    }
   ],
   "source": [
    "conn.upload_file(file_id='ENCFF454ZKK', file_path='/data/reddylab/Revathy/collabs/Kari/ENCODE/data/corrected_peaks/A001-K562-rep1.f3q10.sorted.dups_marked.macs_keep_dups_norm_peaks.narrowPeak.gz')\n",
    "conn.upload_file(file_id='ENCFF919UHO', file_path='/data/reddylab/Revathy/collabs/Kari/ENCODE/data/corrected_peaks/A001-K562-rep2.f3q10.sorted.dups_marked.macs_norm_peaks.narrowPeak.gz')\n",
    "conn.upload_file(file_id='ENCFF549QUG', file_path='/data/reddylab/Revathy/collabs/Kari/ENCODE/data/corrected_peaks/A001-K562-rep3.f3q10.sorted.dups_marked.macs_norm_peaks.narrowPeak.gz')\n",
    "\n",
    "\n"
   ]
  },
  {
   "cell_type": "code",
   "execution_count": 4,
   "metadata": {
    "scrolled": true
   },
   "outputs": [
    {
     "name": "stdout",
     "output_type": "stream",
     "text": [
      "2021-09-29 15:29:45,736:eu_debug:\tConnecting to www.encodeproject.org\n",
      "2021-09-29 15:29:45,781:eu_debug:\tsubmission=False: In non-submission mode.\n",
      "2021-09-29 15:29:46,701:eu_debug:\tsubmission=True: In submission mode.\n",
      "2021-09-29 15:29:46,750:eu_debug:\t\n",
      "IN patch()\n",
      "2021-09-29 15:29:46,751:eu_debug:\t>>>>>>GET files/ENCFF058NAC From DCC with URL https://www.encodeproject.org/files/ENCFF058NAC/?format=json&datastore=database&frame=edit\n",
      "2021-09-29 15:29:47,104:eu_debug:\t<<<<<< PATCHING /files/ENCFF058NAC/ To DCC with URL https://www.encodeproject.org/files/ENCFF058NAC and this payload:\n",
      "\n",
      "{\n",
      "  \"step_run\": \"tim-reddy:starrseq_fastq_to_bam_with_umi_step_run\"\n",
      "}\n",
      "\n",
      "\n",
      "2021-09-29 15:29:48,077:eu_debug:\tSuccess.\n",
      "2021-09-29 15:29:48,078:eu_debug:\t\n",
      "IN patch()\n",
      "2021-09-29 15:29:48,078:eu_debug:\t>>>>>>GET files/ENCFF294XNE From DCC with URL https://www.encodeproject.org/files/ENCFF294XNE/?format=json&datastore=database&frame=edit\n",
      "2021-09-29 15:29:48,424:eu_debug:\t<<<<<< PATCHING /files/ENCFF294XNE/ To DCC with URL https://www.encodeproject.org/files/ENCFF294XNE and this payload:\n",
      "\n",
      "{\n",
      "  \"step_run\": \"tim-reddy:starrseq_fastq_to_bam_with_umi_step_run\"\n",
      "}\n",
      "\n",
      "\n",
      "2021-09-29 15:29:49,100:eu_debug:\tSuccess.\n",
      "2021-09-29 15:29:49,101:eu_debug:\t\n",
      "IN patch()\n",
      "2021-09-29 15:29:49,101:eu_debug:\t>>>>>>GET files/ENCFF338YDG From DCC with URL https://www.encodeproject.org/files/ENCFF338YDG/?format=json&datastore=database&frame=edit\n",
      "2021-09-29 15:29:49,451:eu_debug:\t<<<<<< PATCHING /files/ENCFF338YDG/ To DCC with URL https://www.encodeproject.org/files/ENCFF338YDG and this payload:\n",
      "\n",
      "{\n",
      "  \"step_run\": \"tim-reddy:starrseq_bam_to_bigwig_deeptools_step_run\"\n",
      "}\n",
      "\n",
      "\n",
      "2021-09-29 15:29:50,032:eu_debug:\tSuccess.\n",
      "2021-09-29 15:29:50,033:eu_debug:\t\n",
      "IN patch()\n",
      "2021-09-29 15:29:50,033:eu_debug:\t>>>>>>GET files/ENCFF817HOX From DCC with URL https://www.encodeproject.org/files/ENCFF817HOX/?format=json&datastore=database&frame=edit\n",
      "2021-09-29 15:29:50,385:eu_debug:\t<<<<<< PATCHING /files/ENCFF817HOX/ To DCC with URL https://www.encodeproject.org/files/ENCFF817HOX and this payload:\n",
      "\n",
      "{\n",
      "  \"step_run\": \"tim-reddy:starrseq_bam_to_bigwig_deeptools_step_run\"\n",
      "}\n",
      "\n",
      "\n",
      "2021-09-29 15:29:50,954:eu_debug:\tSuccess.\n",
      "2021-09-29 15:29:50,955:eu_debug:\t\n",
      "IN patch()\n",
      "2021-09-29 15:29:50,955:eu_debug:\t>>>>>>GET files/ENCFF549QUG From DCC with URL https://www.encodeproject.org/files/ENCFF549QUG/?format=json&datastore=database&frame=edit\n",
      "2021-09-29 15:29:51,297:eu_debug:\t<<<<<< PATCHING /files/ENCFF549QUG/ To DCC with URL https://www.encodeproject.org/files/ENCFF549QUG and this payload:\n",
      "\n",
      "{\n",
      "  \"step_run\": \"tim-reddy:starrseq_bam_to_bed_macs_v2.1.0.20151222_step_run\"\n",
      "}\n",
      "\n",
      "\n",
      "2021-09-29 15:29:51,854:eu_debug:\tSuccess.\n",
      "2021-09-29 15:29:51,854:eu_debug:\t\n",
      "IN patch()\n",
      "2021-09-29 15:29:51,882:eu_debug:\t>>>>>>GET files/ENCFF454ZKK From DCC with URL https://www.encodeproject.org/files/ENCFF454ZKK/?format=json&datastore=database&frame=edit\n",
      "2021-09-29 15:29:52,213:eu_debug:\t<<<<<< PATCHING /files/ENCFF454ZKK/ To DCC with URL https://www.encodeproject.org/files/ENCFF454ZKK and this payload:\n",
      "\n",
      "{\n",
      "  \"step_run\": \"tim-reddy:starrseq_bam_to_bed_macs_v2.1.0.20151222_step_run\"\n",
      "}\n",
      "\n",
      "\n",
      "2021-09-29 15:29:52,764:eu_debug:\tSuccess.\n",
      "2021-09-29 15:29:52,765:eu_debug:\t\n",
      "IN patch()\n",
      "2021-09-29 15:29:52,765:eu_debug:\t>>>>>>GET files/ENCFF919UHO From DCC with URL https://www.encodeproject.org/files/ENCFF919UHO/?format=json&datastore=database&frame=edit\n",
      "2021-09-29 15:29:53,099:eu_debug:\t<<<<<< PATCHING /files/ENCFF919UHO/ To DCC with URL https://www.encodeproject.org/files/ENCFF919UHO and this payload:\n",
      "\n",
      "{\n",
      "  \"step_run\": \"tim-reddy:starrseq_bam_to_bed_macs_v2.1.0.20151222_step_run\"\n",
      "}\n",
      "\n",
      "\n",
      "2021-09-29 15:29:54,019:eu_debug:\tSuccess.\n"
     ]
    }
   ],
   "source": [
    "%%bash\n",
    "source /data/reddylab/software/miniconda3/bin/activate revathy_py3\n",
    "cd /data/reddylab/Revathy/collabs/Kari/ENCODE/metadata\n",
    "eu_register.py -m prod -p file -i kari_analysis_step_run.txt --patch "
   ]
  },
  {
   "cell_type": "code",
   "execution_count": 6,
   "metadata": {},
   "outputs": [],
   "source": [
    "%%bash\n",
    "zcat /data/reddylab/Revathy/collabs/Kari/ENCODE/data/wgSTARRseq_k562_kmer36_fdr0.05_CRADLE_peaks.narrowPeak.gz \\\n",
    "| tail -n+2 \\\n",
    "| awk -vOFS=\"\\t\" '{print $1, $2, $3, $4, '100', $6, \".\", $7, $10, $11}' \\\n",
    "| gzip -c \\\n",
    "> /data/reddylab/Revathy/collabs/Kari/ENCODE/data/wgSTARRseq_k562_kmer36_fdr0.05_CRADLE_peaks.bed.gz"
   ]
  },
  {
   "cell_type": "code",
   "execution_count": 2,
   "metadata": {},
   "outputs": [
    {
     "name": "stdout",
     "output_type": "stream",
     "text": [
      "-rw-rw-r-- 1 rv103 reddylab 627K Nov 21 10:29 /data/reddylab/Revathy/collabs/Kari/ENCODE/data/wgSTARRseq_k562_kmer36_fdr0.05_CRADLE_peaks.bed.gz\r\n"
     ]
    }
   ],
   "source": [
    "!ls -lah /data/reddylab/Revathy/collabs/Kari/ENCODE/data/wgSTARRseq_k562_kmer36_fdr0.05_CRADLE_peaks.bed.gz"
   ]
  },
  {
   "cell_type": "code",
   "execution_count": 8,
   "metadata": {},
   "outputs": [
    {
     "name": "stdout",
     "output_type": "stream",
     "text": [
      "chr1\t492302\t492378\tchr1:492302-492378\t100\t.\t.\t-54\tnan\t\r\n",
      "chr1\t844088\t844138\tchr1:844088-844138\t100\t.\t.\t113\tnan\t\r\n",
      "chr1\t869788\t870038\tchr1:869788-870038\t100\t.\t.\t-107\tnan\t\r\n",
      "chr1\t902870\t902920\tchr1:902870-902920\t100\t.\t.\t80\tnan\t\r\n",
      "chr1\t913038\t913238\tchr1:913038-913238\t100\t.\t.\t105\tnan\t\r\n",
      "chr1\t925588\t925888\tchr1:925588-925888\t100\t.\t.\t-100\tnan\t\r\n",
      "chr1\t930538\t930588\tchr1:930538-930588\t100\t.\t.\t-34\tnan\t\r\n",
      "chr1\t931138\t931188\tchr1:931138-931188\t100\t.\t.\t-59\tnan\t\r\n",
      "chr1\t936838\t936938\tchr1:936838-936938\t100\t.\t.\t117\tnan\t\r\n",
      "chr1\t941058\t941108\tchr1:941058-941108\t100\t.\t.\t92\tnan\t\r\n",
      "\r\n",
      "gzip: stdout: Broken pipe\r\n"
     ]
    }
   ],
   "source": [
    "!zcat /data/reddylab/Revathy/collabs/Kari/ENCODE/data/wgSTARRseq_k562_kmer36_fdr0.05_CRADLE_peaks.bed.gz | head"
   ]
  },
  {
   "cell_type": "code",
   "execution_count": 1,
   "metadata": {},
   "outputs": [
    {
     "name": "stdout",
     "output_type": "stream",
     "text": [
      "chr1\t17320\t17470\tchr1:17320-17470\t.\t.\t-65\t2.92\t2.0\tnan\n",
      "chr1\t492302\t492378\tchr1:492302-492378\t.\t.\t-54\t2.81\t2.33\tnan\n",
      "chr1\t844088\t844138\tchr1:844088-844138\t.\t.\t113\t3.07\t2.29\tnan\n",
      "chr1\t869788\t870038\tchr1:869788-870038\t.\t.\t-107\t3.89\t3.11\tnan\n",
      "chr1\t902870\t902920\tchr1:902870-902920\t.\t.\t80\t3.55\t2.31\tnan\n",
      "chr1\t913038\t913238\tchr1:913038-913238\t.\t.\t105\t3.03\t2.25\tnan\n",
      "chr1\t925588\t925888\tchr1:925588-925888\t.\t.\t-100\t2.59\t1.97\tnan\n",
      "chr1\t930538\t930588\tchr1:930538-930588\t.\t.\t-34\t3.89\t2.63\tnan\n",
      "chr1\t931138\t931188\tchr1:931138-931188\t.\t.\t-59\t3.07\t2.12\tnan\n",
      "chr1\t936838\t936938\tchr1:936838-936938\t.\t.\t117\t3.18\t2.1\tnan\n"
     ]
    }
   ],
   "source": [
    "%%bash\n",
    "zcat /data/reddylab/Revathy/collabs/Kari/ENCODE/data/wgSTARRseq_k562_kmer36_fdr0.05_CRADLE_peaks.narrowPeak.gz \\\n",
    "| head"
   ]
  },
  {
   "cell_type": "code",
   "execution_count": 2,
   "metadata": {},
   "outputs": [
    {
     "name": "stdout",
     "output_type": "stream",
     "text": [
      "chr\tstart\tend\tname\tscore\tstrand\teffectSize\tinputCount\toutputCount\t-log(pvalue)\t-log(qvalue)\tcohen's_d\r\n",
      "chr1\t17320\t17470\tchr1:17320-17470\t.\t.\t-65\t-59\t-125\t2.92\t2.0\tnan\r\n",
      "chr1\t492302\t492378\tchr1:492302-492378\t.\t.\t-54\t-42\t-96\t2.81\t2.33\tnan\r\n",
      "chr1\t844088\t844138\tchr1:844088-844138\t.\t.\t113\t-35\t77\t3.07\t2.29\tnan\r\n",
      "chr1\t869788\t870038\tchr1:869788-870038\t.\t.\t-107\t-17\t-124\t3.89\t3.11\tnan\r\n",
      "chr1\t902870\t902920\tchr1:902870-902920\t.\t.\t80\t-24\t56\t3.55\t2.31\tnan\r\n",
      "chr1\t913038\t913238\tchr1:913038-913238\t.\t.\t105\t-36\t69\t3.03\t2.25\tnan\r\n",
      "chr1\t925588\t925888\tchr1:925588-925888\t.\t.\t-100\t-35\t-136\t2.59\t1.97\tnan\r\n",
      "chr1\t930538\t930588\tchr1:930538-930588\t.\t.\t-34\t-26\t-60\t3.89\t2.63\tnan\r\n",
      "chr1\t931138\t931188\tchr1:931138-931188\t.\t.\t-59\t-74\t-134\t3.07\t2.12\tnan\r\n"
     ]
    }
   ],
   "source": [
    "!head /data/reddylab/kstrouse/superstarr/output_libs/A001_K562/CRADLE/CRADLEcorr_kmer36/peaks/fdr0.05/CRADLE_peaks"
   ]
  },
  {
   "cell_type": "code",
   "execution_count": 1,
   "metadata": {},
   "outputs": [
    {
     "name": "stdout",
     "output_type": "stream",
     "text": [
      "/data/reddylab/kstrouse/superstarr/output_libs/A001_K562/CRADLE/CRADLEcorr_kmer36/cradle_corrected_1/A001.f3q10.sorted.dedup.raw_corrected.bw\n",
      "/data/reddylab/kstrouse/superstarr/output_libs/A001_K562/CRADLE/CRADLEcorr_kmer36/cradle_corrected_1/A001-K562-rep1.f3q10.sorted.dedup.raw_corrected.bw\n",
      "/data/reddylab/kstrouse/superstarr/output_libs/A001_K562/CRADLE/CRADLEcorr_kmer36/cradle_corrected_2/A001-K562-rep2.f3q10.sorted.dedup.raw_corrected.bw\n",
      "/data/reddylab/kstrouse/superstarr/output_libs/A001_K562/CRADLE/CRADLEcorr_kmer36/cradle_corrected_3/A001-K562-rep3.f3q10.sorted.dedup.raw_corrected.bw\n"
     ]
    }
   ],
   "source": [
    "%%bash\n",
    "ls /data/reddylab/kstrouse/superstarr/output_libs/A001_K562/CRADLE/CRADLEcorr_kmer36/cradle_corrected_1/A001.f3q10.sorted.dedup.raw_corrected.bw \\\n",
    "/data/reddylab/kstrouse/superstarr/output_libs/A001_K562/CRADLE/CRADLEcorr_kmer36/cradle_corrected_1/A001-K562-rep1.f3q10.sorted.dedup.raw_corrected.bw \\\n",
    "/data/reddylab/kstrouse/superstarr/output_libs/A001_K562/CRADLE/CRADLEcorr_kmer36/cradle_corrected_2/A001-K562-rep2.f3q10.sorted.dedup.raw_corrected.bw \\\n",
    "/data/reddylab/kstrouse/superstarr/output_libs/A001_K562/CRADLE/CRADLEcorr_kmer36/cradle_corrected_3/A001-K562-rep3.f3q10.sorted.dedup.raw_corrected.bw \\"
   ]
  },
  {
   "cell_type": "code",
   "execution_count": null,
   "metadata": {},
   "outputs": [],
   "source": []
  }
 ],
 "metadata": {
  "kernelspec": {
   "display_name": "Python3 (revathy)",
   "language": "python",
   "name": "revathy_py3"
  },
  "language_info": {
   "codemirror_mode": {
    "name": "ipython",
    "version": 3
   },
   "file_extension": ".py",
   "mimetype": "text/x-python",
   "name": "python",
   "nbconvert_exporter": "python",
   "pygments_lexer": "ipython3",
   "version": "3.5.4"
  }
 },
 "nbformat": 4,
 "nbformat_minor": 2
}
