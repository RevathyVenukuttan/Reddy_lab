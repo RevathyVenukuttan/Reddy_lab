{
 "cells": [
  {
   "cell_type": "markdown",
   "metadata": {},
   "source": [
    "#### Recreate bam for the all pooled subset of ATAC-STARRseq"
   ]
  },
  {
   "cell_type": "code",
   "execution_count": 1,
   "metadata": {},
   "outputs": [
    {
     "name": "stdout",
     "output_type": "stream",
     "text": [
      "Submitted batch job 29037966\n"
     ]
    }
   ],
   "source": [
    "%%bash\n",
    "mkdir -p /data/reddylab/Revathy/collabs/Keith/ENCODE_submission/data\n",
    "source /data/reddylab/software/miniconda3/bin/activate alex_py3\n",
    "sbatch -p all \\\n",
    "    --mem 16G \\\n",
    "    -o /data/reddylab/Revathy/collabs/Keith/ENCODE_submission/logs/recreate_bams_new.out \\\n",
    "    <<'EOF'\n",
    "#!/bin/bash\n",
    "BAMS=(\\\n",
    "/data/reddylab/Keith/encode4_duke/processing/starr_seq/201109_KS151_Th17ASTARR_pool2-pe-umis/KS151_Th17_ASTARR_pool_rep1.f3q10.sorted.with_umis.dups_marked.bam \\\n",
    ")\n",
    "BAM=${BAMS[${SLURM_ARRAY_TASK_ID}]}\n",
    "module load samtools\n",
    "samtools view -h ${BAM} \\\n",
    "| sed 's@JH584295.1@chr4_JH584295_random@;s@JH584292.1@chr4_JH584292_random@;s@GL456368.1@chrUn_GL456368@;s@GL456396.1@chrUn_GL456396@;s@GL456359.1@chrUn_GL456359@;s@GL456382.1@chrUn_GL456382@;s@GL456392.1@chrUn_GL456392@;s@GL456394.1@chrUn_GL456394@;s@GL456390.1@chrUn_GL456390@;s@GL456387.1@chrUn_GL456387@;s@GL456381.1@chrUn_GL456381@;s@GL456370.1@chrUn_GL456370@;s@GL456372.1@chrUn_GL456372@;s@GL456389.1@chrUn_GL456389@;s@GL456378.1@chrUn_GL456378@;s@GL456360.1@chrUn_GL456360@;s@GL456385.1@chrUn_GL456385@;s@GL456383.1@chrUn_GL456383@;s@GL456213.1@chr1_GL456213_random@;s@GL456239.1@chrUn_GL456239@;s@GL456367.1@chrUn_GL456367@;s@GL456366.1@chrUn_GL456366@;s@GL456393.1@chrUn_GL456393@;s@GL456216.1@chr4_GL456216_random@;s@GL456379.1@chrUn_GL456379@;s@JH584304.1@chrUn_JH584304@;s@GL456212.1@chr1_GL456212_random@;s@JH584302.1@chrY_JH584302_random@;s@JH584303.1@chrY_JH584303_random@;s@GL456210.1@chr1_GL456210_random@;s@GL456219.1@chr7_GL456219_random@;s@JH584300.1@chrY_JH584300_random@;s@JH584298.1@chr5_JH584298_random@;s@JH584294.1@chr4_JH584294_random@;s@GL456354.1@chr5_GL456354_random@;s@JH584296.1@chr5_JH584296_random@;s@JH584297.1@chr5_JH584297_random@;s@GL456221.1@chr1_GL456221_random@;s@JH584293.1@chr4_JH584293_random@;s@GL456350.1@chr4_GL456350_random@;s@GL456211.1@chr1_GL456211_random@;s@JH584301.1@chrY_JH584301_random@;s@GL456233.1@chrX_GL456233_random@;s@JH584299.1@chr5_JH584299_random@;' \\\n",
    "| samtools view -b \\\n",
    "> /data/reddylab/Revathy/collabs/Keith/ENCODE_submission/data/KS151_Th17_ASTARR_pool_rep1.f3q10.sorted.with_umis.dups_marked.encode.bam \n",
    "EOF"
   ]
  },
  {
   "cell_type": "code",
   "execution_count": 5,
   "metadata": {},
   "outputs": [
    {
     "name": "stdout",
     "output_type": "stream",
     "text": [
      "KS151_AllCD4Pooled_ASTARR_Input_rep1.masked.dups_marked.bam\n"
     ]
    }
   ],
   "source": [
    "%%bash\n",
    "BAM=/data/reddylab/Keith/encode4_duke/processing/atac_seq/210528_KS151_ASTARRPooled_Input_NextSeq-pe-blacklist-removal/KS151_AllCD4Pooled_ASTARR_Input_rep1.masked.dups_marked.bam\n",
    "BAM_NAME=$(echo $BAM | cut -d\"/\" -f9)\n",
    "echo $BAM_NAME"
   ]
  },
  {
   "cell_type": "markdown",
   "metadata": {},
   "source": [
    "#### Recreate BigWig for the All polled subset of ATAC-STARRseq data\n"
   ]
  },
  {
   "cell_type": "code",
   "execution_count": 5,
   "metadata": {},
   "outputs": [
    {
     "name": "stdout",
     "output_type": "stream",
     "text": [
      "Submitted batch job 26067047\n"
     ]
    }
   ],
   "source": [
    "%%bash\n",
    "source /data/reddylab/software/miniconda3/bin/activate alex_py3\n",
    "sbatch -p all \\\n",
    "    --array=0-2 \\\n",
    "    --mem 16G \\\n",
    "    -o /data/reddylab/Revathy/collabs/Keith/ENCODE_submission/logs/recreate_bigWigs_1.%a.out \\\n",
    "    <<'EOF'\n",
    "#!/bin/bash\n",
    "BIGWIGS=(\\\n",
    "/data/reddylab/Keith/encode4_duke/processing/atac_seq/210528_KS151_ASTARRPooled_Input_NextSeq-pe-blacklist-removal/KS151_AllCD4Pooled_ASTARR_retransformed_input_rep4.masked.dedup.sorted.rpkm.bw \\\n",
    "/data/reddylab/Keith/encode4_duke/processing/atac_seq/210528_KS151_ASTARRPooled_Input_NextSeq-pe-blacklist-removal/KS151_AllCD4Pooled_ASTARR_retransformed_input_rep5.masked.dedup.sorted.rpkm.bw \\\n",
    "/data/reddylab/Keith/encode4_duke/processing/atac_seq/210528_KS151_ASTARRPooled_Input_NextSeq-pe-blacklist-removal/KS151_AllCD4Pooled_ASTARR_retransformed_input_rep6.masked.dedup.sorted.rpkm.bw \\\n",
    ")\n",
    "BIGWIG=${BIGWIGS[${SLURM_ARRAY_TASK_ID}]}\n",
    "BIGWIG_NAME=$(echo $BIGWIG | cut -d\"/\" -f9)\n",
    "TMPBDG=/data/reddylab/Revathy/collabs/Keith/ENCODE_submission/data/${BIGWIG_NAME/.bw/.bdg}\n",
    "\n",
    "# bigWigToBedGraph\n",
    "/data/common/shared_conda_envs/ucsc/bin/bigWigToBedGraph \\\n",
    "    ${BIGWIG} \\\n",
    "    ${TMPBDG}\n",
    "# Rename chromosomes as needed, and sort again by chromosome and start coordinate\n",
    "cat ${TMPBDG} \\\n",
    "| sed 's@JH584295.1@chr4_JH584295_random@;s@JH584292.1@chr4_JH584292_random@;s@GL456368.1@chrUn_GL456368@;s@GL456396.1@chrUn_GL456396@;s@GL456359.1@chrUn_GL456359@;s@GL456382.1@chrUn_GL456382@;s@GL456392.1@chrUn_GL456392@;s@GL456394.1@chrUn_GL456394@;s@GL456390.1@chrUn_GL456390@;s@GL456387.1@chrUn_GL456387@;s@GL456381.1@chrUn_GL456381@;s@GL456370.1@chrUn_GL456370@;s@GL456372.1@chrUn_GL456372@;s@GL456389.1@chrUn_GL456389@;s@GL456378.1@chrUn_GL456378@;s@GL456360.1@chrUn_GL456360@;s@GL456385.1@chrUn_GL456385@;s@GL456383.1@chrUn_GL456383@;s@GL456213.1@chr1_GL456213_random@;s@GL456239.1@chrUn_GL456239@;s@GL456367.1@chrUn_GL456367@;s@GL456366.1@chrUn_GL456366@;s@GL456393.1@chrUn_GL456393@;s@GL456216.1@chr4_GL456216_random@;s@GL456379.1@chrUn_GL456379@;s@JH584304.1@chrUn_JH584304@;s@GL456212.1@chr1_GL456212_random@;s@JH584302.1@chrY_JH584302_random@;s@JH584303.1@chrY_JH584303_random@;s@GL456210.1@chr1_GL456210_random@;s@GL456219.1@chr7_GL456219_random@;s@JH584300.1@chrY_JH584300_random@;s@JH584298.1@chr5_JH584298_random@;s@JH584294.1@chr4_JH584294_random@;s@GL456354.1@chr5_GL456354_random@;s@JH584296.1@chr5_JH584296_random@;s@JH584297.1@chr5_JH584297_random@;s@GL456221.1@chr1_GL456221_random@;s@JH584293.1@chr4_JH584293_random@;s@GL456350.1@chr4_GL456350_random@;s@GL456211.1@chr1_GL456211_random@;s@JH584301.1@chrY_JH584301_random@;s@GL456233.1@chrX_GL456233_random@;s@JH584299.1@chr5_JH584299_random@;' \\\n",
    "| sort -k1,1 -k2,2n \\\n",
    "> ${TMPBDG/.bdg/.1.bdg}\n",
    "rm -f ${TMPBDG}\n",
    "# bedGraphToBigWig\n",
    "/data/common/shared_conda_envs/ucsc/bin/bedGraphToBigWig \\\n",
    "    ${TMPBDG/.bdg/.1.bdg} \\\n",
    "    /data/reddylab/Reference_Data/Genomes/GRCm38.p6/mm10_no_alt_analysis_set_ENCODE.chrom_sizes.txt \\\n",
    "    ${TMPBDG/.bdg/.encode.bw}\n",
    "rm -f ${TMPBDG/.bdg/.1.bdg}\n",
    "EOF\n"
   ]
  },
  {
   "cell_type": "markdown",
   "metadata": {},
   "source": [
    "#### Points to note:\n",
    " * For the bams from the all-pooled subset, 3 bam files did not run, there was an error:<br>\n",
    "**[E::sam_parse1] incomplete aux field <br>\n",
    "[W::sam_read1] parse error at line 73 <br>\n",
    "[main_samview] truncated file.**\n",
    "\n",
    "Files that did not run:<br>\n",
    "- /data/reddylab/Keith/encode4_duke/processing/starr_seq/201109_KS151_Th17ASTARR_pool2-pe-umis/KS151_Th17_ASTARR_pool_rep1.f3q10.sorted.with_umis.dups_marked.bam\n",
    "- /data/reddylab/Keith/encode4_duke/processing/starr_seq/201109_KS151_Th17ASTARR_pool2-pe-umis/KS151_Th17_ASTARR_pool_rep2.f3q10.sorted.with_umis.dups_marked.bam\n",
    "- /data/reddylab/Keith/encode4_duke/processing/starr_seq/201109_KS151_Th17ASTARR_pool2-pe-umis/KS151_Th17_ASTARR_pool_rep3.f3q10.sorted.with_umis.dups_marked.bam\n",
    "- /data/reddylab/Keith/encode4_duke/processing/starr_seq/201109_KS151_Th17ASTARR_pool2-pe-umis/KS148_Th17_ASTARR_Th17Inp_rep1.f3q10.sorted.with_umis.dups_marked.bam\n",
    "\n",
    "**Re-creating all the bigWigs by changing the chromosome name was successful**"
   ]
  },
  {
   "cell_type": "code",
   "execution_count": null,
   "metadata": {},
   "outputs": [],
   "source": []
  },
  {
   "cell_type": "markdown",
   "metadata": {},
   "source": [
    "#### Recreate bams for the Th17 atac-starrseq data"
   ]
  },
  {
   "cell_type": "code",
   "execution_count": 1,
   "metadata": {},
   "outputs": [
    {
     "name": "stdout",
     "output_type": "stream",
     "text": [
      "Submitted batch job 29127139\n"
     ]
    }
   ],
   "source": [
    "%%bash\n",
    "source /data/reddylab/software/miniconda3/bin/activate alex_py3\n",
    "sbatch -p all \\\n",
    "    --mem 100G \\\n",
    "    -o /data/reddylab/Revathy/collabs/Keith/ENCODE_submission/logs/recreate_bams_Th17.out \\\n",
    "    <<'EOF'\n",
    "#!/bin/bash\n",
    "BAM=/data/reddylab/Keith/encode4_duke/processing/starr_seq/220207_KS151_Th17ASTARR_pool2-pe-umis/KS149_Th17_ASTARR_Th17Inp_rep2.f3q10.sorted.with_umis.dups_marked.bam\n",
    "BAM_NAME=$(echo $BAM | cut -d\"/\" -f9)\n",
    "module load samtools\n",
    "samtools view -h ${BAM} \\\n",
    "| sed 's@JH584295.1@chr4_JH584295_random@;s@JH584292.1@chr4_JH584292_random@;s@GL456368.1@chrUn_GL456368@;s@GL456396.1@chrUn_GL456396@;s@GL456359.1@chrUn_GL456359@;s@GL456382.1@chrUn_GL456382@;s@GL456392.1@chrUn_GL456392@;s@GL456394.1@chrUn_GL456394@;s@GL456390.1@chrUn_GL456390@;s@GL456387.1@chrUn_GL456387@;s@GL456381.1@chrUn_GL456381@;s@GL456370.1@chrUn_GL456370@;s@GL456372.1@chrUn_GL456372@;s@GL456389.1@chrUn_GL456389@;s@GL456378.1@chrUn_GL456378@;s@GL456360.1@chrUn_GL456360@;s@GL456385.1@chrUn_GL456385@;s@GL456383.1@chrUn_GL456383@;s@GL456213.1@chr1_GL456213_random@;s@GL456239.1@chrUn_GL456239@;s@GL456367.1@chrUn_GL456367@;s@GL456366.1@chrUn_GL456366@;s@GL456393.1@chrUn_GL456393@;s@GL456216.1@chr4_GL456216_random@;s@GL456379.1@chrUn_GL456379@;s@JH584304.1@chrUn_JH584304@;s@GL456212.1@chr1_GL456212_random@;s@JH584302.1@chrY_JH584302_random@;s@JH584303.1@chrY_JH584303_random@;s@GL456210.1@chr1_GL456210_random@;s@GL456219.1@chr7_GL456219_random@;s@JH584300.1@chrY_JH584300_random@;s@JH584298.1@chr5_JH584298_random@;s@JH584294.1@chr4_JH584294_random@;s@GL456354.1@chr5_GL456354_random@;s@JH584296.1@chr5_JH584296_random@;s@JH584297.1@chr5_JH584297_random@;s@GL456221.1@chr1_GL456221_random@;s@JH584293.1@chr4_JH584293_random@;s@GL456350.1@chr4_GL456350_random@;s@GL456211.1@chr1_GL456211_random@;s@JH584301.1@chrY_JH584301_random@;s@GL456233.1@chrX_GL456233_random@;s@JH584299.1@chr5_JH584299_random@;' \\\n",
    "| samtools view -b \\\n",
    "> /data/reddylab/Revathy/collabs/Keith/ENCODE_submission/data/Th17/${BAM_NAME/.bam/.encode.bam} \n",
    "EOF"
   ]
  },
  {
   "cell_type": "code",
   "execution_count": 5,
   "metadata": {},
   "outputs": [],
   "source": [
    "%%bash\n",
    "source /data/reddylab/software/miniconda3/bin/activate alex_py3\n",
    "BAM=/data/reddylab/Keith/encode4_duke/processing/starr_seq/220207_KS151_Th17ASTARR_pool2-pe-umis/KS149_Th17_ASTARR_Th17Inp_rep2.f3q10.sorted.with_umis.dups_marked.bam\n",
    "BAM_NAME=$(echo $BAM | cut -d\"/\" -f9)\n",
    "module load samtools\n",
    "samtools view -h ${BAM} \\\n",
    "| sed 's@JH584295.1@chr4_JH584295_random@;s@JH584292.1@chr4_JH584292_random@;s@GL456368.1@chrUn_GL456368@;s@GL456396.1@chrUn_GL456396@;s@GL456359.1@chrUn_GL456359@;s@GL456382.1@chrUn_GL456382@;s@GL456392.1@chrUn_GL456392@;s@GL456394.1@chrUn_GL456394@;s@GL456390.1@chrUn_GL456390@;s@GL456387.1@chrUn_GL456387@;s@GL456381.1@chrUn_GL456381@;s@GL456370.1@chrUn_GL456370@;s@GL456372.1@chrUn_GL456372@;s@GL456389.1@chrUn_GL456389@;s@GL456378.1@chrUn_GL456378@;s@GL456360.1@chrUn_GL456360@;s@GL456385.1@chrUn_GL456385@;s@GL456383.1@chrUn_GL456383@;s@GL456213.1@chr1_GL456213_random@;s@GL456239.1@chrUn_GL456239@;s@GL456367.1@chrUn_GL456367@;s@GL456366.1@chrUn_GL456366@;s@GL456393.1@chrUn_GL456393@;s@GL456216.1@chr4_GL456216_random@;s@GL456379.1@chrUn_GL456379@;s@JH584304.1@chrUn_JH584304@;s@GL456212.1@chr1_GL456212_random@;s@JH584302.1@chrY_JH584302_random@;s@JH584303.1@chrY_JH584303_random@;s@GL456210.1@chr1_GL456210_random@;s@GL456219.1@chr7_GL456219_random@;s@JH584300.1@chrY_JH584300_random@;s@JH584298.1@chr5_JH584298_random@;s@JH584294.1@chr4_JH584294_random@;s@GL456354.1@chr5_GL456354_random@;s@JH584296.1@chr5_JH584296_random@;s@JH584297.1@chr5_JH584297_random@;s@GL456221.1@chr1_GL456221_random@;s@JH584293.1@chr4_JH584293_random@;s@GL456350.1@chr4_GL456350_random@;s@GL456211.1@chr1_GL456211_random@;s@JH584301.1@chrY_JH584301_random@;s@GL456233.1@chrX_GL456233_random@;s@JH584299.1@chr5_JH584299_random@;' \\\n",
    "| samtools view -b \\\n",
    "> /data/reddylab/Revathy/collabs/Keith/ENCODE_submission/data/Th17/${BAM_NAME/.bam/.encode.bam} "
   ]
  },
  {
   "cell_type": "code",
   "execution_count": null,
   "metadata": {},
   "outputs": [],
   "source": [
    "/data/reddylab/Keith/encode4_duke/processing/starr_seq/201109_KS151_Th17ASTARR_pool2-pe-umis/KS149_Th17_ASTARR_Th17Inp_rep2.f3q10.sorted.with_umis.dups_marked.bam \\"
   ]
  },
  {
   "cell_type": "markdown",
   "metadata": {},
   "source": [
    "#### BigWigs for the Th17 ATAC-STARRseq data"
   ]
  },
  {
   "cell_type": "code",
   "execution_count": 1,
   "metadata": {},
   "outputs": [
    {
     "name": "stdout",
     "output_type": "stream",
     "text": [
      "Submitted batch job 26118417\n"
     ]
    }
   ],
   "source": [
    "%%bash\n",
    "source /data/reddylab/software/miniconda3/bin/activate alex_py3\n",
    "sbatch -p all \\\n",
    "    --array=0-5 \\\n",
    "    --mem 16G \\\n",
    "    -o /data/reddylab/Revathy/collabs/Keith/ENCODE_submission/logs/recreate_bigWigs_Th17.%a.out \\\n",
    "    <<'EOF'\n",
    "#!/bin/bash\n",
    "BIGWIGS=(\\\n",
    "/data/reddylab/Keith/encode4_duke/processing/atac_seq/Keith_6683_201201A5-pe-blacklist-removal/KS136_Th17ASTARRInput_rep1.masked.dedup.sorted.rpkm.bw \\\n",
    "/data/reddylab/Keith/encode4_duke/processing/atac_seq/Keith_6683_201201A5-pe-blacklist-removal/KS136_Th17ASTARRInput_rep2.masked.dedup.sorted.rpkm.bw \\\n",
    "/data/reddylab/Keith/encode4_duke/processing/atac_seq/Keith_6683_201201A5-pe-blacklist-removal/KS136_Th17ASTARRInput_rep3.masked.dedup.sorted.rpkm.bw \\\n",
    "/data/reddylab/Keith/encode4_duke/processing/starr_seq/201109_KS151_Th17ASTARR_pool2-pe-umis/KS148_Th17_ASTARR_Th17Inp_rep1.f3q10.sorted.with_umis.dedup.rpkm.bw \\\n",
    "/data/reddylab/Keith/encode4_duke/processing/starr_seq/201109_KS151_Th17ASTARR_pool2-pe-umis/KS149_Th17_ASTARR_Th17Inp_rep2.f3q10.sorted.with_umis.dedup.rpkm.bw \\\n",
    "/data/reddylab/Keith/encode4_duke/processing/starr_seq/210528_KS163_ASTARRPooled_Output_NextSeq-pe-umis/KS163_Th17_Th17ASTARR_output_rep4.f3q10.sorted.with_umis.dedup.rpkm.bw\n",
    ")\n",
    "BIGWIG=${BIGWIGS[${SLURM_ARRAY_TASK_ID}]}\n",
    "BIGWIG_NAME=$(echo $BIGWIG | cut -d\"/\" -f9)\n",
    "TMPBDG=/data/reddylab/Revathy/collabs/Keith/ENCODE_submission/data/Th17/${BIGWIG_NAME/.bw/.bdg}\n",
    "\n",
    "# bigWigToBedGraph\n",
    "/data/common/shared_conda_envs/ucsc/bin/bigWigToBedGraph \\\n",
    "    ${BIGWIG} \\\n",
    "    ${TMPBDG}\n",
    "# Rename chromosomes as needed, and sort again by chromosome and start coordinate\n",
    "cat ${TMPBDG} \\\n",
    "| sed 's@JH584295.1@chr4_JH584295_random@;s@JH584292.1@chr4_JH584292_random@;s@GL456368.1@chrUn_GL456368@;s@GL456396.1@chrUn_GL456396@;s@GL456359.1@chrUn_GL456359@;s@GL456382.1@chrUn_GL456382@;s@GL456392.1@chrUn_GL456392@;s@GL456394.1@chrUn_GL456394@;s@GL456390.1@chrUn_GL456390@;s@GL456387.1@chrUn_GL456387@;s@GL456381.1@chrUn_GL456381@;s@GL456370.1@chrUn_GL456370@;s@GL456372.1@chrUn_GL456372@;s@GL456389.1@chrUn_GL456389@;s@GL456378.1@chrUn_GL456378@;s@GL456360.1@chrUn_GL456360@;s@GL456385.1@chrUn_GL456385@;s@GL456383.1@chrUn_GL456383@;s@GL456213.1@chr1_GL456213_random@;s@GL456239.1@chrUn_GL456239@;s@GL456367.1@chrUn_GL456367@;s@GL456366.1@chrUn_GL456366@;s@GL456393.1@chrUn_GL456393@;s@GL456216.1@chr4_GL456216_random@;s@GL456379.1@chrUn_GL456379@;s@JH584304.1@chrUn_JH584304@;s@GL456212.1@chr1_GL456212_random@;s@JH584302.1@chrY_JH584302_random@;s@JH584303.1@chrY_JH584303_random@;s@GL456210.1@chr1_GL456210_random@;s@GL456219.1@chr7_GL456219_random@;s@JH584300.1@chrY_JH584300_random@;s@JH584298.1@chr5_JH584298_random@;s@JH584294.1@chr4_JH584294_random@;s@GL456354.1@chr5_GL456354_random@;s@JH584296.1@chr5_JH584296_random@;s@JH584297.1@chr5_JH584297_random@;s@GL456221.1@chr1_GL456221_random@;s@JH584293.1@chr4_JH584293_random@;s@GL456350.1@chr4_GL456350_random@;s@GL456211.1@chr1_GL456211_random@;s@JH584301.1@chrY_JH584301_random@;s@GL456233.1@chrX_GL456233_random@;s@JH584299.1@chr5_JH584299_random@;' \\\n",
    "| sort -k1,1 -k2,2n \\\n",
    "> ${TMPBDG/.bdg/.1.bdg}\n",
    "rm -f ${TMPBDG}\n",
    "# bedGraphToBigWig\n",
    "/data/common/shared_conda_envs/ucsc/bin/bedGraphToBigWig \\\n",
    "    ${TMPBDG/.bdg/.1.bdg} \\\n",
    "    /data/reddylab/Reference_Data/Genomes/GRCm38.p6/mm10_no_alt_analysis_set_ENCODE.chrom_sizes.txt \\\n",
    "    ${TMPBDG/.bdg/.encode.bw}\n",
    "rm -f ${TMPBDG/.bdg/.1.bdg}\n",
    "EOF\n"
   ]
  },
  {
   "cell_type": "markdown",
   "metadata": {},
   "source": [
    "### Check the bams submitted"
   ]
  },
  {
   "cell_type": "code",
   "execution_count": 2,
   "metadata": {},
   "outputs": [
    {
     "name": "stderr",
     "output_type": "stream",
     "text": [
      "  % Total    % Received % Xferd  Average Speed   Time    Time     Time  Current\n",
      "                                 Dload  Upload   Total   Spent    Left  Speed\n",
      "\r",
      "  0     0    0     0    0     0      0      0 --:--:-- --:--:-- --:--:--     0\r",
      "100 22894  100 22894    0     0  30711      0 --:--:-- --:--:-- --:--:-- 30730\n",
      "  % Total    % Received % Xferd  Average Speed   Time    Time     Time  Current\n",
      "                                 Dload  Upload   Total   Spent    Left  Speed\n",
      "\r",
      "  0     0    0     0    0     0      0      0 --:--:-- --:--:-- --:--:--     0\r",
      "  0     0    0     0    0     0      0      0 --:--:-- --:--:-- --:--:--     0\r",
      "100 22894  100 22894    0     0  36847      0 --:--:-- --:--:-- --:--:-- 36807\n",
      "  % Total    % Received % Xferd  Average Speed   Time    Time     Time  Current\n",
      "                                 Dload  Upload   Total   Spent    Left  Speed\n",
      "\r",
      "  0     0    0     0    0     0      0      0 --:--:-- --:--:-- --:--:--     0\r",
      "  0     0    0     0    0     0      0      0 --:--:-- --:--:-- --:--:--     0\r",
      "100 22894  100 22894    0     0  25959      0 --:--:-- --:--:-- --:--:-- 25956\n",
      "  % Total    % Received % Xferd  Average Speed   Time    Time     Time  Current\n",
      "                                 Dload  Upload   Total   Spent    Left  Speed\n",
      "\r",
      "  0     0    0     0    0     0      0      0 --:--:-- --:--:-- --:--:--     0\r",
      "  0     0    0     0    0     0      0      0 --:--:-- --:--:-- --:--:--     0\r",
      "100 22894  100 22894    0     0  25758      0 --:--:-- --:--:-- --:--:-- 25752\n"
     ]
    }
   ],
   "source": [
    "%%bash\n",
    "mkdir /data/reddylab/Revathy/collabs/Keith/ENCODE_submission/metadata/tmp\n",
    "cd /data/reddylab/Revathy/collabs/Keith/ENCODE_submission/metadata/tmp\n",
    "curl -SLo mmTh2.rep1.ENCFF464BLK.bam \\\n",
    "    https://www.encodeproject.org/files/ENCFF464BLK/@@download/ENCFF464BLK.bam\n",
    "curl -SLo mmTh2.rep2.ENCFF586ZAW.bam \\\n",
    "    https://www.encodeproject.org/files/ENCFF586ZAW/@@download/ENCFF586ZAW.bam\n",
    "curl -SLo mmTh17.rep1.ENCFF740KDN.bam \\\n",
    "    https://www.encodeproject.org/files/ENCFF740KDN/@@download/ENCFF740KDN.bam\n",
    "curl -SLo mmTh17.rep2.ENCFF269RKV.bam \\\n",
    "    https://www.encodeproject.org/files/ENCFF269RKV/@@download/ENCFF269RKV.bam"
   ]
  },
  {
   "cell_type": "code",
   "execution_count": 3,
   "metadata": {},
   "outputs": [
    {
     "name": "stdout",
     "output_type": "stream",
     "text": [
      "e6734d5cbf930dda8a8ff3d3e4c8b072  mmTh17.rep1.ENCFF740KDN.bam\n",
      "7db9d046812b479f2be3505647478d98  mmTh17.rep2.ENCFF269RKV.bam\n",
      "b75df9891c23af38bb74a0d076fe07ce  mmTh2.rep1.ENCFF464BLK.bam\n",
      "1eba3cdbe1591f420b98d93602c3e3c4  mmTh2.rep2.ENCFF586ZAW.bam\n"
     ]
    }
   ],
   "source": [
    "%%bash\n",
    "cd /data/reddylab/Revathy/collabs/Keith/ENCODE_submission/metadata/tmp\n",
    "md5sum *.bam"
   ]
  },
  {
   "cell_type": "code",
   "execution_count": 4,
   "metadata": {},
   "outputs": [
    {
     "name": "stdout",
     "output_type": "stream",
     "text": [
      "ea7196c61e662a0a514c74cc3ed60f35  /data/reddylab/Revathy/collabs/Keith/ENCODE_submission/data/KS180_Th2_pooledASTARR_output_rep1.f3q10.sorted.with_umis.dups_marked.encode.bam\r\n"
     ]
    }
   ],
   "source": [
    "!md5sum /data/reddylab/Revathy/collabs/Keith/ENCODE_submission/data/KS180_Th2_pooledASTARR_output_rep1.f3q10.sorted.with_umis.dups_marked.encode.bam"
   ]
  },
  {
   "cell_type": "code",
   "execution_count": 5,
   "metadata": {},
   "outputs": [
    {
     "name": "stdout",
     "output_type": "stream",
     "text": [
      "2a2d2debf311f7287e3a5d69589001eb  /data/reddylab/Revathy/collabs/Keith/ENCODE_submission/data/KS187_Th2_ASTARR_allPool_output_Rep2.f3q10.sorted.with_umis.dups_marked.encode.bam\r\n"
     ]
    }
   ],
   "source": [
    "!md5sum /data/reddylab/Revathy/collabs/Keith/ENCODE_submission/data/KS187_Th2_ASTARR_allPool_output_Rep2.f3q10.sorted.with_umis.dups_marked.encode.bam"
   ]
  },
  {
   "cell_type": "code",
   "execution_count": null,
   "metadata": {},
   "outputs": [],
   "source": [
    "2a2d2debf311f7287e3a5d69589001eb"
   ]
  }
 ],
 "metadata": {
  "kernelspec": {
   "display_name": "Python3 (revathy)",
   "language": "python",
   "name": "revathy_py3"
  },
  "language_info": {
   "codemirror_mode": {
    "name": "ipython",
    "version": 3
   },
   "file_extension": ".py",
   "mimetype": "text/x-python",
   "name": "python",
   "nbconvert_exporter": "python",
   "pygments_lexer": "ipython3",
   "version": "3.5.4"
  }
 },
 "nbformat": 4,
 "nbformat_minor": 5
}
