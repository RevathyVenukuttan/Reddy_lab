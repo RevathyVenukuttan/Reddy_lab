{
 "cells": [
  {
   "cell_type": "markdown",
   "metadata": {},
   "source": [
    "### Heatmap for ASTARR with inactive ASTARR that overlpas with the common background set"
   ]
  },
  {
   "cell_type": "code",
   "execution_count": null,
   "metadata": {},
   "outputs": [],
   "source": [
    "%%bash\n",
    "source /data/reddylab/software/miniconda3/bin/activate alex_py3\n",
    "sbatch \\\n",
    "    --exclude=dl-01 \\\n",
    "    --mem=128G \\\n",
    "    --cpus-per-task=16 \\\n",
    "    -o /data/reddylab/Revathy/collabs/Jamborees/fcc_capstone/logs/computeMatrix.ASTARR.active_vs_inactive.ianctive_from_common_background_set.GC_compared.log \\\n",
    "    <<'EOF'\n",
    "#!/bin/bash \n",
    "computeMatrix reference-point \\\n",
    "    --referencePoint center \\\n",
    "    --numberOfProcessors 16 \\\n",
    "    --binSize 10 \\\n",
    "    -S \\\n",
    "        /data/reddylab/Alex/encode4_duke/ipynbs/jamborees/20211206_MPRA_STARR_Jamboree/data/encode_data/K562.ENCFF914WIS.POLR2A.bw \\\n",
    "        /data/reddylab/Alex/encode4_duke/ipynbs/jamborees/20211206_MPRA_STARR_Jamboree/data/encode_data/K562.ENCFF756UVW.JUN.bw \\\n",
    "        /data/reddylab/Alex/encode4_duke/ipynbs/jamborees/20211206_MPRA_STARR_Jamboree/data/encode_data/K562.ENCFF336UPT.CTCF.bw \\\n",
    "        /data/reddylab/Revathy/collabs/Jamborees/fcc_capstone/data/encode_data/K562.ENCFF475BKW.SP1.bw \\\n",
    "        /data/reddylab/Alex/encode4_duke/ipynbs/jamborees/20211206_MPRA_STARR_Jamboree/data/encode_data/K562.ENCFF262TFX.ELK1.bw \\\n",
    "        /data/reddylab/Alex/encode4_duke/ipynbs/jamborees/20211206_MPRA_STARR_Jamboree/data/encode_data/K562.ENCFF590LGA.NRF1.bw \\\n",
    "        /data/reddylab/Revathy/collabs/Jamborees/fcc_capstone/data/encode_data/K562.ENCFF700NBW.TAL1.bw \\\n",
    "        /data/reddylab/Revathy/collabs/Jamborees/fcc_capstone/data/encode_data/K562.ENCFF331URE.GATA1.bw \\\n",
    "        /data/reddylab/Alex/encode4_duke/ipynbs/jamborees/20211206_MPRA_STARR_Jamboree/data/encode_data/K562.ENCFF398LBP.NFE2.bw \\\n",
    "        /data/reddylab/Alex/encode4_duke/ipynbs/jamborees/20211206_MPRA_STARR_Jamboree/data/encode_data/K562.ENCFF750TBY.KLF10.bw \\\n",
    "        /data/reddylab/Alex/encode4_duke/ipynbs/jamborees/20211206_MPRA_STARR_Jamboree/data/encode_data/K562.ENCFF183YBH.KLF16.bw \\\n",
    "        /data/reddylab/Revathy/collabs/Jamborees/fcc_capstone/data/encode_data/K562.ENCFF927TDC.YY1.bw \\\n",
    "        /data/reddylab/Alex/encode4_duke/ipynbs/jamborees/20211206_MPRA_STARR_Jamboree/data/encode_data/K562.ENCFF199FSE.ATF1.bw \\\n",
    "        /data/reddylab/Revathy/collabs/Jamborees/fcc_capstone/data/encode_data/K562.ENCFF325DSL.EP300.bw \\\n",
    "        /data/reddylab/Revathy/collabs/Jamborees/fcc_capstone/data/encode_data/K562.ENCFF538LAN.REST.bw \\\n",
    "        /data/reddylab/Revathy/collabs/Jamborees/fcc_capstone/data/encode_data/K562.ENCFF106ZRO.ZEB2.bw \\\n",
    "        /data/reddylab/Alex/encode4_duke/ipynbs/jamborees/20211206_MPRA_STARR_Jamboree/data/encode_data/K562.ENCFF469JMR.H3K27ac.bw \\\n",
    "        /data/reddylab/Alex/encode4_duke/ipynbs/jamborees/20211206_MPRA_STARR_Jamboree/data/encode_data/K562.ENCFF405ZDL.H3K4me3.bw \\\n",
    "        /data/reddylab/Alex/encode4_duke/ipynbs/jamborees/20211206_MPRA_STARR_Jamboree/data/encode_data/K562.ENCFF100FDI.H3K4me1.bw \\\n",
    "        /data/reddylab/Alex/encode4_duke/ipynbs/jamborees/20211206_MPRA_STARR_Jamboree/data/encode_data/K562.ENCFF357GNC.ATACseq.bw \\\n",
    "        /data/reddylab/Alex/encode4_duke/processing/starr_seq/210401_KS91_K562ASTARR_NovaSeq.hg38-pe-umis/KS91_K562_hg38_ASTARRseq_Output_rep4.log2.pseudo_10.bw \\\n",
    "        /data/reddylab/kstrouse/superstarr/output_libs/A001_K562/A001_K562_20210213/processing/starr_seq/Strouse_6825_210223A5-pe/A001-K562-rep2.f3q10.sorted.dedup.rpkm.bw \\\n",
    "        /data/reddylab/Alex/encode4_duke/ipynbs/jamborees/20220307_locusselect_nawg/data/WGSTARRseq.A001_K562.log2fc.rep2.log2.pseudo_10.bw \\\n",
    "        /data/reddylab/Revathy/collabs/Jamborees/fcc_capstone/data/bigWigs/CRISPRi_rAVG_log2FC_2.sloped400bp.bw \\\n",
    "    --samplesLabel \\\n",
    "        POLR2A \\\n",
    "        JUN \\\n",
    "        CTCF \\\n",
    "        SP1 \\\n",
    "        ELK1 \\\n",
    "        NRF1 \\\n",
    "        TAL1 \\\n",
    "        GATA1 \\\n",
    "        NFE2 \\\n",
    "        KLF10 \\\n",
    "        KLF16 \\\n",
    "        YY1 \\\n",
    "        ATF1 \\\n",
    "        EP300 \\\n",
    "        REST \\\n",
    "        ZEB2 \\\n",
    "        H3K27ac \\\n",
    "        H3K4me3 \\\n",
    "        H3K4me1 \\\n",
    "        ATACseq \\\n",
    "        ASTARR_log2 \\\n",
    "        WG_STARR \\\n",
    "        WG_STARR_log2 \\\n",
    "        CRISPRi_sloped400bp \\\n",
    "    -R \\\n",
    "        /data/reddylab/Revathy/collabs/Jamborees/fcc_capstone/data/Junke_ASTARR.30bp_bin.merged_sig_up_in_each_orientation.random5000.bed \\\n",
    "        /data/reddylab/Revathy/collabs/Jamborees/fcc_capstone/data/Junke_enhancer_calls_5Oct/processed/bin_level/inactive_bins_with_raw_count_merged.intersected_with_common_background_set.logFC_filtered.GC_content_matched_5000.bed \\\n",
    "    --beforeRegionStartLength 2000 \\\n",
    "    --afterRegionStartLength 2000 \\\n",
    "    --skipZeros \\\n",
    "    -o /data/reddylab/Revathy/collabs/Jamborees/fcc_capstone/data/enhancer_call_comparison/10032022/ASTARR.active_vs_inactive_peaks_from_common_background_set.active_peaks_GC_content_compared.random5k.refpoint.mat.gz \\\n",
    "&& computeMatrixOperations dataRange \\\n",
    "    -m /data/reddylab/Revathy/collabs/Jamborees/fcc_capstone/data/enhancer_call_comparison/10032022/ASTARR.active_vs_inactive_peaks_from_common_background_set.active_peaks_GC_content_compared.random5k.refpoint.mat.gz\n",
    "\n",
    "EOF"
   ]
  },
  {
   "cell_type": "code",
   "execution_count": null,
   "metadata": {},
   "outputs": [],
   "source": [
    "%%bash\n",
    "source /data/reddylab/software/miniconda2/bin/activate cwl10\n",
    "sbatch \\\n",
    "    --exclude=dl-01 \\\n",
    "    --mem=16G \\\n",
    "    -o /data/reddylab/Revathy/collabs/Jamborees/fcc_capstone/logs/plotHeatmap_ASTARR_active_vs_inactive.with_common_background_set.active_GC_compared.v1.out \\\n",
    "    --cpus-per-task=1 \\\n",
    "    <<'EOF'\n",
    "#!/bin/bash\n",
    "plotHeatmap \\\n",
    "    --colorMap inferno \\\n",
    "    --yMax 108.751 7.83018 5.87675 5.25337 4.7613 10.7325 5.05209 4.39715 5.7858 3.9031 2.88221 16.7918 49.5526 11.9155 10 10 30 85 10 775 .1 700 0.01 0.5 \\\n",
    "    --yMin  0  0 0  0  0  0  0  0  0  0  0  0  0  0  0 0 0  0  0   0 -.001 0 -0.01 -0.5 \\\n",
    "    --regionsLabel \\\n",
    "        active \\\n",
    "        inactive \\\n",
    "    --zMax 36.250249 2.61006 1.958916 1.7511241000000008 1.5871 3.5775130000000033 1.68403 1.465715 1.9286 1.3010320000000002 0.9607352000000001 5.597278 16.517540200000013 3.971848 2.227511600000002 5.019666 9 30 7 5 0.03 1000 0.01 0.005 \\\n",
    "    --zMin 0 0 0 0 0 0 0 0 0 0 0 0 0 0 0 0 0 0 0 0 -0.01 20 -0.001 -0.01 \\\n",
    "    --heatmapHeight 25 \\\n",
    "    -m /data/reddylab/Revathy/collabs/Jamborees/fcc_capstone/data/enhancer_call_comparison/10032022/ASTARR.active_vs_inactive_peaks_from_common_background_set.active_peaks_GC_content_compared.random5k.refpoint.mat.gz \\\n",
    "    -out /data/reddylab/Revathy/collabs/Jamborees/fcc_capstone/data/enhancer_call_comparison/heatmaps/ASTARR.active_vs_inactive_peaks_from_common_background_set.active_peaks_GC_content_compared.random5k.png\n",
    "EOF"
   ]
  },
  {
   "cell_type": "code",
   "execution_count": null,
   "metadata": {},
   "outputs": [],
   "source": [
    "from IPython.display import Image\n",
    "Image(\"/data/reddylab/Revathy/collabs/Jamborees/fcc_capstone/data/enhancer_call_comparison/heatmaps/ASTARR.active_vs_inactive_peaks_from_common_background_set.active_peaks_GC_content_compared.random5k.png\")\n"
   ]
  },
  {
   "cell_type": "code",
   "execution_count": null,
   "metadata": {},
   "outputs": [],
   "source": []
  },
  {
   "cell_type": "markdown",
   "metadata": {},
   "source": [
    "# Heatmaps with common background set -V2 - active set with summit of peaks\n",
    "\n",
    "\n",
    "ASTARR: `/data/reddylab/Revathy/collabs/Jamborees/fcc_capstone/data/Junke_enhancer_calls_5Oct/z_score_processed/ASTARR/merged_peak/merged_enhancer_peak_orientation_independent.bed`"
   ]
  },
  {
   "cell_type": "code",
   "execution_count": null,
   "metadata": {
    "scrolled": true
   },
   "outputs": [],
   "source": [
    "!head /data/reddylab/Revathy/collabs/Jamborees/fcc_capstone/data/Junke_enhancer_calls_5Oct/z_score_processed/ASTARR/merged_peak/merged_enhancer_peak_orientation_independent.bed"
   ]
  },
  {
   "cell_type": "markdown",
   "metadata": {},
   "source": [
    "wgSTARR: ` /data/reddylab/Revathy/collabs/Jamborees/fcc_capstone/data/Junke_enhancer_calls_5Oct/z_score_processed/wgSTARR/merged_enhancer_peak_orientation_independent.bed`"
   ]
  },
  {
   "cell_type": "markdown",
   "metadata": {},
   "source": [
    "### Extract the summit of peaks for the wgSTARRseq"
   ]
  },
  {
   "cell_type": "code",
   "execution_count": null,
   "metadata": {},
   "outputs": [],
   "source": [
    "%%bash\n",
    "awk -vOFS='\\t' '{print $(NF-5), $(NF-4), $(NF-3)}' /data/reddylab/Revathy/collabs/Jamborees/fcc_capstone/data/Junke_enhancer_calls_5Oct/z_score_processed/wgSTARR/merged_peak/merged_enhancer_peak_orientation_independent.bed \\\n",
    "> /data/reddylab/Revathy/collabs/Jamborees/fcc_capstone/data/Junke_enhancer_calls_5Oct/z_score_processed/wgSTARR/merged_peak/merged_enhancer_peak_orientation_independent.summits.bed"
   ]
  },
  {
   "cell_type": "markdown",
   "metadata": {},
   "source": [
    "Select random 5000 from the wgSTARRseq summit of peaks (There are 8025 total peaks)"
   ]
  },
  {
   "cell_type": "code",
   "execution_count": null,
   "metadata": {},
   "outputs": [],
   "source": [
    "%%bash\n",
    "shuf -n 5000 /data/reddylab/Revathy/collabs/Jamborees/fcc_capstone/data/Junke_enhancer_calls_5Oct/z_score_processed/wgSTARR/merged_peak/merged_enhancer_peak_orientation_independent.summits.bed \\\n",
    "> /data/reddylab/Revathy/collabs/Jamborees/fcc_capstone/data/Junke_enhancer_calls_5Oct/z_score_processed/wgSTARR/merged_peak/merged_enhancer_peak_orientation_independent.summits.random5000.bed"
   ]
  },
  {
   "cell_type": "code",
   "execution_count": null,
   "metadata": {},
   "outputs": [],
   "source": []
  },
  {
   "cell_type": "markdown",
   "metadata": {},
   "source": [
    "## Heatmap -- V4 - with summits of active peaks in ASTARR, LentiMPRA and wgSTARR"
   ]
  },
  {
   "cell_type": "code",
   "execution_count": null,
   "metadata": {},
   "outputs": [],
   "source": [
    "%%bash\n",
    "source /data/reddylab/software/miniconda3/bin/activate alex_py3\n",
    "sbatch \\\n",
    "    --exclude=dl-01 \\\n",
    "    --mem=128G \\\n",
    "    --cpus-per-task=16 \\\n",
    "    -o /data/reddylab/Revathy/collabs/Jamborees/fcc_capstone/logs/logscomputeMatrix.ASTARR_LentiMPRA_wgSTARR.active_vs_inactive.inactive_with_ATAC_peaks.GC_content.common_background.V4.log \\\n",
    "    <<'EOF'\n",
    "#!/bin/bash \n",
    "computeMatrix reference-point \\\n",
    "    --referencePoint center \\\n",
    "    --numberOfProcessors 16 \\\n",
    "    --binSize 10 \\\n",
    "    -S \\\n",
    "        /data/reddylab/Alex/encode4_duke/ipynbs/jamborees/20211206_MPRA_STARR_Jamboree/data/encode_data/K562.ENCFF914WIS.POLR2A.bw \\\n",
    "        /data/reddylab/Alex/encode4_duke/ipynbs/jamborees/20211206_MPRA_STARR_Jamboree/data/encode_data/K562.ENCFF756UVW.JUN.bw \\\n",
    "        /data/reddylab/Alex/encode4_duke/ipynbs/jamborees/20211206_MPRA_STARR_Jamboree/data/encode_data/K562.ENCFF336UPT.CTCF.bw \\\n",
    "        /data/reddylab/Revathy/collabs/Jamborees/fcc_capstone/data/encode_data/K562.ENCFF475BKW.SP1.bw \\\n",
    "        /data/reddylab/Alex/encode4_duke/ipynbs/jamborees/20211206_MPRA_STARR_Jamboree/data/encode_data/K562.ENCFF262TFX.ELK1.bw \\\n",
    "        /data/reddylab/Alex/encode4_duke/ipynbs/jamborees/20211206_MPRA_STARR_Jamboree/data/encode_data/K562.ENCFF590LGA.NRF1.bw \\\n",
    "        /data/reddylab/Revathy/collabs/Jamborees/fcc_capstone/data/encode_data/K562.ENCFF700NBW.TAL1.bw \\\n",
    "        /data/reddylab/Revathy/collabs/Jamborees/fcc_capstone/data/encode_data/K562.ENCFF331URE.GATA1.bw \\\n",
    "        /data/reddylab/Alex/encode4_duke/ipynbs/jamborees/20211206_MPRA_STARR_Jamboree/data/encode_data/K562.ENCFF398LBP.NFE2.bw \\\n",
    "        /data/reddylab/Alex/encode4_duke/ipynbs/jamborees/20211206_MPRA_STARR_Jamboree/data/encode_data/K562.ENCFF750TBY.KLF10.bw \\\n",
    "        /data/reddylab/Alex/encode4_duke/ipynbs/jamborees/20211206_MPRA_STARR_Jamboree/data/encode_data/K562.ENCFF183YBH.KLF16.bw \\\n",
    "        /data/reddylab/Revathy/collabs/Jamborees/fcc_capstone/data/encode_data/K562.ENCFF927TDC.YY1.bw \\\n",
    "        /data/reddylab/Alex/encode4_duke/ipynbs/jamborees/20211206_MPRA_STARR_Jamboree/data/encode_data/K562.ENCFF199FSE.ATF1.bw \\\n",
    "        /data/reddylab/Revathy/collabs/Jamborees/fcc_capstone/data/encode_data/K562.ENCFF325DSL.EP300.bw \\\n",
    "        /data/reddylab/Revathy/collabs/Jamborees/fcc_capstone/data/encode_data/K562.ENCFF538LAN.REST.bw \\\n",
    "        /data/reddylab/Revathy/collabs/Jamborees/fcc_capstone/data/encode_data/K562.ENCFF106ZRO.ZEB2.bw \\\n",
    "        /data/reddylab/Alex/encode4_duke/ipynbs/jamborees/20211206_MPRA_STARR_Jamboree/data/encode_data/K562.ENCFF469JMR.H3K27ac.bw \\\n",
    "        /data/reddylab/Alex/encode4_duke/ipynbs/jamborees/20211206_MPRA_STARR_Jamboree/data/encode_data/K562.ENCFF405ZDL.H3K4me3.bw \\\n",
    "        /data/reddylab/Alex/encode4_duke/ipynbs/jamborees/20211206_MPRA_STARR_Jamboree/data/encode_data/K562.ENCFF100FDI.H3K4me1.bw \\\n",
    "        /data/reddylab/Alex/encode4_duke/ipynbs/jamborees/20211206_MPRA_STARR_Jamboree/data/encode_data/K562.ENCFF357GNC.ATACseq.bw \\\n",
    "        /data/reddylab/Alex/encode4_duke/processing/starr_seq/210401_KS91_K562ASTARR_NovaSeq.hg38-pe-umis/KS91_K562_hg38_ASTARRseq_Output_rep4.log2.pseudo_10.bw \\\n",
    "        /data/reddylab/kstrouse/superstarr/output_libs/A001_K562/A001_K562_20210213/processing/starr_seq/Strouse_6825_210223A5-pe/A001-K562-rep2.f3q10.sorted.dedup.rpkm.bw \\\n",
    "        /data/reddylab/Alex/encode4_duke/ipynbs/jamborees/20220307_locusselect_nawg/data/WGSTARRseq.A001_K562.log2fc.rep2.log2.pseudo_10.bw \\\n",
    "        /data/reddylab/Revathy/collabs/Jamborees/fcc_capstone/data/bigWigs/CRISPRi_rAVG_log2FC_2.sloped400bp.bw \\\n",
    "    --samplesLabel \\\n",
    "        POLR2A \\\n",
    "        JUN \\\n",
    "        CTCF \\\n",
    "        SP1 \\\n",
    "        ELK1 \\\n",
    "        NRF1 \\\n",
    "        TAL1 \\\n",
    "        GATA1 \\\n",
    "        NFE2 \\\n",
    "        KLF10 \\\n",
    "        KLF16 \\\n",
    "        YY1 \\\n",
    "        ATF1 \\\n",
    "        EP300 \\\n",
    "        REST \\\n",
    "        ZEB2 \\\n",
    "        H3K27ac \\\n",
    "        H3K4me3 \\\n",
    "        H3K4me1 \\\n",
    "        ATACseq \\\n",
    "        ASTARR_log2 \\\n",
    "        WG_STARR \\\n",
    "        WG_STARR_log2 \\\n",
    "        CRISPRi_sloped400bp \\\n",
    "    -R \\\n",
    "    /data/reddylab/Revathy/collabs/Jamborees/fcc_capstone/data/Junke_enhancer_calls_5Oct/z_score_processed/ASTARR/merged_peak/merged_enhancer_peak_orientation_independent.summits.bed  \\\n",
    "    /data/reddylab/Revathy/collabs/Jamborees/fcc_capstone/data/Junke_enhancer_calls_5Oct/z_score_processed/lentiMPRA/merged_peak/lentiMPRA_merged_enhancer_peak_orientation_independent.summits.random5000.bed \\\n",
    "    /data/reddylab/Revathy/collabs/Jamborees/fcc_capstone/data/Junke_enhancer_calls_5Oct/z_score_processed/wgSTARR/merged_peak/merged_enhancer_peak_orientation_independent.summits.random5000.bed \\\n",
    "    /data/reddylab/Revathy/collabs/Jamborees/fcc_capstone/data/inputs/intersections/ASTARR_wgSTARR_LentiMPRA_100%_intersected.100bp_bins.logFC_filtered.with_ATAC_peaks.merged.random5000.bed \\\n",
    "    --beforeRegionStartLength 2000 \\\n",
    "    --afterRegionStartLength 2000 \\\n",
    "    --skipZeros \\\n",
    "    -o /data/reddylab/Revathy/collabs/Jamborees/fcc_capstone/data/enhancer_call_comparison/10032022/ASTARR_LentiMPRA_wgSTARR.active_vs_inactive_peaks.inactive_with_ATAC_peaks.common_background.GC_content.random5k.V4.refpoint.mat.gz \\\n",
    "&& computeMatrixOperations dataRange \\\n",
    "    -m /data/reddylab/Revathy/collabs/Jamborees/fcc_capstone/data/enhancer_call_comparison/10032022/ASTARR_LentiMPRA_wgSTARR.active_vs_inactive_peaks.inactive_with_ATAC_peaks.common_background.GC_content.random5k.V4.refpoint.mat.gz\n",
    "\n",
    "EOF"
   ]
  },
  {
   "cell_type": "code",
   "execution_count": null,
   "metadata": {},
   "outputs": [],
   "source": [
    "%%bash\n",
    "source /data/reddylab/software/miniconda2/bin/activate cwl10\n",
    "sbatch \\\n",
    "    --exclude=dl-01 \\\n",
    "    --mem=16G \\\n",
    "    -o /data/reddylab/Revathy/collabs/Jamborees/fcc_capstone/logs/plotHeatmap.ASTARR_LentiMPRA_wgSTARR.active_vs_inactive.inactive_with_ATAC_peaks.GC_content.common_background.out \\\n",
    "    --cpus-per-task=1 \\\n",
    "    <<'EOF'\n",
    "#!/bin/bash\n",
    "plotHeatmap \\\n",
    "    --colorMap inferno \\\n",
    "    --yMax 108.751 7.83018 5.87675 5.25337 4.7613 10.7325 5.05209 4.39715 5.7858 3.9031 2.88221 16.7918 49.5526 11.9155 10 10 30 85 10 775 .1 700 0.01 0.5 \\\n",
    "    --yMin  0  0 0  0  0  0  0  0  0  0  0  0  0  0  0 0 0  0  0   0 -.001 0 -0.01 -0.5 \\\n",
    "    --regionsLabel \\\n",
    "        ASTARR_active \\\n",
    "        LentiMPRA_active \\\n",
    "        wgSTARR_active \\\n",
    "        Common_inactive \\\n",
    "    --zMax 16.711249 2.611754 1.681146 1.6259563000000017 1.5554800000000002 2.3706321000000115 1.69571 1.564462 2.2277978000000043 1.258846 0.972648 4.59093 16.608894 4.36318 2.028099 4.9879152000000015 27.9552683 50.11522750000029 11.611378 96.63159700000018 0.017658 1000 0.00253 0.005 \\\n",
    "    --zMin 0 0 0 0 0 0 0 0 0 0 0 0 0 0 0 0 0 0 0 0 -0.001 20 -0.002 -0.01 \\\n",
    "    --heatmapHeight 30 \\\n",
    "    -m /data/reddylab/Revathy/collabs/Jamborees/fcc_capstone/data/enhancer_call_comparison/10032022/ASTARR_LentiMPRA_wgSTARR.active_vs_inactive_peaks.inactive_with_ATAC_peaks.common_background.GC_content.random5k.V4.refpoint.mat.gz \\\n",
    "    -out /data/reddylab/Revathy/collabs/Jamborees/fcc_capstone/data/enhancer_call_comparison/10032022/ASTARR_LentiMPRA_wgSTARR.active_vs_inactive_peaks.inactive_with_ATAC_peaks.common_background.GC_content.random5k.V4.pdf \n",
    "EOF"
   ]
  },
  {
   "cell_type": "code",
   "execution_count": null,
   "metadata": {},
   "outputs": [],
   "source": [
    "!ls /data/reddylab/Revathy/collabs/Jamborees/fcc_capstone/data/enhancer_call_comparison/10032022/ASTARR_LentiMPRA_wgSTARR.active_vs_inactive_peaks.inactive_with_ATAC_peaks.common_background.GC_content.random5k.V4.pdf "
   ]
  },
  {
   "cell_type": "code",
   "execution_count": null,
   "metadata": {},
   "outputs": [],
   "source": [
    "!cat /data/reddylab/Revathy/collabs/Jamborees/fcc_capstone/logs/plotHeatmap.ASTARR_LentiMPRA_wgSTARR.active_vs_inactive.inactive_with_ATAC_peaks.GC_content.common_background.out"
   ]
  },
  {
   "cell_type": "code",
   "execution_count": null,
   "metadata": {},
   "outputs": [],
   "source": [
    "from IPython.display import Image\n",
    "Image(\"/data/reddylab/Revathy/collabs/Jamborees/fcc_capstone/data/enhancer_call_comparison/10032022/ASTARR_LentiMPRA_wgSTARR.active_vs_inactive_peaks.inactive_with_ATAC_peaks.common_background.GC_content.random5k.V4.png\")\n"
   ]
  },
  {
   "cell_type": "code",
   "execution_count": null,
   "metadata": {},
   "outputs": [],
   "source": []
  },
  {
   "cell_type": "code",
   "execution_count": null,
   "metadata": {},
   "outputs": [],
   "source": []
  },
  {
   "cell_type": "markdown",
   "metadata": {},
   "source": [
    "## Heatmap/Profile plot for ASTARR,wgSTARR-summits and common background set-promoter & distal separated"
   ]
  },
  {
   "cell_type": "code",
   "execution_count": null,
   "metadata": {},
   "outputs": [],
   "source": [
    "%%bash\n",
    "mv /data/reddylab/Revathy/collabs/Jamborees/fcc_capstone/data/enhancer_call_annotation/new/merged_enhancer_peak_orientation_independent.summits.random5000.annotated.txt \\\n",
    "/data/reddylab/Revathy/collabs/Jamborees/fcc_capstone/data/enhancer_call_annotation/new/wgSTARR_merged_enhancer_peak_orientation_independent.summits.random5000.annotated.txt"
   ]
  },
  {
   "cell_type": "code",
   "execution_count": null,
   "metadata": {},
   "outputs": [],
   "source": [
    "import pandas as pd\n",
    "\n",
    "files=['/data/reddylab/Revathy/collabs/Jamborees/fcc_capstone/data/enhancer_call_annotation/new/lentiMPRA_merged_enhancer_peak_orientation_independent.summits.random5000.annotated.txt',\n",
    "       '/data/reddylab/Revathy/collabs/Jamborees/fcc_capstone/data/enhancer_call_annotation/new/ASTARR_wgSTARR_LentiMPRA_100%_intersected.100bp_bins.logFC_filtered.with_ATAC_peaks.merged.random5000.annotated.txt'\n",
    "#        '/data/reddylab/Revathy/collabs/Jamborees/fcc_capstone/data/enhancer_call_annotation/new/wgSTARR_merged_enhancer_peak_orientation_independent.summits.random5000.annotated.txt',\n",
    "#        '/data/reddylab/Revathy/collabs/Jamborees/fcc_capstone/data/enhancer_call_annotation/new/ASTARR_merged_enhancer_peak_orientation_independent.summits.annotated.txt'\n",
    "      ]\n",
    "\n",
    "for file in files:\n",
    "    file_name='.'.join(file.split('/')[-1].split('.')[:-1])\n",
    "    tmp = pd.read_csv(file, sep='\\t')\n",
    "    tmp[tmp['annotation'].str.contains('Promoter')].to_csv('/data/reddylab/Revathy/collabs/Jamborees/fcc_capstone/data/enhancer_call_annotation/new/%s.promoter.txt'%file_name, sep='\\t', index=False)\n",
    "    tmp[~tmp['annotation'].str.contains('Promoter')].to_csv('/data/reddylab/Revathy/collabs/Jamborees/fcc_capstone/data/enhancer_call_annotation/new/%s.rest.txt'%file_name, sep='\\t', index=False)\n",
    "    "
   ]
  },
  {
   "cell_type": "code",
   "execution_count": null,
   "metadata": {},
   "outputs": [],
   "source": [
    "%%bash\n",
    "### ASTARR\n",
    "cat /data/reddylab/Revathy/collabs/Jamborees/fcc_capstone/data/enhancer_call_annotation/new/ASTARR_merged_enhancer_peak_orientation_independent.summits.annotated.promoter.txt | tail -n+2 | cut -f1,2,3 \\\n",
    "> /data/reddylab/Revathy/collabs/Jamborees/fcc_capstone/data/enhancer_call_annotation/new/ASTARR_merged_enhancer_peak_orientation_independent.summits.annotated.promoter.coordinates.bed\n",
    "cat /data/reddylab/Revathy/collabs/Jamborees/fcc_capstone/data/enhancer_call_annotation/new/ASTARR_merged_enhancer_peak_orientation_independent.summits.annotated.rest.txt | tail -n+2 | cut -f1,2,3 \\\n",
    "> /data/reddylab/Revathy/collabs/Jamborees/fcc_capstone/data/enhancer_call_annotation/new/ASTARR_merged_enhancer_peak_orientation_independent.summits.annotated.rest.coordinates.bed\n",
    "\n",
    "### wgSTARR\n",
    "cat /data/reddylab/Revathy/collabs/Jamborees/fcc_capstone/data/enhancer_call_annotation/new/wgSTARR_merged_enhancer_peak_orientation_independent.summits.random5000.annotated.promoter.txt | tail -n+2 | cut -f1,2,3 \\\n",
    "> /data/reddylab/Revathy/collabs/Jamborees/fcc_capstone/data/enhancer_call_annotation/new/wgSTARR_merged_enhancer_peak_orientation_independent.summits.random5000.annotated.promoter.coordinates.bed\n",
    "cat /data/reddylab/Revathy/collabs/Jamborees/fcc_capstone/data/enhancer_call_annotation/new/wgSTARR_merged_enhancer_peak_orientation_independent.summits.random5000.annotated.rest.txt | tail -n+2 | cut -f1,2,3 \\\n",
    "> /data/reddylab/Revathy/collabs/Jamborees/fcc_capstone/data/enhancer_call_annotation/new/wgSTARR_merged_enhancer_peak_orientation_independent.summits.random5000.annotated.rest.coordinates.bed\n",
    "\n",
    "## LentiMPRA\n",
    "cat /data/reddylab/Revathy/collabs/Jamborees/fcc_capstone/data/enhancer_call_annotation/new/lentiMPRA_merged_enhancer_peak_orientation_independent.summits.random5000.annotated.promoter.txt | tail -n+2 | cut -f1,2,3 \\\n",
    "> /data/reddylab/Revathy/collabs/Jamborees/fcc_capstone/data/enhancer_call_annotation/new/lentiMPRA_merged_enhancer_peak_orientation_independent.summits.random5000.annotated.promoter.coordinates.bed\n",
    "cat /data/reddylab/Revathy/collabs/Jamborees/fcc_capstone/data/enhancer_call_annotation/new/lentiMPRA_merged_enhancer_peak_orientation_independent.summits.random5000.annotated.rest.txt | tail -n+2 | cut -f1,2,3 \\\n",
    "> /data/reddylab/Revathy/collabs/Jamborees/fcc_capstone/data/enhancer_call_annotation/new/lentiMPRA_merged_enhancer_peak_orientation_independent.summits.random5000.annotated.rest.coordinates.bed\n",
    "\n",
    "#common background set\n",
    "cat /data/reddylab/Revathy/collabs/Jamborees/fcc_capstone/data/enhancer_call_annotation/new/ASTARR_wgSTARR_LentiMPRA_100%_intersected.100bp_bins.logFC_filtered.with_ATAC_peaks.merged.random5000.annotated.promoter.txt | tail -n+2 | cut -f1,2,3 \\\n",
    "> /data/reddylab/Revathy/collabs/Jamborees/fcc_capstone/data/enhancer_call_annotation/new/ASTARR_wgSTARR_LentiMPRA_100%_intersected.100bp_bins.logFC_filtered.with_ATAC_peaks.merged.random5000.annotated.promoter.coordinates.bed\n",
    "cat /data/reddylab/Revathy/collabs/Jamborees/fcc_capstone/data/enhancer_call_annotation/new/ASTARR_wgSTARR_LentiMPRA_100%_intersected.100bp_bins.logFC_filtered.with_ATAC_peaks.merged.random5000.annotated.rest.txt | tail -n+2 | cut -f1,2,3 \\\n",
    "> /data/reddylab/Revathy/collabs/Jamborees/fcc_capstone/data/enhancer_call_annotation/new/ASTARR_wgSTARR_LentiMPRA_100%_intersected.100bp_bins.logFC_filtered.with_ATAC_peaks.merged.random5000.annotated.rest.coordinates.bed\n"
   ]
  },
  {
   "cell_type": "code",
   "execution_count": null,
   "metadata": {},
   "outputs": [],
   "source": [
    "%%bash\n",
    "wc -l /data/reddylab/Revathy/collabs/Jamborees/fcc_capstone/data/enhancer_call_annotation/new/ASTARR_merged_enhancer_peak_orientation_independent.summits.annotated.promoter.coordinates.bed \\\n",
    "/data/reddylab/Revathy/collabs/Jamborees/fcc_capstone/data/enhancer_call_annotation/new/ASTARR_merged_enhancer_peak_orientation_independent.summits.annotated.rest.coordinates.bed \\\n",
    "/data/reddylab/Revathy/collabs/Jamborees/fcc_capstone/data/enhancer_call_annotation/new/wgSTARR_merged_enhancer_peak_orientation_independent.summits.random5000.annotated.promoter.coordinates.bed \\\n",
    "/data/reddylab/Revathy/collabs/Jamborees/fcc_capstone/data/enhancer_call_annotation/new/wgSTARR_merged_enhancer_peak_orientation_independent.summits.random5000.annotated.rest.coordinates.bed \\\n",
    "/data/reddylab/Revathy/collabs/Jamborees/fcc_capstone/data/enhancer_call_annotation/new/lentiMPRA_merged_enhancer_peak_orientation_independent.summits.random5000.annotated.promoter.coordinates.bed \\\n",
    "/data/reddylab/Revathy/collabs/Jamborees/fcc_capstone/data/enhancer_call_annotation/new/lentiMPRA_merged_enhancer_peak_orientation_independent.summits.random5000.annotated.rest.coordinates.bed \\\n",
    "/data/reddylab/Revathy/collabs/Jamborees/fcc_capstone/data/enhancer_call_annotation/new/ASTARR_wgSTARR_LentiMPRA_100%_intersected.100bp_bins.logFC_filtered.with_ATAC_peaks.merged.random5000.annotated.promoter.coordinates.bed \\\n",
    "/data/reddylab/Revathy/collabs/Jamborees/fcc_capstone/data/enhancer_call_annotation/new/ASTARR_wgSTARR_LentiMPRA_100%_intersected.100bp_bins.logFC_filtered.with_ATAC_peaks.merged.random5000.annotated.rest.coordinates.bed"
   ]
  },
  {
   "cell_type": "markdown",
   "metadata": {},
   "source": [
    "### ASTARR"
   ]
  },
  {
   "cell_type": "markdown",
   "metadata": {},
   "source": [
    "Use the computeMatrix Operations (subset and sort) to separate the computeMatrix into promoter and distal regions"
   ]
  },
  {
   "cell_type": "code",
   "execution_count": null,
   "metadata": {},
   "outputs": [],
   "source": [
    "!head /data/reddylab/Revathy/collabs/Jamborees/fcc_capstone/data/enhancer_call_annotation/new/ASTARR_merged_enhancer_peak_orientation_independent.summits.annotated.promoter.coordinates.bed"
   ]
  },
  {
   "cell_type": "code",
   "execution_count": null,
   "metadata": {},
   "outputs": [],
   "source": [
    "%%bash\n",
    "awk -vOFS='\\t' '{print $1, ($2 - 1), $3}' /data/reddylab/Revathy/collabs/Jamborees/fcc_capstone/data/enhancer_call_annotation/new/ASTARR_merged_enhancer_peak_orientation_independent.summits.annotated.promoter.coordinates.bed \\\n",
    "> /data/reddylab/Revathy/collabs/Jamborees/fcc_capstone/data/enhancer_call_annotation/new/ASTARR_merged_enhancer_peak_orientation_independent.summits.annotated.promoter_v1.coordinates.bed\n",
    "awk -vOFS='\\t' '{print $1, ($2 - 1), $3}' /data/reddylab/Revathy/collabs/Jamborees/fcc_capstone/data/enhancer_call_annotation/new/ASTARR_merged_enhancer_peak_orientation_independent.summits.annotated.rest.coordinates.bed \\\n",
    "> /data/reddylab/Revathy/collabs/Jamborees/fcc_capstone/data/enhancer_call_annotation/new/ASTARR_merged_enhancer_peak_orientation_independent.summits.annotated.rest_v1.coordinates.bed\n",
    "awk -vOFS='\\t' '{print $1, ($2 - 1), $3}' /data/reddylab/Revathy/collabs/Jamborees/fcc_capstone/data/enhancer_call_annotation/new/ASTARR_wgSTARR_LentiMPRA_100%_intersected.100bp_bins.logFC_filtered.with_ATAC_peaks.merged.random5000.annotated.promoter.coordinates.bed \\\n",
    "> /data/reddylab/Revathy/collabs/Jamborees/fcc_capstone/data/enhancer_call_annotation/new/ASTARR_wgSTARR_LentiMPRA_100%_intersected.100bp_bins.logFC_filtered.with_ATAC_peaks.merged.random5000.annotated.promoter_v1.coordinates.bed\n",
    "awk -vOFS='\\t' '{print $1, ($2 - 1), $3}' /data/reddylab/Revathy/collabs/Jamborees/fcc_capstone/data/enhancer_call_annotation/new/ASTARR_wgSTARR_LentiMPRA_100%_intersected.100bp_bins.logFC_filtered.with_ATAC_peaks.merged.random5000.annotated.rest.coordinates.bed \\\n",
    "> /data/reddylab/Revathy/collabs/Jamborees/fcc_capstone/data/enhancer_call_annotation/new/ASTARR_wgSTARR_LentiMPRA_100%_intersected.100bp_bins.logFC_filtered.with_ATAC_peaks.merged.random5000.annotated.rest_v1.coordinates.bed"
   ]
  },
  {
   "cell_type": "code",
   "execution_count": null,
   "metadata": {},
   "outputs": [],
   "source": [
    "%%bash\n",
    "computeMatrixOperations subset -m /data/reddylab/Revathy/collabs/Jamborees/fcc_capstone/data/enhancer_call_comparison/10032022/ASTARR_LentiMPRA_wgSTARR.active_vs_inactive_peaks.inactive_with_ATAC_peaks.common_background.GC_content.random5k.V2.refpoint.mat.gz \\\n",
    "-o /data/reddylab/Revathy/collabs/Jamborees/fcc_capstone/data/enhancer_call_comparison/10032022/ASTARR_CommonBackgroundSet.mat.gz \\\n",
    "--groups merged_enhancer_peak_orientation_independent.summits.bed ASTARR_wgSTARR_LentiMPRA_100%_intersected.100bp_bins.logFC_filtered.with_ATAC_peaks.merged.random5000.bed\n",
    "\n",
    "computeMatrixOperations relabel -m /data/reddylab/Revathy/collabs/Jamborees/fcc_capstone/data/enhancer_call_comparison/10032022/ASTARR_CommonBackgroundSet.mat.gz \\\n",
    "-o /data/reddylab/Revathy/collabs/Jamborees/fcc_capstone/data/enhancer_call_comparison/10032022/ASTARR_CommonBackgroundSet.relabeled.mat.gz \\\n",
    "--groupLabels \"ASTARR_merged_enhancer_peak_orientation_independent.summits.annotated.promoter_v1.coordinates.bed\" \"ASTARR_wgSTARR_LentiMPRA_100%_intersected.100bp_bins.logFC_filtered.with_ATAC_peaks.merged.random5000.annotated.promoter_v1.coordinates.bed\"\n",
    "\n",
    "computeMatrixOperations relabel -m /data/reddylab/Revathy/collabs/Jamborees/fcc_capstone/data/enhancer_call_comparison/10032022/ASTARR_CommonBackgroundSet.mat.gz \\\n",
    "-o /data/reddylab/Revathy/collabs/Jamborees/fcc_capstone/data/enhancer_call_comparison/10032022/ASTARR_CommonBackgroundSet.relabeled_v2.mat.gz \\\n",
    "--groupLabels \"ASTARR_merged_enhancer_peak_orientation_independent.summits.annotated.rest_v1.coordinates.bed\" \"ASTARR_wgSTARR_LentiMPRA_100%_intersected.100bp_bins.logFC_filtered.with_ATAC_peaks.merged.random5000.annotated.rest_v1.coordinates.bed\""
   ]
  },
  {
   "cell_type": "code",
   "execution_count": null,
   "metadata": {},
   "outputs": [],
   "source": [
    "%%bash\n",
    "source /data/reddylab/software/miniconda3/bin/activate alex_py3\n",
    "computeMatrixOperations info -m /data/reddylab/Revathy/collabs/Jamborees/fcc_capstone/data/enhancer_call_comparison/10032022/ASTARR_CommonBackgroundSet.relabeled_v2.mat.gz"
   ]
  },
  {
   "cell_type": "code",
   "execution_count": null,
   "metadata": {},
   "outputs": [],
   "source": [
    "%%bash\n",
    "source /data/reddylab/software/miniconda3/bin/activate revathy_py3\n",
    "sbatch \\\n",
    "    --exclude=dl-01 \\\n",
    "    --mem=128G \\\n",
    "    --cpus-per-task=16 \\\n",
    "    -o /data/reddylab/Revathy/collabs/Jamborees/fcc_capstone/logs/ASTARR_CommonBackgroundSet.promoter_Distal_separations.computematrixOperations.out \\\n",
    "    <<'EOF'\n",
    "#!/bin/bash \n",
    "computeMatrixOperations sort -m /data/reddylab/Revathy/collabs/Jamborees/fcc_capstone/data/enhancer_call_comparison/10032022/ASTARR_CommonBackgroundSet.relabeled.mat.gz \\\n",
    "-R /data/reddylab/Revathy/collabs/Jamborees/fcc_capstone/data/enhancer_call_annotation/new/ASTARR_merged_enhancer_peak_orientation_independent.summits.annotated.promoter_v1.coordinates.bed \\\n",
    "/data/reddylab/Revathy/collabs/Jamborees/fcc_capstone/data/enhancer_call_annotation/new/ASTARR_wgSTARR_LentiMPRA_100%_intersected.100bp_bins.logFC_filtered.with_ATAC_peaks.merged.random5000.annotated.promoter_v1.coordinates.bed \\\n",
    "-o /data/reddylab/Revathy/collabs/Jamborees/fcc_capstone/data/enhancer_call_comparison/10032022/ASTARR_CommonBackgroundSet.promoters.mat.gz\n",
    "\n",
    "computeMatrixOperations sort -m /data/reddylab/Revathy/collabs/Jamborees/fcc_capstone/data/enhancer_call_comparison/10032022/ASTARR_CommonBackgroundSet.relabeled_v2.mat.gz \\\n",
    "-R /data/reddylab/Revathy/collabs/Jamborees/fcc_capstone/data/enhancer_call_annotation/new/ASTARR_merged_enhancer_peak_orientation_independent.summits.annotated.rest_v1.coordinates.bed \\\n",
    "/data/reddylab/Revathy/collabs/Jamborees/fcc_capstone/data/enhancer_call_annotation/new/ASTARR_wgSTARR_LentiMPRA_100%_intersected.100bp_bins.logFC_filtered.with_ATAC_peaks.merged.random5000.annotated.rest_v1.coordinates.bed \\\n",
    "-o /data/reddylab/Revathy/collabs/Jamborees/fcc_capstone/data/enhancer_call_comparison/10032022/ASTARR_CommonBackgroundSet.rest.mat.gz\n",
    "EOF"
   ]
  },
  {
   "cell_type": "markdown",
   "metadata": {},
   "source": [
    "### wgSTARR"
   ]
  },
  {
   "cell_type": "code",
   "execution_count": null,
   "metadata": {},
   "outputs": [],
   "source": [
    "%%bash\n",
    "awk -vOFS='\\t' '{print $1, ($2 - 1), $3}' /data/reddylab/Revathy/collabs/Jamborees/fcc_capstone/data/enhancer_call_annotation/new/wgSTARR_merged_enhancer_peak_orientation_independent.summits.random5000.annotated.promoter.coordinates.bed \\\n",
    "> /data/reddylab/Revathy/collabs/Jamborees/fcc_capstone/data/enhancer_call_annotation/new/wgSTARR_merged_enhancer_peak_orientation_independent.summits.random5000.annotated.promoter_v1.coordinates.bed\n",
    "awk -vOFS='\\t' '{print $1, ($2 - 1), $3}' /data/reddylab/Revathy/collabs/Jamborees/fcc_capstone/data/enhancer_call_annotation/new/wgSTARR_merged_enhancer_peak_orientation_independent.summits.random5000.annotated.rest.coordinates.bed \\\n",
    "> /data/reddylab/Revathy/collabs/Jamborees/fcc_capstone/data/enhancer_call_annotation/new/wgSTARR_merged_enhancer_peak_orientation_independent.summits.random5000.annotated.rest_v1.coordinates.bed"
   ]
  },
  {
   "cell_type": "code",
   "execution_count": null,
   "metadata": {},
   "outputs": [],
   "source": [
    "%%bash\n",
    "source /data/reddylab/software/miniconda3/bin/activate alex_py3\n",
    "computeMatrixOperations info -m /data/reddylab/Revathy/collabs/Jamborees/fcc_capstone/data/enhancer_call_comparison/10032022/ASTARR_LentiMPRA_wgSTARR.active_vs_inactive_peaks.inactive_with_ATAC_peaks.common_background.GC_content.random5k.V3.refpoint.mat.gz"
   ]
  },
  {
   "cell_type": "code",
   "execution_count": null,
   "metadata": {},
   "outputs": [],
   "source": [
    "%%bash\n",
    "source /data/reddylab/software/miniconda3/bin/activate revathy_py3\n",
    "sbatch \\\n",
    "    --exclude=dl-01 \\\n",
    "    --mem=128G \\\n",
    "    --cpus-per-task=16 \\\n",
    "    -o /data/reddylab/Revathy/collabs/Jamborees/fcc_capstone/logs/wgSTARR_CommonBackgroundSet.promoter_Distal_separations.computematrixOperations.out \\\n",
    "    <<'EOF'\n",
    "#!/bin/bash \n",
    "computeMatrixOperations subset -m /data/reddylab/Revathy/collabs/Jamborees/fcc_capstone/data/enhancer_call_comparison/10032022/ASTARR_LentiMPRA_wgSTARR.active_vs_inactive_peaks.inactive_with_ATAC_peaks.common_background.GC_content.random5k.V3.refpoint.mat.gz \\\n",
    "-o /data/reddylab/Revathy/collabs/Jamborees/fcc_capstone/data/enhancer_call_comparison/10032022/wgSTARR_CommonBackgroundSet.mat.gz \\\n",
    "--groups merged_enhancer_peak_orientation_independent.summits.random5000.bed ASTARR_wgSTARR_LentiMPRA_100%_intersected.100bp_bins.logFC_filtered.with_ATAC_peaks.merged.random5000.bed\n",
    "\n",
    "computeMatrixOperations relabel -m /data/reddylab/Revathy/collabs/Jamborees/fcc_capstone/data/enhancer_call_comparison/10032022/wgSTARR_CommonBackgroundSet.mat.gz \\\n",
    "-o /data/reddylab/Revathy/collabs/Jamborees/fcc_capstone/data/enhancer_call_comparison/10032022/wgSTARR_CommonBackgroundSet.relabeled.mat.gz \\\n",
    "--groupLabels \"wgSTARR_merged_enhancer_peak_orientation_independent.summits.random5000.annotated.promoter_v1.coordinates.bed\" \"ASTARR_wgSTARR_LentiMPRA_100%_intersected.100bp_bins.logFC_filtered.with_ATAC_peaks.merged.random5000.annotated.promoter_v1.coordinates.bed\"\n",
    "\n",
    "computeMatrixOperations relabel -m /data/reddylab/Revathy/collabs/Jamborees/fcc_capstone/data/enhancer_call_comparison/10032022/wgSTARR_CommonBackgroundSet.mat.gz \\\n",
    "-o /data/reddylab/Revathy/collabs/Jamborees/fcc_capstone/data/enhancer_call_comparison/10032022/wgSTARR_CommonBackgroundSet.relabeled_v2.mat.gz \\\n",
    "--groupLabels \"wgSTARR_merged_enhancer_peak_orientation_independent.summits.random5000.annotated.rest_v1.coordinates.bed\" \"ASTARR_wgSTARR_LentiMPRA_100%_intersected.100bp_bins.logFC_filtered.with_ATAC_peaks.merged.random5000.annotated.rest_v1.coordinates.bed\"\n",
    "EOF"
   ]
  },
  {
   "cell_type": "code",
   "execution_count": null,
   "metadata": {},
   "outputs": [],
   "source": [
    "%%bash\n",
    "source /data/reddylab/software/miniconda3/bin/activate revathy_py3\n",
    "sbatch \\\n",
    "    --exclude=dl-01 \\\n",
    "    --mem=128G \\\n",
    "    --cpus-per-task=16 \\\n",
    "    -o /data/reddylab/Revathy/collabs/Jamborees/fcc_capstone/logs/wgSTARR_CommonBackgroundSet.promoter_Distal_separations.computematrixOperations.out \\\n",
    "    <<'EOF'\n",
    "#!/bin/bash \n",
    "computeMatrixOperations sort -m /data/reddylab/Revathy/collabs/Jamborees/fcc_capstone/data/enhancer_call_comparison/10032022/wgSTARR_CommonBackgroundSet.relabeled.mat.gz \\\n",
    "-R /data/reddylab/Revathy/collabs/Jamborees/fcc_capstone/data/enhancer_call_annotation/new/wgSTARR_merged_enhancer_peak_orientation_independent.summits.random5000.annotated.promoter_v1.coordinates.bed \\\n",
    "/data/reddylab/Revathy/collabs/Jamborees/fcc_capstone/data/enhancer_call_annotation/new/ASTARR_wgSTARR_LentiMPRA_100%_intersected.100bp_bins.logFC_filtered.with_ATAC_peaks.merged.random5000.annotated.promoter_v1.coordinates.bed \\\n",
    "-o /data/reddylab/Revathy/collabs/Jamborees/fcc_capstone/data/enhancer_call_comparison/10032022/wgSTARR_CommonBackgroundSet.promoters.mat.gz\n",
    "\n",
    "computeMatrixOperations sort -m /data/reddylab/Revathy/collabs/Jamborees/fcc_capstone/data/enhancer_call_comparison/10032022/wgSTARR_CommonBackgroundSet.relabeled_v2.mat.gz \\\n",
    "-R /data/reddylab/Revathy/collabs/Jamborees/fcc_capstone/data/enhancer_call_annotation/new/wgSTARR_merged_enhancer_peak_orientation_independent.summits.random5000.annotated.rest_v1.coordinates.bed \\\n",
    "/data/reddylab/Revathy/collabs/Jamborees/fcc_capstone/data/enhancer_call_annotation/new/ASTARR_wgSTARR_LentiMPRA_100%_intersected.100bp_bins.logFC_filtered.with_ATAC_peaks.merged.random5000.annotated.rest_v1.coordinates.bed \\\n",
    "-o /data/reddylab/Revathy/collabs/Jamborees/fcc_capstone/data/enhancer_call_comparison/10032022/wgSTARR_CommonBackgroundSet.rest.mat.gz\n",
    "EOF"
   ]
  },
  {
   "cell_type": "code",
   "execution_count": null,
   "metadata": {},
   "outputs": [],
   "source": [
    "!wc -l /data/reddylab/Revathy/collabs/Jamborees/fcc_capstone/data/enhancer_call_annotation/new/ASTARR_wgSTARR_LentiMPRA_100%_intersected.100bp_bins.logFC_filtered.with_ATAC_peaks.merged.random5000.annotated.promoter_v1.coordinates.bed"
   ]
  },
  {
   "cell_type": "code",
   "execution_count": null,
   "metadata": {},
   "outputs": [],
   "source": [
    "!cat /data/reddylab/Revathy/collabs/Jamborees/fcc_capstone/logs/wgSTARR_CommonBackgroundSet.promoter_Distal_separations.computematrixOperations.out"
   ]
  },
  {
   "cell_type": "code",
   "execution_count": null,
   "metadata": {},
   "outputs": [],
   "source": []
  },
  {
   "cell_type": "markdown",
   "metadata": {},
   "source": [
    "### LentiMPRA"
   ]
  },
  {
   "cell_type": "code",
   "execution_count": null,
   "metadata": {},
   "outputs": [],
   "source": [
    "%%bash\n",
    "awk -vOFS='\\t' '{print $1, ($2 - 1), $3}' /data/reddylab/Revathy/collabs/Jamborees/fcc_capstone/data/enhancer_call_annotation/new/lentiMPRA_merged_enhancer_peak_orientation_independent.summits.random5000.annotated.promoter.coordinates.bed \\\n",
    "> /data/reddylab/Revathy/collabs/Jamborees/fcc_capstone/data/enhancer_call_annotation/new/lentiMPRA_merged_enhancer_peak_orientation_independent.summits.random5000.annotated.promoter_v1.coordinates.bed\n",
    "awk -vOFS='\\t' '{print $1, ($2 - 1), $3}' /data/reddylab/Revathy/collabs/Jamborees/fcc_capstone/data/enhancer_call_annotation/new/lentiMPRA_merged_enhancer_peak_orientation_independent.summits.random5000.annotated.rest.coordinates.bed \\\n",
    "> /data/reddylab/Revathy/collabs/Jamborees/fcc_capstone/data/enhancer_call_annotation/new/lentiMPRA_merged_enhancer_peak_orientation_independent.summits.random5000.annotated.rest_v1.coordinates.bed"
   ]
  },
  {
   "cell_type": "code",
   "execution_count": null,
   "metadata": {},
   "outputs": [],
   "source": [
    "%%bash\n",
    "source /data/reddylab/software/miniconda3/bin/activate alex_py3\n",
    "computeMatrixOperations info -m /data/reddylab/Revathy/collabs/Jamborees/fcc_capstone/data/enhancer_call_comparison/10032022/ASTARR_LentiMPRA_wgSTARR.active_vs_inactive_peaks.inactive_with_ATAC_peaks.common_background.GC_content.random5k.V4.refpoint.mat.gz"
   ]
  },
  {
   "cell_type": "code",
   "execution_count": null,
   "metadata": {},
   "outputs": [],
   "source": [
    "%%bash\n",
    "source /data/reddylab/software/miniconda3/bin/activate revathy_py3\n",
    "sbatch \\\n",
    "    --exclude=dl-01 \\\n",
    "    --mem=128G \\\n",
    "    --cpus-per-task=16 \\\n",
    "    -o /data/reddylab/Revathy/collabs/Jamborees/fcc_capstone/logs/wgSTARR_CommonBackgroundSet.promoter_Distal_separations.computematrixOperations.out \\\n",
    "    <<'EOF'\n",
    "#!/bin/bash \n",
    "computeMatrixOperations subset -m /data/reddylab/Revathy/collabs/Jamborees/fcc_capstone/data/enhancer_call_comparison/10032022/ASTARR_LentiMPRA_wgSTARR.active_vs_inactive_peaks.inactive_with_ATAC_peaks.common_background.GC_content.random5k.V4.refpoint.mat.gz \\\n",
    "-o /data/reddylab/Revathy/collabs/Jamborees/fcc_capstone/data/enhancer_call_comparison/10032022/lentiMPRA_CommonBackgroundSet.mat.gz \\\n",
    "--groups lentiMPRA_merged_enhancer_peak_orientation_independent.summits.random5000.bed ASTARR_wgSTARR_LentiMPRA_100%_intersected.100bp_bins.logFC_filtered.with_ATAC_peaks.merged.random5000.bed\n",
    "\n",
    "computeMatrixOperations relabel -m /data/reddylab/Revathy/collabs/Jamborees/fcc_capstone/data/enhancer_call_comparison/10032022/lentiMPRA_CommonBackgroundSet.mat.gz \\\n",
    "-o /data/reddylab/Revathy/collabs/Jamborees/fcc_capstone/data/enhancer_call_comparison/10032022/lentiMPRA_CommonBackgroundSet.relabeled.mat.gz \\\n",
    "--groupLabels \"lentiMPRA_merged_enhancer_peak_orientation_independent.summits.random5000.annotated.promoter_v1.coordinates.bed\" \"ASTARR_wgSTARR_LentiMPRA_100%_intersected.100bp_bins.logFC_filtered.with_ATAC_peaks.merged.random5000.annotated.promoter_v1.coordinates.bed\"\n",
    "\n",
    "computeMatrixOperations relabel -m /data/reddylab/Revathy/collabs/Jamborees/fcc_capstone/data/enhancer_call_comparison/10032022/lentiMPRA_CommonBackgroundSet.mat.gz \\\n",
    "-o /data/reddylab/Revathy/collabs/Jamborees/fcc_capstone/data/enhancer_call_comparison/10032022/lentiMPRA_CommonBackgroundSet.relabeled_v2.mat.gz \\\n",
    "--groupLabels \"lentiMPRA_merged_enhancer_peak_orientation_independent.summits.random5000.annotated.rest_v1.coordinates.bed\" \"ASTARR_wgSTARR_LentiMPRA_100%_intersected.100bp_bins.logFC_filtered.with_ATAC_peaks.merged.random5000.annotated.rest_v1.coordinates.bed\"\n",
    "EOF"
   ]
  },
  {
   "cell_type": "code",
   "execution_count": null,
   "metadata": {},
   "outputs": [],
   "source": [
    "%%bash\n",
    "source /data/reddylab/software/miniconda3/bin/activate revathy_py3\n",
    "sbatch \\\n",
    "    --exclude=dl-01 \\\n",
    "    --mem=128G \\\n",
    "    --cpus-per-task=16 \\\n",
    "    -o /data/reddylab/Revathy/collabs/Jamborees/fcc_capstone/logs/lentiMPRA_CommonBackgroundSet.promoter_Distal_separations.computematrixOperations.out \\\n",
    "    <<'EOF'\n",
    "#!/bin/bash \n",
    "computeMatrixOperations sort -m /data/reddylab/Revathy/collabs/Jamborees/fcc_capstone/data/enhancer_call_comparison/10032022/lentiMPRA_CommonBackgroundSet.relabeled.mat.gz \\\n",
    "-R /data/reddylab/Revathy/collabs/Jamborees/fcc_capstone/data/enhancer_call_annotation/new/lentiMPRA_merged_enhancer_peak_orientation_independent.summits.random5000.annotated.promoter_v1.coordinates.bed \\\n",
    "/data/reddylab/Revathy/collabs/Jamborees/fcc_capstone/data/enhancer_call_annotation/new/ASTARR_wgSTARR_LentiMPRA_100%_intersected.100bp_bins.logFC_filtered.with_ATAC_peaks.merged.random5000.annotated.promoter_v1.coordinates.bed \\\n",
    "-o /data/reddylab/Revathy/collabs/Jamborees/fcc_capstone/data/enhancer_call_comparison/10032022/lentiMPRA_CommonBackgroundSet.promoters.mat.gz\n",
    "\n",
    "computeMatrixOperations sort -m /data/reddylab/Revathy/collabs/Jamborees/fcc_capstone/data/enhancer_call_comparison/10032022/lentiMPRA_CommonBackgroundSet.relabeled_v2.mat.gz \\\n",
    "-R /data/reddylab/Revathy/collabs/Jamborees/fcc_capstone/data/enhancer_call_annotation/new/lentiMPRA_merged_enhancer_peak_orientation_independent.summits.random5000.annotated.rest_v1.coordinates.bed \\\n",
    "/data/reddylab/Revathy/collabs/Jamborees/fcc_capstone/data/enhancer_call_annotation/new/ASTARR_wgSTARR_LentiMPRA_100%_intersected.100bp_bins.logFC_filtered.with_ATAC_peaks.merged.random5000.annotated.rest_v1.coordinates.bed \\\n",
    "-o /data/reddylab/Revathy/collabs/Jamborees/fcc_capstone/data/enhancer_call_comparison/10032022/lentiMPRA_CommonBackgroundSet.rest.mat.gz\n",
    "EOF"
   ]
  },
  {
   "cell_type": "code",
   "execution_count": null,
   "metadata": {},
   "outputs": [],
   "source": []
  }
 ],
 "metadata": {
  "kernelspec": {
   "display_name": "Python3 (revathy)",
   "language": "python",
   "name": "revathy_py3"
  },
  "language_info": {
   "codemirror_mode": {
    "name": "ipython",
    "version": 3
   },
   "file_extension": ".py",
   "mimetype": "text/x-python",
   "name": "python",
   "nbconvert_exporter": "python",
   "pygments_lexer": "ipython3",
   "version": "3.5.4"
  }
 },
 "nbformat": 4,
 "nbformat_minor": 2
}
