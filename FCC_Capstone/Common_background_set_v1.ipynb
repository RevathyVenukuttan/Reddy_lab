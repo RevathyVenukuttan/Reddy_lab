{
 "cells": [
  {
   "cell_type": "markdown",
   "metadata": {},
   "source": [
    "# anchoring on ATAC peaks"
   ]
  },
  {
   "cell_type": "markdown",
   "metadata": {},
   "source": [
    "* Inactive bins for ASTARR: `/data/reddylab/Revathy/collabs/Jamborees/fcc_capstone/data/Junke_enhancer_calls_5Oct/processed/bin_level/inactive_bins_with_raw_count.merged.bed`\n",
    "\n",
    "* All inactive tested elements for LentiMPRA - merged: `/data/reddylab/Revathy/collabs/Jamborees/fcc_capstone/data/New_enhancer_call/lentiMPRA/lenti_mpra_tested_element_all.merged_peaks_with_logFC.bed`\n",
    "\n",
    "* Inactive bins for wgSTARR: `/data/reddylab/Revathy/collabs/Jamborees/fcc_capstone/data/Junke_enhancer_calls_5Oct/wgSTARR/processed/bin_level/inactive_bins_with_raw_count.merged.bed`"
   ]
  },
  {
   "cell_type": "code",
   "execution_count": null,
   "metadata": {},
   "outputs": [],
   "source": [
    "%%bash\n",
    "wc -l /data/reddylab/Revathy/collabs/Jamborees/fcc_capstone/data/Junke_enhancer_calls_5Oct/processed/bin_level/inactive_bins_with_raw_count.merged.bed\n",
    "wc -l /data/reddylab/Revathy/collabs/Jamborees/fcc_capstone/data/New_enhancer_call/lentiMPRA/lenti_mpra_tested_element_all.merged_peaks_with_logFC.bed\n",
    "wc -l /data/reddylab/Revathy/collabs/Jamborees/fcc_capstone/data/Junke_enhancer_calls_5Oct/wgSTARR/processed/bin_level/inactive_bins_with_raw_count.merged.bed"
   ]
  },
  {
   "cell_type": "code",
   "execution_count": null,
   "metadata": {},
   "outputs": [],
   "source": [
    "%%bash\n",
    "awk '$4>-0.5 && $4<0.5' /data/reddylab/Revathy/collabs/Jamborees/fcc_capstone/data/Junke_enhancer_calls_5Oct/processed/bin_level/inactive_bins_with_raw_count.merged.bed \\\n",
    "> /data/reddylab/Revathy/collabs/Jamborees/fcc_capstone/data/Junke_enhancer_calls_5Oct/processed/bin_level/inactive_bins_with_raw_count.merged.logFC_threshold0.5.bed\n",
    "awk '$4>-0.5 && $4<0.5' /data/reddylab/Revathy/collabs/Jamborees/fcc_capstone/data/New_enhancer_call/lentiMPRA/lenti_mpra_tested_element_all.merged_peaks_with_logFC.bed \\\n",
    "> /data/reddylab/Revathy/collabs/Jamborees/fcc_capstone/data/New_enhancer_call/lentiMPRA/lenti_mpra_tested_element_all.merged_peaks.logFC_threshold0.5.bed\n",
    "awk '$4>-0.5 && $4<0.5' /data/reddylab/Revathy/collabs/Jamborees/fcc_capstone/data/Junke_enhancer_calls_5Oct/wgSTARR/processed/bin_level/inactive_bins_with_raw_count.merged.bed \\\n",
    "> /data/reddylab/Revathy/collabs/Jamborees/fcc_capstone/data/Junke_enhancer_calls_5Oct/wgSTARR/processed/bin_level/inactive_bins_with_raw_count.merged.logFC_threshold0.5.bed\n"
   ]
  },
  {
   "cell_type": "code",
   "execution_count": 1,
   "metadata": {},
   "outputs": [
    {
     "name": "stdout",
     "output_type": "stream",
     "text": [
      "52273 /data/reddylab/Revathy/collabs/Jamborees/fcc_capstone/data/Junke_enhancer_calls_5Oct/processed/bin_level/inactive_bins_with_raw_count.merged.logFC_threshold0.5.bed\n",
      "87477 /data/reddylab/Revathy/collabs/Jamborees/fcc_capstone/data/New_enhancer_call/lentiMPRA/lenti_mpra_tested_element_all.merged_peaks.logFC_threshold0.5.bed\n",
      "1581906 /data/reddylab/Revathy/collabs/Jamborees/fcc_capstone/data/Junke_enhancer_calls_5Oct/wgSTARR/processed/bin_level/inactive_bins_with_raw_count.merged.logFC_threshold0.5.bed\n"
     ]
    }
   ],
   "source": [
    "%%bash\n",
    "wc -l /data/reddylab/Revathy/collabs/Jamborees/fcc_capstone/data/Junke_enhancer_calls_5Oct/processed/bin_level/inactive_bins_with_raw_count.merged.logFC_threshold0.5.bed\n",
    "wc -l /data/reddylab/Revathy/collabs/Jamborees/fcc_capstone/data/New_enhancer_call/lentiMPRA/lenti_mpra_tested_element_all.merged_peaks.logFC_threshold0.5.bed\n",
    "wc -l /data/reddylab/Revathy/collabs/Jamborees/fcc_capstone/data/Junke_enhancer_calls_5Oct/wgSTARR/processed/bin_level/inactive_bins_with_raw_count.merged.logFC_threshold0.5.bed"
   ]
  },
  {
   "cell_type": "code",
   "execution_count": null,
   "metadata": {},
   "outputs": [],
   "source": [
    "%%bash\n",
    "module load bedtools2\n",
    "bedtools intersect -wa -wb \\\n",
    "-a /data/reddylab/Revathy/collabs/Jamborees/fcc_capstone/data/inputs/ASTARR/KS91_K562_hg38_ASTARRseq_Input_allReps.masked.dedup.sorted_peaks.cut.narrowPeak \\\n",
    "-b /data/reddylab/Revathy/collabs/Jamborees/fcc_capstone/data/Junke_enhancer_calls_5Oct/processed/bin_level/inactive_bins_with_raw_count.merged.logFC_threshold0.5.bed /data/reddylab/Revathy/collabs/Jamborees/fcc_capstone/data/New_enhancer_call/lentiMPRA/lenti_mpra_tested_element_all.merged_peaks.logFC_threshold0.5.bed /data/reddylab/Revathy/collabs/Jamborees/fcc_capstone/data/Junke_enhancer_calls_5Oct/wgSTARR/processed/bin_level/inactive_bins_with_raw_count.merged.logFC_threshold0.5.bed \\\n",
    "-names ASTARR LentiMPRA wgSTARR \\\n",
    "-f 0.5 \\\n",
    "| wc -l \n"
   ]
  },
  {
   "cell_type": "code",
   "execution_count": 2,
   "metadata": {},
   "outputs": [
    {
     "name": "stdout",
     "output_type": "stream",
     "text": [
      "47098 /data/reddylab/Revathy/collabs/Jamborees/fcc_capstone/data/Junke_enhancer_calls_5Oct/processed/bin_level/inactive_bins_with_log2FC.input_sorted.logFC_threshold0.5.bed\n",
      "63373 /data/reddylab/Revathy/collabs/Jamborees/fcc_capstone/data/New_enhancer_call/lentiMPRA/lenti_mpra_tested_element_all.merged_peaks_with_logFC.with_ATAC_peaks.logFC_threshold0.5.bed\n",
      "163711 /data/reddylab/Revathy/collabs/Jamborees/fcc_capstone/data/Junke_enhancer_calls_5Oct/wgSTARR/processed/bin_level/inactive_bins_with_raw_count.merged.with_ATAC_peaks.logFC_threshold0.5.bed\n"
     ]
    }
   ],
   "source": [
    "%%bash\n",
    "wc -l /data/reddylab/Revathy/collabs/Jamborees/fcc_capstone/data/Junke_enhancer_calls_5Oct/processed/bin_level/inactive_bins_with_log2FC.input_sorted.logFC_threshold0.5.bed\n",
    "wc -l /data/reddylab/Revathy/collabs/Jamborees/fcc_capstone/data/New_enhancer_call/lentiMPRA/lenti_mpra_tested_element_all.merged_peaks_with_logFC.with_ATAC_peaks.logFC_threshold0.5.bed\n",
    "wc -l /data/reddylab/Revathy/collabs/Jamborees/fcc_capstone/data/Junke_enhancer_calls_5Oct/wgSTARR/processed/bin_level/inactive_bins_with_raw_count.merged.with_ATAC_peaks.logFC_threshold0.5.bed"
   ]
  },
  {
   "cell_type": "markdown",
   "metadata": {},
   "source": [
    "## Intersecting the .logFC_threshold0.5.bed files first (%overlap = 0.50) "
   ]
  },
  {
   "cell_type": "markdown",
   "metadata": {},
   "source": [
    "3 bed files:\n",
    "* ASTARR:`/data/reddylab/Revathy/collabs/Jamborees/fcc_capstone/data/Junke_enhancer_calls_5Oct/processed/bin_level/inactive_bins_with_log2FC.input_sorted.logFC_threshold0.5.bed`\n",
    "\n",
    "* LentiMPRA:`/data/reddylab/Revathy/collabs/Jamborees/fcc_capstone/data/New_enhancer_call/lentiMPRA/lenti_mpra_tested_element_all.merged_peaks_with_logFC.with_ATAC_peaks.logFC_threshold0.5.bed`\n",
    "\n",
    "* wgSTARR:`/data/reddylab/Revathy/collabs/Jamborees/fcc_capstone/data/Junke_enhancer_calls_5Oct/wgSTARR/processed/bin_level/inactive_bins_with_raw_count.merged.with_ATAC_peaks.logFC_threshold0.5.bed`\n"
   ]
  },
  {
   "cell_type": "code",
   "execution_count": null,
   "metadata": {},
   "outputs": [],
   "source": [
    "%%bash\n",
    "module load bedtools2\n",
    "bedtools intersect -wa -wb \\\n",
    "-a /data/reddylab/Revathy/collabs/Jamborees/fcc_capstone/data/Junke_enhancer_calls_5Oct/processed/bin_level/inactive_bins_with_log2FC.input_sorted.logFC_threshold0.5.bed \\\n",
    "-b /data/reddylab/Revathy/collabs/Jamborees/fcc_capstone/data/New_enhancer_call/lentiMPRA/lenti_mpra_tested_element_all.merged_peaks_with_logFC.with_ATAC_peaks.logFC_threshold0.5.bed \\\n",
    "-f 0.50 \\\n",
    "| bedtools intersect -wa -wb -a - \\\n",
    "-b /data/reddylab/Revathy/collabs/Jamborees/fcc_capstone/data/Junke_enhancer_calls_5Oct/wgSTARR/processed/bin_level/inactive_bins_with_raw_count.merged.with_ATAC_peaks.logFC_threshold0.5.bed \\\n",
    "-f 0.50 \\\n",
    "> /data/reddylab/Revathy/tmp/ASTARR_Lenti_wgSTARR.with_ATAC_peaks.logFC_threshold0.5.bed"
   ]
  },
  {
   "cell_type": "code",
   "execution_count": null,
   "metadata": {},
   "outputs": [],
   "source": [
    "## Without ATAC peaks\n",
    "\n",
    "import pandas as pd\n",
    "\n",
    "columns = ['ASTARR_chr','ASTARR_start','ASTARR_end','ASTARR_logFC','lenti_chr','lenti_start','lenti_end','lenti_log2FC','wgSTARR_chr','wgSTARR_start','wgSTARR_end','wgSTARR_log2FC']\n",
    "intersected = pd.read_csv('/data/reddylab/Revathy/tmp/ASTARR_Lenti_wgSTARR_logFC_threshold0.5.bed', sep='\\t', names=columns)\n",
    "intersected['start'] = intersected[['ASTARR_start','lenti_start','wgSTARR_start']].min(axis=1)\n",
    "intersected['end'] = intersected[['ASTARR_end','lenti_end','wgSTARR_end']].max(axis=1)\n",
    "intersected['diff'] = intersected['end']-intersected['start']\n",
    "intersected['diff'].describe()"
   ]
  },
  {
   "cell_type": "code",
   "execution_count": null,
   "metadata": {},
   "outputs": [],
   "source": [
    "## With ATAC peaks\n",
    "\n",
    "import pandas as pd\n",
    "\n",
    "columns = ['ASTARR_chr','ASTARR_start','ASTARR_end','ASTARR_logFC','lenti_chr','lenti_start','lenti_end','lenti_log2FC','wgSTARR_chr','wgSTARR_start','wgSTARR_end','wgSTARR_log2FC']\n",
    "intersected = pd.read_csv('/data/reddylab/Revathy/tmp/ASTARR_Lenti_wgSTARR.with_ATAC_peaks.logFC_threshold0.5.bed', sep='\\t', names=columns)\n",
    "intersected['start'] = intersected[['ASTARR_start','lenti_start','wgSTARR_start']].min(axis=1)\n",
    "intersected['end'] = intersected[['ASTARR_end','lenti_end','wgSTARR_end']].max(axis=1)\n",
    "intersected['diff'] = intersected['end']-intersected['start']\n",
    "intersected['diff'].describe()"
   ]
  },
  {
   "cell_type": "markdown",
   "metadata": {},
   "source": [
    "## Control for the length of regions for the background set\n",
    "\n",
    "Steps:\n",
    "* The raw inactive sets (without merging) were filtered for logFC (+/-0.5) \n",
    "* Then merge them ATACseq input files -- this is to get those inactive/background regions with open chromatin regions\n",
    "* Now intersect these newly created inactive_with_input sets with the condition 100% overlap\n",
    "\n",
    "\n",
    "Files:\n",
    "* ASTARR: `/data/reddylab/Revathy/collabs/Jamborees/fcc_capstone/data/Junke_enhancer_calls_5Oct/processed/bin_level/inactive_bins_with_raw_count.bed`\n",
    "* LentiMPRA: `/data/reddylab/Revathy/collabs/Jamborees/fcc_capstone/data/New_enhancer_call/lentiMPRA/lenti_mpra_tested_element_all.bed`\n",
    "* wgSTARR: `/data/reddylab/Revathy/collabs/Jamborees/fcc_capstone/data/Junke_enhancer_calls_5Oct/wgSTARR/processed/bin_level/inactive_bins_with_raw_count.bed`\n"
   ]
  },
  {
   "cell_type": "code",
   "execution_count": 3,
   "metadata": {},
   "outputs": [
    {
     "name": "stdout",
     "output_type": "stream",
     "text": [
      "6198961 /data/reddylab/Revathy/collabs/Jamborees/fcc_capstone/data/Junke_enhancer_calls_5Oct/processed/bin_level/inactive_bins_with_raw_count.bed\n",
      "230846 /data/reddylab/Revathy/collabs/Jamborees/fcc_capstone/data/New_enhancer_call/lentiMPRA/lenti_mpra_tested_element_all.bed\n",
      "302015060 /data/reddylab/Revathy/collabs/Jamborees/fcc_capstone/data/Junke_enhancer_calls_5Oct/wgSTARR/processed/bin_level/inactive_bins_with_raw_count.bed\n"
     ]
    }
   ],
   "source": [
    "!wc -l /data/reddylab/Revathy/collabs/Jamborees/fcc_capstone/data/Junke_enhancer_calls_5Oct/processed/bin_level/inactive_bins_with_raw_count.bed\n",
    "!wc -l /data/reddylab/Revathy/collabs/Jamborees/fcc_capstone/data/New_enhancer_call/lentiMPRA/lenti_mpra_tested_element_all.bed\n",
    "!wc -l /data/reddylab/Revathy/collabs/Jamborees/fcc_capstone/data/Junke_enhancer_calls_5Oct/wgSTARR/processed/bin_level/inactive_bins_with_raw_count.bed"
   ]
  },
  {
   "cell_type": "markdown",
   "metadata": {},
   "source": [
    "## ASTARR - V2 -- -- Using the bin_level_all_results.bed from Junke's pipeline for the inactive set"
   ]
  },
  {
   "cell_type": "markdown",
   "metadata": {},
   "source": [
    "Using the z_score_processed enhancer calls from Junke -- the file used is bin_level_all_result.bed. This file has all peaks, so filtering out \"inactive\" peaks. Then filtering it out to get the bins which are also marked \"Y\" - which are negative controls too. \n",
    "\n"
   ]
  },
  {
   "cell_type": "code",
   "execution_count": 21,
   "metadata": {},
   "outputs": [],
   "source": [
    "%%bash\n",
    "awk '$5>-0.5 && $5<0.5' /data/reddylab/Revathy/collabs/Jamborees/fcc_capstone/data/Junke_enhancer_calls_5Oct/z_score_processed/ASTARR/bin_level/bin_level_all_result.bed \\\n",
    "| awk '$13 == \"inactive\"' \\\n",
    "| bedtools intersect \\\n",
    "-a - \\\n",
    "-b /data/reddylab/Revathy/collabs/Jamborees/fcc_capstone/data/inputs/ASTARR/KS91_K562_hg38_ASTARRseq_Input_allReps.masked.dedup.sorted_peaks.cut.narrowPeak \\\n",
    "| cut -f1,2,3 \\\n",
    "| uniq \\\n",
    "> /data/reddylab/Revathy/collabs/Jamborees/fcc_capstone/data/Junke_enhancer_calls_5Oct/z_score_processed/ASTARR/bin_level/bin_level_all_result.inactive_bins_with_input.logFC_filtered.bed"
   ]
  },
  {
   "cell_type": "code",
   "execution_count": 22,
   "metadata": {},
   "outputs": [
    {
     "name": "stdout",
     "output_type": "stream",
     "text": [
      "1430394 /data/reddylab/Revathy/collabs/Jamborees/fcc_capstone/data/Junke_enhancer_calls_5Oct/z_score_processed/ASTARR/bin_level/bin_level_all_result.inactive_bins_with_input.logFC_filtered.bed\r\n"
     ]
    }
   ],
   "source": [
    "!wc -l /data/reddylab/Revathy/collabs/Jamborees/fcc_capstone/data/Junke_enhancer_calls_5Oct/z_score_processed/ASTARR/bin_level/bin_level_all_result.inactive_bins_with_input.logFC_filtered.bed"
   ]
  },
  {
   "cell_type": "markdown",
   "metadata": {},
   "source": [
    "## wgSTARR -V2 -- Using the bin_level_all_results.bed from Junke's pipeline for the inactive set\n",
    "\n",
    "\n",
    "`/data/reddylab/Revathy/collabs/Jamborees/fcc_capstone/data/Junke_enhancer_calls_5Oct/z_score_processed/wgSTARR/bin_level/bin_level_all_result.bed`"
   ]
  },
  {
   "cell_type": "code",
   "execution_count": 5,
   "metadata": {},
   "outputs": [
    {
     "name": "stdout",
     "output_type": "stream",
     "text": [
      "Submitted batch job 29667824\n"
     ]
    }
   ],
   "source": [
    "%%bash\n",
    "sbatch \\\n",
    "  --exclude=dl-01 \\\n",
    "  --mem=32G \\\n",
    "  --cpus-per-task=2 \\\n",
    "  -o /data/reddylab/Revathy/collabs/Jamborees/fcc_capstone/logs/wgSTARR_unzip.out \\\n",
    "  <<'EOF'\n",
    "#!/bin/bash\n",
    "zcat /data/reddylab/Revathy/collabs/Jamborees/fcc_capstone/data/Junke_enhancer_calls_5Oct/z_score_processed/wgSTARR/bin_level/bin_level_all_result.bed.gz \\\n",
    "> /data/reddylab/Revathy/collabs/Jamborees/fcc_capstone/data/Junke_enhancer_calls_5Oct/z_score_processed/wgSTARR/bin_level/bin_level_all_result.bed\n",
    "EOF"
   ]
  },
  {
   "cell_type": "code",
   "execution_count": 23,
   "metadata": {},
   "outputs": [
    {
     "name": "stdout",
     "output_type": "stream",
     "text": [
      "Submitted batch job 29667829\n"
     ]
    }
   ],
   "source": [
    "%%bash\n",
    "sbatch \\\n",
    "    --exclude=dl-01 \\\n",
    "    --mem=128G \\\n",
    "    --cpus-per-task=16 \\\n",
    "    -o /data/reddylab/Revathy/collabs/Jamborees/fcc_capstone/logs/wgSTARR_logFC_filter_bedtools_intersect.out \\\n",
    "    <<'EOF'\n",
    "#!/bin/bash\n",
    "awk '$5>-0.5 && $5<0.5' /data/reddylab/Revathy/collabs/Jamborees/fcc_capstone/data/Junke_enhancer_calls_5Oct/z_score_processed/wgSTARR/bin_level/bin_level_all_result.bed \\\n",
    "| awk '$13 == \"inactive\"' \\\n",
    "| bedtools intersect \\\n",
    "-a - \\\n",
    "-b /data/reddylab/Revathy/collabs/Jamborees/fcc_capstone/data/inputs/ASTARR/KS91_K562_hg38_ASTARRseq_Input_allReps.masked.dedup.sorted_peaks.cut.narrowPeak \\\n",
    "| cut -f1,2,3 \\\n",
    "| uniq \\\n",
    "> /data/reddylab/Revathy/collabs/Jamborees/fcc_capstone/data/Junke_enhancer_calls_5Oct/z_score_processed/wgSTARR/bin_level/bin_level_all_result.inactive_bins_with_input.logFC_filtered.bed\n",
    "EOF"
   ]
  },
  {
   "cell_type": "markdown",
   "metadata": {},
   "source": [
    "## LentiMPRA -- V2 -- Using the element_level_all_result.bed from Junke's enhancer call pipeline for the inactive set"
   ]
  },
  {
   "cell_type": "code",
   "execution_count": 2,
   "metadata": {},
   "outputs": [
    {
     "name": "stdout",
     "output_type": "stream",
     "text": [
      "all_element_tested_in_both_orientations.bed  element_level_all_result.bed\r\n"
     ]
    }
   ],
   "source": [
    "!ls /data/reddylab/Revathy/collabs/Jamborees/fcc_capstone/data/Junke_enhancer_calls_5Oct/z_score_processed/lentiMPRA/element_level"
   ]
  },
  {
   "cell_type": "code",
   "execution_count": 3,
   "metadata": {},
   "outputs": [
    {
     "name": "stdout",
     "output_type": "stream",
     "text": [
      "225544 /data/reddylab/Revathy/collabs/Jamborees/fcc_capstone/data/Junke_enhancer_calls_5Oct/z_score_processed/lentiMPRA/element_level/element_level_all_result.bed\r\n"
     ]
    }
   ],
   "source": [
    "!wc -l /data/reddylab/Revathy/collabs/Jamborees/fcc_capstone/data/Junke_enhancer_calls_5Oct/z_score_processed/lentiMPRA/element_level/element_level_all_result.bed"
   ]
  },
  {
   "cell_type": "code",
   "execution_count": 10,
   "metadata": {},
   "outputs": [],
   "source": [
    "%%bash\n",
    "awk '$11 == \"inactive\" {print $0}' /data/reddylab/Revathy/collabs/Jamborees/fcc_capstone/data/Junke_enhancer_calls_5Oct/z_score_processed/lentiMPRA/element_level/element_level_all_result.bed \\\n",
    "| sort -k 1,1 -k2,2n \\\n",
    "| awk '$5>-0.5 && $5<0.5' \\\n",
    "| bedtools intersect \\\n",
    "-a - \\\n",
    "-b /data/reddylab/Revathy/collabs/Jamborees/fcc_capstone/data/inputs/ASTARR/KS91_K562_hg38_ASTARRseq_Input_allReps.masked.dedup.sorted_peaks.cut.narrowPeak \\\n",
    "| cut -f1,2,3 \\\n",
    "| uniq \\\n",
    "> /data/reddylab/Revathy/collabs/Jamborees/fcc_capstone/data/Junke_enhancer_calls_5Oct/z_score_processed/lentiMPRA/element_level/lenti_mpra_element_level_inactive.with_logFC_filtered.with_ATAC_peaks.bed"
   ]
  },
  {
   "cell_type": "code",
   "execution_count": 11,
   "metadata": {},
   "outputs": [
    {
     "name": "stdout",
     "output_type": "stream",
     "text": [
      "38278 /data/reddylab/Revathy/collabs/Jamborees/fcc_capstone/data/Junke_enhancer_calls_5Oct/z_score_processed/ASTARR/bin_level/bin_level_all_result.inactive_bins_with_input.negative_control_logFC_filtered.bed\n",
      "251664 /data/reddylab/Revathy/collabs/Jamborees/fcc_capstone/data/Junke_enhancer_calls_5Oct/z_score_processed/wgSTARR/bin_level/bin_level_all_result.inactive_bins_with_input.negative_control_logFC_filtered.bed\n",
      "56345 /data/reddylab/Revathy/collabs/Jamborees/fcc_capstone/data/Junke_enhancer_calls_5Oct/z_score_processed/lentiMPRA/element_level/lenti_mpra_element_level_inactive.with_logFC_filtered.with_ATAC_peaks.bed\n"
     ]
    }
   ],
   "source": [
    "!wc -l /data/reddylab/Revathy/collabs/Jamborees/fcc_capstone/data/Junke_enhancer_calls_5Oct/z_score_processed/ASTARR/bin_level/bin_level_all_result.inactive_bins_with_input.negative_control_logFC_filtered.bed\n",
    "!wc -l /data/reddylab/Revathy/collabs/Jamborees/fcc_capstone/data/Junke_enhancer_calls_5Oct/z_score_processed/wgSTARR/bin_level/bin_level_all_result.inactive_bins_with_input.negative_control_logFC_filtered.bed \n",
    "!wc -l /data/reddylab/Revathy/collabs/Jamborees/fcc_capstone/data/Junke_enhancer_calls_5Oct/z_score_processed/lentiMPRA/element_level/lenti_mpra_element_level_inactive.with_logFC_filtered.with_ATAC_peaks.bed"
   ]
  },
  {
   "cell_type": "code",
   "execution_count": 12,
   "metadata": {},
   "outputs": [
    {
     "name": "stdout",
     "output_type": "stream",
     "text": [
      "1430394 /data/reddylab/Revathy/collabs/Jamborees/fcc_capstone/data/Junke_enhancer_calls_5Oct/z_score_processed/ASTARR/bin_level/bin_level_all_result.inactive_bins_with_input.logFC_filtered.bed\n",
      "9035795 /data/reddylab/Revathy/collabs/Jamborees/fcc_capstone/data/Junke_enhancer_calls_5Oct/z_score_processed/wgSTARR/bin_level/bin_level_all_result.inactive_bins_with_input.logFC_filtered.bed\n",
      "56345 /data/reddylab/Revathy/collabs/Jamborees/fcc_capstone/data/Junke_enhancer_calls_5Oct/z_score_processed/lentiMPRA/element_level/lenti_mpra_element_level_inactive.with_logFC_filtered.with_ATAC_peaks.bed\n"
     ]
    }
   ],
   "source": [
    "!wc -l /data/reddylab/Revathy/collabs/Jamborees/fcc_capstone/data/Junke_enhancer_calls_5Oct/z_score_processed/ASTARR/bin_level/bin_level_all_result.inactive_bins_with_input.logFC_filtered.bed\n",
    "!wc -l /data/reddylab/Revathy/collabs/Jamborees/fcc_capstone/data/Junke_enhancer_calls_5Oct/z_score_processed/wgSTARR/bin_level/bin_level_all_result.inactive_bins_with_input.logFC_filtered.bed \n",
    "!wc -l /data/reddylab/Revathy/collabs/Jamborees/fcc_capstone/data/Junke_enhancer_calls_5Oct/z_score_processed/lentiMPRA/element_level/lenti_mpra_element_level_inactive.with_logFC_filtered.with_ATAC_peaks.bed"
   ]
  },
  {
   "cell_type": "code",
   "execution_count": 26,
   "metadata": {},
   "outputs": [],
   "source": [
    "%%bash\n",
    "bedtools intersect \\\n",
    "-a /data/reddylab/Revathy/collabs/Jamborees/fcc_capstone/data/Junke_enhancer_calls_5Oct/z_score_processed/ASTARR/bin_level/bin_level_all_result.inactive_bins_with_input.logFC_filtered.bed \\\n",
    "-b /data/reddylab/Revathy/collabs/Jamborees/fcc_capstone/data/Junke_enhancer_calls_5Oct/z_score_processed/wgSTARR/bin_level/bin_level_all_result.inactive_bins_with_input.logFC_filtered.bed \\\n",
    "-f 1.0 \\\n",
    "> /data/reddylab/Revathy/collabs/Jamborees/fcc_capstone/data/inputs/intersections/ASTARR_wgSTARR_100%_intersected.100bp_bins.logFC_filtered.with_ATAC_peaks.bed"
   ]
  },
  {
   "cell_type": "code",
   "execution_count": 27,
   "metadata": {},
   "outputs": [
    {
     "name": "stdout",
     "output_type": "stream",
     "text": [
      "672576 /data/reddylab/Revathy/collabs/Jamborees/fcc_capstone/data/inputs/intersections/ASTARR_wgSTARR_100%_intersected.100bp_bins.logFC_filtered.with_ATAC_peaks.bed\r\n"
     ]
    }
   ],
   "source": [
    "!wc -l /data/reddylab/Revathy/collabs/Jamborees/fcc_capstone/data/inputs/intersections/ASTARR_wgSTARR_100%_intersected.100bp_bins.logFC_filtered.with_ATAC_peaks.bed"
   ]
  },
  {
   "cell_type": "code",
   "execution_count": 13,
   "metadata": {},
   "outputs": [],
   "source": [
    "%%bash\n",
    "bedtools intersect \\\n",
    "-a /data/reddylab/Revathy/collabs/Jamborees/fcc_capstone/data/inputs/intersections/ASTARR_wgSTARR_100%_intersected.100bp_bins.logFC_filtered.with_ATAC_peaks.bed \\\n",
    "-b /data/reddylab/Revathy/collabs/Jamborees/fcc_capstone/data/Junke_enhancer_calls_5Oct/z_score_processed/lentiMPRA/element_level/lenti_mpra_element_level_inactive.with_logFC_filtered.with_ATAC_peaks.bed \\\n",
    "-f 1.0 \\\n",
    "> /data/reddylab/Revathy/collabs/Jamborees/fcc_capstone/data/inputs/intersections/ASTARR_wgSTARR_LentiMPRA_100%_intersected.100bp_bins.logFC_filtered.with_ATAC_peaks.bed"
   ]
  },
  {
   "cell_type": "code",
   "execution_count": 14,
   "metadata": {},
   "outputs": [
    {
     "name": "stdout",
     "output_type": "stream",
     "text": [
      "29028 /data/reddylab/Revathy/collabs/Jamborees/fcc_capstone/data/inputs/intersections/ASTARR_wgSTARR_LentiMPRA_100%_intersected.100bp_bins.logFC_filtered.with_ATAC_peaks.bed\r\n"
     ]
    }
   ],
   "source": [
    "!wc -l /data/reddylab/Revathy/collabs/Jamborees/fcc_capstone/data/inputs/intersections/ASTARR_wgSTARR_LentiMPRA_100%_intersected.100bp_bins.logFC_filtered.with_ATAC_peaks.bed"
   ]
  },
  {
   "cell_type": "code",
   "execution_count": 15,
   "metadata": {},
   "outputs": [],
   "source": [
    "%%bash\n",
    "cat /data/reddylab/Revathy/collabs/Jamborees/fcc_capstone/data/inputs/intersections/ASTARR_wgSTARR_LentiMPRA_100%_intersected.100bp_bins.logFC_filtered.with_ATAC_peaks.bed \\\n",
    "| sort -k1,1 -k2,2n \\\n",
    "| bedtools merge -i - \\\n",
    "> /data/reddylab/Revathy/collabs/Jamborees/fcc_capstone/data/inputs/intersections/ASTARR_wgSTARR_LentiMPRA_100%_intersected.100bp_bins.logFC_filtered.with_ATAC_peaks.merged.bed"
   ]
  },
  {
   "cell_type": "code",
   "execution_count": 16,
   "metadata": {},
   "outputs": [
    {
     "name": "stdout",
     "output_type": "stream",
     "text": [
      "5956 /data/reddylab/Revathy/collabs/Jamborees/fcc_capstone/data/inputs/intersections/ASTARR_wgSTARR_LentiMPRA_100%_intersected.100bp_bins.logFC_filtered.with_ATAC_peaks.merged.bed\r\n"
     ]
    }
   ],
   "source": [
    "!wc -l /data/reddylab/Revathy/collabs/Jamborees/fcc_capstone/data/inputs/intersections/ASTARR_wgSTARR_LentiMPRA_100%_intersected.100bp_bins.logFC_filtered.with_ATAC_peaks.merged.bed"
   ]
  },
  {
   "cell_type": "markdown",
   "metadata": {},
   "source": [
    "## GC content matching"
   ]
  },
  {
   "cell_type": "code",
   "execution_count": 17,
   "metadata": {},
   "outputs": [],
   "source": [
    "%%bash\n",
    "module load bedtools2\n",
    "bedtools nuc -fi /data/reddylab/Reference_Data/Genomes/hg38/hg38.fa \\\n",
    "-bed /data/reddylab/Revathy/collabs/Jamborees/fcc_capstone/data/inputs/intersections/ASTARR_wgSTARR_LentiMPRA_100%_intersected.100bp_bins.logFC_filtered.with_ATAC_peaks.merged.bed \\\n",
    "> /data/reddylab/Revathy/collabs/Jamborees/fcc_capstone/data/inputs/intersections/ASTARR_wgSTARR_LentiMPRA_100%_intersected.100bp_bins.logFC_filtered.with_ATAC_peaks.merged.GC_content.txt"
   ]
  },
  {
   "cell_type": "code",
   "execution_count": 18,
   "metadata": {},
   "outputs": [
    {
     "name": "stdout",
     "output_type": "stream",
     "text": [
      "5957 /data/reddylab/Revathy/collabs/Jamborees/fcc_capstone/data/inputs/intersections/ASTARR_wgSTARR_LentiMPRA_100%_intersected.100bp_bins.logFC_filtered.with_ATAC_peaks.merged.GC_content.txt\r\n"
     ]
    }
   ],
   "source": [
    "!wc -l /data/reddylab/Revathy/collabs/Jamborees/fcc_capstone/data/inputs/intersections/ASTARR_wgSTARR_LentiMPRA_100%_intersected.100bp_bins.logFC_filtered.with_ATAC_peaks.merged.GC_content.txt"
   ]
  },
  {
   "cell_type": "code",
   "execution_count": 19,
   "metadata": {},
   "outputs": [
    {
     "name": "stdout",
     "output_type": "stream",
     "text": [
      "chr1 1005040 1005210 170\n",
      "chr1 1059070 1059190 120\n",
      "chr1 1063970 1064070 100\n",
      "chr1 1079460 1079560 100\n",
      "chr1 1080300 1080400 100\n",
      "chr1 1080500 1080640 140\n",
      "chr1 1109830 1110020 190\n",
      "chr1 1156560 1156670 110\n",
      "chr1 1290340 1290440 100\n",
      "chr1 1291920 1292020 100\n"
     ]
    }
   ],
   "source": [
    "%%bash\n",
    "awk '{$4 = $3 - $2} 1' /data/reddylab/Revathy/collabs/Jamborees/fcc_capstone/data/inputs/intersections/ASTARR_wgSTARR_LentiMPRA_100%_intersected.100bp_bins.logFC_filtered.with_ATAC_peaks.merged.bed | head"
   ]
  },
  {
   "cell_type": "markdown",
   "metadata": {},
   "source": [
    "Create a concat set of all active peaks where ASTARR active peaks, wgSTARR and LentiMPRA are from z_score_processed Junke's enhancer calls and using the summit of peaks for them.\n",
    "\n"
   ]
  },
  {
   "cell_type": "code",
   "execution_count": 1,
   "metadata": {},
   "outputs": [],
   "source": [
    "%%bash\n",
    "awk -vOFS='\\t' '{print $(NF-5), $(NF-4), $(NF-3)}' /data/reddylab/Revathy/collabs/Jamborees/fcc_capstone/data/Junke_enhancer_calls_5Oct/z_score_processed/ASTARR/merged_peak/merged_enhancer_peak_orientation_independent.bed \\\n",
    "> /data/reddylab/Revathy/collabs/Jamborees/fcc_capstone/data/Junke_enhancer_calls_5Oct/z_score_processed/ASTARR/merged_peak/ASTARR_merged_enhancer_peak_orientation_independent.summits.bed"
   ]
  },
  {
   "cell_type": "markdown",
   "metadata": {},
   "source": [
    "__Point to note:__ Enhancer peak calls are from the 100bp binsize 10bp stepsize criteria and there are only 2837 merged enhancer orientation independent peaks.\n",
    "\n",
    "\n",
    "The summit of peaks for wgSTARR has been extracted in [Heatmaps_v3.ipynb](https://jupyterhub.genome.duke.edu/user/rv103/notebooks/reddylab_data/Revathy/collabs/Jamborees/fcc_capstone/Heatmaps_v3.ipynb) and is stored in `/data/reddylab/Revathy/collabs/Jamborees/fcc_capstone/data/Junke_enhancer_calls_5Oct/z_score_processed/wgSTARR/merged_peak/merged_enhancer_peak_orientation_independent.summits.bed`\n",
    "\n",
    "There are 8025 enhancer peaks for the wgSTARRseq data and hence a random set of 5000 peaks are selected for the heatmaps: `/data/reddylab/Revathy/collabs/Jamborees/fcc_capstone/data/Junke_enhancer_calls_5Oct/z_score_processed/wgSTARR/merged_peak/merged_enhancer_peak_orientation_independent.summits.random5000.bed`"
   ]
  },
  {
   "cell_type": "markdown",
   "metadata": {},
   "source": [
    "Extract summits for lentiMPRA from the `/data/reddylab/Revathy/collabs/Jamborees/fcc_capstone/data/Junke_enhancer_calls_5Oct/z_score_processed/lentiMPRA/merged_peak/merged_enhancer_peak_orientation_independent.bed`"
   ]
  },
  {
   "cell_type": "code",
   "execution_count": 2,
   "metadata": {},
   "outputs": [
    {
     "name": "stdout",
     "output_type": "stream",
     "text": [
      "chr1\t904350\t904550\tpeak_both_1\t0.6860351860251425\t.\t2.486528607373333\t[0.557320852311643, 0.814749519738642]\tchr1\t904350\t904550\t0.6860351860251425\t2.486528607373333\t200\n",
      "chr1\t941699\t941899\tpeak_both_2\t0.6151918903425975\t.\t2.229259968189123\t[0.617480530232188, 0.612903250453007]\tchr1\t941699\t941899\t0.6151918903425975\t2.229259968189123\t200\n",
      "chr1\t959200\t959400\tpeak_both_3\t1.290913915940695\t.\t4.68315605415641\t[1.06290781430779, 1.5189200175736]\tchr1\t959200\t959400\t1.290913915940695\t4.68315605415641\t200\n",
      "chr1\t960501\t960701\tpeak_both_4\t0.8107127028565275\t.\t2.9392971408392303\t[0.600519959041735, 1.02090544667132]\tchr1\t960501\t960701\t0.8107127028565275\t2.9392971408392303\t200\n",
      "chr1\t966397\t966597\tpeak_both_5\t1.0027240649974196\t.\t3.63658968447318\t[0.906287751186369, 1.09916037880847]\tchr1\t966397\t966597\t1.0027240649974196\t3.63658968447318\t200\n",
      "chr1\t1059269\t1059469\tpeak_both_6\t0.8457721988646085\t.\t3.0666162998588975\t[0.587736071647507, 1.10380832608171]\tchr1\t1059269\t1059469\t0.8457721988646085\t3.066616299858897\t200\n",
      "chr1\t1074205\t1074405\tpeak_both_7\t1.15195267406404\t.\t4.178515929039202\t[1.18415710836208, 1.119748239766]\tchr1\t1074205\t1074405\t1.15195267406404\t4.178515929039202\t200\n",
      "chr1\t1214030\t1214230\tpeak_both_8\t0.8279293039953415\t.\t3.001819522155425\t[0.969019011556826, 0.686839596433857]\tchr1\t1214030\t1214230\t0.8279293039953415\t3.001819522155425\t200\n",
      "chr1\t1318327\t1318527\tpeak_both_9\t0.7083351496131189\t.\t2.567511306312757\t[0.550477433517664, 0.866192865708574]\tchr1\t1318327\t1318527\t0.7083351496131189\t2.567511306312757\t200\n",
      "chr1\t1324519\t1324719\tpeak_both_10\t1.3205246191357198\t.\t4.790687828940125\t[1.36337739820689, 1.27767184006455]\tchr1\t1324519\t1324719\t1.3205246191357198\t4.790687828940125\t200\n"
     ]
    }
   ],
   "source": [
    "!head /data/reddylab/Revathy/collabs/Jamborees/fcc_capstone/data/Junke_enhancer_calls_5Oct/z_score_processed/lentiMPRA/merged_peak/merged_enhancer_peak_orientation_independent.bed"
   ]
  },
  {
   "cell_type": "code",
   "execution_count": 23,
   "metadata": {},
   "outputs": [],
   "source": [
    "%%bash\n",
    "awk -vOFS='\\t' '{print $(NF-5), $(NF-4), $(NF-3)}' /data/reddylab/Revathy/collabs/Jamborees/fcc_capstone/data/Junke_enhancer_calls_5Oct/z_score_processed/lentiMPRA/merged_peak/merged_enhancer_peak_orientation_independent.bed \\\n",
    "> /data/reddylab/Revathy/collabs/Jamborees/fcc_capstone/data/Junke_enhancer_calls_5Oct/z_score_processed/lentiMPRA/merged_peak/lentiMPRA_merged_enhancer_peak_orientation_independent.summits.bed"
   ]
  },
  {
   "cell_type": "code",
   "execution_count": 1,
   "metadata": {},
   "outputs": [
    {
     "name": "stdout",
     "output_type": "stream",
     "text": [
      "chr1\t904350\t904550\r\n",
      "chr1\t941699\t941899\r\n",
      "chr1\t959200\t959400\r\n",
      "chr1\t960501\t960701\r\n",
      "chr1\t966397\t966597\r\n",
      "chr1\t1059269\t1059469\r\n",
      "chr1\t1074205\t1074405\r\n",
      "chr1\t1214030\t1214230\r\n",
      "chr1\t1318327\t1318527\r\n",
      "chr1\t1324519\t1324719\r\n"
     ]
    }
   ],
   "source": [
    "!head /data/reddylab/Revathy/collabs/Jamborees/fcc_capstone/data/Junke_enhancer_calls_5Oct/z_score_processed/lentiMPRA/merged_peak/lentiMPRA_merged_enhancer_peak_orientation_independent.summits.bed"
   ]
  },
  {
   "cell_type": "markdown",
   "metadata": {},
   "source": [
    "Select random 5000 from the 26732 enhancer peaks for lentiMPRA data"
   ]
  },
  {
   "cell_type": "code",
   "execution_count": 26,
   "metadata": {},
   "outputs": [],
   "source": [
    "%%bash\n",
    "shuf -n 5000 /data/reddylab/Revathy/collabs/Jamborees/fcc_capstone/data/Junke_enhancer_calls_5Oct/z_score_processed/lentiMPRA/merged_peak/lentiMPRA_merged_enhancer_peak_orientation_independent.summits.bed \\\n",
    "> /data/reddylab/Revathy/collabs/Jamborees/fcc_capstone/data/Junke_enhancer_calls_5Oct/z_score_processed/lentiMPRA/merged_peak/lentiMPRA_merged_enhancer_peak_orientation_independent.summits.random5000.bed"
   ]
  },
  {
   "cell_type": "code",
   "execution_count": 1,
   "metadata": {},
   "outputs": [
    {
     "name": "stdout",
     "output_type": "stream",
     "text": [
      "1037\n"
     ]
    }
   ],
   "source": [
    "%%bash\n",
    "bedtools intersect \\\n",
    "-a /data/reddylab/Revathy/collabs/Jamborees/fcc_capstone/data/Junke_enhancer_calls_5Oct/z_score_processed/ASTARR/merged_peak/merged_enhancer_peak_orientation_independent.bed \\\n",
    "-b /data/reddylab/Revathy/collabs/Jamborees/fcc_capstone/data/Junke_enhancer_calls_5Oct/z_score_processed/ASTARR/merged_peak/merged_enhancer_peaks_in_each_orientation.bed \\\n",
    "-f 1.0 -r \\\n",
    "| wc -l"
   ]
  },
  {
   "cell_type": "markdown",
   "metadata": {},
   "source": [
    "There are 1037 ASTARR enhancer peaks that are common in the merged_enhancer_peak_orientation_independent calls and merged_enhancer_peaks_in_each_orientation"
   ]
  },
  {
   "cell_type": "code",
   "execution_count": 27,
   "metadata": {},
   "outputs": [],
   "source": [
    "%%bash \n",
    "cat /data/reddylab/Revathy/collabs/Jamborees/fcc_capstone/data/Junke_enhancer_calls_5Oct/z_score_processed/ASTARR/merged_peak/ASTARR_merged_enhancer_peak_orientation_independent.summits.bed \\\n",
    "/data/reddylab/Revathy/collabs/Jamborees/fcc_capstone/data/Junke_enhancer_calls_5Oct/z_score_processed/lentiMPRA/merged_peak/lentiMPRA_merged_enhancer_peak_orientation_independent.summits.random5000.bed \\\n",
    "/data/reddylab/Revathy/collabs/Jamborees/fcc_capstone/data/Junke_enhancer_calls_5Oct/z_score_processed/wgSTARR/merged_peak/merged_enhancer_peak_orientation_independent.summits.random5000.bed \\\n",
    "| sort -k1,1 -k2,2n \\\n",
    "> /data/reddylab/Revathy/collabs/Jamborees/fcc_capstone/data/ASTARR_LentiMPRA_wgSTARR_active_peaks_concat.ASTARR_wgSTARR_summits.bed"
   ]
  },
  {
   "cell_type": "code",
   "execution_count": 28,
   "metadata": {},
   "outputs": [
    {
     "name": "stdout",
     "output_type": "stream",
     "text": [
      "12837 /data/reddylab/Revathy/collabs/Jamborees/fcc_capstone/data/ASTARR_LentiMPRA_wgSTARR_active_peaks_concat.ASTARR_wgSTARR_summits.bed\r\n"
     ]
    }
   ],
   "source": [
    "!wc -l /data/reddylab/Revathy/collabs/Jamborees/fcc_capstone/data/ASTARR_LentiMPRA_wgSTARR_active_peaks_concat.ASTARR_wgSTARR_summits.bed"
   ]
  },
  {
   "cell_type": "code",
   "execution_count": 29,
   "metadata": {},
   "outputs": [
    {
     "name": "stdout",
     "output_type": "stream",
     "text": [
      "chr1\t778620\t778720\r\n",
      "chr1\t1013360\t1013460\r\n",
      "chr1\t1018230\t1018330\r\n",
      "chr1\t1064200\t1064300\r\n",
      "chr1\t1107420\t1107520\r\n",
      "chr1\t1201590\t1201690\r\n",
      "chr1\t1308350\t1308450\r\n",
      "chr1\t1358446\t1358646\r\n",
      "chr1\t1375340\t1375440\r\n",
      "chr1\t1407119\t1407319\r\n"
     ]
    }
   ],
   "source": [
    "!head /data/reddylab/Revathy/collabs/Jamborees/fcc_capstone/data/ASTARR_LentiMPRA_wgSTARR_active_peaks_concat.ASTARR_wgSTARR_summits.bed"
   ]
  },
  {
   "cell_type": "code",
   "execution_count": 30,
   "metadata": {},
   "outputs": [],
   "source": [
    "%%bash\n",
    "module load bedtools2\n",
    "bedtools nuc -fi /data/reddylab/Reference_Data/Genomes/hg38/hg38.fa \\\n",
    "-bed /data/reddylab/Revathy/collabs/Jamborees/fcc_capstone/data/ASTARR_LentiMPRA_wgSTARR_active_peaks_concat.ASTARR_wgSTARR_summits.bed \\\n",
    "> /data/reddylab/Revathy/collabs/Jamborees/fcc_capstone/data/ASTARR_LentiMPRA_wgSTARR_active_peaks_concat.ASTARR_wgSTARR_summits.GC_content.txt"
   ]
  },
  {
   "cell_type": "code",
   "execution_count": 31,
   "metadata": {},
   "outputs": [
    {
     "name": "stdout",
     "output_type": "stream",
     "text": [
      "#1_usercol\t2_usercol\t3_usercol\t4_pct_at\t5_pct_gc\t6_num_A\t7_num_C\t8_num_G\t9_num_T\t10_num_N\t11_num_oth\t12_seq_len\r\n",
      "chr1\t1005040\t1005210\t0.400000\t0.600000\t25\t65\t37\t43\t0\t0\t170\r\n",
      "chr1\t1059070\t1059190\t0.291667\t0.708333\t21\t26\t59\t14\t0\t0\t120\r\n",
      "chr1\t1063970\t1064070\t0.220000\t0.780000\t11\t38\t40\t11\t0\t0\t100\r\n",
      "chr1\t1079460\t1079560\t0.330000\t0.670000\t14\t39\t28\t19\t0\t0\t100\r\n",
      "chr1\t1080300\t1080400\t0.340000\t0.660000\t18\t22\t44\t16\t0\t0\t100\r\n",
      "chr1\t1080500\t1080640\t0.400000\t0.600000\t20\t43\t41\t36\t0\t0\t140\r\n",
      "chr1\t1109830\t1110020\t0.431579\t0.568421\t40\t48\t60\t42\t0\t0\t190\r\n",
      "chr1\t1156560\t1156670\t0.472727\t0.527273\t30\t26\t32\t22\t0\t0\t110\r\n",
      "chr1\t1290340\t1290440\t0.300000\t0.700000\t10\t36\t34\t20\t0\t0\t100\r\n"
     ]
    }
   ],
   "source": [
    "!head /data/reddylab/Revathy/collabs/Jamborees/fcc_capstone/data/inputs/intersections/ASTARR_wgSTARR_LentiMPRA_100%_intersected.100bp_bins.logFC_filtered.with_ATAC_peaks.merged.GC_content.txt"
   ]
  },
  {
   "cell_type": "code",
   "execution_count": 33,
   "metadata": {},
   "outputs": [
    {
     "name": "stderr",
     "output_type": "stream",
     "text": [
      "/data/reddylab/software/miniconda3/envs/revathy_py3/lib/python3.5/site-packages/scipy/stats/stats.py:1706: FutureWarning: Using a non-tuple sequence for multidimensional indexing is deprecated; use `arr[tuple(seq)]` instead of `arr[seq]`. In the future this will be interpreted as an array index, `arr[np.array(seq)]`, which will result either in an error or a different result.\n",
      "  return np.add.reduce(sorted[indexer] * weights, axis=axis) / sumval\n"
     ]
    },
    {
     "data": {
      "image/png": "[encoded data removed]",
      "text/plain": [
       "<Figure size 720x576 with 1 Axes>"
      ]
     },
     "metadata": {
      "needs_background": "light"
     },
     "output_type": "display_data"
    }
   ],
   "source": [
    "import pandas as pd\n",
    "import seaborn as sns\n",
    "import matplotlib.pyplot as plt\n",
    "\n",
    "all_inactive_peaks = pd.read_csv('/data/reddylab/Revathy/collabs/Jamborees/fcc_capstone/data/inputs/intersections/ASTARR_wgSTARR_LentiMPRA_100%_intersected.100bp_bins.logFC_filtered.with_ATAC_peaks.merged.GC_content.txt', sep='\\t')\n",
    "all_active_peaks = pd.read_csv('/data/reddylab/Revathy/collabs/Jamborees/fcc_capstone/data/ASTARR_LentiMPRA_wgSTARR_active_peaks_concat.ASTARR_wgSTARR_summits.GC_content.txt', sep='\\t')\n",
    "\n",
    "\n",
    "plt.figure(figsize=(10,8))\n",
    "density_inactive, bins_inactive, patches_inactive = plt.hist(all_inactive_peaks['5_pct_gc'], density=True, bins=100, alpha=0.5,  color='blue', label=\"all_inactive_peaks\")\n",
    "density_active, bins_active, patches_active = plt.hist(all_active_peaks['5_pct_gc'], density=True, bins=100, alpha=0.5, color='red', label=\"all_active_peaks\")\n",
    "sns.kdeplot(all_inactive_peaks['5_pct_gc'], color='darkblue')\n",
    "sns.kdeplot(all_active_peaks['5_pct_gc'], color='darkred')\n",
    "plt.xlabel(\"Data\", size=14)\n",
    "plt.ylabel(\"Density\", size=14)\n",
    "plt.legend(loc='upper right')\n",
    "sns.despine()\n",
    "plt.show()"
   ]
  },
  {
   "cell_type": "code",
   "execution_count": 52,
   "metadata": {},
   "outputs": [
    {
     "name": "stderr",
     "output_type": "stream",
     "text": [
      "/data/reddylab/software/miniconda3/envs/revathy_py3/lib/python3.5/site-packages/ipykernel_launcher.py:21: FutureWarning: \n",
      "Passing list-likes to .loc or [] with any missing label will raise\n",
      "KeyError in the future, you can use .reindex() as an alternative.\n",
      "\n",
      "See the documentation here:\n",
      "https://pandas.pydata.org/pandas-docs/stable/indexing.html#deprecate-loc-reindex-listlike\n",
      "/data/reddylab/software/miniconda3/envs/revathy_py3/lib/python3.5/site-packages/scipy/stats/stats.py:1706: FutureWarning: Using a non-tuple sequence for multidimensional indexing is deprecated; use `arr[tuple(seq)]` instead of `arr[seq]`. In the future this will be interpreted as an array index, `arr[np.array(seq)]`, which will result either in an error or a different result.\n",
      "  return np.add.reduce(sorted[indexer] * weights, axis=axis) / sumval\n"
     ]
    },
    {
     "data": {
      "image/png": "[encoded data removed]",
      "text/plain": [
       "<Figure size 720x576 with 1 Axes>"
      ]
     },
     "metadata": {
      "needs_background": "light"
     },
     "output_type": "display_data"
    }
   ],
   "source": [
    "import random \n",
    "import numpy as np\n",
    "import pandas as pd\n",
    "\n",
    "random.seed(42)\n",
    "df=None\n",
    "\n",
    "count_active, bin_edge_active = np.histogram(all_active_peaks['5_pct_gc'], bins = 100)\n",
    "\n",
    "sample_size = ((count_active.astype(int)/sum(count_active))*7800).astype(int)\n",
    "for i in range(0,100):\n",
    "    bin_start = bin_edge_active[i]\n",
    "    bin_stop = bin_edge_active[i+1]\n",
    "    all_inactive_peaks_v1 = all_inactive_peaks[(all_inactive_peaks['5_pct_gc']>=bin_start)&(all_inactive_peaks['5_pct_gc']<bin_stop)].reset_index()\n",
    "    all_inactive_peaks_v1.drop(columns='index', inplace=True)\n",
    "    \n",
    "    count_active = count_active.astype(int)\n",
    "    m = list(range(0, sample_size[i]))\n",
    "    \n",
    "    if not all_inactive_peaks_v1.empty:\n",
    "        all_inactive_peaks_random = all_inactive_peaks_v1.loc[m]\n",
    "        \n",
    "        if df is None:\n",
    "            df = all_inactive_peaks_random\n",
    "        else:\n",
    "            df = pd.concat([df,all_inactive_peaks_random])  \n",
    "\n",
    "# df[['chr','start','end']] = df['peak'].str.split('_', expand=True)\n",
    "df = df.dropna().astype({'2_usercol':'int', '3_usercol':'int'})\n",
    "df[['#1_usercol','2_usercol','3_usercol']].dropna().to_csv('/data/reddylab/Revathy/collabs/Jamborees/fcc_capstone/data/inputs/intersections/ASTARR_wgSTARR_LentiMPRA_100%_intersected.100bp_bins.logFC_filtered.with_ATAC_peaks.merged.random5000.bed', sep='\\t', index=False, header=None)\n",
    "\n",
    "# plt.figure(figsize=(10,8))\n",
    "# plt.hist(df['5_pct_gc'], bins=100, alpha=0.5, label=\"all_inactive_peaks\")\n",
    "# plt.hist(all_active_peaks['5_pct_gc'], bins=100, alpha=0.5, label=\"all_active_peaks\")\n",
    "# plt.xlabel(\"Data\", size=14)\n",
    "# plt.ylabel(\"Count\", size=14)\n",
    "# plt.legend(loc='upper right')\n",
    "# sns.despine()\n",
    "\n",
    "plt.figure(figsize=(10,8))\n",
    "plt.hist(df['5_pct_gc'], density=True, bins=100, alpha=0.5,  color='blue', label=\"all_inactive_peaks\")\n",
    "plt.hist(all_active_peaks['5_pct_gc'], density=True, bins=100, alpha=0.5, color='red', label=\"all_active_peaks\")\n",
    "sns.kdeplot(df['5_pct_gc'], color='darkblue')\n",
    "sns.kdeplot(all_active_peaks['5_pct_gc'], color='darkred')\n",
    "plt.xlabel(\"Data\", size=14)\n",
    "plt.ylabel(\"Density\", size=14)\n",
    "plt.legend(loc='upper right')\n",
    "sns.despine()\n",
    "plt.show()"
   ]
  },
  {
   "cell_type": "code",
   "execution_count": 53,
   "metadata": {},
   "outputs": [
    {
     "data": {
      "text/plain": [
       "(5004, 12)"
      ]
     },
     "execution_count": 53,
     "metadata": {},
     "output_type": "execute_result"
    }
   ],
   "source": [
    "df.shape"
   ]
  },
  {
   "cell_type": "code",
   "execution_count": null,
   "metadata": {},
   "outputs": [],
   "source": []
  },
  {
   "cell_type": "markdown",
   "metadata": {},
   "source": [
    "### Comparing the ASTARR inactive bins with the common inactive background set"
   ]
  },
  {
   "cell_type": "code",
   "execution_count": 14,
   "metadata": {},
   "outputs": [],
   "source": [
    "%%bash\n",
    "source /data/reddylab/software/miniconda3/bin/activate revathy_py3\n",
    "bedtools intersect \\\n",
    "-a /data/reddylab/Revathy/collabs/Jamborees/fcc_capstone/data/Junke_enhancer_calls_5Oct/processed/bin_level/inactive_bins_with_raw_count.merged.bed \\\n",
    "-b /data/reddylab/Revathy/collabs/Jamborees/fcc_capstone/data/inputs/intersections/ASTARR_wgSTARR_LentiMPRA_100%_intersected.logFC_filtered.with_ATAC_peaks.coordinates_corrected.merged.bed \\\n",
    "| awk '$4>-0.5 && $4<0.5' \\\n",
    "> /data/reddylab/Revathy/collabs/Jamborees/fcc_capstone/data/Junke_enhancer_calls_5Oct/processed/bin_level/inactive_bins_with_raw_count_merged.intersected_with_common_background_set.logFC_filtered.bed\n",
    "\n"
   ]
  },
  {
   "cell_type": "markdown",
   "metadata": {},
   "source": [
    "When intersecting the merged inactive bins from the ASTARR data with the common background set, there are 21649 peaks for 1bp default intersect. When the overlap percentage is 100%, the number of intersecting peaks is 747\n",
    "\n",
    "When the logFC filtered is used (effectSize close to zero -threshold = +/- 0.5), the number of regions are 16159"
   ]
  },
  {
   "cell_type": "markdown",
   "metadata": {},
   "source": [
    "#### Adjust for the GC content"
   ]
  },
  {
   "cell_type": "code",
   "execution_count": 17,
   "metadata": {},
   "outputs": [],
   "source": [
    "%%bash\n",
    "source /data/reddylab/software/miniconda3/bin/activate revathy_py3\n",
    "bedtools nuc -fi /data/reddylab/Reference_Data/Genomes/hg38/hg38.fa \\\n",
    "-bed /data/reddylab/Revathy/collabs/Jamborees/fcc_capstone/data/Junke_enhancer_calls_5Oct/processed/bin_level/inactive_bins_with_raw_count_merged.intersected_with_common_background_set.logFC_filtered.bed \\\n",
    "> /data/reddylab/Revathy/collabs/Jamborees/fcc_capstone/data/Junke_enhancer_calls_5Oct/processed/bin_level/inactive_bins_with_raw_count_merged.intersected_with_common_background_set.logFC_filtered.GC_content.txt"
   ]
  },
  {
   "cell_type": "markdown",
   "metadata": {},
   "source": [
    "active peak calls from ASTARR_GC content: `/data/reddylab/Revathy/collabs/Jamborees/fcc_capstone/data/Junke_ASTARR.30bp_bin.merged_sig_up_in_each_orientation.random5000.GC_content.txt`"
   ]
  },
  {
   "cell_type": "code",
   "execution_count": 21,
   "metadata": {},
   "outputs": [
    {
     "data": {
      "image/png": "[encoded data removed]",
      "text/plain": [
       "<Figure size 720x576 with 1 Axes>"
      ]
     },
     "metadata": {
      "needs_background": "light"
     },
     "output_type": "display_data"
    }
   ],
   "source": [
    "import pandas as pd\n",
    "import seaborn as sns\n",
    "import matplotlib.pyplot as plt\n",
    "\n",
    "ASTARR_inactive_peaks = pd.read_csv('/data/reddylab/Revathy/collabs/Jamborees/fcc_capstone/data/Junke_enhancer_calls_5Oct/processed/bin_level/inactive_bins_with_raw_count_merged.intersected_with_common_background_set.logFC_filtered.GC_content.txt', sep='\\t')\n",
    "ASTARR_active_peaks = pd.read_csv('/data/reddylab/Revathy/collabs/Jamborees/fcc_capstone/data/Junke_ASTARR.30bp_bin.merged_sig_up_in_each_orientation.random5000.GC_content.txt', sep='\\t')\n",
    "\n",
    "\n",
    "plt.figure(figsize=(10,8))\n",
    "density_inactive, bins_inactive, patches_inactive = plt.hist(ASTARR_inactive_peaks['6_pct_gc'], density=True, bins=100, alpha=0.5, label=\"ASTARR_inactive_peaks\")\n",
    "density_active, bins_active, patches_active = plt.hist(ASTARR_active_peaks['11_pct_gc'], density=True, bins=100, alpha=0.5, label=\"ASTARR_active_peaks\")\n",
    "plt.xlabel(\"Data\", size=14)\n",
    "plt.ylabel(\"Density\", size=14)\n",
    "plt.legend(loc='upper right')\n",
    "sns.despine()\n",
    "plt.show()"
   ]
  },
  {
   "cell_type": "code",
   "execution_count": 23,
   "metadata": {},
   "outputs": [
    {
     "name": "stderr",
     "output_type": "stream",
     "text": [
      "/data/reddylab/software/miniconda3/envs/revathy_py3/lib/python3.5/site-packages/ipykernel_launcher.py:21: FutureWarning: \n",
      "Passing list-likes to .loc or [] with any missing label will raise\n",
      "KeyError in the future, you can use .reindex() as an alternative.\n",
      "\n",
      "See the documentation here:\n",
      "https://pandas.pydata.org/pandas-docs/stable/indexing.html#deprecate-loc-reindex-listlike\n"
     ]
    },
    {
     "data": {
      "image/png": "[encoded data removed]",
      "text/plain": [
       "<Figure size 720x576 with 1 Axes>"
      ]
     },
     "metadata": {
      "needs_background": "light"
     },
     "output_type": "display_data"
    },
    {
     "data": {
      "image/png": "[encoded data removed]",
      "text/plain": [
       "<Figure size 720x576 with 1 Axes>"
      ]
     },
     "metadata": {
      "needs_background": "light"
     },
     "output_type": "display_data"
    }
   ],
   "source": [
    "import random \n",
    "import numpy as np\n",
    "import pandas as pd\n",
    "\n",
    "random.seed(42)\n",
    "df=None\n",
    "\n",
    "count_active, bin_edge_active = np.histogram(ASTARR_active_peaks['11_pct_gc'], bins = 100)\n",
    "\n",
    "sample_size = ((count_active.astype(int)/sum(count_active))*5125).astype(int)\n",
    "for i in range(0,100):\n",
    "    bin_start = bin_edge_active[i]\n",
    "    bin_stop = bin_edge_active[i+1]\n",
    "    all_inactive_peaks_v1 = ASTARR_inactive_peaks[(ASTARR_inactive_peaks['6_pct_gc']>=bin_start)&(ASTARR_inactive_peaks['6_pct_gc']<bin_stop)].reset_index()\n",
    "    all_inactive_peaks_v1.drop(columns='index', inplace=True)\n",
    "    \n",
    "    count_active = count_active.astype(int)\n",
    "    m = list(range(0, sample_size[i]))\n",
    "    \n",
    "    if not all_inactive_peaks_v1.empty:\n",
    "        all_inactive_peaks_random = all_inactive_peaks_v1.loc[m]\n",
    "        \n",
    "        if df is None:\n",
    "            df = all_inactive_peaks_random\n",
    "        else:\n",
    "            df = pd.concat([df,all_inactive_peaks_random])  \n",
    "\n",
    "# df[['chr','start','end']] = df['peak'].str.split('_', expand=True)\n",
    "df = df.dropna().astype({'2_usercol':'int', '3_usercol':'int'})\n",
    "df[['#1_usercol','2_usercol','3_usercol']].dropna().to_csv('/data/reddylab/Revathy/collabs/Jamborees/fcc_capstone/data/Junke_enhancer_calls_5Oct/processed/bin_level/inactive_bins_with_raw_count_merged.intersected_with_common_background_set.logFC_filtered.GC_content_matched_5000.bed', sep='\\t', index=False, header=None)\n",
    "\n",
    "plt.figure(figsize=(10,8))\n",
    "plt.hist(df['6_pct_gc'], bins=100, alpha=0.5, label=\"all_inactive_peaks\")\n",
    "plt.hist(ASTARR_active_peaks['11_pct_gc'], bins=100, alpha=0.5, label=\"all_active_peaks\")\n",
    "plt.xlabel(\"Data\", size=14)\n",
    "plt.ylabel(\"Count\", size=14)\n",
    "plt.legend(loc='upper right')\n",
    "sns.despine()\n",
    "\n",
    "plt.figure(figsize=(10,8))\n",
    "plt.hist(df['6_pct_gc'], density=True, bins=100, alpha=0.5, label=\"all_inactive_peaks\")\n",
    "plt.hist(ASTARR_active_peaks['11_pct_gc'], density=True, bins=100, alpha=0.5, label=\"all_active_peaks\")\n",
    "plt.xlabel(\"Data\", size=14)\n",
    "plt.ylabel(\"Density\", size=14)\n",
    "plt.legend(loc='upper right')\n",
    "sns.despine()\n",
    "plt.show()"
   ]
  },
  {
   "cell_type": "code",
   "execution_count": 14,
   "metadata": {},
   "outputs": [
    {
     "name": "stdout",
     "output_type": "stream",
     "text": [
      "chrX 114059290 114059390 2.627736645952715 2.1599886118451965 140 100\n",
      "chrX 119206310 119206410 3.3139489311769 2.6441680722409897 130 100\n",
      "chrX 130594570 130594670 2.4202557808223046 2.0135937199372576 100 100\n",
      "chrX 130756340 130756440 2.84426307237604 2.312765894567298 210 100\n",
      "chrX 153970970 153971070 3.0662392278979 2.4693884114116225 390 100\n",
      "chrX 153971720 153971820 2.65665549870777 2.180393251668329 110 100\n",
      "chrX 154002240 154002340 2.64602664907349 2.1728937201219467 220 100\n",
      "chrX 154542100 154542200 3.34058665214743 2.6629631851286457 300 100\n",
      "chrX 154799220 154799320 4.388020785665575 3.4020145027559106 500 100\n",
      "chrX 156001660 156001760 2.73129627908581 2.2330584888626084 140 100\n"
     ]
    }
   ],
   "source": [
    "%%bash\n",
    "awk '{print $(NF-5), $(NF-4), $(NF-3), $(NF-2), $(NF-1), $NF}' /data/reddylab/Revathy/collabs/Jamborees/fcc_capstone/data/Junke_enhancer_calls_5Oct/z_score_processed/ASTARR/merged_peak/merged_enhancer_peak_orientation_independent.bed \\\n",
    "| awk '{$(NF+1) = $(NF-3)-$(NF-4)}'1 | tail "
   ]
  },
  {
   "cell_type": "code",
   "execution_count": 9,
   "metadata": {},
   "outputs": [
    {
     "name": "stdout",
     "output_type": "stream",
     "text": [
      "2.67923291417873,\n",
      "2.71096746534907,\n",
      "3.05323128106485,\n",
      "2.66805002072817,\n",
      "2.72148955914625,\n",
      "6949090\n",
      "2.51141856014059,\n",
      "3.41434492536558,\n",
      "2.51220644248265,\n",
      "2.71662045990919,\n"
     ]
    }
   ],
   "source": [
    "%%bash\n",
    "awk '{print $11}' /data/reddylab/Revathy/collabs/Jamborees/fcc_capstone/data/Junke_enhancer_calls_5Oct/z_score_processed/ASTARR/merged_peak/merged_enhancer_peak_orientation_independent.bed | head"
   ]
  },
  {
   "cell_type": "code",
   "execution_count": 41,
   "metadata": {},
   "outputs": [
    {
     "name": "stdout",
     "output_type": "stream",
     "text": [
      "chr1 1013360 1013460\n",
      "chr1 1724570 1724670\n",
      "chr1 2290810 2290910\n",
      "chr1 3313270 3313370\n",
      "chr1 5917760 5917860\n",
      "chr1 6949090 6949190\n",
      "chr1 8212100 8212200\n",
      "chr1 8873680 8873780\n",
      "chr1 8878010 8878110\n",
      "chr1 8900090 8900190\n"
     ]
    }
   ],
   "source": []
  },
  {
   "cell_type": "code",
   "execution_count": null,
   "metadata": {},
   "outputs": [],
   "source": []
  }
 ],
 "metadata": {
  "kernelspec": {
   "display_name": "Python3 (revathy)",
   "language": "python",
   "name": "revathy_py3"
  },
  "language_info": {
   "codemirror_mode": {
    "name": "ipython",
    "version": 3
   },
   "file_extension": ".py",
   "mimetype": "text/x-python",
   "name": "python",
   "nbconvert_exporter": "python",
   "pygments_lexer": "ipython3",
   "version": "3.5.4"
  }
 },
 "nbformat": 4,
 "nbformat_minor": 2
}
