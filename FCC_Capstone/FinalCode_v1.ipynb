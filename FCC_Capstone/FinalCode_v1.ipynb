{
 "cells": [
  {
   "cell_type": "markdown",
   "metadata": {
    "tags": []
   },
   "source": [
    "# Enhancer calls from Junke's pipeline\n",
    "\n",
    "Active peaks from 3 assays - random 5000 peak summits:\n",
    "    \n",
    "`/data/reddylab/Revathy/collabs/Jamborees/fcc_capstone/data/Junke_enhancer_calls_5Oct/z_score_processed/ASTARR/merged_peak/ASTARR_merged_enhancer_peaks_in_each_orientation.summits.random5000.bed`\n",
    "`/data/reddylab/Revathy/collabs/Jamborees/fcc_capstone/data/Junke_enhancer_calls_5Oct/z_score_processed/lentiMPRA/merged_peak/lentiMPRA_merged_enhancer_peaks_in_either_orientation.summits.random5000.bed` \n",
    "`/data/reddylab/Revathy/collabs/Jamborees/fcc_capstone/data/Junke_enhancer_calls_5Oct/z_score_processed/wgSTARR/merged_peak/wgSTARR_merged_enhancer_peaks_in_each_orientation.summits.random5000.bed`\n",
    "\n",
    "Binned fragments for each assay type:\n",
    "\n",
    "`/data/reddylab/Revathy/collabs/Jamborees/fcc_capstone/data/Junke_enhancer_calls_5Oct/z_score_processed/ASTARR/bin_level/bin_level_all_result.bed`\n",
    "`/data/reddylab/Revathy/collabs/Jamborees/fcc_capstone/data/Junke_enhancer_calls_5Oct/z_score_processed/lentiMPRA/bin_level/bin_level_all_result.bed`\n",
    "`/data/reddylab/Revathy/collabs/Jamborees/fcc_capstone/data/Junke_enhancer_calls_5Oct/z_score_processed/wgSTARR/bin_level/bin_level_all_result.bed`"
   ]
  },
  {
   "cell_type": "code",
   "execution_count": null,
   "metadata": {
    "collapsed": true,
    "jupyter": {
     "outputs_hidden": true
    },
    "tags": []
   },
   "outputs": [],
   "source": [
    "!head /data/reddylab/Revathy/collabs/Jamborees/fcc_capstone/data/Junke_enhancer_calls_5Oct/z_score_processed/wgSTARR/merged_peak/wgSTARR_merged_enhancer_peaks_in_each_orientation.summits.random5000.bed"
   ]
  },
  {
   "cell_type": "code",
   "execution_count": null,
   "metadata": {
    "collapsed": true,
    "jupyter": {
     "outputs_hidden": true
    }
   },
   "outputs": [],
   "source": [
    "%%bash\n",
    "wc -l /data/reddylab/Revathy/collabs/Jamborees/fcc_capstone/data/Junke_enhancer_calls_5Oct/z_score_processed/ASTARR/bin_level/bin_level_all_result.bed \n",
    "wc -l /data/reddylab/Revathy/collabs/Jamborees/fcc_capstone/data/Junke_enhancer_calls_5Oct/z_score_processed/lentiMPRA/element_level/element_level_all_result.bed\n",
    "wc -l /data/reddylab/Revathy/collabs/Jamborees/fcc_capstone/data/Junke_enhancer_calls_5Oct/z_score_processed/wgSTARR/bin_level/bin_level_all_result.bed"
   ]
  },
  {
   "cell_type": "markdown",
   "metadata": {},
   "source": [
    "# Inactive regions for each assay"
   ]
  },
  {
   "cell_type": "code",
   "execution_count": 1,
   "metadata": {
    "collapsed": true,
    "jupyter": {
     "outputs_hidden": true
    },
    "tags": []
   },
   "outputs": [],
   "source": [
    "%%bash\n",
    "awk '$5>-0.5 && $5<0.5' /data/reddylab/Revathy/collabs/Jamborees/fcc_capstone/data/Junke_enhancer_calls_5Oct/z_score_processed/ASTARR/bin_level/bin_level_all_result.bed \\\n",
    "| awk '$13 == \"inactive\"' \\\n",
    "| bedtools merge -i - \\\n",
    "> /data/reddylab/Revathy/collabs/Jamborees/fcc_capstone/data/Junke_enhancer_calls_5Oct/z_score_processed/ASTARR/bin_level/ASTARR_bin_level_all_result.inactive.merged.bed\n",
    "awk '$5>-0.5 && $5<0.5' /data/reddylab/Revathy/collabs/Jamborees/fcc_capstone/data/Junke_enhancer_calls_5Oct/z_score_processed/lentiMPRA/element_level/element_level_all_result.bed \\\n",
    "| awk '$11 == \"inactive\"' \\\n",
    "| bedtools merge -i - \\\n",
    "> /data/reddylab/Revathy/collabs/Jamborees/fcc_capstone/data/Junke_enhancer_calls_5Oct/z_score_processed/lentiMPRA/element_level/lentiMPRA_element_level_all_result.inactive.merged.bed\n",
    "awk '$5>-0.5 && $5<0.5' /data/reddylab/Revathy/collabs/Jamborees/fcc_capstone/data/Junke_enhancer_calls_5Oct/z_score_processed/wgSTARR/bin_level/bin_level_all_result.bed \\\n",
    "| awk '$13 == \"inactive\"' \\\n",
    "| bedtools merge -i - \\\n",
    "> /data/reddylab/Revathy/collabs/Jamborees/fcc_capstone/data/Junke_enhancer_calls_5Oct/z_score_processed/wgSTARR/bin_level/wgSTARR_bin_level_all_result.inactive.merged.bed"
   ]
  },
  {
   "cell_type": "code",
   "execution_count": 3,
   "metadata": {
    "collapsed": true,
    "jupyter": {
     "outputs_hidden": true
    }
   },
   "outputs": [
    {
     "name": "stdout",
     "output_type": "stream",
     "text": [
      "76312 /data/reddylab/Revathy/collabs/Jamborees/fcc_capstone/data/Junke_enhancer_calls_5Oct/z_score_processed/ASTARR/bin_level/ASTARR_bin_level_all_result.inactive.merged.bed\n",
      "80261 /data/reddylab/Revathy/collabs/Jamborees/fcc_capstone/data/Junke_enhancer_calls_5Oct/z_score_processed/lentiMPRA/element_level/lentiMPRA_element_level_all_result.inactive.merged.bed\n",
      "1523295 /data/reddylab/Revathy/collabs/Jamborees/fcc_capstone/data/Junke_enhancer_calls_5Oct/z_score_processed/wgSTARR/bin_level/wgSTARR_bin_level_all_result.inactive.merged.bed\n"
     ]
    }
   ],
   "source": [
    "%%bash\n",
    "wc -l /data/reddylab/Revathy/collabs/Jamborees/fcc_capstone/data/Junke_enhancer_calls_5Oct/z_score_processed/ASTARR/bin_level/ASTARR_bin_level_all_result.inactive.merged.bed \n",
    "wc -l /data/reddylab/Revathy/collabs/Jamborees/fcc_capstone/data/Junke_enhancer_calls_5Oct/z_score_processed/lentiMPRA/element_level/lentiMPRA_element_level_all_result.inactive.merged.bed\n",
    "wc -l /data/reddylab/Revathy/collabs/Jamborees/fcc_capstone/data/Junke_enhancer_calls_5Oct/z_score_processed/wgSTARR/bin_level/wgSTARR_bin_level_all_result.inactive.merged.bed"
   ]
  },
  {
   "cell_type": "markdown",
   "metadata": {},
   "source": [
    "# GC content matching (active to inactive) and selecting random 5000 inactive regions"
   ]
  },
  {
   "cell_type": "markdown",
   "metadata": {},
   "source": [
    "##### GC content for active peaks"
   ]
  },
  {
   "cell_type": "code",
   "execution_count": null,
   "metadata": {
    "collapsed": true,
    "jupyter": {
     "outputs_hidden": true
    }
   },
   "outputs": [],
   "source": [
    "%%bash\n",
    "bedtools nuc -fi /data/reddylab/Reference_Data/Genomes/hg38/hg38.fa \\\n",
    "-bed /data/reddylab/Revathy/collabs/Jamborees/fcc_capstone/data/Junke_enhancer_calls_5Oct/z_score_processed/ASTARR/merged_peak/ASTARR_merged_enhancer_peaks_in_each_orientation.summits.random5000.bed \\\n",
    "> /data/reddylab/Revathy/collabs/Jamborees/fcc_capstone/data/Junke_enhancer_calls_5Oct/z_score_processed/ASTARR/merged_peak/ASTARR_merged_enhancer_peaks_in_each_orientation.summits.random5000.GC_content.txt \n",
    "bedtools nuc -fi /data/reddylab/Reference_Data/Genomes/hg38/hg38.fa \\\n",
    "-bed /data/reddylab/Revathy/collabs/Jamborees/fcc_capstone/data/Junke_enhancer_calls_5Oct/z_score_processed/lentiMPRA/merged_peak/lentiMPRA_merged_enhancer_peaks_in_either_orientation.summits.random5000.bed \\\n",
    "> /data/reddylab/Revathy/collabs/Jamborees/fcc_capstone/data/Junke_enhancer_calls_5Oct/z_score_processed/lentiMPRA/merged_peak/lentiMPRA_merged_enhancer_peaks_in_either_orientation.summits.random5000.GC_content.txt\n",
    "bedtools nuc -fi /data/reddylab/Reference_Data/Genomes/hg38/hg38.fa \\\n",
    "-bed /data/reddylab/Revathy/collabs/Jamborees/fcc_capstone/data/Junke_enhancer_calls_5Oct/z_score_processed/wgSTARR/merged_peak/wgSTARR_merged_enhancer_peaks_in_each_orientation.summits.random5000.bed \\\n",
    "> /data/reddylab/Revathy/collabs/Jamborees/fcc_capstone/data/Junke_enhancer_calls_5Oct/z_score_processed/wgSTARR/merged_peak/wgSTARR_merged_enhancer_peaks_in_each_orientation.summits.random5000.GC_content.txt"
   ]
  },
  {
   "cell_type": "markdown",
   "metadata": {},
   "source": [
    "##### GC content for inactive peaks"
   ]
  },
  {
   "cell_type": "code",
   "execution_count": null,
   "metadata": {
    "collapsed": true,
    "jupyter": {
     "outputs_hidden": true
    }
   },
   "outputs": [],
   "source": [
    "%%bash\n",
    "bedtools nuc -fi /data/reddylab/Reference_Data/Genomes/hg38/hg38.fa \\\n",
    "-bed /data/reddylab/Revathy/collabs/Jamborees/fcc_capstone/data/Junke_enhancer_calls_5Oct/z_score_processed/ASTARR/bin_level/ASTARR_bin_level_all_result.inactive.merged.bed \\\n",
    "> /data/reddylab/Revathy/collabs/Jamborees/fcc_capstone/data/Junke_enhancer_calls_5Oct/z_score_processed/ASTARR/bin_level/ASTARR_bin_level_all_result.inactive.merged.GC_content.txt\n",
    "bedtools nuc -fi /data/reddylab/Reference_Data/Genomes/hg38/hg38.fa \\\n",
    "-bed /data/reddylab/Revathy/collabs/Jamborees/fcc_capstone/data/Junke_enhancer_calls_5Oct/z_score_processed/lentiMPRA/element_level/element_level_all_result.inactive.merged.bed \\\n",
    "> /data/reddylab/Revathy/collabs/Jamborees/fcc_capstone/data/Junke_enhancer_calls_5Oct/z_score_processed/lentiMPRA/element_level/element_level_all_result.inactive.merged.GC_content.txt\n",
    "bedtools nuc -fi /data/reddylab/Reference_Data/Genomes/hg38/hg38.fa \\\n",
    "-bed /data/reddylab/Revathy/collabs/Jamborees/fcc_capstone/data/Junke_enhancer_calls_5Oct/z_score_processed/wgSTARR/bin_level/bin_level_all_result.inactive.merged.bed \\\n",
    "> /data/reddylab/Revathy/collabs/Jamborees/fcc_capstone/data/Junke_enhancer_calls_5Oct/z_score_processed/wgSTARR/bin_level/bin_level_all_result.inactive.merged.GC_content.txt"
   ]
  },
  {
   "cell_type": "code",
   "execution_count": null,
   "metadata": {
    "collapsed": true,
    "jupyter": {
     "outputs_hidden": true
    }
   },
   "outputs": [],
   "source": [
    "import pandas as pd\n",
    "\n",
    "ASTARR_active = pd.read_csv('/data/reddylab/Revathy/collabs/Jamborees/fcc_capstone/data/Junke_enhancer_calls_5Oct/z_score_processed/ASTARR/merged_peak/ASTARR_merged_enhancer_peaks_in_each_orientation.summits.random5000.GC_content.txt', sep='\\t')\n",
    "ASTARR_inactive = pd.read_csv('/data/reddylab/Revathy/collabs/Jamborees/fcc_capstone/data/Junke_enhancer_calls_5Oct/z_score_processed/ASTARR/bin_level/ASTARR_bin_level_all_result.inactive.merged.GC_content.txt', sep='\\t')\n",
    "\n",
    "lentiMPRA_active = pd.read_csv('/data/reddylab/Revathy/collabs/Jamborees/fcc_capstone/data/Junke_enhancer_calls_5Oct/z_score_processed/lentiMPRA/merged_peak/lentiMPRA_merged_enhancer_peaks_in_either_orientation.summits.random5000.GC_content.txt', sep='\\t')\n",
    "lentiMPRA_inactive = pd.read_csv('/data/reddylab/Revathy/collabs/Jamborees/fcc_capstone/data/Junke_enhancer_calls_5Oct/z_score_processed/lentiMPRA/element_level/element_level_all_result.inactive.merged.GC_content.txt', sep='\\t')\n",
    "\n",
    "wgSTARR_active = pd.read_csv('/data/reddylab/Revathy/collabs/Jamborees/fcc_capstone/data/Junke_enhancer_calls_5Oct/z_score_processed/wgSTARR/merged_peak/wgSTARR_merged_enhancer_peaks_in_each_orientation.summits.random5000.GC_content.txt', sep='\\t')\n",
    "wgSTARR_inactive = pd.read_csv('/data/reddylab/Revathy/collabs/Jamborees/fcc_capstone/data/Junke_enhancer_calls_5Oct/z_score_processed/wgSTARR/bin_level/bin_level_all_result.inactive.merged.GC_content.txt', sep='\\t')"
   ]
  },
  {
   "cell_type": "code",
   "execution_count": null,
   "metadata": {
    "collapsed": true,
    "jupyter": {
     "outputs_hidden": true
    }
   },
   "outputs": [],
   "source": [
    "wgSTARR_active.head()"
   ]
  },
  {
   "cell_type": "code",
   "execution_count": null,
   "metadata": {
    "collapsed": true,
    "jupyter": {
     "outputs_hidden": true
    }
   },
   "outputs": [],
   "source": [
    "import random\n",
    "import pandas as pd\n",
    "import numpy as np\n",
    "import seaborn as sns\n",
    "import matplotlib.pyplot as plt\n",
    "\n",
    "wgSTARR_active = pd.read_csv('/data/reddylab/Revathy/collabs/Jamborees/fcc_capstone/data/Junke_enhancer_calls_5Oct/z_score_processed/wgSTARR/merged_peak/wgSTARR_merged_enhancer_peaks_in_each_orientation.summits.random5000.GC_content.txt', sep='\\t')\n",
    "wgSTARR_inactive = pd.read_csv('/data/reddylab/Revathy/collabs/Jamborees/fcc_capstone/data/Junke_enhancer_calls_5Oct/z_score_processed/wgSTARR/bin_level/bin_level_all_result.inactive.merged.GC_content.txt', sep='\\t')\n",
    "\n",
    "##########################\n",
    "### before GC matching ###\n",
    "##########################\n",
    "\n",
    "plt.figure(figsize=(10,8))\n",
    "sns.distplot(wgSTARR_inactive['5_pct_gc'], bins=100, kde=True, color='darkblue', label='inactive_peaks')\n",
    "sns.distplot(wgSTARR_active['5_pct_gc'], bins=100, kde=True, color='red', label=\"active_peaks\")\n",
    "plt.xlabel(\"Data\", size=14)\n",
    "plt.ylabel(\"Density\", size=14)\n",
    "plt.legend(loc='upper right')\n",
    "sns.despine()\n",
    "\n",
    "###################\n",
    "### GC matching ###\n",
    "###################\n",
    "\n",
    "random.seed(42)\n",
    "df=None\n",
    "\n",
    "count_active, bin_edge_active = np.histogram(wgSTARR_active['5_pct_gc'], bins = 100)\n",
    "\n",
    "sample_size = ((count_active.astype(int)/sum(count_active))*5020).astype(int)\n",
    "for i in range(0,100):\n",
    "    bin_start = bin_edge_active[i]\n",
    "    bin_stop = bin_edge_active[i+1]\n",
    "    all_inactive_peaks_v1 = wgSTARR_inactive[(wgSTARR_inactive['5_pct_gc']>=bin_start)&(wgSTARR_inactive['5_pct_gc']<bin_stop)].reset_index()\n",
    "    all_inactive_peaks_v1.drop(columns='index', inplace=True)\n",
    "    \n",
    "    count_active = count_active.astype(int)\n",
    "    m = list(range(0, sample_size[i]))\n",
    "    \n",
    "    if not all_inactive_peaks_v1.empty:\n",
    "        all_inactive_peaks_random = all_inactive_peaks_v1.loc[m]\n",
    "        \n",
    "        if df is None:\n",
    "            df = all_inactive_peaks_random\n",
    "        else:\n",
    "            df = pd.concat([df,all_inactive_peaks_random])  \n",
    "\n",
    "# df[['chr','start','end']] = df['peak'].str.split('_', expand=True)\n",
    "df = df.dropna().astype({'2_usercol':'int', '3_usercol':'int'})\n",
    "df[['#1_usercol','2_usercol','3_usercol']].dropna().to_csv('/data/reddylab/Revathy/collabs/Jamborees/fcc_capstone/data/Junke_enhancer_calls_5Oct/z_score_processed/wgSTARR/bin_level/wgSTARR_bin_level_all_result.inactive.merged.random5000.bed', sep='\\t', index=False, header=None)\n",
    "\n",
    "#########################\n",
    "### after GC matching ###\n",
    "#########################\n",
    "\n",
    "plt.figure(figsize=(10,8))\n",
    "sns.distplot(df['5_pct_gc'], bins=100, kde=True, color='darkblue', label='inactive_peaks')\n",
    "sns.distplot(wgSTARR_active['5_pct_gc'], bins=100, kde=True, color='red', label=\"active_peaks\")\n",
    "plt.xlabel(\"Data\", size=14)\n",
    "plt.ylabel(\"Density\", size=14)\n",
    "plt.legend(loc='upper right')\n",
    "sns.despine()\n",
    "\n",
    "\n",
    "plt.show()\n"
   ]
  },
  {
   "cell_type": "code",
   "execution_count": null,
   "metadata": {
    "collapsed": true,
    "jupyter": {
     "outputs_hidden": true
    }
   },
   "outputs": [],
   "source": [
    "df.shape"
   ]
  },
  {
   "cell_type": "code",
   "execution_count": null,
   "metadata": {
    "collapsed": true,
    "jupyter": {
     "outputs_hidden": true
    }
   },
   "outputs": [],
   "source": [
    "%%bash\n",
    "awk '{ $4 = $3 - $2 } 1' /data/reddylab/Revathy/collabs/Jamborees/fcc_capstone/data/Junke_enhancer_calls_5Oct/z_score_processed/wgSTARR/bin_level/wgSTARR_bin_level_all_result.inactive.merged.random5000.bed \\\n",
    "| sort -k4,4n | tail"
   ]
  },
  {
   "cell_type": "markdown",
   "metadata": {},
   "source": [
    "# Heatmaps"
   ]
  },
  {
   "cell_type": "code",
   "execution_count": null,
   "metadata": {
    "collapsed": true,
    "jupyter": {
     "outputs_hidden": true
    }
   },
   "outputs": [],
   "source": [
    "%%bash\n",
    "source /data/reddylab/software/miniconda3/bin/activate alex_py3\n",
    "sbatch \\\n",
    "    --exclude=dl-01 \\\n",
    "    --mem=128G \\\n",
    "    --cpus-per-task=16 \\\n",
    "    -o /data/reddylab/Revathy/collabs/Jamborees/fcc_capstone/logs/logscomputeMatrix.ASTARR_LentiMPRA_wgSTARR.active_vs_inactive.GC_content.V6.log \\\n",
    "    <<'EOF'\n",
    "#!/bin/bash \n",
    "computeMatrix reference-point \\\n",
    "    --referencePoint center \\\n",
    "    --numberOfProcessors 16 \\\n",
    "    --binSize 10 \\\n",
    "    -S \\\n",
    "        /data/reddylab/Alex/encode4_duke/ipynbs/jamborees/20211206_MPRA_STARR_Jamboree/data/encode_data/K562.ENCFF914WIS.POLR2A.bw \\\n",
    "        /data/reddylab/Alex/encode4_duke/ipynbs/jamborees/20211206_MPRA_STARR_Jamboree/data/encode_data/K562.ENCFF756UVW.JUN.bw \\\n",
    "        /data/reddylab/Alex/encode4_duke/ipynbs/jamborees/20211206_MPRA_STARR_Jamboree/data/encode_data/K562.ENCFF336UPT.CTCF.bw \\\n",
    "        /data/reddylab/Revathy/collabs/Jamborees/fcc_capstone/data/encode_data/K562.ENCFF475BKW.SP1.bw \\\n",
    "        /data/reddylab/Alex/encode4_duke/ipynbs/jamborees/20211206_MPRA_STARR_Jamboree/data/encode_data/K562.ENCFF262TFX.ELK1.bw \\\n",
    "        /data/reddylab/Alex/encode4_duke/ipynbs/jamborees/20211206_MPRA_STARR_Jamboree/data/encode_data/K562.ENCFF590LGA.NRF1.bw \\\n",
    "        /data/reddylab/Revathy/collabs/Jamborees/fcc_capstone/data/encode_data/K562.ENCFF700NBW.TAL1.bw \\\n",
    "        /data/reddylab/Revathy/collabs/Jamborees/fcc_capstone/data/encode_data/K562.ENCFF331URE.GATA1.bw \\\n",
    "        /data/reddylab/Alex/encode4_duke/ipynbs/jamborees/20211206_MPRA_STARR_Jamboree/data/encode_data/K562.ENCFF398LBP.NFE2.bw \\\n",
    "        /data/reddylab/Alex/encode4_duke/ipynbs/jamborees/20211206_MPRA_STARR_Jamboree/data/encode_data/K562.ENCFF750TBY.KLF10.bw \\\n",
    "        /data/reddylab/Alex/encode4_duke/ipynbs/jamborees/20211206_MPRA_STARR_Jamboree/data/encode_data/K562.ENCFF183YBH.KLF16.bw \\\n",
    "        /data/reddylab/Revathy/collabs/Jamborees/fcc_capstone/data/encode_data/K562.ENCFF927TDC.YY1.bw \\\n",
    "        /data/reddylab/Alex/encode4_duke/ipynbs/jamborees/20211206_MPRA_STARR_Jamboree/data/encode_data/K562.ENCFF199FSE.ATF1.bw \\\n",
    "        /data/reddylab/Revathy/collabs/Jamborees/fcc_capstone/data/encode_data/K562.ENCFF325DSL.EP300.bw \\\n",
    "        /data/reddylab/Revathy/collabs/Jamborees/fcc_capstone/data/encode_data/K562.ENCFF538LAN.REST.bw \\\n",
    "        /data/reddylab/Revathy/collabs/Jamborees/fcc_capstone/data/encode_data/K562.ENCFF106ZRO.ZEB2.bw \\\n",
    "        /data/reddylab/Alex/encode4_duke/ipynbs/jamborees/20211206_MPRA_STARR_Jamboree/data/encode_data/K562.ENCFF469JMR.H3K27ac.bw \\\n",
    "        /data/reddylab/Alex/encode4_duke/ipynbs/jamborees/20211206_MPRA_STARR_Jamboree/data/encode_data/K562.ENCFF405ZDL.H3K4me3.bw \\\n",
    "        /data/reddylab/Alex/encode4_duke/ipynbs/jamborees/20211206_MPRA_STARR_Jamboree/data/encode_data/K562.ENCFF100FDI.H3K4me1.bw \\\n",
    "        /data/reddylab/Alex/encode4_duke/ipynbs/jamborees/20211206_MPRA_STARR_Jamboree/data/encode_data/K562.ENCFF357GNC.ATACseq.bw \\\n",
    "        /data/reddylab/Alex/encode4_duke/processing/starr_seq/210401_KS91_K562ASTARR_NovaSeq.hg38-pe-umis/KS91_K562_hg38_ASTARRseq_Output_rep4.log2.pseudo_10.bw \\\n",
    "        /data/reddylab/kstrouse/superstarr/output_libs/A001_K562/A001_K562_20210213/processing/starr_seq/Strouse_6825_210223A5-pe/A001-K562-rep2.f3q10.sorted.dedup.rpkm.bw \\\n",
    "        /data/reddylab/Alex/encode4_duke/ipynbs/jamborees/20220307_locusselect_nawg/data/WGSTARRseq.A001_K562.log2fc.rep2.log2.pseudo_10.bw \\\n",
    "        /data/reddylab/Revathy/collabs/Jamborees/fcc_capstone/data/bigWigs/CRISPRi_rAVG_log2FC_2.sloped400bp.bw \\\n",
    "    --samplesLabel \\\n",
    "        POLR2A \\\n",
    "        JUN \\\n",
    "        CTCF \\\n",
    "        SP1 \\\n",
    "        ELK1 \\\n",
    "        NRF1 \\\n",
    "        TAL1 \\\n",
    "        GATA1 \\\n",
    "        NFE2 \\\n",
    "        KLF10 \\\n",
    "        KLF16 \\\n",
    "        YY1 \\\n",
    "        ATF1 \\\n",
    "        EP300 \\\n",
    "        REST \\\n",
    "        ZEB2 \\\n",
    "        H3K27ac \\\n",
    "        H3K4me3 \\\n",
    "        H3K4me1 \\\n",
    "        ATACseq \\\n",
    "        ASTARR_log2 \\\n",
    "        WG_STARR \\\n",
    "        WG_STARR_log2 \\\n",
    "        CRISPRi_sloped400bp \\\n",
    "    -R \\\n",
    "    /data/reddylab/Revathy/collabs/Jamborees/fcc_capstone/data/Junke_enhancer_calls_5Oct/z_score_processed/ASTARR/merged_peak/ASTARR_merged_enhancer_peaks_in_each_orientation.summits.random5000.bed \\\n",
    "    /data/reddylab/Revathy/collabs/Jamborees/fcc_capstone/data/Junke_enhancer_calls_5Oct/z_score_processed/ASTARR/bin_level/ASTARR_bin_level_all_result.inactive.merged.random5000.bed \\\n",
    "    /data/reddylab/Revathy/collabs/Jamborees/fcc_capstone/data/Junke_enhancer_calls_5Oct/z_score_processed/lentiMPRA/merged_peak/lentiMPRA_merged_enhancer_peaks_in_either_orientation.summits.random5000.bed \\\n",
    "    /data/reddylab/Revathy/collabs/Jamborees/fcc_capstone/data/Junke_enhancer_calls_5Oct/z_score_processed/lentiMPRA/element_level/lentiMPRA_element_level_all_result.inactive.merged.random5000.bed \\\n",
    "    /data/reddylab/Revathy/collabs/Jamborees/fcc_capstone/data/Junke_enhancer_calls_5Oct/z_score_processed/wgSTARR/merged_peak/wgSTARR_merged_enhancer_peaks_in_each_orientation.summits.random5000.bed \\\n",
    "    /data/reddylab/Revathy/collabs/Jamborees/fcc_capstone/data/Junke_enhancer_calls_5Oct/z_score_processed/wgSTARR/bin_level/wgSTARR_bin_level_all_result.inactive.merged.random5000.bed \\\n",
    "    --beforeRegionStartLength 2000 \\\n",
    "    --afterRegionStartLength 2000 \\\n",
    "    --skipZeros \\\n",
    "    -o /data/reddylab/Revathy/collabs/Jamborees/fcc_capstone/data/enhancer_call_comparison/10032022/ASTARR_LentiMPRA_wgSTARR.GC_content.random5000.V6.refpoint.mat.gz \\\n",
    "&& computeMatrixOperations dataRange \\\n",
    "    -m /data/reddylab/Revathy/collabs/Jamborees/fcc_capstone/data/enhancer_call_comparison/10032022/ASTARR_LentiMPRA_wgSTARR.GC_content.random5000.V6.refpoint.mat.gz\n",
    "\n",
    "EOF"
   ]
  },
  {
   "cell_type": "code",
   "execution_count": 2,
   "metadata": {
    "collapsed": true,
    "jupyter": {
     "outputs_hidden": true
    }
   },
   "outputs": [
    {
     "name": "stdout",
     "output_type": "stream",
     "text": [
      "Submitted batch job 30510597\n"
     ]
    }
   ],
   "source": [
    "%%bash\n",
    "source /data/reddylab/software/miniconda2/bin/activate cwl10\n",
    "sbatch \\\n",
    "    --exclude=dl-01 \\\n",
    "    --mem=16G \\\n",
    "    -o /data/reddylab/Revathy/collabs/Jamborees/fcc_capstone/logs/plotHeatmap.ASTARR_LentiMPRA_wgSTARR.active_vs_inactive.GC_content.V7.out \\\n",
    "    --cpus-per-task=1 \\\n",
    "    <<'EOF'\n",
    "#!/bin/bash\n",
    "plotHeatmap \\\n",
    "    --colorMap inferno \\\n",
    "    --regionsLabel \\\n",
    "        ASTARR_active \\\n",
    "        ASTARR_inactive \\\n",
    "        LentiMPRA_active \\\n",
    "        LentiMPRA_inactive \\\n",
    "        wgSTARR_active \\\n",
    "        wgSTARR_inactive \\\n",
    "    --zMax 13.6281819 2.19082 1.4413603999999984 1.38358 1.4527 1.0735000999999995 1.34603 1.320309 1.6095327999999973 1.1690519999999998 0.8258101999999994 3.041002 8.957361399999998 2.8039880000000004 1.73995 3.6646351999999993 1000 1000 1.494105 1.71744 1.491966 1.579984 1.00741 15.31815 18.735426 9.172536000000001 50.3608741999999 0.007992 1000 0.002138 0.005 \\\n",
    "    --zMin 0 0 0 0 0 0 0 0 0 0 0 0 0 0 0 0 0 0 0 0 0 0 0 0 0 0 0 0.469156 20 -0.021908 -0.01 \\\n",
    "    --heatmapHeight 30 \\\n",
    "    -m /data/reddylab/Revathy/collabs/Jamborees/fcc_capstone/data/enhancer_call_comparison/10032022/ASTARR_LentiMPRA_wgSTARR.GC_content.random5000.V6.refpoint.mat.gz \\\n",
    "    -out /data/reddylab/Revathy/collabs/Jamborees/fcc_capstone/data/enhancer_call_comparison/10032022/ASTARR_LentiMPRA_wgSTARR.GC_content.random5000.V6.png \n",
    "EOF"
   ]
  },
  {
   "cell_type": "code",
   "execution_count": 1,
   "metadata": {
    "collapsed": true,
    "jupyter": {
     "outputs_hidden": true
    },
    "tags": []
   },
   "outputs": [
    {
     "data": {
      "image/png": "/data/reddylab/Revathy/collabs/Jamborees/fcc_capstone/data/enhancer_call_comparison/10032022/ASTARR_LentiMPRA_wgSTARR.GC_content.random5000.V7.png",
      "text/plain": [
       "<IPython.core.display.Image object>"
      ]
     },
     "execution_count": 1,
     "metadata": {},
     "output_type": "execute_result"
    }
   ],
   "source": [
    "from IPython.display import Image\n",
    "Image(\"/data/reddylab/Revathy/collabs/Jamborees/fcc_capstone/data/enhancer_call_comparison/10032022/ASTARR_LentiMPRA_wgSTARR.GC_content.random5000.V6.png\")\n"
   ]
  },
  {
   "cell_type": "markdown",
   "metadata": {},
   "source": [
    "# Profile Plots"
   ]
  },
  {
   "cell_type": "code",
   "execution_count": 1,
   "metadata": {
    "collapsed": true,
    "jupyter": {
     "outputs_hidden": true
    }
   },
   "outputs": [],
   "source": [
    "from deeptools import heatmapper  # You need to have deeptools3 installed\n",
    "import numpy as np\n",
    "import gzip\n",
    "from matplotlib import pyplot as plt\n",
    "from matplotlib import patches as mpatches\n",
    "import seaborn as sns \n",
    "from palettable.cartocolors.qualitative import Bold_10, Vivid_10_r, Antique_10_r\n",
    "from matplotlib import markers\n",
    "%matplotlib inline"
   ]
  },
  {
   "cell_type": "code",
   "execution_count": 3,
   "metadata": {
    "collapsed": true,
    "jupyter": {
     "outputs_hidden": true
    }
   },
   "outputs": [
    {
     "data": {
      "text/plain": [
       "{'bin avg type': 'mean',\n",
       " 'bin size': [10,\n",
       "  10,\n",
       "  10,\n",
       "  10,\n",
       "  10,\n",
       "  10,\n",
       "  10,\n",
       "  10,\n",
       "  10,\n",
       "  10,\n",
       "  10,\n",
       "  10,\n",
       "  10,\n",
       "  10,\n",
       "  10,\n",
       "  10,\n",
       "  10,\n",
       "  10,\n",
       "  10,\n",
       "  10,\n",
       "  10,\n",
       "  10,\n",
       "  10,\n",
       "  10],\n",
       " 'body': [0,\n",
       "  0,\n",
       "  0,\n",
       "  0,\n",
       "  0,\n",
       "  0,\n",
       "  0,\n",
       "  0,\n",
       "  0,\n",
       "  0,\n",
       "  0,\n",
       "  0,\n",
       "  0,\n",
       "  0,\n",
       "  0,\n",
       "  0,\n",
       "  0,\n",
       "  0,\n",
       "  0,\n",
       "  0,\n",
       "  0,\n",
       "  0,\n",
       "  0,\n",
       "  0],\n",
       " 'downstream': [2000,\n",
       "  2000,\n",
       "  2000,\n",
       "  2000,\n",
       "  2000,\n",
       "  2000,\n",
       "  2000,\n",
       "  2000,\n",
       "  2000,\n",
       "  2000,\n",
       "  2000,\n",
       "  2000,\n",
       "  2000,\n",
       "  2000,\n",
       "  2000,\n",
       "  2000,\n",
       "  2000,\n",
       "  2000,\n",
       "  2000,\n",
       "  2000,\n",
       "  2000,\n",
       "  2000,\n",
       "  2000,\n",
       "  2000],\n",
       " 'group_boundaries': [0, 5000, 9995, 14993, 19991, 24991, 29990],\n",
       " 'group_labels': ['ASTARR_merged_enhancer_peaks_in_each_orientation.summits.random5000.bed',\n",
       "  'ASTARR_bin_level_all_result.inactive.merged.random5000.bed',\n",
       "  'lentiMPRA_merged_enhancer_peaks_in_either_orientation.summits.random5000.bed',\n",
       "  'element_level_all_result.inactive.merged.random5000.bed',\n",
       "  'wgSTARR_merged_enhancer_peaks_in_each_orientation.summits.random5000.bed',\n",
       "  'wgSTARR_bin_level_all_result.inactive.merged.random5000.bed'],\n",
       " 'max threshold': None,\n",
       " 'min threshold': None,\n",
       " 'missing data as zero': False,\n",
       " 'nan after end': False,\n",
       " 'proc number': 16,\n",
       " 'ref point': ['center',\n",
       "  'center',\n",
       "  'center',\n",
       "  'center',\n",
       "  'center',\n",
       "  'center',\n",
       "  'center',\n",
       "  'center',\n",
       "  'center',\n",
       "  'center',\n",
       "  'center',\n",
       "  'center',\n",
       "  'center',\n",
       "  'center',\n",
       "  'center',\n",
       "  'center',\n",
       "  'center',\n",
       "  'center',\n",
       "  'center',\n",
       "  'center',\n",
       "  'center',\n",
       "  'center',\n",
       "  'center',\n",
       "  'center'],\n",
       " 'sample_boundaries': [0,\n",
       "  400,\n",
       "  800,\n",
       "  1200,\n",
       "  1600,\n",
       "  2000,\n",
       "  2400,\n",
       "  2800,\n",
       "  3200,\n",
       "  3600,\n",
       "  4000,\n",
       "  4400,\n",
       "  4800,\n",
       "  5200,\n",
       "  5600,\n",
       "  6000,\n",
       "  6400,\n",
       "  6800,\n",
       "  7200,\n",
       "  7600,\n",
       "  8000,\n",
       "  8400,\n",
       "  8800,\n",
       "  9200,\n",
       "  9600],\n",
       " 'sample_labels': ['POLR2A',\n",
       "  'JUN',\n",
       "  'CTCF',\n",
       "  'SP1',\n",
       "  'ELK1',\n",
       "  'NRF1',\n",
       "  'TAL1',\n",
       "  'GATA1',\n",
       "  'NFE2',\n",
       "  'KLF10',\n",
       "  'KLF16',\n",
       "  'YY1',\n",
       "  'ATF1',\n",
       "  'EP300',\n",
       "  'REST',\n",
       "  'ZEB2',\n",
       "  'H3K27ac',\n",
       "  'H3K4me3',\n",
       "  'H3K4me1',\n",
       "  'ATACseq',\n",
       "  'ASTARR_log2',\n",
       "  'WG_STARR',\n",
       "  'WG_STARR_log2',\n",
       "  'CRISPRi_sloped400bp'],\n",
       " 'scale': 1,\n",
       " 'skip zeros': True,\n",
       " 'sort regions': 'keep',\n",
       " 'sort using': 'mean',\n",
       " 'unscaled 3 prime': [0,\n",
       "  0,\n",
       "  0,\n",
       "  0,\n",
       "  0,\n",
       "  0,\n",
       "  0,\n",
       "  0,\n",
       "  0,\n",
       "  0,\n",
       "  0,\n",
       "  0,\n",
       "  0,\n",
       "  0,\n",
       "  0,\n",
       "  0,\n",
       "  0,\n",
       "  0,\n",
       "  0,\n",
       "  0,\n",
       "  0,\n",
       "  0,\n",
       "  0,\n",
       "  0],\n",
       " 'unscaled 5 prime': [0,\n",
       "  0,\n",
       "  0,\n",
       "  0,\n",
       "  0,\n",
       "  0,\n",
       "  0,\n",
       "  0,\n",
       "  0,\n",
       "  0,\n",
       "  0,\n",
       "  0,\n",
       "  0,\n",
       "  0,\n",
       "  0,\n",
       "  0,\n",
       "  0,\n",
       "  0,\n",
       "  0,\n",
       "  0,\n",
       "  0,\n",
       "  0,\n",
       "  0,\n",
       "  0],\n",
       " 'upstream': [2000,\n",
       "  2000,\n",
       "  2000,\n",
       "  2000,\n",
       "  2000,\n",
       "  2000,\n",
       "  2000,\n",
       "  2000,\n",
       "  2000,\n",
       "  2000,\n",
       "  2000,\n",
       "  2000,\n",
       "  2000,\n",
       "  2000,\n",
       "  2000,\n",
       "  2000,\n",
       "  2000,\n",
       "  2000,\n",
       "  2000,\n",
       "  2000,\n",
       "  2000,\n",
       "  2000,\n",
       "  2000,\n",
       "  2000],\n",
       " 'verbose': False}"
      ]
     },
     "execution_count": 3,
     "metadata": {},
     "output_type": "execute_result"
    }
   ],
   "source": [
    "hm = heatmapper.heatmapper() # create heatmapper object\n",
    "hm.read_matrix_file('/data/reddylab/Revathy/collabs/Jamborees/fcc_capstone/data/enhancer_call_comparison/10032022/ASTARR_LentiMPRA_wgSTARR.GC_content.random5000.V6.refpoint.mat.gz')\n",
    "hm.__dict__['parameters']"
   ]
  },
  {
   "cell_type": "code",
   "execution_count": null,
   "metadata": {
    "collapsed": true,
    "jupyter": {
     "outputs_hidden": true
    }
   },
   "outputs": [],
   "source": [
    "for ii in range(len(hm.__dict__['parameters']['sample_labels'])):\n",
    "    max_val=np.max(hm.matrix.matrix[:5000, ((ii)*400)+150:((ii+1)*400)-150], axis=0)\n",
    "    pseudo_count=np.percentile(max_val,10)\n",
    "    print(np.delete((np.arange(0,101)-50), 50)*10,\n",
    "               np.log2((np.nanmean(hm.matrix.matrix[:5000, ((ii)*400)+150:((ii+1)*400)-150]+pseudo_count, axis=0))/\n",
    "                       (np.nanmean(hm.matrix.matrix[5000:9995, ((ii)*400)+150:((ii+1)*400)-150]+pseudo_count, axis=0)))"
   ]
  },
  {
   "cell_type": "code",
   "execution_count": null,
   "metadata": {
    "collapsed": true,
    "jupyter": {
     "outputs_hidden": true
    }
   },
   "outputs": [],
   "source": [
    "sns.set_context('talk', font_scale=1.01)\n",
    "fig, ax = plt.subplots(figsize=[10,10])\n",
    "for ii in range(len(hm.__dict__['parameters']['sample_labels'])):\n",
    "    if hm.__dict__['parameters']['sample_labels'][ii] == 'ASTARR_log2': continue\n",
    "    max_val=np.max(hm.matrix.matrix[:5000, ((ii)*400)+150:((ii+1)*400)-150], axis=0)\n",
    "    pseudo_count=np.percentile(max_val,10)\n",
    "    plt.plot(np.delete((np.arange(0,101)-50), 50)*10,\n",
    "               np.log2((np.nanmean(hm.matrix.matrix[:5000, ((ii)*400)+150:((ii+1)*400)-150]+pseudo_count, axis=0))/\n",
    "                       (np.nanmean(hm.matrix.matrix[5000:9995, ((ii)*400)+150:((ii+1)*400)-150]+pseudo_count, axis=0))), \n",
    "               color=(Bold_10.hex_colors + Vivid_10_r.hex_colors + Antique_10_r.hex_colors)[ii],\n",
    "             marker=list(markers.MarkerStyle().markers.keys())[ii],\n",
    "             markersize=6,\n",
    "             label=hm.__dict__['parameters']['sample_labels'][ii])\n",
    "    plt.axvline(0, color='black', ls='--', lw=.5)\n",
    "    plt.axhline(0, color='black', ls='--', lw=.5)\n",
    "# lgnd = plt.legend(bbox_to_anchor=(1.02, 1), frameon=False, markerscale=2)\n",
    "# for handle in lgnd.legendHandles:\n",
    "#     handle.set_sizes([22.0])\n",
    "plt.title(\"ASTARR - active v inactive log2 ratios\")\n",
    "plt.ylim([-0.1,0.25])\n",
    "sns.despine()\n",
    "plt.tight_layout()\n",
    "fig.savefig('data/enhancer_call_comparison/profile_plots/astarr.active_v_inactive.zoomed.V3.pdf')"
   ]
  },
  {
   "cell_type": "code",
   "execution_count": null,
   "metadata": {
    "collapsed": true,
    "jupyter": {
     "outputs_hidden": true
    }
   },
   "outputs": [],
   "source": [
    "sns.set_context('talk', font_scale=1.05)\n",
    "fig, ax = plt.subplots(figsize=[10,10])\n",
    "for ii in range(len(hm.__dict__['parameters']['sample_labels'])):\n",
    "    max_val=np.max(hm.matrix.matrix[9995:14993, (ii)*400:(ii+1)*400], axis=0)\n",
    "    pseudo_count=np.Genomic percentile(max_val,10)\n",
    "    plt.plot(np.delete((np.arange(0,101)-50), 50)*10,\n",
    "               np.log2((np.nanmean(hm.matrix.matrix[9995:14993, ((ii)*400)+150:((ii+1)*400)-150]+pseudo_count, axis=0))/\n",
    "                       (np.nanmean(hm.matrix.matrix[14993:19991, ((ii)*400)+150:((ii+1)*400)-150]+pseudo_count, axis=0))), \n",
    "               color=(Bold_10.hex_colors + Vivid_10_r.hex_colors + Antique_10_r.hex_colors)[ii],\n",
    "             marker=list(markers.MarkerStyle().markers.keys())[ii],\n",
    "             markersize=6,\n",
    "             label=hm.__dict__['parameters']['sample_labels'][ii])\n",
    "    plt.axvline(0, color='black', ls='--', lw=.5)\n",
    "    plt.axhline(0, color='black', ls='--', lw=.5)\n",
    "# lgnd = plt.legend(bbox_to_anchor=(1.02, 1), frameon=False, markerscale=2)\n",
    "# for handle in lgnd.legendHandles:\n",
    "#     handle.set_sizes([22.0])\n",
    "plt.title(\"LentiMPRA - active v inactive log2 ratios\")\n",
    "plt.ylim([-0.15,0.25])\n",
    "sns.despine()\n",
    "plt.tight_layout()\n",
    "fig.savefig('data/enhancer_call_comparison/profile_plots/lentiMPRA.active_v_inactive.zoomed.V3.pdf')"
   ]
  },
  {
   "cell_type": "code",
   "execution_count": null,
   "metadata": {
    "collapsed": true,
    "jupyter": {
     "outputs_hidden": true
    }
   },
   "outputs": [],
   "source": [
    "sns.set_context('talk', font_scale=1.01)\n",
    "fig, ax = plt.subplots(figsize=[14,10])\n",
    "for ii in range(len(hm.__dict__['parameters']['sample_labels'])):\n",
    "    if hm.__dict__['parameters']['sample_labels'][ii] == 'WG_STARR_log2': continue\n",
    "    max_val=np.max(hm.matrix.matrix[19991:24991, ((ii)*400)+150:((ii+1)*400)-150], axis=0)\n",
    "    pseudo_count=np.percentile(max_val,10)\n",
    "    plt.plot(np.delete((np.arange(0,101)-50), 50)*10,\n",
    "               np.log2((np.nanmean(hm.matrix.matrix[19991:24991, ((ii)*400)+150:((ii+1)*400)-150]+pseudo_count, axis=0))/\n",
    "                       (np.nanmean(hm.matrix.matrix[24991:, ((ii)*400)+150:((ii+1)*400)-150]+pseudo_count, axis=0))), \n",
    "               color=(Bold_10.hex_colors + Vivid_10_r.hex_colors + Antique_10_r.hex_colors)[ii],\n",
    "             marker=list(markers.MarkerStyle().markers.keys())[ii],\n",
    "             markersize=6,\n",
    "             label=hm.__dict__['parameters']['sample_labels'][ii])\n",
    "    plt.axvline(0, color='black', ls='--', lw=.5)\n",
    "    plt.axhline(0, color='black', ls='--', lw=.5)\n",
    "lgnd = plt.legend(bbox_to_anchor=(1.02, 1), frameon=False, markerscale=2)\n",
    "# for handle in lgnd.legendHandles:\n",
    "#     handle.set_sizes([22.0])\n",
    "plt.title(\"wgSTARR - active v inactive log2 ratios\")\n",
    "plt.ylim([0,0.2])\n",
    "sns.despine()\n",
    "plt.tight_layout()\n",
    "fig.savefig('data/enhancer_call_comparison/profile_plots/wgstarr.active_v_inactive.log2.zoomed.V3.pdf')"
   ]
  },
  {
   "cell_type": "code",
   "execution_count": 5,
   "metadata": {
    "collapsed": true,
    "jupyter": {
     "outputs_hidden": true
    }
   },
   "outputs": [
    {
     "name": "stdout",
     "output_type": "stream",
     "text": [
      "Overwriting /data/reddylab/Revathy/collabs/Jamborees/fcc_capstone/plot_ProfilePlots.py\n"
     ]
    }
   ],
   "source": [
    "%%writefile /data/reddylab/Revathy/collabs/Jamborees/fcc_capstone/plot_ProfilePlots.py\n",
    "from deeptools import heatmapper  # You need to have deeptools3 installed\n",
    "import numpy as np\n",
    "import gzip\n",
    "from matplotlib import pyplot as plt\n",
    "from matplotlib import patches as mpatches\n",
    "import seaborn as sns \n",
    "from palettable.cartocolors.qualitative import Bold_10, Vivid_10_r, Antique_10_r\n",
    "from matplotlib import markers\n",
    "# %matplotlib inline\n",
    "\n",
    "hm = heatmapper.heatmapper() # create heatmapper object\n",
    "hm.read_matrix_file('/data/reddylab/Revathy/collabs/Jamborees/fcc_capstone/data/enhancer_call_comparison/10032022/ASTARR_LentiMPRA_wgSTARR.GC_content.random5000.V6.refpoint.mat.gz')\n",
    "\n",
    "\n",
    "sns.set_context('talk', font_scale=1.01)\n",
    "fig, ax = plt.subplots(figsize=[14,10])\n",
    "for ii in range(len(hm.__dict__['parameters']['sample_labels'])):\n",
    "    if hm.__dict__['parameters']['sample_labels'][ii] == 'ASTARR_log2': continue\n",
    "    max_val=np.max(hm.matrix.matrix[:5000, ((ii)*400)+150:((ii+1)*400)-150], axis=0)\n",
    "    pseudo_count=np.percentile(max_val,10)\n",
    "    plt.plot(np.delete((np.arange(0,101)-50), 50)*10,\n",
    "               np.log2((np.nanmean(hm.matrix.matrix[:5000, ((ii)*400)+150:((ii+1)*400)-150]+pseudo_count, axis=0))/\n",
    "                       (np.nanmean(hm.matrix.matrix[5000:9995, ((ii)*400)+150:((ii+1)*400)-150]+pseudo_count, axis=0))), \n",
    "               color=(Bold_10.hex_colors + Vivid_10_r.hex_colors + Antique_10_r.hex_colors)[ii],\n",
    "             marker=list(markers.MarkerStyle().markers.keys())[ii],\n",
    "             markersize=6,\n",
    "             label=hm.__dict__['parameters']['sample_labels'][ii])\n",
    "    plt.axvline(0, color='black', ls='--', lw=.5)\n",
    "    plt.axhline(0, color='black', ls='--', lw=.5)\n",
    "lgnd = plt.legend(bbox_to_anchor=(1.02, 1), frameon=False, markerscale=2)\n",
    "# for handle in lgnd.legendHandles:\n",
    "#     handle.set_sizes([22.0])\n",
    "plt.title(\"ASTARR - active v inactive log2 ratios\")\n",
    "plt.ylim([-0.1,0.25])\n",
    "sns.despine()\n",
    "plt.tight_layout()\n",
    "fig.savefig('data/enhancer_call_comparison/profile_plots/astarr.active_v_inactive.zoomed.V3.pdf')\n",
    "\n",
    "\n",
    "sns.set_context('talk', font_scale=1.05)\n",
    "fig, ax = plt.subplots(figsize=[14,10])\n",
    "for ii in range(len(hm.__dict__['parameters']['sample_labels'])):\n",
    "    max_val=np.max(hm.matrix.matrix[9995:14993, (ii)*400:(ii+1)*400], axis=0)\n",
    "    pseudo_count=np.percentile(max_val,10)\n",
    "    plt.plot(np.delete((np.arange(0,101)-50), 50)*10,\n",
    "               np.log2((np.nanmean(hm.matrix.matrix[9995:14993, ((ii)*400)+150:((ii+1)*400)-150]+pseudo_count, axis=0))/\n",
    "                       (np.nanmean(hm.matrix.matrix[14993:19991, ((ii)*400)+150:((ii+1)*400)-150]+pseudo_count, axis=0))), \n",
    "               color=(Bold_10.hex_colors + Vivid_10_r.hex_colors + Antique_10_r.hex_colors)[ii],\n",
    "             marker=list(markers.MarkerStyle().markers.keys())[ii],\n",
    "             markersize=6,\n",
    "             label=hm.__dict__['parameters']['sample_labels'][ii])\n",
    "    plt.axvline(0, color='black', ls='--', lw=.5)\n",
    "    plt.axhline(0, color='black', ls='--', lw=.5)\n",
    "lgnd = plt.legend(bbox_to_anchor=(1.02, 1), frameon=False, markerscale=2)\n",
    "# for handle in lgnd.legendHandles:\n",
    "#     handle.set_sizes([22.0])\n",
    "plt.title(\"LentiMPRA - active v inactive log2 ratios\")\n",
    "plt.ylim([-0.15,0.25])\n",
    "sns.despine()\n",
    "plt.tight_layout()\n",
    "fig.savefig('data/enhancer_call_comparison/profile_plots/lentiMPRA.active_v_inactive.zoomed.V3.pdf')\n",
    "\n",
    "\n",
    "sns.set_context('talk', font_scale=1.01)\n",
    "fig, ax = plt.subplots(figsize=[14,10])\n",
    "for ii in range(len(hm.__dict__['parameters']['sample_labels'])):\n",
    "    if hm.__dict__['parameters']['sample_labels'][ii] == 'WG_STARR_log2': continue\n",
    "    max_val=np.max(hm.matrix.matrix[19991:24991, ((ii)*400)+150:((ii+1)*400)-150], axis=0)\n",
    "    pseudo_count=np.percentile(max_val,10)\n",
    "    plt.plot(np.delete((np.arange(0,101)-50), 50)*10,\n",
    "               np.log2((np.nanmean(hm.matrix.matrix[19991:24991, ((ii)*400)+150:((ii+1)*400)-150]+pseudo_count, axis=0))/\n",
    "                       (np.nanmean(hm.matrix.matrix[24991:, ((ii)*400)+150:((ii+1)*400)-150]+pseudo_count, axis=0))), \n",
    "               color=(Bold_10.hex_colors + Vivid_10_r.hex_colors + Antique_10_r.hex_colors)[ii],\n",
    "             marker=list(markers.MarkerStyle().markers.keys())[ii],\n",
    "             markersize=6,\n",
    "             label=hm.__dict__['parameters']['sample_labels'][ii])\n",
    "    plt.axvline(0, color='black', ls='--', lw=.5)\n",
    "    plt.axhline(0, color='black', ls='--', lw=.5)\n",
    "lgnd = plt.legend(bbox_to_anchor=(1.02, 1), frameon=False, markerscale=2)\n",
    "# for handle in lgnd.legendHandles:\n",
    "#     handle.set_sizes([22.0])\n",
    "plt.title(\"wgSTARR - active v inactive log2 ratios\")\n",
    "plt.ylim([0,0.2])\n",
    "sns.despine()\n",
    "plt.tight_layout()\n",
    "fig.savefig('data/enhancer_call_comparison/profile_plots/wgstarr.active_v_inactive.log2.zoomed.V3.pdf')"
   ]
  },
  {
   "cell_type": "code",
   "execution_count": 6,
   "metadata": {
    "collapsed": true,
    "jupyter": {
     "outputs_hidden": true
    }
   },
   "outputs": [
    {
     "name": "stdout",
     "output_type": "stream",
     "text": [
      "Submitted batch job 30253615\n"
     ]
    }
   ],
   "source": [
    "%%bash\n",
    "source /data/reddylab/software/miniconda3/bin/activate revathy_py3\n",
    "sbatch \\\n",
    "    --exclude=dl-01 \\\n",
    "    --mem=128G \\\n",
    "    --cpus-per-task=16 \\\n",
    "    -o /data/reddylab/Revathy/collabs/Jamborees/fcc_capstone/logs/plot_ProfilePlots.out \\\n",
    "    <<'EOF'\n",
    "#!/bin/bash \n",
    "python /data/reddylab/Revathy/collabs/Jamborees/fcc_capstone/plot_ProfilePlots.py\n",
    "EOF"
   ]
  },
  {
   "cell_type": "markdown",
   "metadata": {},
   "source": [
    "# Summary Heatmaps"
   ]
  },
  {
   "cell_type": "markdown",
   "metadata": {},
   "source": [
    "### Split the Heatmap into Promoter and Distal using computeMatrixOperations\n",
    "\n",
    "Initially annotate the summits bed file using ChIPseeker - done in Chipseeker_annotation.ipynb"
   ]
  },
  {
   "cell_type": "markdown",
   "metadata": {},
   "source": [
    "Annotated peaks for the active set:\n",
    "\n",
    "`/data/reddylab/Revathy/collabs/Jamborees/fcc_capstone/data/enhancer_call_annotation/V2/ASTARR_merged_enhancer_peaks_in_each_orientation.summits.random5000.annotated.txt`\n",
    "`/data/reddylab/Revathy/collabs/Jamborees/fcc_capstone/data/enhancer_call_annotation/V2/lentiMPRA_merged_enhancer_peaks_in_either_orientation.summits.random5000.annotated.txt`\n",
    "`/data/reddylab/Revathy/collabs/Jamborees/fcc_capstone/data/enhancer_call_annotation/V2/wgSTARR_merged_enhancer_peaks_in_each_orientation.summits.random5000.annotated.txt`"
   ]
  },
  {
   "cell_type": "code",
   "execution_count": null,
   "metadata": {
    "collapsed": true,
    "jupyter": {
     "outputs_hidden": true
    }
   },
   "outputs": [],
   "source": [
    "import pandas as pd\n",
    "\n",
    "files=[\"/data/reddylab/Revathy/collabs/Jamborees/fcc_capstone/data/enhancer_call_annotation/V2/ASTARR_bin_level_all_result.inactive.merged.random5000.annotated.txt\",\n",
    "       \"/data/reddylab/Revathy/collabs/Jamborees/fcc_capstone/data/enhancer_call_annotation/V2/lentiMPRA_element_level_all_result.inactive.merged.random5000.annotated.txt\",\n",
    "       \"/data/reddylab/Revathy/collabs/Jamborees/fcc_capstone/data/enhancer_call_annotation/V2/wgSTARR_bin_level_all_result.inactive.merged.random5000.annotated.txt\"\n",
    "      ]\n",
    "\n",
    "for file in files:\n",
    "    file_name='.'.join(file.split('/')[-1].split('.')[:-1])\n",
    "    tmp = pd.read_csv(file, sep='\\t')\n",
    "    tmp[tmp['annotation'].str.contains('Promoter')].to_csv('/data/reddylab/Revathy/collabs/Jamborees/fcc_capstone/data/enhancer_call_annotation/V2/%s.promoter.txt'%file_name, sep='\\t', index=False)\n",
    "    tmp[~tmp['annotation'].str.contains('Promoter')].to_csv('/data/reddylab/Revathy/collabs/Jamborees/fcc_capstone/data/enhancer_call_annotation/V2/%s.rest.txt'%file_name, sep='\\t', index=False)\n",
    "    "
   ]
  },
  {
   "cell_type": "code",
   "execution_count": null,
   "metadata": {
    "collapsed": true,
    "jupyter": {
     "outputs_hidden": true
    }
   },
   "outputs": [],
   "source": [
    "%%bash\n",
    "### ASTARR\n",
    "cat /data/reddylab/Revathy/collabs/Jamborees/fcc_capstone/data/enhancer_call_annotation/V2/ASTARR_bin_level_all_result.inactive.merged.random5000.annotated.promoter.txt | tail -n+2 | cut -f1,2,3 \\\n",
    "> /data/reddylab/Revathy/collabs/Jamborees/fcc_capstone/data/enhancer_call_annotation/V2/ASTARR_bin_level_all_result.inactive.merged.random5000.annotated.promoter.coordinates.bed\n",
    "cat /data/reddylab/Revathy/collabs/Jamborees/fcc_capstone/data/enhancer_call_annotation/V2/ASTARR_bin_level_all_result.inactive.merged.random5000.annotated.rest.txt | tail -n+2 | cut -f1,2,3 \\\n",
    "> /data/reddylab/Revathy/collabs/Jamborees/fcc_capstone/data/enhancer_call_annotation/V2/ASTARR_bin_level_all_result.inactive.merged.random5000.annotated.rest.coordinates.bed\n",
    "\n",
    "### wgSTARR\n",
    "cat /data/reddylab/Revathy/collabs/Jamborees/fcc_capstone/data/enhancer_call_annotation/V2/wgSTARR_bin_level_all_result.inactive.merged.random5000.annotated.promoter.txt | tail -n+2 | cut -f1,2,3 \\\n",
    "> /data/reddylab/Revathy/collabs/Jamborees/fcc_capstone/data/enhancer_call_annotation/V2/wgSTARR_bin_level_all_result.inactive.merged.random5000.annotated.promoter.coordinates.bed\n",
    "cat /data/reddylab/Revathy/collabs/Jamborees/fcc_capstone/data/enhancer_call_annotation/V2/wgSTARR_bin_level_all_result.inactive.merged.random5000.annotated.rest.txt | tail -n+2 | cut -f1,2,3 \\\n",
    "> /data/reddylab/Revathy/collabs/Jamborees/fcc_capstone/data/enhancer_call_annotation/V2/wgSTARR_bin_level_all_result.inactive.merged.random5000.annotated.rest.coordinates.bed\n",
    "\n",
    "## LentiMPRA\n",
    "cat /data/reddylab/Revathy/collabs/Jamborees/fcc_capstone/data/enhancer_call_annotation/V2/lentiMPRA_element_level_all_result.inactive.merged.random5000.annotated.promoter.txt | tail -n+2 | cut -f1,2,3 \\\n",
    "> /data/reddylab/Revathy/collabs/Jamborees/fcc_capstone/data/enhancer_call_annotation/V2/lentiMPRA_element_level_all_result.inactive.merged.random5000.annotated.promoter.coordinates.bed\n",
    "cat /data/reddylab/Revathy/collabs/Jamborees/fcc_capstone/data/enhancer_call_annotation/V2/lentiMPRA_element_level_all_result.inactive.merged.random5000.annotated.rest.txt | tail -n+2 | cut -f1,2,3 \\\n",
    "> /data/reddylab/Revathy/collabs/Jamborees/fcc_capstone/data/enhancer_call_annotation/V2/lentiMPRA_element_level_all_result.inactive.merged.random5000.annotated.rest.coordinates.bed"
   ]
  },
  {
   "cell_type": "code",
   "execution_count": null,
   "metadata": {
    "collapsed": true,
    "jupyter": {
     "outputs_hidden": true
    }
   },
   "outputs": [],
   "source": [
    "%%bash\n",
    "awk -vOFS='\\t' '{print $1, ($2 - 1), $3}' /data/reddylab/Revathy/collabs/Jamborees/fcc_capstone/data/enhancer_call_annotation/V2/ASTARR_bin_level_all_result.inactive.merged.random5000.annotated.promoter.coordinates.bed \\\n",
    "> /data/reddylab/Revathy/collabs/Jamborees/fcc_capstone/data/enhancer_call_annotation/V2/ASTARR_bin_level_all_result.inactive.merged.random5000.annotated.promoter_v1.coordinates.bed\n",
    "awk -vOFS='\\t' '{print $1, ($2 - 1), $3}' /data/reddylab/Revathy/collabs/Jamborees/fcc_capstone/data/enhancer_call_annotation/V2/ASTARR_bin_level_all_result.inactive.merged.random5000.annotated.rest.coordinates.bed \\\n",
    "> /data/reddylab/Revathy/collabs/Jamborees/fcc_capstone/data/enhancer_call_annotation/V2/ASTARR_bin_level_all_result.inactive.merged.random5000.annotated.rest_v1.coordinates.bed\n",
    "\n",
    "\n",
    "awk -vOFS='\\t' '{print $1, ($2 - 1), $3}' /data/reddylab/Revathy/collabs/Jamborees/fcc_capstone/data/enhancer_call_annotation/V2/wgSTARR_bin_level_all_result.inactive.merged.random5000.annotated.promoter.coordinates.bed \\\n",
    "> /data/reddylab/Revathy/collabs/Jamborees/fcc_capstone/data/enhancer_call_annotation/V2/wgSTARR_bin_level_all_result.inactive.merged.random5000.annotated.promoter_v1.coordinates.bed\n",
    "awk -vOFS='\\t' '{print $1, ($2 - 1), $3}' /data/reddylab/Revathy/collabs/Jamborees/fcc_capstone/data/enhancer_call_annotation/V2/wgSTARR_bin_level_all_result.inactive.merged.random5000.annotated.rest.coordinates.bed \\\n",
    "> /data/reddylab/Revathy/collabs/Jamborees/fcc_capstone/data/enhancer_call_annotation/V2/wgSTARR_bin_level_all_result.inactive.merged.random5000.annotated.rest_v1.coordinates.bed\n",
    "\n",
    "\n",
    "awk -vOFS='\\t' '{print $1, ($2 - 1), $3}' /data/reddylab/Revathy/collabs/Jamborees/fcc_capstone/data/enhancer_call_annotation/V2/lentiMPRA_element_level_all_result.inactive.merged.random5000.annotated.promoter.coordinates.bed \\\n",
    "> /data/reddylab/Revathy/collabs/Jamborees/fcc_capstone/data/enhancer_call_annotation/V2/lentiMPRA_element_level_all_result.inactive.merged.random5000.annotated.promoter_v1.coordinates.bed\n",
    "awk -vOFS='\\t' '{print $1, ($2 - 1), $3}' /data/reddylab/Revathy/collabs/Jamborees/fcc_capstone/data/enhancer_call_annotation/V2/lentiMPRA_element_level_all_result.inactive.merged.random5000.annotated.rest.coordinates.bed \\\n",
    "> /data/reddylab/Revathy/collabs/Jamborees/fcc_capstone/data/enhancer_call_annotation/V2/lentiMPRA_element_level_all_result.inactive.merged.random5000.annotated.rest_v1.coordinates.bed"
   ]
  },
  {
   "cell_type": "code",
   "execution_count": null,
   "metadata": {
    "collapsed": true,
    "jupyter": {
     "outputs_hidden": true
    }
   },
   "outputs": [],
   "source": [
    "%%bash\n",
    "source /data/reddylab/software/miniconda3/bin/activate revathy_py3\n",
    "sbatch \\\n",
    "    --exclude=dl-01 \\\n",
    "    --mem=128G \\\n",
    "    --cpus-per-task=16 \\\n",
    "    -o /data/reddylab/Revathy/collabs/Jamborees/fcc_capstone/logs/ASTARR_LentiMPRA_wgSTARR.active_vs_inactive_peaks.sort.computematrixOperations.out \\\n",
    "    <<'EOF'\n",
    "#!/bin/bash \n",
    "computeMatrixOperations relabel -m /data/reddylab/Revathy/collabs/Jamborees/fcc_capstone/data/enhancer_call_comparison/10032022/ASTARR_LentiMPRA_wgSTARR.GC_content.random5000.V6.refpoint.mat.gz \\\n",
    "-o /data/reddylab/Revathy/collabs/Jamborees/fcc_capstone/data/enhancer_call_comparison/10032022/ASTARR_LentiMPRA_wgSTARR.GC_content.random5000.V6.promoter_relabel.mat.gz \\\n",
    "--groupLabels \"ASTARR_merged_enhancer_peaks_in_each_orientation.summits.random5000.annotated.promoter_v1.coordinates.bed\" \"ASTARR_bin_level_all_result.inactive.merged.random5000.annotated.promoter_v1.coordinates.bed\" \"lentiMPRA_merged_enhancer_peaks_in_either_orientation.summits.random5000.annotated.promoter_v1.coordinates.bed\" \"lentiMPRA_element_level_all_result.inactive.merged.random5000.annotated.promoter_v1.coordinates.bed\" \"wgSTARR_merged_enhancer_peaks_in_each_orientation.summits.random5000.annotated.promoter_v1.coordinates.bed\" \"wgSTARR_bin_level_all_result.inactive.merged.random5000.annotated.promoter_v1.coordinates.bed\"\n",
    "\n",
    "computeMatrixOperations relabel -m /data/reddylab/Revathy/collabs/Jamborees/fcc_capstone/data/enhancer_call_comparison/10032022/ASTARR_LentiMPRA_wgSTARR.GC_content.random5000.V6.refpoint.mat.gz \\\n",
    "-o /data/reddylab/Revathy/collabs/Jamborees/fcc_capstone/data/enhancer_call_comparison/10032022/ASTARR_LentiMPRA_wgSTARR.GC_content.random5000.V6.distal_relabel.mat.gz \\\n",
    "--groupLabels \"ASTARR_merged_enhancer_peaks_in_each_orientation.summits.random5000.annotated.rest_v1.coordinates.bed\" \"ASTARR_bin_level_all_result.inactive.merged.random5000.annotated.rest_v1.coordinates.bed\" \"lentiMPRA_merged_enhancer_peaks_in_either_orientation.summits.random5000.annotated.rest_v1.coordinates.bed\" \"lentiMPRA_element_level_all_result.inactive.merged.random5000.annotated.rest_v1.coordinates.bed\" \"wgSTARR_merged_enhancer_peaks_in_each_orientation.summits.random5000.annotated.rest_v1.coordinates.bed\" \"wgSTARR_bin_level_all_result.inactive.merged.random5000.annotated.rest_v1.coordinates.bed\"\n",
    "EOF"
   ]
  },
  {
   "cell_type": "code",
   "execution_count": null,
   "metadata": {
    "collapsed": true,
    "jupyter": {
     "outputs_hidden": true
    }
   },
   "outputs": [],
   "source": [
    "!ls /data/reddylab/Revathy/collabs/Jamborees/fcc_capstone/data/enhancer_call_comparison/10032022/ASTARR_LentiMPRA_wgSTARR.GC_content.random5000.V6.distal_relabel.mat.gz"
   ]
  },
  {
   "cell_type": "code",
   "execution_count": null,
   "metadata": {
    "collapsed": true,
    "jupyter": {
     "outputs_hidden": true
    }
   },
   "outputs": [],
   "source": [
    "%%bash\n",
    "source /data/reddylab/software/miniconda3/bin/activate revathy_py3\n",
    "sbatch \\\n",
    "    --exclude=dl-01 \\\n",
    "    --mem=128G \\\n",
    "    --cpus-per-task=16 \\\n",
    "    -o /data/reddylab/Revathy/collabs/Jamborees/fcc_capstone/logs/ASTARR_LentiMPRA_wgSTARR.active_vs_inactive_peaks.promoter_Distal_separations.computematrixOperations.out \\\n",
    "    <<'EOF'\n",
    "#!/bin/bash \n",
    "computeMatrixOperations sort -m /data/reddylab/Revathy/collabs/Jamborees/fcc_capstone/data/enhancer_call_comparison/10032022/ASTARR_LentiMPRA_wgSTARR.GC_content.random5000.V6.promoter_relabel.mat.gz \\\n",
    "-R \\\n",
    "/data/reddylab/Revathy/collabs/Jamborees/fcc_capstone/data/enhancer_call_annotation/V2/ASTARR_merged_enhancer_peaks_in_each_orientation.summits.random5000.annotated.promoter_v1.coordinates.bed \\\n",
    "/data/reddylab/Revathy/collabs/Jamborees/fcc_capstone/data/enhancer_call_annotation/V2/ASTARR_bin_level_all_result.inactive.merged.random5000.annotated.promoter_v1.coordinates.bed \\\n",
    "/data/reddylab/Revathy/collabs/Jamborees/fcc_capstone/data/enhancer_call_annotation/V2/lentiMPRA_merged_enhancer_peaks_in_either_orientation.summits.random5000.annotated.promoter_v1.coordinates.bed \\\n",
    "/data/reddylab/Revathy/collabs/Jamborees/fcc_capstone/data/enhancer_call_annotation/V2/lentiMPRA_element_level_all_result.inactive.merged.random5000.annotated.promoter_v1.coordinates.bed \\\n",
    "/data/reddylab/Revathy/collabs/Jamborees/fcc_capstone/data/enhancer_call_annotation/V2/wgSTARR_merged_enhancer_peaks_in_each_orientation.summits.random5000.annotated.promoter_v1.coordinates.bed \\\n",
    "/data/reddylab/Revathy/collabs/Jamborees/fcc_capstone/data/enhancer_call_annotation/V2/wgSTARR_bin_level_all_result.inactive.merged.random5000.annotated.promoter_v1.coordinates.bed \\\n",
    "-o /data/reddylab/Revathy/collabs/Jamborees/fcc_capstone/data/enhancer_call_comparison/10032022/ASTARR_LentiMPRA_wgSTARR.active_vs_inactive_peaks.GC_content.random5000.V6.promoter.mat.gz\n",
    "\n",
    "computeMatrixOperations sort -m /data/reddylab/Revathy/collabs/Jamborees/fcc_capstone/data/enhancer_call_comparison/10032022/ASTARR_LentiMPRA_wgSTARR.GC_content.random5000.V6.distal_relabel.mat.gz \\\n",
    "-R \\\n",
    "/data/reddylab/Revathy/collabs/Jamborees/fcc_capstone/data/enhancer_call_annotation/V2/ASTARR_merged_enhancer_peaks_in_each_orientation.summits.random5000.annotated.rest_v1.coordinates.bed \\\n",
    "/data/reddylab/Revathy/collabs/Jamborees/fcc_capstone/data/enhancer_call_annotation/V2/ASTARR_bin_level_all_result.inactive.merged.random5000.annotated.rest_v1.coordinates.bed \\\n",
    "/data/reddylab/Revathy/collabs/Jamborees/fcc_capstone/data/enhancer_call_annotation/V2/lentiMPRA_merged_enhancer_peaks_in_either_orientation.summits.random5000.annotated.rest_v1.coordinates.bed \\\n",
    "/data/reddylab/Revathy/collabs/Jamborees/fcc_capstone/data/enhancer_call_annotation/V2/lentiMPRA_element_level_all_result.inactive.merged.random5000.annotated.rest_v1.coordinates.bed \\\n",
    "/data/reddylab/Revathy/collabs/Jamborees/fcc_capstone/data/enhancer_call_annotation/V2/wgSTARR_merged_enhancer_peaks_in_each_orientation.summits.random5000.annotated.rest_v1.coordinates.bed \\\n",
    "/data/reddylab/Revathy/collabs/Jamborees/fcc_capstone/data/enhancer_call_annotation/V2/wgSTARR_bin_level_all_result.inactive.merged.random5000.annotated.rest_v1.coordinates.bed \\\n",
    "-o /data/reddylab/Revathy/collabs/Jamborees/fcc_capstone/data/enhancer_call_comparison/10032022/ASTARR_LentiMPRA_wgSTARR.active_vs_inactive_peaks.GC_content.random5000.V6.distal.mat.gz\n",
    "EOF"
   ]
  },
  {
   "cell_type": "code",
   "execution_count": null,
   "metadata": {
    "collapsed": true,
    "jupyter": {
     "outputs_hidden": true
    }
   },
   "outputs": [],
   "source": [
    "hm_promoter=heatmapper.heatmapper()\n",
    "hm_promoter.read_matrix_file('/data/reddylab/Revathy/collabs/Jamborees/fcc_capstone/data/enhancer_call_comparison/10032022/ASTARR_LentiMPRA_wgSTARR.active_vs_inactive_peaks.GC_content.random5000.V6.promoter.mat.gz')"
   ]
  },
  {
   "cell_type": "code",
   "execution_count": null,
   "metadata": {
    "collapsed": true,
    "jupyter": {
     "outputs_hidden": true
    }
   },
   "outputs": [],
   "source": [
    "hm_distal=heatmapper.heatmapper()\n",
    "hm_distal.read_matrix_file('/data/reddylab/Revathy/collabs/Jamborees/fcc_capstone/data/enhancer_call_comparison/10032022/ASTARR_LentiMPRA_wgSTARR.active_vs_inactive_peaks.GC_content.random5000.V6.distal.mat.gz')"
   ]
  },
  {
   "cell_type": "code",
   "execution_count": null,
   "metadata": {
    "collapsed": true,
    "jupyter": {
     "outputs_hidden": true
    }
   },
   "outputs": [],
   "source": [
    "print(hm_promoter.__dict__['parameters']['group_boundaries'])\n",
    "print(hm_distal.__dict__['parameters']['group_boundaries'])"
   ]
  },
  {
   "cell_type": "code",
   "execution_count": null,
   "metadata": {
    "collapsed": true,
    "jupyter": {
     "outputs_hidden": true
    }
   },
   "outputs": [],
   "source": [
    "%%writefile /data/reddylab/Revathy/collabs/Jamborees/fcc_capstone/plot_summaryHeatmap.py\n",
    "import pandas as pd\n",
    "import numpy as np\n",
    "from numpy import trapz\n",
    "from deeptools import heatmapper\n",
    "import seaborn as sns\n",
    "import matplotlib.pyplot as plt\n",
    "\n",
    "sns.set_context(\"talk\")\n",
    "sns.set_style(\"whitegrid\")\n",
    "sns.set_style(\"ticks\", {\"xtick.major.size\": 8, \"ytick.major.size\": 8})\n",
    "\n",
    "hm_promoter=heatmapper.heatmapper()\n",
    "hm_promoter.read_matrix_file('/data/reddylab/Revathy/collabs/Jamborees/fcc_capstone/data/enhancer_call_comparison/10032022/ASTARR_LentiMPRA_wgSTARR.active_vs_inactive_peaks.GC_content.random5000.V6.promoter.mat.gz')\n",
    "\n",
    "hm_distal=heatmapper.heatmapper()\n",
    "hm_distal.read_matrix_file('/data/reddylab/Revathy/collabs/Jamborees/fcc_capstone/data/enhancer_call_comparison/10032022/ASTARR_LentiMPRA_wgSTARR.active_vs_inactive_peaks.GC_content.random5000.V6.distal.mat.gz')\n",
    "\n",
    "# ChIP_ASTARR=[]\n",
    "# ChIP_Lenti=[]\n",
    "# ChIP_wgSTARR=[]\n",
    "\n",
    "AUC_ASTARRp=[]\n",
    "AUC_ASTARRd=[]\n",
    "AUC_Lentip=[]\n",
    "AUC_Lentid=[]\n",
    "AUC_wgSTARRp=[]\n",
    "AUC_wgSTARRd=[]\n",
    "\n",
    "label=hm_promoter.__dict__['parameters']['sample_labels'][0:20]\n",
    "\n",
    "for ii in range(len(label)):\n",
    "    \n",
    "    max_val_ASTARRp=np.max(hm_promoter.matrix.matrix[:1440, ((ii)*400)+150:((ii+1)*400)-150], axis=0)\n",
    "    pseudo_count_ASTARRp=np.percentile(max_val_ASTARRp,10)\n",
    "    logFC_ASTARRp=np.log2((np.nanmean(hm_promoter.matrix.matrix[:1440, ((ii)*400)+150:((ii+1)*400)-150]+pseudo_count_ASTARRp, axis=0))/\n",
    "                       (np.nanmean(hm_promoter.matrix.matrix[1440:3167, ((ii)*400)+150:((ii+1)*400)-150]+pseudo_count_ASTARRp, axis=0)))\n",
    "    AUC_ASTARRp.append(trapz(logFC_ASTARRp, dx=10))\n",
    "\n",
    "    max_val_Lentip=np.max(hm_promoter.matrix.matrix[3167:4466, ((ii)*400)+150:((ii+1)*400)-150], axis=0)\n",
    "    pseudo_count_Lentip=np.percentile(max_val_Lentip,10)\n",
    "    logFC_Lentip=np.log2((np.nanmean(hm_promoter.matrix.matrix[3167:4466, ((ii)*400)+150:((ii+1)*400)-150]+pseudo_count_Lentip, axis=0))/\n",
    "                       (np.nanmean(hm_promoter.matrix.matrix[4466:5546, ((ii)*400)+150:((ii+1)*400)-150]+pseudo_count_Lentip, axis=0)))\n",
    "    AUC_Lentip.append(trapz(logFC_Lentip, dx=10))\n",
    "\n",
    "    max_val_wgSTARRp=np.max(hm_promoter.matrix.matrix[5546:6823, ((ii)*400)+150:((ii+1)*400)-150], axis=0)\n",
    "    pseudo_count_wgSTARRp=np.percentile(max_val_wgSTARRp,10)\n",
    "    logFC_wgSTARRp=np.log2((np.nanmean(hm_promoter.matrix.matrix[5546:6823, ((ii)*400)+150:((ii+1)*400)-150]+pseudo_count_wgSTARRp, axis=0))/\n",
    "                       (np.nanmean(hm_promoter.matrix.matrix[6823:, ((ii)*400)+150:((ii+1)*400)-150]+pseudo_count_wgSTARRp, axis=0)))\n",
    "    AUC_wgSTARRp.append(trapz(logFC_wgSTARRp, dx=10))\n",
    "    \n",
    "    max_val_ASTARRd=np.max(hm_distal.matrix.matrix[:3560, ((ii)*400)+150:((ii+1)*400)-150], axis=0)\n",
    "    pseudo_count_ASTARRd=np.percentile(max_val_ASTARRd,10)\n",
    "    logFC_ASTARRd=np.log2((np.nanmean(hm_distal.matrix.matrix[:3560, ((ii)*400)+150:((ii+1)*400)-150]+pseudo_count_ASTARRd, axis=0))/\n",
    "                       (np.nanmean(hm_distal.matrix.matrix[3560:6828, ((ii)*400)+150:((ii+1)*400)-150]+pseudo_count_ASTARRd, axis=0)))\n",
    "    AUC_ASTARRd.append(trapz(logFC_ASTARRd, dx=10))\n",
    "        \n",
    "    max_val_Lentid=np.max(hm_distal.matrix.matrix[6828:10527, ((ii)*400)+150:((ii+1)*400)-150], axis=0)\n",
    "    pseudo_count_Lentid=np.percentile(max_val_Lentid,10)\n",
    "    logFC_Lentid=np.log2((np.nanmean(hm_distal.matrix.matrix[6828:10527, ((ii)*400)+150:((ii+1)*400)-150]+pseudo_count_Lentid, axis=0))/\n",
    "                       (np.nanmean(hm_distal.matrix.matrix[10527:14445, ((ii)*400)+150:((ii+1)*400)-150]+pseudo_count_Lentid, axis=0)))\n",
    "    AUC_Lentid.append(trapz(logFC_Lentid, dx=10))\n",
    "    \n",
    "    max_val_wgSTARRd=np.max(hm_distal.matrix.matrix[14445:18168, ((ii)*400)+150:((ii+1)*400)-150], axis=0)\n",
    "    pseudo_count_wgSTARRd=np.percentile(max_val_wgSTARRd,10)\n",
    "    logFC_wgSTARRd=np.log2((np.nanmean(hm_distal.matrix.matrix[14445:18168, ((ii)*400)+150:((ii+1)*400)-150]+pseudo_count_wgSTARRd, axis=0))/\n",
    "                       (np.nanmean(hm_distal.matrix.matrix[18168:, ((ii)*400)+150:((ii+1)*400)-150]+pseudo_count_wgSTARRd, axis=0)))\n",
    "    AUC_wgSTARRd.append(trapz(logFC_wgSTARRd, dx=10))\n",
    "\n",
    "DF_ASTARR = pd.DataFrame(np.column_stack([label, AUC_ASTARRp, AUC_ASTARRd]), columns=['Label', 'ASTARR_Promoter', 'ASTARR_Distal'])\n",
    "DF_Lenti = pd.DataFrame(np.column_stack([label, AUC_Lentip, AUC_Lentid]), columns=['Label', 'Lenti_Promoter', 'Lenti_Distal'])\n",
    "DF_wgSTARR = pd.DataFrame(np.column_stack([label, AUC_wgSTARRp, AUC_wgSTARRd]), columns=['Label', 'wgSTARR_Promoter', 'wgSTARR_Distal'])\n",
    "\n",
    "DF_ASTARR[['ASTARR_Promoter','ASTARR_Distal']]=DF_ASTARR[['ASTARR_Promoter','ASTARR_Distal']].apply(pd.to_numeric, errors='coerce', axis=1)\n",
    "DF_Lenti[['Lenti_Promoter','Lenti_Distal']]=DF_Lenti[['Lenti_Promoter','Lenti_Distal']].apply(pd.to_numeric, errors='coerce', axis=1) \n",
    "DF_wgSTARR[['wgSTARR_Promoter','wgSTARR_Distal']]=DF_wgSTARR[['wgSTARR_Promoter','wgSTARR_Distal']].apply(pd.to_numeric, errors='coerce', axis=1)\n",
    "\n",
    "DF = DF_ASTARR.merge(DF_Lenti, on='Label', how='inner').merge(DF_wgSTARR, on='Label', how='inner')\n",
    "\n",
    "DF = DF.set_index('Label')\n",
    "DF = DF.fillna(0)\n",
    "sns.clustermap(DF.loc[:, ['ASTARR_Promoter','Lenti_Promoter','wgSTARR_Promoter','ASTARR_Distal','Lenti_Distal','wgSTARR_Distal']],\n",
    "               method='median',\n",
    "               figsize=[8,10],\n",
    "               vmin=-100,\n",
    "               vmax=100,\n",
    "               cmap='seismic_r',\n",
    "               col_cluster= False, \n",
    "               cbar_pos=(0.02, 0.8, 0.05, 0.18))\n",
    "\n",
    "DF.reset_index().to_csv('data/enhancer_call_comparison/bubble_plots/ASTARR_Lenti_wgSTARR.Promoter_Distal.AUC_summary_heatmaps.signal_table.txt', sep='\\t', index=False)\n",
    "plt.savefig('data/enhancer_call_comparison/bubble_plots/ASTARR_Lenti_wgSTARR.Promoter_Distal.AUC_summary_heatmaps.V2.pdf')"
   ]
  },
  {
   "cell_type": "code",
   "execution_count": null,
   "metadata": {
    "collapsed": true,
    "jupyter": {
     "outputs_hidden": true
    }
   },
   "outputs": [],
   "source": [
    "%%bash\n",
    "source /data/reddylab/software/miniconda3/bin/activate revathy_py3\n",
    "sbatch \\\n",
    "    --exclude=dl-01 \\\n",
    "    --mem=128G \\\n",
    "    --cpus-per-task=16 \\\n",
    "    -o /data/reddylab/Revathy/collabs/Jamborees/fcc_capstone/logs/plot_summaryHeatmap.out \\\n",
    "    <<'EOF'\n",
    "#!/bin/bash \n",
    "python /data/reddylab/Revathy/collabs/Jamborees/fcc_capstone/plot_summaryHeatmap.py\n",
    "EOF"
   ]
  },
  {
   "cell_type": "code",
   "execution_count": null,
   "metadata": {
    "collapsed": true,
    "jupyter": {
     "outputs_hidden": true
    }
   },
   "outputs": [],
   "source": [
    "from IPython.display import Image\n",
    "Image(\"/data/reddylab/Revathy/collabs/Jamborees/fcc_capstone/data/enhancer_call_comparison/bubble_plots/ASTARR_Lenti_wgSTARR.Promoter_Distal.AUC_summary_heatmaps.V2.png\")\n"
   ]
  }
 ],
 "metadata": {
  "kernelspec": {
   "display_name": "Python 3",
   "language": "python",
   "name": "python3"
  },
  "language_info": {
   "codemirror_mode": {
    "name": "ipython",
    "version": 3
   },
   "file_extension": ".py",
   "mimetype": "text/x-python",
   "name": "python",
   "nbconvert_exporter": "python",
   "pygments_lexer": "ipython3",
   "version": "3.6.15"
  }
 },
 "nbformat": 4,
 "nbformat_minor": 4
}
