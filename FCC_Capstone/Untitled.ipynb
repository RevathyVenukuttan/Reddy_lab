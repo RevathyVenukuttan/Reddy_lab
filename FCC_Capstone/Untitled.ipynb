{
 "cells": [
  {
   "cell_type": "code",
   "execution_count": 3,
   "metadata": {},
   "outputs": [
    {
     "name": "stdout",
     "output_type": "stream",
     "text": [
      "CTCF-only,CTCF-bound\n",
      "dELS\n",
      "dELS,CTCF-bound\n",
      "DNase-H3K4me3\n",
      "DNase-H3K4me3,CTCF-bound\n",
      "DNase-only\n",
      "Low-DNase\n",
      "pELS\n",
      "pELS,CTCF-bound\n",
      "PLS\n",
      "PLS,CTCF-bound\n"
     ]
    }
   ],
   "source": [
    "%%bash\n",
    "awk '{print $10}' /data/reddylab/Reference_Data/cCREs/hg38/ENCFF971AHO_ENCFF847JMY_ENCFF779QTH_ENCFF405AYC.7group.bed | sort | uniq"
   ]
  },
  {
   "cell_type": "code",
   "execution_count": 6,
   "metadata": {},
   "outputs": [
    {
     "name": "stdout",
     "output_type": "stream",
     "text": [
      "chr1\t181251\t181601\tEH38E1310153\t0\t.\t181251\t181601\t6,218,147\tDNase-only\tAll-data/Full-classification\n",
      "chr1\t190865\t191071\tEH38E1310154\t0\t.\t190865\t191071\t225,225,225\tLow-DNase\tAll-data/Full-classification\n",
      "chr1\t778562\t778912\tEH38E1310158\t0\t.\t778562\t778912\t255,0,0\tPLS,CTCF-bound\tAll-data/Full-classification\n",
      "chr1\t779086\t779355\tEH38E1310159\t0\t.\t779086\t779355\t255,0,0\tPLS\tAll-data/Full-classification\n",
      "chr1\t779727\t780060\tEH38E1310160\t0\t.\t779727\t780060\t225,225,225\tLow-DNase\tAll-data/Full-classification\n",
      "chr1\t790397\t790626\tEH38E1310162\t0\t.\t790397\t790626\t225,225,225\tLow-DNase\tAll-data/Full-classification\n",
      "chr1\t807736\t807916\tEH38E1310164\t0\t.\t807736\t807916\t225,225,225\tLow-DNase\tAll-data/Full-classification\n",
      "chr1\t812113\t812266\tEH38E1310165\t0\t.\t812113\t812266\t225,225,225\tLow-DNase\tAll-data/Full-classification\n",
      "chr1\t817080\t817403\tEH38E1310166\t0\t.\t817080\t817403\t225,225,225\tLow-DNase\tAll-data/Full-classification\n",
      "chr1\t817903\t818252\tEH38E1310167\t0\t.\t817903\t818252\t225,225,225\tLow-DNase\tAll-data/Full-classification\n"
     ]
    }
   ],
   "source": [
    "!head /data/reddylab/Reference_Data/cCREs/hg38/ENCFF971AHO_ENCFF847JMY_ENCFF779QTH_ENCFF405AYC.7group.bed"
   ]
  },
  {
   "cell_type": "code",
   "execution_count": 23,
   "metadata": {},
   "outputs": [
    {
     "name": "stdout",
     "output_type": "stream",
     "text": [
      "84996 /data/reddylab/Revathy/collabs/Jamborees/fcc_capstone/data/Junke_enhancer_calls_5Oct/processed/merged_peak/merged_sig_up_in_each_orientation.bed\n",
      "12439 /data/reddylab/Alex/encode4_duke/ipynbs/jamborees/20220706_fcc_capstone/data/lenti_mpra_orientation_dep_call_all.merged.bed\n",
      "38672 /data/reddylab/kstrouse/superstarr/output_libs/A001_K562/CRADLE/CRADLEcorr_kmer36/peaks/fdr0.05/CRADLE_peaks\n",
      "4004 /data/reddylab/Alex/encode4_duke/ipynbs/jamborees/20220706_fcc_capstone/data/tewhey_mpra_orientation_dep_call_all.merged.bed\n"
     ]
    }
   ],
   "source": [
    "!wc -l /data/reddylab/Revathy/collabs/Jamborees/fcc_capstone/data/Junke_enhancer_calls_5Oct/processed/merged_peak/merged_sig_up_in_each_orientation.bed\n",
    "!wc -l /data/reddylab/Alex/encode4_duke/ipynbs/jamborees/20220706_fcc_capstone/data/lenti_mpra_orientation_dep_call_all.merged.bed\n",
    "!wc -l /data/reddylab/kstrouse/superstarr/output_libs/A001_K562/CRADLE/CRADLEcorr_kmer36/peaks/fdr0.05/CRADLE_peaks\n",
    "!wc -l /data/reddylab/Alex/encode4_duke/ipynbs/jamborees/20220706_fcc_capstone/data/tewhey_mpra_orientation_dep_call_all.merged.bed"
   ]
  },
  {
   "cell_type": "code",
   "execution_count": 9,
   "metadata": {},
   "outputs": [],
   "source": [
    "%%bash\n",
    "mkdir /data/reddylab/Revathy/collabs/Jamborees/fcc_capstone/data/enhancer_call_cCRE_annotation\n",
    "module load bedtools2\n",
    "bedtools intersect \\\n",
    "-a /data/reddylab/Reference_Data/cCREs/hg38/ENCFF971AHO_ENCFF847JMY_ENCFF779QTH_ENCFF405AYC.7group.bed \\\n",
    "-b /data/reddylab/Revathy/collabs/Jamborees/fcc_capstone/data/Junke_enhancer_calls_5Oct/processed/merged_peak/merged_sig_up_in_each_orientation.bed \\\n",
    "-f 1 \\\n",
    "-r \\\n",
    "> /data/reddylab/Revathy/collabs/Jamborees/fcc_capstone/data/enhancer_call_cCRE_annotation/ASTARR_enhancer_call_cCRE_full_overlap.bed"
   ]
  },
  {
   "cell_type": "code",
   "execution_count": 24,
   "metadata": {},
   "outputs": [],
   "source": [
    "%%bash\n",
    "module load bedtools2\n",
    "bedtools intersect \\\n",
    "-a /data/reddylab/Reference_Data/cCREs/hg38/ENCFF971AHO_ENCFF847JMY_ENCFF779QTH_ENCFF405AYC.7group.bed \\\n",
    "-b /data/reddylab/Alex/encode4_duke/ipynbs/jamborees/20220706_fcc_capstone/data/lenti_mpra_orientation_dep_call_all.merged.bed \\\n",
    "-f 1 \\\n",
    "-r \\\n",
    "> /data/reddylab/Revathy/collabs/Jamborees/fcc_capstone/data/enhancer_call_cCRE_annotation/lentiMPRA_cCRE_full_overlap.bed"
   ]
  },
  {
   "cell_type": "code",
   "execution_count": 37,
   "metadata": {},
   "outputs": [],
   "source": [
    "%%bash\n",
    "tail -n+2 /data/reddylab/kstrouse/superstarr/output_libs/A001_K562/CRADLE/CRADLEcorr_kmer36/peaks/fdr0.05/CRADLE_peaks \\\n",
    "| cut -f1,2,3,4,5,6,7,8,9,10,11 \\\n",
    "> /data/reddylab/kstrouse/superstarr/output_libs/A001_K562/CRADLE/CRADLEcorr_kmer36/peaks/fdr0.05/CRADLE_peaks.bed"
   ]
  },
  {
   "cell_type": "code",
   "execution_count": 38,
   "metadata": {},
   "outputs": [],
   "source": [
    "%%bash\n",
    "module load bedtools2\n",
    "bedtools intersect \\\n",
    "-a /data/reddylab/Reference_Data/cCREs/hg38/ENCFF971AHO_ENCFF847JMY_ENCFF779QTH_ENCFF405AYC.7group.bed \\\n",
    "-b /data/reddylab/kstrouse/superstarr/output_libs/A001_K562/CRADLE/CRADLEcorr_kmer36/peaks/fdr0.05/CRADLE_peaks.bed \\\n",
    "-f 1 \\\n",
    "-r \\\n",
    "> /data/reddylab/Revathy/collabs/Jamborees/fcc_capstone/data/enhancer_call_cCRE_annotation/wgSTARR_CRADLE_peaks_cCRE_full_overlap.bed"
   ]
  },
  {
   "cell_type": "code",
   "execution_count": 40,
   "metadata": {},
   "outputs": [],
   "source": [
    "%%bash\n",
    "module load bedtools2\n",
    "bedtools intersect \\\n",
    "-a /data/reddylab/Reference_Data/cCREs/hg38/ENCFF971AHO_ENCFF847JMY_ENCFF779QTH_ENCFF405AYC.7group.bed \\\n",
    "-b /data/reddylab/Alex/encode4_duke/ipynbs/jamborees/20220706_fcc_capstone/data/tewhey_mpra_orientation_dep_call_all.merged.bed \\\n",
    "-f 1 \\\n",
    "-r \\\n",
    "> /data/reddylab/Revathy/collabs/Jamborees/fcc_capstone/data/enhancer_call_cCRE_annotation/tilingMPRA_cCRE_full_overlap.bed"
   ]
  },
  {
   "cell_type": "code",
   "execution_count": 22,
   "metadata": {},
   "outputs": [
    {
     "data": {
      "text/plain": [
       "type\n",
       "CTCF-only,CTCF-bound          28\n",
       "DNase-H3K4me3                 28\n",
       "DNase-H3K4me3,CTCF-bound       9\n",
       "DNase-only                   128\n",
       "Low-DNase                    685\n",
       "PLS                          998\n",
       "PLS,CTCF-bound               182\n",
       "dELS                        1851\n",
       "dELS,CTCF-bound              157\n",
       "pELS                        1120\n",
       "pELS,CTCF-bound              143\n",
       "Name: type, dtype: int64"
      ]
     },
     "execution_count": 22,
     "metadata": {},
     "output_type": "execute_result"
    }
   ],
   "source": [
    "import pandas as pd\n",
    "import matplotlib.pyplot as plt\n",
    "import seaborn as sns\n",
    "\n",
    "ASTARR = pd.read_csv('/data/reddylab/Revathy/collabs/Jamborees/fcc_capstone/data/enhancer_call_cCRE_annotation/ASTARR_enhancer_call_cCRE_full_overlap.bed', sep='\\t',\n",
    "                           names=['chr','start','end','name','score','strand','1','2','3','type','category'])\n",
    "\n",
    "full_overlap.groupby('type')['type'].count()\n",
    "\n",
    "\n",
    "\n",
    "\n"
   ]
  },
  {
   "cell_type": "code",
   "execution_count": null,
   "metadata": {},
   "outputs": [],
   "source": [
    "from deeptools import heatmapper  # You need to have deeptools3 installed\n",
    "import numpy as np\n",
    "import gzip\n",
    "from matplotlib import pyplot as plt\n",
    "from matplotlib import patches as mpatches\n",
    "import seaborn as sns \n",
    "from palettable.cartocolors.qualitative import Bold_10, Vivid_10_r, Antique_10_r\n",
    "from matplotlib import markers\n",
    "%matplotlib inline\n",
    "\n",
    "hm = heatmapper.heatmapper() # create heatmapper object\n",
    "hm.read_matrix_file('/data/reddylab/Revathy/collabs/Jamborees/fcc_capstone/data/enhancer_call_comparison/10032022/ASTARR_LentiMPRA_wgSTARR.GC_content.random5000.V7.refpoint.mat.gz')\n",
    "hm.__dict__['parameters']['group_boundaries']"
   ]
  },
  {
   "cell_type": "code",
   "execution_count": null,
   "metadata": {},
   "outputs": [],
   "source": [
    "for ii in range(len(hm.__dict__['parameters']['sample_labels'])):\n",
    "    max_val=np.max(hm.matrix.matrix[:5000, ((ii)*400)+150:((ii+1)*400)-150], axis=0)\n",
    "    pseudo_count=np.percentile(max_val,10)\n",
    "    print(np.delete((np.arange(0,101)-50), 50)*10,\n",
    "               np.log2((np.nanmean(hm.matrix.matrix[:5000, ((ii)*400)+150:((ii+1)*400)-150]+pseudo_count, axis=0))/\n",
    "                       (np.nanmean(hm.matrix.matrix[5000:9995, ((ii)*400)+150:((ii+1)*400)-150]+pseudo_count, axis=0)))"
   ]
  }
 ],
 "metadata": {
  "kernelspec": {
   "display_name": "Python3 (revathy)",
   "language": "python",
   "name": "revathy_py3"
  },
  "language_info": {
   "codemirror_mode": {
    "name": "ipython",
    "version": 3
   },
   "file_extension": ".py",
   "mimetype": "text/x-python",
   "name": "python",
   "nbconvert_exporter": "python",
   "pygments_lexer": "ipython3",
   "version": "3.5.4"
  }
 },
 "nbformat": 4,
 "nbformat_minor": 4
}
