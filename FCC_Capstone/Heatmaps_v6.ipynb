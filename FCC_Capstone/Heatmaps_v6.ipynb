{
 "cells": [
  {
   "cell_type": "markdown",
   "metadata": {},
   "source": [
    "# Contents:\n",
    "\n",
    "1. Comparison of REST encode .bw files\n",
    "2. Heatmap for Tiling MPRA\n",
    "3. Heatmap for repressed hits "
   ]
  },
  {
   "cell_type": "markdown",
   "metadata": {},
   "source": [
    "### Comparison of REST ENCODE .bw files\n",
    "\n",
    "Files to compare: https://www.encodeproject.org/search/?type=Experiment&control_type!=*&status=released&p[…]=false&target.label=REST&biosample_ontology.term_name=K562"
   ]
  },
  {
   "cell_type": "markdown",
   "metadata": {},
   "source": [
    "Richard Myers: `/data/reddylab/Revathy/collabs/Jamborees/fcc_capstone/data/encode_data/K562.ENCFF538LAN.REST.bw`\n",
    "\n",
    "Michael Snyder: `/data/reddylab/Revathy/collabs/Jamborees/fcc_capstone/data/encode_data/K562.ENCFF579ARY.REST.bw`\n",
    "`/data/reddylab/Revathy/collabs/Jamborees/fcc_capstone/data/encode_data/K562.ENCFF407OAJ.REST.bw`\n",
    "\n",
    "Bradley Bernstein: `/data/reddylab/Revathy/collabs/Jamborees/fcc_capstone/data/encode_data/K562.ENCFF806ERE.REST.bw`"
   ]
  },
  {
   "cell_type": "code",
   "execution_count": null,
   "metadata": {},
   "outputs": [],
   "source": [
    "%%bash\n",
    "cd /data/reddylab/Revathy/collabs/Jamborees/fcc_capstone/data/encode_data/\n",
    "curl -SLo K562.ENCFF806ERE.REST.bw \\\n",
    " https://www.encodeproject.org/files/ENCFF806ERE/@@download/ENCFF806ERE.bigWig\n",
    "curl -SLo K562.ENCFF407OAJ.REST.bw \\\n",
    " https://www.encodeproject.org/files/ENCFF407OAJ/@@download/ENCFF407OAJ.bigWig\n",
    "curl -SLo K562.ENCFF579ARY.REST.bw \\\n",
    " https://www.encodeproject.org/files/ENCFF579ARY/@@download/ENCFF579ARY.bigWig"
   ]
  },
  {
   "cell_type": "code",
   "execution_count": null,
   "metadata": {},
   "outputs": [],
   "source": [
    "!ls /data/reddylab/Revathy/collabs/Jamborees/fcc_capstone/data/encode_data/K562*.REST.bw"
   ]
  },
  {
   "cell_type": "code",
   "execution_count": null,
   "metadata": {},
   "outputs": [],
   "source": [
    "%%bash\n",
    "source /data/reddylab/software/miniconda3/bin/activate alex_py3\n",
    "sbatch \\\n",
    "    --exclude=dl-01 \\\n",
    "    --mem=128G \\\n",
    "    --cpus-per-task=16 \\\n",
    "    -o /data/reddylab/Revathy/collabs/Jamborees/fcc_capstone/logs/logscomputeMatrix.ASTARR_LentiMPRA_wgSTARR.REST_comparison.log \\\n",
    "    <<'EOF'\n",
    "#!/bin/bash \n",
    "computeMatrix reference-point \\\n",
    "    --referencePoint center \\\n",
    "    --numberOfProcessors 16 \\\n",
    "    --binSize 10 \\\n",
    "    -S \\\n",
    "    /data/reddylab/Revathy/collabs/Jamborees/fcc_capstone/data/encode_data/K562.ENCFF538LAN.REST.bw \\\n",
    "    /data/reddylab/Revathy/collabs/Jamborees/fcc_capstone/data/encode_data/K562.ENCFF407OAJ.REST.bw \\\n",
    "    /data/reddylab/Revathy/collabs/Jamborees/fcc_capstone/data/encode_data/K562.ENCFF579ARY.REST.bw \\\n",
    "    /data/reddylab/Revathy/collabs/Jamborees/fcc_capstone/data/encode_data/K562.ENCFF806ERE.REST.bw \\\n",
    "    --samplesLabel \\\n",
    "    ENCFF538LAN_REST \\\n",
    "    ENCFF407OAJ_REST \\\n",
    "    ENCFF579ARY_REST \\\n",
    "    ENCFF806ERE_REST \\\n",
    "    -R \\\n",
    "    /data/reddylab/Revathy/collabs/Jamborees/fcc_capstone/data/Junke_enhancer_calls_5Oct/z_score_processed/ASTARR/merged_peak/ASTARR_merged_enhancer_peaks_in_each_orientation.summits.random5000.bed \\\n",
    "    /data/reddylab/Revathy/collabs/Jamborees/fcc_capstone/data/Junke_enhancer_calls_5Oct/z_score_processed/ASTARR/bin_level/ASTARR_bin_level_all_result.inactive.merged.random5000.bed \\\n",
    "    /data/reddylab/Revathy/collabs/Jamborees/fcc_capstone/data/Junke_enhancer_calls_5Oct/z_score_processed/lentiMPRA/merged_peak/lentiMPRA_merged_enhancer_peaks_in_either_orientation.summits.random5000.bed \\\n",
    "    /data/reddylab/Revathy/collabs/Jamborees/fcc_capstone/data/Junke_enhancer_calls_5Oct/z_score_processed/lentiMPRA/element_level/lentiMPRA_element_level_all_result.inactive.merged.random5000.bed \\\n",
    "    /data/reddylab/Revathy/collabs/Jamborees/fcc_capstone/data/Junke_enhancer_calls_5Oct/z_score_processed/wgSTARR/merged_peak/wgSTARR_merged_enhancer_peaks_in_each_orientation.summits.random5000.bed \\\n",
    "    /data/reddylab/Revathy/collabs/Jamborees/fcc_capstone/data/Junke_enhancer_calls_5Oct/z_score_processed/wgSTARR/bin_level/wgSTARR_bin_level_all_result.inactive.merged.random5000.bed \\\n",
    "    --beforeRegionStartLength 2000 \\\n",
    "    --afterRegionStartLength 2000 \\\n",
    "    --skipZeros \\\n",
    "    -o /data/reddylab/Revathy/collabs/Jamborees/fcc_capstone/data/enhancer_call_comparison/10032022/ASTARR_LentiMPRA_wgSTARR.REST_comparison.mat.gz \\\n",
    "&& computeMatrixOperations dataRange \\\n",
    "    -m /data/reddylab/Revathy/collabs/Jamborees/fcc_capstone/data/enhancer_call_comparison/10032022/ASTARR_LentiMPRA_wgSTARR.REST_comparison.mat.gz\n",
    "\n",
    "EOF"
   ]
  },
  {
   "cell_type": "code",
   "execution_count": null,
   "metadata": {},
   "outputs": [],
   "source": []
  },
  {
   "cell_type": "code",
   "execution_count": null,
   "metadata": {},
   "outputs": [],
   "source": [
    "%%bash\n",
    "source /data/reddylab/software/miniconda2/bin/activate cwl10\n",
    "sbatch \\\n",
    "    --exclude=dl-01 \\\n",
    "    --mem=16G \\\n",
    "    -o /data/reddylab/Revathy/collabs/Jamborees/fcc_capstone/logs/plotHeatmap.ASTARR_LentiMPRA_wgSTARR.REST_comparison.out \\\n",
    "    --cpus-per-task=1 \\\n",
    "    <<'EOF'\n",
    "#!/bin/bash\n",
    "plotHeatmap \\\n",
    "    --colorMap inferno \\\n",
    "    --yMax 15 50 15 15 \\\n",
    "    --yMin 0 0 0 0\\\n",
    "    --regionsLabel \\\n",
    "        ASTARR_active \\\n",
    "        ASTARR_inactive \\\n",
    "        LentiMPRA_active \\\n",
    "        LentiMPRA_inactive \\\n",
    "        wgSTARR_active \\\n",
    "        wgSTARR_inactive \\\n",
    "    --zMax 1.73995 1.588143 3.977664 1.055823 \\\n",
    "    --zMin 0 0 0 0 \\\n",
    "    --heatmapHeight 24 \\\n",
    "    -m /data/reddylab/Revathy/collabs/Jamborees/fcc_capstone/data/enhancer_call_comparison/10032022/ASTARR_LentiMPRA_wgSTARR.REST_comparison.mat.gz \\\n",
    "    -out /data/reddylab/Revathy/collabs/Jamborees/fcc_capstone/data/enhancer_call_comparison/10032022/ASTARR_LentiMPRA_wgSTARR.REST_comparison.png \n",
    "EOF"
   ]
  },
  {
   "cell_type": "code",
   "execution_count": null,
   "metadata": {
    "scrolled": false
   },
   "outputs": [],
   "source": [
    "from IPython.display import Image\n",
    "Image(\"/data/reddylab/Revathy/collabs/Jamborees/fcc_capstone/data/enhancer_call_comparison/10032022/ASTARR_LentiMPRA_wgSTARR.REST_comparison.png\")\n"
   ]
  },
  {
   "cell_type": "code",
   "execution_count": null,
   "metadata": {},
   "outputs": [],
   "source": [
    "from deeptools import heatmapper  # You need to have deeptools3 installed\n",
    "import numpy as np\n",
    "import gzip\n",
    "from matplotlib import pyplot as plt\n",
    "from matplotlib import patches as mpatches\n",
    "import seaborn as sns\n",
    "from palettable.cartocolors.qualitative import Bold_10, Vivid_10_r, Antique_10_r\n",
    "from matplotlib import markers\n",
    "%matplotlib inline"
   ]
  },
  {
   "cell_type": "code",
   "execution_count": null,
   "metadata": {},
   "outputs": [],
   "source": [
    "hm = heatmapper.heatmapper() # create heatmapper object\n",
    "hm.read_matrix_file('/data/reddylab/Revathy/collabs/Jamborees/fcc_capstone/data/enhancer_call_comparison/10032022/ASTARR_LentiMPRA_wgSTARR.REST_comparison.mat.gz')\n",
    "hm.__dict__['parameters']['group_boundaries']"
   ]
  },
  {
   "cell_type": "code",
   "execution_count": null,
   "metadata": {},
   "outputs": [],
   "source": [
    "sns.set_context('talk', font_scale=1.01)\n",
    "fig, ax = plt.subplots(figsize=[14,10])\n",
    "for ii in range(len(hm.__dict__['parameters']['sample_labels'])):\n",
    "    if hm.__dict__['parameters']['sample_labels'][ii] == 'ASTARR_log2': continue\n",
    "    max_val=np.max(hm.matrix.matrix[:5000, ((ii)*400)+150:((ii+1)*400)-150], axis=0)\n",
    "    pseudo_count=np.percentile(max_val,10)\n",
    "    plt.plot(np.delete((np.arange(0,101)-50), 50)*10,\n",
    "               np.log2((np.nanmean(hm.matrix.matrix[:5000, ((ii)*400)+150:((ii+1)*400)-150]+pseudo_count, axis=0))/\n",
    "                       (np.nanmean(hm.matrix.matrix[5000:9995, ((ii)*400)+150:((ii+1)*400)-150]+pseudo_count, axis=0))), \n",
    "               color=(Bold_10.hex_colors + Vivid_10_r.hex_colors + Antique_10_r.hex_colors)[ii],\n",
    "             marker=list(markers.MarkerStyle().markers.keys())[ii],\n",
    "             markersize=6,\n",
    "             label=hm.__dict__['parameters']['sample_labels'][ii])\n",
    "    plt.axvline(0, color='black', ls='--', lw=.5)\n",
    "    plt.axhline(0, color='black', ls='--', lw=.5)\n",
    "lgnd = plt.legend(bbox_to_anchor=(1.02, 1), frameon=False, markerscale=2)\n",
    "# for handle in lgnd.legendHandles:\n",
    "#     handle.set_sizes([22.0])\n",
    "plt.title(\"ASTARR - active v inactive log2 ratios - REST\")\n",
    "plt.ylim([-0.05,0.05])\n",
    "sns.despine()\n",
    "plt.tight_layout()\n",
    "# fig.savefig('data/enhancer_call_comparison/profile_plots/astarr.active_v_inactive.zoomed.V3.png')"
   ]
  },
  {
   "cell_type": "code",
   "execution_count": null,
   "metadata": {},
   "outputs": [],
   "source": [
    "sns.set_context('talk', font_scale=1.05)\n",
    "fig, ax = plt.subplots(figsize=[14,10])\n",
    "for ii in range(len(hm.__dict__['parameters']['sample_labels'])):\n",
    "    max_val=np.max(hm.matrix.matrix[9995:14995, (ii)*400:(ii+1)*400], axis=0)\n",
    "    pseudo_count=np.percentile(max_val,10)\n",
    "    plt.plot(np.delete((np.arange(0,101)-50), 50)*10,\n",
    "               np.log2((np.nanmean(hm.matrix.matrix[9995:14995, ((ii)*400)+150:((ii+1)*400)-150]+pseudo_count, axis=0))/\n",
    "                       (np.nanmean(hm.matrix.matrix[14995:19993, ((ii)*400)+150:((ii+1)*400)-150]+pseudo_count, axis=0))), \n",
    "               color=(Bold_10.hex_colors + Vivid_10_r.hex_colors + Antique_10_r.hex_colors)[ii],\n",
    "             marker=list(markers.MarkerStyle().markers.keys())[ii],\n",
    "             markersize=6,\n",
    "             label=hm.__dict__['parameters']['sample_labels'][ii])\n",
    "    plt.axvline(0, color='black', ls='--', lw=.5)\n",
    "    plt.axhline(0, color='black', ls='--', lw=.5)\n",
    "lgnd = plt.legend(bbox_to_anchor=(1.02, 1), frameon=False, markerscale=2)\n",
    "# for handle in lgnd.legendHandles:\n",
    "#     handle.set_sizes([22.0])\n",
    "plt.title(\"LentiMPRA - active v inactive log2 ratios\")\n",
    "plt.ylim([-0.20,0.05])\n",
    "sns.despine()\n",
    "plt.tight_layout()\n",
    "# fig.savefig('data/enhancer_call_comparison/profile_plots/lentiMPRA.active_v_inactive.zoomed.V3.png')"
   ]
  },
  {
   "cell_type": "code",
   "execution_count": null,
   "metadata": {},
   "outputs": [],
   "source": [
    "sns.set_context('talk', font_scale=1.01)\n",
    "fig, ax = plt.subplots(figsize=[14,10])\n",
    "for ii in range(len(hm.__dict__['parameters']['sample_labels'])):\n",
    "    if hm.__dict__['parameters']['sample_labels'][ii] == 'WG_STARR_log2': continue\n",
    "    max_val=np.max(hm.matrix.matrix[19993:24993, ((ii)*400)+150:((ii+1)*400)-150], axis=0)\n",
    "    pseudo_count=np.percentile(max_val,10)\n",
    "    plt.plot(np.delete((np.arange(0,101)-50), 50)*10,\n",
    "               np.log2((np.nanmean(hm.matrix.matrix[19993:24993, ((ii)*400)+150:((ii+1)*400)-150]+pseudo_count, axis=0))/\n",
    "                       (np.nanmean(hm.matrix.matrix[24993:, ((ii)*400)+150:((ii+1)*400)-150]+pseudo_count, axis=0))), \n",
    "               color=(Bold_10.hex_colors + Vivid_10_r.hex_colors + Antique_10_r.hex_colors)[ii],\n",
    "             marker=list(markers.MarkerStyle().markers.keys())[ii],\n",
    "             markersize=6,\n",
    "             label=hm.__dict__['parameters']['sample_labels'][ii])\n",
    "    plt.axvline(0, color='black', ls='--', lw=.5)\n",
    "    plt.axhline(0, color='black', ls='--', lw=.5)\n",
    "lgnd = plt.legend(bbox_to_anchor=(1.02, 1), frameon=False, markerscale=2)\n",
    "# for handle in lgnd.legendHandles:\n",
    "#     handle.set_sizes([22.0])\n",
    "plt.title(\"wgSTARR - active v inactive log2 ratios\")\n",
    "plt.ylim([0,0.025])\n",
    "sns.despine()\n",
    "plt.tight_layout()\n",
    "# fig.savefig('data/enhancer_call_comparison/profile_plots/wgstarr.active_v_inactive.log2.zoomed.V3.png')"
   ]
  },
  {
   "cell_type": "markdown",
   "metadata": {},
   "source": [
    "### Heatmap for Tiling MPRA\n",
    "\n",
    "Download the new tiling MPRA data(for K562) from the spreadsheet: https://docs.google.com/spreadsheets/d/1vMp5AT_dyX5YlpZZs1WezjGq9JbIGz0W0sWVzOmZFQI/edit#gid=0\n",
    "\n",
    "(I just realized you are likely only using OL13, OL43 and OL45 which is good (they all are high-quality). My comment stands that incorporating the additional UKBB/BBJ/GTEx variant libraries (OL27-33 & OL41-42) would provide you with thousands of additional DHS/CREs sequences)"
   ]
  },
  {
   "cell_type": "code",
   "execution_count": null,
   "metadata": {},
   "outputs": [],
   "source": []
  },
  {
   "cell_type": "code",
   "execution_count": null,
   "metadata": {
    "scrolled": true
   },
   "outputs": [],
   "source": [
    "%%bash\n",
    "mkdir -p /data/reddylab/Revathy/collabs/Jamborees/fcc_capstone/data/encode_data/tilingMPRA\n",
    "cd /data/reddylab/Revathy/collabs/Jamborees/fcc_capstone/data/encode_data/tilingMPRA\n",
    "curl -SLo K562.ENCFF879JQC.OL43-gata_myc_ctrl.bed.gz \\\n",
    "    https://www.encodeproject.org/files/ENCFF879JQC/@@download/ENCFF879JQC.bed.gz\n",
    "curl -SLo K562.ENCFF558RYR.OL45-common_ctrl.bed.gz \\\n",
    "    https://www.encodeproject.org/files/ENCFF558RYR/@@download/ENCFF558RYR.bed.gz\n",
    "curl -SLo K562.ENCFF677CJZ.OL28-ukbb.bed.gz \\\n",
    "    https://www.encodeproject.org/files/ENCFF677CJZ/@@download/ENCFF677CJZ.bed.gz\n",
    "curl -SLo K562.ENCFF134DFX.OL29-ukbb.bed.gz \\\n",
    "    https://www.encodeproject.org/files/ENCFF134DFX/@@download/ENCFF134DFX.bed.gz\n",
    "curl -SLo K562.ENCFF919EWF.OL33-ukbb.bed.gz \\\n",
    "    https://www.encodeproject.org/files/ENCFF919EWF/@@download/ENCFF919EWF.bed.gz\n",
    "curl -SLo K562.ENCFF460YVY.OL27-ukbb.bed.gz \\\n",
    "    https://www.encodeproject.org/files/ENCFF460YVY/@@download/ENCFF460YVY.bed.gz\n",
    "curl -SLo K562.ENCFF413ENG.OL41_42-gtex.bed.gz \\\n",
    "    https://www.encodeproject.org/files/ENCFF413ENG/@@download/ENCFF413ENG.bed.gz\n",
    "curl -SLo K562.ENCFF988NUO.OL32-ukbb.bed.gz \\\n",
    "    https://www.encodeproject.org/files/ENCFF988NUO/@@download/ENCFF988NUO.bed.gz\n",
    "curl -SLo K562.ENCFF830FKJ.OL30-ukbb.bed.gz \\\n",
    "    https://www.encodeproject.org/files/ENCFF830FKJ/@@download/ENCFF830FKJ.bed.gz\n",
    "curl -SLo K562.ENCFF246FNH.OL31-ukbb.bed.gz \\\n",
    "    https://www.encodeproject.org/files/ENCFF246FNH/@@download/ENCFF246FNH.bed.gz\n",
    "curl -SLo K562.ENCFF436CRS.OL13-fads.bed.gz \\\n",
    "    https://www.encodeproject.org/files/ENCFF436CRS/@@download/ENCFF436CRS.bed.gz\n"
   ]
  },
  {
   "cell_type": "code",
   "execution_count": null,
   "metadata": {},
   "outputs": [],
   "source": [
    "%%bash\n",
    "cd ./data/encode_data/tilingMPRA\n",
    "gzip -d *"
   ]
  },
  {
   "cell_type": "code",
   "execution_count": null,
   "metadata": {},
   "outputs": [],
   "source": [
    "%%bash\n",
    "cd /data/reddylab/Revathy/collabs/Jamborees/fcc_capstone/data/encode_data/tilingMPRA\n",
    "wc -l *"
   ]
  },
  {
   "cell_type": "code",
   "execution_count": null,
   "metadata": {},
   "outputs": [],
   "source": [
    "%%bash\n",
    "cd /data/reddylab/Revathy/collabs/Jamborees/fcc_capstone/data/encode_data/tilingMPRA\n",
    "cat K562.*-ukbb.bed K562.ENCFF413ENG.OL41_42-gtex.bed > K562.tMPRA_OL27_33_41_42-ukbb_gtex.bed"
   ]
  },
  {
   "cell_type": "code",
   "execution_count": null,
   "metadata": {},
   "outputs": [],
   "source": [
    "!wc -l /data/reddylab/Revathy/collabs/Jamborees/fcc_capstone/data/encode_data/tilingMPRA/K562.tMPRA_OL27_33_41_42-ukbb_gtex.bed"
   ]
  },
  {
   "cell_type": "code",
   "execution_count": null,
   "metadata": {},
   "outputs": [],
   "source": [
    "%%bash\n",
    "cd /data/reddylab/Revathy/collabs/Jamborees/fcc_capstone/data/encode_data/tilingMPRA\n",
    "cat K562.tMPRA_OL27_33_41_42-ukbb_gtex.bed | awk '$7 > 0' > K562.tMPRA_OL27_33_41_42-ukbb_gtex.positive_hits.bed"
   ]
  },
  {
   "cell_type": "code",
   "execution_count": null,
   "metadata": {},
   "outputs": [],
   "source": []
  },
  {
   "cell_type": "markdown",
   "metadata": {},
   "source": [
    "### Heatmap for repressed hits"
   ]
  },
  {
   "cell_type": "markdown",
   "metadata": {},
   "source": [
    "Files for repressed peaks:\n",
    "\n",
    "* ASTARR: `/data/reddylab/Revathy/collabs/Jamborees/fcc_capstone/data/Junke_enhancer_calls_5Oct/z_score_processed/ASTARR/merged_peak/merged_repressor_peaks_in_each_orientation.bed`\n",
    "* lentiMPRA: `/data/reddylab/Revathy/collabs/Jamborees/fcc_capstone/data/Junke_enhancer_calls_5Oct/z_score_processed/lentiMPRA/merged_peak/merged_repressor_peaks_in_either_orientation.bed`\n",
    "* wgSTARR: `/data/reddylab/Revathy/collabs/Jamborees/fcc_capstone/data/Junke_enhancer_calls_5Oct/z_score_processed/wgSTARR/merged_peak/merged_repressor_peaks_in_each_orientation.bed`"
   ]
  },
  {
   "cell_type": "code",
   "execution_count": null,
   "metadata": {},
   "outputs": [],
   "source": [
    "!ls /data/reddylab/Revathy/collabs/Jamborees/fcc_capstone/data/Junke_enhancer_calls_5Oct/z_score_processed/wgSTARR/merged_peak/merged_repressor_peaks_in_each_orientation.bed"
   ]
  },
  {
   "cell_type": "code",
   "execution_count": null,
   "metadata": {},
   "outputs": [],
   "source": [
    "%%bash\n",
    "wc -l /data/reddylab/Revathy/collabs/Jamborees/fcc_capstone/data/Junke_enhancer_calls_5Oct/z_score_processed/ASTARR/merged_peak/merged_repressor_peaks_in_each_orientation.bed \\\n",
    "/data/reddylab/Revathy/collabs/Jamborees/fcc_capstone/data/Junke_enhancer_calls_5Oct/z_score_processed/lentiMPRA/merged_peak/merged_repressor_peaks_in_either_orientation.bed \\\n",
    "/data/reddylab/Revathy/collabs/Jamborees/fcc_capstone/data/Junke_enhancer_calls_5Oct/z_score_processed/wgSTARR/merged_peak/merged_repressor_peaks_in_each_orientation.bed"
   ]
  },
  {
   "cell_type": "code",
   "execution_count": null,
   "metadata": {},
   "outputs": [],
   "source": [
    "!head /data/reddylab/Revathy/collabs/Jamborees/fcc_capstone/data/Junke_enhancer_calls_5Oct/z_score_processed/wgSTARR/merged_peak/merged_repressor_peaks_in_each_orientation.bed"
   ]
  },
  {
   "cell_type": "markdown",
   "metadata": {},
   "source": [
    "Random 5000 repressed hits for the 3 assays"
   ]
  },
  {
   "cell_type": "code",
   "execution_count": null,
   "metadata": {},
   "outputs": [],
   "source": [
    "%%bash\n",
    "shuf -n 5000 /data/reddylab/Revathy/collabs/Jamborees/fcc_capstone/data/Junke_enhancer_calls_5Oct/z_score_processed/ASTARR/merged_peak/merged_repressor_peaks_in_each_orientation.bed \\\n",
    "> /data/reddylab/Revathy/collabs/Jamborees/fcc_capstone/data/Junke_enhancer_calls_5Oct/z_score_processed/ASTARR/merged_peak/merged_repressor_peaks_in_each_orientation.random5000.bed\n",
    "shuf -n 5000 /data/reddylab/Revathy/collabs/Jamborees/fcc_capstone/data/Junke_enhancer_calls_5Oct/z_score_processed/wgSTARR/merged_peak/merged_repressor_peaks_in_each_orientation.bed \\\n",
    "> /data/reddylab/Revathy/collabs/Jamborees/fcc_capstone/data/Junke_enhancer_calls_5Oct/z_score_processed/wgSTARR/merged_peak/merged_repressor_peaks_in_each_orientation.random5000.bed"
   ]
  },
  {
   "cell_type": "code",
   "execution_count": null,
   "metadata": {},
   "outputs": [],
   "source": [
    "%%bash\n",
    "mv /data/reddylab/Revathy/collabs/Jamborees/fcc_capstone/data/Junke_enhancer_calls_5Oct/z_score_processed/ASTARR/merged_peak/merged_repressor_peaks_in_each_orientation.random5000.bed \\\n",
    "/data/reddylab/Revathy/collabs/Jamborees/fcc_capstone/data/Junke_enhancer_calls_5Oct/z_score_processed/ASTARR/merged_peak/ASTARR_merged_repressor_peaks_in_each_orientation.random5000.bed\n",
    "mv /data/reddylab/Revathy/collabs/Jamborees/fcc_capstone/data/Junke_enhancer_calls_5Oct/z_score_processed/wgSTARR/merged_peak/merged_repressor_peaks_in_each_orientation.random5000.bed \\\n",
    "/data/reddylab/Revathy/collabs/Jamborees/fcc_capstone/data/Junke_enhancer_calls_5Oct/z_score_processed/wgSTARR/merged_peak/wgSTARR_merged_repressor_peaks_in_each_orientation.random5000.bed"
   ]
  },
  {
   "cell_type": "code",
   "execution_count": null,
   "metadata": {},
   "outputs": [],
   "source": [
    "%%bash\n",
    "source /data/reddylab/software/miniconda3/bin/activate alex_py3\n",
    "sbatch \\\n",
    "    --exclude=dl-01 \\\n",
    "    --mem=128G \\\n",
    "    --cpus-per-task=16 \\\n",
    "    -o /data/reddylab/Revathy/collabs/Jamborees/fcc_capstone/logs/logscomputeMatrix.ASTARR_LentiMPRA_wgSTARR.active_vs_inactive.repressed_hits.V1.log \\\n",
    "    <<'EOF'\n",
    "#!/bin/bash \n",
    "computeMatrix reference-point \\\n",
    "    --referencePoint center \\\n",
    "    --numberOfProcessors 16 \\\n",
    "    --binSize 10 \\\n",
    "    -S \\\n",
    "        /data/reddylab/Alex/encode4_duke/ipynbs/jamborees/20211206_MPRA_STARR_Jamboree/data/encode_data/K562.ENCFF914WIS.POLR2A.bw \\\n",
    "        /data/reddylab/Alex/encode4_duke/ipynbs/jamborees/20211206_MPRA_STARR_Jamboree/data/encode_data/K562.ENCFF756UVW.JUN.bw \\\n",
    "        /data/reddylab/Alex/encode4_duke/ipynbs/jamborees/20211206_MPRA_STARR_Jamboree/data/encode_data/K562.ENCFF336UPT.CTCF.bw \\\n",
    "        /data/reddylab/Revathy/collabs/Jamborees/fcc_capstone/data/encode_data/K562.ENCFF475BKW.SP1.bw \\\n",
    "        /data/reddylab/Alex/encode4_duke/ipynbs/jamborees/20211206_MPRA_STARR_Jamboree/data/encode_data/K562.ENCFF262TFX.ELK1.bw \\\n",
    "        /data/reddylab/Alex/encode4_duke/ipynbs/jamborees/20211206_MPRA_STARR_Jamboree/data/encode_data/K562.ENCFF590LGA.NRF1.bw \\\n",
    "        /data/reddylab/Revathy/collabs/Jamborees/fcc_capstone/data/encode_data/K562.ENCFF700NBW.TAL1.bw \\\n",
    "        /data/reddylab/Revathy/collabs/Jamborees/fcc_capstone/data/encode_data/K562.ENCFF331URE.GATA1.bw \\\n",
    "        /data/reddylab/Alex/encode4_duke/ipynbs/jamborees/20211206_MPRA_STARR_Jamboree/data/encode_data/K562.ENCFF398LBP.NFE2.bw \\\n",
    "        /data/reddylab/Alex/encode4_duke/ipynbs/jamborees/20211206_MPRA_STARR_Jamboree/data/encode_data/K562.ENCFF750TBY.KLF10.bw \\\n",
    "        /data/reddylab/Alex/encode4_duke/ipynbs/jamborees/20211206_MPRA_STARR_Jamboree/data/encode_data/K562.ENCFF183YBH.KLF16.bw \\\n",
    "        /data/reddylab/Revathy/collabs/Jamborees/fcc_capstone/data/encode_data/K562.ENCFF927TDC.YY1.bw \\\n",
    "        /data/reddylab/Alex/encode4_duke/ipynbs/jamborees/20211206_MPRA_STARR_Jamboree/data/encode_data/K562.ENCFF199FSE.ATF1.bw \\\n",
    "        /data/reddylab/Revathy/collabs/Jamborees/fcc_capstone/data/encode_data/K562.ENCFF325DSL.EP300.bw \\\n",
    "        /data/reddylab/Revathy/collabs/Jamborees/fcc_capstone/data/encode_data/K562.ENCFF538LAN.REST.bw \\\n",
    "        /data/reddylab/Revathy/collabs/Jamborees/fcc_capstone/data/encode_data/K562.ENCFF106ZRO.ZEB2.bw \\\n",
    "        /data/reddylab/Alex/encode4_duke/ipynbs/jamborees/20211206_MPRA_STARR_Jamboree/data/encode_data/K562.ENCFF469JMR.H3K27ac.bw \\\n",
    "        /data/reddylab/Alex/encode4_duke/ipynbs/jamborees/20211206_MPRA_STARR_Jamboree/data/encode_data/K562.ENCFF405ZDL.H3K4me3.bw \\\n",
    "        /data/reddylab/Alex/encode4_duke/ipynbs/jamborees/20211206_MPRA_STARR_Jamboree/data/encode_data/K562.ENCFF100FDI.H3K4me1.bw \\\n",
    "        /data/reddylab/Alex/encode4_duke/ipynbs/jamborees/20211206_MPRA_STARR_Jamboree/data/encode_data/K562.ENCFF357GNC.ATACseq.bw \\\n",
    "        /data/reddylab/Alex/encode4_duke/processing/starr_seq/210401_KS91_K562ASTARR_NovaSeq.hg38-pe-umis/KS91_K562_hg38_ASTARRseq_Output_rep4.log2.pseudo_10.bw \\\n",
    "        /data/reddylab/kstrouse/superstarr/output_libs/A001_K562/A001_K562_20210213/processing/starr_seq/Strouse_6825_210223A5-pe/A001-K562-rep2.f3q10.sorted.dedup.rpkm.bw \\\n",
    "        /data/reddylab/Alex/encode4_duke/ipynbs/jamborees/20220307_locusselect_nawg/data/WGSTARRseq.A001_K562.log2fc.rep2.log2.pseudo_10.bw \\\n",
    "        /data/reddylab/Revathy/collabs/Jamborees/fcc_capstone/data/bigWigs/CRISPRi_rAVG_log2FC_2.sloped400bp.bw \\\n",
    "    --samplesLabel \\\n",
    "        POLR2A \\\n",
    "        JUN \\\n",
    "        CTCF \\\n",
    "        SP1 \\\n",
    "        ELK1 \\\n",
    "        NRF1 \\\n",
    "        TAL1 \\\n",
    "        GATA1 \\\n",
    "        NFE2 \\\n",
    "        KLF10 \\\n",
    "        KLF16 \\\n",
    "        YY1 \\\n",
    "        ATF1 \\\n",
    "        EP300 \\\n",
    "        REST \\\n",
    "        ZEB2 \\\n",
    "        H3K27ac \\\n",
    "        H3K4me3 \\\n",
    "        H3K4me1 \\\n",
    "        ATACseq \\\n",
    "        ASTARR_log2 \\\n",
    "        WG_STARR \\\n",
    "        WG_STARR_log2 \\\n",
    "        CRISPRi_sloped400bp \\\n",
    "    -R \\\n",
    "    /data/reddylab/Revathy/collabs/Jamborees/fcc_capstone/data/Junke_enhancer_calls_5Oct/z_score_processed/ASTARR/merged_peak/ASTARR_merged_repressor_peaks_in_each_orientation.random5000.bed \\\n",
    "    /data/reddylab/Revathy/collabs/Jamborees/fcc_capstone/data/Junke_enhancer_calls_5Oct/z_score_processed/ASTARR/bin_level/ASTARR_bin_level_all_result.inactive.merged.random5000.bed \\\n",
    "    /data/reddylab/Revathy/collabs/Jamborees/fcc_capstone/data/Junke_enhancer_calls_5Oct/z_score_processed/lentiMPRA/merged_peak/merged_repressor_peaks_in_either_orientation.bed \\\n",
    "    /data/reddylab/Revathy/collabs/Jamborees/fcc_capstone/data/Junke_enhancer_calls_5Oct/z_score_processed/lentiMPRA/element_level/lentiMPRA_element_level_all_result.inactive.merged.random5000.bed \\\n",
    "    /data/reddylab/Revathy/collabs/Jamborees/fcc_capstone/data/Junke_enhancer_calls_5Oct/z_score_processed/wgSTARR/merged_peak/wgSTARR_merged_repressor_peaks_in_each_orientation.random5000.bed \\\n",
    "    /data/reddylab/Revathy/collabs/Jamborees/fcc_capstone/data/Junke_enhancer_calls_5Oct/z_score_processed/wgSTARR/bin_level/wgSTARR_bin_level_all_result.inactive.merged.random5000.bed \\\n",
    "    --beforeRegionStartLength 2000 \\\n",
    "    --afterRegionStartLength 2000 \\\n",
    "    --skipZeros \\\n",
    "    -o /data/reddylab/Revathy/collabs/Jamborees/fcc_capstone/data/enhancer_call_comparison/10032022/ASTARR_LentiMPRA_wgSTARR.repressed_hits.random5000.V1.refpoint.mat.gz \\\n",
    "&& computeMatrixOperations dataRange \\\n",
    "    -m /data/reddylab/Revathy/collabs/Jamborees/fcc_capstone/data/enhancer_call_comparison/10032022/ASTARR_LentiMPRA_wgSTARR.repressed_hits.random5000.V1.refpoint.mat.gz\n",
    "\n",
    "EOF"
   ]
  },
  {
   "cell_type": "code",
   "execution_count": null,
   "metadata": {},
   "outputs": [],
   "source": [
    "!cat /data/reddylab/Revathy/collabs/Jamborees/fcc_capstone/logs/logscomputeMatrix.ASTARR_LentiMPRA_wgSTARR.active_vs_inactive.repressed_hits.V1.log"
   ]
  },
  {
   "cell_type": "code",
   "execution_count": null,
   "metadata": {},
   "outputs": [],
   "source": [
    "%%bash\n",
    "source /data/reddylab/software/miniconda2/bin/activate cwl10\n",
    "sbatch \\\n",
    "    --exclude=dl-01 \\\n",
    "    --mem=16G \\\n",
    "    -o /data/reddylab/Revathy/collabs/Jamborees/fcc_capstone/logs/plotHeatmap.ASTARR_LentiMPRA_wgSTARR.active_vs_inactive.repressed_hits.V1.out \\\n",
    "    --cpus-per-task=1 \\\n",
    "    <<'EOF'\n",
    "#!/bin/bash\n",
    "plotHeatmap \\\n",
    "    --colorMap inferno \\\n",
    "    --yMax 108.751 7.83018 5.87675 5.25337 4.7613 10.7325 5.05209 4.39715 5.7858 3.9031 2.88221 16.7918 49.5526 11.9155 10 10 30 85 10 775 .1 700 0.01 0.5 \\\n",
    "    --yMin  0  0 0  0  0  0  0  0  0  0  0  0  0  0  0 0 0  0  0   0 -.001 0 -0.01 -0.5 \\\n",
    "    --regionsLabel \\\n",
    "        ASTARR_active \\\n",
    "        ASTARR_inactive \\\n",
    "        LentiMPRA_active \\\n",
    "        LentiMPRA_inactive \\\n",
    "        wgSTARR_active \\\n",
    "        wgSTARR_inactive \\\n",
    "    --zMax 12.580044899999978 1.960192 1.47404 1.439317 1.479497 1.338202 1.158781099999996 1.191005 1.164774 1.058194 0.7604 3.24384 6.776238899999993 2.21747 1.833909 2.7412856999999975 2.7412856999999975 28.319819499999923 6.7212964999999985 46.924555 0.003024 1000 0.001992 0.005 \\\n",
    "    --zMin 0 0 0 0 0 0 0 0 0 0 0 0 0 0 0 0 0 0 0 0 -0.001 20 -0.002 -0.01 \\\n",
    "    --heatmapHeight 30 \\\n",
    "    -m /data/reddylab/Revathy/collabs/Jamborees/fcc_capstone/data/enhancer_call_comparison/10032022/ASTARR_LentiMPRA_wgSTARR.repressed_hits.random5000.V1.refpoint.mat.gz \\\n",
    "    -out /data/reddylab/Revathy/collabs/Jamborees/fcc_capstone/data/enhancer_call_comparison/10032022/ASTARR_LentiMPRA_wgSTARR.repressed_hits.random5000.V1.png \n",
    "EOF"
   ]
  },
  {
   "cell_type": "code",
   "execution_count": null,
   "metadata": {},
   "outputs": [],
   "source": [
    "from IPython.display import Image\n",
    "Image(\"/data/reddylab/Revathy/collabs/Jamborees/fcc_capstone/data/enhancer_call_comparison/10032022/ASTARR_LentiMPRA_wgSTARR.repressed_hits.random5000.V1.png\")\n"
   ]
  },
  {
   "cell_type": "code",
   "execution_count": null,
   "metadata": {},
   "outputs": [],
   "source": []
  },
  {
   "cell_type": "markdown",
   "metadata": {},
   "source": [
    "### Heatmaps for repressed hits with GC content matching\n",
    "\n",
    "GC content matching for repressed peaks"
   ]
  },
  {
   "cell_type": "code",
   "execution_count": null,
   "metadata": {},
   "outputs": [],
   "source": [
    "!head /data/reddylab/Revathy/collabs/Jamborees/fcc_capstone/data/Junke_enhancer_calls_5Oct/z_score_processed/lentiMPRA/merged_peak/merged_repressor_peaks_in_either_orientation.bed"
   ]
  },
  {
   "cell_type": "markdown",
   "metadata": {},
   "source": [
    "#### extract summits of repressed peaks"
   ]
  },
  {
   "cell_type": "code",
   "execution_count": null,
   "metadata": {},
   "outputs": [],
   "source": [
    "%%bash\n",
    "cat /data/reddylab/Revathy/collabs/Jamborees/fcc_capstone/data/Junke_enhancer_calls_5Oct/z_score_processed/ASTARR/merged_peak/ASTARR_merged_repressor_peaks_in_each_orientation.random5000.bed \\\n",
    "| cut -f9,10,11 \\\n",
    "> /data/reddylab/Revathy/collabs/Jamborees/fcc_capstone/data/Junke_enhancer_calls_5Oct/z_score_processed/ASTARR/merged_peak/ASTARR_merged_repressor_peaks_in_each_orientation.summits.random5000.bed\n",
    "cat /data/reddylab/Revathy/collabs/Jamborees/fcc_capstone/data/Junke_enhancer_calls_5Oct/z_score_processed/lentiMPRA/merged_peak/merged_repressor_peaks_in_either_orientation.bed \\\n",
    "| cut -f9,10,11 \\\n",
    "> /data/reddylab/Revathy/collabs/Jamborees/fcc_capstone/data/Junke_enhancer_calls_5Oct/z_score_processed/lentiMPRA/merged_peak/lentiMPRA_merged_repressor_peaks_in_either_orientation.summits.bed\n",
    "cat /data/reddylab/Revathy/collabs/Jamborees/fcc_capstone/data/Junke_enhancer_calls_5Oct/z_score_processed/wgSTARR/merged_peak/wgSTARR_merged_repressor_peaks_in_each_orientation.random5000.bed \\\n",
    "| cut -f9,10,11 \\\n",
    "> /data/reddylab/Revathy/collabs/Jamborees/fcc_capstone/data/Junke_enhancer_calls_5Oct/z_score_processed/wgSTARR/merged_peak/wgSTARR_merged_repressor_peaks_in_each_orientation.summits.random5000.bed"
   ]
  },
  {
   "cell_type": "code",
   "execution_count": null,
   "metadata": {},
   "outputs": [],
   "source": [
    "%%bash\n",
    "bedtools nuc -fi /data/reddylab/Reference_Data/Genomes/hg38/hg38.fa \\\n",
    "-bed /data/reddylab/Revathy/collabs/Jamborees/fcc_capstone/data/Junke_enhancer_calls_5Oct/z_score_processed/ASTARR/merged_peak/ASTARR_merged_repressor_peaks_in_each_orientation.summits.random5000.bed \\\n",
    "> /data/reddylab/Revathy/collabs/Jamborees/fcc_capstone/data/Junke_enhancer_calls_5Oct/z_score_processed/ASTARR/merged_peak/ASTARR_merged_repressor_peaks_in_each_orientation.summits.random5000.GC_content.txt \n",
    "bedtools nuc -fi /data/reddylab/Reference_Data/Genomes/hg38/hg38.fa \\\n",
    "-bed /data/reddylab/Revathy/collabs/Jamborees/fcc_capstone/data/Junke_enhancer_calls_5Oct/z_score_processed/lentiMPRA/merged_peak/lentiMPRA_merged_repressor_peaks_in_either_orientation.summits.bed \\\n",
    "> /data/reddylab/Revathy/collabs/Jamborees/fcc_capstone/data/Junke_enhancer_calls_5Oct/z_score_processed/lentiMPRA/merged_peak/lentiMPRA_merged_repressor_peaks_in_either_orientation.summits.GC_content.txt\n",
    "bedtools nuc -fi /data/reddylab/Reference_Data/Genomes/hg38/hg38.fa \\\n",
    "-bed /data/reddylab/Revathy/collabs/Jamborees/fcc_capstone/data/Junke_enhancer_calls_5Oct/z_score_processed/wgSTARR/merged_peak/wgSTARR_merged_repressor_peaks_in_each_orientation.summits.random5000.bed \\\n",
    "> /data/reddylab/Revathy/collabs/Jamborees/fcc_capstone/data/Junke_enhancer_calls_5Oct/z_score_processed/wgSTARR/merged_peak/wgSTARR_merged_repressor_peaks_in_each_orientation.summits.random5000.GC_content.txt"
   ]
  },
  {
   "cell_type": "code",
   "execution_count": null,
   "metadata": {},
   "outputs": [],
   "source": [
    "import pandas as pd\n",
    "\n",
    "ASTARR_active = pd.read_csv('/data/reddylab/Revathy/collabs/Jamborees/fcc_capstone/data/Junke_enhancer_calls_5Oct/z_score_processed/ASTARR/merged_peak/ASTARR_merged_repressor_peaks_in_each_orientation.summits.random5000.GC_content.txt', sep='\\t')\n",
    "ASTARR_inactive = pd.read_csv('/data/reddylab/Revathy/collabs/Jamborees/fcc_capstone/data/Junke_enhancer_calls_5Oct/z_score_processed/ASTARR/bin_level/ASTARR_bin_level_all_result.inactive.merged.GC_content.txt', sep='\\t')\n",
    "\n",
    "lentiMPRA_active = pd.read_csv('/data/reddylab/Revathy/collabs/Jamborees/fcc_capstone/data/Junke_enhancer_calls_5Oct/z_score_processed/lentiMPRA/merged_peak/lentiMPRA_merged_repressor_peaks_in_either_orientation.summits.GC_content.txt', sep='\\t')\n",
    "lentiMPRA_inactive = pd.read_csv('/data/reddylab/Revathy/collabs/Jamborees/fcc_capstone/data/Junke_enhancer_calls_5Oct/z_score_processed/lentiMPRA/element_level/element_level_all_result.inactive.merged.GC_content.txt', sep='\\t')\n",
    "\n",
    "wgSTARR_active = pd.read_csv('/data/reddylab/Revathy/collabs/Jamborees/fcc_capstone/data/Junke_enhancer_calls_5Oct/z_score_processed/wgSTARR/merged_peak/wgSTARR_merged_repressor_peaks_in_each_orientation.summits.random5000.GC_content.txt', sep='\\t')\n",
    "wgSTARR_inactive = pd.read_csv('/data/reddylab/Revathy/collabs/Jamborees/fcc_capstone/data/Junke_enhancer_calls_5Oct/z_score_processed/wgSTARR/bin_level/bin_level_all_result.inactive.merged.GC_content.txt', sep='\\t')"
   ]
  },
  {
   "cell_type": "code",
   "execution_count": null,
   "metadata": {},
   "outputs": [],
   "source": [
    "lentiMPRA_inactive.head()"
   ]
  },
  {
   "cell_type": "code",
   "execution_count": null,
   "metadata": {},
   "outputs": [],
   "source": [
    "import random\n",
    "import pandas as pd\n",
    "import numpy as np\n",
    "import seaborn as sns\n",
    "import matplotlib.pyplot as plt\n",
    "\n",
    "# all_inactive_peaks = pd.read_csv('/data/reddylab/Revathy/collabs/Jamborees/fcc_capstone/data/inputs/intersections/ASTARR_wgSTARR_LentiMPRA_100%_intersected.100bp_bins.logFC_filtered.with_ATAC_peaks.merged.GC_content.txt', sep='\\t')\n",
    "# all_active_peaks = pd.read_csv('/data/reddylab/Revathy/collabs/Jamborees/fcc_capstone/data/ASTARR_LentiMPRA_wgSTARR_random5000_active_peaks_concat.GC_content.txt', sep='\\t')\n",
    "\n",
    "plt.figure(figsize=(10,8))\n",
    "sns.distplot(lentiMPRA_inactive['5_pct_gc'], bins=100, kde=True, color='darkblue', label='inactive_peaks')\n",
    "sns.distplot(lentiMPRA_active['5_pct_gc'], bins=100, kde=True, color='red', label=\"active_peaks\")\n",
    "plt.xlabel(\"Data\", size=14)\n",
    "plt.ylabel(\"Density\", size=14)\n",
    "plt.legend(loc='upper right')\n",
    "sns.despine()\n",
    "\n",
    "random.seed(42)\n",
    "df=None\n",
    "\n",
    "count_active, bin_edge_active = np.histogram(wgSTARR_active['5_pct_gc'], bins = 100)\n",
    "\n",
    "sample_size = ((count_active.astype(int)/sum(count_active))*1800).astype(int)\n",
    "for i in range(0,100):\n",
    "    bin_start = bin_edge_active[i]\n",
    "    bin_stop = bin_edge_active[i+1]\n",
    "    all_inactive_peaks_v1 = lentiMPRA_inactive[(lentiMPRA_inactive['5_pct_gc']>=bin_start)&(lentiMPRA_inactive['5_pct_gc']<bin_stop)].reset_index()\n",
    "    all_inactive_peaks_v1.drop(columns='index', inplace=True)\n",
    "    \n",
    "    count_active = count_active.astype(int)\n",
    "    m = list(range(0, sample_size[i]))\n",
    "    \n",
    "    if not all_inactive_peaks_v1.empty:\n",
    "        all_inactive_peaks_random = all_inactive_peaks_v1.loc[m]\n",
    "        \n",
    "        if df is None:\n",
    "            df = all_inactive_peaks_random\n",
    "        else:\n",
    "            df = pd.concat([df,all_inactive_peaks_random])  \n",
    "\n",
    "# df[['chr','start','end']] = df['peak'].str.split('_', expand=True)\n",
    "df = df.dropna().astype({'2_usercol':'int', '3_usercol':'int'})\n",
    "df[['#1_usercol','2_usercol','3_usercol']].dropna().to_csv('/data/reddylab/Revathy/collabs/Jamborees/fcc_capstone/data/Junke_enhancer_calls_5Oct/z_score_processed/lentiMPRA/lentiMPRA_element_level_all_result.inactive_repressed_GC_content_matched.random1700.bed', sep='\\t', index=False, header=None)\n",
    "\n",
    "plt.figure(figsize=(10,8))\n",
    "sns.distplot(df['5_pct_gc'], bins=100, kde=True, color='darkblue', label='inactive_peaks')\n",
    "sns.distplot(lentiMPRA_active['5_pct_gc'], bins=100, kde=True, color='red', label=\"active_peaks\")\n",
    "plt.xlabel(\"Data\", size=14)\n",
    "plt.ylabel(\"Density\", size=14)\n",
    "plt.legend(loc='upper right')\n",
    "sns.despine()\n",
    "\n",
    "\n",
    "plt.show()\n"
   ]
  },
  {
   "cell_type": "code",
   "execution_count": null,
   "metadata": {},
   "outputs": [],
   "source": [
    "!ls /data/reddylab/Revathy/collabs/Jamborees/fcc_capstone/data/Junke_enhancer_calls_5Oct/z_score_processed/ASTARR/bin_level/"
   ]
  },
  {
   "cell_type": "code",
   "execution_count": null,
   "metadata": {},
   "outputs": [],
   "source": [
    "%%bash\n",
    "source /data/reddylab/software/miniconda3/bin/activate alex_py3\n",
    "sbatch \\\n",
    "    --exclude=dl-01 \\\n",
    "    --mem=128G \\\n",
    "    --cpus-per-task=16 \\\n",
    "    -o /data/reddylab/Revathy/collabs/Jamborees/fcc_capstone/logs/logscomputeMatrix.ASTARR_LentiMPRA_wgSTARR.active_vs_inactive.GC_content.repressed_hits.V2.log \\\n",
    "    <<'EOF'\n",
    "#!/bin/bash \n",
    "computeMatrix reference-point \\\n",
    "    --referencePoint center \\\n",
    "    --numberOfProcessors 16 \\\n",
    "    --binSize 10 \\\n",
    "    -S \\\n",
    "        /data/reddylab/Alex/encode4_duke/ipynbs/jamborees/20211206_MPRA_STARR_Jamboree/data/encode_data/K562.ENCFF914WIS.POLR2A.bw \\\n",
    "        /data/reddylab/Alex/encode4_duke/ipynbs/jamborees/20211206_MPRA_STARR_Jamboree/data/encode_data/K562.ENCFF756UVW.JUN.bw \\\n",
    "        /data/reddylab/Alex/encode4_duke/ipynbs/jamborees/20211206_MPRA_STARR_Jamboree/data/encode_data/K562.ENCFF336UPT.CTCF.bw \\\n",
    "        /data/reddylab/Revathy/collabs/Jamborees/fcc_capstone/data/encode_data/K562.ENCFF475BKW.SP1.bw \\\n",
    "        /data/reddylab/Alex/encode4_duke/ipynbs/jamborees/20211206_MPRA_STARR_Jamboree/data/encode_data/K562.ENCFF262TFX.ELK1.bw \\\n",
    "        /data/reddylab/Alex/encode4_duke/ipynbs/jamborees/20211206_MPRA_STARR_Jamboree/data/encode_data/K562.ENCFF590LGA.NRF1.bw \\\n",
    "        /data/reddylab/Revathy/collabs/Jamborees/fcc_capstone/data/encode_data/K562.ENCFF700NBW.TAL1.bw \\\n",
    "        /data/reddylab/Revathy/collabs/Jamborees/fcc_capstone/data/encode_data/K562.ENCFF331URE.GATA1.bw \\\n",
    "        /data/reddylab/Alex/encode4_duke/ipynbs/jamborees/20211206_MPRA_STARR_Jamboree/data/encode_data/K562.ENCFF398LBP.NFE2.bw \\\n",
    "        /data/reddylab/Alex/encode4_duke/ipynbs/jamborees/20211206_MPRA_STARR_Jamboree/data/encode_data/K562.ENCFF750TBY.KLF10.bw \\\n",
    "        /data/reddylab/Alex/encode4_duke/ipynbs/jamborees/20211206_MPRA_STARR_Jamboree/data/encode_data/K562.ENCFF183YBH.KLF16.bw \\\n",
    "        /data/reddylab/Revathy/collabs/Jamborees/fcc_capstone/data/encode_data/K562.ENCFF927TDC.YY1.bw \\\n",
    "        /data/reddylab/Alex/encode4_duke/ipynbs/jamborees/20211206_MPRA_STARR_Jamboree/data/encode_data/K562.ENCFF199FSE.ATF1.bw \\\n",
    "        /data/reddylab/Revathy/collabs/Jamborees/fcc_capstone/data/encode_data/K562.ENCFF325DSL.EP300.bw \\\n",
    "        /data/reddylab/Revathy/collabs/Jamborees/fcc_capstone/data/encode_data/K562.ENCFF538LAN.REST.bw \\\n",
    "        /data/reddylab/Revathy/collabs/Jamborees/fcc_capstone/data/encode_data/K562.ENCFF106ZRO.ZEB2.bw \\\n",
    "        /data/reddylab/Alex/encode4_duke/ipynbs/jamborees/20211206_MPRA_STARR_Jamboree/data/encode_data/K562.ENCFF469JMR.H3K27ac.bw \\\n",
    "        /data/reddylab/Alex/encode4_duke/ipynbs/jamborees/20211206_MPRA_STARR_Jamboree/data/encode_data/K562.ENCFF405ZDL.H3K4me3.bw \\\n",
    "        /data/reddylab/Alex/encode4_duke/ipynbs/jamborees/20211206_MPRA_STARR_Jamboree/data/encode_data/K562.ENCFF100FDI.H3K4me1.bw \\\n",
    "        /data/reddylab/Alex/encode4_duke/ipynbs/jamborees/20211206_MPRA_STARR_Jamboree/data/encode_data/K562.ENCFF357GNC.ATACseq.bw \\\n",
    "        /data/reddylab/Alex/encode4_duke/processing/starr_seq/210401_KS91_K562ASTARR_NovaSeq.hg38-pe-umis/KS91_K562_hg38_ASTARRseq_Output_rep4.log2.pseudo_10.bw \\\n",
    "        /data/reddylab/kstrouse/superstarr/output_libs/A001_K562/A001_K562_20210213/processing/starr_seq/Strouse_6825_210223A5-pe/A001-K562-rep2.f3q10.sorted.dedup.rpkm.bw \\\n",
    "        /data/reddylab/Alex/encode4_duke/ipynbs/jamborees/20220307_locusselect_nawg/data/WGSTARRseq.A001_K562.log2fc.rep2.log2.pseudo_10.bw \\\n",
    "        /data/reddylab/Revathy/collabs/Jamborees/fcc_capstone/data/bigWigs/CRISPRi_rAVG_log2FC_2.sloped400bp.bw \\\n",
    "    --samplesLabel \\\n",
    "        POLR2A \\\n",
    "        JUN \\\n",
    "        CTCF \\\n",
    "        SP1 \\\n",
    "        ELK1 \\\n",
    "        NRF1 \\\n",
    "        TAL1 \\\n",
    "        GATA1 \\\n",
    "        NFE2 \\\n",
    "        KLF10 \\\n",
    "        KLF16 \\\n",
    "        YY1 \\\n",
    "        ATF1 \\\n",
    "        EP300 \\\n",
    "        REST \\\n",
    "        ZEB2 \\\n",
    "        H3K27ac \\\n",
    "        H3K4me3 \\\n",
    "        H3K4me1 \\\n",
    "        ATACseq \\\n",
    "        ASTARR_log2 \\\n",
    "        WG_STARR \\\n",
    "        WG_STARR_log2 \\\n",
    "        CRISPRi_sloped400bp \\\n",
    "    -R \\\n",
    "    /data/reddylab/Revathy/collabs/Jamborees/fcc_capstone/data/Junke_enhancer_calls_5Oct/z_score_processed/ASTARR/merged_peak/ASTARR_merged_repressor_peaks_in_each_orientation.random5000.bed \\\n",
    "    /data/reddylab/Revathy/collabs/Jamborees/fcc_capstone/data/Junke_enhancer_calls_5Oct/z_score_processed/ASTARR/bin_level/ASTARR_bin_level_all_result.inactive_repressed_GC_content_matched.random5000.bed \\\n",
    "    /data/reddylab/Revathy/collabs/Jamborees/fcc_capstone/data/Junke_enhancer_calls_5Oct/z_score_processed/lentiMPRA/merged_peak/merged_repressor_peaks_in_either_orientation.bed \\\n",
    "    /data/reddylab/Revathy/collabs/Jamborees/fcc_capstone/data/Junke_enhancer_calls_5Oct/z_score_processed/lentiMPRA/lentiMPRA_element_level_all_result.inactive_repressed_GC_content_matched.random1700.bed \\\n",
    "    /data/reddylab/Revathy/collabs/Jamborees/fcc_capstone/data/Junke_enhancer_calls_5Oct/z_score_processed/wgSTARR/merged_peak/wgSTARR_merged_repressor_peaks_in_each_orientation.random5000.bed \\\n",
    "    /data/reddylab/Revathy/collabs/Jamborees/fcc_capstone/data/Junke_enhancer_calls_5Oct/z_score_processed/wgSTARR/bin_level/wgSTARR_bin_level_all_result.inactive_repressed_GC_content_matched.random5000.bed \\\n",
    "    --beforeRegionStartLength 2000 \\\n",
    "    --afterRegionStartLength 2000 \\\n",
    "    --skipZeros \\\n",
    "    -o /data/reddylab/Revathy/collabs/Jamborees/fcc_capstone/data/enhancer_call_comparison/10032022/ASTARR_LentiMPRA_wgSTARR.repressed_hits.GC_content.random5000.V2.refpoint.mat.gz \\\n",
    "&& computeMatrixOperations dataRange \\\n",
    "    -m /data/reddylab/Revathy/collabs/Jamborees/fcc_capstone/data/enhancer_call_comparison/10032022/ASTARR_LentiMPRA_wgSTARR.repressed_hits.GC_content.random5000.V2.refpoint.mat.gz\n",
    "\n",
    "EOF"
   ]
  },
  {
   "cell_type": "code",
   "execution_count": null,
   "metadata": {},
   "outputs": [],
   "source": [
    "!wc -l /data/reddylab/Revathy/collabs/Jamborees/fcc_capstone/data/Junke_enhancer_calls_5Oct/z_score_processed/ASTARR/merged_peak/ASTARR_merged_repressor_peaks_in_each_orientation.random5000.bed"
   ]
  },
  {
   "cell_type": "code",
   "execution_count": null,
   "metadata": {},
   "outputs": [],
   "source": [
    "%%bash\n",
    "source /data/reddylab/software/miniconda2/bin/activate cwl10\n",
    "sbatch \\\n",
    "    --exclude=dl-01 \\\n",
    "    --mem=16G \\\n",
    "    -o /data/reddylab/Revathy/collabs/Jamborees/fcc_capstone/logs/plotHeatmap.ASTARR_LentiMPRA_wgSTARR.active_vs_inactive.GC_content.random5000.V2.out \\\n",
    "    --cpus-per-task=1 \\\n",
    "    <<'EOF'\n",
    "#!/bin/bash\n",
    "plotHeatmap \\\n",
    "    --colorMap inferno \\\n",
    "    --yMax 108.751 7.83018 5.87675 5.25337 4.7613 10.7325 5.05209 4.39715 5.7858 3.9031 2.88221 16.7918 49.5526 11.9155 10 10 30 85 10 775 .1 700 0.01 0.5 \\\n",
    "    --yMin  0  0 0  0  0  0  0  0  0  0  0  0  0  0  0 0 0  0  0   0 -.001 0 -0.01 -0.5 \\\n",
    "    --regionsLabel \\\n",
    "        ASTARR_repressed \\\n",
    "        ASTARR_inactive \\\n",
    "        LentiMPRA_repressed \\\n",
    "        LentiMPRA_inactive \\\n",
    "        wgSTARR_repressed \\\n",
    "        wgSTARR_inactive \\\n",
    "    --zMax 12.580044899999978 1.960192 1.47404 1.439317 1.479497 1.338202 1.158781099999996 1.191005 1.164774 1.058194 0.7604 3.24384 6.776238899999993 2.21747 1.833909 2.7412856999999975 2.7412856999999975 28.319819499999923 6.7212964999999985 46.924555 0.003024 1000 0.001992 0.005 \\\n",
    "    --zMin 0 0 0 0 0 0 0 0 0 0 0 0 0 0 0 0 0 0 0 0 -0.001 20 -0.002 -0.01 \\\n",
    "    --heatmapHeight 30 \\\n",
    "    -m /data/reddylab/Revathy/collabs/Jamborees/fcc_capstone/data/enhancer_call_comparison/10032022/ASTARR_LentiMPRA_wgSTARR.repressed_hits.GC_content.random5000.V2.refpoint.mat.gz \\\n",
    "    -out /data/reddylab/Revathy/collabs/Jamborees/fcc_capstone/data/enhancer_call_comparison/10032022/ASTARR_LentiMPRA_wgSTARR.repressed_hits.GC_content.random5000.V2.png \n",
    "EOF"
   ]
  },
  {
   "cell_type": "code",
   "execution_count": null,
   "metadata": {},
   "outputs": [],
   "source": [
    "from IPython.display import Image\n",
    "Image(\"/data/reddylab/Revathy/collabs/Jamborees/fcc_capstone/data/enhancer_call_comparison/10032022/ASTARR_LentiMPRA_wgSTARR.repressed_hits.GC_content.random5000.V2.png\")\n"
   ]
  },
  {
   "cell_type": "code",
   "execution_count": null,
   "metadata": {},
   "outputs": [],
   "source": []
  },
  {
   "cell_type": "markdown",
   "metadata": {},
   "source": [
    "### Profile Plots"
   ]
  },
  {
   "cell_type": "code",
   "execution_count": null,
   "metadata": {},
   "outputs": [],
   "source": [
    "from deeptools import heatmapper  # You need to have deeptools3 installed\n",
    "import numpy as np\n",
    "import gzip\n",
    "from matplotlib import pyplot as plt\n",
    "from matplotlib import patches as mpatches\n",
    "import seaborn as sns\n",
    "from palettable.cartocolors.qualitative import Bold_10, Vivid_10_r, Antique_10_r\n",
    "from matplotlib import markers\n",
    "%matplotlib inline"
   ]
  },
  {
   "cell_type": "code",
   "execution_count": null,
   "metadata": {},
   "outputs": [],
   "source": [
    "hm = heatmapper.heatmapper() # create heatmapper object\n",
    "hm.read_matrix_file('/data/reddylab/Revathy/collabs/Jamborees/fcc_capstone/data/enhancer_call_comparison/10032022/ASTARR_LentiMPRA_wgSTARR.repressed_hits.GC_content.random5000.V2.refpoint.mat.gz')\n",
    "hm.__dict__['parameters']['group_boundaries']"
   ]
  },
  {
   "cell_type": "code",
   "execution_count": null,
   "metadata": {},
   "outputs": [],
   "source": [
    "sns.set_context('talk', font_scale=1.01)\n",
    "fig, ax = plt.subplots(figsize=[14,10])\n",
    "for ii in range(len(hm.__dict__['parameters']['sample_labels'])):\n",
    "    if hm.__dict__['parameters']['sample_labels'][ii] == 'ASTARR_log2': continue\n",
    "    max_val=np.max(hm.matrix.matrix[:4870, ((ii)*400)+150:((ii+1)*400)-150], axis=0)\n",
    "    pseudo_count=np.percentile(max_val,10)\n",
    "    plt.plot(np.delete((np.arange(0,101)-50), 50)*10,\n",
    "               np.log2((np.nanmean(hm.matrix.matrix[:4870, ((ii)*400)+150:((ii+1)*400)-150]+pseudo_count, axis=0))/\n",
    "                       (np.nanmean(hm.matrix.matrix[4870:9870, ((ii)*400)+150:((ii+1)*400)-150]+pseudo_count, axis=0))), \n",
    "               color=(Bold_10.hex_colors + Vivid_10_r.hex_colors + Antique_10_r.hex_colors)[ii],\n",
    "             marker=list(markers.MarkerStyle().markers.keys())[ii],\n",
    "             markersize=6,\n",
    "             label=hm.__dict__['parameters']['sample_labels'][ii])\n",
    "    plt.axvline(0, color='black', ls='--', lw=.5)\n",
    "    plt.axhline(0, color='black', ls='--', lw=.5)\n",
    "lgnd = plt.legend(bbox_to_anchor=(1.02, 1), frameon=False, markerscale=2)\n",
    "# for handle in lgnd.legendHandles:\n",
    "#     handle.set_sizes([22.0])\n",
    "plt.title(\"ASTARR - repressed v inactive log2 ratios\")\n",
    "plt.ylim([-0.1,0.05])\n",
    "sns.despine()\n",
    "plt.tight_layout()\n",
    "fig.savefig('data/enhancer_call_comparison/profile_plots/astarr.repressed_v_inactive.repressed.zoomed.V1.png')"
   ]
  },
  {
   "cell_type": "code",
   "execution_count": null,
   "metadata": {},
   "outputs": [],
   "source": [
    "sns.set_context('talk', font_scale=1.05)\n",
    "fig, ax = plt.subplots(figsize=[14,10])\n",
    "for ii in range(len(hm.__dict__['parameters']['sample_labels'])):\n",
    "    max_val=np.max(hm.matrix.matrix[9870:11395, (ii)*400:(ii+1)*400], axis=0)\n",
    "    pseudo_count=np.percentile(max_val,10)\n",
    "    plt.plot(np.delete((np.arange(0,101)-50), 50)*10,\n",
    "               np.log2((np.nanmean(hm.matrix.matrix[9870:11395, ((ii)*400)+150:((ii+1)*400)-150]+pseudo_count, axis=0))/\n",
    "                       (np.nanmean(hm.matrix.matrix[11395:13162, ((ii)*400)+150:((ii+1)*400)-150]+pseudo_count, axis=0))), \n",
    "               color=(Bold_10.hex_colors + Vivid_10_r.hex_colors + Antique_10_r.hex_colors)[ii],\n",
    "             marker=list(markers.MarkerStyle().markers.keys())[ii],\n",
    "             markersize=6,\n",
    "             label=hm.__dict__['parameters']['sample_labels'][ii])\n",
    "    plt.axvline(0, color='black', ls='--', lw=.5)\n",
    "    plt.axhline(0, color='black', ls='--', lw=.5)\n",
    "lgnd = plt.legend(bbox_to_anchor=(1.02, 1), frameon=False, markerscale=2)\n",
    "# for handle in lgnd.legendHandles:\n",
    "#     handle.set_sizes([22.0])\n",
    "plt.title(\"LentiMPRA - repressed v inactive log2 ratios\")\n",
    "# plt.ylim([-0.15,0.25])\n",
    "sns.despine()\n",
    "plt.tight_layout()\n",
    "fig.savefig('data/enhancer_call_comparison/profile_plots/lentiMPRA.repressed_v_inactive.zoomed.V1.png')"
   ]
  },
  {
   "cell_type": "code",
   "execution_count": null,
   "metadata": {},
   "outputs": [],
   "source": [
    "sns.set_context('talk', font_scale=1.01)\n",
    "fig, ax = plt.subplots(figsize=[14,10])\n",
    "for ii in range(len(hm.__dict__['parameters']['sample_labels'])):\n",
    "    if hm.__dict__['parameters']['sample_labels'][ii] == 'WG_STARR_log2': continue\n",
    "    max_val=np.max(hm.matrix.matrix[13162:18162, ((ii)*400)+150:((ii+1)*400)-150], axis=0)\n",
    "    pseudo_count=np.percentile(max_val,10)\n",
    "    plt.plot(np.delete((np.arange(0,101)-50), 50)*10,\n",
    "               np.log2((np.nanmean(hm.matrix.matrix[13162:18162, ((ii)*400)+150:((ii+1)*400)-150]+pseudo_count, axis=0))/\n",
    "                       (np.nanmean(hm.matrix.matrix[18162:, ((ii)*400)+150:((ii+1)*400)-150]+pseudo_count, axis=0))), \n",
    "               color=(Bold_10.hex_colors + Vivid_10_r.hex_colors + Antique_10_r.hex_colors)[ii],\n",
    "             marker=list(markers.MarkerStyle().markers.keys())[ii],\n",
    "             markersize=6,\n",
    "             label=hm.__dict__['parameters']['sample_labels'][ii])\n",
    "    plt.axvline(0, color='black', ls='--', lw=.5)\n",
    "    plt.axhline(0, color='black', ls='--', lw=.5)\n",
    "lgnd = plt.legend(bbox_to_anchor=(1.02, 1), frameon=False, markerscale=2)\n",
    "# for handle in lgnd.legendHandles:\n",
    "#     handle.set_sizes([22.0])\n",
    "plt.title(\"wgSTARR - repressed v inactive log2 ratios\")\n",
    "# plt.ylim([0,0.2])\n",
    "sns.despine()\n",
    "plt.tight_layout()\n",
    "fig.savefig('data/enhancer_call_comparison/profile_plots/wgstarr.repressed_v_inactive.zoomed.V1.png')"
   ]
  },
  {
   "cell_type": "code",
   "execution_count": null,
   "metadata": {},
   "outputs": [],
   "source": []
  },
  {
   "cell_type": "markdown",
   "metadata": {},
   "source": [
    "### ASTARR - Split into Promoter and Distal "
   ]
  },
  {
   "cell_type": "code",
   "execution_count": null,
   "metadata": {},
   "outputs": [],
   "source": [
    "import pandas as pd\n",
    "\n",
    "files=[\"/data/reddylab/Revathy/collabs/Jamborees/fcc_capstone/data/enhancer_call_annotation/V3_repressed/ASTARR_bin_level_all_result.inactive_repressed_GC_content_matched.random5000.annotated.txt\",\n",
    "       \"/data/reddylab/Revathy/collabs/Jamborees/fcc_capstone/data/enhancer_call_annotation/V3_repressed/ASTARR_merged_repressor_peaks_in_each_orientation.random5000.annotated.txt\"]\n",
    "\n",
    "for file in files:\n",
    "    file_name='.'.join(file.split('/')[-1].split('.')[:-1])\n",
    "    tmp = pd.read_csv(file, sep='\\t')\n",
    "    tmp[tmp['annotation'].str.contains('Promoter')].to_csv('/data/reddylab/Revathy/collabs/Jamborees/fcc_capstone/data/enhancer_call_annotation/V3_repressed/%s.promoter.txt'%file_name, sep='\\t', index=False)\n",
    "    tmp[~tmp['annotation'].str.contains('Promoter')].to_csv('/data/reddylab/Revathy/collabs/Jamborees/fcc_capstone/data/enhancer_call_annotation/V3_repressed/%s.rest.txt'%file_name, sep='\\t', index=False)\n",
    "    "
   ]
  },
  {
   "cell_type": "code",
   "execution_count": null,
   "metadata": {},
   "outputs": [],
   "source": [
    "%%bash\n",
    "cd /data/reddylab/Revathy/collabs/Jamborees/fcc_capstone/data/enhancer_call_annotation/V3_repressed/\n",
    "wc -l ASTARR_bin_level_all_result.inactive_repressed_GC_content_matched.random5000.annotated.promoter.txt \\\n",
    "ASTARR_bin_level_all_result.inactive_repressed_GC_content_matched.random5000.annotated.rest.txt \\\n",
    "ASTARR_merged_repressor_peaks_in_each_orientation.random5000.annotated.promoter.txt \\\n",
    "ASTARR_merged_repressor_peaks_in_each_orientation.random5000.annotated.rest.txt"
   ]
  },
  {
   "cell_type": "code",
   "execution_count": null,
   "metadata": {},
   "outputs": [],
   "source": [
    "%%bash\n",
    "### Inactive ATAC\n",
    "cat /data/reddylab/Revathy/collabs/Jamborees/fcc_capstone/data/enhancer_call_annotation/V3_repressed/ASTARR_bin_level_all_result.inactive_repressed_GC_content_matched.random5000.annotated.promoter.txt | tail -n+2 | cut -f1,2,3 \\\n",
    "> /data/reddylab/Revathy/collabs/Jamborees/fcc_capstone/data/enhancer_call_annotation/V3_repressed/ASTARR_bin_level_all_result.inactive_repressed_GC_content_matched.random5000.annotated.promoter.coordinates.bed\n",
    "cat /data/reddylab/Revathy/collabs/Jamborees/fcc_capstone/data/enhancer_call_annotation/V3_repressed/ASTARR_bin_level_all_result.inactive_repressed_GC_content_matched.random5000.annotated.rest.txt | tail -n+2 | cut -f1,2,3 \\\n",
    "> /data/reddylab/Revathy/collabs/Jamborees/fcc_capstone/data/enhancer_call_annotation/V3_repressed/ASTARR_bin_level_all_result.inactive_repressed_GC_content_matched.random5000.annotated.rest.coordinates.bed\n",
    "\n",
    "### Repressed ATAC\n",
    "cat /data/reddylab/Revathy/collabs/Jamborees/fcc_capstone/data/enhancer_call_annotation/V3_repressed/ASTARR_merged_repressor_peaks_in_each_orientation.random5000.annotated.promoter.txt | tail -n+2 | cut -f1,2,3 \\\n",
    "> /data/reddylab/Revathy/collabs/Jamborees/fcc_capstone/data/enhancer_call_annotation/V3_repressed/ASTARR_merged_repressor_peaks_in_each_orientation.random5000.annotated.promoter.coordinates.bed\n",
    "cat /data/reddylab/Revathy/collabs/Jamborees/fcc_capstone/data/enhancer_call_annotation/V3_repressed/ASTARR_merged_repressor_peaks_in_each_orientation.random5000.annotated.rest.txt | tail -n+2 | cut -f1,2,3 \\\n",
    "> /data/reddylab/Revathy/collabs/Jamborees/fcc_capstone/data/enhancer_call_annotation/V3_repressed/ASTARR_merged_repressor_peaks_in_each_orientation.random5000.annotated.rest.coordinates.bed\n"
   ]
  },
  {
   "cell_type": "markdown",
   "metadata": {},
   "source": [
    "### Heatmap for ASTARR - promoter_distal split"
   ]
  },
  {
   "cell_type": "code",
   "execution_count": null,
   "metadata": {},
   "outputs": [],
   "source": [
    "%%bash\n",
    "source /data/reddylab/software/miniconda3/bin/activate alex_py3\n",
    "sbatch \\\n",
    "    --exclude=dl-01 \\\n",
    "    --mem=128G \\\n",
    "    --cpus-per-task=16 \\\n",
    "    -o /data/reddylab/Revathy/collabs/Jamborees/fcc_capstone/logs/logscomputeMatrix.ASTARR_repressed_hits.promoter_distal.GC_content.V1.log \\\n",
    "    <<'EOF'\n",
    "#!/bin/bash \n",
    "computeMatrix reference-point \\\n",
    "    --referencePoint center \\\n",
    "    --numberOfProcessors 16 \\\n",
    "    --binSize 10 \\\n",
    "    -S \\\n",
    "        /data/reddylab/Alex/encode4_duke/ipynbs/jamborees/20211206_MPRA_STARR_Jamboree/data/encode_data/K562.ENCFF914WIS.POLR2A.bw \\\n",
    "        /data/reddylab/Alex/encode4_duke/ipynbs/jamborees/20211206_MPRA_STARR_Jamboree/data/encode_data/K562.ENCFF756UVW.JUN.bw \\\n",
    "        /data/reddylab/Alex/encode4_duke/ipynbs/jamborees/20211206_MPRA_STARR_Jamboree/data/encode_data/K562.ENCFF336UPT.CTCF.bw \\\n",
    "        /data/reddylab/Revathy/collabs/Jamborees/fcc_capstone/data/encode_data/K562.ENCFF475BKW.SP1.bw \\\n",
    "        /data/reddylab/Alex/encode4_duke/ipynbs/jamborees/20211206_MPRA_STARR_Jamboree/data/encode_data/K562.ENCFF262TFX.ELK1.bw \\\n",
    "        /data/reddylab/Alex/encode4_duke/ipynbs/jamborees/20211206_MPRA_STARR_Jamboree/data/encode_data/K562.ENCFF590LGA.NRF1.bw \\\n",
    "        /data/reddylab/Revathy/collabs/Jamborees/fcc_capstone/data/encode_data/K562.ENCFF700NBW.TAL1.bw \\\n",
    "        /data/reddylab/Revathy/collabs/Jamborees/fcc_capstone/data/encode_data/K562.ENCFF331URE.GATA1.bw \\\n",
    "        /data/reddylab/Alex/encode4_duke/ipynbs/jamborees/20211206_MPRA_STARR_Jamboree/data/encode_data/K562.ENCFF398LBP.NFE2.bw \\\n",
    "        /data/reddylab/Alex/encode4_duke/ipynbs/jamborees/20211206_MPRA_STARR_Jamboree/data/encode_data/K562.ENCFF750TBY.KLF10.bw \\\n",
    "        /data/reddylab/Alex/encode4_duke/ipynbs/jamborees/20211206_MPRA_STARR_Jamboree/data/encode_data/K562.ENCFF183YBH.KLF16.bw \\\n",
    "        /data/reddylab/Revathy/collabs/Jamborees/fcc_capstone/data/encode_data/K562.ENCFF927TDC.YY1.bw \\\n",
    "        /data/reddylab/Alex/encode4_duke/ipynbs/jamborees/20211206_MPRA_STARR_Jamboree/data/encode_data/K562.ENCFF199FSE.ATF1.bw \\\n",
    "        /data/reddylab/Revathy/collabs/Jamborees/fcc_capstone/data/encode_data/K562.ENCFF325DSL.EP300.bw \\\n",
    "        /data/reddylab/Revathy/collabs/Jamborees/fcc_capstone/data/encode_data/K562.ENCFF538LAN.REST.bw \\\n",
    "        /data/reddylab/Revathy/collabs/Jamborees/fcc_capstone/data/encode_data/K562.ENCFF106ZRO.ZEB2.bw \\\n",
    "        /data/reddylab/Alex/encode4_duke/ipynbs/jamborees/20211206_MPRA_STARR_Jamboree/data/encode_data/K562.ENCFF469JMR.H3K27ac.bw \\\n",
    "        /data/reddylab/Alex/encode4_duke/ipynbs/jamborees/20211206_MPRA_STARR_Jamboree/data/encode_data/K562.ENCFF405ZDL.H3K4me3.bw \\\n",
    "        /data/reddylab/Alex/encode4_duke/ipynbs/jamborees/20211206_MPRA_STARR_Jamboree/data/encode_data/K562.ENCFF100FDI.H3K4me1.bw \\\n",
    "        /data/reddylab/Alex/encode4_duke/ipynbs/jamborees/20211206_MPRA_STARR_Jamboree/data/encode_data/K562.ENCFF357GNC.ATACseq.bw \\\n",
    "        /data/reddylab/Alex/encode4_duke/processing/starr_seq/210401_KS91_K562ASTARR_NovaSeq.hg38-pe-umis/KS91_K562_hg38_ASTARRseq_Output_rep4.log2.pseudo_10.bw \\\n",
    "        /data/reddylab/kstrouse/superstarr/output_libs/A001_K562/A001_K562_20210213/processing/starr_seq/Strouse_6825_210223A5-pe/A001-K562-rep2.f3q10.sorted.dedup.rpkm.bw \\\n",
    "        /data/reddylab/Alex/encode4_duke/ipynbs/jamborees/20220307_locusselect_nawg/data/WGSTARRseq.A001_K562.log2fc.rep2.log2.pseudo_10.bw \\\n",
    "        /data/reddylab/Revathy/collabs/Jamborees/fcc_capstone/data/bigWigs/CRISPRi_rAVG_log2FC_2.sloped400bp.bw \\\n",
    "    --samplesLabel \\\n",
    "        POLR2A \\\n",
    "        JUN \\\n",
    "        CTCF \\\n",
    "        SP1 \\\n",
    "        ELK1 \\\n",
    "        NRF1 \\\n",
    "        TAL1 \\\n",
    "        GATA1 \\\n",
    "        NFE2 \\\n",
    "        KLF10 \\\n",
    "        KLF16 \\\n",
    "        YY1 \\\n",
    "        ATF1 \\\n",
    "        EP300 \\\n",
    "        REST \\\n",
    "        ZEB2 \\\n",
    "        H3K27ac \\\n",
    "        H3K4me3 \\\n",
    "        H3K4me1 \\\n",
    "        ATACseq \\\n",
    "        ASTARR_log2 \\\n",
    "        WG_STARR \\\n",
    "        WG_STARR_log2 \\\n",
    "        CRISPRi_sloped400bp \\\n",
    "    -R \\\n",
    "    /data/reddylab/Revathy/collabs/Jamborees/fcc_capstone/data/enhancer_call_annotation/V3_repressed/ASTARR_merged_repressor_peaks_in_each_orientation.random5000.annotated.promoter.coordinates.bed \\\n",
    "    /data/reddylab/Revathy/collabs/Jamborees/fcc_capstone/data/enhancer_call_annotation/V3_repressed/ASTARR_merged_repressor_peaks_in_each_orientation.random5000.annotated.rest.coordinates.bed \\\n",
    "    /data/reddylab/Revathy/collabs/Jamborees/fcc_capstone/data/enhancer_call_annotation/V3_repressed/ASTARR_bin_level_all_result.inactive_repressed_GC_content_matched.random5000.annotated.promoter.coordinates.bed \\\n",
    "    /data/reddylab/Revathy/collabs/Jamborees/fcc_capstone/data/enhancer_call_annotation/V3_repressed/ASTARR_bin_level_all_result.inactive_repressed_GC_content_matched.random5000.annotated.rest.coordinates.bed \\\n",
    "    --beforeRegionStartLength 2000 \\\n",
    "    --afterRegionStartLength 2000 \\\n",
    "    --skipZeros \\\n",
    "    -o /data/reddylab/Revathy/collabs/Jamborees/fcc_capstone/data/enhancer_call_comparison/10032022/ASTARR.repressed_hits.promoter_distal.GC_content.V1.refpoint.mat.gz \\\n",
    "&& computeMatrixOperations dataRange \\\n",
    "    -m /data/reddylab/Revathy/collabs/Jamborees/fcc_capstone/data/enhancer_call_comparison/10032022/ASTARR.repressed_hits.promoter_distal.GC_content.V1.refpoint.mat.gz\n",
    "\n",
    "EOF"
   ]
  },
  {
   "cell_type": "code",
   "execution_count": null,
   "metadata": {},
   "outputs": [],
   "source": [
    "!cat /data/reddylab/Revathy/collabs/Jamborees/fcc_capstone/logs/logscomputeMatrix.ASTARR_repressed_hits.promoter_distal.GC_content.V1.log"
   ]
  },
  {
   "cell_type": "code",
   "execution_count": null,
   "metadata": {},
   "outputs": [],
   "source": [
    "%%bash\n",
    "source /data/reddylab/software/miniconda2/bin/activate cwl10\n",
    "sbatch \\\n",
    "    --exclude=dl-01 \\\n",
    "    --mem=16G \\\n",
    "    -o /data/reddylab/Revathy/collabs/Jamborees/fcc_capstone/logs/plotHeatmap.ASTARR.repressed_hits.promoter_distal.GC_content.V1.out \\\n",
    "    --cpus-per-task=1 \\\n",
    "    <<'EOF'\n",
    "#!/bin/bash\n",
    "plotHeatmap \\\n",
    "    --colorMap inferno \\\n",
    "    --yMax 108.751 7.83018 5.87675 5.25337 4.7613 10.7325 5.05209 4.39715 5.7858 3.9031 2.88221 16.7918 49.5526 11.9155 10 10 30 85 10 775 .1 700 0.01 0.5 \\\n",
    "    --yMin  0  0 0  0  0  0  0  0  0  0  0  0  0  0  0 0 0  0  0   0 -.001 0 -0.01 -0.5 \\\n",
    "    --regionsLabel \\\n",
    "        ASTARR_repressed_promoter \\\n",
    "        ASTARR_repressed_distal \\\n",
    "        ASTARR_inactive_promoter \\\n",
    "        ASTARR_inactive_distal \\\n",
    "    --zMax 52.061709 3.34434 3.03205 3.4235102000000004 2.097756700000008 27.147436600000034 1.69045 1.48947 1.3638373000000013 1.175282 0.942785 10.898267100000004 24.93499520000001 4.0067 3.506616 4.2465995 26.20866990000001 166.0511007 8.35652 234.6862881000002 0.008929 1000 0.002992 0.005 \\\n",
    "    --zMin 0 0 0 0 0 0 0 0 0 0 0 0 0 0 0 0 0 0 0 0 -0.001 20 -0.002 -0.01 \\\n",
    "    --heatmapHeight 30 \\\n",
    "    -m /data/reddylab/Revathy/collabs/Jamborees/fcc_capstone/data/enhancer_call_comparison/10032022/ASTARR.repressed_hits.promoter_distal.GC_content.V1.refpoint.mat.gz \\\n",
    "    -out /data/reddylab/Revathy/collabs/Jamborees/fcc_capstone/data/enhancer_call_comparison/10032022/ASTARR.repressed_hits.promoter_distal.GC_content.V1.png \n",
    "EOF"
   ]
  },
  {
   "cell_type": "code",
   "execution_count": null,
   "metadata": {},
   "outputs": [],
   "source": [
    "from IPython.display import Image\n",
    "Image(\"/data/reddylab/Revathy/collabs/Jamborees/fcc_capstone/data/enhancer_call_comparison/10032022/ASTARR.repressed_hits.promoter_distal.GC_content.V1.png\")\n"
   ]
  },
  {
   "cell_type": "code",
   "execution_count": null,
   "metadata": {},
   "outputs": [],
   "source": [
    "hm1 = heatmapper.heatmapper() # create heatmapper object\n",
    "hm1.read_matrix_file('/data/reddylab/Revathy/collabs/Jamborees/fcc_capstone/data/enhancer_call_comparison/10032022/ASTARR.repressed_hits.promoter_distal.GC_content.V1.refpoint.mat.gz')\n",
    "hm1.__dict__['parameters']['group_boundaries']"
   ]
  },
  {
   "cell_type": "code",
   "execution_count": null,
   "metadata": {},
   "outputs": [],
   "source": [
    "sns.set_context('talk', font_scale=1.01)\n",
    "fig, ax = plt.subplots(figsize=[14,10])\n",
    "for ii in range(len(hm.__dict__['parameters']['sample_labels'])):\n",
    "    if hm.__dict__['parameters']['sample_labels'][ii] == 'ASTARR_log2': continue\n",
    "    max_val=np.max(hm.matrix.matrix[:3833, ((ii)*400)+150:((ii+1)*400)-150], axis=0)\n",
    "    pseudo_count=np.percentile(max_val,10)\n",
    "    plt.plot(np.delete((np.arange(0,101)-50), 50)*10,\n",
    "               np.log2((np.nanmean(hm.matrix.matrix[:3833, ((ii)*400)+150:((ii+1)*400)-150]+pseudo_count, axis=0))/\n",
    "                       (np.nanmean(hm.matrix.matrix[4870:8153, ((ii)*400)+150:((ii+1)*400)-150]+pseudo_count, axis=0))), \n",
    "               color=(Bold_10.hex_colors + Vivid_10_r.hex_colors + Antique_10_r.hex_colors)[ii],\n",
    "             marker=list(markers.MarkerStyle().markers.keys())[ii],\n",
    "             markersize=6,\n",
    "             label=hm.__dict__['parameters']['sample_labels'][ii])\n",
    "    plt.axvline(0, color='black', ls='--', lw=.5)\n",
    "    plt.axhline(0, color='black', ls='--', lw=.5)\n",
    "lgnd = plt.legend(bbox_to_anchor=(1.02, 1), frameon=False, markerscale=2)\n",
    "# for handle in lgnd.legendHandles:\n",
    "#     handle.set_sizes([22.0])\n",
    "plt.title(\"ASTARR - repressed v inactive log2 ratios - Promoters\")\n",
    "# plt.ylim([-0.1,0.05])\n",
    "sns.despine()\n",
    "plt.tight_layout()\n",
    "fig.savefig('data/enhancer_call_comparison/profile_plots/astarr.repressed_v_inactive.repressed.promoters.zoomed.png')"
   ]
  },
  {
   "cell_type": "code",
   "execution_count": null,
   "metadata": {},
   "outputs": [],
   "source": [
    "sns.set_context('talk', font_scale=1.01)\n",
    "fig, ax = plt.subplots(figsize=[14,10])\n",
    "for ii in range(len(hm.__dict__['parameters']['sample_labels'])):\n",
    "    if hm.__dict__['parameters']['sample_labels'][ii] == 'ASTARR_log2': continue\n",
    "    max_val=np.max(hm.matrix.matrix[3833:4870, ((ii)*400)+150:((ii+1)*400)-150], axis=0)\n",
    "    pseudo_count=np.percentile(max_val,10)\n",
    "    plt.plot(np.delete((np.arange(0,101)-50), 50)*10,\n",
    "               np.log2((np.nanmean(hm.matrix.matrix[3833:4870, ((ii)*400)+150:((ii+1)*400)-150]+pseudo_count, axis=0))/\n",
    "                       (np.nanmean(hm.matrix.matrix[8153:, ((ii)*400)+150:((ii+1)*400)-150]+pseudo_count, axis=0))), \n",
    "               color=(Bold_10.hex_colors + Vivid_10_r.hex_colors + Antique_10_r.hex_colors)[ii],\n",
    "             marker=list(markers.MarkerStyle().markers.keys())[ii],\n",
    "             markersize=6,\n",
    "             label=hm.__dict__['parameters']['sample_labels'][ii])\n",
    "    plt.axvline(0, color='black', ls='--', lw=.5)\n",
    "    plt.axhline(0, color='black', ls='--', lw=.5)\n",
    "lgnd = plt.legend(bbox_to_anchor=(1.02, 1), frameon=False, markerscale=2)\n",
    "# for handle in lgnd.legendHandles:\n",
    "#     handle.set_sizes([22.0])\n",
    "plt.title(\"ASTARR - repressed v inactive log2 ratios - Distal\")\n",
    "# plt.ylim([-0.1,0.05])\n",
    "sns.despine()\n",
    "plt.tight_layout()\n",
    "fig.savefig('data/enhancer_call_comparison/profile_plots/astarr.repressed_v_inactive.repressed.distal.zoomed.png')"
   ]
  },
  {
   "cell_type": "code",
   "execution_count": null,
   "metadata": {},
   "outputs": [],
   "source": []
  },
  {
   "cell_type": "markdown",
   "metadata": {},
   "source": [
    "## Additions:\n",
    "\n",
    "1. Add RNA tpm to the repressed heatmaps (ASTARR) to check the reason for the hole in the middle. Data to use: https://www.encodeproject.org/files/ENCFF472HFI/@@download/ENCFF472HFI.tsv\n",
    "\n",
    "2. Create a scatter plot with Dustin's heatmap scores and summary heatmap scores to check for correlations between sequence feature models and genomic context"
   ]
  },
  {
   "cell_type": "code",
   "execution_count": null,
   "metadata": {},
   "outputs": [],
   "source": [
    "%%bash\n",
    "cd /data/reddylab/Revathy/collabs/Jamborees/fcc_capstone/data/encode_data/\n",
    "curl -SLo K562.ENCFF472HFI.RNA_tpm.tsv \\\n",
    " https://www.encodeproject.org/files/ENCFF472HFI/@@download/ENCFF472HFI.tsv"
   ]
  },
  {
   "cell_type": "code",
   "execution_count": null,
   "metadata": {},
   "outputs": [],
   "source": [
    "!ls /data/reddylab/Revathy/collabs/Jamborees/fcc_capstone/data/encode_data/*.tsv"
   ]
  },
  {
   "cell_type": "code",
   "execution_count": null,
   "metadata": {},
   "outputs": [],
   "source": [
    "!head /data/reddylab/Revathy/collabs/Jamborees/fcc_capstone/data/encode_data/K562.ENCFF472HFI.RNA_tpm.tsv"
   ]
  },
  {
   "cell_type": "markdown",
   "metadata": {},
   "source": [
    "#### Find the genes close to the peaks/regions"
   ]
  },
  {
   "cell_type": "code",
   "execution_count": null,
   "metadata": {},
   "outputs": [],
   "source": [
    "!ls /data/reddylab//Reference_Data/Gencode/"
   ]
  },
  {
   "cell_type": "code",
   "execution_count": null,
   "metadata": {},
   "outputs": [],
   "source": [
    "%%bash\n",
    "cd /data/reddylab/Revathy/collabs/Jamborees/fcc_capstone/data/enhancer_call_annotation/V3_repressed\n",
    "sample=\"ASTARR_merged_repressor_peaks_in_each_orientation.random5000.annotated.promoter.coordinates.bed\"\n",
    "cat ${sample} \\\n",
    "| sort -k1,1 -k2,2n \\\n",
    "| bedtools closest \\\n",
    "    -nonamecheck \\\n",
    "    -D a \\\n",
    "    -a - \\\n",
    "    -b /data/reddylab//Reference_Data/Gencode/v42/gencode.v42.basic.annotation.genes.w_gene_type.bed \\\n",
    "| grep 'protein_coding' \\\n",
    "| cut -f4,5,6,9,11 \\\n",
    "> ASTARR_repressed_promoter_peaks_closest_genes.bed"
   ]
  },
  {
   "cell_type": "code",
   "execution_count": null,
   "metadata": {},
   "outputs": [],
   "source": [
    "import pandas as pd\n",
    "\n",
    "rna_tpm = pd.read_csv('/data/reddylab/Revathy/collabs/Jamborees/fcc_capstone/data/encode_data/K562.ENCFF472HFI.RNA_tpm.tsv', sep='\\t')\n",
    "peaks_with_genes = pd.read_csv('/data/reddylab/Revathy/collabs/Jamborees/fcc_capstone/data/enhancer_call_annotation/V3_repressed/ASTARR_repressed_promoter_peaks_closest_genes.bed', sep='\\t',\n",
    "                               names=['chr','start','end','gene_id','gene_name'])\n",
    "rna_tpm"
   ]
  },
  {
   "cell_type": "code",
   "execution_count": null,
   "metadata": {},
   "outputs": [],
   "source": [
    "merged = peaks_with_genes.merge(rna_tpm, on='gene_id', how='inner')\n",
    "merged[['chr','start','end','gene_id','gene_name','TPM']]"
   ]
  },
  {
   "cell_type": "code",
   "execution_count": null,
   "metadata": {},
   "outputs": [],
   "source": []
  },
  {
   "cell_type": "markdown",
   "metadata": {},
   "source": [
    "## Add the remaining TFs from Dustin's list to heatmaps"
   ]
  },
  {
   "cell_type": "code",
   "execution_count": null,
   "metadata": {},
   "outputs": [],
   "source": [
    "%%bash\n",
    "cd /data/reddylab/Revathy/collabs/Jamborees/fcc_capstone/data/encode_data/\n",
    "curl -SLo K562.ENCFF533RNU.PU1.bw \\\n",
    " https://www.encodeproject.org/files/ENCFF533RNU/@@download/ENCFF533RNU.bigWig\n",
    "curl -SLo K562.ENCFF173FZK.ZBTB33.bw \\\n",
    " https://www.encodeproject.org/files/ENCFF173FZK/@@download/ENCFF173FZK.bigWig\n",
    "curl -SLo K562.ENCFF719XTU.ZNF143.bw \\\n",
    " https://www.encodeproject.org/files/ENCFF719XTU/@@download/ENCFF719XTU.bigWig\n",
    "curl -SLo K562.ENCFF834GYB.UA5.bw \\\n",
    " https://www.encodeproject.org/files/ENCFF834GYB/@@download/ENCFF834GYB.bigWig\n",
    "curl -SLo K562.ENCFF335JJU.CREB.bw \\\n",
    " https://www.encodeproject.org/files/ENCFF335JJU/@@download/ENCFF335JJU.bigWig\n",
    "curl -SLo K562.ENCFF992RXN.STAT1.bw \\\n",
    " https://www.encodeproject.org/files/ENCFF992RXN/@@download/ENCFF992RXN.bigWig\n",
    "curl -Slo K562.ENCFF234JFJ.NFYa.bw \\\n",
    " https://www.encodeproject.org/files/ENCFF234JFJ/@@download/ENCFF234JFJ.bigWig"
   ]
  },
  {
   "cell_type": "code",
   "execution_count": null,
   "metadata": {},
   "outputs": [],
   "source": [
    "%%bash\n",
    "cd /data/reddylab/Revathy/collabs/Jamborees/fcc_capstone/data/encode_data/\n",
    "curl -Slo K562.ENCFF234JFJ.NFYb.bw \\\n",
    " https://www.encodeproject.org/files/ENCFF234JFJ/@@download/ENCFF234JFJ.bigWig"
   ]
  },
  {
   "cell_type": "code",
   "execution_count": null,
   "metadata": {},
   "outputs": [],
   "source": [
    "!ls /data/reddylab/Revathy/collabs/Jamborees/fcc_capstone/data/encode_data/*.bw"
   ]
  },
  {
   "cell_type": "markdown",
   "metadata": {},
   "source": [
    "Create a promoter and distal heatmap with the new TFs"
   ]
  },
  {
   "cell_type": "markdown",
   "metadata": {},
   "source": [
    "`/data/reddylab/Revathy/collabs/Jamborees/fcc_capstone/data/enhancer_call_annotation/V2/ASTARR_bin_level_all_result.inactive.merged.random5000.annotated.promoter_v1.coordinates.bed\n",
    "/data/reddylab/Revathy/collabs/Jamborees/fcc_capstone/data/enhancer_call_annotation/V2/ASTARR_bin_level_all_result.inactive.merged.random5000.annotated.rest_v1.coordinates.bed\n",
    "/data/reddylab/Revathy/collabs/Jamborees/fcc_capstone/data/enhancer_call_annotation/V2/wgSTARR_bin_level_all_result.inactive.merged.random5000.annotated.promoter_v1.coordinates.bed\n",
    "/data/reddylab/Revathy/collabs/Jamborees/fcc_capstone/data/enhancer_call_annotation/V2/wgSTARR_bin_level_all_result.inactive.merged.random5000.annotated.rest_v1.coordinates.bed\n",
    "/data/reddylab/Revathy/collabs/Jamborees/fcc_capstone/data/enhancer_call_annotation/V2/lentiMPRA_element_level_all_result.inactive.merged.random5000.annotated.promoter_v1.coordinates.bed\n",
    "/data/reddylab/Revathy/collabs/Jamborees/fcc_capstone/data/enhancer_call_annotation/V2/lentiMPRA_element_level_all_result.inactive.merged.random5000.annotated.rest_v1.coordinates.bed`"
   ]
  },
  {
   "cell_type": "code",
   "execution_count": null,
   "metadata": {},
   "outputs": [],
   "source": [
    "%%bash\n",
    "source /data/reddylab/software/miniconda3/bin/activate alex_py3\n",
    "sbatch \\\n",
    "    --exclude=dl-01 \\\n",
    "    --mem=128G \\\n",
    "    --cpus-per-task=16 \\\n",
    "    -o /data/reddylab/Revathy/collabs/Jamborees/fcc_capstone/logs/logscomputeMatrix.ASTARR_Lenti_wgSTARR.promoter_vs_distal.new_TFs.V1.out \\\n",
    "    <<'EOF'\n",
    "#!/bin/bash \n",
    "computeMatrix reference-point \\\n",
    "    --referencePoint center \\\n",
    "    --numberOfProcessors 16 \\\n",
    "    --binSize 10 \\\n",
    "    -S \\\n",
    "        /data/reddylab/Revathy/collabs/Jamborees/fcc_capstone/data/encode_data/K562.ENCFF173FZK.ZBTB33.bw \\\n",
    "        /data/reddylab/Revathy/collabs/Jamborees/fcc_capstone/data/encode_data/K562.ENCFF223WHH.NFYa.bw \\\n",
    "        /data/reddylab/Revathy/collabs/Jamborees/fcc_capstone/data/encode_data/K562.ENCFF335JJU.CREB.bw \\\n",
    "        /data/reddylab/Revathy/collabs/Jamborees/fcc_capstone/data/encode_data/K562.ENCFF533RNU.PU1.bw \\\n",
    "        /data/reddylab/Revathy/collabs/Jamborees/fcc_capstone/data/encode_data/K562.ENCFF719XTU.ZNF143.bw \\\n",
    "        /data/reddylab/Revathy/collabs/Jamborees/fcc_capstone/data/encode_data/K562.ENCFF834GYB.UA5.bw \\\n",
    "        /data/reddylab/Revathy/collabs/Jamborees/fcc_capstone/data/encode_data/K562.ENCFF992RXN.STAT1.bw \\\n",
    "    --samplesLabel \\\n",
    "        ZBTB33 \\\n",
    "        NFYa \\\n",
    "        CREB \\\n",
    "        PU1 \\\n",
    "        ZNF143 \\\n",
    "        UA5 \\\n",
    "        STAT1 \\\n",
    "    -R \\\n",
    "    /data/reddylab/Revathy/collabs/Jamborees/fcc_capstone/data/enhancer_call_annotation/V2/ASTARR_merged_enhancer_peaks_in_each_orientation.summits.random5000.annotated.promoter_v1.coordinates.bed \\\n",
    "    /data/reddylab/Revathy/collabs/Jamborees/fcc_capstone/data/enhancer_call_annotation/V2/ASTARR_bin_level_all_result.inactive.merged.random5000.annotated.promoter_v1.coordinates.bed \\\n",
    "    /data/reddylab/Revathy/collabs/Jamborees/fcc_capstone/data/enhancer_call_annotation/V2/lentiMPRA_merged_enhancer_peaks_in_either_orientation.summits.random5000.annotated.promoter_v1.coordinates.bed \\\n",
    "    /data/reddylab/Revathy/collabs/Jamborees/fcc_capstone/data/enhancer_call_annotation/V2/lentiMPRA_element_level_all_result.inactive.merged.random5000.annotated.promoter_v1.coordinates.bed \\\n",
    "    /data/reddylab/Revathy/collabs/Jamborees/fcc_capstone/data/enhancer_call_annotation/V2/wgSTARR_merged_enhancer_peaks_in_each_orientation.summits.random5000.annotated.promoter_v1.coordinates.bed \\\n",
    "    /data/reddylab/Revathy/collabs/Jamborees/fcc_capstone/data/enhancer_call_annotation/V2/wgSTARR_bin_level_all_result.inactive.merged.random5000.annotated.promoter_v1.coordinates.bed \\\n",
    "    /data/reddylab/Revathy/collabs/Jamborees/fcc_capstone/data/enhancer_call_annotation/V2/ASTARR_merged_enhancer_peaks_in_each_orientation.summits.random5000.annotated.rest_v1.coordinates.bed \\\n",
    "    /data/reddylab/Revathy/collabs/Jamborees/fcc_capstone/data/enhancer_call_annotation/V2/ASTARR_bin_level_all_result.inactive.merged.random5000.annotated.rest_v1.coordinates.bed \\\n",
    "    /data/reddylab/Revathy/collabs/Jamborees/fcc_capstone/data/enhancer_call_annotation/V2/lentiMPRA_merged_enhancer_peaks_in_either_orientation.summits.random5000.annotated.rest_v1.coordinates.bed \\\n",
    "    /data/reddylab/Revathy/collabs/Jamborees/fcc_capstone/data/enhancer_call_annotation/V2/lentiMPRA_element_level_all_result.inactive.merged.random5000.annotated.rest_v1.coordinates.bed \\\n",
    "    /data/reddylab/Revathy/collabs/Jamborees/fcc_capstone/data/enhancer_call_annotation/V2/wgSTARR_merged_enhancer_peaks_in_each_orientation.summits.random5000.annotated.rest_v1.coordinates.bed \\\n",
    "    /data/reddylab/Revathy/collabs/Jamborees/fcc_capstone/data/enhancer_call_annotation/V2/wgSTARR_bin_level_all_result.inactive.merged.random5000.annotated.rest_v1.coordinates.bed \\\n",
    "    --beforeRegionStartLength 2000 \\\n",
    "    --afterRegionStartLength 2000 \\\n",
    "    --skipZeros \\\n",
    "    -o /data/reddylab/Revathy/collabs/Jamborees/fcc_capstone/data/enhancer_call_comparison/10032022/ASTARR_Lenti_wgSTARR.promoter_vs_distal.new_TFs.V1.refpoint.mat.gz \\\n",
    "&& computeMatrixOperations dataRange \\\n",
    "    -m /data/reddylab/Revathy/collabs/Jamborees/fcc_capstone/data/enhancer_call_comparison/10032022/ASTARR_Lenti_wgSTARR.promoter_vs_distal.new_TFs.V1.refpoint.mat.gz\n",
    "\n",
    "EOF"
   ]
  },
  {
   "cell_type": "code",
   "execution_count": null,
   "metadata": {},
   "outputs": [],
   "source": [
    "from deeptools import heatmapper\n",
    "\n",
    "hm=heatmapper.heatmapper()\n",
    "hm.read_matrix_file('/data/reddylab/Revathy/collabs/Jamborees/fcc_capstone/data/enhancer_call_comparison/10032022/ASTARR_Lenti_wgSTARR.promoter_vs_distal.new_TFs.V1.refpoint.mat.gz')\n",
    "\n",
    "print(hm.__dict__['parameters']['group_boundaries'])"
   ]
  },
  {
   "cell_type": "code",
   "execution_count": null,
   "metadata": {},
   "outputs": [],
   "source": [
    "import pandas as pd\n",
    "import numpy as np\n",
    "from numpy import trapz\n",
    "from deeptools import heatmapper\n",
    "import seaborn as sns\n",
    "import matplotlib.pyplot as plt\n",
    "\n",
    "sns.set_context(\"talk\")\n",
    "sns.set_style(\"whitegrid\")\n",
    "sns.set_style(\"ticks\", {\"xtick.major.size\": 8, \"ytick.major.size\": 8})\n",
    "\n",
    "hm=heatmapper.heatmapper()\n",
    "hm.read_matrix_file('/data/reddylab/Revathy/collabs/Jamborees/fcc_capstone/data/enhancer_call_comparison/10032022/ASTARR_Lenti_wgSTARR.promoter_vs_distal.new_TFs.V1.refpoint.mat.gz')\n",
    "\n",
    "\n",
    "# ChIP_ASTARR=[]\n",
    "# ChIP_Lenti=[]\n",
    "# ChIP_wgSTARR=[]\n",
    "\n",
    "AUC_ASTARRp=[]\n",
    "AUC_ASTARRd=[]\n",
    "AUC_Lentip=[]\n",
    "AUC_Lentid=[]\n",
    "AUC_wgSTARRp=[]\n",
    "AUC_wgSTARRd=[]\n",
    "\n",
    "label=hm.__dict__['parameters']['sample_labels']\n",
    "\n",
    "for ii in range(len(label)):\n",
    "    \n",
    "    max_val_ASTARRp=np.max(hm.matrix.matrix[:1440, ((ii)*400)+150:((ii+1)*400)-150], axis=0)\n",
    "    pseudo_count_ASTARRp=np.percentile(max_val_ASTARRp,10)\n",
    "    logFC_ASTARRp=np.log2((np.nanmean(hm.matrix.matrix[:1440, ((ii)*400)+150:((ii+1)*400)-150]+pseudo_count_ASTARRp, axis=0))/\n",
    "                       (np.nanmean(hm.matrix.matrix[1440:3167, ((ii)*400)+150:((ii+1)*400)-150]+pseudo_count_ASTARRp, axis=0)))\n",
    "    AUC_ASTARRp.append(trapz(logFC_ASTARRp, dx=10))\n",
    "\n",
    "    max_val_Lentip=np.max(hm.matrix.matrix[3167:4468, ((ii)*400)+150:((ii+1)*400)-150], axis=0)\n",
    "    pseudo_count_Lentip=np.percentile(max_val_Lentip,10)\n",
    "    logFC_Lentip=np.log2((np.nanmean(hm.matrix.matrix[3167:4468, ((ii)*400)+150:((ii+1)*400)-150]+pseudo_count_Lentip, axis=0))/\n",
    "                       (np.nanmean(hm.matrix.matrix[4468:5548, ((ii)*400)+150:((ii+1)*400)-150]+pseudo_count_Lentip, axis=0)))\n",
    "    AUC_Lentip.append(trapz(logFC_Lentip, dx=10))\n",
    "\n",
    "    max_val_wgSTARRp=np.max(hm.matrix.matrix[5548:6825, ((ii)*400)+150:((ii+1)*400)-150], axis=0)\n",
    "    pseudo_count_wgSTARRp=np.percentile(max_val_wgSTARRp,10)\n",
    "    logFC_wgSTARRp=np.log2((np.nanmean(hm.matrix.matrix[5548:6825, ((ii)*400)+150:((ii+1)*400)-150]+pseudo_count_wgSTARRp, axis=0))/\n",
    "                       (np.nanmean(hm.matrix.matrix[6825:7757, ((ii)*400)+150:((ii+1)*400)-150]+pseudo_count_wgSTARRp, axis=0)))\n",
    "    AUC_wgSTARRp.append(trapz(logFC_wgSTARRp, dx=10))\n",
    "    \n",
    "    max_val_ASTARRd=np.max(hm.matrix.matrix[7757:11317, ((ii)*400)+150:((ii+1)*400)-150], axis=0)\n",
    "    pseudo_count_ASTARRd=np.percentile(max_val_ASTARRd,10)\n",
    "    logFC_ASTARRd=np.log2((np.nanmean(hm.matrix.matrix[7757:11317, ((ii)*400)+150:((ii+1)*400)-150]+pseudo_count_ASTARRd, axis=0))/\n",
    "                       (np.nanmean(hm.matrix.matrix[11317:14585, ((ii)*400)+150:((ii+1)*400)-150]+pseudo_count_ASTARRd, axis=0)))\n",
    "    AUC_ASTARRd.append(trapz(logFC_ASTARRd, dx=10))\n",
    "        \n",
    "    max_val_Lentid=np.max(hm.matrix.matrix[14585:18284, ((ii)*400)+150:((ii+1)*400)-150], axis=0)\n",
    "    pseudo_count_Lentid=np.percentile(max_val_Lentid,10)\n",
    "    logFC_Lentid=np.log2((np.nanmean(hm.matrix.matrix[14585:18284, ((ii)*400)+150:((ii+1)*400)-150]+pseudo_count_Lentid, axis=0))/\n",
    "                       (np.nanmean(hm.matrix.matrix[18284:22202, ((ii)*400)+150:((ii+1)*400)-150]+pseudo_count_Lentid, axis=0)))\n",
    "    AUC_Lentid.append(trapz(logFC_Lentid, dx=10))\n",
    "    \n",
    "    max_val_wgSTARRd=np.max(hm.matrix.matrix[22202:25925, ((ii)*400)+150:((ii+1)*400)-150], axis=0)\n",
    "    pseudo_count_wgSTARRd=np.percentile(max_val_wgSTARRd,10)\n",
    "    logFC_wgSTARRd=np.log2((np.nanmean(hm.matrix.matrix[22202:25925, ((ii)*400)+150:((ii+1)*400)-150]+pseudo_count_wgSTARRd, axis=0))/\n",
    "                       (np.nanmean(hm.matrix.matrix[25925:, ((ii)*400)+150:((ii+1)*400)-150]+pseudo_count_wgSTARRd, axis=0)))\n",
    "    AUC_wgSTARRd.append(trapz(logFC_wgSTARRd, dx=10))\n",
    "\n",
    "DF_ASTARR = pd.DataFrame(np.column_stack([label, AUC_ASTARRp, AUC_ASTARRd]), columns=['Label', 'ASTARR_Promoter', 'ASTARR_Distal'])\n",
    "DF_Lenti = pd.DataFrame(np.column_stack([label, AUC_Lentip, AUC_Lentid]), columns=['Label', 'Lenti_Promoter', 'Lenti_Distal'])\n",
    "DF_wgSTARR = pd.DataFrame(np.column_stack([label, AUC_wgSTARRp, AUC_wgSTARRd]), columns=['Label', 'wgSTARR_Promoter', 'wgSTARR_Distal'])\n",
    "\n",
    "DF_ASTARR[['ASTARR_Promoter','ASTARR_Distal']]=DF_ASTARR[['ASTARR_Promoter','ASTARR_Distal']].apply(pd.to_numeric, errors='coerce', axis=1)\n",
    "DF_Lenti[['Lenti_Promoter','Lenti_Distal']]=DF_Lenti[['Lenti_Promoter','Lenti_Distal']].apply(pd.to_numeric, errors='coerce', axis=1) \n",
    "DF_wgSTARR[['wgSTARR_Promoter','wgSTARR_Distal']]=DF_wgSTARR[['wgSTARR_Promoter','wgSTARR_Distal']].apply(pd.to_numeric, errors='coerce', axis=1)\n",
    "\n",
    "DF = DF_ASTARR.merge(DF_Lenti, on='Label', how='inner').merge(DF_wgSTARR, on='Label', how='inner')\n",
    "\n",
    "DF = DF.set_index('Label')\n",
    "DF = DF.fillna(0)\n",
    "sns.clustermap(DF.loc[:, ['ASTARR_Promoter','Lenti_Promoter','wgSTARR_Promoter','ASTARR_Distal','Lenti_Distal','wgSTARR_Distal']],\n",
    "               method='median',\n",
    "               figsize=[8,10],\n",
    "               vmin=-100,\n",
    "               vmax=100,\n",
    "               cmap='seismic_r',\n",
    "               col_cluster= False, \n",
    "               cbar_pos=(0.02, 0.8, 0.05, 0.18))\n",
    "\n",
    "DF.reset_index().to_csv('data/enhancer_call_comparison/bubble_plots/ASTARR_Lenti_wgSTARR.Promoter_Distal.AUC_summary_heatmaps.signal_table.new_TFs.txt', sep='\\t', index=False)\n",
    "plt.savefig('data/enhancer_call_comparison/bubble_plots/ASTARR_Lenti_wgSTARR.Promoter_Distal.AUC_summary_heatmaps.new_TFs.V1.png')"
   ]
  },
  {
   "cell_type": "code",
   "execution_count": null,
   "metadata": {},
   "outputs": [],
   "source": [
    "from IPython.display import Image\n",
    "Image(\"/data/reddylab/Revathy/collabs/Jamborees/fcc_capstone/data/enhancer_call_comparison/bubble_plots/ASTARR_Lenti_wgSTARR.Promoter_Distal.AUC_summary_heatmaps.new_TFs.V1.png\")\n"
   ]
  },
  {
   "cell_type": "markdown",
   "metadata": {},
   "source": [
    "### Scatterplots with Dustin's sequence feature analysis"
   ]
  },
  {
   "cell_type": "code",
   "execution_count": null,
   "metadata": {},
   "outputs": [],
   "source": [
    "import warnings\n",
    "import pandas as pd\n",
    "from pandas.core.common import SettingWithCopyWarning\n",
    "warnings.simplefilter(action=\"ignore\", category=SettingWithCopyWarning)\n",
    "\n",
    "\n",
    "seq_feature = pd.read_csv('/data/reddylab/Revathy/collabs/Jamborees/fcc_capstone/data/FCC_fig2.txt', sep='\\t')\n",
    "seq_feature.rename(columns={'TF':'Label','dASTARR p':'ASTARR_Promoter','dASTARR p.1':'ASTARR_Distal',\n",
    "                            'lenMPRA p':'Lenti_Promoter','lenMPRA e':'Lenti_Distal','wgSTARR p':'wgSTARR_Promoter',\n",
    "                            'wgSTARR e':'wgSTARR_Distal'}, inplace=True)\n",
    "seq_feature_subset = seq_feature[['Label','ASTARR_Promoter','ASTARR_Distal','Lenti_Promoter','Lenti_Distal','wgSTARR_Promoter','wgSTARR_Distal']]\n",
    "seq_feature_subset['Label'][2] = 'GATA1'\n",
    "seq_feature_subset['Label'][1] = 'NFE2'\n",
    "seq_feature_subset['Label'][5] = 'SP1'\n",
    "seq_feature_subset['Label'][11] = 'KLF10'\n",
    "seq_feature_subset['Label'][16] = 'ATF1'\n",
    "seq_feature_subset['Label'][0] = 'JUN'\n",
    "seq_feature_subset['Label'][4] = 'ELK1'\n",
    "seq_feature_subset['Label'][12] = 'NFYa'\n",
    "seq_feature_subset['Label'][13] = 'PU1'\n",
    "seq_feature_subset['Label'][14] = 'STAT1'\n",
    "seq_feature_subset_list = list(seq_feature_subset['Label'])\n"
   ]
  },
  {
   "cell_type": "code",
   "execution_count": null,
   "metadata": {},
   "outputs": [],
   "source": [
    "seq_feature_subset"
   ]
  },
  {
   "cell_type": "code",
   "execution_count": null,
   "metadata": {},
   "outputs": [],
   "source": [
    "gen_context_1 = pd.read_csv('/data/reddylab/Revathy/collabs/Jamborees/fcc_capstone/data/enhancer_call_comparison/bubble_plots/ASTARR_Lenti_wgSTARR.Promoter_Distal.AUC_summary_heatmaps.signal_table.txt', sep='\\t')\n",
    "gen_context_2 = pd.read_csv('/data/reddylab/Revathy/collabs/Jamborees/fcc_capstone/data/enhancer_call_comparison/bubble_plots/ASTARR_Lenti_wgSTARR.Promoter_Distal.AUC_summary_heatmaps.signal_table.new_TFs.txt', sep='\\t')\n",
    "\n",
    "gen_context = pd.concat([gen_context_1, gen_context_2], axis=0, ignore_index=True)\n",
    "\n",
    "for col in ['ASTARR_Promoter', 'ASTARR_Distal', 'Lenti_Promoter','Lenti_Distal', 'wgSTARR_Promoter', 'wgSTARR_Distal']:\n",
    "    gen_context[col]=(gen_context[col]-min(gen_context[col]))/(max(gen_context[col])-min(gen_context[col]))\n",
    "gen_context_sub = gen_context[gen_context['Label'].isin(seq_feature_subset_list)]\n",
    "gen_context_sub.Label"
   ]
  },
  {
   "cell_type": "code",
   "execution_count": null,
   "metadata": {},
   "outputs": [],
   "source": [
    "merged = gen_context.merge(seq_feature_subset, on='Label', how='inner')\n",
    "merged"
   ]
  },
  {
   "cell_type": "code",
   "execution_count": null,
   "metadata": {},
   "outputs": [],
   "source": [
    "print(merged['ASTARR_Promoter_x'].corr(merged['ASTARR_Promoter_y']))\n",
    "print(merged['ASTARR_Distal_x'].corr(merged['ASTARR_Distal_y']))\n",
    "print(merged['Lenti_Promoter_x'].corr(merged['Lenti_Promoter_y']))\n",
    "print(merged['Lenti_Distal_x'].corr(merged['Lenti_Distal_y']))\n",
    "print(merged['wgSTARR_Promoter_x'].corr(merged['wgSTARR_Promoter_y']))\n",
    "print(merged['wgSTARR_Distal_x'].corr(merged['wgSTARR_Distal_y']))"
   ]
  },
  {
   "cell_type": "code",
   "execution_count": null,
   "metadata": {},
   "outputs": [],
   "source": [
    "import seaborn as sns\n",
    "from matplotlib import pyplot as plt\n",
    "import scipy as sp\n",
    "sns.set_context(\"talk\")\n",
    "sns.set_style(\"whitegrid\")\n",
    "sns.set_style(\"ticks\", {\"xtick.major.size\": 8, \"ytick.major.size\": 8})\n",
    "\n",
    "assays=['ASTARR','Lenti','wgSTARR']\n",
    "\n",
    "\n",
    "for assay in assays:\n",
    "    x_val='%s_Promoter_x'%assay\n",
    "    y_val='%s_Promoter_y'%assay\n",
    "    \n",
    "    fig, ax = plt.subplots(figsize=[5,5])\n",
    "    sns.scatterplot(data=merged, x=x_val, y=y_val, hue='Label', palette='tab20')\n",
    "    \n",
    "    lgnd = plt.legend(bbox_to_anchor=(1.5, 1), frameon=False, markerscale=1)\n",
    "    plt.xlabel('Genomic_context')\n",
    "    plt.ylabel('Sequence_models')\n",
    "    plt.title('%s_Promoter'%assay)\n",
    "    sns.despine()\n",
    "    plt.show()\n"
   ]
  },
  {
   "cell_type": "code",
   "execution_count": null,
   "metadata": {},
   "outputs": [],
   "source": [
    "import seaborn as sns\n",
    "from matplotlib import pyplot as plt\n",
    "\n",
    "sns.set_context(\"talk\")\n",
    "sns.set_style(\"whitegrid\")\n",
    "sns.set_style(\"ticks\", {\"xtick.major.size\": 8, \"ytick.major.size\": 8})\n",
    "\n",
    "assays=['ASTARR','Lenti','wgSTARR']\n",
    "\n",
    "\n",
    "for assay in assays:\n",
    "    x_val='%s_Distal_x'%assay\n",
    "    y_val='%s_Distal_y'%assay\n",
    "    \n",
    "    fig, ax = plt.subplots(figsize=[5,5])\n",
    "    sns.scatterplot(data=merged, x=x_val, y=y_val, hue='Label', palette='tab20')\n",
    "    \n",
    "    lgnd = plt.legend(bbox_to_anchor=(1.5, 1), frameon=False, markerscale=1)\n",
    "    plt.xlabel('Genomic_context')\n",
    "    plt.ylabel('Sequence_models')\n",
    "    plt.title('%s_Distal'%assay)\n",
    "    sns.despine()\n",
    "    plt.show()\n",
    "# plt.savefig('/data/reddylab/Revathy/collabs/Jamborees/fcc_capstone/data/enhancer_call_comparison/bubble_plots/ASTARR_Lenti_wgSTARR.Distal.Seq_vs_Genomic.png')"
   ]
  },
  {
   "cell_type": "code",
   "execution_count": null,
   "metadata": {},
   "outputs": [],
   "source": [
    "import numpy as np\n",
    "import pandas as pd\n",
    "import matplotlib.pyplot as plt\n",
    "from matplotlib import patches as mpatches\n",
    "import seaborn as sns\n",
    "from palettable.cartocolors.qualitative import Bold_10, Vivid_10_r\n",
    "from matplotlib import markers\n",
    "%matplotlib inline\n",
    "\n",
    "from scipy.stats import pearsonr, spearmanr\n",
    "\n",
    "def corrfunc(x,y, ax=None, **kws):\n",
    "    \"\"\"Plot the correlation coefficient in the top left hand corner of a plot.\"\"\"\n",
    "    r, _ = pearsonr(x, y)\n",
    "    ax = ax or plt.gca()\n",
    "    # Unicode for lowercase rho (ρ)\n",
    "    rho = \"\\u03C1\" # u'\\u03C1'\n",
    "    ax.annotate('%s = %.2f' % (rho, r), xy=(0.9,1), xycoords=ax.transAxes)\n",
    "\n",
    "sns.set_context(\"talk\")\n",
    "sns.set_style(\"whitegrid\")\n",
    "sns.set_style(\"ticks\", {\"xtick.major.size\": 8, \"ytick.major.size\": 8})\n",
    "\n",
    "fig, ax = plt.subplots(3, 2, figsize=(9,12), sharex=True, sharey=True)\n",
    "\n",
    "for i,col in enumerate(labels):  \n",
    "    gen_context_sub[col]\n",
    "    axi = ax.flatten()[i]\n",
    "    axi.scatter(gen_context_sub[col],seq_feature_subset[col], marker='o', s=50, \n",
    "                c=(Bold_10.hex_colors+Vivid_10_r.hex_colors)[:17])\n",
    "    cor = gen_context_sub[col].corr(seq_feature_subset[col])\n",
    "    \n",
    "    axi.set_xlim(axi.get_xlim())\n",
    "    axi.set_ylim(axi.get_ylim())\n",
    "    axi.set_title('%s, Corr. = %.2f'%(col, cor))\n",
    "    fig.tight_layout()\n",
    "     \n",
    "        \n",
    "# for i in range(1,len(seq_feature_subset['Label'])):\n",
    "#     lgnd = plt.legend(seq_feature_subset['Label'][i], bbox_to_anchor=(1.5, 1), frameon=False, markerscale=2)\n",
    "\n",
    "fig.text(0.5, 0.01, 'Genomic Context', ha='center')\n",
    "fig.text(0.005, 0.5, 'Sequence Features', va='center', rotation='vertical')\n",
    "fig.subplots_adjust(top=0.95)\n",
    "sns.despine()\n",
    "plt.show()\n"
   ]
  },
  {
   "cell_type": "code",
   "execution_count": null,
   "metadata": {},
   "outputs": [],
   "source": [
    "len((Bold_10.hex_colors+Vivid_10_r.hex_colors)[:17])\n"
   ]
  },
  {
   "cell_type": "code",
   "execution_count": null,
   "metadata": {},
   "outputs": [],
   "source": [
    "seq_feature_subset['ASTARR_Promoter'].corr(gen_context_sub['ASTARR_Promoter'])"
   ]
  },
  {
   "cell_type": "code",
   "execution_count": null,
   "metadata": {},
   "outputs": [],
   "source": [
    "gen_context_sub['ASTARR_Promoter']"
   ]
  },
  {
   "cell_type": "code",
   "execution_count": null,
   "metadata": {},
   "outputs": [],
   "source": [
    "sns.color_palette(\"tab20\")\n"
   ]
  },
  {
   "cell_type": "code",
   "execution_count": null,
   "metadata": {},
   "outputs": [],
   "source": []
  },
  {
   "cell_type": "markdown",
   "metadata": {},
   "source": [
    "## Subset with coordinates from Dustin"
   ]
  },
  {
   "cell_type": "code",
   "execution_count": null,
   "metadata": {},
   "outputs": [],
   "source": [
    "!ls /data/reddylab/Revathy/collabs/Jamborees/fcc_capstone/data/Dustin_seq_features/"
   ]
  },
  {
   "cell_type": "markdown",
   "metadata": {},
   "source": [
    "Coordinate files:\n",
    "    /data/reddylab/Revathy/collabs/Jamborees/fcc_capstone/data/enhancer_call_annotation/V2/ASTARR_merged_enhancer_peaks_in_each_orientation.summits.random5000.annotated.promoter_v1.coordinates.bed \\\n",
    "    /data/reddylab/Revathy/collabs/Jamborees/fcc_capstone/data/enhancer_call_annotation/V2/ASTARR_bin_level_all_result.inactive.merged.random5000.annotated.promoter_v1.coordinates.bed \\\n",
    "    /data/reddylab/Revathy/collabs/Jamborees/fcc_capstone/data/enhancer_call_annotation/V2/lentiMPRA_merged_enhancer_peaks_in_either_orientation.summits.random5000.annotated.promoter_v1.coordinates.bed \\\n",
    "    /data/reddylab/Revathy/collabs/Jamborees/fcc_capstone/data/enhancer_call_annotation/V2/lentiMPRA_element_level_all_result.inactive.merged.random5000.annotated.promoter_v1.coordinates.bed \\\n",
    "    /data/reddylab/Revathy/collabs/Jamborees/fcc_capstone/data/enhancer_call_annotation/V2/wgSTARR_merged_enhancer_peaks_in_each_orientation.summits.random5000.annotated.promoter_v1.coordinates.bed \\\n",
    "    /data/reddylab/Revathy/collabs/Jamborees/fcc_capstone/data/enhancer_call_annotation/V2/wgSTARR_bin_level_all_result.inactive.merged.random5000.annotated.promoter_v1.coordinates.bed \\\n",
    "    /data/reddylab/Revathy/collabs/Jamborees/fcc_capstone/data/enhancer_call_annotation/V2/ASTARR_merged_enhancer_peaks_in_each_orientation.summits.random5000.annotated.rest_v1.coordinates.bed \\\n",
    "    /data/reddylab/Revathy/collabs/Jamborees/fcc_capstone/data/enhancer_call_annotation/V2/ASTARR_bin_level_all_result.inactive.merged.random5000.annotated.rest_v1.coordinates.bed \\\n",
    "    /data/reddylab/Revathy/collabs/Jamborees/fcc_capstone/data/enhancer_call_annotation/V2/lentiMPRA_merged_enhancer_peaks_in_either_orientation.summits.random5000.annotated.rest_v1.coordinates.bed \\\n",
    "    /data/reddylab/Revathy/collabs/Jamborees/fcc_capstone/data/enhancer_call_annotation/V2/lentiMPRA_element_level_all_result.inactive.merged.random5000.annotated.rest_v1.coordinates.bed \\\n",
    "    /data/reddylab/Revathy/collabs/Jamborees/fcc_capstone/data/enhancer_call_annotation/V2/wgSTARR_merged_enhancer_peaks_in_each_orientation.summits.random5000.annotated.rest_v1.coordinates.bed \\\n",
    "    /data/reddylab/Revathy/collabs/Jamborees/fcc_capstone/data/enhancer_call_annotation/V2/wgSTARR_bin_level_all_result.inactive.merged.random5000.annotated.rest_v1.coordinates.bed \\"
   ]
  },
  {
   "cell_type": "code",
   "execution_count": null,
   "metadata": {},
   "outputs": [],
   "source": [
    "%%bash\n",
    "mkdir -p /data/reddylab/Revathy/collabs/Jamborees/fcc_capstone/data/Dustin_seq_features/intersected\n",
    "module load bedtools2\n",
    "bedtools intersect \\\n",
    "-a /data/reddylab/Revathy/collabs/Jamborees/fcc_capstone/data/enhancer_call_annotation/V2/ASTARR_merged_enhancer_peaks_in_each_orientation.summits.random5000.annotated.promoter_v1.coordinates.bed \\\n",
    "-b /data/reddylab/Revathy/collabs/Jamborees/fcc_capstone/data/Dustin_seq_features/dATAC_cen_merged_ind_up_peaks_inter_hg38_300_proms_top1k.bed \\\n",
    "> /data/reddylab/Revathy/collabs/Jamborees/fcc_capstone/data/Dustin_seq_features/intersected/ASTARR_intersected.promoters.active.bed\n",
    "\n",
    "bedtools intersect \\\n",
    "-a /data/reddylab/Revathy/collabs/Jamborees/fcc_capstone/data/enhancer_call_annotation/V2/ASTARR_bin_level_all_result.inactive.merged.random5000.annotated.promoter_v1.coordinates.bed \\\n",
    "-b /data/reddylab/Revathy/collabs/Jamborees/fcc_capstone/data/Dustin_seq_features/neg1x_dATAC_cen_merged_ind_up_peaks_inter_hg38_300_proms_top1k.bed \\\n",
    "> /data/reddylab/Revathy/collabs/Jamborees/fcc_capstone/data/Dustin_seq_features/intersected/ASTARR_intersected.promoters.inactive.bed\n",
    "\n",
    "bedtools intersect \\\n",
    "-a /data/reddylab/Revathy/collabs/Jamborees/fcc_capstone/data/enhancer_call_annotation/V2/ASTARR_merged_enhancer_peaks_in_each_orientation.summits.random5000.annotated.rest_v1.coordinates.bed \\\n",
    "-b /data/reddylab/Revathy/collabs/Jamborees/fcc_capstone/data/Dustin_seq_features/dATAC_cen_merged_ind_up_peaks_inter_hg38_300_noproms_top1k.bed \\\n",
    "> /data/reddylab/Revathy/collabs/Jamborees/fcc_capstone/data/Dustin_seq_features/intersected/ASTARR_intersected.distal.active.bed\n",
    "\n",
    "bedtools intersect \\\n",
    "-a /data/reddylab/Revathy/collabs/Jamborees/fcc_capstone/data/enhancer_call_annotation/V2/ASTARR_bin_level_all_result.inactive.merged.random5000.annotated.rest_v1.coordinates.bed \\\n",
    "-b /data/reddylab/Revathy/collabs/Jamborees/fcc_capstone/data/Dustin_seq_features/neg1x_dATAC_cen_merged_ind_up_peaks_inter_hg38_300_noproms_top1k.bed \\\n",
    "> /data/reddylab/Revathy/collabs/Jamborees/fcc_capstone/data/Dustin_seq_features/intersected/ASTARR_intersected.distal.inactive.bed"
   ]
  },
  {
   "cell_type": "code",
   "execution_count": null,
   "metadata": {},
   "outputs": [],
   "source": [
    "%%bash\n",
    "module load bedtools2\n",
    "bedtools intersect \\\n",
    "-a /data/reddylab/Revathy/collabs/Jamborees/fcc_capstone/data/enhancer_call_annotation/V2/lentiMPRA_merged_enhancer_peaks_in_either_orientation.summits.random5000.annotated.promoter_v1.coordinates.bed \\\n",
    "-b /data/reddylab/Revathy/collabs/Jamborees/fcc_capstone/data/Dustin_seq_features/K562_lentiMPRA_up_hg38_avg_proms_top1k.bed \\\n",
    "> /data/reddylab/Revathy/collabs/Jamborees/fcc_capstone/data/Dustin_seq_features/intersected/LentiMPRA_intersected.promoters.active.bed\n",
    "\n",
    "bedtools intersect \\\n",
    "-a /data/reddylab/Revathy/collabs/Jamborees/fcc_capstone/data/enhancer_call_annotation/V2/lentiMPRA_element_level_all_result.inactive.merged.random5000.annotated.promoter_v1.coordinates.bed \\\n",
    "-b /data/reddylab/Revathy/collabs/Jamborees/fcc_capstone/data/Dustin_seq_features/neg1x_K562_lentiMPRA_up_hg38_avg_proms_top1k.bed \\\n",
    "> /data/reddylab/Revathy/collabs/Jamborees/fcc_capstone/data/Dustin_seq_features/intersected/LentiMPRA_intersected.promoters.inactive.bed\n",
    "\n",
    "bedtools intersect \\\n",
    "-a /data/reddylab/Revathy/collabs/Jamborees/fcc_capstone/data/enhancer_call_annotation/V2/lentiMPRA_merged_enhancer_peaks_in_either_orientation.summits.random5000.annotated.rest_v1.coordinates.bed \\\n",
    "-b /data/reddylab/Revathy/collabs/Jamborees/fcc_capstone/data/Dustin_seq_features/K562_lentiMPRA_up_hg38_avg_noproms_top1k.bed \\\n",
    "> /data/reddylab/Revathy/collabs/Jamborees/fcc_capstone/data/Dustin_seq_features/intersected/LentiMPRA_intersected.distal.active.bed\n",
    "\n",
    "bedtools intersect \\\n",
    "-a /data/reddylab/Revathy/collabs/Jamborees/fcc_capstone/data/enhancer_call_annotation/V2/lentiMPRA_element_level_all_result.inactive.merged.random5000.annotated.rest_v1.coordinates.bed \\\n",
    "-b /data/reddylab/Revathy/collabs/Jamborees/fcc_capstone/data/Dustin_seq_features/neg1x_K562_lentiMPRA_up_hg38_avg_noproms_top1k.bed \\\n",
    "> /data/reddylab/Revathy/collabs/Jamborees/fcc_capstone/data/Dustin_seq_features/intersected/LentiMPRA_intersected.distal.inactive.bed\n",
    "\n",
    "bedtools intersect \\\n",
    "-a /data/reddylab/Revathy/collabs/Jamborees/fcc_capstone/data/enhancer_call_annotation/V2/wgSTARR_merged_enhancer_peaks_in_each_orientation.summits.random5000.annotated.promoter_v1.coordinates.bed \\\n",
    "-b /data/reddylab/Revathy/collabs/Jamborees/fcc_capstone/data/Dustin_seq_features/WG_TR_cen_merged_ind_up_peaks_hg38_300_proms_top1k.bed \\\n",
    "> /data/reddylab/Revathy/collabs/Jamborees/fcc_capstone/data/Dustin_seq_features/intersected/wgSTARR_intersected.promoters.active.bed\n",
    "\n",
    "bedtools intersect \\\n",
    "-a /data/reddylab/Revathy/collabs/Jamborees/fcc_capstone/data/enhancer_call_annotation/V2/wgSTARR_bin_level_all_result.inactive.merged.random5000.annotated.promoter_v1.coordinates.bed \\\n",
    "-b /data/reddylab/Revathy/collabs/Jamborees/fcc_capstone/data/Dustin_seq_features/neg1x_WG_TR_cen_merged_ind_up_peaks_hg38_300_proms_top1k.bed \\\n",
    "> /data/reddylab/Revathy/collabs/Jamborees/fcc_capstone/data/Dustin_seq_features/intersected/wgSTARR_intersected.promoters.inactive.bed\n",
    "\n",
    "bedtools intersect \\\n",
    "-a /data/reddylab/Revathy/collabs/Jamborees/fcc_capstone/data/enhancer_call_annotation/V2/wgSTARR_merged_enhancer_peaks_in_each_orientation.summits.random5000.annotated.rest_v1.coordinates.bed \\\n",
    "-b /data/reddylab/Revathy/collabs/Jamborees/fcc_capstone/data/Dustin_seq_features/WG_TR_cen_merged_ind_up_peaks_hg38_300_noproms_top1k.bed \\\n",
    "> /data/reddylab/Revathy/collabs/Jamborees/fcc_capstone/data/Dustin_seq_features/intersected/wgSTARR_intersected.distal.active.bed\n",
    "\n",
    "bedtools intersect \\\n",
    "-a /data/reddylab/Revathy/collabs/Jamborees/fcc_capstone/data/enhancer_call_annotation/V2/wgSTARR_bin_level_all_result.inactive.merged.random5000.annotated.rest_v1.coordinates.bed \\\n",
    "-b /data/reddylab/Revathy/collabs/Jamborees/fcc_capstone/data/Dustin_seq_features/neg1x_WG_TR_cen_merged_ind_up_peaks_hg38_300_noproms_top1k.bed \\\n",
    "> /data/reddylab/Revathy/collabs/Jamborees/fcc_capstone/data/Dustin_seq_features/intersected/wgSTARR_intersected.distal.inactive.bed"
   ]
  },
  {
   "cell_type": "code",
   "execution_count": null,
   "metadata": {},
   "outputs": [],
   "source": [
    "!wc -l /data/reddylab/Revathy/collabs/Jamborees/fcc_capstone/data/Dustin_seq_features/neg1x_WG_TR_cen_merged_ind_up_peaks_hg38_300_noproms_top1k.bed"
   ]
  },
  {
   "cell_type": "code",
   "execution_count": null,
   "metadata": {},
   "outputs": [],
   "source": [
    "!wc -l /data/reddylab/Revathy/collabs/Jamborees/fcc_capstone/data/Dustin_seq_features/intersected/*.bed"
   ]
  },
  {
   "cell_type": "code",
   "execution_count": null,
   "metadata": {},
   "outputs": [],
   "source": [
    "!ls -la /data/reddylab/Revathy/collabs/Jamborees/fcc_capstone/data/Dustin_seq_features/intersected/wgSTARR_intersected.distal.active.bed"
   ]
  },
  {
   "cell_type": "code",
   "execution_count": null,
   "metadata": {},
   "outputs": [],
   "source": [
    "!ls /data/reddylab/Revathy/collabs/Jamborees/fcc_capstone/data/Dustin_seq_features/intersected/*distal*.bed"
   ]
  },
  {
   "cell_type": "code",
   "execution_count": null,
   "metadata": {},
   "outputs": [],
   "source": [
    "%%bash\n",
    "source /data/reddylab/software/miniconda3/bin/activate alex_py3\n",
    "sbatch \\\n",
    "    --exclude=dl-01 \\\n",
    "    --mem=128G \\\n",
    "    --cpus-per-task=16 \\\n",
    "    -o /data/reddylab/Revathy/collabs/Jamborees/fcc_capstone/logs/logscomputeMatrix.ASTARR_Lenti_wgSTARR.promoter_vs_distal.dustin_seq_feature.V1.out \\\n",
    "    <<'EOF'\n",
    "#!/bin/bash \n",
    "computeMatrix reference-point \\\n",
    "    --referencePoint center \\\n",
    "    --numberOfProcessors 16 \\\n",
    "    --binSize 10 \\\n",
    "    -S \\\n",
    "        /data/reddylab/Alex/encode4_duke/ipynbs/jamborees/20211206_MPRA_STARR_Jamboree/data/encode_data/K562.ENCFF756UVW.JUN.bw \\\n",
    "        /data/reddylab/Alex/encode4_duke/ipynbs/jamborees/20211206_MPRA_STARR_Jamboree/data/encode_data/K562.ENCFF336UPT.CTCF.bw \\\n",
    "        /data/reddylab/Revathy/collabs/Jamborees/fcc_capstone/data/encode_data/K562.ENCFF475BKW.SP1.bw \\\n",
    "        /data/reddylab/Alex/encode4_duke/ipynbs/jamborees/20211206_MPRA_STARR_Jamboree/data/encode_data/K562.ENCFF262TFX.ELK1.bw \\\n",
    "        /data/reddylab/Alex/encode4_duke/ipynbs/jamborees/20211206_MPRA_STARR_Jamboree/data/encode_data/K562.ENCFF590LGA.NRF1.bw \\\n",
    "        /data/reddylab/Revathy/collabs/Jamborees/fcc_capstone/data/encode_data/K562.ENCFF331URE.GATA1.bw \\\n",
    "        /data/reddylab/Alex/encode4_duke/ipynbs/jamborees/20211206_MPRA_STARR_Jamboree/data/encode_data/K562.ENCFF398LBP.NFE2.bw \\\n",
    "        /data/reddylab/Alex/encode4_duke/ipynbs/jamborees/20211206_MPRA_STARR_Jamboree/data/encode_data/K562.ENCFF750TBY.KLF10.bw \\\n",
    "        /data/reddylab/Revathy/collabs/Jamborees/fcc_capstone/data/encode_data/K562.ENCFF927TDC.YY1.bw \\\n",
    "        /data/reddylab/Alex/encode4_duke/ipynbs/jamborees/20211206_MPRA_STARR_Jamboree/data/encode_data/K562.ENCFF199FSE.ATF1.bw \\\n",
    "        /data/reddylab/Revathy/collabs/Jamborees/fcc_capstone/data/encode_data/K562.ENCFF173FZK.ZBTB33.bw \\\n",
    "        /data/reddylab/Revathy/collabs/Jamborees/fcc_capstone/data/encode_data/K562.ENCFF223WHH.NFYa.bw \\\n",
    "        /data/reddylab/Revathy/collabs/Jamborees/fcc_capstone/data/encode_data/K562.ENCFF335JJU.CREB.bw \\\n",
    "        /data/reddylab/Revathy/collabs/Jamborees/fcc_capstone/data/encode_data/K562.ENCFF533RNU.PU1.bw \\\n",
    "        /data/reddylab/Revathy/collabs/Jamborees/fcc_capstone/data/encode_data/K562.ENCFF719XTU.ZNF143.bw \\\n",
    "        /data/reddylab/Revathy/collabs/Jamborees/fcc_capstone/data/encode_data/K562.ENCFF834GYB.UA5.bw \\\n",
    "        /data/reddylab/Revathy/collabs/Jamborees/fcc_capstone/data/encode_data/K562.ENCFF992RXN.STAT1.bw \\\n",
    "    --samplesLabel \\\n",
    "        JUN \\\n",
    "        CTCF \\\n",
    "        SP1 \\\n",
    "        ELK1 \\\n",
    "        NRF1 \\\n",
    "        GATA1 \\\n",
    "        NFE2 \\\n",
    "        KLF10 \\\n",
    "        YY1 \\\n",
    "        ATF1 \\\n",
    "        ZBTB33 \\\n",
    "        NFYa \\\n",
    "        CREB \\\n",
    "        PU1 \\\n",
    "        ZNF143 \\\n",
    "        UA5 \\\n",
    "        STAT1 \\\n",
    "    -R \\\n",
    "    /data/reddylab/Revathy/collabs/Jamborees/fcc_capstone/data/Dustin_seq_features/intersected/ASTARR_intersected.promoters.active.bed \\\n",
    "    /data/reddylab/Revathy/collabs/Jamborees/fcc_capstone/data/Dustin_seq_features/intersected/ASTARR_intersected.promoters.inactive.bed \\\n",
    "    /data/reddylab/Revathy/collabs/Jamborees/fcc_capstone/data/Dustin_seq_features/intersected/LentiMPRA_intersected.promoters.active.bed \\\n",
    "    /data/reddylab/Revathy/collabs/Jamborees/fcc_capstone/data/Dustin_seq_features/intersected/LentiMPRA_intersected.promoters.inactive.bed \\\n",
    "    /data/reddylab/Revathy/collabs/Jamborees/fcc_capstone/data/Dustin_seq_features/intersected/wgSTARR_intersected.promoters.active.bed \\\n",
    "    /data/reddylab/Revathy/collabs/Jamborees/fcc_capstone/data/Dustin_seq_features/intersected/wgSTARR_intersected.promoters.inactive.bed \\\n",
    "    /data/reddylab/Revathy/collabs/Jamborees/fcc_capstone/data/Dustin_seq_features/intersected/ASTARR_intersected.distal.active.bed \\\n",
    "    /data/reddylab/Revathy/collabs/Jamborees/fcc_capstone/data/Dustin_seq_features/intersected/ASTARR_intersected.distal.inactive.bed \\\n",
    "    /data/reddylab/Revathy/collabs/Jamborees/fcc_capstone/data/Dustin_seq_features/intersected/LentiMPRA_intersected.distal.active.bed \\\n",
    "    /data/reddylab/Revathy/collabs/Jamborees/fcc_capstone/data/Dustin_seq_features/intersected/LentiMPRA_intersected.distal.inactive.bed \\\n",
    "    /data/reddylab/Revathy/collabs/Jamborees/fcc_capstone/data/Dustin_seq_features/intersected/wgSTARR_intersected.distal.active.bed \\\n",
    "    /data/reddylab/Revathy/collabs/Jamborees/fcc_capstone/data/Dustin_seq_features/intersected/wgSTARR_intersected.distal.inactive.bed \\\n",
    "    --beforeRegionStartLength 2000 \\\n",
    "    --afterRegionStartLength 2000 \\\n",
    "    --skipZeros \\\n",
    "    -o /data/reddylab/Revathy/collabs/Jamborees/fcc_capstone/data/enhancer_call_comparison/10032022/ASTARR_Lenti_wgSTARR.promoter_vs_distal.dustin_seq_feature.V1.refpoint.mat.gz \\\n",
    "&& computeMatrixOperations dataRange \\\n",
    "    -m /data/reddylab/Revathy/collabs/Jamborees/fcc_capstone/data/enhancer_call_comparison/10032022/ASTARR_Lenti_wgSTARR.promoter_vs_distal.dustin_seq_feature.V1.refpoint.mat.gz\n",
    "\n",
    "EOF"
   ]
  },
  {
   "cell_type": "code",
   "execution_count": null,
   "metadata": {},
   "outputs": [],
   "source": [
    "!squeue -u rv103"
   ]
  },
  {
   "cell_type": "code",
   "execution_count": null,
   "metadata": {},
   "outputs": [],
   "source": [
    "!cat /data/reddylab/Revathy/collabs/Jamborees/fcc_capstone/logs/logscomputeMatrix.ASTARR_Lenti_wgSTARR.promoter_vs_distal.dustin_seq_feature.V1.out\n"
   ]
  },
  {
   "cell_type": "code",
   "execution_count": null,
   "metadata": {},
   "outputs": [],
   "source": [
    "from deeptools import heatmapper\n",
    "\n",
    "hm=heatmapper.heatmapper()\n",
    "hm.read_matrix_file('/data/reddylab/Revathy/collabs/Jamborees/fcc_capstone/data/enhancer_call_comparison/10032022/ASTARR_Lenti_wgSTARR.promoter_vs_distal.dustin_seq_feature.V1.refpoint.mat.gz')\n",
    "\n",
    "print(hm.__dict__['parameters']['group_boundaries']) "
   ]
  },
  {
   "cell_type": "code",
   "execution_count": null,
   "metadata": {},
   "outputs": [],
   "source": [
    "print(hm.__dict__['parameters']['group_labels'])"
   ]
  },
  {
   "cell_type": "code",
   "execution_count": null,
   "metadata": {},
   "outputs": [],
   "source": [
    "import pandas as pd\n",
    "import numpy as np\n",
    "from numpy import trapz\n",
    "from deeptools import heatmapper\n",
    "import seaborn as sns\n",
    "import matplotlib.pyplot as plt\n",
    "\n",
    "sns.set_context(\"talk\")\n",
    "sns.set_style(\"whitegrid\")\n",
    "sns.set_style(\"ticks\", {\"xtick.major.size\": 8, \"ytick.major.size\": 8})\n",
    "\n",
    "hm=heatmapper.heatmapper()\n",
    "hm.read_matrix_file('/data/reddylab/Revathy/collabs/Jamborees/fcc_capstone/data/enhancer_call_comparison/10032022/ASTARR_Lenti_wgSTARR.promoter_vs_distal.dustin_seq_feature.V1.refpoint.mat.gz')\n",
    "\n",
    "\n",
    "# ChIP_ASTARR=[]\n",
    "# ChIP_Lenti=[]\n",
    "# ChIP_wgSTARR=[]\n",
    "\n",
    "AUC_ASTARRp=[]\n",
    "AUC_ASTARRd=[]\n",
    "AUC_Lentip=[]\n",
    "AUC_Lentid=[]\n",
    "AUC_wgSTARRp=[]\n",
    "AUC_wgSTARRd=[]\n",
    "\n",
    "label=hm.__dict__['parameters']['sample_labels']\n",
    "\n",
    "for ii in range(len(label)):\n",
    "    \n",
    "    max_val_ASTARRp=np.max(hm.matrix.matrix[:991, ((ii)*400)+150:((ii+1)*400)-150], axis=0)\n",
    "    pseudo_count_ASTARRp=np.percentile(max_val_ASTARRp,10)\n",
    "    logFC_ASTARRp=np.log2((np.nanmean(hm.matrix.matrix[:991, ((ii)*400)+150:((ii+1)*400)-150]+pseudo_count_ASTARRp, axis=0))/\n",
    "                       (np.nanmean(hm.matrix.matrix[991:1001, ((ii)*400)+150:((ii+1)*400)-150]+pseudo_count_ASTARRp, axis=0)))\n",
    "    AUC_ASTARRp.append(trapz(logFC_ASTARRp, dx=10))\n",
    "\n",
    "    max_val_Lentip=np.max(hm.matrix.matrix[1001:1570, ((ii)*400)+150:((ii+1)*400)-150], axis=0)\n",
    "    pseudo_count_Lentip=np.percentile(max_val_Lentip,10)\n",
    "    logFC_Lentip=np.log2((np.nanmean(hm.matrix.matrix[1001:1570, ((ii)*400)+150:((ii+1)*400)-150]+pseudo_count_Lentip, axis=0))/\n",
    "                       (np.nanmean(hm.matrix.matrix[1570:1587, ((ii)*400)+150:((ii+1)*400)-150]+pseudo_count_Lentip, axis=0)))\n",
    "    AUC_Lentip.append(trapz(logFC_Lentip, dx=10))\n",
    "\n",
    "    max_val_wgSTARRp=np.max(hm.matrix.matrix[1587:2294, ((ii)*400)+150:((ii+1)*400)-150], axis=0)\n",
    "    pseudo_count_wgSTARRp=np.percentile(max_val_wgSTARRp,10)\n",
    "    logFC_wgSTARRp=np.log2((np.nanmean(hm.matrix.matrix[1587:2294, ((ii)*400)+150:((ii+1)*400)-150]+pseudo_count_wgSTARRp, axis=0))/\n",
    "                       (np.nanmean(hm.matrix.matrix[2294:2336, ((ii)*400)+150:((ii+1)*400)-150]+pseudo_count_wgSTARRp, axis=0)))\n",
    "    AUC_wgSTARRp.append(trapz(logFC_wgSTARRp, dx=10))\n",
    "    \n",
    "    max_val_ASTARRd=np.max(hm.matrix.matrix[2336:4607, ((ii)*400)+150:((ii+1)*400)-150], axis=0)\n",
    "    pseudo_count_ASTARRd=np.percentile(max_val_ASTARRd,10)\n",
    "    logFC_ASTARRd=np.log2((np.nanmean(hm.matrix.matrix[2336:4607, ((ii)*400)+150:((ii+1)*400)-150]+pseudo_count_ASTARRd, axis=0))/\n",
    "                       (np.nanmean(hm.matrix.matrix[4607:4613, ((ii)*400)+150:((ii+1)*400)-150]+pseudo_count_ASTARRd, axis=0)))\n",
    "    AUC_ASTARRd.append(trapz(logFC_ASTARRd, dx=10))\n",
    "        \n",
    "    max_val_Lentid=np.max(hm.matrix.matrix[4613:5211, ((ii)*400)+150:((ii+1)*400)-150], axis=0)\n",
    "    pseudo_count_Lentid=np.percentile(max_val_Lentid,10)\n",
    "    logFC_Lentid=np.log2((np.nanmean(hm.matrix.matrix[4613:5211, ((ii)*400)+150:((ii+1)*400)-150]+pseudo_count_Lentid, axis=0))/\n",
    "                       (np.nanmean(hm.matrix.matrix[5211:5215, ((ii)*400)+150:((ii+1)*400)-150]+pseudo_count_Lentid, axis=0)))\n",
    "    AUC_Lentid.append(trapz(logFC_Lentid, dx=10))\n",
    "    \n",
    "    max_val_wgSTARRd=np.max(hm.matrix.matrix[5215:6255, ((ii)*400)+150:((ii+1)*400)-150], axis=0)\n",
    "    pseudo_count_wgSTARRd=np.percentile(max_val_wgSTARRd,10)\n",
    "    logFC_wgSTARRd=np.log2((np.nanmean(hm.matrix.matrix[5215:6255, ((ii)*400)+150:((ii+1)*400)-150]+pseudo_count_wgSTARRd, axis=0))/\n",
    "                       (np.nanmean(hm.matrix.matrix[6255:, ((ii)*400)+150:((ii+1)*400)-150]+pseudo_count_wgSTARRd, axis=0)))\n",
    "    AUC_wgSTARRd.append(trapz(logFC_wgSTARRd, dx=10))\n",
    "\n",
    "DF_ASTARR = pd.DataFrame(np.column_stack([label, AUC_ASTARRp, AUC_ASTARRd]), columns=['Label', 'ASTARR_Promoter', 'ASTARR_Distal'])\n",
    "DF_Lenti = pd.DataFrame(np.column_stack([label, AUC_Lentip, AUC_Lentid]), columns=['Label', 'Lenti_Promoter', 'Lenti_Distal'])\n",
    "DF_wgSTARR = pd.DataFrame(np.column_stack([label, AUC_wgSTARRp, AUC_wgSTARRd]), columns=['Label', 'wgSTARR_Promoter', 'wgSTARR_Distal'])\n",
    "\n",
    "DF_ASTARR[['ASTARR_Promoter','ASTARR_Distal']]=DF_ASTARR[['ASTARR_Promoter','ASTARR_Distal']].apply(pd.to_numeric, errors='coerce', axis=1)\n",
    "DF_Lenti[['Lenti_Promoter','Lenti_Distal']]=DF_Lenti[['Lenti_Promoter','Lenti_Distal']].apply(pd.to_numeric, errors='coerce', axis=1) \n",
    "DF_wgSTARR[['wgSTARR_Promoter','wgSTARR_Distal']]=DF_wgSTARR[['wgSTARR_Promoter','wgSTARR_Distal']].apply(pd.to_numeric, errors='coerce', axis=1)\n",
    "\n",
    "DF = DF_ASTARR.merge(DF_Lenti, on='Label', how='inner').merge(DF_wgSTARR, on='Label', how='inner')\n",
    "\n",
    "DF = DF.set_index('Label')\n",
    "DF = DF.fillna(0)\n",
    "sns.clustermap(DF.loc[:, ['ASTARR_Promoter','Lenti_Promoter','wgSTARR_Promoter','ASTARR_Distal','Lenti_Distal','wgSTARR_Distal']],\n",
    "               method='median',\n",
    "               figsize=[8,10],\n",
    "               vmin=-100,\n",
    "               vmax=100,\n",
    "               cmap='seismic_r',\n",
    "               col_cluster= False, \n",
    "               cbar_pos=(0.02, 0.8, 0.05, 0.18))\n",
    "\n",
    "DF.reset_index().to_csv('data/enhancer_call_comparison/bubble_plots/ASTARR_Lenti_wgSTARR.Promoter_Distal.AUC_summary_heatmaps.signal_table.dustin_seq_feature.txt', sep='\\t', index=False)\n",
    "plt.savefig('data/enhancer_call_comparison/bubble_plots/ASTARR_Lenti_wgSTARR.Promoter_Distal.AUC_summary_heatmaps.dustin_seq_feature.V1.png')\n"
   ]
  },
  {
   "cell_type": "code",
   "execution_count": null,
   "metadata": {},
   "outputs": [],
   "source": [
    "from IPython.display import Image\n",
    "Image(\"/data/reddylab/Revathy/collabs/Jamborees/fcc_capstone/data/enhancer_call_comparison/bubble_plots/ASTARR_Lenti_wgSTARR.Promoter_Distal.AUC_summary_heatmaps.dustin_seq_feature.V1.png\")\n"
   ]
  },
  {
   "cell_type": "code",
   "execution_count": null,
   "metadata": {},
   "outputs": [],
   "source": [
    "import warnings\n",
    "import pandas as pd\n",
    "from pandas.core.common import SettingWithCopyWarning\n",
    "warnings.simplefilter(action=\"ignore\", category=SettingWithCopyWarning)\n",
    "\n",
    "\n",
    "seq_feature = pd.read_csv('/data/reddylab/Revathy/collabs/Jamborees/fcc_capstone/data/FCC_fig2.txt', sep='\\t')\n",
    "seq_feature.rename(columns={'TF':'Label','dASTARR p':'ASTARR_Promoter','dASTARR p.1':'ASTARR_Distal',\n",
    "                            'lenMPRA p':'Lenti_Promoter','lenMPRA e':'Lenti_Distal','wgSTARR p':'wgSTARR_Promoter',\n",
    "                            'wgSTARR e':'wgSTARR_Distal'}, inplace=True)\n",
    "seq_feature_subset = seq_feature[['Label','ASTARR_Promoter','ASTARR_Distal','Lenti_Promoter','Lenti_Distal','wgSTARR_Promoter','wgSTARR_Distal']]\n",
    "seq_feature_subset['Label'][2] = 'GATA1'\n",
    "seq_feature_subset['Label'][1] = 'NFE2'\n",
    "seq_feature_subset['Label'][5] = 'SP1'\n",
    "seq_feature_subset['Label'][11] = 'KLF10'\n",
    "seq_feature_subset['Label'][16] = 'ATF1'\n",
    "seq_feature_subset['Label'][0] = 'JUN'\n",
    "seq_feature_subset['Label'][4] = 'ELK1'\n",
    "seq_feature_subset['Label'][12] = 'NFYa'\n",
    "seq_feature_subset['Label'][13] = 'PU1'\n",
    "seq_feature_subset['Label'][14] = 'STAT1'\n",
    "# seq_feature_subset_list = list(seq_feature_subset['Label'])\n"
   ]
  },
  {
   "cell_type": "code",
   "execution_count": null,
   "metadata": {},
   "outputs": [],
   "source": [
    "gen_context = pd.read_csv('/data/reddylab/Revathy/collabs/Jamborees/fcc_capstone/data/enhancer_call_comparison/bubble_plots/ASTARR_Lenti_wgSTARR.Promoter_Distal.AUC_summary_heatmaps.signal_table.dustin_seq_feature.txt', sep='\\t')\n",
    "\n",
    "for col in ['ASTARR_Promoter', 'ASTARR_Distal', 'Lenti_Promoter','Lenti_Distal', 'wgSTARR_Promoter', 'wgSTARR_Distal']:\n",
    "    gen_context[col]=(gen_context[col]-min(gen_context[col]))/(max(gen_context[col])-min(gen_context[col]))\n",
    "# gen_context_sub = gen_context[gen_context['Label'].isin(seq_feature_subset_list)]\n",
    "# gen_context_sub.Label\n",
    "gen_context"
   ]
  },
  {
   "cell_type": "code",
   "execution_count": null,
   "metadata": {},
   "outputs": [],
   "source": [
    "merged = gen_context.merge(seq_feature_subset, on='Label', how='inner')\n",
    "merged"
   ]
  },
  {
   "cell_type": "code",
   "execution_count": null,
   "metadata": {},
   "outputs": [],
   "source": [
    "print(merged['ASTARR_Promoter_x'].corr(merged['ASTARR_Promoter_y']))\n",
    "print(merged['ASTARR_Distal_x'].corr(merged['ASTARR_Distal_y']))\n",
    "print(merged['Lenti_Promoter_x'].corr(merged['Lenti_Promoter_y']))\n",
    "print(merged['Lenti_Distal_x'].corr(merged['Lenti_Distal_y']))\n",
    "print(merged['wgSTARR_Promoter_x'].corr(merged['wgSTARR_Promoter_y']))\n",
    "print(merged['wgSTARR_Distal_x'].corr(merged['wgSTARR_Distal_y']))"
   ]
  },
  {
   "cell_type": "code",
   "execution_count": null,
   "metadata": {},
   "outputs": [],
   "source": [
    "sns.scatterplot(data=merged, x='ASTARR_Promoter_x', y='ASTARR_Promoter_y', hue='Label', palette='tab20')\n"
   ]
  },
  {
   "cell_type": "code",
   "execution_count": null,
   "metadata": {},
   "outputs": [],
   "source": [
    "import seaborn as sns\n",
    "from matplotlib import pyplot as plt\n",
    "import scipy as sp\n",
    "sns.set_context(\"talk\")\n",
    "sns.set_style(\"whitegrid\")\n",
    "sns.set_style(\"ticks\", {\"xtick.major.size\": 8, \"ytick.major.size\": 8})\n",
    "%matplotlib inline\n",
    "\n",
    "assays=['ASTARR','Lenti','wgSTARR']\n",
    "\n",
    "\n",
    "for assay in assays:\n",
    "    x_val='%s_Promoter_x'%assay\n",
    "    y_val='%s_Promoter_y'%assay\n",
    "    \n",
    "    fig, ax = plt.subplots(figsize=[5,5])\n",
    "    sns.scatterplot(data=merged, x=x_val, y=y_val, hue='Label', palette='tab20')\n",
    "    \n",
    "    lgnd = plt.legend(bbox_to_anchor=(1.5, 1), frameon=False, markerscale=1)\n",
    "    plt.xlabel('Genomic_context')\n",
    "    plt.ylabel('Sequence_models')\n",
    "    plt.title('%s_Promoter'%assay)\n",
    "    sns.despine()\n",
    "    plt.show()\n"
   ]
  },
  {
   "cell_type": "code",
   "execution_count": null,
   "metadata": {},
   "outputs": [],
   "source": [
    "import seaborn as sns\n",
    "from matplotlib import pyplot as plt\n",
    "\n",
    "sns.set_context(\"talk\")\n",
    "sns.set_style(\"whitegrid\")\n",
    "sns.set_style(\"ticks\", {\"xtick.major.size\": 8, \"ytick.major.size\": 8})\n",
    "%matplotlib inline\n",
    "\n",
    "assays=['ASTARR','Lenti','wgSTARR']\n",
    "\n",
    "\n",
    "for assay in assays:\n",
    "    x_val='%s_Distal_x'%assay\n",
    "    y_val='%s_Distal_y'%assay\n",
    "    \n",
    "    fig, ax = plt.subplots(figsize=[5,5])\n",
    "    sns.scatterplot(data=merged, x=x_val, y=y_val, hue='Label', palette='tab20')\n",
    "    \n",
    "    lgnd = plt.legend(bbox_to_anchor=(1.5, 1), frameon=False, markerscale=1)\n",
    "    plt.xlabel('Genomic_context')\n",
    "    plt.ylabel('Sequence_models')\n",
    "    plt.title('%s_Distal'%assay)\n",
    "    sns.despine()\n",
    "    plt.show()\n",
    "# plt.savefig('/data/reddylab/Revathy/collabs/Jamborees/fcc_capstone/data/enhancer_call_comparison/bubble_plots/ASTARR_Lenti_wgSTARR.Distal.Seq_vs_Genomic.png')"
   ]
  },
  {
   "cell_type": "code",
   "execution_count": null,
   "metadata": {},
   "outputs": [],
   "source": []
  }
 ],
 "metadata": {
  "kernelspec": {
   "display_name": "Python3 (revathy)",
   "language": "python",
   "name": "revathy_py3"
  },
  "language_info": {
   "codemirror_mode": {
    "name": "ipython",
    "version": 3
   },
   "file_extension": ".py",
   "mimetype": "text/x-python",
   "name": "python",
   "nbconvert_exporter": "python",
   "pygments_lexer": "ipython3",
   "version": "3.5.4"
  }
 },
 "nbformat": 4,
 "nbformat_minor": 2
}
