{
 "cells": [
  {
   "cell_type": "markdown",
   "metadata": {},
   "source": [
    "### 23-10-24 Update \n",
    "\n",
    "> quick update. I've been chatting with Lucas Ferreira and he pointed out that Jay's group uploaded BAM files from 10X Genomics, which can be correctly converted back to FASTQ files. I'm going to explore this option, since that would allow us to finally properly reprocess the reads. Stay tuned"
   ]
  },
  {
   "cell_type": "markdown",
   "metadata": {},
   "source": [
    "This is the `prefetch` command that downloads BAM files that can be converted to FASTQ files\n",
    "\n",
    "```prefetch --type TenX --max-size 100000000 <SRR_Accession>```\n",
    "\n",
    "`prefetch` is available in the `alex_py3_dev` conda environment.\n",
    "\n",
    "It should replace the `aws` related commands below"
   ]
  },
  {
   "cell_type": "markdown",
   "metadata": {},
   "source": [
    "#### Relevant SRAs for the Low MOI experiments:\n",
    "\n",
    "GSM3417251 - Pilot Screen (low MOI) transcriptomes scRNA-seq:\n",
    "\n",
    "`SRR7967475\n",
    "SRR7967476\n",
    "SRR7967477\n",
    "SRR7967478\n",
    "SRR7967479\n",
    "SRR7967480`\n",
    "\n",
    "GSM3417252 - Pilot Screen (low MOI) gRNA enrichment scRNA-seq:\n",
    "\n",
    "`SRR7967481`\n",
    "\n",
    "GSM3417253 - Pilot Screen (high MOI) transcriptomes scRNA-seq:\n",
    "\n",
    "`SRR7967482\n",
    "SRR7967483\n",
    "SRR7967484\n",
    "SRR7967485\n",
    "SRR7967486\n",
    "SRR7967487`\n",
    "\n",
    "GSM3417254 - Pilot Screen (high MOI) gRNA enrichment scRNA-seq:\n",
    "\n",
    "`SRR7967488\n",
    "SRR7967489\n",
    "SRR7967490\n",
    "SRR7967491\n",
    "SRR7967492\n",
    "SRR7967493`"
   ]
  },
  {
   "cell_type": "markdown",
   "metadata": {},
   "source": [
    "#### Download BAM files using `prefetch`"
   ]
  },
  {
   "cell_type": "code",
   "execution_count": 1,
   "metadata": {},
   "outputs": [
    {
     "name": "stdout",
     "output_type": "stream",
     "text": [
      "Writing /data/gersbachlab/Revathy/collabs/Susan/data/gasperini/list_of_SRR_low_high_MOI.txt\n"
     ]
    }
   ],
   "source": [
    "%%writefile /data/gersbachlab/Revathy/collabs/Susan/data/gasperini/list_of_SRR_low_high_MOI.txt\n",
    "SRR7967475\n",
    "SRR7967476\n",
    "SRR7967477\n",
    "SRR7967478\n",
    "SRR7967479\n",
    "SRR7967480\n",
    "SRR7967481\n",
    "SRR7967482\n",
    "SRR7967483\n",
    "SRR7967484\n",
    "SRR7967485\n",
    "SRR7967486\n",
    "SRR7967487\n",
    "SRR7967488\n",
    "SRR7967489\n",
    "SRR7967490\n",
    "SRR7967491\n",
    "SRR7967492\n",
    "SRR7967493"
   ]
  },
  {
   "cell_type": "code",
   "execution_count": null,
   "metadata": {},
   "outputs": [],
   "source": []
  },
  {
   "cell_type": "code",
   "execution_count": 18,
   "metadata": {},
   "outputs": [
    {
     "name": "stdout",
     "output_type": "stream",
     "text": [
      "Submitted batch job 30300680\n"
     ]
    }
   ],
   "source": [
    "%%bash\n",
    "cd /data/gersbachlab/Revathy/collabs/Susan/data/gasperini/fastq\n",
    "source /data/reddylab/software/miniconda3/bin/activate alex_py3_dev\n",
    "sbatch -o /data/gersbachlab/Revathy/collabs/Susan/logs/download.low_high_MOI_screen_data.%a.out \\\n",
    "    --mem=8G \\\n",
    "    --array=0-19 \\\n",
    "    <<'EOF'\n",
    "#!/bin/bash\n",
    "srrs=($(cat /data/gersbachlab/Revathy/collabs/Susan/data/gasperini/list_of_SRR_low_high_MOI.txt))\n",
    "srr=${srrs[${SLURM_ARRAY_TASK_ID}]}\n",
    "prefetch $srr --type TenX --max-size 1000000000 \n",
    "EOF"
   ]
  },
  {
   "cell_type": "code",
   "execution_count": 33,
   "metadata": {},
   "outputs": [
    {
     "name": "stdout",
     "output_type": "stream",
     "text": [
      "Submitted batch job 30443984\n"
     ]
    }
   ],
   "source": [
    "%%bash\n",
    "mkdir /data/gersbachlab/Revathy/collabs/Susan/data/gasperini/fastq/test\n",
    "cd /data/gersbachlab/Revathy/collabs/Susan/data/gasperini/fastq/test\n",
    "source /data/reddylab/software/miniconda3/bin/activate alex_py3_dev\n",
    "sbatch -o /data/gersbachlab/Revathy/collabs/Susan/logs/download.test.out \\\n",
    "    --mem=8G \\\n",
    "    <<'EOF'\n",
    "#!/bin/bash\n",
    "srr=SRR7967481\n",
    "prefetch $srr --type TenX --max-size 1000000000 \n",
    "EOF"
   ]
  },
  {
   "cell_type": "code",
   "execution_count": 40,
   "metadata": {},
   "outputs": [
    {
     "name": "stdout",
     "output_type": "stream",
     "text": [
      "pilot_lowmoi_screen.TATTGCTG.grna.bam\n"
     ]
    }
   ],
   "source": [
    "!ls /data/gersbachlab/Revathy/collabs/Susan/data/gasperini/fastq/test/SRR7967481"
   ]
  },
  {
   "cell_type": "markdown",
   "metadata": {},
   "source": [
    "Transform BAM to FASTQ files"
   ]
  },
  {
   "cell_type": "code",
   "execution_count": 9,
   "metadata": {},
   "outputs": [
    {
     "name": "stdout",
     "output_type": "stream",
     "text": [
      "Submitted batch job 30302717\n"
     ]
    }
   ],
   "source": [
    "%%bash\n",
    "cd /data/gersbachlab/Revathy/collabs/Susan/data/gasperini/fastq/low_moi\n",
    "sbatch -o /data/gersbachlab/Revathy/collabs/Susan/logs/download.low_high_MOI_screen_data.%a.out \\\n",
    "    --mem=8G \\\n",
    "    --array=0-6 \\\n",
    "    <<'EOF'\n",
    "#!/bin/bash\n",
    "SRRs=(SRR7967475 SRR7967476 SRR7967477 SRR7967478 SRR7967479 SRR7967480 SRR7967481)\n",
    "SRR=${SRRs[${SLURM_ARRAY_TASK_ID}]}\n",
    "BAM=($(/bin/ls -1 /data/gersbachlab/Revathy/collabs/Susan/data/gasperini/fastq/low_moi/${SRR}/*.bam))\n",
    "/data/reddylab/software/cellranger/cellranger-7.1.0/lib/bin/bamtofastq \\\n",
    "    /data/gersbachlab/Revathy/collabs/Susan/data/gasperini/fastq/low_moi/${SRR}/*.bam \\\n",
    "    ${BAM/.bam/} \n",
    "EOF"
   ]
  },
  {
   "cell_type": "code",
   "execution_count": 11,
   "metadata": {},
   "outputs": [
    {
     "name": "stdout",
     "output_type": "stream",
     "text": [
      "Submitted batch job 30302725\n"
     ]
    }
   ],
   "source": [
    "%%bash\n",
    "cd /data/gersbachlab/Revathy/collabs/Susan/data/gasperini/fastq/high_moi\n",
    "sbatch -o /data/gersbachlab/Revathy/collabs/Susan/logs/download.low_high_MOI_screen_data.bam_to_fastq.%a.out \\\n",
    "    --mem=8G \\\n",
    "    --array=0-11 \\\n",
    "    <<'EOF'\n",
    "#!/bin/bash\n",
    "SRRs=(SRR7967482 SRR7967483 SRR7967484 SRR7967485 SRR7967486 SRR7967487 SRR7967488 SRR7967489 SRR7967490 SRR7967491 SRR7967492 SRR7967493)\n",
    "SRR=${SRRs[${SLURM_ARRAY_TASK_ID}]}\n",
    "BAM=($(/bin/ls -1 /data/gersbachlab/Revathy/collabs/Susan/data/gasperini/fastq/high_moi/${SRR}/*.bam))\n",
    "/data/reddylab/software/cellranger/cellranger-7.1.0/lib/bin/bamtofastq \\\n",
    "    /data/gersbachlab/Revathy/collabs/Susan/data/gasperini/fastq/high_moi/${SRR}/*.bam \\\n",
    "    ${BAM/.bam/} \n",
    "EOF"
   ]
  },
  {
   "cell_type": "code",
   "execution_count": 41,
   "metadata": {},
   "outputs": [
    {
     "name": "stdout",
     "output_type": "stream",
     "text": [
      "Submitted batch job 30443987\n"
     ]
    }
   ],
   "source": [
    "%%bash\n",
    "cd /data/gersbachlab/Revathy/collabs/Susan/data/gasperini/fastq/test/SRR7967481\n",
    "sbatch -o /data/gersbachlab/Revathy/collabs/Susan/logs/download.bamtofastq.SRR7967481.out \\\n",
    "    --mem=8G \\\n",
    "    <<'EOF'\n",
    "#!/bin/bash\n",
    "BAM=($(/bin/ls -1 /data/gersbachlab/Revathy/collabs/Susan/data/gasperini/fastq/test/SRR7967481/*.bam))\n",
    "/data/reddylab/software/cellranger/cellranger-7.1.0/lib/bin/bamtofastq \\\n",
    "    /data/gersbachlab/Revathy/collabs/Susan/data/gasperini/fastq/test/SRR7967481/*.bam \\\n",
    "    ${BAM/.bam/} \n",
    "EOF"
   ]
  },
  {
   "cell_type": "markdown",
   "metadata": {},
   "source": [
    "### Create metadata spreadsheets -  library.csv and feature_ref.csv for low_moi data \n",
    "\n",
    "Run this through cellranger using the CRISPR modality\n",
    "\n",
    "* [ ] Have to check if data needs to be demultiplexed"
   ]
  },
  {
   "cell_type": "code",
   "execution_count": 1,
   "metadata": {},
   "outputs": [],
   "source": [
    "!mkdir /data/gersbachlab/Revathy/collabs/Susan/data/gasperini/fastq/metadata"
   ]
  },
  {
   "cell_type": "code",
   "execution_count": 1,
   "metadata": {},
   "outputs": [
    {
     "name": "stdout",
     "output_type": "stream",
     "text": [
      "Writing /data/gersbachlab/Revathy/collabs/Susan/data/gasperini/fastq/metadata/low_moi_lib.test_1.csv\n"
     ]
    }
   ],
   "source": [
    "%%writefile /data/gersbachlab/Revathy/collabs/Susan/data/gasperini/fastq/metadata/low_moi_lib.csv\n",
    "fastqs,sample,library_type\n",
    "/data/gersbachlab/Revathy/collabs/Susan/data/gasperini/fastq/low_moi,K1000_CRISPRi_cells_r1_SI-GA-F1_HGMFLBGX2bamtofastq,Gene Expression\n",
    "/data/gersbachlab/Revathy/collabs/Susan/data/gasperini/fastq/low_moi,K1000_CRISPRi_cells_r1_SI-GA-F1_HGTKKBGX2bamtofastq,Gene Expression\n",
    "/data/gersbachlab/Revathy/collabs/Susan/data/gasperini/fastq/low_moi,K1000_CRISPRi_cells_r1_SI-GA-F1_HGTV3BGX2bamtofastq,Gene Expression\n",
    "/data/gersbachlab/Revathy/collabs/Susan/data/gasperini/fastq/low_moi,K1000_CRISPRi_cells_r1_SI-GA-F1_HMWTJBGX3bamtofastq,Gene Expression\n",
    "/data/gersbachlab/Revathy/collabs/Susan/data/gasperini/fastq/low_moi,K1000_CRISPRi_cells_r2_SI-GA-F2_HGMFLBGX2bamtofastq,Gene Expression\n",
    "/data/gersbachlab/Revathy/collabs/Susan/data/gasperini/fastq/low_moi,K1000_CRISPRi_cells_r2_SI-GA-F2_HGTKKBGX2bamtofastq,Gene Expression\n",
    "/data/gersbachlab/Revathy/collabs/Susan/data/gasperini/fastq/low_moi,K1000_CRISPRi_cells_r2_SI-GA-F2_HGTV3BGX2bamtofastq,Gene Expression\n",
    "/data/gersbachlab/Revathy/collabs/Susan/data/gasperini/fastq/low_moi,K1000_CRISPRi_cells_r2_SI-GA-F2_HMWTJBGX3bamtofastq,Gene Expression\n",
    "/data/gersbachlab/Revathy/collabs/Susan/data/gasperini/fastq/low_moi,K1000_CRISPRi_cells_r3_SI-GA-F3_HGMFLBGX2bamtofastq,Gene Expression\n",
    "/data/gersbachlab/Revathy/collabs/Susan/data/gasperini/fastq/low_moi,K1000_CRISPRi_cells_r3_SI-GA-F3_HGTKKBGX2bamtofastq,Gene Expression\n",
    "/data/gersbachlab/Revathy/collabs/Susan/data/gasperini/fastq/low_moi,K1000_CRISPRi_cells_r3_SI-GA-F3_HGTV3BGX2bamtofastq,Gene Expression\n",
    "/data/gersbachlab/Revathy/collabs/Susan/data/gasperini/fastq/low_moi,K1000_CRISPRi_cells_r3_SI-GA-F3_HMWTJBGX3bamtofastq,Gene Expression\n",
    "/data/gersbachlab/Revathy/collabs/Susan/data/gasperini/fastq/low_moi,K1000_CRISPRi_cells_r4_SI-GA-F4_HGMFLBGX2bamtofastq,Gene Expression\n",
    "/data/gersbachlab/Revathy/collabs/Susan/data/gasperini/fastq/low_moi,K1000_CRISPRi_cells_r4_SI-GA-F4_HGTKKBGX2bamtofastq,Gene Expression\n",
    "/data/gersbachlab/Revathy/collabs/Susan/data/gasperini/fastq/low_moi,K1000_CRISPRi_cells_r4_SI-GA-F4_HGTV3BGX2bamtofastq,Gene Expression\n",
    "/data/gersbachlab/Revathy/collabs/Susan/data/gasperini/fastq/low_moi,K1000_CRISPRi_cells_r4_SI-GA-F4_HMWTJBGX3bamtofastq,Gene Expression\n",
    "/data/gersbachlab/Revathy/collabs/Susan/data/gasperini/fastq/low_moi,K1000_CRISPRi_cells_r5_SI-GA-F5_HGMFLBGX2bamtofastq,Gene Expression\n",
    "/data/gersbachlab/Revathy/collabs/Susan/data/gasperini/fastq/low_moi,K1000_CRISPRi_cells_r5_SI-GA-F5_HGTKKBGX2bamtofastq,Gene Expression\n",
    "/data/gersbachlab/Revathy/collabs/Susan/data/gasperini/fastq/low_moi,K1000_CRISPRi_cells_r5_SI-GA-F5_HGTV3BGX2bamtofastq,Gene Expression\n",
    "/data/gersbachlab/Revathy/collabs/Susan/data/gasperini/fastq/low_moi,K1000_CRISPRi_cells_r5_SI-GA-F5_HMWTJBGX3bamtofastq,Gene Expression\n",
    "/data/gersbachlab/Revathy/collabs/Susan/data/gasperini/fastq/low_moi,K1000_CRISPRi_cells_r6_SI-GA-F6_HGMFLBGX2bamtofastq,Gene Expression\n",
    "/data/gersbachlab/Revathy/collabs/Susan/data/gasperini/fastq/low_moi,K1000_CRISPRi_cells_r6_SI-GA-F6_HGTKKBGX2bamtofastq,Gene Expression\n",
    "/data/gersbachlab/Revathy/collabs/Susan/data/gasperini/fastq/low_moi,K1000_CRISPRi_cells_r6_SI-GA-F6_HGTV3BGX2bamtofastq,Gene Expression\n",
    "/data/gersbachlab/Revathy/collabs/Susan/data/gasperini/fastq/low_moi,K1000_CRISPRi_cells_r6_SI-GA-F6_HMWTJBGX3bamtofastq,Gene Expression\n",
    "/data/gersbachlab/Revathy/collabs/Susan/data/gasperini/fastq/low_moi,K1000_CRISPRi_gRNA_TATTGCTG_HGMFLBGX2bamtofastq,CRISPR Guide Capture\n",
    "/data/gersbachlab/Revathy/collabs/Susan/data/gasperini/fastq/low_moi,K1000_CRISPRi_gRNA_TATTGCTG_HGTKKBGX2bamtofastq,CRISPR Guide Capture\n",
    "/data/gersbachlab/Revathy/collabs/Susan/data/gasperini/fastq/low_moi,K1000_CRISPRi_gRNA_TATTGCTG_HGTV3BGX2bamtofastq,CRISPR Guide Capture\n",
    "/data/gersbachlab/Revathy/collabs/Susan/data/gasperini/fastq/low_moi,K1000_CRISPRi_gRNA_TATTGCTG_HMWTJBGX3bamtofastq,CRISPR Guide Capture"
   ]
  },
  {
   "cell_type": "code",
   "execution_count": 3,
   "metadata": {},
   "outputs": [],
   "source": [
    "!rm -r /data/gersbachlab/Revathy/collabs/Susan/results/gasperini/high_moi/"
   ]
  },
  {
   "cell_type": "code",
   "execution_count": 5,
   "metadata": {},
   "outputs": [],
   "source": [
    "%%bash\n",
    "mkdir -p /data/gersbachlab/Revathy/collabs/Susan/results\n",
    "mkdir -p /data/gersbachlab/Revathy/collabs/Susan/results/gasperini\n",
    "mkdir -p /data/gersbachlab/Revathy/collabs/Susan/results/gasperini/low_moi"
   ]
  },
  {
   "cell_type": "code",
   "execution_count": 17,
   "metadata": {},
   "outputs": [
    {
     "name": "stdout",
     "output_type": "stream",
     "text": [
      "Submitted batch job 30374116\n"
     ]
    }
   ],
   "source": [
    "%%bash\n",
    "cd /data/gersbachlab/Revathy/collabs/Susan/results/gasperini/low_moi\n",
    "samples=($(cut -f2 -d, '/data/gersbachlab/Revathy/collabs/Susan/data/gasperini/fastq/metadata/low_moi_lib.csv' | tail -n+2))\n",
    "sbatch \\\n",
    "    --array=0-28 \\\n",
    "    -p all \\\n",
    "    -o /data/gersbachlab/Revathy/collabs/Susan/logs/low_moi_data_cellranger.%a.out \\\n",
    "    --mem=128G \\\n",
    "    --cpus-per-task=24 \\\n",
    "    <<'EOF'\n",
    "#!/bin/bash\n",
    "samples=($(cut -f2 -d, '/data/gersbachlab/Revathy/collabs/Susan/data/gasperini/fastq/metadata/low_moi_lib.csv' | tail -n+2))\n",
    "sample=${samples[${SLURM_ARRAY_TASK_ID}]}\n",
    "/data/gersbachlab/Ruhi/pipeline_perturbseq_like/cellranger-7.1.0/bin/cellranger count \\\n",
    "     --id=${sample} \\\n",
    "     --libraries=/data/gersbachlab/Revathy/collabs/Susan/data/gasperini/fastq/metadata/low_moi_lib.csv \\\n",
    "     --transcriptome=/data/reddylab/Reference_Data/cellranger/refdata-gex-GRCh38-2020-A \\\n",
    "     --feature-ref=/data/gersbachlab/Revathy/collabs/Susan/data/gasperini/fastq/metadata/feature_reference.csv \\\n",
    "     --chemistry=auto \\\n",
    "     --localcores=24 \\\n",
    "     --localmem=64 \n",
    "EOF"
   ]
  },
  {
   "cell_type": "markdown",
   "metadata": {},
   "source": [
    "### Test on one sample of Low_moi"
   ]
  },
  {
   "cell_type": "code",
   "execution_count": 32,
   "metadata": {},
   "outputs": [
    {
     "name": "stdout",
     "output_type": "stream",
     "text": [
      "id,name,read,pattern,sequence,feature_type,target_gene_name\n",
      "scrambled_1_g1,scrambled_1_g1,R2,(BC)NNNNNNNNNNNNNNNNNNNN,AGCCTAACGATCGGACCGAG,CRISPR Guide Capture,scrambled\n",
      "scrambled_2_g2,scrambled_2_g2,R2,(BC)NNNNNNNNNNNNNNNNNNNN,TGTCCAGTTCCGTAGGATGG,CRISPR Guide Capture,scrambled\n",
      "scrambled_3_g3,scrambled_3_g3,R2,(BC)NNNNNNNNNNNNNNNNNNNN,TATTCGTACCGGGCAGCAGG,CRISPR Guide Capture,scrambled\n",
      "scrambled_4_g4,scrambled_4_g4,R2,(BC)NNNNNNNNNNNNNNNNNNNN,CGGTGGGGCCGCTCACTAGG,CRISPR Guide Capture,scrambled\n",
      "scrambled_5_g5,scrambled_5_g5,R2,(BC)NNNNNNNNNNNNNNNNNNNN,CTGAACTTCGGTAAAGGCGG,CRISPR Guide Capture,scrambled\n",
      "scrambled_6_g6,scrambled_6_g6,R2,(BC)NNNNNNNNNNNNNNNNNNNN,CTCACCGTAGAGACGGCACG,CRISPR Guide Capture,scrambled\n",
      "scrambled_7_g7,scrambled_7_g7,R2,(BC)NNNNNNNNNNNNNNNNNNNN,ACCGCTGCCCTAACCACTGG,CRISPR Guide Capture,scrambled\n",
      "scrambled_8_g8,scrambled_8_g8,R2,(BC)NNNNNNNNNNNNNNNNNNNN,GCTGTATATCGGCGCCCCGG,CRISPR Guide Capture,scrambled\n",
      "scrambled_9_g9,scrambled_9_g9,R2,(BC)NNNNNNNNNNNNNNNNNNNN,ATGCGGCGAACTGCCGTAAG,CRISPR Guide Capture,scrambled\n"
     ]
    }
   ],
   "source": [
    "!head /data/gersbachlab/Revathy/collabs/Susan/data/gasperini/fastq/metadata/feature_reference.csv"
   ]
  },
  {
   "cell_type": "code",
   "execution_count": 8,
   "metadata": {},
   "outputs": [
    {
     "name": "stdout",
     "output_type": "stream",
     "text": [
      "@NS500488:481:HGMFLBGX2:1:11310:19587:7308 1:N:0:0\n",
      "GACCTGGGTTGAACTCGGACTTGGAC\n",
      "+\n",
      "A6AAAEEEEEEEEEEEEEEEEEEEEE\n",
      "@NS500488:481:HGMFLBGX2:1:22211:6898:2848 1:N:0:0\n",
      "CTAATGGGTGGGTCAACAGGTTTCCA\n",
      "+\n",
      "AA6AAAEEEEEEEEEEAEEEEEEEEE\n",
      "@NS500488:481:HGMFLBGX2:1:23312:6465:9095 1:N:0:0\n",
      "GGAATAAGTAGAGTGCATGCTTCCGT\n"
     ]
    }
   ],
   "source": [
    "%%bash\n",
    "gzip -dc /data/gersbachlab/Revathy/collabs/Susan/data/gasperini/fastq/low_moi/K1000_CRISPRi_cells_r1_SI-GA-F1_HGMFLBGX2bamtofastq_S1_L001_R1_001.fastq.gz \\\n",
    "| "
   ]
  },
  {
   "cell_type": "code",
   "execution_count": 11,
   "metadata": {},
   "outputs": [
    {
     "name": "stdout",
     "output_type": "stream",
     "text": [
      "5363\n"
     ]
    }
   ],
   "source": [
    "%%bash\n",
    "gzip -dc /data/gersbachlab/Revathy/collabs/Susan/data/gasperini/fastq/low_moi/K1000_CRISPRi_gRNA_TATTGCTG_HGMFLBGX2bamtofastq_S1_L001_R2_001.fastq.gz \\\n",
    "| grep AGCCTAACGATCGGACCGAG | wc -l"
   ]
  },
  {
   "cell_type": "code",
   "execution_count": 18,
   "metadata": {},
   "outputs": [
    {
     "name": "stdout",
     "output_type": "stream",
     "text": [
      "/data/gersbachlab/Revathy/collabs/Susan/data/gasperini/fastq/low_moi/K1000_CRISPRi_cells_r1_SI-GA-F1_HGMFLBGX2bamtofastq_S1_L001_R2_001.fastq.gz\n",
      "/data/gersbachlab/Revathy/collabs/Susan/data/gasperini/fastq/low_moi/K1000_CRISPRi_cells_r1_SI-GA-F1_HGTKKBGX2bamtofastq_S1_L001_R2_001.fastq.gz\n",
      "/data/gersbachlab/Revathy/collabs/Susan/data/gasperini/fastq/low_moi/K1000_CRISPRi_cells_r1_SI-GA-F1_HGTV3BGX2bamtofastq_S1_L001_R2_001.fastq.gz\n",
      "/data/gersbachlab/Revathy/collabs/Susan/data/gasperini/fastq/low_moi/K1000_CRISPRi_cells_r1_SI-GA-F1_HMWTJBGX3bamtofastq_S1_L001_R2_001.fastq.gz\n"
     ]
    }
   ],
   "source": [
    "!ls /data/gersbachlab/Revathy/collabs/Susan/data/gasperini/fastq/low_moi/K1000_CRISPRi_cells_r1*L001_R2*fastq.gz"
   ]
  },
  {
   "cell_type": "code",
   "execution_count": 21,
   "metadata": {},
   "outputs": [
    {
     "name": "stdout",
     "output_type": "stream",
     "text": [
      "8353\n",
      "8888\n",
      "5389\n",
      "6460\n"
     ]
    }
   ],
   "source": [
    "%%bash\n",
    "files=( \\\n",
    "/data/gersbachlab/Revathy/collabs/Susan/data/gasperini/fastq/low_moi/K1000_CRISPRi_gRNA_TATTGCTG_HGMFLBGX2bamtofastq_S1_L001_R2_001.fastq.gz \\\n",
    "/data/gersbachlab/Revathy/collabs/Susan/data/gasperini/fastq/low_moi/K1000_CRISPRi_gRNA_TATTGCTG_HGTKKBGX2bamtofastq_S1_L001_R2_001.fastq.gz \\\n",
    "/data/gersbachlab/Revathy/collabs/Susan/data/gasperini/fastq/low_moi/K1000_CRISPRi_gRNA_TATTGCTG_HGTV3BGX2bamtofastq_S1_L001_R2_001.fastq.gz \\\n",
    "/data/gersbachlab/Revathy/collabs/Susan/data/gasperini/fastq/low_moi/K1000_CRISPRi_gRNA_TATTGCTG_HMWTJBGX3bamtofastq_S1_L001_R2_001.fastq.gz)\n",
    "for file in ${files[@]};\n",
    "do\n",
    "gzip -dc $file | grep GCTGTATATCGGCGCCCCGG | wc -l\n",
    "done"
   ]
  },
  {
   "cell_type": "code",
   "execution_count": 3,
   "metadata": {},
   "outputs": [
    {
     "name": "stdout",
     "output_type": "stream",
     "text": [
      "Overwriting /data/gersbachlab/Revathy/collabs/Susan/data/gasperini/fastq/metadata/low_moi_lib.test_4.csv\n"
     ]
    }
   ],
   "source": [
    "%%writefile /data/gersbachlab/Revathy/collabs/Susan/data/gasperini/fastq/metadata/low_moi_lib.test_4.csv\n",
    "fastqs,sample,library_type\n",
    "/data/gersbachlab/Revathy/collabs/Susan/data/gasperini/fastq/low_moi,K1000_CRISPRi_cells_r1_SI-GA-F1_HGMFLBGX2bamtofastq,Gene Expression\n",
    "/data/gersbachlab/Revathy/collabs/Susan/data/gasperini/fastq/low_moi,K1000_CRISPRi_cells_r1_SI-GA-F1_HGTKKBGX2bamtofastq,Gene Expression\n",
    "/data/gersbachlab/Revathy/collabs/Susan/data/gasperini/fastq/low_moi,K1000_CRISPRi_cells_r1_SI-GA-F1_HGTV3BGX2bamtofastq,Gene Expression\n",
    "/data/gersbachlab/Revathy/collabs/Susan/data/gasperini/fastq/low_moi,K1000_CRISPRi_cells_r1_SI-GA-F1_HMWTJBGX3bamtofastq,Gene Expression\n",
    "/data/gersbachlab/Revathy/collabs/Susan/data/gasperini/fastq/low_moi,K1000_CRISPRi_gRNA_TATTGCTG_HGMFLBGX2bamtofastq,CRISPR Guide Capture\n",
    "/data/gersbachlab/Revathy/collabs/Susan/data/gasperini/fastq/low_moi,K1000_CRISPRi_gRNA_TATTGCTG_HGTKKBGX2bamtofastq,CRISPR Guide Capture\n",
    "/data/gersbachlab/Revathy/collabs/Susan/data/gasperini/fastq/low_moi,K1000_CRISPRi_gRNA_TATTGCTG_HGTV3BGX2bamtofastq,CRISPR Guide Capture\n",
    "/data/gersbachlab/Revathy/collabs/Susan/data/gasperini/fastq/low_moi,K1000_CRISPRi_gRNA_TATTGCTG_HMWTJBGX3bamtofastq,CRISPR Guide Capture"
   ]
  },
  {
   "cell_type": "code",
   "execution_count": 4,
   "metadata": {},
   "outputs": [
    {
     "name": "stdout",
     "output_type": "stream",
     "text": [
      "Writing /data/gersbachlab/Revathy/collabs/Susan/data/gasperini/fastq/metadata/low_moi_lib.test_5.csv\n"
     ]
    }
   ],
   "source": [
    "%%writefile /data/gersbachlab/Revathy/collabs/Susan/data/gasperini/fastq/metadata/low_moi_lib.test_5.csv\n",
    "fastqs,sample,library_type\n",
    "/data/gersbachlab/Revathy/collabs/Susan/data/gasperini/fastq/low_moi,K1000_CRISPRi_cells_r2_SI-GA-F2_HGMFLBGX2bamtofastq,Gene Expression\n",
    "/data/gersbachlab/Revathy/collabs/Susan/data/gasperini/fastq/low_moi,K1000_CRISPRi_cells_r2_SI-GA-F2_HGTKKBGX2bamtofastq,Gene Expression\n",
    "/data/gersbachlab/Revathy/collabs/Susan/data/gasperini/fastq/low_moi,K1000_CRISPRi_cells_r2_SI-GA-F2_HGTV3BGX2bamtofastq,Gene Expression\n",
    "/data/gersbachlab/Revathy/collabs/Susan/data/gasperini/fastq/low_moi,K1000_CRISPRi_cells_r2_SI-GA-F2_HMWTJBGX3bamtofastq,Gene Expression\n",
    "/data/gersbachlab/Revathy/collabs/Susan/data/gasperini/fastq/low_moi,K1000_CRISPRi_gRNA_TATTGCTG_HGMFLBGX2bamtofastq,CRISPR Guide Capture\n",
    "/data/gersbachlab/Revathy/collabs/Susan/data/gasperini/fastq/low_moi,K1000_CRISPRi_gRNA_TATTGCTG_HGTKKBGX2bamtofastq,CRISPR Guide Capture\n",
    "/data/gersbachlab/Revathy/collabs/Susan/data/gasperini/fastq/low_moi,K1000_CRISPRi_gRNA_TATTGCTG_HGTV3BGX2bamtofastq,CRISPR Guide Capture\n",
    "/data/gersbachlab/Revathy/collabs/Susan/data/gasperini/fastq/low_moi,K1000_CRISPRi_gRNA_TATTGCTG_HMWTJBGX3bamtofastq,CRISPR Guide Capture"
   ]
  },
  {
   "cell_type": "code",
   "execution_count": 59,
   "metadata": {},
   "outputs": [
    {
     "name": "stdout",
     "output_type": "stream",
     "text": [
      "Writing /data/gersbachlab/Revathy/collabs/Susan/data/gasperini/fastq/metadata/low_moi_lib.test_3.csv\n"
     ]
    }
   ],
   "source": [
    "%%writefile /data/gersbachlab/Revathy/collabs/Susan/data/gasperini/fastq/metadata/low_moi_lib.test_3.csv\n",
    "fastqs,sample,library_type\n",
    "/data/gersbachlab/Revathy/collabs/Susan/data/gasperini/fastq/low_moi,K1000_CRISPRi_cells_r1_SI-GA-F1_HGMFLBGX2bamtofastq,Gene Expression\n",
    "/data/gersbachlab/Revathy/collabs/Susan/data/gasperini/fastq/low_moi,K1000_CRISPRi_cells_r2_SI-GA-F2_HGMFLBGX2bamtofastq,Gene Expression\n",
    "/data/gersbachlab/Revathy/collabs/Susan/data/gasperini/fastq/low_moi,K1000_CRISPRi_cells_r3_SI-GA-F3_HGMFLBGX2bamtofastq,Gene Expression\n",
    "/data/gersbachlab/Revathy/collabs/Susan/data/gasperini/fastq/low_moi,K1000_CRISPRi_cells_r4_SI-GA-F4_HGMFLBGX2bamtofastq,Gene Expression\n",
    "/data/gersbachlab/Revathy/collabs/Susan/data/gasperini/fastq/low_moi,K1000_CRISPRi_cells_r5_SI-GA-F5_HGMFLBGX2bamtofastq,Gene Expression\n",
    "/data/gersbachlab/Revathy/collabs/Susan/data/gasperini/fastq/low_moi,K1000_CRISPRi_cells_r6_SI-GA-F6_HGMFLBGX2bamtofastq,Gene Expression\n",
    "/data/gersbachlab/Revathy/collabs/Susan/data/gasperini/fastq/low_moi,K1000_CRISPRi_gRNA_TATTGCTG_HGMFLBGX2bamtofastq,CRISPR Guide Capture\n",
    "/data/gersbachlab/Revathy/collabs/Susan/data/gasperini/fastq/low_moi,K1000_CRISPRi_gRNA_TATTGCTG_HGTKKBGX2bamtofastq,CRISPR Guide Capture\n",
    "/data/gersbachlab/Revathy/collabs/Susan/data/gasperini/fastq/low_moi,K1000_CRISPRi_gRNA_TATTGCTG_HGTV3BGX2bamtofastq,CRISPR Guide Capture\n",
    "/data/gersbachlab/Revathy/collabs/Susan/data/gasperini/fastq/low_moi,K1000_CRISPRi_gRNA_TATTGCTG_HMWTJBGX3bamtofastq,CRISPR Guide Capture"
   ]
  },
  {
   "cell_type": "code",
   "execution_count": 60,
   "metadata": {},
   "outputs": [
    {
     "name": "stdout",
     "output_type": "stream",
     "text": [
      "Submitted batch job 30443997\n"
     ]
    }
   ],
   "source": [
    "%%bash\n",
    "cd /data/gersbachlab/Revathy/collabs/Susan/results/gasperini/low_moi\n",
    "sbatch \\\n",
    "    -p all \\\n",
    "    -o /data/gersbachlab/Revathy/collabs/Susan/logs/low_moi_data_cellranger_test.out \\\n",
    "    --mem=128G \\\n",
    "    --cpus-per-task=24 \\\n",
    "    <<'EOF'\n",
    "#!/bin/bash\n",
    "/data/gersbachlab/Ruhi/pipeline_perturbseq_like/cellranger-7.1.0/bin/cellranger count \\\n",
    "     --id=\"HGMFLBGX2\" \\\n",
    "     --libraries=/data/gersbachlab/Revathy/collabs/Susan/data/gasperini/fastq/metadata/low_moi_lib.test_3.csv \\\n",
    "     --transcriptome=/data/reddylab/Reference_Data/cellranger/refdata-gex-GRCh38-2020-A \\\n",
    "     --feature-ref=/data/gersbachlab/Revathy/collabs/Susan/data/gasperini/fastq/metadata/feature_reference_bc_14n.csv \\\n",
    "     --chemistry=auto \\\n",
    "     --localcores=24 \\\n",
    "     --localmem=64 \n",
    "EOF"
   ]
  },
  {
   "cell_type": "code",
   "execution_count": 1,
   "metadata": {},
   "outputs": [
    {
     "name": "stdout",
     "output_type": "stream",
     "text": [
      "feature_reference_23N_BC.csv  feature_reference.csv\t low_moi_lib.test_2.csv\n",
      "feature_reference_bc_13n.csv  feature_reference_old.csv  low_moi_lib.test_3.csv\n",
      "feature_reference_bc_14n.csv  high_moi_lib.csv\t\t low_moi_lib.test_4.csv\n",
      "feature_reference_bc_20n.csv  low_moi_lib.csv\t\t low_moi_lib.test_5.csv\n",
      "feature_reference_bc_23n.csv  low_moi_lib.test_1.csv\n"
     ]
    }
   ],
   "source": [
    "!ls /data/gersbachlab/Revathy/collabs/Susan/data/gasperini/fastq/metadata/"
   ]
  },
  {
   "cell_type": "code",
   "execution_count": 9,
   "metadata": {},
   "outputs": [
    {
     "name": "stdout",
     "output_type": "stream",
     "text": [
      "Submitted batch job 30445068\n"
     ]
    }
   ],
   "source": [
    "%%bash\n",
    "cd /data/gersbachlab/Revathy/collabs/Susan/results/gasperini/low_moi\n",
    "sbatch \\\n",
    "    -p all \\\n",
    "    -o /data/gersbachlab/Revathy/collabs/Susan/logs/low_moi_data_cellranger_test5.out \\\n",
    "    --mem=128G \\\n",
    "    --cpus-per-task=24 \\\n",
    "    <<'EOF'\n",
    "#!/bin/bash\n",
    "/data/gersbachlab/Ruhi/pipeline_perturbseq_like/cellranger-7.1.0/bin/cellranger count \\\n",
    "     --id=\"run1\" \\\n",
    "     --libraries=/data/gersbachlab/Revathy/collabs/Susan/data/gasperini/fastq/metadata/low_moi_lib.test_4.csv \\\n",
    "     --transcriptome=/data/reddylab/Reference_Data/cellranger/refdata-gex-GRCh38-2020-A \\\n",
    "     --feature-ref=/data/gersbachlab/Revathy/collabs/Susan/data/gasperini/fastq/metadata/feature_reference_bc_14n.csv \\\n",
    "     --chemistry=auto \\\n",
    "     --localcores=24 \\\n",
    "     --localmem=64 \n",
    "EOF"
   ]
  },
  {
   "cell_type": "code",
   "execution_count": 8,
   "metadata": {},
   "outputs": [],
   "source": [
    "!rm -r /data/gersbachlab/Revathy/collabs/Susan/results/gasperini/low_moi/run1"
   ]
  },
  {
   "cell_type": "code",
   "execution_count": 25,
   "metadata": {},
   "outputs": [
    {
     "name": "stdout",
     "output_type": "stream",
     "text": [
      "Submitted batch job 30443982\n"
     ]
    }
   ],
   "source": [
    "%%bash\n",
    "cd /data/gersbachlab/Revathy/collabs/Susan/results/gasperini/low_moi\n",
    "sbatch \\\n",
    "    -p all \\\n",
    "    -o /data/gersbachlab/Revathy/collabs/Susan/logs/low_moi_data_cellranger_test2.out \\\n",
    "    --mem=128G \\\n",
    "    --cpus-per-task=24 \\\n",
    "    <<'EOF'\n",
    "#!/bin/bash\n",
    "/data/gersbachlab/Ruhi/pipeline_perturbseq_like/cellranger-7.1.0/bin/cellranger count \\\n",
    "     --id=\"r1_SI-GA-F1_HGMFLBGX2_HGTKKBGX2_test\" \\\n",
    "     --libraries=/data/gersbachlab/Revathy/collabs/Susan/data/gasperini/fastq/metadata/low_moi_lib.test_2.csv \\\n",
    "     --transcriptome=/data/reddylab/Reference_Data/cellranger/refdata-gex-GRCh38-2020-A \\\n",
    "     --feature-ref=/data/gersbachlab/Revathy/collabs/Susan/data/gasperini/fastq/metadata/feature_reference_old.csv \\\n",
    "     --chemistry=auto \\\n",
    "     --localcores=24 \\\n",
    "     --localmem=64 \n",
    "EOF"
   ]
  },
  {
   "cell_type": "code",
   "execution_count": 4,
   "metadata": {},
   "outputs": [
    {
     "name": "stdout",
     "output_type": "stream",
     "text": [
      "id,name,read,pattern,sequence,feature_type,target_gene_name\n",
      "scrambled_1_g1,scrambled_1_g1,R2,(BC)NNNNNNNNNNNNNNNNNNNNNNN,AGCCTAACGATCGGACCGAG,CRISPR Guide Capture,scrambled\n",
      "scrambled_2_g2,scrambled_2_g2,R2,(BC)NNNNNNNNNNNNNNNNNNNNNNN,TGTCCAGTTCCGTAGGATGG,CRISPR Guide Capture,scrambled\n",
      "scrambled_3_g3,scrambled_3_g3,R2,(BC)NNNNNNNNNNNNNNNNNNNNNNN,TATTCGTACCGGGCAGCAGG,CRISPR Guide Capture,scrambled\n",
      "scrambled_4_g4,scrambled_4_g4,R2,(BC)NNNNNNNNNNNNNNNNNNNNNNN,CGGTGGGGCCGCTCACTAGG,CRISPR Guide Capture,scrambled\n",
      "scrambled_5_g5,scrambled_5_g5,R2,(BC)NNNNNNNNNNNNNNNNNNNNNNN,CTGAACTTCGGTAAAGGCGG,CRISPR Guide Capture,scrambled\n",
      "scrambled_6_g6,scrambled_6_g6,R2,(BC)NNNNNNNNNNNNNNNNNNNNNNN,CTCACCGTAGAGACGGCACG,CRISPR Guide Capture,scrambled\n",
      "scrambled_7_g7,scrambled_7_g7,R2,(BC)NNNNNNNNNNNNNNNNNNNNNNN,ACCGCTGCCCTAACCACTGG,CRISPR Guide Capture,scrambled\n",
      "scrambled_8_g8,scrambled_8_g8,R2,(BC)NNNNNNNNNNNNNNNNNNNNNNN,GCTGTATATCGGCGCCCCGG,CRISPR Guide Capture,scrambled\n",
      "scrambled_9_g9,scrambled_9_g9,R2,(BC)NNNNNNNNNNNNNNNNNNNNNNN,ATGCGGCGAACTGCCGTAAG,CRISPR Guide Capture,scrambled\n"
     ]
    }
   ],
   "source": [
    "!head /data/gersbachlab/Revathy/collabs/Susan/data/gasperini/fastq/metadata/feature_reference_bc_23n.csv"
   ]
  },
  {
   "cell_type": "code",
   "execution_count": 6,
   "metadata": {},
   "outputs": [
    {
     "name": "stdout",
     "output_type": "stream",
     "text": [
      "id,name,read,pattern,sequence,feature_type,target_gene_name\n",
      "scrambled_1_g1,scrambled_1_g1,R2,NNNNNNNNNNNNNNNAACACCG(BC),AGCCTAACGATCGGACCGAG,CRISPR Guide Capture,scrambled\n",
      "scrambled_2_g2,scrambled_2_g2,R2,NNNNNNNNNNNNNNNAACACCG(BC),TGTCCAGTTCCGTAGGATGG,CRISPR Guide Capture,scrambled\n",
      "scrambled_3_g3,scrambled_3_g3,R2,NNNNNNNNNNNNNNNAACACCG(BC),TATTCGTACCGGGCAGCAGG,CRISPR Guide Capture,scrambled\n",
      "scrambled_4_g4,scrambled_4_g4,R2,NNNNNNNNNNNNNNNAACACCG(BC),CGGTGGGGCCGCTCACTAGG,CRISPR Guide Capture,scrambled\n",
      "scrambled_5_g5,scrambled_5_g5,R2,NNNNNNNNNNNNNNNAACACCG(BC),CTGAACTTCGGTAAAGGCGG,CRISPR Guide Capture,scrambled\n",
      "scrambled_6_g6,scrambled_6_g6,R2,NNNNNNNNNNNNNNNAACACCG(BC),CTCACCGTAGAGACGGCACG,CRISPR Guide Capture,scrambled\n",
      "scrambled_7_g7,scrambled_7_g7,R2,NNNNNNNNNNNNNNNAACACCG(BC),ACCGCTGCCCTAACCACTGG,CRISPR Guide Capture,scrambled\n",
      "scrambled_8_g8,scrambled_8_g8,R2,NNNNNNNNNNNNNNNAACACCG(BC),GCTGTATATCGGCGCCCCGG,CRISPR Guide Capture,scrambled\n",
      "scrambled_9_g9,scrambled_9_g9,R2,NNNNNNNNNNNNNNNAACACCG(BC),ATGCGGCGAACTGCCGTAAG,CRISPR Guide Capture,scrambled\n"
     ]
    }
   ],
   "source": [
    "!head /data/reddylab/Alex/collab/20181203_Tyler/data/metadata/gasperini.low_moi.feature_reference.csv"
   ]
  },
  {
   "cell_type": "code",
   "execution_count": 3,
   "metadata": {},
   "outputs": [
    {
     "data": {
      "text/plain": [
       "22"
      ]
     },
     "execution_count": 3,
     "metadata": {},
     "output_type": "execute_result"
    }
   ],
   "source": [
    "len('NNNNNNNNNNNNNNNAACACCG')"
   ]
  },
  {
   "cell_type": "markdown",
   "metadata": {},
   "source": [
    "## High_MOI\n",
    "\n",
    "Create high_moi_lib.csv, should be the same feature reference file "
   ]
  },
  {
   "cell_type": "code",
   "execution_count": 1,
   "metadata": {},
   "outputs": [],
   "source": [
    "%%bash\n",
    "cat /data/reddylab/Alex/collab/20181203_Tyler/data/metadata/gasperini.low_moi.feature_reference.csv \\\n",
    "> /data/gersbachlab/Revathy/collabs/Susan/data/gasperini/fastq/metadata/high_moi.feature_reference.csv"
   ]
  },
  {
   "cell_type": "code",
   "execution_count": 7,
   "metadata": {},
   "outputs": [
    {
     "name": "stdout",
     "output_type": "stream",
     "text": [
      "Writing /data/gersbachlab/Revathy/collabs/Susan/data/gasperini/fastq/metadata/high_moi_lib.csv\n"
     ]
    }
   ],
   "source": [
    "%%writefile /data/gersbachlab/Revathy/collabs/Susan/data/gasperini/fastq/metadata/high_moi_lib.csv\n",
    "fastqs,sample,library_type\n",
    "/data/gersbachlab/Revathy/collabs/Susan/data/gasperini/fastq/high_moi,K1000_CRISPRi_cells_r1_SI-GA-G1_HMMKLBGX3bamtofastq,Gene Expression\n",
    "/data/gersbachlab/Revathy/collabs/Susan/data/gasperini/fastq/high_moi,K1000_CRISPRi_cells_r1_SI-GA-G1_HMMMLBGX3bamtofastq,Gene Expression\n",
    "/data/gersbachlab/Revathy/collabs/Susan/data/gasperini/fastq/high_moi,K1000_CRISPRi_cells_r1_SI-GA-G1_HW5MKBGX3bamtofastq,Gene Expression\n",
    "/data/gersbachlab/Revathy/collabs/Susan/data/gasperini/fastq/high_moi,K1000_CRISPRi_cells_r1_SI-GA-G1_HWVT7BGX3bamtofastq,Gene Expression\n",
    "/data/gersbachlab/Revathy/collabs/Susan/data/gasperini/fastq/high_moi,K1000_CRISPRi_cells_r2_SI-GA-G2_HMMKLBGX3bamtofastq,Gene Expression\n",
    "/data/gersbachlab/Revathy/collabs/Susan/data/gasperini/fastq/high_moi,K1000_CRISPRi_cells_r2_SI-GA-G2_HMMMLBGX3bamtofastq,Gene Expression\n",
    "/data/gersbachlab/Revathy/collabs/Susan/data/gasperini/fastq/high_moi,K1000_CRISPRi_cells_r2_SI-GA-G2_HW5MKBGX3bamtofastq,Gene Expression\n",
    "/data/gersbachlab/Revathy/collabs/Susan/data/gasperini/fastq/high_moi,K1000_CRISPRi_cells_r2_SI-GA-G2_HWVT7BGX3bamtofastq,Gene Expression\n",
    "/data/gersbachlab/Revathy/collabs/Susan/data/gasperini/fastq/high_moi,K1000_CRISPRi_cells_r3_SI-GA-G3_HMMKLBGX3bamtofastq,Gene Expression\n",
    "/data/gersbachlab/Revathy/collabs/Susan/data/gasperini/fastq/high_moi,K1000_CRISPRi_cells_r3_SI-GA-G3_HMMMLBGX3bamtofastq,Gene Expression\n",
    "/data/gersbachlab/Revathy/collabs/Susan/data/gasperini/fastq/high_moi,K1000_CRISPRi_cells_r3_SI-GA-G3_HW5MKBGX3bamtofastq,Gene Expression\n",
    "/data/gersbachlab/Revathy/collabs/Susan/data/gasperini/fastq/high_moi,K1000_CRISPRi_cells_r3_SI-GA-G3_HWVT7BGX3bamtofastq,Gene Expression\n",
    "/data/gersbachlab/Revathy/collabs/Susan/data/gasperini/fastq/high_moi,K1000_CRISPRi_cells_r4_SI-GA-G4_HMMKLBGX3bamtofastq,Gene Expression\n",
    "/data/gersbachlab/Revathy/collabs/Susan/data/gasperini/fastq/high_moi,K1000_CRISPRi_cells_r4_SI-GA-G4_HMMMLBGX3bamtofastq,Gene Expression\n",
    "/data/gersbachlab/Revathy/collabs/Susan/data/gasperini/fastq/high_moi,K1000_CRISPRi_cells_r4_SI-GA-G4_HW5MKBGX3bamtofastq,Gene Expression\n",
    "/data/gersbachlab/Revathy/collabs/Susan/data/gasperini/fastq/high_moi,K1000_CRISPRi_cells_r4_SI-GA-G4_HWVT7BGX3bamtofastq,Gene Expression\n",
    "/data/gersbachlab/Revathy/collabs/Susan/data/gasperini/fastq/high_moi,K1000_CRISPRi_cells_r5_SI-GA-G5_HMMKLBGX3bamtofastq,Gene Expression\n",
    "/data/gersbachlab/Revathy/collabs/Susan/data/gasperini/fastq/high_moi,K1000_CRISPRi_cells_r5_SI-GA-G5_HMMMLBGX3bamtofastq,Gene Expression\n",
    "/data/gersbachlab/Revathy/collabs/Susan/data/gasperini/fastq/high_moi,K1000_CRISPRi_cells_r5_SI-GA-G5_HW5MKBGX3bamtofastq,Gene Expression\n",
    "/data/gersbachlab/Revathy/collabs/Susan/data/gasperini/fastq/high_moi,K1000_CRISPRi_cells_r5_SI-GA-G5_HWVT7BGX3bamtofastq,Gene Expression\n",
    "/data/gersbachlab/Revathy/collabs/Susan/data/gasperini/fastq/high_moi,K1000_CRISPRi_cells_r6_SI-GA-G6_HMMKLBGX3bamtofastq,Gene Expression\n",
    "/data/gersbachlab/Revathy/collabs/Susan/data/gasperini/fastq/high_moi,K1000_CRISPRi_cells_r6_SI-GA-G6_HMMMLBGX3bamtofastq,Gene Expression\n",
    "/data/gersbachlab/Revathy/collabs/Susan/data/gasperini/fastq/high_moi,K1000_CRISPRi_cells_r6_SI-GA-G6_HW5MKBGX3bamtofastq,Gene Expression\n",
    "/data/gersbachlab/Revathy/collabs/Susan/data/gasperini/fastq/high_moi,K1000_CRISPRi_cells_r6_SI-GA-G6_HWVT7BGX3bamtofastq,Gene Expression\n",
    "/data/gersbachlab/Revathy/collabs/Susan/data/gasperini/fastq/high_moi,K1000_CRISPRi_gRNA_r1_CGTTACCG_HMMKLBGX3bamtofastq,CRISPR Guide Capture\n",
    "/data/gersbachlab/Revathy/collabs/Susan/data/gasperini/fastq/high_moi,K1000_CRISPRi_gRNA_r1_CGTTACCG_HMMMLBGX3bamtofastq,CRISPR Guide Capture\n",
    "/data/gersbachlab/Revathy/collabs/Susan/data/gasperini/fastq/high_moi,K1000_CRISPRi_gRNA_r1_CGTTACCG_HW5MKBGX3bamtofastq,CRISPR Guide Capture\n",
    "/data/gersbachlab/Revathy/collabs/Susan/data/gasperini/fastq/high_moi,K1000_CRISPRi_gRNA_r2_ACTATTCA_HWVT7BGX3bamtofastq,CRISPR Guide Capture\n",
    "/data/gersbachlab/Revathy/collabs/Susan/data/gasperini/fastq/high_moi,K1000_CRISPRi_gRNA_r3_GACTGGAC_HMMKLBGX3bamtofastq,CRISPR Guide Capture\n",
    "/data/gersbachlab/Revathy/collabs/Susan/data/gasperini/fastq/high_moi,K1000_CRISPRi_gRNA_r3_GACTGGAC_HMMMLBGX3bamtofastq,CRISPR Guide Capture\n",
    "/data/gersbachlab/Revathy/collabs/Susan/data/gasperini/fastq/high_moi,K1000_CRISPRi_gRNA_r3_GACTGGAC_HW5MKBGX3bamtofastq,CRISPR Guide Capture\n",
    "/data/gersbachlab/Revathy/collabs/Susan/data/gasperini/fastq/high_moi,K1000_CRISPRi_gRNA_r4_TTGCTTAG_HMMKLBGX3bamtofastq,CRISPR Guide Capture\n",
    "/data/gersbachlab/Revathy/collabs/Susan/data/gasperini/fastq/high_moi,K1000_CRISPRi_gRNA_r4_TTGCTTAG_HMMMLBGX3bamtofastq,CRISPR Guide Capture\n",
    "/data/gersbachlab/Revathy/collabs/Susan/data/gasperini/fastq/high_moi,K1000_CRISPRi_gRNA_r4_TTGCTTAG_HW5MKBGX3bamtofastq,CRISPR Guide Capture\n",
    "/data/gersbachlab/Revathy/collabs/Susan/data/gasperini/fastq/high_moi,K1000_CRISPRi_gRNA_r5_AACGAATT_HMMKLBGX3bamtofastq,CRISPR Guide Capture\n",
    "/data/gersbachlab/Revathy/collabs/Susan/data/gasperini/fastq/high_moi,K1000_CRISPRi_gRNA_r5_AACGAATT_HMMMLBGX3bamtofastq,CRISPR Guide Capture\n",
    "/data/gersbachlab/Revathy/collabs/Susan/data/gasperini/fastq/high_moi,K1000_CRISPRi_gRNA_r5_AACGAATT_HW5MKBGX3bamtofastq,CRISPR Guide Capture\n",
    "/data/gersbachlab/Revathy/collabs/Susan/data/gasperini/fastq/high_moi,K1000_CRISPRi_gRNA_r6_TCTATCGC_HMMKLBGX3bamtofastq,CRISPR Guide Capture\n",
    "/data/gersbachlab/Revathy/collabs/Susan/data/gasperini/fastq/high_moi,K1000_CRISPRi_gRNA_r6_TCTATCGC_HMMMLBGX3bamtofastq,CRISPR Guide Capture\n",
    "/data/gersbachlab/Revathy/collabs/Susan/data/gasperini/fastq/high_moi,K1000_CRISPRi_gRNA_r6_TCTATCGC_HW5MKBGX3bamtofastq,CRISPR Guide Capture"
   ]
  },
  {
   "cell_type": "code",
   "execution_count": 8,
   "metadata": {},
   "outputs": [
    {
     "name": "stdout",
     "output_type": "stream",
     "text": [
      "Writing /data/gersbachlab/Revathy/collabs/Susan/data/gasperini/fastq/metadata/high_moi_lib_v1.csv\n"
     ]
    }
   ],
   "source": [
    "%%writefile /data/gersbachlab/Revathy/collabs/Susan/data/gasperini/fastq/metadata/high_moi_lib_v1.csv\n",
    "fastqs,sample,library_type\n",
    "/data/gersbachlab/Revathy/collabs/Susan/data/gasperini/fastq/high_moi,K1000_CRISPRi_cells_r1_SI-GA-G1_HMMKLBGX3bamtofastq,Gene Expression\n",
    "/data/gersbachlab/Revathy/collabs/Susan/data/gasperini/fastq/high_moi,K1000_CRISPRi_cells_r1_SI-GA-G1_HMMMLBGX3bamtofastq,Gene Expression\n",
    "/data/gersbachlab/Revathy/collabs/Susan/data/gasperini/fastq/high_moi,K1000_CRISPRi_cells_r1_SI-GA-G1_HW5MKBGX3bamtofastq,Gene Expression\n",
    "/data/gersbachlab/Revathy/collabs/Susan/data/gasperini/fastq/high_moi,K1000_CRISPRi_cells_r1_SI-GA-G1_HWVT7BGX3bamtofastq,Gene Expression\n",
    "/data/gersbachlab/Revathy/collabs/Susan/data/gasperini/fastq/high_moi,K1000_CRISPRi_gRNA_r1_CGTTACCG_HMMKLBGX3bamtofastq,CRISPR Guide Capture\n",
    "/data/gersbachlab/Revathy/collabs/Susan/data/gasperini/fastq/high_moi,K1000_CRISPRi_gRNA_r1_CGTTACCG_HMMMLBGX3bamtofastq,CRISPR Guide Capture\n",
    "/data/gersbachlab/Revathy/collabs/Susan/data/gasperini/fastq/high_moi,K1000_CRISPRi_gRNA_r1_CGTTACCG_HW5MKBGX3bamtofastq,CRISPR Guide Capture"
   ]
  },
  {
   "cell_type": "code",
   "execution_count": 12,
   "metadata": {},
   "outputs": [
    {
     "name": "stdout",
     "output_type": "stream",
     "text": [
      "Writing /data/gersbachlab/Revathy/collabs/Susan/data/gasperini/fastq/metadata/high_moi_lib_v2.csv\n"
     ]
    }
   ],
   "source": [
    "%%writefile /data/gersbachlab/Revathy/collabs/Susan/data/gasperini/fastq/metadata/high_moi_lib_v2.csv\n",
    "fastqs,sample,library_type\n",
    "/data/gersbachlab/Revathy/collabs/Susan/data/gasperini/fastq/high_moi,K1000_CRISPRi_cells_r2_SI-GA-G2_HMMKLBGX3bamtofastq,Gene Expression\n",
    "/data/gersbachlab/Revathy/collabs/Susan/data/gasperini/fastq/high_moi,K1000_CRISPRi_cells_r2_SI-GA-G2_HMMMLBGX3bamtofastq,Gene Expression\n",
    "/data/gersbachlab/Revathy/collabs/Susan/data/gasperini/fastq/high_moi,K1000_CRISPRi_cells_r2_SI-GA-G2_HW5MKBGX3bamtofastq,Gene Expression\n",
    "/data/gersbachlab/Revathy/collabs/Susan/data/gasperini/fastq/high_moi,K1000_CRISPRi_cells_r2_SI-GA-G2_HWVT7BGX3bamtofastq,Gene Expression\n",
    "/data/gersbachlab/Revathy/collabs/Susan/data/gasperini/fastq/high_moi,K1000_CRISPRi_gRNA_r2_ACTATTCA_HWVT7BGX3bamtofastq,CRISPR Guide Capture"
   ]
  },
  {
   "cell_type": "code",
   "execution_count": 1,
   "metadata": {},
   "outputs": [
    {
     "name": "stdout",
     "output_type": "stream",
     "text": [
      "Writing /data/gersbachlab/Revathy/collabs/Susan/data/gasperini/fastq/metadata/high_moi_lib_v3.csv\n"
     ]
    }
   ],
   "source": [
    "%%writefile /data/gersbachlab/Revathy/collabs/Susan/data/gasperini/fastq/metadata/high_moi_lib_v3.csv\n",
    "fastqs,sample,library_type\n",
    "/data/gersbachlab/Revathy/collabs/Susan/data/gasperini/fastq/high_moi,K1000_CRISPRi_cells_r3_SI-GA-G3_HMMKLBGX3bamtofastq,Gene Expression\n",
    "/data/gersbachlab/Revathy/collabs/Susan/data/gasperini/fastq/high_moi,K1000_CRISPRi_cells_r3_SI-GA-G3_HMMMLBGX3bamtofastq,Gene Expression\n",
    "/data/gersbachlab/Revathy/collabs/Susan/data/gasperini/fastq/high_moi,K1000_CRISPRi_cells_r3_SI-GA-G3_HW5MKBGX3bamtofastq,Gene Expression\n",
    "/data/gersbachlab/Revathy/collabs/Susan/data/gasperini/fastq/high_moi,K1000_CRISPRi_cells_r3_SI-GA-G3_HWVT7BGX3bamtofastq,Gene Expression\n",
    "/data/gersbachlab/Revathy/collabs/Susan/data/gasperini/fastq/high_moi,K1000_CRISPRi_gRNA_r3_GACTGGAC_HMMKLBGX3bamtofastq,CRISPR Guide Capture\n",
    "/data/gersbachlab/Revathy/collabs/Susan/data/gasperini/fastq/high_moi,K1000_CRISPRi_gRNA_r3_GACTGGAC_HMMMLBGX3bamtofastq,CRISPR Guide Capture\n",
    "/data/gersbachlab/Revathy/collabs/Susan/data/gasperini/fastq/high_moi,K1000_CRISPRi_gRNA_r3_GACTGGAC_HW5MKBGX3bamtofastq,CRISPR Guide Capture"
   ]
  },
  {
   "cell_type": "code",
   "execution_count": 2,
   "metadata": {},
   "outputs": [
    {
     "name": "stdout",
     "output_type": "stream",
     "text": [
      "Writing /data/gersbachlab/Revathy/collabs/Susan/data/gasperini/fastq/metadata/high_moi_lib_v4.csv\n"
     ]
    }
   ],
   "source": [
    "%%writefile /data/gersbachlab/Revathy/collabs/Susan/data/gasperini/fastq/metadata/high_moi_lib_v4.csv\n",
    "fastqs,sample,library_type\n",
    "/data/gersbachlab/Revathy/collabs/Susan/data/gasperini/fastq/high_moi,K1000_CRISPRi_cells_r4_SI-GA-G4_HMMKLBGX3bamtofastq,Gene Expression\n",
    "/data/gersbachlab/Revathy/collabs/Susan/data/gasperini/fastq/high_moi,K1000_CRISPRi_cells_r4_SI-GA-G4_HMMMLBGX3bamtofastq,Gene Expression\n",
    "/data/gersbachlab/Revathy/collabs/Susan/data/gasperini/fastq/high_moi,K1000_CRISPRi_cells_r4_SI-GA-G4_HW5MKBGX3bamtofastq,Gene Expression\n",
    "/data/gersbachlab/Revathy/collabs/Susan/data/gasperini/fastq/high_moi,K1000_CRISPRi_cells_r4_SI-GA-G4_HWVT7BGX3bamtofastq,Gene Expression\n",
    "/data/gersbachlab/Revathy/collabs/Susan/data/gasperini/fastq/high_moi,K1000_CRISPRi_gRNA_r4_TTGCTTAG_HMMKLBGX3bamtofastq,CRISPR Guide Capture\n",
    "/data/gersbachlab/Revathy/collabs/Susan/data/gasperini/fastq/high_moi,K1000_CRISPRi_gRNA_r4_TTGCTTAG_HMMMLBGX3bamtofastq,CRISPR Guide Capture\n",
    "/data/gersbachlab/Revathy/collabs/Susan/data/gasperini/fastq/high_moi,K1000_CRISPRi_gRNA_r4_TTGCTTAG_HW5MKBGX3bamtofastq,CRISPR Guide Capture"
   ]
  },
  {
   "cell_type": "code",
   "execution_count": 3,
   "metadata": {},
   "outputs": [
    {
     "name": "stdout",
     "output_type": "stream",
     "text": [
      "Writing /data/gersbachlab/Revathy/collabs/Susan/data/gasperini/fastq/metadata/high_moi_lib_v5.csv\n"
     ]
    }
   ],
   "source": [
    "%%writefile /data/gersbachlab/Revathy/collabs/Susan/data/gasperini/fastq/metadata/high_moi_lib_v5.csv\n",
    "fastqs,sample,library_type\n",
    "/data/gersbachlab/Revathy/collabs/Susan/data/gasperini/fastq/high_moi,K1000_CRISPRi_cells_r5_SI-GA-G5_HMMKLBGX3bamtofastq,Gene Expression\n",
    "/data/gersbachlab/Revathy/collabs/Susan/data/gasperini/fastq/high_moi,K1000_CRISPRi_cells_r5_SI-GA-G5_HMMMLBGX3bamtofastq,Gene Expression\n",
    "/data/gersbachlab/Revathy/collabs/Susan/data/gasperini/fastq/high_moi,K1000_CRISPRi_cells_r5_SI-GA-G5_HW5MKBGX3bamtofastq,Gene Expression\n",
    "/data/gersbachlab/Revathy/collabs/Susan/data/gasperini/fastq/high_moi,K1000_CRISPRi_cells_r5_SI-GA-G5_HWVT7BGX3bamtofastq,Gene Expression\n",
    "/data/gersbachlab/Revathy/collabs/Susan/data/gasperini/fastq/high_moi,K1000_CRISPRi_gRNA_r5_AACGAATT_HMMKLBGX3bamtofastq,CRISPR Guide Capture\n",
    "/data/gersbachlab/Revathy/collabs/Susan/data/gasperini/fastq/high_moi,K1000_CRISPRi_gRNA_r5_AACGAATT_HMMMLBGX3bamtofastq,CRISPR Guide Capture\n",
    "/data/gersbachlab/Revathy/collabs/Susan/data/gasperini/fastq/high_moi,K1000_CRISPRi_gRNA_r5_AACGAATT_HW5MKBGX3bamtofastq,CRISPR Guide Capture"
   ]
  },
  {
   "cell_type": "code",
   "execution_count": 4,
   "metadata": {},
   "outputs": [
    {
     "name": "stdout",
     "output_type": "stream",
     "text": [
      "Writing /data/gersbachlab/Revathy/collabs/Susan/data/gasperini/fastq/metadata/high_moi_lib_v6.csv\n"
     ]
    }
   ],
   "source": [
    "%%writefile /data/gersbachlab/Revathy/collabs/Susan/data/gasperini/fastq/metadata/high_moi_lib_v6.csv\n",
    "fastqs,sample,library_type\n",
    "/data/gersbachlab/Revathy/collabs/Susan/data/gasperini/fastq/high_moi,K1000_CRISPRi_cells_r6_SI-GA-G6_HMMKLBGX3bamtofastq,Gene Expression\n",
    "/data/gersbachlab/Revathy/collabs/Susan/data/gasperini/fastq/high_moi,K1000_CRISPRi_cells_r6_SI-GA-G6_HMMMLBGX3bamtofastq,Gene Expression\n",
    "/data/gersbachlab/Revathy/collabs/Susan/data/gasperini/fastq/high_moi,K1000_CRISPRi_cells_r6_SI-GA-G6_HW5MKBGX3bamtofastq,Gene Expression\n",
    "/data/gersbachlab/Revathy/collabs/Susan/data/gasperini/fastq/high_moi,K1000_CRISPRi_cells_r6_SI-GA-G6_HWVT7BGX3bamtofastq,Gene Expression\n",
    "/data/gersbachlab/Revathy/collabs/Susan/data/gasperini/fastq/high_moi,K1000_CRISPRi_gRNA_r6_TCTATCGC_HMMKLBGX3bamtofastq,CRISPR Guide Capture\n",
    "/data/gersbachlab/Revathy/collabs/Susan/data/gasperini/fastq/high_moi,K1000_CRISPRi_gRNA_r6_TCTATCGC_HMMMLBGX3bamtofastq,CRISPR Guide Capture\n",
    "/data/gersbachlab/Revathy/collabs/Susan/data/gasperini/fastq/high_moi,K1000_CRISPRi_gRNA_r6_TCTATCGC_HW5MKBGX3bamtofastq,CRISPR Guide Capture"
   ]
  },
  {
   "cell_type": "code",
   "execution_count": 5,
   "metadata": {},
   "outputs": [
    {
     "name": "stdout",
     "output_type": "stream",
     "text": [
      "Submitted batch job 30458975\n"
     ]
    }
   ],
   "source": [
    "%%bash\n",
    "mkdir -p /data/gersbachlab/Revathy/collabs/Susan/results/gasperini/high_moi\n",
    "cd /data/gersbachlab/Revathy/collabs/Susan/results/gasperini/high_moi\n",
    "sbatch \\\n",
    "    -p all \\\n",
    "    --exclude=dl-01 \\\n",
    "    -o /data/gersbachlab/Revathy/collabs/Susan/logs/high_moi_data_cellranger.v3.out \\\n",
    "    --mem=96G \\\n",
    "    --cpus-per-task=24 \\\n",
    "    <<'EOF'\n",
    "#!/bin/bash\n",
    "/data/gersbachlab/Ruhi/pipeline_perturbseq_like/cellranger-7.1.0/bin/cellranger count \\\n",
    "     --id=\"run1_r3\" \\\n",
    "     --libraries=/data/gersbachlab/Revathy/collabs/Susan/data/gasperini/fastq/metadata/high_moi_lib_v3.csv \\\n",
    "     --transcriptome=/data/reddylab/Reference_Data/cellranger/refdata-gex-GRCh38-2020-A \\\n",
    "     --feature-ref=/data/gersbachlab/Revathy/collabs/Susan/data/gasperini/fastq/metadata/high_moi.feature_reference.csv \\\n",
    "     --chemistry=SC3Pv2 \\\n",
    "     --check-library-compatibility=false \\\n",
    "     --localcores=24 \\\n",
    "     --localmem=96 \n",
    "EOF"
   ]
  },
  {
   "cell_type": "code",
   "execution_count": 6,
   "metadata": {},
   "outputs": [
    {
     "name": "stdout",
     "output_type": "stream",
     "text": [
      "Submitted batch job 30458976\n"
     ]
    }
   ],
   "source": [
    "%%bash\n",
    "mkdir -p /data/gersbachlab/Revathy/collabs/Susan/results/gasperini/high_moi\n",
    "cd /data/gersbachlab/Revathy/collabs/Susan/results/gasperini/high_moi\n",
    "sbatch \\\n",
    "    -p all \\\n",
    "    --exclude=dl-01 \\\n",
    "    -o /data/gersbachlab/Revathy/collabs/Susan/logs/high_moi_data_cellranger.v4.out \\\n",
    "    --mem=96G \\\n",
    "    --cpus-per-task=24 \\\n",
    "    <<'EOF'\n",
    "#!/bin/bash\n",
    "/data/gersbachlab/Ruhi/pipeline_perturbseq_like/cellranger-7.1.0/bin/cellranger count \\\n",
    "     --id=\"run1_r4\" \\\n",
    "     --libraries=/data/gersbachlab/Revathy/collabs/Susan/data/gasperini/fastq/metadata/high_moi_lib_v4.csv \\\n",
    "     --transcriptome=/data/reddylab/Reference_Data/cellranger/refdata-gex-GRCh38-2020-A \\\n",
    "     --feature-ref=/data/gersbachlab/Revathy/collabs/Susan/data/gasperini/fastq/metadata/high_moi.feature_reference.csv \\\n",
    "     --chemistry=SC3Pv2 \\\n",
    "     --check-library-compatibility=false \\\n",
    "     --localcores=24 \\\n",
    "     --localmem=96 \n",
    "EOF"
   ]
  },
  {
   "cell_type": "code",
   "execution_count": 7,
   "metadata": {},
   "outputs": [
    {
     "name": "stdout",
     "output_type": "stream",
     "text": [
      "Submitted batch job 30458977\n"
     ]
    }
   ],
   "source": [
    "%%bash\n",
    "mkdir -p /data/gersbachlab/Revathy/collabs/Susan/results/gasperini/high_moi\n",
    "cd /data/gersbachlab/Revathy/collabs/Susan/results/gasperini/high_moi\n",
    "sbatch \\\n",
    "    -p all \\\n",
    "    --exclude=dl-01 \\\n",
    "    -o /data/gersbachlab/Revathy/collabs/Susan/logs/high_moi_data_cellranger.v5.out \\\n",
    "    --mem=96G \\\n",
    "    --cpus-per-task=24 \\\n",
    "    <<'EOF'\n",
    "#!/bin/bash\n",
    "/data/gersbachlab/Ruhi/pipeline_perturbseq_like/cellranger-7.1.0/bin/cellranger count \\\n",
    "     --id=\"run1_r5\" \\\n",
    "     --libraries=/data/gersbachlab/Revathy/collabs/Susan/data/gasperini/fastq/metadata/high_moi_lib_v5.csv \\\n",
    "     --transcriptome=/data/reddylab/Reference_Data/cellranger/refdata-gex-GRCh38-2020-A \\\n",
    "     --feature-ref=/data/gersbachlab/Revathy/collabs/Susan/data/gasperini/fastq/metadata/high_moi.feature_reference.csv \\\n",
    "     --chemistry=SC3Pv2 \\\n",
    "     --check-library-compatibility=false \\\n",
    "     --localcores=24 \\\n",
    "     --localmem=96 \n",
    "EOF"
   ]
  },
  {
   "cell_type": "code",
   "execution_count": 9,
   "metadata": {},
   "outputs": [
    {
     "name": "stdout",
     "output_type": "stream",
     "text": [
      "Submitted batch job 30458986\n"
     ]
    }
   ],
   "source": [
    "%%bash\n",
    "mkdir -p /data/gersbachlab/Revathy/collabs/Susan/results/gasperini/high_moi\n",
    "cd /data/gersbachlab/Revathy/collabs/Susan/results/gasperini/high_moi\n",
    "sbatch \\\n",
    "    -p all \\\n",
    "    --exclude=dl-01 \\\n",
    "    -o /data/gersbachlab/Revathy/collabs/Susan/logs/high_moi_data_cellranger.v6.out \\\n",
    "    --mem=96G \\\n",
    "    --cpus-per-task=24 \\\n",
    "    <<'EOF'\n",
    "#!/bin/bash\n",
    "/data/gersbachlab/Ruhi/pipeline_perturbseq_like/cellranger-7.1.0/bin/cellranger count \\\n",
    "     --id=\"run1_r6\" \\\n",
    "     --libraries=/data/gersbachlab/Revathy/collabs/Susan/data/gasperini/fastq/metadata/high_moi_lib_v6.csv \\\n",
    "     --transcriptome=/data/reddylab/Reference_Data/cellranger/refdata-gex-GRCh38-2020-A \\\n",
    "     --feature-ref=/data/gersbachlab/Revathy/collabs/Susan/data/gasperini/fastq/metadata/high_moi.feature_reference.csv \\\n",
    "     --chemistry=SC3Pv2 \\\n",
    "     --check-library-compatibility=false \\\n",
    "     --localcores=24 \\\n",
    "     --localmem=96 \n",
    "EOF"
   ]
  },
  {
   "cell_type": "code",
   "execution_count": 10,
   "metadata": {},
   "outputs": [
    {
     "name": "stdout",
     "output_type": "stream",
     "text": [
      "Writing /data/gersbachlab/Revathy/collabs/Susan/data/gasperini/fastq/metadata/high_moi_lib.aggr.csv\n"
     ]
    }
   ],
   "source": [
    "%%writefile /data/gersbachlab/Revathy/collabs/Susan/data/gasperini/fastq/metadata/high_moi_lib.aggr.csv\n",
    "sample_id,molecule_h5\n",
    "run1_r1,/data/gersbachlab/Revathy/collabs/Susan/results/gasperini/high_moi/run1_r1/outs/molecule_info.h5\n",
    "run1_r2,/data/gersbachlab/Revathy/collabs/Susan/results/gasperini/high_moi/run1_r2/outs/molecule_info.h5\n",
    "run1_r3,/data/gersbachlab/Revathy/collabs/Susan/results/gasperini/high_moi/run1_r3/outs/molecule_info.h5\n",
    "run1_r4,/data/gersbachlab/Revathy/collabs/Susan/results/gasperini/high_moi/run1_r4/outs/molecule_info.h5\n",
    "run1_r5,/data/gersbachlab/Revathy/collabs/Susan/results/gasperini/high_moi/run1_r5/outs/molecule_info.h5\n",
    "run1_r6,/data/gersbachlab/Revathy/collabs/Susan/results/gasperini/high_moi/run1_r6/outs/molecule_info.h5"
   ]
  },
  {
   "cell_type": "code",
   "execution_count": 2,
   "metadata": {},
   "outputs": [
    {
     "name": "stdout",
     "output_type": "stream",
     "text": [
      "Submitted batch job 30460651\n"
     ]
    }
   ],
   "source": [
    "%%bash\n",
    "cd /data/gersbachlab/Revathy/collabs/Susan/results/gasperini/high_moi\n",
    "sbatch \\\n",
    "    -p all \\\n",
    "    --exclude=dl-01 \\\n",
    "    -o /data/gersbachlab/Revathy/collabs/Susan/logs/high_moi_data_cellranger_aggr.out \\\n",
    "    --mem=48G \\\n",
    "    --cpus-per-task=24 \\\n",
    "    <<'EOF'\n",
    "#!/bin/bash\n",
    "/data/gersbachlab/Ruhi/pipeline_perturbseq_like/cellranger-7.1.0/bin/cellranger aggr \\\n",
    "     --localcores 24 \\\n",
    "     --localmem 48 \\\n",
    "     --normalize none \\\n",
    "     --id \"aggr\" \\\n",
    "     --csv /data/gersbachlab/Revathy/collabs/Susan/data/gasperini/fastq/metadata/high_moi_lib.aggr.csv\n",
    "     \n",
    "EOF"
   ]
  },
  {
   "cell_type": "markdown",
   "metadata": {},
   "source": [
    "## At scale data\n",
    "\n",
    "Data folder: `/data/reddylab/Alex/collab/20181203_Tyler/data/external/gasperini/bams/fastq`"
   ]
  },
  {
   "cell_type": "code",
   "execution_count": 3,
   "metadata": {},
   "outputs": [],
   "source": [
    "%%bash\n",
    "mkdir -p /data/gersbachlab/Revathy/collabs/Susan/data/gasperini/fastq/at_scale\n",
    "ln -s /data/reddylab/Alex/collab/20181203_Tyler/data/external/gasperini/bams/fastq /data/gersbachlab/Revathy/collabs/Susan/data/gasperini/fastq/at_scale"
   ]
  },
  {
   "cell_type": "code",
   "execution_count": 30,
   "metadata": {
    "collapsed": true,
    "jupyter": {
     "outputs_hidden": true
    }
   },
   "outputs": [
    {
     "name": "stdout",
     "output_type": "stream",
     "text": [
      "/data/gersbachlab/Revathy/collabs/Susan/data/gasperini/fastq/at_scale/1A_8_gRNA_TAGAGGCG_MissingLibrary_1_H3FMKDSXXbamtofastq_S1_L001_I1_001.fastq.gz\n",
      "/data/gersbachlab/Revathy/collabs/Susan/data/gasperini/fastq/at_scale/1A_8_gRNA_TAGAGGCG_MissingLibrary_1_H3FMKDSXXbamtofastq_S1_L001_R1_001.fastq.gz\n",
      "/data/gersbachlab/Revathy/collabs/Susan/data/gasperini/fastq/at_scale/1A_8_gRNA_TAGAGGCG_MissingLibrary_1_H3FMKDSXXbamtofastq_S1_L001_R2_001.fastq.gz\n",
      "/data/gersbachlab/Revathy/collabs/Susan/data/gasperini/fastq/at_scale/1A_8_gRNA_TAGAGGCG_MissingLibrary_1_H3FMKDSXXbamtofastq_S1_L002_I1_001.fastq.gz\n",
      "/data/gersbachlab/Revathy/collabs/Susan/data/gasperini/fastq/at_scale/1A_8_gRNA_TAGAGGCG_MissingLibrary_1_H3FMKDSXXbamtofastq_S1_L002_R1_001.fastq.gz\n",
      "/data/gersbachlab/Revathy/collabs/Susan/data/gasperini/fastq/at_scale/1A_8_gRNA_TAGAGGCG_MissingLibrary_1_H3FMKDSXXbamtofastq_S1_L002_R2_001.fastq.gz\n",
      "/data/gersbachlab/Revathy/collabs/Susan/data/gasperini/fastq/at_scale/1A_8_gRNA_TAGAGGCG_MissingLibrary_1_H3FMKDSXXbamtofastq_S1_L003_I1_001.fastq.gz\n",
      "/data/gersbachlab/Revathy/collabs/Susan/data/gasperini/fastq/at_scale/1A_8_gRNA_TAGAGGCG_MissingLibrary_1_H3FMKDSXXbamtofastq_S1_L003_R1_001.fastq.gz\n",
      "/data/gersbachlab/Revathy/collabs/Susan/data/gasperini/fastq/at_scale/1A_8_gRNA_TAGAGGCG_MissingLibrary_1_H3FMKDSXXbamtofastq_S1_L003_R2_001.fastq.gz\n",
      "/data/gersbachlab/Revathy/collabs/Susan/data/gasperini/fastq/at_scale/1A_8_gRNA_TAGAGGCG_MissingLibrary_1_H3FMKDSXXbamtofastq_S1_L004_I1_001.fastq.gz\n",
      "/data/gersbachlab/Revathy/collabs/Susan/data/gasperini/fastq/at_scale/1A_8_gRNA_TAGAGGCG_MissingLibrary_1_H3FMKDSXXbamtofastq_S1_L004_R1_001.fastq.gz\n",
      "/data/gersbachlab/Revathy/collabs/Susan/data/gasperini/fastq/at_scale/1A_8_gRNA_TAGAGGCG_MissingLibrary_1_H3FMKDSXXbamtofastq_S1_L004_R2_001.fastq.gz\n",
      "/data/gersbachlab/Revathy/collabs/Susan/data/gasperini/fastq/at_scale/1A_8_SI-GA-E9_MissingLibrary_1_H3FMKDSXXbamtofastq_S1_L001_I1_001.fastq.gz\n",
      "/data/gersbachlab/Revathy/collabs/Susan/data/gasperini/fastq/at_scale/1A_8_SI-GA-E9_MissingLibrary_1_H3FMKDSXXbamtofastq_S1_L001_I1_002.fastq.gz\n",
      "/data/gersbachlab/Revathy/collabs/Susan/data/gasperini/fastq/at_scale/1A_8_SI-GA-E9_MissingLibrary_1_H3FMKDSXXbamtofastq_S1_L001_R1_001.fastq.gz\n",
      "/data/gersbachlab/Revathy/collabs/Susan/data/gasperini/fastq/at_scale/1A_8_SI-GA-E9_MissingLibrary_1_H3FMKDSXXbamtofastq_S1_L001_R1_002.fastq.gz\n",
      "/data/gersbachlab/Revathy/collabs/Susan/data/gasperini/fastq/at_scale/1A_8_SI-GA-E9_MissingLibrary_1_H3FMKDSXXbamtofastq_S1_L001_R2_001.fastq.gz\n",
      "/data/gersbachlab/Revathy/collabs/Susan/data/gasperini/fastq/at_scale/1A_8_SI-GA-E9_MissingLibrary_1_H3FMKDSXXbamtofastq_S1_L001_R2_002.fastq.gz\n",
      "/data/gersbachlab/Revathy/collabs/Susan/data/gasperini/fastq/at_scale/1A_8_SI-GA-E9_MissingLibrary_1_H3FMKDSXXbamtofastq_S1_L002_I1_001.fastq.gz\n",
      "/data/gersbachlab/Revathy/collabs/Susan/data/gasperini/fastq/at_scale/1A_8_SI-GA-E9_MissingLibrary_1_H3FMKDSXXbamtofastq_S1_L002_I1_002.fastq.gz\n",
      "/data/gersbachlab/Revathy/collabs/Susan/data/gasperini/fastq/at_scale/1A_8_SI-GA-E9_MissingLibrary_1_H3FMKDSXXbamtofastq_S1_L002_R1_001.fastq.gz\n",
      "/data/gersbachlab/Revathy/collabs/Susan/data/gasperini/fastq/at_scale/1A_8_SI-GA-E9_MissingLibrary_1_H3FMKDSXXbamtofastq_S1_L002_R1_002.fastq.gz\n",
      "/data/gersbachlab/Revathy/collabs/Susan/data/gasperini/fastq/at_scale/1A_8_SI-GA-E9_MissingLibrary_1_H3FMKDSXXbamtofastq_S1_L002_R2_001.fastq.gz\n",
      "/data/gersbachlab/Revathy/collabs/Susan/data/gasperini/fastq/at_scale/1A_8_SI-GA-E9_MissingLibrary_1_H3FMKDSXXbamtofastq_S1_L002_R2_002.fastq.gz\n",
      "/data/gersbachlab/Revathy/collabs/Susan/data/gasperini/fastq/at_scale/1A_8_SI-GA-E9_MissingLibrary_1_H3FMKDSXXbamtofastq_S1_L003_I1_001.fastq.gz\n",
      "/data/gersbachlab/Revathy/collabs/Susan/data/gasperini/fastq/at_scale/1A_8_SI-GA-E9_MissingLibrary_1_H3FMKDSXXbamtofastq_S1_L003_I1_002.fastq.gz\n",
      "/data/gersbachlab/Revathy/collabs/Susan/data/gasperini/fastq/at_scale/1A_8_SI-GA-E9_MissingLibrary_1_H3FMKDSXXbamtofastq_S1_L003_R1_001.fastq.gz\n",
      "/data/gersbachlab/Revathy/collabs/Susan/data/gasperini/fastq/at_scale/1A_8_SI-GA-E9_MissingLibrary_1_H3FMKDSXXbamtofastq_S1_L003_R1_002.fastq.gz\n",
      "/data/gersbachlab/Revathy/collabs/Susan/data/gasperini/fastq/at_scale/1A_8_SI-GA-E9_MissingLibrary_1_H3FMKDSXXbamtofastq_S1_L003_R2_001.fastq.gz\n",
      "/data/gersbachlab/Revathy/collabs/Susan/data/gasperini/fastq/at_scale/1A_8_SI-GA-E9_MissingLibrary_1_H3FMKDSXXbamtofastq_S1_L003_R2_002.fastq.gz\n",
      "/data/gersbachlab/Revathy/collabs/Susan/data/gasperini/fastq/at_scale/1A_8_SI-GA-E9_MissingLibrary_1_H3FMKDSXXbamtofastq_S1_L004_I1_001.fastq.gz\n",
      "/data/gersbachlab/Revathy/collabs/Susan/data/gasperini/fastq/at_scale/1A_8_SI-GA-E9_MissingLibrary_1_H3FMKDSXXbamtofastq_S1_L004_I1_002.fastq.gz\n",
      "/data/gersbachlab/Revathy/collabs/Susan/data/gasperini/fastq/at_scale/1A_8_SI-GA-E9_MissingLibrary_1_H3FMKDSXXbamtofastq_S1_L004_R1_001.fastq.gz\n",
      "/data/gersbachlab/Revathy/collabs/Susan/data/gasperini/fastq/at_scale/1A_8_SI-GA-E9_MissingLibrary_1_H3FMKDSXXbamtofastq_S1_L004_R1_002.fastq.gz\n",
      "/data/gersbachlab/Revathy/collabs/Susan/data/gasperini/fastq/at_scale/1A_8_SI-GA-E9_MissingLibrary_1_H3FMKDSXXbamtofastq_S1_L004_R2_001.fastq.gz\n",
      "/data/gersbachlab/Revathy/collabs/Susan/data/gasperini/fastq/at_scale/1A_8_SI-GA-E9_MissingLibrary_1_H3FMKDSXXbamtofastq_S1_L004_R2_002.fastq.gz\n"
     ]
    }
   ],
   "source": [
    "!ls /data/gersbachlab/Revathy/collabs/Susan/data/gasperini/fastq/at_scale/1A_8*"
   ]
  },
  {
   "cell_type": "code",
   "execution_count": 31,
   "metadata": {},
   "outputs": [
    {
     "name": "stdout",
     "output_type": "stream",
     "text": [
      "Overwriting /data/gersbachlab/Revathy/collabs/Susan/data/gasperini/fastq/metadata/at_scale_lib_1A.csv\n"
     ]
    }
   ],
   "source": [
    "%%writefile /data/gersbachlab/Revathy/collabs/Susan/data/gasperini/fastq/metadata/at_scale_lib_1A.csv\n",
    "fastqs,sample,library_type\n",
    "/data/gersbachlab/Revathy/collabs/Susan/data/gasperini/fastq/at_scale,1A_1_SI-GA-E2_MissingLibrary_1_H3FMKDSXXbamtofastq,Gene Expression\n",
    "/data/gersbachlab/Revathy/collabs/Susan/data/gasperini/fastq/at_scale,1A_2_SI-GA-E3_MissingLibrary_1_H3FMKDSXXbamtofastq,Gene Expression\n",
    "/data/gersbachlab/Revathy/collabs/Susan/data/gasperini/fastq/at_scale,1A_3_SI-GA-E4_MissingLibrary_1_H3FMKDSXXbamtofastq,Gene Expression\n",
    "/data/gersbachlab/Revathy/collabs/Susan/data/gasperini/fastq/at_scale,1A_4_SI-GA-E5_MissingLibrary_1_H3FMKDSXXbamtofastq,Gene Expression\n",
    "/data/gersbachlab/Revathy/collabs/Susan/data/gasperini/fastq/at_scale,1A_5_SI-GA-E6_MissingLibrary_1_H3FMKDSXXbamtofastq,Gene Expression\n",
    "/data/gersbachlab/Revathy/collabs/Susan/data/gasperini/fastq/at_scale,1A_6_SI-GA-E7_MissingLibrary_1_H3FMKDSXXbamtofastq,Gene Expression\n",
    "/data/gersbachlab/Revathy/collabs/Susan/data/gasperini/fastq/at_scale,1A_7_SI-GA-E8_MissingLibrary_1_H3FMKDSXXbamtofastq,Gene Expression\n",
    "/data/gersbachlab/Revathy/collabs/Susan/data/gasperini/fastq/at_scale,1A_8_SI-GA-E9_MissingLibrary_1_H3FMKDSXXbamtofastq,Gene Expression\n",
    "/data/gersbachlab/Revathy/collabs/Susan/data/gasperini/fastq/at_scale,1A_1_gRNA_CAGCTAGC_MissingLibrary_1_H3FMKDSXXbamtofastq,CRISPR Guide Capture\n",
    "/data/gersbachlab/Revathy/collabs/Susan/data/gasperini/fastq/at_scale,1A_2_gRNA_CTAAGCCT_MissingLibrary_1_H3FMKDSXXbamtofastq,CRISPR Guide Capture\n",
    "/data/gersbachlab/Revathy/collabs/Susan/data/gasperini/fastq/at_scale,1A_3_gRNA_CGTTACCG_MissingLibrary_1_H3FMKDSXXbamtofastq,CRISPR Guide Capture\n",
    "/data/gersbachlab/Revathy/collabs/Susan/data/gasperini/fastq/at_scale,1A_4_gRNA_GACTGGAC_MissingLibrary_1_H3FMKDSXXbamtofastq,CRISPR Guide Capture\n",
    "/data/gersbachlab/Revathy/collabs/Susan/data/gasperini/fastq/at_scale,1A_5_gRNA_GCAAGACC_MissingLibrary_1_H3FMKDSXXbamtofastq,CRISPR Guide Capture\n",
    "/data/gersbachlab/Revathy/collabs/Susan/data/gasperini/fastq/at_scale,1A_6_gRNA_TCAATCTC_MissingLibrary_1_H3FMKDSXXbamtofastq,CRISPR Guide Capture\n",
    "/data/gersbachlab/Revathy/collabs/Susan/data/gasperini/fastq/at_scale,1A_7_gRNA_ATACCTCG_MissingLibrary_1_H3FMKDSXXbamtofastq,CRISPR Guide Capture\n",
    "/data/gersbachlab/Revathy/collabs/Susan/data/gasperini/fastq/at_scale,1A_8_gRNA_TAGAGGCG_MissingLibrary_1_H3FMKDSXXbamtofastq,CRISPR Guide Capture"
   ]
  },
  {
   "cell_type": "code",
   "execution_count": 1,
   "metadata": {},
   "outputs": [
    {
     "name": "stdout",
     "output_type": "stream",
     "text": [
      "Writing /data/gersbachlab/Revathy/collabs/Susan/data/gasperini/fastq/metadata/at_scale_lib_1B.csv\n"
     ]
    }
   ],
   "source": [
    "%%writefile /data/gersbachlab/Revathy/collabs/Susan/data/gasperini/fastq/metadata/at_scale_lib_1B.csv\n",
    "fastqs,sample,library_type\n",
    "/data/gersbachlab/Revathy/collabs/Susan/data/gasperini/fastq/at_scale,1B_1_SI-GA-F2_MissingLibrary_1_H3FMKDSXXbamtofastq,Gene Expression\n",
    "/data/gersbachlab/Revathy/collabs/Susan/data/gasperini/fastq/at_scale,1B_2_SI-GA-F3_MissingLibrary_1_H3FMKDSXXbamtofastq,Gene Expression\n",
    "/data/gersbachlab/Revathy/collabs/Susan/data/gasperini/fastq/at_scale,1B_3_SI-GA-F4_MissingLibrary_1_H3FMKDSXXbamtofastq,Gene Expression\n",
    "/data/gersbachlab/Revathy/collabs/Susan/data/gasperini/fastq/at_scale,1B_4_SI-GA-F5_MissingLibrary_1_H3FMKDSXXbamtofastq,Gene Expression\n",
    "/data/gersbachlab/Revathy/collabs/Susan/data/gasperini/fastq/at_scale,1B_5_SI-GA-F6_MissingLibrary_1_H3FMKDSXXbamtofastq,Gene Expression\n",
    "/data/gersbachlab/Revathy/collabs/Susan/data/gasperini/fastq/at_scale,1B_6_SI-GA-F7_MissingLibrary_1_H3FMKDSXXbamtofastq,Gene Expression\n",
    "/data/gersbachlab/Revathy/collabs/Susan/data/gasperini/fastq/at_scale,1B_7_SI-GA-F8_MissingLibrary_1_H3FMKDSXXbamtofastq,Gene Expression\n",
    "/data/gersbachlab/Revathy/collabs/Susan/data/gasperini/fastq/at_scale,1B_8_SI-GA-F9_MissingLibrary_1_H3FMKDSXXbamtofastq,Gene Expression\n",
    "/data/gersbachlab/Revathy/collabs/Susan/data/gasperini/fastq/at_scale,1B_1_gRNA_TAGGTAAC_MissingLibrary_1_H3FMKDSXXbamtofastq,CRISPR Guide Capture\n",
    "/data/gersbachlab/Revathy/collabs/Susan/data/gasperini/fastq/at_scale,1B_2_gRNA_TTCGAATA_MissingLibrary_1_H3FMKDSXXbamtofastq,CRISPR Guide Capture\n",
    "/data/gersbachlab/Revathy/collabs/Susan/data/gasperini/fastq/at_scale,1B_3_gRNA_TGGACGAC_MissingLibrary_1_H3FMKDSXXbamtofastq,CRISPR Guide Capture\n",
    "/data/gersbachlab/Revathy/collabs/Susan/data/gasperini/fastq/at_scale,1B_4_gRNA_GTAGGCTG_MissingLibrary_1_H3FMKDSXXbamtofastq,CRISPR Guide Capture\n",
    "/data/gersbachlab/Revathy/collabs/Susan/data/gasperini/fastq/at_scale,1B_5_gRNA_GGTTATCG_MissingLibrary_1_H3FMKDSXXbamtofastq,CRISPR Guide Capture\n",
    "/data/gersbachlab/Revathy/collabs/Susan/data/gasperini/fastq/at_scale,1B_6_gRNA_GCATCGTA_MissingLibrary_1_H3FMKDSXXbamtofastq,CRISPR Guide Capture\n",
    "/data/gersbachlab/Revathy/collabs/Susan/data/gasperini/fastq/at_scale,1B_7_gRNA_AATACGAT_MissingLibrary_1_H3FMKDSXXbamtofastq,CRISPR Guide Capture\n",
    "/data/gersbachlab/Revathy/collabs/Susan/data/gasperini/fastq/at_scale,1B_8_gRNA_TTCCGTCG_MissingLibrary_1_H3FMKDSXXbamtofastq,CRISPR Guide Capture"
   ]
  },
  {
   "cell_type": "code",
   "execution_count": 3,
   "metadata": {},
   "outputs": [
    {
     "name": "stdout",
     "output_type": "stream",
     "text": [
      "Writing /data/gersbachlab/Revathy/collabs/Susan/data/gasperini/fastq/metadata/at_scale_lib_2A.csv\n"
     ]
    }
   ],
   "source": [
    "%%writefile /data/gersbachlab/Revathy/collabs/Susan/data/gasperini/fastq/metadata/at_scale_lib_2A.csv\n",
    "fastqs,sample,library_type\n",
    "/data/gersbachlab/Revathy/collabs/Susan/data/gasperini/fastq/at_scale,2A_1_SI-GA-G2_MissingLibrary_1_H3FMKDSXXbamtofastq,Gene Expression\n",
    "/data/gersbachlab/Revathy/collabs/Susan/data/gasperini/fastq/at_scale,2A_2_SI-GA-G3_MissingLibrary_1_H3FMKDSXXbamtofastq,Gene Expression\n",
    "/data/gersbachlab/Revathy/collabs/Susan/data/gasperini/fastq/at_scale,2A_3_SI-GA-G4_MissingLibrary_1_H3FMKDSXXbamtofastq,Gene Expression\n",
    "/data/gersbachlab/Revathy/collabs/Susan/data/gasperini/fastq/at_scale,2A_4_SI-GA-G5_MissingLibrary_1_H3FMKDSXXbamtofastq,Gene Expression\n",
    "/data/gersbachlab/Revathy/collabs/Susan/data/gasperini/fastq/at_scale,2A_5_SI-GA-G6_MissingLibrary_1_H3FMKDSXXbamtofastq,Gene Expression\n",
    "/data/gersbachlab/Revathy/collabs/Susan/data/gasperini/fastq/at_scale,2A_6_SI-GA-G7_MissingLibrary_1_H3FMKDSXXbamtofastq,Gene Expression\n",
    "/data/gersbachlab/Revathy/collabs/Susan/data/gasperini/fastq/at_scale,2A_7_SI-GA-G8_MissingLibrary_1_H3FMKDSXXbamtofastq,Gene Expression\n",
    "/data/gersbachlab/Revathy/collabs/Susan/data/gasperini/fastq/at_scale,2A_8_SI-GA-G9_MissingLibrary_1_H3FMKDSXXbamtofastq,Gene Expression\n",
    "/data/gersbachlab/Revathy/collabs/Susan/data/gasperini/fastq/at_scale,2A_1_gRNA_AAGTAGCT_MissingLibrary_1_H3FMKDSXXbamtofastq,CRISPR Guide Capture\n",
    "/data/gersbachlab/Revathy/collabs/Susan/data/gasperini/fastq/at_scale,2A_2_gRNA_TATTGCTG_MissingLibrary_1_H3FMKDSXXbamtofastq,CRISPR Guide Capture\n",
    "/data/gersbachlab/Revathy/collabs/Susan/data/gasperini/fastq/at_scale,2A_3_gRNA_CCAGATAC_MissingLibrary_1_H3FMKDSXXbamtofastq,CRISPR Guide Capture\n",
    "/data/gersbachlab/Revathy/collabs/Susan/data/gasperini/fastq/at_scale,2A_4_gRNA_AACGAATT_MissingLibrary_1_H3FMKDSXXbamtofastq,CRISPR Guide Capture\n",
    "/data/gersbachlab/Revathy/collabs/Susan/data/gasperini/fastq/at_scale,2A_5_gRNA_CGCTTATC_MissingLibrary_1_H3FMKDSXXbamtofastq,CRISPR Guide Capture\n",
    "/data/gersbachlab/Revathy/collabs/Susan/data/gasperini/fastq/at_scale,2A_6_gRNA_AAGTACGC_MissingLibrary_1_H3FMKDSXXbamtofastq,CRISPR Guide Capture\n",
    "/data/gersbachlab/Revathy/collabs/Susan/data/gasperini/fastq/at_scale,2A_7_gRNA_GATCTTCG_MissingLibrary_1_H3FMKDSXXbamtofastq,CRISPR Guide Capture\n",
    "/data/gersbachlab/Revathy/collabs/Susan/data/gasperini/fastq/at_scale,2A_8_gRNA_TCTTAGCC_MissingLibrary_1_H3FMKDSXXbamtofastq,CRISPR Guide Capture"
   ]
  },
  {
   "cell_type": "code",
   "execution_count": 4,
   "metadata": {},
   "outputs": [
    {
     "name": "stdout",
     "output_type": "stream",
     "text": [
      "Writing /data/gersbachlab/Revathy/collabs/Susan/data/gasperini/fastq/metadata/at_scale_lib_2B.csv\n"
     ]
    }
   ],
   "source": [
    "%%writefile /data/gersbachlab/Revathy/collabs/Susan/data/gasperini/fastq/metadata/at_scale_lib_2B.csv\n",
    "fastqs,sample,library_type\n",
    "/data/gersbachlab/Revathy/collabs/Susan/data/gasperini/fastq/at_scale,2B_1_SI-GA-H2_MissingLibrary_1_H3FMKDSXXbamtofastq,Gene Expression\n",
    "/data/gersbachlab/Revathy/collabs/Susan/data/gasperini/fastq/at_scale,2B_2_SI-GA-H3_MissingLibrary_1_H3FMKDSXXbamtofastq,Gene Expression\n",
    "/data/gersbachlab/Revathy/collabs/Susan/data/gasperini/fastq/at_scale,2B_3_SI-GA-H4_MissingLibrary_1_H3FMKDSXXbamtofastq,Gene Expression\n",
    "/data/gersbachlab/Revathy/collabs/Susan/data/gasperini/fastq/at_scale,2B_4_SI-GA-H5_MissingLibrary_1_H3FMKDSXXbamtofastq,Gene Expression\n",
    "/data/gersbachlab/Revathy/collabs/Susan/data/gasperini/fastq/at_scale,2B_5_SI-GA-H6_MissingLibrary_1_H3FMKDSXXbamtofastq,Gene Expression\n",
    "/data/gersbachlab/Revathy/collabs/Susan/data/gasperini/fastq/at_scale,2B_6_SI-GA-H7_MissingLibrary_1_H3FMKDSXXbamtofastq,Gene Expression\n",
    "/data/gersbachlab/Revathy/collabs/Susan/data/gasperini/fastq/at_scale,2B_7_SI-GA-H8_MissingLibrary_1_H3FMKDSXXbamtofastq,Gene Expression\n",
    "/data/gersbachlab/Revathy/collabs/Susan/data/gasperini/fastq/at_scale,2B_8_SI-GA-H9_MissingLibrary_1_H3FMKDSXXbamtofastq,Gene Expression\n",
    "/data/gersbachlab/Revathy/collabs/Susan/data/gasperini/fastq/at_scale,2B_1_gRNA_TTATTGAG_MissingLibrary_1_H3FMKDSXXbamtofastq,CRISPR Guide Capture\n",
    "/data/gersbachlab/Revathy/collabs/Susan/data/gasperini/fastq/at_scale,2B_2_gRNA_TTGCGAGC_MissingLibrary_1_H3FMKDSXXbamtofastq,CRISPR Guide Capture\n",
    "/data/gersbachlab/Revathy/collabs/Susan/data/gasperini/fastq/at_scale,2B_3_gRNA_GCTTGAAG_MissingLibrary_1_H3FMKDSXXbamtofastq,CRISPR Guide Capture\n",
    "/data/gersbachlab/Revathy/collabs/Susan/data/gasperini/fastq/at_scale,2B_4_gRNA_AGTCCGCT_MissingLibrary_1_H3FMKDSXXbamtofastq,CRISPR Guide Capture\n",
    "/data/gersbachlab/Revathy/collabs/Susan/data/gasperini/fastq/at_scale,2B_5_gRNA_ACGGCGTT_MissingLibrary_1_H3FMKDSXXbamtofastq,CRISPR Guide Capture\n",
    "/data/gersbachlab/Revathy/collabs/Susan/data/gasperini/fastq/at_scale,2B_6_gRNA_GGCTTACT_MissingLibrary_1_H3FMKDSXXbamtofastq,CRISPR Guide Capture\n",
    "/data/gersbachlab/Revathy/collabs/Susan/data/gasperini/fastq/at_scale,2B_7_gRNA_GCGCGTTC_MissingLibrary_1_H3FMKDSXXbamtofastq,CRISPR Guide Capture\n",
    "/data/gersbachlab/Revathy/collabs/Susan/data/gasperini/fastq/at_scale,2B_8_gRNA_GAGCGCGA_MissingLibrary_1_H3FMKDSXXbamtofastq,CRISPR Guide Capture"
   ]
  },
  {
   "cell_type": "markdown",
   "metadata": {},
   "source": [
    "#### Feature ref for at_scale data"
   ]
  },
  {
   "cell_type": "code",
   "execution_count": 2,
   "metadata": {},
   "outputs": [
    {
     "name": "stdout",
     "output_type": "stream",
     "text": [
      "AAACCGCTCCCGAGCACGGG\tSH3BGRL3_TSS\n",
      "AAATAGTGGGAAGATTCGTG\tMTRNR2L8_TSS\n",
      "AACACACCACGGAGGAGTGG\tFAM83A_TSS\n",
      "AACAGCCCGGCCGGCCAAGG\tZNF593_TSS\n",
      "AACGAGAGACTGCTTGCTGG\tATPIF1_TSS\n",
      "AACGGCTCGGAAGCCTAGGG\tTIPRL_TSS\n",
      "AAGAAGAAACCGAGAGACGG\tMYL4_TSS\n",
      "AAGACGGCTCGCAAGGTAGG\tCNBP_TSS\n",
      "AAGAGGAAGGTGAGCCTCTG\tRPS3_TSS\n",
      "AAGATGTCGAAGCGAGGTGG\tRPL23_TSS\n"
     ]
    },
    {
     "name": "stderr",
     "output_type": "stream",
     "text": [
      "--2023-12-11 12:19:00--  https://ftp.ncbi.nlm.nih.gov/geo/series/GSE120nnn/GSE120861/suppl/GSE120861_grna_groups.at_scale.txt.gz\n",
      "Resolving ftp.ncbi.nlm.nih.gov (ftp.ncbi.nlm.nih.gov)... 130.14.250.10, 130.14.250.7, 2607:f220:41e:250::7, ...\n",
      "Connecting to ftp.ncbi.nlm.nih.gov (ftp.ncbi.nlm.nih.gov)|130.14.250.10|:443... connected.\n",
      "HTTP request sent, awaiting response... 200 OK\n",
      "Length: 127092 (124K) [application/x-gzip]\n",
      "Saving to: ‘GSE120861_grna_groups.at_scale.txt.gz’\n",
      "\n",
      "     0K .......... .......... .......... .......... .......... 40% 1.62M 0s\n",
      "    50K .......... .......... .......... .......... .......... 80% 3.15M 0s\n",
      "   100K .......... .......... ....                            100% 88.1M=0.05s\n",
      "\n",
      "2023-12-11 12:19:01 (2.65 MB/s) - ‘GSE120861_grna_groups.at_scale.txt.gz’ saved [127092/127092]\n",
      "\n"
     ]
    }
   ],
   "source": [
    "%%bash\n",
    "#Download and processing gasperini guide sequences\n",
    "wget https://ftp.ncbi.nlm.nih.gov/geo/series/GSE120nnn/GSE120861/suppl/GSE120861_grna_groups.at_scale.txt.gz; gunzip --force -d GSE120861_grna_groups.at_scale.txt.gz; awk '{ print $2 \"\\t\" $1}' GSE120861_grna_groups.at_scale.txt > raw_gasperini_at_scale_guide_sequences.tsv\n",
    "head -n 10 raw_gasperini_at_scale_guide_sequences.tsv  "
   ]
  },
  {
   "cell_type": "code",
   "execution_count": 3,
   "metadata": {},
   "outputs": [],
   "source": [
    "import pandas as pd\n",
    "\n",
    "pd_guide_target = pd.read_csv('raw_gasperini_at_scale_guide_sequences.tsv',sep='\\t', header=None, names=['seq', 'target'])\n",
    "add_guide_additional_id = {}\n",
    "final_guide_names = []\n",
    "for g in pd_guide_target['target']:\n",
    "    if g not in add_guide_additional_id:\n",
    "        final_guide_names.append(g+'|1')\n",
    "        add_guide_additional_id[g]=True\n",
    "    else:\n",
    "        final_guide_names.append(g+'|2')\n",
    "pd_guide_target['target'] = final_guide_names"
   ]
  },
  {
   "cell_type": "code",
   "execution_count": 7,
   "metadata": {},
   "outputs": [],
   "source": [
    "pd_guide_target.to_csv('gasperini_at_scale_guide_sequences.tsv', sep='\\t', index=None, header=None)"
   ]
  },
  {
   "cell_type": "code",
   "execution_count": 8,
   "metadata": {},
   "outputs": [
    {
     "name": "stdout",
     "output_type": "stream",
     "text": [
      "Submitted batch job 30469792\n"
     ]
    }
   ],
   "source": [
    "%%bash\n",
    "mkdir -p /data/gersbachlab/Revathy/collabs/Susan/results/gasperini/at_scale\n",
    "cd /data/gersbachlab/Revathy/collabs/Susan/results/gasperini/at_scale\n",
    "sbatch \\\n",
    "    -p all \\\n",
    "    --exclude=dl-01 \\\n",
    "    -o /data/gersbachlab/Revathy/collabs/Susan/logs/at_scale_data_cellranger.v1.out \\\n",
    "    --mem=96G \\\n",
    "    --cpus-per-task=24 \\\n",
    "    <<'EOF'\n",
    "#!/bin/bash\n",
    "/data/gersbachlab/Ruhi/pipeline_perturbseq_like/cellranger-7.1.0/bin/cellranger count \\\n",
    "     --id=\"run1A\" \\\n",
    "     --libraries=/data/gersbachlab/Revathy/collabs/Susan/data/gasperini/fastq/metadata/at_scale_lib_1A.csv \\\n",
    "     --transcriptome=/data/reddylab/Reference_Data/cellranger/refdata-gex-GRCh38-2020-A \\\n",
    "     --feature-ref=/data/gersbachlab/Revathy/collabs/Susan/data/gasperini/fastq/metadata/feature_reference.at_scale.csv \\\n",
    "     --chemistry=SC3Pv2 \\\n",
    "     --check-library-compatibility=false \\\n",
    "     --localcores=24 \\\n",
    "     --localmem=96 \n",
    "EOF"
   ]
  },
  {
   "cell_type": "code",
   "execution_count": 9,
   "metadata": {},
   "outputs": [
    {
     "name": "stdout",
     "output_type": "stream",
     "text": [
      "Submitted batch job 30469793\n"
     ]
    }
   ],
   "source": [
    "%%bash\n",
    "mkdir -p /data/gersbachlab/Revathy/collabs/Susan/results/gasperini/at_scale\n",
    "cd /data/gersbachlab/Revathy/collabs/Susan/results/gasperini/at_scale\n",
    "sbatch \\\n",
    "    -p all \\\n",
    "    --exclude=dl-01 \\\n",
    "    -o /data/gersbachlab/Revathy/collabs/Susan/logs/at_scale_data_cellranger.v2.out \\\n",
    "    --mem=96G \\\n",
    "    --cpus-per-task=24 \\\n",
    "    <<'EOF'\n",
    "#!/bin/bash\n",
    "/data/gersbachlab/Ruhi/pipeline_perturbseq_like/cellranger-7.1.0/bin/cellranger count \\\n",
    "     --id=\"run1B\" \\\n",
    "     --libraries=/data/gersbachlab/Revathy/collabs/Susan/data/gasperini/fastq/metadata/at_scale_lib_1B.csv \\\n",
    "     --transcriptome=/data/reddylab/Reference_Data/cellranger/refdata-gex-GRCh38-2020-A \\\n",
    "     --feature-ref=/data/gersbachlab/Revathy/collabs/Susan/data/gasperini/fastq/metadata/feature_reference.at_scale.csv \\\n",
    "     --chemistry=SC3Pv2 \\\n",
    "     --check-library-compatibility=false \\\n",
    "     --localcores=24 \\\n",
    "     --localmem=96 \n",
    "EOF"
   ]
  },
  {
   "cell_type": "code",
   "execution_count": 10,
   "metadata": {},
   "outputs": [
    {
     "name": "stdout",
     "output_type": "stream",
     "text": [
      "Submitted batch job 30469794\n"
     ]
    }
   ],
   "source": [
    "%%bash\n",
    "mkdir -p /data/gersbachlab/Revathy/collabs/Susan/results/gasperini/at_scale\n",
    "cd /data/gersbachlab/Revathy/collabs/Susan/results/gasperini/at_scale\n",
    "sbatch \\\n",
    "    -p all \\\n",
    "    --exclude=dl-01 \\\n",
    "    -o /data/gersbachlab/Revathy/collabs/Susan/logs/at_scale_data_cellranger.v3.out \\\n",
    "    --mem=96G \\\n",
    "    --cpus-per-task=24 \\\n",
    "    <<'EOF'\n",
    "#!/bin/bash\n",
    "/data/gersbachlab/Ruhi/pipeline_perturbseq_like/cellranger-7.1.0/bin/cellranger count \\\n",
    "     --id=\"run2A\" \\\n",
    "     --libraries=/data/gersbachlab/Revathy/collabs/Susan/data/gasperini/fastq/metadata/at_scale_lib_2A.csv \\\n",
    "     --transcriptome=/data/reddylab/Reference_Data/cellranger/refdata-gex-GRCh38-2020-A \\\n",
    "     --feature-ref=/data/gersbachlab/Revathy/collabs/Susan/data/gasperini/fastq/metadata/feature_reference.at_scale.csv \\\n",
    "     --chemistry=SC3Pv2 \\\n",
    "     --check-library-compatibility=false \\\n",
    "     --localcores=24 \\\n",
    "     --localmem=96 \n",
    "EOF"
   ]
  },
  {
   "cell_type": "code",
   "execution_count": 11,
   "metadata": {},
   "outputs": [
    {
     "name": "stdout",
     "output_type": "stream",
     "text": [
      "Submitted batch job 30469795\n"
     ]
    }
   ],
   "source": [
    "%%bash\n",
    "mkdir -p /data/gersbachlab/Revathy/collabs/Susan/results/gasperini/at_scale\n",
    "cd /data/gersbachlab/Revathy/collabs/Susan/results/gasperini/at_scale\n",
    "sbatch \\\n",
    "    -p all \\\n",
    "    --exclude=dl-01 \\\n",
    "    -o /data/gersbachlab/Revathy/collabs/Susan/logs/at_scale_data_cellranger.v4.out \\\n",
    "    --mem=96G \\\n",
    "    --cpus-per-task=24 \\\n",
    "    <<'EOF'\n",
    "#!/bin/bash\n",
    "/data/gersbachlab/Ruhi/pipeline_perturbseq_like/cellranger-7.1.0/bin/cellranger count \\\n",
    "     --id=\"run2B\" \\\n",
    "     --libraries=/data/gersbachlab/Revathy/collabs/Susan/data/gasperini/fastq/metadata/at_scale_lib_2B.csv \\\n",
    "     --transcriptome=/data/reddylab/Reference_Data/cellranger/refdata-gex-GRCh38-2020-A \\\n",
    "     --feature-ref=/data/gersbachlab/Revathy/collabs/Susan/data/gasperini/fastq/metadata/feature_reference.at_scale.csv \\\n",
    "     --chemistry=SC3Pv2 \\\n",
    "     --check-library-compatibility=false \\\n",
    "     --localcores=24 \\\n",
    "     --localmem=96 \n",
    "EOF"
   ]
  },
  {
   "cell_type": "code",
   "execution_count": 1,
   "metadata": {},
   "outputs": [
    {
     "name": "stdout",
     "output_type": "stream",
     "text": [
      "Writing /data/gersbachlab/Revathy/collabs/Susan/data/gasperini/fastq/metadata/at_scale_lib.aggr.csv\n"
     ]
    }
   ],
   "source": [
    "%%writefile /data/gersbachlab/Revathy/collabs/Susan/data/gasperini/fastq/metadata/at_scale_lib.aggr.csv\n",
    "sample_id,molecule_h5\n",
    "run1A,/data/gersbachlab/Revathy/collabs/Susan/results/gasperini/at_scale/run1A/outs/molecule_info.h5\n",
    "run1B,/data/gersbachlab/Revathy/collabs/Susan/results/gasperini/at_scale/run1B/outs/molecule_info.h5\n",
    "run2A,/data/gersbachlab/Revathy/collabs/Susan/results/gasperini/at_scale/run2A/outs/molecule_info.h5\n",
    "run2B,/data/gersbachlab/Revathy/collabs/Susan/results/gasperini/at_scale/run2B/outs/molecule_info.h5"
   ]
  },
  {
   "cell_type": "code",
   "execution_count": 1,
   "metadata": {},
   "outputs": [
    {
     "name": "stdout",
     "output_type": "stream",
     "text": [
      "Submitted batch job 30496362\n"
     ]
    }
   ],
   "source": [
    "%%bash\n",
    "cd /data/gersbachlab/Revathy/collabs/Susan/results/gasperini/at_scale\n",
    "sbatch \\\n",
    "    -p all \\\n",
    "    --exclude=dl-01 \\\n",
    "    -o /data/gersbachlab/Revathy/collabs/Susan/logs/at_scale_data_cellranger_aggr.out \\\n",
    "    --mem=48G \\\n",
    "    --cpus-per-task=24 \\\n",
    "    <<'EOF'\n",
    "#!/bin/bash\n",
    "/data/gersbachlab/Ruhi/pipeline_perturbseq_like/cellranger-7.1.0/bin/cellranger aggr \\\n",
    "     --localcores 24 \\\n",
    "     --localmem 48 \\\n",
    "     --normalize none \\\n",
    "     --id \"aggr\" \\\n",
    "     --csv /data/gersbachlab/Revathy/collabs/Susan/data/gasperini/fastq/metadata/at_scale_lib.aggr.csv\n",
    "     \n",
    "EOF"
   ]
  },
  {
   "cell_type": "markdown",
   "metadata": {},
   "source": [
    "-----\n",
    "-----\n",
    "-----\n"
   ]
  },
  {
   "cell_type": "code",
   "execution_count": 1,
   "metadata": {},
   "outputs": [
    {
     "name": "stdout",
     "output_type": "stream",
     "text": [
      "Writing /data/reddylab/Alex/collab/20181203_Tyler/data/metadata/gasperini_et_all_cell_2019.at_scale_grna_geo.txt\n"
     ]
    }
   ],
   "source": [
    "%%writefile /data/reddylab/Alex/collab/20181203_Tyler/data/metadata/gasperini_et_all_cell_2019.at_scale_grna_geo.txt\n",
    "GSE_ID\tGSM_ID\tLibrary_ID\n",
    "GSE120861\tGSM3417256\tK562.scrnaseq.sgrna.at_scale\n"
   ]
  },
  {
   "cell_type": "code",
   "execution_count": null,
   "metadata": {},
   "outputs": [],
   "source": [
    "%%%bash\n",
    "export TMPDIR=\"/data/reddylab/Alex/collab/20181203_Tyler/data/external/gasperini/tmp\"\n",
    "# in hardac_xfer\n",
    "while read -r a b c; do\n",
    "    python /data/reddylab/Alex/reddylab_utils/scripts/download_from_geo.py     \\\n",
    "        -gse ${a}     \\\n",
    "        -gsms ${b}   \\\n",
    "        -o /data/reddylab/Alex/collab/20181203_Tyler/data/external/gasperini/ \n",
    "done < <(tail -n+2 /data/reddylab/Alex/collab/20181203_Tyler/data/metadata/gasperini_et_all_cell_2019.at_scale_grna_geo.txt | cut -f 1,2,3)\n"
   ]
  },
  {
   "cell_type": "markdown",
   "metadata": {},
   "source": [
    "The above command didn't work, it kep crushing. I ended up using this instead:"
   ]
  },
  {
   "cell_type": "code",
   "execution_count": null,
   "metadata": {},
   "outputs": [],
   "source": [
    "%%bash\n",
    "    cd /data/reddylab/Alex/collab/20181203_Tyler/data/external/gasperini/tmp\n",
    "for ii in $(seq 7967526 7967556); \n",
    "do \n",
    "    echo $ii; \n",
    "    /data/reddylab/software/sratoolkit/sratoolkit.2.11.1-centos_linux64/bin/fasterq-dump SRR${ii} \\\n",
    "    && gzip SRR${ii}.fastq; \n",
    "done;"
   ]
  },
  {
   "cell_type": "code",
   "execution_count": 1,
   "metadata": {},
   "outputs": [],
   "source": [
    "%%bash\n",
    "mkdir -p /data/reddylab/Alex/collab/20181203_Tyler/data/external/gasperini/logs\n",
    "mkdir -p /data/reddylab/Alex/collab/20181203_Tyler/data/external/gasperini/counts"
   ]
  },
  {
   "cell_type": "markdown",
   "metadata": {},
   "source": [
    "Actually, trying the data in the ENCODE portal "
   ]
  },
  {
   "cell_type": "code",
   "execution_count": null,
   "metadata": {},
   "outputs": [],
   "source": [
    "%%bash\n",
    "cd \n",
    "curl -u PJCLYEZS:eqzl3qepb6pzzkub -SLO https://www.encodeproject.org/files/ENCFF142PRC/@@download/ENCFF142PRC.fastq.hz"
   ]
  },
  {
   "cell_type": "code",
   "execution_count": 9,
   "metadata": {},
   "outputs": [
    {
     "name": "stdout",
     "output_type": "stream",
     "text": [
      "Submitted batch job 26208719\n"
     ]
    }
   ],
   "source": [
    "%%bash\n",
    "cd /data/reddylab/Alex/collab/20181203_Tyler/data/external/gasperini/counts\n",
    "#7967526-7967557%10\n",
    "sbatch \\\n",
    "    --array=26 \\\n",
    "    -p all \\\n",
    "    -o /data/reddylab/Alex/collab/20181203_Tyler/data/external/gasperini/logs/sgrna%a_10x_processing.out \\\n",
    "    --mem=64G \\\n",
    "    --cpus-per-task=24 \\\n",
    "    <<'EOF'\n",
    "#!/bin/bash\n",
    "/data/gersbachlab/Software/cellranger-3.1.0/cellranger count \\\n",
    "    --id=SRR79675${SLURM_ARRAY_TASK_ID} \\\n",
    "    --fastq=/data/reddylab/Alex/collab/20181203_Tyler/data/external/gasperini/Supp_GSM3417256_At_Scale_Screen_gRNA_enrichment_scRNA-seq/ \\\n",
    "    --transcriptome=/data/gersbachlab/Software/refdata-cellranger-hg19-3.0.0/ \\\n",
    "    --sample=SRR79675${SLURM_ARRAY_TASK_ID} \\\n",
    "    --expect-cells=7000 \\\n",
    "    --localcores=24 \\\n",
    "    --localmem=64 \\\n",
    "    --chemistry=auto\n",
    "EOF"
   ]
  },
  {
   "cell_type": "markdown",
   "metadata": {},
   "source": [
    "```\n",
    "Though it has been a while, according to the methods and my memory, the gRNA protospacer should be in the same fastqs. These libraries were separately indexed and then sequenced as spike-ins alongside the whole transcriptome scRNA-seq libraries.\n",
    "\n",
    "To access them, we used a script written by Andrew Hill (CC'd). He can confirm, but I copied and pasted below from the paper where this analysis method was first published.\n",
    "\n",
    "For your understanding, barcode = protospacer.\n",
    "\n",
    "- Molly\n",
    "\n",
    "Assigning Cell Genotypes\n",
    "\n",
    "Barcode enrichment libraries were separately indexed and sequenced as spike-ins alongside the whole transcriptome scRNA-seq libraries. Final UMI and cell barcode assignments were made for each read by processing these samples with cellranger 1.3.1 as was done for the whole transcriptome libraries.\n",
    "\n",
    "A whitelist of guide or target barcode sequences was constructed using all guides or target barcodes in the library. For each read in the position-sorted BAM file output by cellranger 1.3.1, the final cell barcode and UMI are extracted. If either of these fields is not populated, indicating a problem with the sequence, the read is ignored. Using the cDNA read, we attempt to find a perfect match for the sequence preceding the guide or barcode (GTGGAAAGGACGAAACACCG for CROP-seq and CGCCTCCCGCG for pLGB-scKO). If a perfect match is not found, we attempt to locate the sequence using a striped Smith-Watterman alignment. If a match or alignment is found, the guide or barcode sequence is extracted. If the extracted sequence does not perfectly match a whitelist sequence, we search for a matching whitelist sequence within an edit distance of half the minimum edit distance between any pair of guides or barcodes in the library (rounded down). If no match is found, the molecule is ultimately discarded. Matches to the whitelist are tracked for each cell.\n",
    "\n",
    "We also remove likely chimeric sequences using the approach outlined in Dixit24. Briefly, within each cell, we calculate the number of times a given UMI is observed with each observed guide assignment. We then divide these counts by the total instances of the respective UMI across all observed guide assignments within that cell. For UMI-guide assignment combinations where this fraction is less than 20%, we do not count the UMI towards the final observed guide assignment counts. While this has some impact on the raw data, we find the benefits to be modest.\n",
    "\n",
    "To make a set of final assignments, we take all whitelist sequences with over 10 reads and that account for over 7.5% of the whitelist reads assigned to a given cell, where multiple sequences can be assigned to each cell. This set of assignments is merged with the filtered gene expression matrices output by cellranger such that only assignments to the filtered cells appear in the final dataset.\n",
    "```"
   ]
  },
  {
   "cell_type": "markdown",
   "metadata": {},
   "source": [
    "In fact, ENCODE has the samples in 4 pools. Download them from there and process as Tylers"
   ]
  },
  {
   "cell_type": "code",
   "execution_count": null,
   "metadata": {},
   "outputs": [],
   "source": [
    "%%bash\n",
    "xfer\n",
    "for ii in $(cut -f1 molly_sc_screen.metadata.txt | tail -n+2); \n",
    "do \n",
    "    if [[ ! -e ${ii}.fastq.gz ]]; \n",
    "    then \n",
    "        nohup bash -c \"curl -L  -u PJCLYEZS:eqzl3qepb6pzzkub -o ${ii}.fastq.gz https://www.encodeproject.org/files/${ii}/@@download/${ii}.fastq.gz > ${ii}.out &\"; \n",
    "    fi; \n",
    "done"
   ]
  },
  {
   "cell_type": "code",
   "execution_count": 1,
   "metadata": {
    "collapsed": true,
    "jupyter": {
     "outputs_hidden": true
    }
   },
   "outputs": [
    {
     "ename": "SyntaxError",
     "evalue": "invalid token (<ipython-input-1-7e7d00def355>, line 2)",
     "output_type": "error",
     "traceback": [
      "\u001b[0;36m  File \u001b[0;32m\"<ipython-input-1-7e7d00def355>\"\u001b[0;36m, line \u001b[0;32m2\u001b[0m\n\u001b[0;31m    cd /data/reddylab/Alex/collab/20181203_Tyler/data/external/gasperini/encode\u001b[0m\n\u001b[0m                                          ^\u001b[0m\n\u001b[0;31mSyntaxError\u001b[0m\u001b[0;31m:\u001b[0m invalid token\n"
     ]
    }
   ],
   "source": [
    "#%%bash\n",
    "cd /data/reddylab/Alex/collab/20181203_Tyler/data/external/gasperini/encode\n",
    "rename ENCFF722ETK K562.CRISPRi.pool2.R1 ENCFF722ETK*\n",
    "rename ENCFF277LKQ K562.CRISPRi.pool2.R2 ENCFF277LKQ*\n",
    "rename ENCFF706ISZ K562.CRISPRi.pool3.R1 ENCFF706ISZ*\n",
    "rename ENCFF485YMB K562.CRISPRi.pool3.R2 ENCFF485YMB*\n",
    "rename ENCFF142PRC K562.CRISPRi.pool4.R1 ENCFF142PRC*\n",
    "rename ENCFF878FJZ K562.CRISPRi.pool4.R2 ENCFF878FJZ*\n",
    "rename ENCFF837WTS K562.CRISPRi.pool1.R1 ENCFF837WTS*\n",
    "rename ENCFF302WYY K562.CRISPRi.pool1.R2 ENCFF302WYY*\n",
    "\n",
    "# I remember (a touch too late) that cellranger expects FASTQ file names in a certain way \n",
    "rename K562.CRISPRi.pool2.R1 K562.CRISPRi.pool2_S2_L002_R1_001 K562.CRISPRi.pool2.R1*\n",
    "rename K562.CRISPRi.pool2.R2 K562.CRISPRi.pool2_S2_L002_R2_001 K562.CRISPRi.pool2.R2*\n",
    "rename K562.CRISPRi.pool3.R1 K562.CRISPRi.pool3_S3_L003_R1_001 K562.CRISPRi.pool3.R1*\n",
    "rename K562.CRISPRi.pool3.R2 K562.CRISPRi.pool3_S3_L003_R2_001 K562.CRISPRi.pool3.R2*\n",
    "rename K562.CRISPRi.pool4.R1 K562.CRISPRi.pool4_S4_L004_R1_001 K562.CRISPRi.pool4.R1*\n",
    "rename K562.CRISPRi.pool4.R2 K562.CRISPRi.pool4_S4_L004_R2_001 K562.CRISPRi.pool4.R2*\n",
    "rename K562.CRISPRi.pool1.R1 K562.CRISPRi.pool1_S1_L001_R1_001 K562.CRISPRi.pool1.R1*\n",
    "rename K562.CRISPRi.pool1.R2 K562.CRISPRi.pool1_S1_L001_R2_001 K562.CRISPRi.pool1.R2*"
   ]
  },
  {
   "cell_type": "code",
   "execution_count": 12,
   "metadata": {},
   "outputs": [
    {
     "name": "stdout",
     "output_type": "stream",
     "text": [
      "Submitted batch job 26894415\n"
     ]
    }
   ],
   "source": [
    "%%bash\n",
    "cd /data/reddylab/Alex/collab/20181203_Tyler/data/external/gasperini/encode/\n",
    "mkdir -p counts\n",
    "cd counts\n",
    "sbatch \\\n",
    "    --array=2-4 \\\n",
    "    -o /data/reddylab/Alex/collab/20181203_Tyler/logs/gasperini.pool%a_10x_processing.out \\\n",
    "    --mem=64G \\\n",
    "    --cpus-per-task=16 \\\n",
    "    <<'EOF'\n",
    "#!/bin/bash\n",
    "/data/gersbachlab/Software/cellranger-3.1.0/cellranger count \\\n",
    "    --id=pool${SLURM_ARRAY_TASK_ID} \\\n",
    "    --fastq=/data/reddylab/Alex/collab/20181203_Tyler/data/external/gasperini/encode/fastq/ \\\n",
    "    --transcriptome=/data/gersbachlab/Software/refdata-cellranger-hg19-3.0.0/ \\\n",
    "    --sample=pool${SLURM_ARRAY_TASK_ID} \\\n",
    "    --localcores=16 \\\n",
    "    --localmem=64 \\\n",
    "    --chemistry=SC3Pv2\n",
    "EOF"
   ]
  },
  {
   "cell_type": "markdown",
   "metadata": {},
   "source": [
    "----"
   ]
  },
  {
   "cell_type": "markdown",
   "metadata": {},
   "source": [
    "Download guides"
   ]
  },
  {
   "cell_type": "code",
   "execution_count": 1,
   "metadata": {},
   "outputs": [
    {
     "name": "stderr",
     "output_type": "stream",
     "text": [
      "  % Total    % Received % Xferd  Average Speed   Time    Time     Time  Current\n",
      "                                 Dload  Upload   Total   Spent    Left  Speed\n",
      "100  1622  100  1622    0     0   2403      0 --:--:-- --:--:-- --:--:--  2402\n",
      "100  178k  100  178k    0     0   132k      0  0:00:01  0:00:01 --:--:-- 35.3M\n"
     ]
    }
   ],
   "source": [
    "%%bash\n",
    "cd /data/reddylab/Alex/collab/20181203_Tyler/data/external/gasperini/encode/\n",
    "mkdir fasta\n",
    "cd fasta\n",
    "curl -u PJCLYEZS:eqzl3qepb6pzzkub -SLO https://www.encodeproject.org/files/ENCFF292NTB/@@download/ENCFF292NTB.fasta.gz\n"
   ]
  },
  {
   "cell_type": "markdown",
   "metadata": {},
   "source": [
    "Index them with Bowtie2"
   ]
  },
  {
   "cell_type": "code",
   "execution_count": 3,
   "metadata": {
    "collapsed": true,
    "jupyter": {
     "outputs_hidden": true
    }
   },
   "outputs": [
    {
     "name": "stdout",
     "output_type": "stream",
     "text": [
      "Settings:\n",
      "  Output files: \"gasperini_et_al.guides_bt2.*.bt2\"\n",
      "  Line rate: 6 (line is 64 bytes)\n",
      "  Lines per side: 1 (side is 64 bytes)\n",
      "  Offset rate: 4 (one in 16)\n",
      "  FTable chars: 10\n",
      "  Strings: unpacked\n",
      "  Max bucket size: default\n",
      "  Max bucket size, sqrt multiplier: default\n",
      "  Max bucket size, len divisor: 4\n",
      "  Difference-cover sample period: 1024\n",
      "  Endianness: little\n",
      "  Actual local endianness: little\n",
      "  Sanity checking: disabled\n",
      "  Assertions: disabled\n",
      "  Random seed: 0\n",
      "  Sizeofs: void*:8, int:4, long:8, size_t:8\n",
      "Input files DNA, FASTA:\n",
      "  ENCFF292NTB.fasta.gz\n",
      "Reading reference sizes\n",
      "  Time reading reference sizes: 00:00:00\n",
      "Calculating joined length\n",
      "Writing header\n",
      "Reserving space for joined string\n",
      "Joining reference sequences\n",
      "  Time to join reference sequences: 00:00:00\n",
      "bmax according to bmaxDivN setting: 65754\n",
      "Using parameters --bmax 49316 --dcv 1024\n",
      "  Doing ahead-of-time memory usage test\n",
      "  Passed!  Constructing with these parameters: --bmax 49316 --dcv 1024\n",
      "Constructing suffix-array element generator\n",
      "Building DifferenceCoverSample\n",
      "  Building sPrime\n",
      "  Building sPrimeOrder\n",
      "  V-Sorting samples\n",
      "  V-Sorting samples time: 00:00:00\n",
      "  Allocating rank array\n",
      "  Ranking v-sort output\n",
      "  Ranking v-sort output time: 00:00:00\n",
      "  Invoking Larsson-Sadakane on ranks\n",
      "  Invoking Larsson-Sadakane on ranks time: 00:00:00\n",
      "  Sanity-checking and returning\n",
      "Building samples\n",
      "Reserving space for 12 sample suffixes\n",
      "Generating random suffixes\n",
      "QSorting 12 sample offsets, eliminating duplicates\n",
      "QSorting sample offsets, eliminating duplicates time: 00:00:00\n",
      "Multikey QSorting 12 samples\n",
      "  (Using difference cover)\n",
      "  Multikey QSorting samples time: 00:00:00\n",
      "Calculating bucket sizes\n",
      "Splitting and merging\n",
      "  Splitting and merging time: 00:00:00\n",
      "Avg bucket size: 263018 (target: 49315)\n",
      "Converting suffix-array elements to index image\n",
      "Allocating ftab, absorbFtab\n",
      "Entering Ebwt loop\n",
      "Getting block 1 of 1\n",
      "  No samples; assembling all-inclusive block\n",
      "  Sorting block of length 263018 for bucket 1\n",
      "  (Using difference cover)\n",
      "  Sorting block time: 00:00:00\n",
      "Returning block of 263019 for bucket 1\n",
      "Exited Ebwt loop\n",
      "fchr[A]: 0\n",
      "fchr[C]: 75698\n",
      "fchr[G]: 140368\n",
      "fchr[T]: 207975\n",
      "fchr[$]: 263018\n",
      "Exiting Ebwt::buildToDisk()\n",
      "Returning from initFromVector\n",
      "Wrote 5573269 bytes to primary EBWT file: gasperini_et_al.guides_bt2.1.bt2\n",
      "Wrote 65760 bytes to secondary EBWT file: gasperini_et_al.guides_bt2.2.bt2\n",
      "Re-opening _in1 and _in2 as input streams\n",
      "Returning from Ebwt constructor\n",
      "Headers:\n",
      "    len: 263018\n",
      "    bwtLen: 263019\n",
      "    sz: 65755\n",
      "    bwtSz: 65755\n",
      "    lineRate: 6\n",
      "    offRate: 4\n",
      "    offMask: 0xfffffff0\n",
      "    ftabChars: 10\n",
      "    eftabLen: 20\n",
      "    eftabSz: 80\n",
      "    ftabLen: 1048577\n",
      "    ftabSz: 4194308\n",
      "    offsLen: 16439\n",
      "    offsSz: 65756\n",
      "    lineSz: 64\n",
      "    sideSz: 64\n",
      "    sideBwtSz: 48\n",
      "    sideBwtLen: 192\n",
      "    numSides: 1370\n",
      "    numLines: 1370\n",
      "    ebwtTotLen: 87680\n",
      "    ebwtTotSz: 87680\n",
      "    color: 0\n",
      "    reverse: 0\n",
      "Total time for call to driver() for forward index: 00:00:00\n",
      "Reading reference sizes\n",
      "  Time reading reference sizes: 00:00:00\n",
      "Calculating joined length\n",
      "Writing header\n",
      "Reserving space for joined string\n",
      "Joining reference sequences\n",
      "  Time to join reference sequences: 00:00:00\n",
      "  Time to reverse reference sequence: 00:00:00\n",
      "bmax according to bmaxDivN setting: 65754\n",
      "Using parameters --bmax 49316 --dcv 1024\n",
      "  Doing ahead-of-time memory usage test\n",
      "  Passed!  Constructing with these parameters: --bmax 49316 --dcv 1024\n",
      "Constructing suffix-array element generator\n",
      "Building DifferenceCoverSample\n",
      "  Building sPrime\n",
      "  Building sPrimeOrder\n",
      "  V-Sorting samples\n",
      "  V-Sorting samples time: 00:00:00\n",
      "  Allocating rank array\n",
      "  Ranking v-sort output\n",
      "  Ranking v-sort output time: 00:00:00\n",
      "  Invoking Larsson-Sadakane on ranks\n",
      "  Invoking Larsson-Sadakane on ranks time: 00:00:00\n",
      "  Sanity-checking and returning\n",
      "Building samples\n",
      "Reserving space for 12 sample suffixes\n",
      "Generating random suffixes\n",
      "QSorting 12 sample offsets, eliminating duplicates\n",
      "QSorting sample offsets, eliminating duplicates time: 00:00:00\n",
      "Multikey QSorting 12 samples\n",
      "  (Using difference cover)\n",
      "  Multikey QSorting samples time: 00:00:00\n",
      "Calculating bucket sizes\n",
      "Splitting and merging\n",
      "  Splitting and merging time: 00:00:00\n",
      "Avg bucket size: 263018 (target: 49315)\n",
      "Converting suffix-array elements to index image\n",
      "Allocating ftab, absorbFtab\n",
      "Entering Ebwt loop\n",
      "Getting block 1 of 1\n",
      "  No samples; assembling all-inclusive block\n",
      "  Sorting block of length 263018 for bucket 1\n",
      "  (Using difference cover)\n",
      "  Sorting block time: 00:00:00\n",
      "Returning block of 263019 for bucket 1\n",
      "Exited Ebwt loop\n",
      "fchr[A]: 0\n",
      "fchr[C]: 75698\n",
      "fchr[G]: 140368\n",
      "fchr[T]: 207975\n",
      "fchr[$]: 263018\n",
      "Exiting Ebwt::buildToDisk()\n",
      "Returning from initFromVector\n",
      "Wrote 5573269 bytes to primary EBWT file: gasperini_et_al.guides_bt2.rev.1.bt2\n",
      "Wrote 65760 bytes to secondary EBWT file: gasperini_et_al.guides_bt2.rev.2.bt2\n",
      "Re-opening _in1 and _in2 as input streams\n",
      "Returning from Ebwt constructor\n",
      "Headers:\n",
      "    len: 263018\n",
      "    bwtLen: 263019\n",
      "    sz: 65755\n",
      "    bwtSz: 65755\n",
      "    lineRate: 6\n",
      "    offRate: 4\n",
      "    offMask: 0xfffffff0\n",
      "    ftabChars: 10\n",
      "    eftabLen: 20\n",
      "    eftabSz: 80\n",
      "    ftabLen: 1048577\n",
      "    ftabSz: 4194308\n",
      "    offsLen: 16439\n",
      "    offsSz: 65756\n",
      "    lineSz: 64\n",
      "    sideSz: 64\n",
      "    sideBwtSz: 48\n",
      "    sideBwtLen: 192\n",
      "    numSides: 1370\n",
      "    numLines: 1370\n",
      "    ebwtTotLen: 87680\n",
      "    ebwtTotSz: 87680\n",
      "    color: 0\n",
      "    reverse: 1\n",
      "Total time for backward call to driver() for mirror index: 00:00:00\n"
     ]
    },
    {
     "name": "stderr",
     "output_type": "stream",
     "text": [
      "Building a SMALL index\n"
     ]
    }
   ],
   "source": [
    "%%bash\n",
    "module load bowtie2\n",
    "cd /data/reddylab/Alex/collab/20181203_Tyler/data/external/gasperini/encode/fasta\n",
    "bowtie2-build \\\n",
    "    ENCFF292NTB.fasta.gz \\\n",
    "    gasperini_et_al.guides_bt2"
   ]
  },
  {
   "cell_type": "code",
   "execution_count": null,
   "metadata": {},
   "outputs": [],
   "source": [
    "samtools bam2fq \\\n",
    "        -0 /data/gersbachlab/mia/sc_ceres_seq_NTPool/count/sgrnas/${SAMPLE}/outs/possorted_genome_bam.fastq \\\n",
    "        -f 4 \\\n",
    "        /data/gersbachlab/mia/sc_ceres_seq_NTPool/count/sgrnas/${SAMPLE}/outs/possorted_genome_bam.bam \\\n",
    "&& gzip /data/gersbachlab/mia/sc_ceres_seq_NTPool/count/sgrnas/${SAMPLE}/outs/possorted_genome_bam.fastq\n",
    "samtools bam2fq \\\n",
    "    -0 /data/reddylab/Alex/collab/20181203_Tyler/data/external/gasperini/encode/counts/pool${SLURM_ARRAY_TASK_ID}/outs/possorted_genome_bam.fastq \\\n",
    "    -f 4 \\\n",
    "    /data/reddylab/Alex/collab/20181203_Tyler/data/external/gasperini/encode/counts/pool${SLURM_ARRAY_TASK_ID}/outs/possorted_genome_bam.bam \\\n",
    "&& gzip /data/reddylab/Alex/collab/20181203_Tyler/data/external/gasperini/encode/counts/pool${SLURM_ARRAY_TASK_ID}/outs/possorted_genome_bam.fastq\n"
   ]
  },
  {
   "cell_type": "code",
   "execution_count": 6,
   "metadata": {},
   "outputs": [
    {
     "name": "stdout",
     "output_type": "stream",
     "text": [
      "Submitted batch job 26897490\n"
     ]
    }
   ],
   "source": [
    "%%bash\n",
    "module load bowtie2\n",
    "module load samtools\n",
    "sbatch -p all \\\n",
    "    --mem 32G \\\n",
    "    --cpus-per-task 8 \\\n",
    "    --array 2-4 \\\n",
    "    --output /data/reddylab/Alex/collab/20181203_Tyler/logs/gasperini_et_al.bowtie2.extract_umi_counts_from_grna_bam.pool_%a.out \\\n",
    "    <<'EOF'\n",
    "#!/bin/bash\n",
    "if [[ ! -e /data/reddylab/Alex/collab/20181203_Tyler/data/external/gasperini/encode/counts/pool${SLURM_ARRAY_TASK_ID}/outs/possorted_genome_bam.fastq ]];\n",
    "then\n",
    "    samtools bam2fq \\\n",
    "        -0 /data/reddylab/Alex/collab/20181203_Tyler/data/external/gasperini/encode/counts/pool${SLURM_ARRAY_TASK_ID}/outs/possorted_genome_bam.fastq \\\n",
    "        -f 4 \\\n",
    "        /data/reddylab/Alex/collab/20181203_Tyler/data/external/gasperini/encode/counts/pool${SLURM_ARRAY_TASK_ID}/outs/possorted_genome_bam.bam \\\n",
    "    && gzip /data/reddylab/Alex/collab/20181203_Tyler/data/external/gasperini/encode/counts/pool${SLURM_ARRAY_TASK_ID}/outs/possorted_genome_bam.fastq\n",
    "fi\n",
    "bowtie2 \\\n",
    "    --trim5 23 \\\n",
    "    --trim3 48 \\\n",
    "    --no-unal \\\n",
    "    --end-to-end \\\n",
    "    -D 15 -R 2 -N 1 -L 18 -i S,1,0 \\\n",
    "    --score-min G,0,0 \\\n",
    "    --ignore-quals \\\n",
    "    -x /data/reddylab/Alex/collab/20181203_Tyler/data/external/gasperini/encode/fasta/gasperini_et_al.guides_bt2 \\\n",
    "    -U /data/reddylab/Alex/collab/20181203_Tyler/data/external/gasperini/encode/counts/pool${SLURM_ARRAY_TASK_ID}/outs/possorted_genome_bam.fastq.gz \\\n",
    "    --threads 8 \\\n",
    "| samtools view -b \\\n",
    "> /data/reddylab/Alex/collab/20181203_Tyler/data/external/gasperini/encode/counts/pool${SLURM_ARRAY_TASK_ID}/outs/possorted_genome_bam.bt2.bam\n",
    "EOF\n"
   ]
  },
  {
   "cell_type": "code",
   "execution_count": 2,
   "metadata": {},
   "outputs": [
    {
     "name": "stdout",
     "output_type": "stream",
     "text": [
      "Submitted batch job 26971613\n"
     ]
    }
   ],
   "source": [
    "%%bash\n",
    "module load samtools\n",
    "sbatch \\\n",
    "    --array=1-4 \\\n",
    "    -p all \\\n",
    "    -o /data/reddylab/Alex/collab/20181203_Tyler/logs/gasperini_et_al.sc_crispr_i.create_UB_fastq.%a.out \\\n",
    "<<'EOF'\n",
    "#!/bin/bash\n",
    "samtools view -f4 \\\n",
    "/data/reddylab/Alex/collab/20181203_Tyler/data/external/gasperini/encode/counts/pool${SLURM_ARRAY_TASK_ID}/outs/possorted_genome_bam.bam \\\n",
    "| /bin/grep UB: | /bin/grep CB: \\\n",
    "| awk -vOFS='\\n' '{print \"@\"$1, gensub(/.*UB:Z:([CAGT]+)[[:space:]].*/, \"\\\\1\", \"g\", $0), \"+\", \"EEEEEEEEEE\"}' \\\n",
    "> /data/reddylab/Alex/collab/20181203_Tyler/data/external/gasperini/encode/counts/pool${SLURM_ARRAY_TASK_ID}/outs/possorted_genome_bam.UB.fastq ;\n",
    "EOF\n"
   ]
  },
  {
   "cell_type": "code",
   "execution_count": 6,
   "metadata": {},
   "outputs": [
    {
     "name": "stdout",
     "output_type": "stream",
     "text": [
      "Submitted batch job 26970306\n"
     ]
    }
   ],
   "source": [
    "%%bash\n",
    "module load samtools\n",
    "sbatch \\\n",
    "    --array=1-4 \\\n",
    "    -p all \\\n",
    "    -o /data/reddylab/Alex/collab/20181203_Tyler/logs/gasperini_et_al.sc_crispr_i.create_CB_fastq.%a.out \\\n",
    "<<'EOF'\n",
    "#!/bin/bash\n",
    "samtools view -f4 \\\n",
    "/data/reddylab/Alex/collab/20181203_Tyler/data/external/gasperini/encode/counts/pool${SLURM_ARRAY_TASK_ID}/outs/possorted_genome_bam.bam \\\n",
    "| /bin/grep UB: | /bin/grep CB: \\\n",
    "| awk -vOFS='\\n' '{print \"@\"$1, gensub(/.*CB:Z:(.+)\\-1.*/, \"\\\\1\", \"g\", $0), \"+\", \"EEEEEEEEEEEEEEEE\"}' \\\n",
    "> /data/reddylab/Alex/collab/20181203_Tyler/data/external/gasperini/encode/counts/pool${SLURM_ARRAY_TASK_ID}/outs/possorted_genome_bam.CB.fastq ;\n",
    "EOF\n"
   ]
  },
  {
   "cell_type": "markdown",
   "metadata": {},
   "source": [
    "The script to assign tags to read in the BAMs is running out of memory... We need to split the BAMs, assign the tags, and merge the BAMs back into a single BAM..."
   ]
  },
  {
   "cell_type": "code",
   "execution_count": null,
   "metadata": {},
   "outputs": [],
   "source": [
    "COMBOS=($(echo {1,2,3,4}@{chr1,chr2,chr3,chr4,chr5,chr6,chr7,chr8,chr9,chr10,chr11,chr12,chr13,chr14,chr15,chr16,chr17,chr18,chr19,chr20,chr21,chr22,chrX})\n",
    "COMBO=${COMBOS[${SLURM_ARRAY_TASK_ID}]}\n",
    "POOL=$(echo ${COMBO} | cut -d@ -f1)\n",
    "CHROM=$(echo ${COMBO} | cut -d@ -f2)\n"
   ]
  },
  {
   "cell_type": "code",
   "execution_count": 5,
   "metadata": {},
   "outputs": [
    {
     "name": "stdout",
     "output_type": "stream",
     "text": [
      "Submitted batch job 27102719\n"
     ]
    }
   ],
   "source": [
    "%%bash\n",
    "module load samtools\n",
    "sbatch \\\n",
    "    --array=1 \\\n",
    "    --cpus-per-task 8 \\\n",
    "    --mem=8G \\\n",
    "    -pall \\\n",
    "    -o /data/reddylab/Alex/collab/20181203_Tyler/logs/gasperini_et_al.sc_crispr_i.sort_and_index_pool_bam.%a.out \\\n",
    "<<'EOF'\n",
    "#!/bin/bash\n",
    "POOL=${SLURM_ARRAY_TASK_ID}\n",
    "DATA_DIR=\"/data/reddylab/Alex/collab/20181203_Tyler/data/external/gasperini/encode/counts/pool${POOL}/outs\"\n",
    "\n",
    "samtools sort \\\n",
    "    -@ 8 \\\n",
    "    -T /data/reddylab/Alex/tmp/gasperini_et_al.sc_crispr_i.sort_bt2 \\\n",
    "    ${DATA_DIR}/possorted_genome_bam.bt2.bam \\\n",
    "> ${DATA_DIR}/possorted_genome_bam.bt2.sorted.bam \\\n",
    "&& samtools index ${DATA_DIR}/possorted_genome_bam.bt2.sorted.bam\n",
    "\n",
    "EOF"
   ]
  },
  {
   "cell_type": "code",
   "execution_count": 3,
   "metadata": {},
   "outputs": [
    {
     "name": "stdout",
     "output_type": "stream",
     "text": [
      "Submitted batch job 27102716\n"
     ]
    }
   ],
   "source": [
    "%%bash\n",
    "module load samtools\n",
    "COMBOS=($(echo {1,2,3,4}@{chr1,chr2,chr3,chr4,chr5,chr6,chr7,chr8,chr9,chr10,chr11,chr12,chr13,chr14,chr15,chr16,chr17,chr18,chr19,chr20,chr21,chr22,chrX}))\n",
    "sbatch \\\n",
    "    --array=0 \\\n",
    "    --mem=8G \\\n",
    "    -pall \\\n",
    "    -o /data/reddylab/Alex/collab/20181203_Tyler/logs/gasperini_et_al.sc_crispr_i.split_pool_bam_by_chrom.%a.out \\\n",
    "<<'EOF'\n",
    "#!/bin/bash\n",
    "COMBOS=($(echo {1,2,3,4}@{chr1,chr2,chr3,chr4,chr5,chr6,chr7,chr8,chr9,chr10,chr11,chr12,chr13,chr14,chr15,chr16,chr17,chr18,chr19,chr20,chr21,chr22,chrX}))\n",
    "COMBO=${COMBOS[${SLURM_ARRAY_TASK_ID}]}\n",
    "POOL=$(echo ${COMBO} | cut -d@ -f1)\n",
    "CHROM=$(echo ${COMBO} | cut -d@ -f2)\n",
    "DATA_DIR=\"/data/reddylab/Alex/collab/20181203_Tyler/data/external/gasperini/encode/counts/pool${POOL}/outs\"\n",
    "mkdir -p ${DATA_DIR}/by_chorm/${CHROM} \n",
    "\n",
    "samtools view \\\n",
    "    -b \\\n",
    "    ${DATA_DIR}/possorted_genome_bam.bt2.sorted.bam \\\n",
    "    ${CHROM} \\\n",
    "> ${DATA_DIR}/by_chorm/possorted_genome_bam.bt2.${CHROM}.bam\n",
    "EOF\n"
   ]
  },
  {
   "cell_type": "code",
   "execution_count": null,
   "metadata": {},
   "outputs": [],
   "source": [
    "java -Xmx32g \\\n",
    "    -jar /data/reddylab/software/fgbio/0.8.1/fgbio.jar AnnotateBamWithUmis \\\n",
    "    -i /data/reddylab/Alex/collab/20181203_Tyler/data/external/gasperini/encode/counts/pool${SLURM_ARRAY_TASK_ID}/outs/possorted_genome_bam.bt2.bam \\\n",
    "    -o /data/reddylab/Alex/collab/20181203_Tyler/data/external/gasperini/encode/counts/pool${SLURM_ARRAY_TASK_ID}/outs/split_data/possorted_genome_bam.bt2.CB.0000.bam \\\n",
    "    -f /data/reddylab/Alex/collab/20181203_Tyler/data/external/gasperini/encode/counts/pool${SLURM_ARRAY_TASK_ID}/outs/split_data/possorted_genome_bam.CB.0000.fastq \\\n",
    "    -t CB\n"
   ]
  },
  {
   "cell_type": "markdown",
   "metadata": {},
   "source": [
    "Ok, so not the most efficient way to do this, but path forward. The problem is the `AnnotateBamWithUmis` commmand load in memory the whole set of FASTQ reads containing the UMI/barcodes. Somehow it must also duplicate some other data structures becasue it choked with 240G of RAM. The solution seems to be to reduce the size of the FASTQ file containing UMI/barcodes.\n",
    "- [X] Split UB and CB fastq files in 50 chunks\n",
    "- [ ] Annotate the reads contained in each FASTQ file iteratively, so that the last file has the annotations of all previous files. Clean up any temporary file in the process.\n",
    "- [ ] Clean up all secondary files"
   ]
  },
  {
   "cell_type": "code",
   "execution_count": 16,
   "metadata": {},
   "outputs": [
    {
     "name": "stdout",
     "output_type": "stream",
     "text": [
      "Submitted batch job 27121909\n"
     ]
    }
   ],
   "source": [
    "%%bash\n",
    "module load java\n",
    "sbatch \\\n",
    "    --array=2-4 \\\n",
    "    --mem=8G \\\n",
    "    -p all \\\n",
    "    -o /data/reddylab/Alex/collab/20181203_Tyler/logs/gasperini_et_al.sc_crispr_i.split_fastq_files.v2.%a.out \\\n",
    "<<'EOF'\n",
    "#!/bin/bash\n",
    "\n",
    "mkdir -p /data/reddylab/Alex/collab/20181203_Tyler/data/external/gasperini/encode/counts/pool${SLURM_ARRAY_TASK_ID}/outs/split_data_v2/UB\n",
    "mkdir -p /data/reddylab/Alex/collab/20181203_Tyler/data/external/gasperini/encode/counts/pool${SLURM_ARRAY_TASK_ID}/outs/split_data_v2/CB\n",
    "cd /data/reddylab/Alex/collab/20181203_Tyler/data/external/gasperini/encode/counts/pool${SLURM_ARRAY_TASK_ID}/outs/\n",
    "split -d -l 562800000 --additional-suffix=.fastq possorted_genome_bam.UB.fastq split_data_v2/UB/possorted_genome_bam.UB.\n",
    "split -d -l 562800000 --additional-suffix=.fastq possorted_genome_bam.CB.fastq split_data_v2/CB/possorted_genome_bam.CB.\n",
    "EOF"
   ]
  },
  {
   "cell_type": "code",
   "execution_count": 5,
   "metadata": {},
   "outputs": [],
   "source": [
    "%%bash\n",
    "for POOL in 2 3 4;\n",
    "do\n",
    "    ln -s /data/reddylab/Alex/collab/20181203_Tyler/data/external/gasperini/encode/counts/pool${POOL}/outs/possorted_genome_bam.bt2.bam \\\n",
    "        /data/reddylab/Alex/collab/20181203_Tyler/data/external/gasperini/encode/counts/pool${POOL}/outs/split_data/UB/possorted_genome_bam.bt2.UB.00.bam\n",
    "done"
   ]
  },
  {
   "cell_type": "code",
   "execution_count": 17,
   "metadata": {},
   "outputs": [
    {
     "name": "stdout",
     "output_type": "stream",
     "text": [
      "Submitted batch job 27121913\n"
     ]
    }
   ],
   "source": [
    "%%bash\n",
    "module load java\n",
    "sbatch \\\n",
    "    --exclude=dl-01 \\\n",
    "    --depend=afterok:27121909 \\\n",
    "    --array=2-4 \\\n",
    "    --mem=96G \\\n",
    "    -pall \\\n",
    "    -o /data/reddylab/Alex/collab/20181203_Tyler/logs/gasperini_et_al.sc_crispr_i.merge_bam_with_tags.split_version.v02.%a.out \\\n",
    "<<'EOF'\n",
    "#!/bin/bash\n",
    "\n",
    "ln -s /data/reddylab/Alex/collab/20181203_Tyler/data/external/gasperini/encode/counts/pool${SLURM_ARRAY_TASK_ID}/outs/possorted_genome_bam.bt2.bam \\\n",
    "    /data/reddylab/Alex/collab/20181203_Tyler/data/external/gasperini/encode/counts/pool${SLURM_ARRAY_TASK_ID}/outs/split_data_v2/UB/possorted_genome_bam.bt2.UB.00.bam\n",
    "cd /data/reddylab/Alex/collab/20181203_Tyler/data/external/gasperini/encode/counts/pool${SLURM_ARRAY_TASK_ID}/outs/split_data_v2/UB\n",
    "for ii in *[0-9].fastq; \n",
    "do\n",
    "    BATCH=$(echo ${ii} | cut -d. -f3)\n",
    "    TMPBATCH=$((10#${BATCH}))\n",
    "    NEXTBATCH=$(printf \"%02d\" $((${TMPBATCH} + 1)))\n",
    "    time java -Xmx64g \\\n",
    "        -jar /data/reddylab/software/fgbio/0.8.1/fgbio.jar AnnotateBamWithUmis \\\n",
    "        -i possorted_genome_bam.bt2.UB.${BATCH}.bam \\\n",
    "        -o possorted_genome_bam.bt2.UB.${NEXTBATCH}.bam \\\n",
    "        -f possorted_genome_bam.UB.${BATCH}.fastq \\\n",
    "        -t UB\n",
    "    echo \"possorted_genome_bam.bt2.UB.${NEXTBATCH}.bam finished\"\n",
    "    rm -f possorted_genome_bam.bt2.UB.${BATCH}.bam\n",
    "done\n",
    "\n",
    "cd /data/reddylab/Alex/collab/20181203_Tyler/data/external/gasperini/encode/counts/pool${SLURM_ARRAY_TASK_ID}/outs/split_data_v2/CB\n",
    "ln -s ../UB/possorted_genome_bam.bt2.UB.${NEXTBATCH}.bam ./possorted_genome_bam.bt2.CB.00.bam\n",
    "for ii in *[0-9].fastq; \n",
    "do\n",
    "    BATCH=$(echo ${ii} | cut -d. -f3)\n",
    "    TMPBATCH=$((10#${BATCH}))\n",
    "    NEXTBATCH=$(printf \"%02d\" $((${TMPBATCH} + 1)))\n",
    "    time java -Xmx64g \\\n",
    "        -jar /data/reddylab/software/fgbio/0.8.1/fgbio.jar AnnotateBamWithUmis \\\n",
    "        -i possorted_genome_bam.bt2.CB.${BATCH}.bam \\\n",
    "        -o possorted_genome_bam.bt2.CB.${NEXTBATCH}.bam \\\n",
    "        -f possorted_genome_bam.CB.${BATCH}.fastq \\\n",
    "        -t CB\n",
    "    > /dev/null 2>&1\n",
    "    echo \"possorted_genome_bam.bt2.CB.${NEXTBATCH}.bam finished\"\n",
    "    rm -f possorted_genome_bam.bt2.CB.${BATCH}.bam\n",
    "done\n",
    "\n",
    "EOF\n"
   ]
  },
  {
   "cell_type": "markdown",
   "metadata": {},
   "source": [
    "^-- This worked, with simply 5 batches of FASTQ reads"
   ]
  },
  {
   "cell_type": "markdown",
   "metadata": {},
   "source": [
    "Now, use custom script to re-create guide MM files"
   ]
  },
  {
   "cell_type": "code",
   "execution_count": 4,
   "metadata": {},
   "outputs": [
    {
     "name": "stdout",
     "output_type": "stream",
     "text": [
      "/data/reddylab/Alex/collab/20181203_Tyler/data/external/gasperini/encode/counts/pool1/outs/split_data_v2/CB/possorted_genome_bam.bt2.CB.05.bam\n",
      "/data/reddylab/Alex/collab/20181203_Tyler/data/external/gasperini/encode/counts/pool2/outs/split_data_v2/CB/possorted_genome_bam.bt2.CB.06.bam\n",
      "/data/reddylab/Alex/collab/20181203_Tyler/data/external/gasperini/encode/counts/pool3/outs/split_data_v2/CB/possorted_genome_bam.bt2.CB.06.bam\n",
      "/data/reddylab/Alex/collab/20181203_Tyler/data/external/gasperini/encode/counts/pool4/outs/split_data_v2/CB/possorted_genome_bam.bt2.CB.06.bam\n"
     ]
    }
   ],
   "source": [
    "%%bash\n",
    "ls /data/reddylab/Alex/collab/20181203_Tyler/data/external/gasperini/encode/counts/poo11/outs/split_data_v2/CB/*bam"
   ]
  },
  {
   "cell_type": "code",
   "execution_count": 6,
   "metadata": {},
   "outputs": [
    {
     "data": {
      "text/plain": [
       "20"
      ]
     },
     "execution_count": 6,
     "metadata": {},
     "output_type": "execute_result"
    }
   ],
   "source": [
    "len(\"GGATGACTCAACAGAATGGG\")"
   ]
  },
  {
   "cell_type": "code",
   "execution_count": 9,
   "metadata": {},
   "outputs": [],
   "source": [
    "%%bash\n",
    "cut -d_ -f2 /data/reddylab/Alex/collab/20181203_Tyler/data/external/gasperini/encode/fasta/protospacer_ids.txt \\\n",
    "    > /data/reddylab/Alex/collab/20181203_Tyler/data/external/gasperini/encode/fasta/protospacer_ids.simple.txt"
   ]
  },
  {
   "cell_type": "code",
   "execution_count": 1,
   "metadata": {},
   "outputs": [
    {
     "name": "stdout",
     "output_type": "stream",
     "text": [
      "Submitted batch job 27247257\n"
     ]
    }
   ],
   "source": [
    "%%bash\n",
    "source /data/reddylab/software/miniconda3/bin/activate alex_py3\n",
    "module load bzip2\n",
    "sbatch -pall \\\n",
    "    --exclude=dl-01 \\\n",
    "    --mem 64G \\\n",
    "    --array 3 \\\n",
    "    --output /data/reddylab/Alex/collab/20181203_Tyler/logs/gasperini_et_al.scRNAseq.extract_umi_counts_from_grna_bam.sam_with_tags.pool_%a.out \\\n",
    "    <<'EOF'\n",
    "#!/bin/bash\n",
    "# _pool${SLURM_ARRAY_TASK_ID}\n",
    "#     --sam /data/reddylab/Alex/collab/20181203_Tyler/sc_crispr_i/counts/pool${SLURM_ARRAY_TASK_ID}/outs/possorted_genome_bam.bam \\\n",
    "mkdir -p  /data/reddylab/Alex/collab/20181203_Tyler/data/external/gasperini/encode/counts/pool${SLURM_ARRAY_TASK_ID}/outs/new\n",
    "python /data/reddylab/Alex/collab/20181203_Tyler/scripts/scRNAseq.extract_umi_counts_from_grna_bam.py \\\n",
    "    --sam /data/reddylab/Alex/collab/20181203_Tyler/data/external/gasperini/encode/counts/pool${SLURM_ARRAY_TASK_ID}/outs/split_data_v2/CB/possorted_genome_bam.bt2.CB.06.bam \\\n",
    "    --sam-has-all-tags \\\n",
    "    --protospacers /data/reddylab/Alex/collab/20181203_Tyler/data/external/gasperini/encode/fasta/protospacer_ids.simple.txt \\\n",
    "    --outdir /data/reddylab/Alex/collab/20181203_Tyler/data/external/gasperini/encode/counts/pool${SLURM_ARRAY_TASK_ID}/outs/new \\\n",
    "    --cell-barcodes /data/reddylab/Alex/collab/20181203_Tyler/data/external/gasperini/encode/counts/pool${SLURM_ARRAY_TASK_ID}/outs/filtered_feature_bc_matrix/barcodes.tsv.gz \\\n",
    "    --cell-barcode-tag CB \\\n",
    "    --umi-tag UB \\\n",
    "    --outname pool${SLURM_ARRAY_TASK_ID} \\\n",
    "    --sam-flag 4 \\\n",
    "    --cell-pool ${SLURM_ARRAY_TASK_ID}\n",
    "EOF\n"
   ]
  },
  {
   "cell_type": "code",
   "execution_count": null,
   "metadata": {},
   "outputs": [],
   "source": [
    "# %load /data/reddylab/Alex/collab/20181203_Tyler/scripts/scRNAseq.extract_umi_counts_from_grna_bam.py\n",
    "#!/usr/bin/env python3 \n",
    "import argparse\n",
    "import fileinput\n",
    "import sys\n",
    "from collections import defaultdict as dd\n",
    "import re\n",
    "import numpy as np\n",
    "from skbio.alignment import StripedSmithWaterman as ssm\n",
    "import pandas as pd\n",
    "import pysam\n",
    "\n",
    "def revcomp(s):\n",
    "    comp = {'A': 'T', 'C': 'G', 'G': 'C', 'T': 'A'}\n",
    "    return ''.join([comp[c] for c in s[::-1]])\n",
    "\n",
    "def sw(protospacers, query_seq):\n",
    "    s = ssm(query_seq)\n",
    "    for target_seq in protospacers:\n",
    "        res = s(target_seq)\n",
    "        if '20M' in res.cigar or '19M' in res.cigar:\n",
    "            return target_seq\n",
    "    else:\n",
    "        return None\n",
    "\n",
    "def match_within_distance(protospacers, query_seq, max_distance = 1):\n",
    "    alphabet = ['A', 'T', 'C', 'G']\n",
    "    distance = 0\n",
    "    if query_seq in protospacers:\n",
    "        return query_seq, distance\n",
    "    while distance < max_distance:\n",
    "        distance += 1\n",
    "        for nucl_ix in range(len(query_seq)):\n",
    "            for base in [a for a in alphabet if a != query_seq[nucl_ix]]:\n",
    "                mutant = query_seq[:nucl_ix] + base + query_seq[nucl_ix+1:]\n",
    "                if mutant in protospacers:\n",
    "                    return mutant, distance\n",
    "    return None, -1\n",
    "    \n",
    "\n",
    "def main():\n",
    "    #\"/data/reddylab/Alex/tmp/foo.test.sam\"\n",
    "    parser = argparse.ArgumentParser(formatter_class=argparse.RawTextHelpFormatter, \n",
    "                                     description=\"\"\"\"\"\")\n",
    "\n",
    "    optional = parser._action_groups.pop()\n",
    "    required = parser.add_argument_group('required arguments')\n",
    "\n",
    "    ##################################################\n",
    "    # required args:\n",
    "    required.add_argument(\"--protospacers\", type=str, required=True,\n",
    "                          help=\"File containing gRNA protospacers to search for.\")\n",
    "    required.add_argument(\"--sam\", type=str, required=True,\n",
    "                          help=\"SAM/BAM file\")\n",
    "    required.add_argument(\"--outdir\", type=str, required=True,\n",
    "                          help=\"Output directory where files will be created (or overwritten if existing)\")\n",
    "    required.add_argument(\"--outname\", type=str, required=True,\n",
    "                          help=\"String used as basename for generated files\")\n",
    "    # required.add_argument(\"strategy\", type=str, choices=['exact-all', 'partial-last'], \n",
    "    #                       help=\"required, FASTQ R1 file\")\n",
    "    ##################################################\n",
    "    # optional args:\n",
    "    optional.add_argument(\"--sam-has-all-tags\", action='store_true', required=False,\n",
    "                          help=\"Use if SAM/BAM has already the UMI (default: UB) and cell barcodes (default: CB) tags\")\n",
    "    optional.add_argument(\"--sam-flag\", type=int, required=False,\n",
    "                          help=\"Use SAM flag to select matching alignments\")\n",
    "    optional.add_argument(\"--protospacer-start-pos\", type=str, required=False, default=23,\n",
    "                          help=\"Position where protospacer starts. (default: 23)\")\n",
    "    optional.add_argument(\"--protospacer-length\", type=str, required=False, default=20,\n",
    "                          help=\"Protospacer length. (default: 20)\")\n",
    "    optional.add_argument(\"--cell-barcodes\", type=str, required=False,\n",
    "                          help=\"If provided, use this file with one barcode per line instead of the observed ones\")\n",
    "    optional.add_argument(\"--cell-barcode-tag\", type=str, required=False, default='CB',\n",
    "                          help=\"By default, use the tag CB as cellular identifier. Other tags can be used (like CR)\")\n",
    "    optional.add_argument(\"--umi-tag\", type=str, required=False, default='UB',\n",
    "                          help=\"By default, use the tag UB as molecular identifier. Other tags can be used (like UR)\")\n",
    "    optional.add_argument(\"--cell-pool\", type=int, required=False,\n",
    "                          help=\"If provided, add this int to the barcodes in this pool\")\n",
    "\n",
    "    parser._action_groups.append(optional)\n",
    "    # /data/reddylab/Alex/collab/20181203_Tyler/data/external/scRNAseq/possorted_genome_bam.sam\n",
    "    # args = parser.parse_args(\"--protospacers /data/reddylab/Alex/collab/20181203_Tyler/data/external/scRNAseq/scLib-gRNAs.protospacers.txt --sam /data/reddylab/Alex/collab/20181203_Tyler/data/external/scRNAseq/possorted_genome_bam.sam\".split())\n",
    "    args = parser.parse_args()\n",
    "\n",
    "    # parse command line\n",
    "    protospacer_start_pos = args.protospacer_start_pos\n",
    "    protospacers = pd.read_csv(args.protospacers, header=None).values.T.tolist()[0]\n",
    "    cell_barcodes = []\n",
    "    \n",
    "    if args.cell_barcodes:\n",
    "        cell_barcodes = pd.read_csv(args.cell_barcodes, header=None).values.T.tolist()[0]\n",
    "    else:\n",
    "        if args.sam_has_all_tags:\n",
    "            for a in pysam.AlignmentFile(args.sam, \"rb\"):\n",
    "                # sequence = a.query_sequence\n",
    "                try:\n",
    "                    cell_barcode = dict(a.tags)[args.cell_barcode_tag]\n",
    "                except KeyError:\n",
    "                    continue\n",
    "                cell_barcodes.append(cell_barcode)\n",
    "            cell_barcodes = list(set(cell_barcodes))\n",
    "        else:\n",
    "            for a in pysam.AlignmentFile(args.sam, \"rb\"):\n",
    "                if args.sam_flag and not (args.sam_flag & a.flag == args.sam_flag):\n",
    "                    continue\n",
    "                try:\n",
    "                    cell_barcode = dict(a.tags)[args.cell_barcode_tag]\n",
    "                except KeyError:\n",
    "                    continue\n",
    "                cell_barcodes.append(cell_barcode)\n",
    "            cell_barcodes = list(set(cell_barcodes))\n",
    "    \n",
    "    print (\"Barcodes loaded...\")\n",
    "    mm = dd(list)\n",
    "    nbarcodes_notfound = 0\n",
    "    if args.sam_has_all_tags:\n",
    "        for a in pysam.AlignmentFile(args.sam, \"rb\"):\n",
    "            try:\n",
    "                cell_barcode = dict(a.tags)[args.cell_barcode_tag]\n",
    "                umi = dict(a.tags)[args.umi_tag]\n",
    "            except KeyError:\n",
    "                continue\n",
    "            observed_protospacer = a.query_sequence\n",
    "            protospacers_ix = protospacers.index(observed_protospacer)\n",
    "            try:\n",
    "                if '-' not in cell_barcode:\n",
    "                    cell_barcode = \"%s-1\" % cell_barcode\n",
    "                cell_barcodes_ix = cell_barcodes.index(cell_barcode)\n",
    "            except ValueError:\n",
    "                nbarcodes_notfound += 1\n",
    "                continue # Barcode not present in provided list\n",
    "            key = \"%d_%d\" % (protospacers_ix, cell_barcodes_ix)\n",
    "            mm[key].append(umi)\n",
    "        print (\"Number of cell barcodes present in gRNA BAM not found in barcode whitelist: %d\" % nbarcodes_notfound)\n",
    "    else:\n",
    "        for a in pysam.AlignmentFile(args.sam, \"rb\"):\n",
    "            if args.sam_flag and not (args.sam_flag & a.flag == args.sam_flag):\n",
    "                continue\n",
    "            try:\n",
    "                cell_barcode = dict(a.tags)[args.cell_barcode_tag]\n",
    "                umi = dict(a.tags)[args.umi_tag]\n",
    "            except KeyError:\n",
    "                continue\n",
    "            sequence = a.query_sequence\n",
    "            if 16 & a.flag == 16:\n",
    "                sequence  = revcomp(sequence)\n",
    "\n",
    "            observed_protospacer = sequence[protospacer_start_pos:protospacer_start_pos+args.protospacer_length]\n",
    "            if observed_protospacer not in protospacers:\n",
    "                # If protospacer not found in normal position, try +/- 1bp:\n",
    "                for offset in [-1, 1, -2, 2]:\n",
    "                    observed_protospacer = sequence[protospacer_start_pos+offset:protospacer_start_pos+offset+args.protospacer_length]\n",
    "                    if observed_protospacer in protospacers:\n",
    "                        break\n",
    "                else: # protospacer not found, try Smith-Waterman\n",
    "    #                 continue\n",
    "    #                 observed_protospacer = sw(protospacers, sequence[protospacer_start_pos:protospacer_start_pos+args.protospacer_length])\n",
    "                    for offset in [0, -1, 1]:\n",
    "                        observed_protospacer, distance = \\\n",
    "                            match_within_distance(protospacers, \n",
    "                                                  sequence[protospacer_start_pos+offset:protospacer_start_pos+offset+args.protospacer_length], \n",
    "                                                  max_distance=1)\n",
    "                        if observed_protospacer:\n",
    "                            break\n",
    "            if not observed_protospacer:\n",
    "                continue\n",
    "            protospacers_ix = protospacers.index(observed_protospacer)\n",
    "            try:\n",
    "                cell_barcodes_ix = cell_barcodes.index(cell_barcode)\n",
    "            except ValueError:\n",
    "                continue # Barcode not present in provided list\n",
    "            key = \"%d_%d\" % (protospacers_ix, cell_barcodes_ix)\n",
    "            mm[key].append(umi)\n",
    "\n",
    "    print (\"Observed protospacers stored...\")\n",
    "    mm_avg = dd(list)\n",
    "    mm_median = dd(list)\n",
    "    \n",
    "    for k in mm.keys():\n",
    "        mm[k] = len(set(mm[k]))\n",
    "        mm_avg[k].append(np.average(np.unique(np.array(mm[k]), return_counts=True)[1]))\n",
    "        mm_median[k].append(np.median(np.unique(np.array(mm[k]), return_counts=True)[1]))\n",
    "\n",
    "    with open('%s/%s.matrix.tsv' % (args.outdir, args.outname), 'w') as ofile:\n",
    "        ofile.write(\"%%MatrixMarket matrix coordinate integer general\\n\")\n",
    "        ofile.write(\"%metadata_json: {\\\"format_version\\\": 2, \\\"software_version\\\": \\\"3.1.0\\\"}\\n\")\n",
    "        ofile.write(\"%d\\t%d\\t%d\\n\" % (len(protospacers), len(cell_barcodes), len(mm.keys())))\n",
    "        for k, v in mm.items():\n",
    "            ps, cell_barcode = [int(kk)+1 for kk in k.split(\"_\")]\n",
    "            ofile.write(\"%d\\t%d\" % (ps, cell_barcode))\n",
    "            ofile.write(\"\\t%d\\n\" % v)\n",
    "\n",
    "    pool_suffix = '-%d' % args.cell_pool if  args.cell_pool else ''\n",
    "    pd.DataFrame([c.split('-')[0] + pool_suffix for c in cell_barcodes])\\\n",
    "        .to_csv('%s/%s.barcodes.tsv' % (args.outdir, args.outname),\n",
    "                index=False, header=False)\n",
    "\n",
    "    # Save average and median UMI counts per cell (since we only count multi-read UMIs as 1)\n",
    "    pd.DataFrame.from_dict(mm_avg).T.to_csv('%s/%s.counts_per_umi.avg.txt' % (args.outdir, args.outname), header=None, sep='\\t')\n",
    "    pd.DataFrame.from_dict(mm_median).T.to_csv('%s/%s.counts_per_umi.median.txt' % (args.outdir, args.outname), header=None, sep='\\t')\n",
    "        \n",
    "if __name__ == '__main__':\n",
    "    main()\n"
   ]
  },
  {
   "cell_type": "markdown",
   "metadata": {},
   "source": [
    "Create 3 files per sample with the exact filenames expected by the `Read10X` function "
   ]
  },
  {
   "cell_type": "code",
   "execution_count": 1,
   "metadata": {},
   "outputs": [],
   "source": [
    "%%bash\n",
    "cd  /data/reddylab/Alex/collab/20181203_Tyler/data/external/gasperini/encode/counts/\n",
    "for POOL in 1 2 3 4;\n",
    "do\n",
    "    gzip -c pool${POOL}/outs/new/pool${POOL}.matrix.tsv > pool${POOL}/outs/new/matrix.mtx.gz \n",
    "    gzip -c pool${POOL}/outs/new/pool${POOL}.barcodes.tsv > pool${POOL}/outs/new/barcodes.tsv.gz \n",
    "    gzip -c /data/reddylab/Alex/collab/20181203_Tyler/data/external/gasperini/encode/fasta/protospacer_ids.simple.txt \\\n",
    "        > pool${POOL}/outs/new/features.tsv.gz \n",
    "done\n"
   ]
  },
  {
   "cell_type": "code",
   "execution_count": 2,
   "metadata": {},
   "outputs": [
    {
     "name": "stdout",
     "output_type": "stream",
     "text": [
      "13189 /data/reddylab/Alex/collab/20181203_Tyler/data/external/gasperini/encode/fasta/protospacer_ids.txt\n"
     ]
    }
   ],
   "source": [
    "!wc -l /data/reddylab/Alex/collab/20181203_Tyler/data/external/gasperini/encode/fasta/protospacer_ids.txt "
   ]
  },
  {
   "cell_type": "markdown",
   "metadata": {},
   "source": [
    "In R (alex_py3)"
   ]
  },
  {
   "cell_type": "code",
   "execution_count": null,
   "metadata": {},
   "outputs": [],
   "source": [
    "suppressPackageStartupMessages(library(argparse))\n",
    "suppressPackageStartupMessages(library(Seurat))\n",
    "suppressPackageStartupMessages(library(GenomicRanges))\n",
    "suppressPackageStartupMessages(library(stringr))\n",
    "suppressPackageStartupMessages(library(SparseData))\n",
    "suppressPackageStartupMessages(library(purrr))\n",
    "\n",
    "filepath <- c('/data/reddylab/Alex/collab/20181203_Tyler/data/external/gasperini/encode/counts/pool1/outs/new/', \n",
    "              '/data/reddylab/Alex/collab/20181203_Tyler/data/external/gasperini/encode/counts/pool2/outs/new/',\n",
    "              '/data/reddylab/Alex/collab/20181203_Tyler/data/external/gasperini/encode/counts/pool3/outs/new/',\n",
    "              '/data/reddylab/Alex/collab/20181203_Tyler/data/external/gasperini/encode/counts/pool4/outs/new/')\n",
    "gRNAs.counts<- purrr::reduce(purrr::map(filepath, Read10X, gene.column=1), combine)\n",
    "writeMM(gRNAs.counts, file='/data/reddylab/Alex/collab/20181203_Tyler/data/external/gasperini/encode/counts/gRNAs.all.MM.txt.gz')"
   ]
  },
  {
   "cell_type": "code",
   "execution_count": null,
   "metadata": {},
   "outputs": [],
   "source": [
    "function(M.list) {\n",
    "  A = M.list[[1]]\n",
    "\n",
    "  for (i in 2:length(M.list)){ #i indexes of matrices\n",
    "    # finding what's missing\n",
    "    misA = colnames(M.list[[i]])[!colnames(M.list[[i]]) %in% colnames(A)]\n",
    "    misB = colnames(A)[!colnames(A) %in% colnames(M.list[[i]])]\n",
    "\n",
    "    misAl = as.vector(numeric(length(misA)), \"list\")\n",
    "    names(misAl) = misA\n",
    "    misBl = as.vector(numeric(length(misB)), \"list\")\n",
    "    names(misBl) = misB\n",
    "\n",
    "    ## adding missing columns to initial matrices\n",
    "    An = Reduce(cbind, c(A, misAl))\n",
    "    if (length(misA) > 0)\n",
    "       {\n",
    "       lenA <- ncol(An)-length(misA)+1\n",
    "       colnames(An)[lenA:ncol(An)] = names(misAl)\n",
    "       }\n",
    "\n",
    "    Bn = Reduce(cbind, c(M.list[[i]], misBl))\n",
    "    if(length(misB) > 0)\n",
    "       {\n",
    "       lenB <- ncol(Bn)-length(misB)+1\n",
    "       colnames(Bn)[lenB:ncol(Bn)] = names(misBl)\n",
    "       }\n",
    "\n",
    "    Bn <- Bn[,colnames(An)]\n",
    "\n",
    "    # final bind\n",
    "    A = rbind(An, Bn, use.names = T)\n",
    "    print(c(length(M.list), i))\n",
    "  }\n",
    "  A\n",
    "}\n",
    "gRNAs.counts<- purrr::map(filepath, Read10X, gene.column=1, strip.suffix = T)\n",
    "merged <- merge.sparse(gRNAs.counts)"
   ]
  }
 ],
 "metadata": {
  "kernelspec": {
   "display_name": "Python 3",
   "language": "python",
   "name": "python3"
  },
  "language_info": {
   "codemirror_mode": {
    "name": "ipython",
    "version": 3
   },
   "file_extension": ".py",
   "mimetype": "text/x-python",
   "name": "python",
   "nbconvert_exporter": "python",
   "pygments_lexer": "ipython3",
   "version": "3.6.7"
  }
 },
 "nbformat": 4,
 "nbformat_minor": 4
}
