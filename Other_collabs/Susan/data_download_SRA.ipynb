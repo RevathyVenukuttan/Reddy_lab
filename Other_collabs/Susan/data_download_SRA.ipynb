{
 "cells": [
  {
   "cell_type": "code",
   "execution_count": 7,
   "metadata": {},
   "outputs": [
    {
     "name": "stdout",
     "output_type": "stream",
     "text": [
      "Submitted batch job 29614515\n"
     ]
    }
   ],
   "source": [
    "%%bash\n",
    "mkdir -p /data/reddylab/Revathy/collabs/Susan/logs \n",
    "mkdir -p /data/reddylab/Revathy/collabs/Susan/fastq\n",
    "cd /data/reddylab/Revathy/collabs/Susan/fastq\n",
    "export PATH=$PATH:/data/reddylab/Revathy/software/sratoolkit.3.0.0-centos_linux64/bin\n",
    "sbatch -p all \\\n",
    "    --array=0-5 \\\n",
    "    --mem 16G \\\n",
    "    -o /data/reddylab/Revathy/collabs/Susan/logs/download_sra.%a.out \\\n",
    "    <<'EOF'\n",
    "#!/bin/bash\n",
    "sra_ids=(SRR5036390 SRR5036391 SRR5036392 SRR5036393 SRR5036394 SRR5036395 SRR5036396)\n",
    "sra_id=${sra_ids[${SLURM_ARRAY_TASK_ID}]}\n",
    "fastq-dump --gzip --split-files --origfmt ${sra_id}\n",
    "EOF"
   ]
  },
  {
   "cell_type": "code",
   "execution_count": 2,
   "metadata": {},
   "outputs": [
    {
     "name": "stdout",
     "output_type": "stream",
     "text": [
      "AGCCTAACGATCGGACCGAG\tscrambled_1\n",
      "TGTCCAGTTCCGTAGGATGG\tscrambled_2\n",
      "TATTCGTACCGGGCAGCAGG\tscrambled_3\n",
      "CGGTGGGGCCGCTCACTAGG\tscrambled_4\n",
      "CTGAACTTCGGTAAAGGCGG\tscrambled_5\n",
      "CTCACCGTAGAGACGGCACG\tscrambled_6\n",
      "ACCGCTGCCCTAACCACTGG\tscrambled_7\n",
      "GCTGTATATCGGCGCCCCGG\tscrambled_8\n",
      "ATGCGGCGAACTGCCGTAAG\tscrambled_9\n",
      "ACTGCCTCGCGATTGACTGG\tscrambled_10\n"
     ]
    },
    {
     "name": "stderr",
     "output_type": "stream",
     "text": [
      "--2023-11-06 09:59:41--  https://ftp.ncbi.nlm.nih.gov/geo/series/GSE120nnn/GSE120861/suppl/GSE120861_grna_groups.pilot.txt.gz\n",
      "Resolving ftp.ncbi.nlm.nih.gov (ftp.ncbi.nlm.nih.gov)... 130.14.250.10, 130.14.250.7, 2607:f220:41e:250::7, ...\n",
      "Connecting to ftp.ncbi.nlm.nih.gov (ftp.ncbi.nlm.nih.gov)|130.14.250.10|:443... connected.\n",
      "HTTP request sent, awaiting response... 200 OK\n",
      "Length: 38546 (38K) [application/x-gzip]\n",
      "Saving to: ‘GSE120861_grna_groups.pilot.txt.gz’\n",
      "\n",
      "     0K .......... .......... .......... .......              100% 2.51M=0.01s\n",
      "\n",
      "2023-11-06 09:59:42 (2.51 MB/s) - ‘GSE120861_grna_groups.pilot.txt.gz’ saved [38546/38546]\n",
      "\n"
     ]
    }
   ],
   "source": [
    "%%bash\n",
    "cd /data/gersbachlab/Revathy/collabs/Susan/data/gasperini\n",
    "wget https://ftp.ncbi.nlm.nih.gov/geo/series/GSE120nnn/GSE120861/suppl/GSE120861_grna_groups.pilot.txt.gz; gunzip --force -d GSE120861_grna_groups.pilot.txt.gz; awk '{ print $2 \"\\t\" $1}' GSE120861_grna_groups.pilot.txt > raw_gasperini_pilot_guide_sequences.tsv\n",
    "head -n 10 raw_gasperini_pilot_guide_sequences.tsv "
   ]
  },
  {
   "cell_type": "markdown",
   "metadata": {},
   "source": [
    "### create symlink for data\n",
    "\n",
    "Aim to have all fastq in the same directory for processing it through cellranger count. Now all of the samples in multiple different directories separated by SRRs and samples\n",
    "\n",
    "data for low_moi pilot screen: `/data/gersbachlab/Revathy/collabs/Susan/data/gasperini/fastq/low_moi`"
   ]
  },
  {
   "cell_type": "code",
   "execution_count": 31,
   "metadata": {},
   "outputs": [],
   "source": [
    "import os\n",
    "import ntpath\n",
    "\n",
    "path = \"/data/gersbachlab/Revathy/collabs/Susan/data/gasperini/fastq/at_scale\"\n",
    "\n",
    "#recursively walk through the directory to find folders\n",
    "for root, dir, files in os.walk(path):\n",
    "    for file in files:\n",
    "        dirname = ntpath.basename(root)\n",
    "        ori = root + '/' + file\n",
    "        dest =  root + '/' + dirname + file\n",
    "        os.rename(ori, dest)\n"
   ]
  },
  {
   "cell_type": "code",
   "execution_count": 1,
   "metadata": {},
   "outputs": [],
   "source": [
    "%%bash\n",
    "mkdir -p /data/gersbachlab/Revathy/collabs/Susan/data/gasperini/bam\n",
    "cd /data/gersbachlab/Revathy/collabs/Susan/data/gasperini/fastq/high_moi\n",
    "find . -mindepth 2 -name \"*.bam\" -exec mv {} ../../bam \\;"
   ]
  },
  {
   "cell_type": "code",
   "execution_count": 7,
   "metadata": {},
   "outputs": [],
   "source": [
    "%%bash\n",
    "cd /data/gersbachlab/Revathy/collabs/Susan/data/gasperini/fastq/at_scale\n",
    "find . -mindepth 4 -type f -exec mv {} . \\;"
   ]
  },
  {
   "cell_type": "code",
   "execution_count": 34,
   "metadata": {},
   "outputs": [],
   "source": [
    "%%bash\n",
    "cd /data/gersbachlab/Revathy/collabs/Susan/data/gasperini/fastq/at_scale\n",
    "mv at_scale_screen*/*MissingLibrary*/* /data/gersbachlab/Revathy/collabs/Susan/data/gasperini/fastq/at_scale"
   ]
  },
  {
   "cell_type": "code",
   "execution_count": 35,
   "metadata": {},
   "outputs": [],
   "source": [
    "%%bash\n",
    "cd /data/gersbachlab/Revathy/collabs/Susan/data/gasperini/fastq/at_scale\n",
    "rm -r at_scale_screen*"
   ]
  },
  {
   "cell_type": "code",
   "execution_count": 12,
   "metadata": {},
   "outputs": [],
   "source": [
    "import os\n",
    "from os import path\n",
    "import re\n",
    "\n",
    "os.chdir('/data/gersbachlab/Revathy/collabs/Susan/data/gasperini/fastq/high_moi')\n",
    "path_to_directory = \"/data/gersbachlab/Revathy/collabs/Susan/data/gasperini/fastq/high_moi\"\n",
    "file_num = 0\n",
    "for f in os.listdir(path_to_directory):\n",
    "    res = re.findall(\"_MissingLibrary_1\", f)[0]\n",
    "    s1 = f.split(res)[0]\n",
    "    s2 = f.split(res)[-1]\n",
    "    s3 = s1+s2\n",
    "    os.rename(f,s3)\n",
    "      "
   ]
  },
  {
   "cell_type": "code",
   "execution_count": null,
   "metadata": {},
   "outputs": [],
   "source": []
  }
 ],
 "metadata": {
  "kernelspec": {
   "display_name": "Python3 (revathy)",
   "language": "python",
   "name": "revathy_py3"
  },
  "language_info": {
   "codemirror_mode": {
    "name": "ipython",
    "version": 3
   },
   "file_extension": ".py",
   "mimetype": "text/x-python",
   "name": "python",
   "nbconvert_exporter": "python",
   "pygments_lexer": "ipython3",
   "version": "3.5.4"
  }
 },
 "nbformat": 4,
 "nbformat_minor": 2
}
