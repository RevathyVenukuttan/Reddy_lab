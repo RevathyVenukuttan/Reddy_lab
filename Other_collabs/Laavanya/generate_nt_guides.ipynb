{
 "cells": [
  {
   "cell_type": "code",
   "execution_count": 1,
   "metadata": {},
   "outputs": [
    {
     "name": "stdout",
     "output_type": "stream",
     "text": [
      "Submitted batch job 26699779\n"
     ]
    }
   ],
   "source": [
    "%%bash\n",
    "source /data/reddylab/software/miniconda3/bin/activate revathy_py3\n",
    "sbatch -p all \\\n",
    "     --mem 16G \\\n",
    "     -o /data/reddylab/Revathy/collabs/Laavanya/logs/generate_nt_guides.out \\\n",
    "     <<'EOF'\n",
    "#!/bin/sh\n",
    "python /data/reddylab/Revathy/scripts/generate_non_targeting_gRNAs.py \\\n",
    "--gRNAs /data/reddylab/Revathy/collabs/Laavanya/data/guides/Justthelistofguides.txt \\\n",
    "-n 500 \\\n",
    "-o /data/reddylab/Revathy/collabs/Laavanya/data/guides/laavanya_nt_guides.txt\n",
    "EOF"
   ]
  },
  {
   "cell_type": "code",
   "execution_count": null,
   "metadata": {},
   "outputs": [],
   "source": []
  }
 ],
 "metadata": {
  "kernelspec": {
   "display_name": "Python 3",
   "language": "python",
   "name": "python3"
  },
  "language_info": {
   "codemirror_mode": {
    "name": "ipython",
    "version": 3
   },
   "file_extension": ".py",
   "mimetype": "text/x-python",
   "name": "python",
   "nbconvert_exporter": "python",
   "pygments_lexer": "ipython3",
   "version": "3.6.7"
  }
 },
 "nbformat": 4,
 "nbformat_minor": 2
}
