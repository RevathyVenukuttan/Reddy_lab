{
 "cells": [
  {
   "cell_type": "code",
   "execution_count": 2,
   "metadata": {},
   "outputs": [
    {
     "name": "stdout",
     "output_type": "stream",
     "text": [
      "Submitted batch job 28146080\n"
     ]
    }
   ],
   "source": [
    "%%bash\n",
    "mkdir -p /data/reddylab/Revathy/collabs/Sarah/STARRPeaker/peak_calls\n",
    "mkdir -p /data/reddylab/Revathy/collabs/Sarah/STARRPeaker/logs\n",
    "source /data/reddylab/software/miniconda2/bin/activate Revathy\n",
    "source activate starrpeaker\n",
    "sbatch -p all \\\n",
    "       --array=0-1 \\\n",
    "       --output=/data/reddylab/Revathy/collabs/Sarah/STARRPeaker/logs/sarah_starrpeaker.%a.out \\\n",
    "       --cpus-per-task 8 \\\n",
    "       --mem 64G \\\n",
    "       <<'EOF'\n",
    "#!/bin/bash\n",
    "ref_dir=/data/reddylab/Revathy/ref_data/\n",
    "input_dir=/data/reddylab/Alex/collab/20200909_Sarah/processing/starr_seq/SJC_ESFSS_082120-pe-umis\n",
    "output_dir=/data/reddylab/Revathy/collabs/Sarah/STARRPeaker/peak_calls\n",
    "input_file=/data/reddylab/scunningham/MoD/GWAS_BACs/083018_CompCell/all_reads.f3q10.bam\n",
    "output_files=(\\ \n",
    "               ESF.starr_seq.untreated.48h.rep3.f3q10.sorted.with_umis.dups_marked.bam \\\n",
    "               )\n",
    "output_file=${output_files[${SLURM_ARRAY_TASK_ID}]}\n",
    "identifier=$(echo $output_file | cut -d \".\" -f1-5)\n",
    "starrpeaker --prefix ${output_dir}/ESFctrl_${identifier} \\\n",
    " --chromsize ${ref_dir}/GRCh38.chrom.sizes.simple.sorted \\\n",
    " --blacklist ${ref_dir}/ENCODE_blacklist_GRCh38_ENCFF419RSJ_merged.bed \\\n",
    " --cov ${ref_dir}/STARRPeaker_cov_GRCh38_ucsc-gc-5bp.bw \\\n",
    "       ${ref_dir}/STARRPeaker_cov_GRCh38_gem-mappability-100mer.bw \\\n",
    "       ${ref_dir}/STARRPeaker_cov_GRCh38_linearfold-folding-energy-100bp.bw \\\n",
    " --input ${input_file} \\\n",
    " --output ${input_dir}/${output_file} \\\n",
    " --threshold 0.05\n",
    "EOF"
   ]
  },
  {
   "cell_type": "code",
   "execution_count": 2,
   "metadata": {},
   "outputs": [
    {
     "name": "stdout",
     "output_type": "stream",
     "text": [
      "ESF.starr_seq.decidualized.48h.rep1\n"
     ]
    }
   ],
   "source": [
    "%%bash\n",
    "output_file=ESF.starr_seq.decidualized.48h.rep1.f3q10.sorted.with_umis.dups_marked.bam\n",
    "identifier=$(echo $output_file | cut -d \".\" -f1-5)\n",
    "echo ${identifier}"
   ]
  },
  {
   "cell_type": "code",
   "execution_count": null,
   "metadata": {},
   "outputs": [],
   "source": []
  }
 ],
 "metadata": {
  "kernelspec": {
   "display_name": "Python2 (revathy)",
   "language": "python",
   "name": "python2-revathy"
  },
  "language_info": {
   "codemirror_mode": {
    "name": "ipython",
    "version": 2
   },
   "file_extension": ".py",
   "mimetype": "text/x-python",
   "name": "python",
   "nbconvert_exporter": "python",
   "pygments_lexer": "ipython2",
   "version": "2.7.18"
  }
 },
 "nbformat": 4,
 "nbformat_minor": 5
}
