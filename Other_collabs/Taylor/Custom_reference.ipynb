{
 "cells": [
  {
   "cell_type": "code",
   "execution_count": 7,
   "metadata": {},
   "outputs": [
    {
     "name": "stdout",
     "output_type": "stream",
     "text": [
      "/gpfs/fs1/data/reddylab/Revathy/collabs/Taylor\r\n"
     ]
    }
   ],
   "source": [
    "!pwd"
   ]
  },
  {
   "cell_type": "code",
   "execution_count": 7,
   "metadata": {},
   "outputs": [
    {
     "name": "stdout",
     "output_type": "stream",
     "text": [
      "chr1\t11746783\t12059946\r",
      "\r\n",
      "chr1\t155881573\t156283573\r",
      "\r\n",
      "chr1\t201176764\t201578764\r",
      "\r\n",
      "chr10\t86466462\t86867785\r",
      "\r\n",
      "chr11\t47151702\t47553702\r",
      "\r\n",
      "chr12\t110719604\t111121604\r",
      "\r\n",
      "chr14\t23301104\t23502412\r",
      "\r\n",
      "chr15\t34594549\t34996549\r",
      "\r\n",
      "chr15\t62841632\t63243632\r",
      "\r\n",
      "chr19\t54956773\t55358586\r",
      "\r\n",
      "chr2\t178606424\t179008424\r",
      "\r\n",
      "chr3\t46662444\t47064444\r",
      "\r\n",
      "chr3\t52253041\t52655041\r",
      "\r\n",
      "chr6\t170353802\t170755302\r",
      "\r\n",
      "chr7\t43940332\t44342332\r",
      "\r\n",
      "chr8\t127534414\t127936414\r\n"
     ]
    }
   ],
   "source": [
    "!cat Coordinates_custom_genome.bed"
   ]
  },
  {
   "cell_type": "code",
   "execution_count": 50,
   "metadata": {},
   "outputs": [
    {
     "name": "stdout",
     "output_type": "stream",
     "text": [
      "Overwriting /data/reddylab/Revathy/scripts/generate_custom_references.py\n"
     ]
    }
   ],
   "source": [
    "%%writefile /data/reddylab/Revathy/scripts/generate_custom_references.py\n",
    "#!/usr/bin/env python\n",
    "import pandas as pd\n",
    "import pybedtools\n",
    "from pybedtools import BedTool\n",
    "\n",
    "import argparse\n",
    "parser = argparse.ArgumentParser(formatter_class=argparse.RawTextHelpFormatter, \\\n",
    "description=\"\"\"\n",
    "\n",
    "generate_custom_references.py\n",
    "\n",
    "Given a list of genomic coordinates, extract a custom reference fasta file and custom genomic annotation file\n",
    "from the corresponding reference files. It can be used for any genome build/organism. \n",
    "\n",
    "\"\"\")\n",
    "\n",
    "###############################################################################################################################\n",
    "## required args: \n",
    "\n",
    "parser.add_argument(\"-i\", \"--input_coordinates\", help=\"\"\"required, .bed file containing the list of genomic coordinates\"\"\",\n",
    "                     required=True)\n",
    "\n",
    "parser.add_argument(\"-fa\", \"--reference_fasta\", help=\"\"\"required, .fna file consisting of the fasta sequences for all chromosomes of a particular genome\"\"\", required=True)\n",
    "\n",
    "parser.add_argument(\"-gtf\", \"--genomic_annotation\", help=\"\"\"required, .gtf file with genomic annotations for a given genome\"\"\", \n",
    "                    required=True)\n",
    "\n",
    "parser.add_argument(\"-o\", \"--output-dir\", help=\"\"\"required, path to the directory where all the output files will be saved\"\"\",\n",
    "                   required=True)\n",
    "\n",
    "###############################################################################################################################\n",
    "\n",
    "args = parser.parse_args()\n",
    "\n",
    "regions = BedTool(args.input_coordinates)\n",
    "ref_fasta = BedTool(args.reference_fasta)\n",
    "ref_gtf = BedTool(args.genomic_annotation)\n",
    "\n",
    "region_fasta = regions.sequence(fi=ref_fasta).save_seqs(args.output_dir + '/coordinates_fasta.fa')\n",
    "region_gtf = ref_gtf.intersect(regions).saveas(args.output_dir + '/coordinates_gtf.gtf')\n"
   ]
  },
  {
   "cell_type": "code",
   "execution_count": 51,
   "metadata": {},
   "outputs": [],
   "source": [
    "%%bash\n",
    "source /data/reddylab/software/miniconda3/bin/activate revathy_py3\n",
    "mkdir -p /data/reddylab/Revathy/collabs/Taylor/test\n",
    "python /data/reddylab/Revathy/scripts/generate_custom_references.py \\\n",
    "-i /data/reddylab/Revathy/collabs/Taylor/Coordinates_custom_genome.bed \\\n",
    "-fa /data/reddylab/Reference_Data/Genomes/hg38/GCA_000001405.15_GRCh38_no_alt_analysis_set.with_ercc92.fna \\\n",
    "-gtf /data/reddylab/Revathy/collabs/Taylor/gencode.v42.basic.annotation.gtf \\\n",
    "-o /data/reddylab/Revathy/collabs/Taylor/test"
   ]
  },
  {
   "cell_type": "code",
   "execution_count": 1,
   "metadata": {},
   "outputs": [
    {
     "name": "stdout",
     "output_type": "stream",
     "text": [
      "-rw-r--r--. 1 ter18 reddylab 3.0G Apr  5  2018 /data/reddylab/Reference_Data/Genomes/hg38/GCA_000001405.15_GRCh38_no_alt_analysis_set.with_ercc92.fna\r\n"
     ]
    }
   ],
   "source": [
    "!ls -lah /data/reddylab/Reference_Data/Genomes/hg38/GCA_000001405.15_GRCh38_no_alt_analysis_set.with_ercc92.fna "
   ]
  },
  {
   "cell_type": "code",
   "execution_count": 2,
   "metadata": {},
   "outputs": [
    {
     "name": "stdout",
     "output_type": "stream",
     "text": [
      "-rw-rw-r-- 1 rv103 reddylab 948602107 Jun  4 16:56 /data/reddylab/Revathy/collabs/Taylor/gencode.v42.basic.annotation.gtf\r\n"
     ]
    }
   ],
   "source": [
    "!ls -la /data/reddylab/Revathy/collabs/Taylor/gencode.v42.basic.annotation.gtf"
   ]
  },
  {
   "cell_type": "code",
   "execution_count": 10,
   "metadata": {},
   "outputs": [],
   "source": [
    "%%bash\n",
    "source /data/reddylab/software/miniconda3/bin/activate revathy_py3\n",
    "mkdir -p /data/reddylab/Revathy/collabs/Taylor/test_v1\n",
    "python /data/reddylab/Revathy/scripts/generate_custom_references.py \\\n",
    "-i /data/reddylab/Revathy/collabs/Taylor/test_v1/desired_custom_genome_coordinates_take1_clean.bed \\\n",
    "-fa /data/reddylab/Reference_Data/Genomes/hg38/GCA_000001405.15_GRCh38_no_alt_analysis_set.with_ercc92.fna \\\n",
    "-gtf /data/reddylab/Revathy/collabs/Taylor/gencode.v42.basic.annotation.gtf \\\n",
    "-o /data/reddylab/Revathy/collabs/Taylor/test_v1"
   ]
  },
  {
   "cell_type": "code",
   "execution_count": 7,
   "metadata": {},
   "outputs": [
    {
     "name": "stdout",
     "output_type": "stream",
     "text": [
      "chr1\t11746783\t12059946^M$\r\n",
      "chr1\t201176764\t201578764^M$\r\n",
      "chr1\t155881573\t156283573^M$\r\n",
      "chr10\t86466462\t86867785^M$\r\n",
      "chr11\t47151702\t47553702^M$\r\n",
      "chr12\t110719604\t111121604^M$\r\n",
      "chr14\t23301104\t23502412^M$\r\n",
      "chr15\t62841632\t63243632^M$\r\n",
      "chr15\t34594549\t34996549^M$\r\n",
      "chr19\t54956773\t55358586^M$\r\n",
      "chr2\t178606424\t179008424^M$\r\n",
      "chr3\t46662444\t47064444^M$\r\n",
      "chr3\t52253041\t52655041^M$\r\n",
      "chr6\t170353802\t170755302^M$\r\n",
      "chr7\t43940332\t44342332^M$\r\n",
      "chr8\t127534414\t127936414^M$\r\n"
     ]
    }
   ],
   "source": [
    "!cat -e /home/tda17/gershbach_tda17/hicar_custom_genome/desired_custom_genome_coordinates_take1.bed"
   ]
  },
  {
   "cell_type": "code",
   "execution_count": 9,
   "metadata": {},
   "outputs": [],
   "source": [
    "!cat /home/tda17/gershbach_tda17/hicar_custom_genome/desired_custom_genome_coordinates_take1.bed | tr -d '\\r' > /data/reddylab/Revathy/collabs/Taylor/test_v1/desired_custom_genome_coordinates_take1_clean.bed"
   ]
  },
  {
   "cell_type": "code",
   "execution_count": 6,
   "metadata": {},
   "outputs": [
    {
     "data": {
      "text/plain": [
       "chr      object\n",
       "start     int64\n",
       "end       int64\n",
       "dtype: object"
      ]
     },
     "execution_count": 6,
     "metadata": {},
     "output_type": "execute_result"
    }
   ],
   "source": [
    "import pandas as pd\n",
    "\n",
    "a = pd.read_csv('/home/tda17/gershbach_tda17/hicar_custom_genome/desired_custom_genome_coordinates_take1.bed', sep='\\t',\n",
    "               names=['chr','start','end'])\n"
   ]
  },
  {
   "cell_type": "code",
   "execution_count": null,
   "metadata": {},
   "outputs": [],
   "source": []
  }
 ],
 "metadata": {
  "kernelspec": {
   "display_name": "Python3 (revathy)",
   "language": "python",
   "name": "revathy_py3"
  },
  "language_info": {
   "codemirror_mode": {
    "name": "ipython",
    "version": 3
   },
   "file_extension": ".py",
   "mimetype": "text/x-python",
   "name": "python",
   "nbconvert_exporter": "python",
   "pygments_lexer": "ipython3",
   "version": "3.5.4"
  }
 },
 "nbformat": 4,
 "nbformat_minor": 2
}
