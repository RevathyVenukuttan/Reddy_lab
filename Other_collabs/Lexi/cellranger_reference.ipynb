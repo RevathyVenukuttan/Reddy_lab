{
 "cells": [
  {
   "cell_type": "code",
   "execution_count": 1,
   "metadata": {},
   "outputs": [
    {
     "name": "stdout",
     "output_type": "stream",
     "text": [
      "fasta  genes  pickle  reference.json  star\r\n"
     ]
    }
   ],
   "source": [
    "!ls /data/gersbachlab/Software/refdata-gex-GRCh38-2020-A"
   ]
  },
  {
   "cell_type": "code",
   "execution_count": 1,
   "metadata": {},
   "outputs": [
    {
     "name": "stdout",
     "output_type": "stream",
     "text": [
      "genes.gtf\r\n"
     ]
    }
   ],
   "source": [
    "!ls /data/gersbachlab/Software/refdata-gex-GRCh38-2020-A/genes\n"
   ]
  },
  {
   "cell_type": "code",
   "execution_count": 10,
   "metadata": {},
   "outputs": [],
   "source": [
    "!cat /data/gersbachlab/Software/refdata-gex-GRCh38-2020-A/genes/genes.gtf | grep 'dCas9KRAB'"
   ]
  },
  {
   "cell_type": "code",
   "execution_count": 5,
   "metadata": {},
   "outputs": [
    {
     "name": "stdout",
     "output_type": "stream",
     "text": [
      ">pTK67_dCas9KRAB_HygroRseq  (1026 bp)\r",
      "\r\n",
      "atgaaaaagcctgaactcaccgcgacgtctgtcgagaagtttctgatcgaaaagttcgacagcgtctccgacctgatgca\r",
      "\r\n",
      "gctctcggagggcgaagaatctcgtgctttcagcttcgatgtaggagggcgtggatatgtcctgcgggtaaatagctgcg\r",
      "\r\n",
      "ccgatggtttctacaaagatcgttatgtttatcggcactttgcatcggccgcgctcccgattccggaagtgcttgacatt\r",
      "\r\n",
      "ggggaattcagcgagagcctgacctattgcatctcccgccgtgcacagggtgtcacgttgcaagacctgcctgaaaccga\r",
      "\r\n",
      "actgcccgctgttctgcagccggtcgcggaggccatggatgcgatcgctgcggccgatcttagccagacgagcgggttcg\r",
      "\r\n",
      "gcccattcggaccgcaaggaatcggtcaatacactacatggcgtgatttcatatgcgcgattgctgatccccatgtgtat\r",
      "\r\n",
      "cactggcaaactgtgatggacgacaccgtcagtgcgtccgtcgcgcaggctctcgatgagctgatgctttgggccgagga\r",
      "\r\n",
      "ctgccccgaagtccggcacctcgtgcacgcggatttcggctccaacaatgtcctgacggacaatggccgcataacagcgg\r",
      "\r\n",
      "tcattgactggagcgaggcgatgttcggggattcccaatacgaggtcgccaacatcttcttctggaggccgtggttggct\r",
      "\r\n"
     ]
    }
   ],
   "source": [
    "!head /data/gersbachlab/Revathy/collabs/Lexi/fasta_seq/pTK67_dCas9KRAB_HygroRseq.fa"
   ]
  },
  {
   "cell_type": "code",
   "execution_count": 14,
   "metadata": {},
   "outputs": [
    {
     "name": "stdout",
     "output_type": "stream",
     "text": [
      "AACTTCTCTGCGATGTTTGCATTCAACTCATAGAGTTGAACACTTCCTTTCATAGAGCTG\r\n",
      "GTTTGAAATACTCTTTTTGTAATATTTGGAAGTGGACATTGGCAGCGCTTTGAAGCCTAT\r\n",
      "GTTGAAAATGGAAATATCTTCTCCTAAAAACCAGACAGAAGCATTCTCAGAAACTTCCTT\r\n",
      "GTGATGTGTGTACTCAAGTAACAGAGTTGAACCTTACTTTTGACAGAGCCGTTTTGAAAC\r\n",
      "AGTCTTTTTGTAGAATCTGGAAGTAGATATTTGGATACCTTTGAGGATTTCTTTGGAAAC\r\n",
      "GGGATATCTTCATATAAAATCTAGACAGAAGCATTCTCAGAAACTTCTTTGTGCTGTATG\r\n",
      "TCCTCAATTAACAGAGTTGAACCTTTGTGTGGATACAGCATTTTGGAAACACTCCTTTAG\r\n",
      "TAGAATCTGCAAGTTGATACTTAGATAGGAAGATTTCCTTGGAAACGGGAATATCTTCAT\r\n",
      "ATAAAATCTAGACGGAAGCATTCTCGGAAACTTCTTTGTGCTGTATGTCCTCAATAACAG\r\n",
      "AGTTGAACCT\r\n"
     ]
    }
   ],
   "source": [
    "!tail /data/gersbachlab/Software/refdata-gex-GRCh38-2020-A/fasta/genome.fa"
   ]
  },
  {
   "cell_type": "code",
   "execution_count": 6,
   "metadata": {},
   "outputs": [
    {
     "name": "stdout",
     "output_type": "stream",
     "text": [
      "/data/gersbachlab/Revathy/collabs/Lexi/fasta_seq/pTK15_dCas9p300_dCas9seq.fa\r\n",
      "/data/gersbachlab/Revathy/collabs/Lexi/fasta_seq/pTK15_dCas9p300_PuroRseq.fa\r\n",
      "/data/gersbachlab/Revathy/collabs/Lexi/fasta_seq/pTK67_dCas9KRAB_dCas9seq.fa\r\n",
      "/data/gersbachlab/Revathy/collabs/Lexi/fasta_seq/pTK67_dCas9KRAB_HygroRseq.fa\r\n"
     ]
    }
   ],
   "source": [
    "!ls /data/gersbachlab/Revathy/collabs/Lexi/fasta_seq/*.fa"
   ]
  },
  {
   "cell_type": "code",
   "execution_count": 7,
   "metadata": {},
   "outputs": [],
   "source": [
    "%%bash\n",
    "mkdir -p /data/gersbachlab/Revathy/collabs/Lexi/data\n",
    "cat /data/gersbachlab/Software/refdata-gex-GRCh38-2020-A/fasta/genome.fa \\\n",
    "/data/gersbachlab/Revathy/collabs/Lexi/fasta_seq/pTK15_dCas9p300_dCas9seq.fa \\\n",
    "/data/gersbachlab/Revathy/collabs/Lexi/fasta_seq/pTK15_dCas9p300_PuroRseq.fa \\\n",
    "/data/gersbachlab/Revathy/collabs/Lexi/fasta_seq/pTK67_dCas9KRAB_dCas9seq.fa \\\n",
    "/data/gersbachlab/Revathy/collabs/Lexi/fasta_seq/pTK67_dCas9KRAB_HygroRseq.fa \\\n",
    "> /data/gersbachlab/Revathy/collabs/Lexi/data/genome_dCas9_KRAB_p300.fa"
   ]
  },
  {
   "cell_type": "code",
   "execution_count": 2,
   "metadata": {},
   "outputs": [
    {
     "name": "stdout",
     "output_type": "stream",
     "text": [
      "##description: evidence-based annotation of the human genome (GRCh38), version 32 (Ensembl 98)\n",
      "##provider: GENCODE\n",
      "##contact: gencode-help@ebi.ac.uk\n",
      "##format: gtf\n",
      "##date: 2019-09-05\n",
      "chr1\tHAVANA\tgene\t29554\t31109\t.\t+\t.\tgene_id \"ENSG00000243485\"; gene_version \"5\"; gene_type \"lncRNA\"; gene_name \"MIR1302-2HG\"; level 2; hgnc_id \"HGNC:52482\"; tag \"ncRNA_host\"; havana_gene \"OTTHUMG00000000959.2\";\n",
      "chr1\tHAVANA\ttranscript\t29554\t31097\t.\t+\t.\tgene_id \"ENSG00000243485\"; gene_version \"5\"; transcript_id \"ENST00000473358\"; transcript_version \"1\"; gene_type \"lncRNA\"; gene_name \"MIR1302-2HG\"; transcript_type \"lncRNA\"; transcript_name \"MIR1302-2HG-202\"; level 2; transcript_support_level \"5\"; hgnc_id \"HGNC:52482\"; tag \"not_best_in_genome_evidence\"; tag \"dotter_confirmed\"; tag \"basic\"; havana_gene \"OTTHUMG00000000959.2\"; havana_transcript \"OTTHUMT00000002840.1\";\n",
      "chr1\tHAVANA\texon\t29554\t30039\t.\t+\t.\tgene_id \"ENSG00000243485\"; gene_version \"5\"; transcript_id \"ENST00000473358\"; transcript_version \"1\"; gene_type \"lncRNA\"; gene_name \"MIR1302-2HG\"; transcript_type \"lncRNA\"; transcript_name \"MIR1302-2HG-202\"; exon_number 1; exon_id \"ENSE00001947070\"; exon_version \"1\"; level 2; transcript_support_level \"5\"; hgnc_id \"HGNC:52482\"; tag \"not_best_in_genome_evidence\"; tag \"dotter_confirmed\"; tag \"basic\"; havana_gene \"OTTHUMG00000000959.2\"; havana_transcript \"OTTHUMT00000002840.1\";\n",
      "chr1\tHAVANA\texon\t30564\t30667\t.\t+\t.\tgene_id \"ENSG00000243485\"; gene_version \"5\"; transcript_id \"ENST00000473358\"; transcript_version \"1\"; gene_type \"lncRNA\"; gene_name \"MIR1302-2HG\"; transcript_type \"lncRNA\"; transcript_name \"MIR1302-2HG-202\"; exon_number 2; exon_id \"ENSE00001922571\"; exon_version \"1\"; level 2; transcript_support_level \"5\"; hgnc_id \"HGNC:52482\"; tag \"not_best_in_genome_evidence\"; tag \"dotter_confirmed\"; tag \"basic\"; havana_gene \"OTTHUMG00000000959.2\"; havana_transcript \"OTTHUMT00000002840.1\";\n",
      "chr1\tHAVANA\texon\t30976\t31097\t.\t+\t.\tgene_id \"ENSG00000243485\"; gene_version \"5\"; transcript_id \"ENST00000473358\"; transcript_version \"1\"; gene_type \"lncRNA\"; gene_name \"MIR1302-2HG\"; transcript_type \"lncRNA\"; transcript_name \"MIR1302-2HG-202\"; exon_number 3; exon_id \"ENSE00001827679\"; exon_version \"1\"; level 2; transcript_support_level \"5\"; hgnc_id \"HGNC:52482\"; tag \"not_best_in_genome_evidence\"; tag \"dotter_confirmed\"; tag \"basic\"; havana_gene \"OTTHUMG00000000959.2\"; havana_transcript \"OTTHUMT00000002840.1\";\n"
     ]
    }
   ],
   "source": [
    "!head /data/gersbachlab/Software/refdata-gex-GRCh38-2020-A/genes/genes.gtf"
   ]
  },
  {
   "cell_type": "code",
   "execution_count": 16,
   "metadata": {},
   "outputs": [],
   "source": [
    "%%bash\n",
    "cat /data/gersbachlab/Software/refdata-gex-GRCh38-2020-A/genes/genes.gtf /data/gersbachlab/Revathy/collabs/Lexi/data/untitled.gtf \\\n",
    "> /data/gersbachlab/Revathy/collabs/Lexi/data/genes_dCas9_KRAB_p300.gtf"
   ]
  },
  {
   "cell_type": "code",
   "execution_count": 17,
   "metadata": {},
   "outputs": [
    {
     "name": "stdout",
     "output_type": "stream",
     "text": [
      "KI270734.1\tENSEMBL\texon\t138743\t138831\t.\t-\t.\tgene_id \"ENSG00000277196\"; gene_version \"4\"; transcript_id \"ENST00000621424\"; transcript_version \"4\"; gene_type \"protein_coding\"; gene_name \"AC007325.2\"; transcript_type \"protein_coding\"; transcript_name \"AC007325.2-201\"; exon_number 14; exon_id \"ENSE00003751415\"; exon_version \"1\"; level 3; protein_id \"ENSP00000481127.1\"; transcript_support_level \"1\"; tag \"basic\";\r\n",
      "KI270734.1\tENSEMBL\tCDS\t138743\t138831\t.\t-\t1\tgene_id \"ENSG00000277196\"; gene_version \"4\"; transcript_id \"ENST00000621424\"; transcript_version \"4\"; gene_type \"protein_coding\"; gene_name \"AC007325.2\"; transcript_type \"protein_coding\"; transcript_name \"AC007325.2-201\"; exon_number 14; exon_id \"ENSE00003751415\"; exon_version \"1\"; level 3; protein_id \"ENSP00000481127.1\"; transcript_support_level \"1\"; tag \"basic\";\r\n",
      "KI270734.1\tENSEMBL\texon\t138082\t138667\t.\t-\t.\tgene_id \"ENSG00000277196\"; gene_version \"4\"; transcript_id \"ENST00000621424\"; transcript_version \"4\"; gene_type \"protein_coding\"; gene_name \"AC007325.2\"; transcript_type \"protein_coding\"; transcript_name \"AC007325.2-201\"; exon_number 15; exon_id \"ENSE00003753010\"; exon_version \"1\"; level 3; protein_id \"ENSP00000481127.1\"; transcript_support_level \"1\"; tag \"basic\";\r\n",
      "KI270734.1\tENSEMBL\tCDS\t138483\t138667\t.\t-\t2\tgene_id \"ENSG00000277196\"; gene_version \"4\"; transcript_id \"ENST00000621424\"; transcript_version \"4\"; gene_type \"protein_coding\"; gene_name \"AC007325.2\"; transcript_type \"protein_coding\"; transcript_name \"AC007325.2-201\"; exon_number 15; exon_id \"ENSE00003753010\"; exon_version \"1\"; level 3; protein_id \"ENSP00000481127.1\"; transcript_support_level \"1\"; tag \"basic\";\r\n",
      "KI270734.1\tENSEMBL\tstop_codon\t138480\t138482\t.\t-\t0\tgene_id \"ENSG00000277196\"; gene_version \"4\"; transcript_id \"ENST00000621424\"; transcript_version \"4\"; gene_type \"protein_coding\"; gene_name \"AC007325.2\"; transcript_type \"protein_coding\"; transcript_name \"AC007325.2-201\"; exon_number 15; exon_id \"ENSE00003753010\"; exon_version \"1\"; level 3; protein_id \"ENSP00000481127.1\"; transcript_support_level \"1\"; tag \"basic\";\r\n",
      "KI270734.1\tENSEMBL\tUTR\t161689\t161852\t.\t-\t.\tgene_id \"ENSG00000277196\"; gene_version \"4\"; transcript_id \"ENST00000621424\"; transcript_version \"4\"; gene_type \"protein_coding\"; gene_name \"AC007325.2\"; transcript_type \"protein_coding\"; transcript_name \"AC007325.2-201\"; exon_number 1; exon_id \"ENSE00003746084\"; exon_version \"1\"; level 3; protein_id \"ENSP00000481127.1\"; transcript_support_level \"1\"; tag \"basic\";\r\n",
      "KI270734.1\tENSEMBL\tUTR\t161587\t161626\t.\t-\t.\tgene_id \"ENSG00000277196\"; gene_version \"4\"; transcript_id \"ENST00000621424\"; transcript_version \"4\"; gene_type \"protein_coding\"; gene_name \"AC007325.2\"; transcript_type \"protein_coding\"; transcript_name \"AC007325.2-201\"; exon_number 2; exon_id \"ENSE00003719550\"; exon_version \"1\"; level 3; protein_id \"ENSP00000481127.1\"; transcript_support_level \"1\"; tag \"basic\";\r\n",
      "KI270734.1\tENSEMBL\tUTR\t138082\t138482\t.\t-\t.\tgene_id \"ENSG00000277196\"; gene_version \"4\"; transcript_id \"ENST00000621424\"; transcript_version \"4\"; gene_type \"protein_coding\"; gene_name \"AC007325.2\"; transcript_type \"protein_coding\"; transcript_name \"AC007325.2-201\"; exon_number 15; exon_id \"ENSE00003753010\"; exon_version \"1\"; level 3; protein_id \"ENSP00000481127.1\"; transcript_support_level \"1\"; tag \"basic\";\r\n",
      "pTK15_dCas9p300_dCas9seq\tHAVANA\tgene\t1\t4104\t.\t+\t.\tgene_id \"pTK15_dCas9p300_dCas9seq\"\r\n",
      "pTK15_dCas9p300_dCas9seq\tHAVANA\ttranscript\t1\t4104\t.\t+\t.\tgene_id \"pTK15_dCas9p300_dCas9seq\"; transcript_id \"pTK15_dCas9p300_dCas9seq_1\"\r\n",
      "pTK15_dCas9p300_dCas9seq\tHAVANA\texon\t1\t4104\t.\t+\t.\tgene_id \"pTK15_dCas9p300_dCas9seq\"; transcript_id \"pTK15_dCas9p300_dCas9seq_1\"; exon_number 1; exon_id \"pTK15_dCas9p300_dCas9seq_1_1\"\r\n",
      "pTK15_dCas9p300_PuroRseq\tHAVANA\tgene\t1\t597\t.\t+\t.\tgene_id \"pTK15_dCas9p300_PuroRseq\"\r\n",
      "pTK15_dCas9p300_PuroRseq\tHAVANA\ttranscript\t1\t597\t.\t+\t.\tgene_id \"pTK15_dCas9p300_PuroRseq\"; transcript_id \"pTK15_dCas9p300_PuroRseq_1\"\r\n",
      "pTK15_dCas9p300_PuroRseq\tHAVANA\texon\t1\t597\t.\t+\t.\tgene_id \"pTK15_dCas9p300_PuroRseq\"; transcript_id \"pTK15_dCas9p300_PuroRseq_1\"; exon_number 1; exon_id \"pTK15_dCas9p300_PuroRseq_1_1\"\r\n",
      "pTK67_dCas9KRAB_dCas9seq\tHAVANA\tgene\t1\t4104\t.\t+\t.\tgene_id \"pTK67_dCas9KRAB_dCas9seq\"\r\n",
      "pTK67_dCas9KRAB_dCas9seq\tHAVANA\ttranscript\t1\t4104\t.\t+\t.\tgene_id \"pTK67_dCas9KRAB_dCas9seq\"; transcript_id \"pTK67_dCas9KRAB_dCas9seq_1\"\r\n",
      "pTK67_dCas9KRAB_dCas9seq\tHAVANA\texon\t1\t4104\t.\t+\t.\tgene_id \"pTK67_dCas9KRAB_dCas9seq\"; transcript_id \"pTK67_dCas9KRAB_dCas9seq_1\"; exon_number 1; exon_id \"pTK67_dCas9KRAB_dCas9seq_1_1\"\r\n",
      "pTK67_dCas9KRAB_HygroRseq\tHAVANA\tgene\t1\t1026\t.\t+\t.\tgene_id \"pTK67_dCas9KRAB_HygroRseq\"\r\n",
      "pTK67_dCas9KRAB_HygroRseq\tHAVANA\ttranscript\t1\t1026\t.\t+\t.\tgene_id \"pTK67_dCas9KRAB_HygroRseq\"; transcript_id \"pTK67_dCas9KRAB_HygroRseq_1\"\r\n",
      "pTK67_dCas9KRAB_HygroRseq\tHAVANA\texon\t1\t1026\t.\t+\t.\tgene_id \"pTK67_dCas9KRAB_HygroRseq\"; transcript_id \"pTK67_dCas9KRAB_HygroRseq_1\"; exon_number 1; exon_id \"pTK67_dCas9KRAB_HygroRseq_1_1\""
     ]
    }
   ],
   "source": [
    "!tail -n 20 /data/gersbachlab/Revathy/collabs/Lexi/data/genes_dCas9_KRAB_p300.gtf"
   ]
  },
  {
   "cell_type": "code",
   "execution_count": 28,
   "metadata": {},
   "outputs": [
    {
     "name": "stdout",
     "output_type": "stream",
     "text": [
      "Submitted batch job 30259094\n"
     ]
    }
   ],
   "source": [
    "%%bash\n",
    "sbatch \\\n",
    "    --job-name mkref \\\n",
    "    -p all \\\n",
    "    -o /data/gersbachlab/Revathy/collabs/Lexi/logs/mkref.cellranger.out \\\n",
    "    --mem=128G \\\n",
    "    --cpus-per-task=16 \\\n",
    "    <<'EOF'\n",
    "#!/bin/bash\n",
    "/data/gersbachlab/Software/cellranger-6.0.1/cellranger mkref \\\n",
    "--genome=GRCh38_dCas9 \\\n",
    "--fasta=/data/gersbachlab/Revathy/collabs/Lexi/data/genome_dCas9_KRAB_p300.fa \\\n",
    "--genes=/data/gersbachlab/Revathy/collabs/Lexi/data/genes_dCas9_KRAB_p300.gtf\n",
    "EOF"
   ]
  },
  {
   "cell_type": "code",
   "execution_count": 29,
   "metadata": {},
   "outputs": [
    {
     "name": "stdout",
     "output_type": "stream",
     "text": [
      "Submitted batch job 30259100\n"
     ]
    }
   ],
   "source": [
    "%%bash\n",
    "mkdir -p /data/gersbachlab/Revathy/collabs/Lexi/results\n",
    "mkdir -p /data/gersbachlab/Revathy/collabs/Lexi/results/cellranger\n",
    "mkdir -p /data/gersbachlab/Revathy/collabs/Lexi/logs\n",
    "cd /data/gersbachlab/Revathy/collabs/Lexi/results/cellranger\n",
    "sbatch \\\n",
    "    --job-name countexpr \\\n",
    "    --mail-user=rv103@duke.edu \\\n",
    "    --mail-type=ALL \\\n",
    "    --array=1-16 \\\n",
    "    -p all \\\n",
    "    -o /data/gersbachlab/Revathy/collabs/Lexi/logs/expr.cellranger_counts.%a.out \\\n",
    "    --mem=32G \\\n",
    "    --cpus-per-task=16 \\\n",
    "    <<'EOF'\n",
    "#!/bin/bash\n",
    "POOL=${SLURM_ARRAY_TASK_ID}\n",
    "\n",
    "    \n",
    "/data/gersbachlab/Software/cellranger-6.0.1/cellranger count \\\n",
    "    --id=expr${POOL} \\\n",
    "    --fastqs=/data/gersbachlab/lrb53/SczProveIt/fourloci/screen/data/expr/outs/fastq_path/expr \\\n",
    "    --transcriptome=/data/gersbachlab/Revathy/collabs/Lexi/GRCh38_dCas9 \\\n",
    "    --sample=expr${POOL} \\\n",
    "    --expect-cells=20000 \\\n",
    "    --localcores=16 \\\n",
    "    --localmem=32\n",
    "    \n",
    "EOF"
   ]
  },
  {
   "cell_type": "markdown",
   "metadata": {},
   "source": [
    "#### Stats from the sparse matrix file after running cellranger with custom references"
   ]
  },
  {
   "cell_type": "code",
   "execution_count": 1,
   "metadata": {},
   "outputs": [],
   "source": [
    "%%bash\n",
    "echo foo | awk -vOFS=\"\\t\" '{print \"library\", \"p300_dCas9\", \"puro\", \"krab_dCas9\", \"hygro\", \"total\", \"p300_dCas9_percent\", \"puro_percent\", \"krab_dCas9_percent\", \"hygro_percent\"}' \\\n",
    "> /data/gersbachlab/Revathy/collabs/Lexi/results/dcas9_cellranger_rerun_4loci.stats.tsv\n",
    "for ii in $(seq 1 16); \n",
    "do \n",
    "    gzip -dc /data/gersbachlab/Revathy/collabs/Lexi/results/cellranger/expr${ii}/outs/filtered_feature_bc_matrix/matrix.mtx.gz  2>/dev/null \\\n",
    "    | tail -n+4 \\\n",
    "    | awk -vOFS=\"\\t\" -vLIB=\"expr${ii}\" \\\n",
    "        'BEGIN{pCAS=0; PURO=0; CAS=0; HYGRO=0; }$1==36602{pCAS+=$3}$1==36603{PURO+=$3}$1==36605{HYGRO+=$3}$1==36604{CAS+=$3}{TOT+=$3}END{print LIB, pCAS, PURO, CAS, HYGRO, TOT, pCAS/TOT*100, PURO/TOT*100, CAS/TOT*100, HYGRO/TOT*100}' \\\n",
    "        2> /dev/null; \\\n",
    "done >> /data/gersbachlab/Revathy/collabs/Lexi/results/dcas9_cellranger_rerun_4loci.stats.tsv"
   ]
  },
  {
   "cell_type": "code",
   "execution_count": null,
   "metadata": {},
   "outputs": [],
   "source": []
  }
 ],
 "metadata": {
  "kernelspec": {
   "display_name": "Python3 (revathy)",
   "language": "python",
   "name": "revathy_py3"
  },
  "language_info": {
   "codemirror_mode": {
    "name": "ipython",
    "version": 3
   },
   "file_extension": ".py",
   "mimetype": "text/x-python",
   "name": "python",
   "nbconvert_exporter": "python",
   "pygments_lexer": "ipython3",
   "version": "3.5.4"
  }
 },
 "nbformat": 4,
 "nbformat_minor": 2
}
