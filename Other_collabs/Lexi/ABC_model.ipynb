{
 "cells": [
  {
   "cell_type": "markdown",
   "metadata": {},
   "source": [
    "Data directories:\n",
    "\n",
    "`/data/gersbachlab/lrb53/SczProveIt/mhc2/analysis/abcmodel/inputs/k562\n",
    "/data/gersbachlab/lrb53/SczProveIt/mhc2/analysis/abcmodel/inputs/ipsc\n",
    "/data/gersbachlab/lrb53/SczProveIt/mhc2/analysis/abcmodel/inputs/npc`\n",
    "\n",
    "\n",
    "`/data/reddylab/Alex/collab/20220203_Lexi/data/ipsc.expect_cells.protospacer_dhs.w_pos_ctrls_dhs.txt`\n"
   ]
  },
  {
   "cell_type": "code",
   "execution_count": 115,
   "metadata": {},
   "outputs": [
    {
     "name": "stdout",
     "output_type": "stream",
     "text": [
      "npc.atac.rep1.bam     npc.h3k27ac.rep2.bam  npc.hic.hg19.txt.gz\r\n",
      "npc.atac.rep2.bam     npc.h3k27ac.rep3.bam\r\n",
      "npc.h3k27ac.rep1.bam  npc.hicar.bedpe\r\n"
     ]
    }
   ],
   "source": [
    "!ls /data/gersbachlab/lrb53/SczProveIt/mhc2/analysis/abcmodel/inputs/npc"
   ]
  },
  {
   "cell_type": "code",
   "execution_count": 4,
   "metadata": {},
   "outputs": [
    {
     "name": "stdout",
     "output_type": "stream",
     "text": [
      "12617 /data/reddylab/Alex/collab/20220203_Lexi/data/ipsc.expect_cells.protospacer_dhs.w_pos_ctrls_dhs.txt\r\n"
     ]
    }
   ],
   "source": [
    "!wc -l /data/reddylab/Alex/collab/20220203_Lexi/data/ipsc.expect_cells.protospacer_dhs.w_pos_ctrls_dhs.txt"
   ]
  },
  {
   "cell_type": "code",
   "execution_count": 5,
   "metadata": {},
   "outputs": [
    {
     "name": "stdout",
     "output_type": "stream",
     "text": [
      "598\r\n"
     ]
    }
   ],
   "source": [
    "!tail -n+2 /data/reddylab/Alex/collab/20220203_Lexi/data/ipsc.expect_cells.protospacer_dhs.w_pos_ctrls_dhs.txt | cut -f2 | sort -u | wc -l"
   ]
  },
  {
   "cell_type": "code",
   "execution_count": 23,
   "metadata": {},
   "outputs": [],
   "source": [
    "import pandas as pd\n",
    "\n",
    "DHS = pd.read_csv('/data/reddylab/Alex/collab/20220203_Lexi/data/ipsc.expect_cells.protospacer_dhs.w_pos_ctrls_dhs.txt', sep='\\t')\n",
    "DHS[['chr','start','end','name']] = DHS['dhs'].str.split(r':|-|_', expand=True)\n",
    "DHS[['chr','start','end']].drop_duplicates().to_csv('/data/reddylab/Revathy/collabs/Lexi/ABC_model/data/ipsc.expect_cells.protospacer_dhs.w_pos_ctrls_dhs.coordinates.bed', sep='\\t', header=False, index=None)"
   ]
  },
  {
   "cell_type": "code",
   "execution_count": 63,
   "metadata": {},
   "outputs": [],
   "source": [
    "%%bash\n",
    "awk -F '\\t' -vOFS='\\t' '{$1=$1\"\\t\"1; print }' /data/reddylab/Revathy/collabs/Lexi/ABC_model/data/reference/hg38.genome \\\n",
    "> /data/reddylab/Revathy/collabs/Lexi/ABC_model/data/reference/hg38.genome.bed"
   ]
  },
  {
   "cell_type": "markdown",
   "metadata": {},
   "source": [
    "# iPSC"
   ]
  },
  {
   "cell_type": "code",
   "execution_count": 3,
   "metadata": {},
   "outputs": [
    {
     "name": "stdout",
     "output_type": "stream",
     "text": [
      "bam\t\t esc.hicar.bedpe.gz  HiC\r\n",
      "esc.hicar.bedpe  esc.hicar.v1.bedpe  ipsc.mean_tpms_bulk.txt\r\n"
     ]
    }
   ],
   "source": [
    "!ls /data/reddylab/Revathy/collabs/Lexi/ABC_model/data/iPSC"
   ]
  },
  {
   "cell_type": "markdown",
   "metadata": {},
   "source": [
    "create index for the bam files"
   ]
  },
  {
   "cell_type": "code",
   "execution_count": 74,
   "metadata": {},
   "outputs": [],
   "source": [
    "%%bash\n",
    "mkdir -p /data/reddylab/Revathy/collabs/Lexi/ABC_model/data/iPSC\n",
    "module load samtools \n",
    "bam_files=$(/bin/ls /data/reddylab/Revathy/collabs/Lexi/ABC_model/data/iPSC/*.bam)\n",
    "for bam in ${bam_files};\n",
    "do\n",
    "samtools index -b ${bam} > ${bam/.bam/.bam.bai}\n",
    "done"
   ]
  },
  {
   "cell_type": "markdown",
   "metadata": {},
   "source": [
    "annotate the genes tpm file with genomic coordinates"
   ]
  },
  {
   "cell_type": "code",
   "execution_count": 19,
   "metadata": {},
   "outputs": [
    {
     "name": "stdout",
     "output_type": "stream",
     "text": [
      "chr1\t11873\t14409\tDDX11L1\t0\t+\r\n",
      "chr1\t14361\t29370\tWASH7P\t0\t-\r\n",
      "chr1\t34610\t36081\tFAM138A\t0\t-\r\n",
      "chr1\t34610\t36081\tFAM138F\t0\t-\r\n",
      "chr1\t69090\t70008\tOR4F5\t0\t+\r\n",
      "chr1\t134772\t140566\tLOC729737\t0\t-\r\n",
      "chr1\t323891\t328581\tLOC100132062\t0\t+\r\n",
      "chr1\t323891\t328581\tLOC100132287\t0\t+\r\n",
      "chr1\t562759\t564389\tLOC101928626\t0\t-\r\n",
      "chr1\t700244\t714068\tLOC100288069\t0\t-\r\n"
     ]
    }
   ],
   "source": [
    "!head /data/reddylab/Revathy/collabs/Maria/ABC/ABC-Enhancer-Gene-Prediction/reference/RefSeqCurated.170308.bed.CollapsedGeneBounds.bed"
   ]
  },
  {
   "cell_type": "code",
   "execution_count": 10,
   "metadata": {},
   "outputs": [],
   "source": [
    "import pandas as pd\n",
    "\n",
    "gene_tpm = pd.read_csv('/data/reddylab/Revathy/collabs/Lexi/ABC_model/data/iPSC/ipsc.mean_tpms_bulk.txt', sep='\\t', names=['GeneName','tpm'])\n",
    "gene_annotation = pd.read_csv('/data/reddylab/Revathy/collabs/Maria/ABC/ABC-Enhancer-Gene-Prediction/reference/RefSeqCurated.170308.bed.CollapsedGeneBounds.bed', sep='\\t',\n",
    "                             names=['chr','start','end','GeneName','number','strand'])\n",
    "gene_bed = gene_tpm.merge(gene_annotation, on='GeneName', how='inner')\n",
    "cols = ['start','end','number']\n",
    "gene_bed[cols] = gene_bed[cols].apply(pd.to_numeric, errors='coerce')\n",
    "gene_bed[['chr','start','end','GeneName','number','strand']].to_csv('/data/reddylab/Revathy/collabs/Lexi/ABC_model/data/iPSC/ipsc.tpm_gene_list.coordinates.bed', sep='\\t', index=False, header=None)"
   ]
  },
  {
   "cell_type": "code",
   "execution_count": 21,
   "metadata": {},
   "outputs": [
    {
     "name": "stdout",
     "output_type": "stream",
     "text": [
      "chr6\t30539169.0\t30559309.0\tABCF1\t0.0\t+\r\n",
      "chr6\t31654725.0\t31671137.0\tABHD16A\t0.0\t-\r\n",
      "chr6\t32148744.0\t32152099.0\tAGER\t0.0\t-\r\n",
      "chr6\t32135982.0\t32143916.0\tAGPAT1\t0.0\t-\r\n",
      "chr6\t31582985.0\t31584802.0\tAIF1\t0.0\t+\r\n",
      "chr6\t31620186.0\t31625987.0\tAPOM\t0.0\t+\r\n",
      "chr12\t103351451.0\t103354294.0\tASCL1\t0.0\t+\r\n",
      "chr6\t30594618.0\t30612448.0\tATAT1\t0.0\t+\r\n",
      "chr6\t32083044.0\t32096017.0\tATF6B\t0.0\t-\r\n",
      "chr6\t31512227.0\t31514625.0\tATP6V1G2\t0.0\t-\r\n"
     ]
    }
   ],
   "source": [
    "!head /data/reddylab/Revathy/collabs/Lexi/ABC_model/data/iPSC/ipsc.tpm_gene_list.coordinates.bed"
   ]
  },
  {
   "cell_type": "code",
   "execution_count": 17,
   "metadata": {},
   "outputs": [
    {
     "name": "stdout",
     "output_type": "stream",
     "text": [
      "bam\t\t    esc.hicar.v1.bedpe\t     ipsc.tpm_gene_list.coordinates.bed\r\n",
      "esc.hicar.bedpe     HiC\r\n",
      "esc.hicar.bedpe.gz  ipsc.mean_tpms_bulk.txt\r\n"
     ]
    }
   ],
   "source": [
    "!ls /data/reddylab/Revathy/collabs/Lexi/ABC_model/data/iPSC"
   ]
  },
  {
   "cell_type": "code",
   "execution_count": 5,
   "metadata": {},
   "outputs": [
    {
     "name": "stdout",
     "output_type": "stream",
     "text": [
      "Namespace(ATAC='', DHS='/data/reddylab/Revathy/collabs/Lexi/ABC_model/data/iPSC/bam/ipsc.atac.rep1.bam,/data/reddylab/Revathy/collabs/Lexi/ABC_model/data/iPSC/bam/ipsc.atac.rep2.bam', H3K27ac='/data/reddylab/Revathy/collabs/Lexi/ABC_model/data/iPSC/bam/ipsc.h3k27ac.rep1.bam,/data/reddylab/Revathy/collabs/Lexi/ABC_model/data/iPSC/bam/ipsc.h3k27ac.rep2.bam', candidate_enhancer_regions='/data/reddylab/Revathy/collabs/Lexi/ABC_model/data/ipsc.expect_cells.protospacer_dhs.w_pos_ctrls_dhs.coordinates.bed', cellType='iPSC', chrom_sizes='/data/reddylab/Revathy/collabs/Lexi/ABC_model/data/reference/hg38.genome', default_accessibility_feature=None, enhancer_class_override=None, expression_table='', gene_name_annotations='symbol', genes='/data/reddylab/Revathy/collabs/Maria/ABC/ABC-Enhancer-Gene-Prediction/reference/RefSeqCurated.170308.bed.CollapsedGeneBounds.bed', genes_for_class_assignment=None, outdir='/data/reddylab/Revathy/collabs/Lexi/ABC_model/results/enhancer_activity/iPSC/NoGeneExpr', primary_gene_identifier='symbol', qnorm=None, skip_gene_counts=False, skip_rpkm_quantile=False, supplementary_features=None, tss_slop_for_class_assignment=500, ubiquitously_expressed_genes=None, use_secondary_counting_method=False)\n",
      "Running command: bedtools sort -faidx /data/reddylab/Revathy/collabs/Lexi/ABC_model/data/reference/hg38.genome -i /data/reddylab/Revathy/collabs/Lexi/ABC_model/results/enhancer_activity/iPSC/NoGeneExpr/GeneList.TSS1kb.bed > /data/reddylab/Revathy/collabs/Lexi/ABC_model/results/enhancer_activity/iPSC/NoGeneExpr/GeneList.TSS1kb.bed.sorted; mv /data/reddylab/Revathy/collabs/Lexi/ABC_model/results/enhancer_activity/iPSC/NoGeneExpr/GeneList.TSS1kb.bed.sorted /data/reddylab/Revathy/collabs/Lexi/ABC_model/results/enhancer_activity/iPSC/NoGeneExpr/GeneList.TSS1kb.bed\n",
      "Regenerating /data/reddylab/Revathy/collabs/Lexi/ABC_model/results/enhancer_activity/iPSC/NoGeneExpr/Genes.H3K27ac.ipsc.h3k27ac.rep1.bam.CountReads.bedgraph\n",
      "Counting coverage for Genes.H3K27ac.ipsc.h3k27ac.rep1.bam\n",
      "Running: awk 'FNR==NR {x2[$1] = $0; next} $1 in x2 {print x2[$1]}' /data/reddylab/Revathy/collabs/Lexi/ABC_model/data/reference/hg38.genome <(samtools view -H /data/reddylab/Revathy/collabs/Lexi/ABC_model/data/iPSC/bam/ipsc.h3k27ac.rep1.bam | grep SQ | cut -f 2 | cut -c 4- )  > /data/reddylab/Revathy/collabs/Lexi/ABC_model/results/enhancer_activity/iPSC/NoGeneExpr/Genes.H3K27ac.ipsc.h3k27ac.rep1.bam.CountReads.bedgraph.temp_sort_order\n",
      "Running: bedtools sort -faidx /data/reddylab/Revathy/collabs/Lexi/ABC_model/results/enhancer_activity/iPSC/NoGeneExpr/Genes.H3K27ac.ipsc.h3k27ac.rep1.bam.CountReads.bedgraph.temp_sort_order -i /data/reddylab/Revathy/collabs/Lexi/ABC_model/results/enhancer_activity/iPSC/NoGeneExpr/GeneList.bed | bedtools coverage -g /data/reddylab/Revathy/collabs/Lexi/ABC_model/results/enhancer_activity/iPSC/NoGeneExpr/Genes.H3K27ac.ipsc.h3k27ac.rep1.bam.CountReads.bedgraph.temp_sort_order -counts -sorted -a stdin -b /data/reddylab/Revathy/collabs/Lexi/ABC_model/data/iPSC/bam/ipsc.h3k27ac.rep1.bam | awk '{print $1 \"\\t\" $2 \"\\t\" $3 \"\\t\" $NF}'  | bedtools sort -faidx /data/reddylab/Revathy/collabs/Lexi/ABC_model/data/reference/hg38.genome -i stdin > /data/reddylab/Revathy/collabs/Lexi/ABC_model/results/enhancer_activity/iPSC/NoGeneExpr/Genes.H3K27ac.ipsc.h3k27ac.rep1.bam.CountReads.bedgraph; rm /data/reddylab/Revathy/collabs/Lexi/ABC_model/results/enhancer_activity/iPSC/NoGeneExpr/Genes.H3K27ac.ipsc.h3k27ac.rep1.bam.CountReads.bedgraph.temp_sort_order\n",
      "BEDTools completed successfully. \n",
      "\n",
      "Regenerating /data/reddylab/Revathy/collabs/Lexi/ABC_model/results/enhancer_activity/iPSC/NoGeneExpr/Genes.H3K27ac.ipsc.h3k27ac.rep2.bam.CountReads.bedgraph\n",
      "Counting coverage for Genes.H3K27ac.ipsc.h3k27ac.rep2.bam\n",
      "Running: awk 'FNR==NR {x2[$1] = $0; next} $1 in x2 {print x2[$1]}' /data/reddylab/Revathy/collabs/Lexi/ABC_model/data/reference/hg38.genome <(samtools view -H /data/reddylab/Revathy/collabs/Lexi/ABC_model/data/iPSC/bam/ipsc.h3k27ac.rep2.bam | grep SQ | cut -f 2 | cut -c 4- )  > /data/reddylab/Revathy/collabs/Lexi/ABC_model/results/enhancer_activity/iPSC/NoGeneExpr/Genes.H3K27ac.ipsc.h3k27ac.rep2.bam.CountReads.bedgraph.temp_sort_order\n",
      "Running: bedtools sort -faidx /data/reddylab/Revathy/collabs/Lexi/ABC_model/results/enhancer_activity/iPSC/NoGeneExpr/Genes.H3K27ac.ipsc.h3k27ac.rep2.bam.CountReads.bedgraph.temp_sort_order -i /data/reddylab/Revathy/collabs/Lexi/ABC_model/results/enhancer_activity/iPSC/NoGeneExpr/GeneList.bed | bedtools coverage -g /data/reddylab/Revathy/collabs/Lexi/ABC_model/results/enhancer_activity/iPSC/NoGeneExpr/Genes.H3K27ac.ipsc.h3k27ac.rep2.bam.CountReads.bedgraph.temp_sort_order -counts -sorted -a stdin -b /data/reddylab/Revathy/collabs/Lexi/ABC_model/data/iPSC/bam/ipsc.h3k27ac.rep2.bam | awk '{print $1 \"\\t\" $2 \"\\t\" $3 \"\\t\" $NF}'  | bedtools sort -faidx /data/reddylab/Revathy/collabs/Lexi/ABC_model/data/reference/hg38.genome -i stdin > /data/reddylab/Revathy/collabs/Lexi/ABC_model/results/enhancer_activity/iPSC/NoGeneExpr/Genes.H3K27ac.ipsc.h3k27ac.rep2.bam.CountReads.bedgraph; rm /data/reddylab/Revathy/collabs/Lexi/ABC_model/results/enhancer_activity/iPSC/NoGeneExpr/Genes.H3K27ac.ipsc.h3k27ac.rep2.bam.CountReads.bedgraph.temp_sort_order\n",
      "BEDTools completed successfully. \n",
      "\n",
      "Feature H3K27ac completed in 432.60902667045593\n",
      "Regenerating /data/reddylab/Revathy/collabs/Lexi/ABC_model/results/enhancer_activity/iPSC/NoGeneExpr/Genes.DHS.ipsc.atac.rep1.bam.CountReads.bedgraph\n",
      "Counting coverage for Genes.DHS.ipsc.atac.rep1.bam\n",
      "Running: awk 'FNR==NR {x2[$1] = $0; next} $1 in x2 {print x2[$1]}' /data/reddylab/Revathy/collabs/Lexi/ABC_model/data/reference/hg38.genome <(samtools view -H /data/reddylab/Revathy/collabs/Lexi/ABC_model/data/iPSC/bam/ipsc.atac.rep1.bam | grep SQ | cut -f 2 | cut -c 4- )  > /data/reddylab/Revathy/collabs/Lexi/ABC_model/results/enhancer_activity/iPSC/NoGeneExpr/Genes.DHS.ipsc.atac.rep1.bam.CountReads.bedgraph.temp_sort_order\n",
      "Running: bedtools sort -faidx /data/reddylab/Revathy/collabs/Lexi/ABC_model/results/enhancer_activity/iPSC/NoGeneExpr/Genes.DHS.ipsc.atac.rep1.bam.CountReads.bedgraph.temp_sort_order -i /data/reddylab/Revathy/collabs/Lexi/ABC_model/results/enhancer_activity/iPSC/NoGeneExpr/GeneList.bed | bedtools coverage -g /data/reddylab/Revathy/collabs/Lexi/ABC_model/results/enhancer_activity/iPSC/NoGeneExpr/Genes.DHS.ipsc.atac.rep1.bam.CountReads.bedgraph.temp_sort_order -counts -sorted -a stdin -b /data/reddylab/Revathy/collabs/Lexi/ABC_model/data/iPSC/bam/ipsc.atac.rep1.bam | awk '{print $1 \"\\t\" $2 \"\\t\" $3 \"\\t\" $NF}'  | bedtools sort -faidx /data/reddylab/Revathy/collabs/Lexi/ABC_model/data/reference/hg38.genome -i stdin > /data/reddylab/Revathy/collabs/Lexi/ABC_model/results/enhancer_activity/iPSC/NoGeneExpr/Genes.DHS.ipsc.atac.rep1.bam.CountReads.bedgraph; rm /data/reddylab/Revathy/collabs/Lexi/ABC_model/results/enhancer_activity/iPSC/NoGeneExpr/Genes.DHS.ipsc.atac.rep1.bam.CountReads.bedgraph.temp_sort_order\n",
      "BEDTools completed successfully. \n",
      "\n",
      "Regenerating /data/reddylab/Revathy/collabs/Lexi/ABC_model/results/enhancer_activity/iPSC/NoGeneExpr/Genes.DHS.ipsc.atac.rep2.bam.CountReads.bedgraph\n",
      "Counting coverage for Genes.DHS.ipsc.atac.rep2.bam\n",
      "Running: awk 'FNR==NR {x2[$1] = $0; next} $1 in x2 {print x2[$1]}' /data/reddylab/Revathy/collabs/Lexi/ABC_model/data/reference/hg38.genome <(samtools view -H /data/reddylab/Revathy/collabs/Lexi/ABC_model/data/iPSC/bam/ipsc.atac.rep2.bam | grep SQ | cut -f 2 | cut -c 4- )  > /data/reddylab/Revathy/collabs/Lexi/ABC_model/results/enhancer_activity/iPSC/NoGeneExpr/Genes.DHS.ipsc.atac.rep2.bam.CountReads.bedgraph.temp_sort_order\n",
      "Running: bedtools sort -faidx /data/reddylab/Revathy/collabs/Lexi/ABC_model/results/enhancer_activity/iPSC/NoGeneExpr/Genes.DHS.ipsc.atac.rep2.bam.CountReads.bedgraph.temp_sort_order -i /data/reddylab/Revathy/collabs/Lexi/ABC_model/results/enhancer_activity/iPSC/NoGeneExpr/GeneList.bed | bedtools coverage -g /data/reddylab/Revathy/collabs/Lexi/ABC_model/results/enhancer_activity/iPSC/NoGeneExpr/Genes.DHS.ipsc.atac.rep2.bam.CountReads.bedgraph.temp_sort_order -counts -sorted -a stdin -b /data/reddylab/Revathy/collabs/Lexi/ABC_model/data/iPSC/bam/ipsc.atac.rep2.bam | awk '{print $1 \"\\t\" $2 \"\\t\" $3 \"\\t\" $NF}'  | bedtools sort -faidx /data/reddylab/Revathy/collabs/Lexi/ABC_model/data/reference/hg38.genome -i stdin > /data/reddylab/Revathy/collabs/Lexi/ABC_model/results/enhancer_activity/iPSC/NoGeneExpr/Genes.DHS.ipsc.atac.rep2.bam.CountReads.bedgraph; rm /data/reddylab/Revathy/collabs/Lexi/ABC_model/results/enhancer_activity/iPSC/NoGeneExpr/Genes.DHS.ipsc.atac.rep2.bam.CountReads.bedgraph.temp_sort_order\n",
      "BEDTools completed successfully. \n",
      "\n",
      "Feature DHS completed in 483.927800655365\n",
      "Regenerating /data/reddylab/Revathy/collabs/Lexi/ABC_model/results/enhancer_activity/iPSC/NoGeneExpr/Genes.TSS1kb.H3K27ac.ipsc.h3k27ac.rep1.bam.CountReads.bedgraph\n",
      "Counting coverage for Genes.TSS1kb.H3K27ac.ipsc.h3k27ac.rep1.bam\n",
      "Running: awk 'FNR==NR {x2[$1] = $0; next} $1 in x2 {print x2[$1]}' /data/reddylab/Revathy/collabs/Lexi/ABC_model/data/reference/hg38.genome <(samtools view -H /data/reddylab/Revathy/collabs/Lexi/ABC_model/data/iPSC/bam/ipsc.h3k27ac.rep1.bam | grep SQ | cut -f 2 | cut -c 4- )  > /data/reddylab/Revathy/collabs/Lexi/ABC_model/results/enhancer_activity/iPSC/NoGeneExpr/Genes.TSS1kb.H3K27ac.ipsc.h3k27ac.rep1.bam.CountReads.bedgraph.temp_sort_order\n",
      "Running: bedtools sort -faidx /data/reddylab/Revathy/collabs/Lexi/ABC_model/results/enhancer_activity/iPSC/NoGeneExpr/Genes.TSS1kb.H3K27ac.ipsc.h3k27ac.rep1.bam.CountReads.bedgraph.temp_sort_order -i /data/reddylab/Revathy/collabs/Lexi/ABC_model/results/enhancer_activity/iPSC/NoGeneExpr/GeneList.TSS1kb.bed | bedtools coverage -g /data/reddylab/Revathy/collabs/Lexi/ABC_model/results/enhancer_activity/iPSC/NoGeneExpr/Genes.TSS1kb.H3K27ac.ipsc.h3k27ac.rep1.bam.CountReads.bedgraph.temp_sort_order -counts -sorted -a stdin -b /data/reddylab/Revathy/collabs/Lexi/ABC_model/data/iPSC/bam/ipsc.h3k27ac.rep1.bam | awk '{print $1 \"\\t\" $2 \"\\t\" $3 \"\\t\" $NF}'  | bedtools sort -faidx /data/reddylab/Revathy/collabs/Lexi/ABC_model/data/reference/hg38.genome -i stdin > /data/reddylab/Revathy/collabs/Lexi/ABC_model/results/enhancer_activity/iPSC/NoGeneExpr/Genes.TSS1kb.H3K27ac.ipsc.h3k27ac.rep1.bam.CountReads.bedgraph; rm /data/reddylab/Revathy/collabs/Lexi/ABC_model/results/enhancer_activity/iPSC/NoGeneExpr/Genes.TSS1kb.H3K27ac.ipsc.h3k27ac.rep1.bam.CountReads.bedgraph.temp_sort_order\n",
      "BEDTools completed successfully. \n",
      "\n",
      "Regenerating /data/reddylab/Revathy/collabs/Lexi/ABC_model/results/enhancer_activity/iPSC/NoGeneExpr/Genes.TSS1kb.H3K27ac.ipsc.h3k27ac.rep2.bam.CountReads.bedgraph\n",
      "Counting coverage for Genes.TSS1kb.H3K27ac.ipsc.h3k27ac.rep2.bam\n",
      "Running: awk 'FNR==NR {x2[$1] = $0; next} $1 in x2 {print x2[$1]}' /data/reddylab/Revathy/collabs/Lexi/ABC_model/data/reference/hg38.genome <(samtools view -H /data/reddylab/Revathy/collabs/Lexi/ABC_model/data/iPSC/bam/ipsc.h3k27ac.rep2.bam | grep SQ | cut -f 2 | cut -c 4- )  > /data/reddylab/Revathy/collabs/Lexi/ABC_model/results/enhancer_activity/iPSC/NoGeneExpr/Genes.TSS1kb.H3K27ac.ipsc.h3k27ac.rep2.bam.CountReads.bedgraph.temp_sort_order\n",
      "Running: bedtools sort -faidx /data/reddylab/Revathy/collabs/Lexi/ABC_model/results/enhancer_activity/iPSC/NoGeneExpr/Genes.TSS1kb.H3K27ac.ipsc.h3k27ac.rep2.bam.CountReads.bedgraph.temp_sort_order -i /data/reddylab/Revathy/collabs/Lexi/ABC_model/results/enhancer_activity/iPSC/NoGeneExpr/GeneList.TSS1kb.bed | bedtools coverage -g /data/reddylab/Revathy/collabs/Lexi/ABC_model/results/enhancer_activity/iPSC/NoGeneExpr/Genes.TSS1kb.H3K27ac.ipsc.h3k27ac.rep2.bam.CountReads.bedgraph.temp_sort_order -counts -sorted -a stdin -b /data/reddylab/Revathy/collabs/Lexi/ABC_model/data/iPSC/bam/ipsc.h3k27ac.rep2.bam | awk '{print $1 \"\\t\" $2 \"\\t\" $3 \"\\t\" $NF}'  | bedtools sort -faidx /data/reddylab/Revathy/collabs/Lexi/ABC_model/data/reference/hg38.genome -i stdin > /data/reddylab/Revathy/collabs/Lexi/ABC_model/results/enhancer_activity/iPSC/NoGeneExpr/Genes.TSS1kb.H3K27ac.ipsc.h3k27ac.rep2.bam.CountReads.bedgraph; rm /data/reddylab/Revathy/collabs/Lexi/ABC_model/results/enhancer_activity/iPSC/NoGeneExpr/Genes.TSS1kb.H3K27ac.ipsc.h3k27ac.rep2.bam.CountReads.bedgraph.temp_sort_order\n",
      "BEDTools completed successfully. \n",
      "\n",
      "Feature H3K27ac completed in 329.6292383670807\n",
      "Regenerating /data/reddylab/Revathy/collabs/Lexi/ABC_model/results/enhancer_activity/iPSC/NoGeneExpr/Genes.TSS1kb.DHS.ipsc.atac.rep1.bam.CountReads.bedgraph\n",
      "Counting coverage for Genes.TSS1kb.DHS.ipsc.atac.rep1.bam\n",
      "Running: awk 'FNR==NR {x2[$1] = $0; next} $1 in x2 {print x2[$1]}' /data/reddylab/Revathy/collabs/Lexi/ABC_model/data/reference/hg38.genome <(samtools view -H /data/reddylab/Revathy/collabs/Lexi/ABC_model/data/iPSC/bam/ipsc.atac.rep1.bam | grep SQ | cut -f 2 | cut -c 4- )  > /data/reddylab/Revathy/collabs/Lexi/ABC_model/results/enhancer_activity/iPSC/NoGeneExpr/Genes.TSS1kb.DHS.ipsc.atac.rep1.bam.CountReads.bedgraph.temp_sort_order\n",
      "Running: bedtools sort -faidx /data/reddylab/Revathy/collabs/Lexi/ABC_model/results/enhancer_activity/iPSC/NoGeneExpr/Genes.TSS1kb.DHS.ipsc.atac.rep1.bam.CountReads.bedgraph.temp_sort_order -i /data/reddylab/Revathy/collabs/Lexi/ABC_model/results/enhancer_activity/iPSC/NoGeneExpr/GeneList.TSS1kb.bed | bedtools coverage -g /data/reddylab/Revathy/collabs/Lexi/ABC_model/results/enhancer_activity/iPSC/NoGeneExpr/Genes.TSS1kb.DHS.ipsc.atac.rep1.bam.CountReads.bedgraph.temp_sort_order -counts -sorted -a stdin -b /data/reddylab/Revathy/collabs/Lexi/ABC_model/data/iPSC/bam/ipsc.atac.rep1.bam | awk '{print $1 \"\\t\" $2 \"\\t\" $3 \"\\t\" $NF}'  | bedtools sort -faidx /data/reddylab/Revathy/collabs/Lexi/ABC_model/data/reference/hg38.genome -i stdin > /data/reddylab/Revathy/collabs/Lexi/ABC_model/results/enhancer_activity/iPSC/NoGeneExpr/Genes.TSS1kb.DHS.ipsc.atac.rep1.bam.CountReads.bedgraph; rm /data/reddylab/Revathy/collabs/Lexi/ABC_model/results/enhancer_activity/iPSC/NoGeneExpr/Genes.TSS1kb.DHS.ipsc.atac.rep1.bam.CountReads.bedgraph.temp_sort_order\n",
      "BEDTools completed successfully. \n",
      "\n",
      "Regenerating /data/reddylab/Revathy/collabs/Lexi/ABC_model/results/enhancer_activity/iPSC/NoGeneExpr/Genes.TSS1kb.DHS.ipsc.atac.rep2.bam.CountReads.bedgraph\n",
      "Counting coverage for Genes.TSS1kb.DHS.ipsc.atac.rep2.bam\n",
      "Running: awk 'FNR==NR {x2[$1] = $0; next} $1 in x2 {print x2[$1]}' /data/reddylab/Revathy/collabs/Lexi/ABC_model/data/reference/hg38.genome <(samtools view -H /data/reddylab/Revathy/collabs/Lexi/ABC_model/data/iPSC/bam/ipsc.atac.rep2.bam | grep SQ | cut -f 2 | cut -c 4- )  > /data/reddylab/Revathy/collabs/Lexi/ABC_model/results/enhancer_activity/iPSC/NoGeneExpr/Genes.TSS1kb.DHS.ipsc.atac.rep2.bam.CountReads.bedgraph.temp_sort_order\n",
      "Running: bedtools sort -faidx /data/reddylab/Revathy/collabs/Lexi/ABC_model/results/enhancer_activity/iPSC/NoGeneExpr/Genes.TSS1kb.DHS.ipsc.atac.rep2.bam.CountReads.bedgraph.temp_sort_order -i /data/reddylab/Revathy/collabs/Lexi/ABC_model/results/enhancer_activity/iPSC/NoGeneExpr/GeneList.TSS1kb.bed | bedtools coverage -g /data/reddylab/Revathy/collabs/Lexi/ABC_model/results/enhancer_activity/iPSC/NoGeneExpr/Genes.TSS1kb.DHS.ipsc.atac.rep2.bam.CountReads.bedgraph.temp_sort_order -counts -sorted -a stdin -b /data/reddylab/Revathy/collabs/Lexi/ABC_model/data/iPSC/bam/ipsc.atac.rep2.bam | awk '{print $1 \"\\t\" $2 \"\\t\" $3 \"\\t\" $NF}'  | bedtools sort -faidx /data/reddylab/Revathy/collabs/Lexi/ABC_model/data/reference/hg38.genome -i stdin > /data/reddylab/Revathy/collabs/Lexi/ABC_model/results/enhancer_activity/iPSC/NoGeneExpr/Genes.TSS1kb.DHS.ipsc.atac.rep2.bam.CountReads.bedgraph; rm /data/reddylab/Revathy/collabs/Lexi/ABC_model/results/enhancer_activity/iPSC/NoGeneExpr/Genes.TSS1kb.DHS.ipsc.atac.rep2.bam.CountReads.bedgraph.temp_sort_order\n",
      "BEDTools completed successfully. \n",
      "\n",
      "Feature DHS completed in 361.2741177082062\n",
      "Regenerating /data/reddylab/Revathy/collabs/Lexi/ABC_model/results/enhancer_activity/iPSC/NoGeneExpr/Enhancers.H3K27ac.ipsc.h3k27ac.rep1.bam.CountReads.bedgraph\n",
      "Counting coverage for Enhancers.H3K27ac.ipsc.h3k27ac.rep1.bam\n",
      "Running: awk 'FNR==NR {x2[$1] = $0; next} $1 in x2 {print x2[$1]}' /data/reddylab/Revathy/collabs/Lexi/ABC_model/data/reference/hg38.genome <(samtools view -H /data/reddylab/Revathy/collabs/Lexi/ABC_model/data/iPSC/bam/ipsc.h3k27ac.rep1.bam | grep SQ | cut -f 2 | cut -c 4- )  > /data/reddylab/Revathy/collabs/Lexi/ABC_model/results/enhancer_activity/iPSC/NoGeneExpr/Enhancers.H3K27ac.ipsc.h3k27ac.rep1.bam.CountReads.bedgraph.temp_sort_order\n",
      "Running: bedtools sort -faidx /data/reddylab/Revathy/collabs/Lexi/ABC_model/results/enhancer_activity/iPSC/NoGeneExpr/Enhancers.H3K27ac.ipsc.h3k27ac.rep1.bam.CountReads.bedgraph.temp_sort_order -i /data/reddylab/Revathy/collabs/Lexi/ABC_model/data/ipsc.expect_cells.protospacer_dhs.w_pos_ctrls_dhs.coordinates.bed | bedtools coverage -g /data/reddylab/Revathy/collabs/Lexi/ABC_model/results/enhancer_activity/iPSC/NoGeneExpr/Enhancers.H3K27ac.ipsc.h3k27ac.rep1.bam.CountReads.bedgraph.temp_sort_order -counts -sorted -a stdin -b /data/reddylab/Revathy/collabs/Lexi/ABC_model/data/iPSC/bam/ipsc.h3k27ac.rep1.bam | awk '{print $1 \"\\t\" $2 \"\\t\" $3 \"\\t\" $NF}'  | bedtools sort -faidx /data/reddylab/Revathy/collabs/Lexi/ABC_model/data/reference/hg38.genome -i stdin > /data/reddylab/Revathy/collabs/Lexi/ABC_model/results/enhancer_activity/iPSC/NoGeneExpr/Enhancers.H3K27ac.ipsc.h3k27ac.rep1.bam.CountReads.bedgraph; rm /data/reddylab/Revathy/collabs/Lexi/ABC_model/results/enhancer_activity/iPSC/NoGeneExpr/Enhancers.H3K27ac.ipsc.h3k27ac.rep1.bam.CountReads.bedgraph.temp_sort_order\n",
      "BEDTools completed successfully. \n",
      "\n",
      "Regenerating /data/reddylab/Revathy/collabs/Lexi/ABC_model/results/enhancer_activity/iPSC/NoGeneExpr/Enhancers.H3K27ac.ipsc.h3k27ac.rep2.bam.CountReads.bedgraph\n",
      "Counting coverage for Enhancers.H3K27ac.ipsc.h3k27ac.rep2.bam\n",
      "Running: awk 'FNR==NR {x2[$1] = $0; next} $1 in x2 {print x2[$1]}' /data/reddylab/Revathy/collabs/Lexi/ABC_model/data/reference/hg38.genome <(samtools view -H /data/reddylab/Revathy/collabs/Lexi/ABC_model/data/iPSC/bam/ipsc.h3k27ac.rep2.bam | grep SQ | cut -f 2 | cut -c 4- )  > /data/reddylab/Revathy/collabs/Lexi/ABC_model/results/enhancer_activity/iPSC/NoGeneExpr/Enhancers.H3K27ac.ipsc.h3k27ac.rep2.bam.CountReads.bedgraph.temp_sort_order\n",
      "Running: bedtools sort -faidx /data/reddylab/Revathy/collabs/Lexi/ABC_model/results/enhancer_activity/iPSC/NoGeneExpr/Enhancers.H3K27ac.ipsc.h3k27ac.rep2.bam.CountReads.bedgraph.temp_sort_order -i /data/reddylab/Revathy/collabs/Lexi/ABC_model/data/ipsc.expect_cells.protospacer_dhs.w_pos_ctrls_dhs.coordinates.bed | bedtools coverage -g /data/reddylab/Revathy/collabs/Lexi/ABC_model/results/enhancer_activity/iPSC/NoGeneExpr/Enhancers.H3K27ac.ipsc.h3k27ac.rep2.bam.CountReads.bedgraph.temp_sort_order -counts -sorted -a stdin -b /data/reddylab/Revathy/collabs/Lexi/ABC_model/data/iPSC/bam/ipsc.h3k27ac.rep2.bam | awk '{print $1 \"\\t\" $2 \"\\t\" $3 \"\\t\" $NF}'  | bedtools sort -faidx /data/reddylab/Revathy/collabs/Lexi/ABC_model/data/reference/hg38.genome -i stdin > /data/reddylab/Revathy/collabs/Lexi/ABC_model/results/enhancer_activity/iPSC/NoGeneExpr/Enhancers.H3K27ac.ipsc.h3k27ac.rep2.bam.CountReads.bedgraph; rm /data/reddylab/Revathy/collabs/Lexi/ABC_model/results/enhancer_activity/iPSC/NoGeneExpr/Enhancers.H3K27ac.ipsc.h3k27ac.rep2.bam.CountReads.bedgraph.temp_sort_order\n",
      "BEDTools completed successfully. \n",
      "\n",
      "Feature H3K27ac completed in 221.71601390838623\n",
      "Regenerating /data/reddylab/Revathy/collabs/Lexi/ABC_model/results/enhancer_activity/iPSC/NoGeneExpr/Enhancers.DHS.ipsc.atac.rep1.bam.CountReads.bedgraph\n",
      "Counting coverage for Enhancers.DHS.ipsc.atac.rep1.bam\n",
      "Running: awk 'FNR==NR {x2[$1] = $0; next} $1 in x2 {print x2[$1]}' /data/reddylab/Revathy/collabs/Lexi/ABC_model/data/reference/hg38.genome <(samtools view -H /data/reddylab/Revathy/collabs/Lexi/ABC_model/data/iPSC/bam/ipsc.atac.rep1.bam | grep SQ | cut -f 2 | cut -c 4- )  > /data/reddylab/Revathy/collabs/Lexi/ABC_model/results/enhancer_activity/iPSC/NoGeneExpr/Enhancers.DHS.ipsc.atac.rep1.bam.CountReads.bedgraph.temp_sort_order\n",
      "Running: bedtools sort -faidx /data/reddylab/Revathy/collabs/Lexi/ABC_model/results/enhancer_activity/iPSC/NoGeneExpr/Enhancers.DHS.ipsc.atac.rep1.bam.CountReads.bedgraph.temp_sort_order -i /data/reddylab/Revathy/collabs/Lexi/ABC_model/data/ipsc.expect_cells.protospacer_dhs.w_pos_ctrls_dhs.coordinates.bed | bedtools coverage -g /data/reddylab/Revathy/collabs/Lexi/ABC_model/results/enhancer_activity/iPSC/NoGeneExpr/Enhancers.DHS.ipsc.atac.rep1.bam.CountReads.bedgraph.temp_sort_order -counts -sorted -a stdin -b /data/reddylab/Revathy/collabs/Lexi/ABC_model/data/iPSC/bam/ipsc.atac.rep1.bam | awk '{print $1 \"\\t\" $2 \"\\t\" $3 \"\\t\" $NF}'  | bedtools sort -faidx /data/reddylab/Revathy/collabs/Lexi/ABC_model/data/reference/hg38.genome -i stdin > /data/reddylab/Revathy/collabs/Lexi/ABC_model/results/enhancer_activity/iPSC/NoGeneExpr/Enhancers.DHS.ipsc.atac.rep1.bam.CountReads.bedgraph; rm /data/reddylab/Revathy/collabs/Lexi/ABC_model/results/enhancer_activity/iPSC/NoGeneExpr/Enhancers.DHS.ipsc.atac.rep1.bam.CountReads.bedgraph.temp_sort_order\n",
      "BEDTools completed successfully. \n",
      "\n",
      "Regenerating /data/reddylab/Revathy/collabs/Lexi/ABC_model/results/enhancer_activity/iPSC/NoGeneExpr/Enhancers.DHS.ipsc.atac.rep2.bam.CountReads.bedgraph\n",
      "Counting coverage for Enhancers.DHS.ipsc.atac.rep2.bam\n",
      "Running: awk 'FNR==NR {x2[$1] = $0; next} $1 in x2 {print x2[$1]}' /data/reddylab/Revathy/collabs/Lexi/ABC_model/data/reference/hg38.genome <(samtools view -H /data/reddylab/Revathy/collabs/Lexi/ABC_model/data/iPSC/bam/ipsc.atac.rep2.bam | grep SQ | cut -f 2 | cut -c 4- )  > /data/reddylab/Revathy/collabs/Lexi/ABC_model/results/enhancer_activity/iPSC/NoGeneExpr/Enhancers.DHS.ipsc.atac.rep2.bam.CountReads.bedgraph.temp_sort_order\n",
      "Running: bedtools sort -faidx /data/reddylab/Revathy/collabs/Lexi/ABC_model/results/enhancer_activity/iPSC/NoGeneExpr/Enhancers.DHS.ipsc.atac.rep2.bam.CountReads.bedgraph.temp_sort_order -i /data/reddylab/Revathy/collabs/Lexi/ABC_model/data/ipsc.expect_cells.protospacer_dhs.w_pos_ctrls_dhs.coordinates.bed | bedtools coverage -g /data/reddylab/Revathy/collabs/Lexi/ABC_model/results/enhancer_activity/iPSC/NoGeneExpr/Enhancers.DHS.ipsc.atac.rep2.bam.CountReads.bedgraph.temp_sort_order -counts -sorted -a stdin -b /data/reddylab/Revathy/collabs/Lexi/ABC_model/data/iPSC/bam/ipsc.atac.rep2.bam | awk '{print $1 \"\\t\" $2 \"\\t\" $3 \"\\t\" $NF}'  | bedtools sort -faidx /data/reddylab/Revathy/collabs/Lexi/ABC_model/data/reference/hg38.genome -i stdin > /data/reddylab/Revathy/collabs/Lexi/ABC_model/results/enhancer_activity/iPSC/NoGeneExpr/Enhancers.DHS.ipsc.atac.rep2.bam.CountReads.bedgraph; rm /data/reddylab/Revathy/collabs/Lexi/ABC_model/results/enhancer_activity/iPSC/NoGeneExpr/Enhancers.DHS.ipsc.atac.rep2.bam.CountReads.bedgraph.temp_sort_order\n",
      "BEDTools completed successfully. \n",
      "\n",
      "Feature DHS completed in 242.43415546417236\n",
      "Assigning classes to enhancers\n",
      "Total enhancers: 596\n",
      "         Promoters: 63\n",
      "         Genic: 260\n",
      "         Intergenic: 273\n",
      "Neighborhoods Complete! \n",
      "\n"
     ]
    }
   ],
   "source": [
    "%%bash\n",
    "task=enhancer_activity\n",
    "mkdir -p /data/reddylab/Revathy/collabs/Lexi/ABC_model/results\n",
    "source /data/reddylab/software/miniconda3/bin/activate alex_py3\n",
    "module load bedtools2\n",
    "module load samtools\n",
    "data_dir=/data/reddylab/Revathy/collabs/Lexi/ABC_model/data/iPSC\n",
    "abc_dir=/data/reddylab/Revathy/collabs/Maria/ABC/ABC-Enhancer-Gene-Prediction\n",
    "\n",
    "mkdir -p /data/reddylab/Revathy/collabs/Lexi/ABC_model/results/${task}/iPSC/NoGeneExpr\n",
    "\n",
    "python ${abc_dir}/src/run.neighborhoods.py \\\n",
    "--candidate_enhancer_regions /data/reddylab/Revathy/collabs/Lexi/ABC_model/data/ipsc.expect_cells.protospacer_dhs.w_pos_ctrls_dhs.coordinates.bed \\\n",
    "--genes ${abc_dir}/reference/RefSeqCurated.170308.bed.CollapsedGeneBounds.bed \\\n",
    "--H3K27ac ${data_dir}/bam/ipsc.h3k27ac.rep1.bam,${data_dir}/bam/ipsc.h3k27ac.rep2.bam \\\n",
    "--DHS ${data_dir}/bam/ipsc.atac.rep1.bam,${data_dir}/bam/ipsc.atac.rep2.bam \\\n",
    "--chrom_sizes /data/reddylab/Revathy/collabs/Lexi/ABC_model/data/reference/hg38.genome \\\n",
    "--cellType iPSC \\\n",
    "--outdir /data/reddylab/Revathy/collabs/Lexi/ABC_model/results/${task}/iPSC/NoGeneExpr"
   ]
  },
  {
   "cell_type": "code",
   "execution_count": 49,
   "metadata": {},
   "outputs": [],
   "source": [
    "%%bash\n",
    "awk -vOFS=\"\\t\" '{print $1,$2,$3,$4,$5,$6,$10,$8}' /data/gersbachlab/lrb53/SczProveIt/mhc2/analysis/abcmodel/inputs/ipsc/esc.hicar.bedpe \\\n",
    "| tail -n+2 \\\n",
    "| gzip -c \\\n",
    "> /data/reddylab/Revathy/collabs/Lexi/ABC_model/data/iPSC/esc.hicar.bedpe.gz"
   ]
  },
  {
   "cell_type": "code",
   "execution_count": 84,
   "metadata": {},
   "outputs": [],
   "source": [
    "%%bash\n",
    "chrom=(\"chr19\" \"chr20\" \"chr21\" \"chr22\" \"chrX\" \"chrY\")\n",
    "for chr in \"${chrom[@]}\"\n",
    "do\n",
    "ln -s /data/reddylab/Revathy/collabs/Lexi/ABC_model/data/iPSC/esc.hicar.bedpe.gz \\\n",
    "/data/reddylab/Revathy/collabs/Lexi/ABC_model/data/iPSC/HiC/${chr}/${chr}.bedpe.gz\n",
    "done"
   ]
  },
  {
   "cell_type": "code",
   "execution_count": 2,
   "metadata": {
    "scrolled": true
   },
   "outputs": [
    {
     "name": "stdout",
     "output_type": "stream",
     "text": [
      "reading genes\n",
      "reading enhancers\n",
      "Making predictions for chromosome: chr3\n",
      "Making putative predictions table...\n",
      "Begin HiC\n",
      "Loading HiC\n",
      "0 0\n",
      "HiC added to predictions table. Elapsed time: 0.15144658088684082\n",
      "HiC Complete\n",
      "Completed chromosome: chr3. Elapsed time: 0.4517557621002197 \n",
      "\n",
      "Making predictions for chromosome: chr6\n",
      "Making putative predictions table...\n",
      "Begin HiC\n",
      "Loading HiC\n",
      "269 43\n",
      "HiC added to predictions table. Elapsed time: 0.25264525413513184\n",
      "HiC Complete\n",
      "Completed chromosome: chr6. Elapsed time: 0.6411004066467285 \n",
      "\n",
      "Making predictions for chromosome: chr2\n",
      "Making putative predictions table...\n",
      "Begin HiC\n",
      "Loading HiC\n",
      "0 0\n",
      "HiC added to predictions table. Elapsed time: 0.1361403465270996\n",
      "HiC Complete\n",
      "Completed chromosome: chr2. Elapsed time: 0.29071784019470215 \n",
      "\n",
      "Making predictions for chromosome: chr4\n",
      "Making putative predictions table...\n",
      "Begin HiC\n",
      "Loading HiC\n",
      "2 0\n",
      "HiC added to predictions table. Elapsed time: 0.1494450569152832\n",
      "HiC Complete\n",
      "Completed chromosome: chr4. Elapsed time: 0.26790428161621094 \n",
      "\n",
      "Making predictions for chromosome: chr11\n",
      "Making putative predictions table...\n",
      "Begin HiC\n",
      "Loading HiC\n",
      "1 0\n",
      "HiC added to predictions table. Elapsed time: 0.14577412605285645\n",
      "HiC Complete\n",
      "Completed chromosome: chr11. Elapsed time: 0.267758846282959 \n",
      "\n",
      "Making predictions for chromosome: chr12\n",
      "Making putative predictions table...\n",
      "Begin HiC\n",
      "Loading HiC\n",
      "3 0\n",
      "HiC added to predictions table. Elapsed time: 0.15942740440368652\n",
      "HiC Complete\n",
      "Completed chromosome: chr12. Elapsed time: 0.2846105098724365 \n",
      "\n",
      "Making predictions for chromosome: chr1\n",
      "Making putative predictions table...\n",
      "Begin HiC\n",
      "Loading HiC\n",
      "1 0\n",
      "HiC added to predictions table. Elapsed time: 0.1425025463104248\n",
      "HiC Complete\n",
      "Completed chromosome: chr1. Elapsed time: 0.2753782272338867 \n",
      "\n",
      "Writing output files...\n",
      "Done.\n"
     ]
    }
   ],
   "source": [
    "%%bash\n",
    "source /data/reddylab/software/miniconda3/bin/activate alex_py3\n",
    "task=ABC_score\n",
    "mkdir -p /data/reddylab/Revathy/collabs/Lexi/ABC_model/results/${task}\n",
    "abc_dir=/data/reddylab/Revathy/collabs/Maria/ABC/ABC-Enhancer-Gene-Prediction\n",
    "enhancer_activity=/data/reddylab/Revathy/collabs/Lexi/ABC_model/results/enhancer_activity/iPSC/\n",
    "hic=/data/reddylab/Revathy/collabs/Lexi/ABC_model/data/iPSC/HiC\n",
    "\n",
    "cd ${enhancer_activity}\n",
    "\n",
    "python ${abc_dir}/src/predict.py \\\n",
    "--enhancers ${enhancer_activity}/EnhancerList.txt \\\n",
    "--genes ${enhancer_activity}/GeneList.txt \\\n",
    "--HiCdir ${hic} \\\n",
    "--hic_resolution 5000 \\\n",
    "--hic_type bedpe \\\n",
    "--scale_hic_using_powerlaw \\\n",
    "--threshold .02 \\\n",
    "--cellType iPSC \\\n",
    "--outdir /data/reddylab/Revathy/collabs/Lexi/ABC_model/results/${task}/iPSC/ \\\n",
    "--make_all_putative \n"
   ]
  },
  {
   "cell_type": "markdown",
   "metadata": {},
   "source": [
    "# K562"
   ]
  },
  {
   "cell_type": "code",
   "execution_count": 87,
   "metadata": {},
   "outputs": [],
   "source": [
    "%%bash\n",
    "module load samtools \n",
    "mkdir -p /data/reddylab/Revathy/collabs/Lexi/ABC_model/data/K562\n",
    "cd /data/reddylab/Revathy/collabs/Lexi/ABC_model/data/K562\n",
    "cp /data/gersbachlab/lrb53/SczProveIt/mhc2/analysis/abcmodel/inputs/k562/*.bam .\n",
    "bam_files=$(/bin/ls /data/reddylab/Revathy/collabs/Lexi/ABC_model/data/K562/*.bam)\n",
    "for bam in ${bam_files};\n",
    "do\n",
    "samtools index -b ${bam} > ${bam/.bam/.bam.bai}\n",
    "done"
   ]
  },
  {
   "cell_type": "code",
   "execution_count": 3,
   "metadata": {},
   "outputs": [
    {
     "name": "stdout",
     "output_type": "stream",
     "text": [
      "156 /data/reddylab/Revathy/collabs/Lexi/ABC_model/data/K562/k562.mean_tpms_bulk.txt\r\n"
     ]
    }
   ],
   "source": [
    "!wc -l /data/reddylab/Revathy/collabs/Lexi/ABC_model/data/K562/k562.mean_tpms_bulk.txt"
   ]
  },
  {
   "cell_type": "code",
   "execution_count": 4,
   "metadata": {},
   "outputs": [],
   "source": [
    "import pandas as pd\n",
    "\n",
    "gene_tpm = pd.read_csv('/data/reddylab/Revathy/collabs/Lexi/ABC_model/data/K562/k562.mean_tpms_bulk.txt', sep='\\t', names=['GeneName','tpm'])\n",
    "gene_annotation = pd.read_csv('/data/reddylab/Revathy/collabs/Maria/ABC/ABC-Enhancer-Gene-Prediction/reference/RefSeqCurated.170308.bed.CollapsedGeneBounds.bed', sep='\\t',\n",
    "                             names=['chr','start','end','GeneName','number','strand'])\n",
    "gene_bed = gene_tpm.merge(gene_annotation, on='GeneName', how='inner')\n",
    "cols = ['start','end','number']\n",
    "gene_bed[cols] = gene_bed[cols].apply(pd.to_numeric, errors='coerce')\n",
    "gene_bed[['chr','start','end','GeneName','number','strand']].to_csv('/data/reddylab/Revathy/collabs/Lexi/ABC_model/data/K562/K562.tpm_gene_list.coordinates.bed', sep='\\t', index=False, header=None)\n"
   ]
  },
  {
   "cell_type": "code",
   "execution_count": 6,
   "metadata": {},
   "outputs": [
    {
     "name": "stdout",
     "output_type": "stream",
     "text": [
      "145 /data/reddylab/Revathy/collabs/Lexi/ABC_model/data/K562/K562.tpm_gene_list.coordinates.bed\r\n"
     ]
    }
   ],
   "source": [
    "!wc -l /data/reddylab/Revathy/collabs/Lexi/ABC_model/data/K562/K562.tpm_gene_list.coordinates.bed"
   ]
  },
  {
   "cell_type": "code",
   "execution_count": 7,
   "metadata": {
    "scrolled": true
   },
   "outputs": [
    {
     "name": "stdout",
     "output_type": "stream",
     "text": [
      "Namespace(ATAC='', DHS='/data/reddylab/Revathy/collabs/Lexi/ABC_model/data/K562/k562.atac.rep1.bam,/data/reddylab/Revathy/collabs/Lexi/ABC_model/data/K562/k562.atac.rep2.bam,/data/reddylab/Revathy/collabs/Lexi/ABC_model/data/K562/k562.atac.rep3.bam', H3K27ac='/data/reddylab/Revathy/collabs/Lexi/ABC_model/data/K562/k562.h3k27ac.rep1.bam,/data/reddylab/Revathy/collabs/Lexi/ABC_model/data/K562/k562.h3k27ac.rep2.bam,/data/reddylab/Revathy/collabs/Lexi/ABC_model/data/K562/k562.h3k27ac.rep3.bam', candidate_enhancer_regions='/data/reddylab/Revathy/collabs/Lexi/ABC_model/data/ipsc.expect_cells.protospacer_dhs.w_pos_ctrls_dhs.coordinates.bed', cellType='K562', chrom_sizes='/data/reddylab/Revathy/collabs/Lexi/ABC_model/data/reference/hg38.genome', default_accessibility_feature=None, enhancer_class_override=None, expression_table='', gene_name_annotations='symbol', genes='/data/reddylab/Revathy/collabs/Maria/ABC/ABC-Enhancer-Gene-Prediction/reference/RefSeqCurated.170308.bed.CollapsedGeneBounds.bed', genes_for_class_assignment=None, outdir='/data/reddylab/Revathy/collabs/Lexi/ABC_model/results/enhancer_activity/K562/NoGeneExpr', primary_gene_identifier='symbol', qnorm=None, skip_gene_counts=False, skip_rpkm_quantile=False, supplementary_features=None, tss_slop_for_class_assignment=500, ubiquitously_expressed_genes=None, use_secondary_counting_method=False)\n",
      "Running command: bedtools sort -faidx /data/reddylab/Revathy/collabs/Lexi/ABC_model/data/reference/hg38.genome -i /data/reddylab/Revathy/collabs/Lexi/ABC_model/results/enhancer_activity/K562/NoGeneExpr/GeneList.TSS1kb.bed > /data/reddylab/Revathy/collabs/Lexi/ABC_model/results/enhancer_activity/K562/NoGeneExpr/GeneList.TSS1kb.bed.sorted; mv /data/reddylab/Revathy/collabs/Lexi/ABC_model/results/enhancer_activity/K562/NoGeneExpr/GeneList.TSS1kb.bed.sorted /data/reddylab/Revathy/collabs/Lexi/ABC_model/results/enhancer_activity/K562/NoGeneExpr/GeneList.TSS1kb.bed\n",
      "Regenerating /data/reddylab/Revathy/collabs/Lexi/ABC_model/results/enhancer_activity/K562/NoGeneExpr/Genes.H3K27ac.k562.h3k27ac.rep1.bam.CountReads.bedgraph\n",
      "Counting coverage for Genes.H3K27ac.k562.h3k27ac.rep1.bam\n",
      "Running: awk 'FNR==NR {x2[$1] = $0; next} $1 in x2 {print x2[$1]}' /data/reddylab/Revathy/collabs/Lexi/ABC_model/data/reference/hg38.genome <(samtools view -H /data/reddylab/Revathy/collabs/Lexi/ABC_model/data/K562/k562.h3k27ac.rep1.bam | grep SQ | cut -f 2 | cut -c 4- )  > /data/reddylab/Revathy/collabs/Lexi/ABC_model/results/enhancer_activity/K562/NoGeneExpr/Genes.H3K27ac.k562.h3k27ac.rep1.bam.CountReads.bedgraph.temp_sort_order\n",
      "Running: bedtools sort -faidx /data/reddylab/Revathy/collabs/Lexi/ABC_model/results/enhancer_activity/K562/NoGeneExpr/Genes.H3K27ac.k562.h3k27ac.rep1.bam.CountReads.bedgraph.temp_sort_order -i /data/reddylab/Revathy/collabs/Lexi/ABC_model/results/enhancer_activity/K562/NoGeneExpr/GeneList.bed | bedtools coverage -g /data/reddylab/Revathy/collabs/Lexi/ABC_model/results/enhancer_activity/K562/NoGeneExpr/Genes.H3K27ac.k562.h3k27ac.rep1.bam.CountReads.bedgraph.temp_sort_order -counts -sorted -a stdin -b /data/reddylab/Revathy/collabs/Lexi/ABC_model/data/K562/k562.h3k27ac.rep1.bam | awk '{print $1 \"\\t\" $2 \"\\t\" $3 \"\\t\" $NF}'  | bedtools sort -faidx /data/reddylab/Revathy/collabs/Lexi/ABC_model/data/reference/hg38.genome -i stdin > /data/reddylab/Revathy/collabs/Lexi/ABC_model/results/enhancer_activity/K562/NoGeneExpr/Genes.H3K27ac.k562.h3k27ac.rep1.bam.CountReads.bedgraph; rm /data/reddylab/Revathy/collabs/Lexi/ABC_model/results/enhancer_activity/K562/NoGeneExpr/Genes.H3K27ac.k562.h3k27ac.rep1.bam.CountReads.bedgraph.temp_sort_order\n",
      "BEDTools completed successfully. \n",
      "\n",
      "Regenerating /data/reddylab/Revathy/collabs/Lexi/ABC_model/results/enhancer_activity/K562/NoGeneExpr/Genes.H3K27ac.k562.h3k27ac.rep2.bam.CountReads.bedgraph\n",
      "Counting coverage for Genes.H3K27ac.k562.h3k27ac.rep2.bam\n",
      "Running: awk 'FNR==NR {x2[$1] = $0; next} $1 in x2 {print x2[$1]}' /data/reddylab/Revathy/collabs/Lexi/ABC_model/data/reference/hg38.genome <(samtools view -H /data/reddylab/Revathy/collabs/Lexi/ABC_model/data/K562/k562.h3k27ac.rep2.bam | grep SQ | cut -f 2 | cut -c 4- )  > /data/reddylab/Revathy/collabs/Lexi/ABC_model/results/enhancer_activity/K562/NoGeneExpr/Genes.H3K27ac.k562.h3k27ac.rep2.bam.CountReads.bedgraph.temp_sort_order\n",
      "Running: bedtools sort -faidx /data/reddylab/Revathy/collabs/Lexi/ABC_model/results/enhancer_activity/K562/NoGeneExpr/Genes.H3K27ac.k562.h3k27ac.rep2.bam.CountReads.bedgraph.temp_sort_order -i /data/reddylab/Revathy/collabs/Lexi/ABC_model/results/enhancer_activity/K562/NoGeneExpr/GeneList.bed | bedtools coverage -g /data/reddylab/Revathy/collabs/Lexi/ABC_model/results/enhancer_activity/K562/NoGeneExpr/Genes.H3K27ac.k562.h3k27ac.rep2.bam.CountReads.bedgraph.temp_sort_order -counts -sorted -a stdin -b /data/reddylab/Revathy/collabs/Lexi/ABC_model/data/K562/k562.h3k27ac.rep2.bam | awk '{print $1 \"\\t\" $2 \"\\t\" $3 \"\\t\" $NF}'  | bedtools sort -faidx /data/reddylab/Revathy/collabs/Lexi/ABC_model/data/reference/hg38.genome -i stdin > /data/reddylab/Revathy/collabs/Lexi/ABC_model/results/enhancer_activity/K562/NoGeneExpr/Genes.H3K27ac.k562.h3k27ac.rep2.bam.CountReads.bedgraph; rm /data/reddylab/Revathy/collabs/Lexi/ABC_model/results/enhancer_activity/K562/NoGeneExpr/Genes.H3K27ac.k562.h3k27ac.rep2.bam.CountReads.bedgraph.temp_sort_order\n",
      "BEDTools completed successfully. \n",
      "\n",
      "Regenerating /data/reddylab/Revathy/collabs/Lexi/ABC_model/results/enhancer_activity/K562/NoGeneExpr/Genes.H3K27ac.k562.h3k27ac.rep3.bam.CountReads.bedgraph\n",
      "Counting coverage for Genes.H3K27ac.k562.h3k27ac.rep3.bam\n",
      "Running: awk 'FNR==NR {x2[$1] = $0; next} $1 in x2 {print x2[$1]}' /data/reddylab/Revathy/collabs/Lexi/ABC_model/data/reference/hg38.genome <(samtools view -H /data/reddylab/Revathy/collabs/Lexi/ABC_model/data/K562/k562.h3k27ac.rep3.bam | grep SQ | cut -f 2 | cut -c 4- )  > /data/reddylab/Revathy/collabs/Lexi/ABC_model/results/enhancer_activity/K562/NoGeneExpr/Genes.H3K27ac.k562.h3k27ac.rep3.bam.CountReads.bedgraph.temp_sort_order\n",
      "Running: bedtools sort -faidx /data/reddylab/Revathy/collabs/Lexi/ABC_model/results/enhancer_activity/K562/NoGeneExpr/Genes.H3K27ac.k562.h3k27ac.rep3.bam.CountReads.bedgraph.temp_sort_order -i /data/reddylab/Revathy/collabs/Lexi/ABC_model/results/enhancer_activity/K562/NoGeneExpr/GeneList.bed | bedtools coverage -g /data/reddylab/Revathy/collabs/Lexi/ABC_model/results/enhancer_activity/K562/NoGeneExpr/Genes.H3K27ac.k562.h3k27ac.rep3.bam.CountReads.bedgraph.temp_sort_order -counts -sorted -a stdin -b /data/reddylab/Revathy/collabs/Lexi/ABC_model/data/K562/k562.h3k27ac.rep3.bam | awk '{print $1 \"\\t\" $2 \"\\t\" $3 \"\\t\" $NF}'  | bedtools sort -faidx /data/reddylab/Revathy/collabs/Lexi/ABC_model/data/reference/hg38.genome -i stdin > /data/reddylab/Revathy/collabs/Lexi/ABC_model/results/enhancer_activity/K562/NoGeneExpr/Genes.H3K27ac.k562.h3k27ac.rep3.bam.CountReads.bedgraph; rm /data/reddylab/Revathy/collabs/Lexi/ABC_model/results/enhancer_activity/K562/NoGeneExpr/Genes.H3K27ac.k562.h3k27ac.rep3.bam.CountReads.bedgraph.temp_sort_order\n",
      "BEDTools completed successfully. \n",
      "\n",
      "Feature H3K27ac completed in 227.1282021999359\n",
      "Regenerating /data/reddylab/Revathy/collabs/Lexi/ABC_model/results/enhancer_activity/K562/NoGeneExpr/Genes.DHS.k562.atac.rep1.bam.CountReads.bedgraph\n",
      "Counting coverage for Genes.DHS.k562.atac.rep1.bam\n",
      "Running: awk 'FNR==NR {x2[$1] = $0; next} $1 in x2 {print x2[$1]}' /data/reddylab/Revathy/collabs/Lexi/ABC_model/data/reference/hg38.genome <(samtools view -H /data/reddylab/Revathy/collabs/Lexi/ABC_model/data/K562/k562.atac.rep1.bam | grep SQ | cut -f 2 | cut -c 4- )  > /data/reddylab/Revathy/collabs/Lexi/ABC_model/results/enhancer_activity/K562/NoGeneExpr/Genes.DHS.k562.atac.rep1.bam.CountReads.bedgraph.temp_sort_order\n",
      "Running: bedtools sort -faidx /data/reddylab/Revathy/collabs/Lexi/ABC_model/results/enhancer_activity/K562/NoGeneExpr/Genes.DHS.k562.atac.rep1.bam.CountReads.bedgraph.temp_sort_order -i /data/reddylab/Revathy/collabs/Lexi/ABC_model/results/enhancer_activity/K562/NoGeneExpr/GeneList.bed | bedtools coverage -g /data/reddylab/Revathy/collabs/Lexi/ABC_model/results/enhancer_activity/K562/NoGeneExpr/Genes.DHS.k562.atac.rep1.bam.CountReads.bedgraph.temp_sort_order -counts -sorted -a stdin -b /data/reddylab/Revathy/collabs/Lexi/ABC_model/data/K562/k562.atac.rep1.bam | awk '{print $1 \"\\t\" $2 \"\\t\" $3 \"\\t\" $NF}'  | bedtools sort -faidx /data/reddylab/Revathy/collabs/Lexi/ABC_model/data/reference/hg38.genome -i stdin > /data/reddylab/Revathy/collabs/Lexi/ABC_model/results/enhancer_activity/K562/NoGeneExpr/Genes.DHS.k562.atac.rep1.bam.CountReads.bedgraph; rm /data/reddylab/Revathy/collabs/Lexi/ABC_model/results/enhancer_activity/K562/NoGeneExpr/Genes.DHS.k562.atac.rep1.bam.CountReads.bedgraph.temp_sort_order\n",
      "BEDTools completed successfully. \n",
      "\n",
      "Regenerating /data/reddylab/Revathy/collabs/Lexi/ABC_model/results/enhancer_activity/K562/NoGeneExpr/Genes.DHS.k562.atac.rep2.bam.CountReads.bedgraph\n",
      "Counting coverage for Genes.DHS.k562.atac.rep2.bam\n",
      "Running: awk 'FNR==NR {x2[$1] = $0; next} $1 in x2 {print x2[$1]}' /data/reddylab/Revathy/collabs/Lexi/ABC_model/data/reference/hg38.genome <(samtools view -H /data/reddylab/Revathy/collabs/Lexi/ABC_model/data/K562/k562.atac.rep2.bam | grep SQ | cut -f 2 | cut -c 4- )  > /data/reddylab/Revathy/collabs/Lexi/ABC_model/results/enhancer_activity/K562/NoGeneExpr/Genes.DHS.k562.atac.rep2.bam.CountReads.bedgraph.temp_sort_order\n",
      "Running: bedtools sort -faidx /data/reddylab/Revathy/collabs/Lexi/ABC_model/results/enhancer_activity/K562/NoGeneExpr/Genes.DHS.k562.atac.rep2.bam.CountReads.bedgraph.temp_sort_order -i /data/reddylab/Revathy/collabs/Lexi/ABC_model/results/enhancer_activity/K562/NoGeneExpr/GeneList.bed | bedtools coverage -g /data/reddylab/Revathy/collabs/Lexi/ABC_model/results/enhancer_activity/K562/NoGeneExpr/Genes.DHS.k562.atac.rep2.bam.CountReads.bedgraph.temp_sort_order -counts -sorted -a stdin -b /data/reddylab/Revathy/collabs/Lexi/ABC_model/data/K562/k562.atac.rep2.bam | awk '{print $1 \"\\t\" $2 \"\\t\" $3 \"\\t\" $NF}'  | bedtools sort -faidx /data/reddylab/Revathy/collabs/Lexi/ABC_model/data/reference/hg38.genome -i stdin > /data/reddylab/Revathy/collabs/Lexi/ABC_model/results/enhancer_activity/K562/NoGeneExpr/Genes.DHS.k562.atac.rep2.bam.CountReads.bedgraph; rm /data/reddylab/Revathy/collabs/Lexi/ABC_model/results/enhancer_activity/K562/NoGeneExpr/Genes.DHS.k562.atac.rep2.bam.CountReads.bedgraph.temp_sort_order\n",
      "BEDTools completed successfully. \n",
      "\n",
      "Regenerating /data/reddylab/Revathy/collabs/Lexi/ABC_model/results/enhancer_activity/K562/NoGeneExpr/Genes.DHS.k562.atac.rep3.bam.CountReads.bedgraph\n",
      "Counting coverage for Genes.DHS.k562.atac.rep3.bam\n",
      "Running: awk 'FNR==NR {x2[$1] = $0; next} $1 in x2 {print x2[$1]}' /data/reddylab/Revathy/collabs/Lexi/ABC_model/data/reference/hg38.genome <(samtools view -H /data/reddylab/Revathy/collabs/Lexi/ABC_model/data/K562/k562.atac.rep3.bam | grep SQ | cut -f 2 | cut -c 4- )  > /data/reddylab/Revathy/collabs/Lexi/ABC_model/results/enhancer_activity/K562/NoGeneExpr/Genes.DHS.k562.atac.rep3.bam.CountReads.bedgraph.temp_sort_order\n",
      "Running: bedtools sort -faidx /data/reddylab/Revathy/collabs/Lexi/ABC_model/results/enhancer_activity/K562/NoGeneExpr/Genes.DHS.k562.atac.rep3.bam.CountReads.bedgraph.temp_sort_order -i /data/reddylab/Revathy/collabs/Lexi/ABC_model/results/enhancer_activity/K562/NoGeneExpr/GeneList.bed | bedtools coverage -g /data/reddylab/Revathy/collabs/Lexi/ABC_model/results/enhancer_activity/K562/NoGeneExpr/Genes.DHS.k562.atac.rep3.bam.CountReads.bedgraph.temp_sort_order -counts -sorted -a stdin -b /data/reddylab/Revathy/collabs/Lexi/ABC_model/data/K562/k562.atac.rep3.bam | awk '{print $1 \"\\t\" $2 \"\\t\" $3 \"\\t\" $NF}'  | bedtools sort -faidx /data/reddylab/Revathy/collabs/Lexi/ABC_model/data/reference/hg38.genome -i stdin > /data/reddylab/Revathy/collabs/Lexi/ABC_model/results/enhancer_activity/K562/NoGeneExpr/Genes.DHS.k562.atac.rep3.bam.CountReads.bedgraph; rm /data/reddylab/Revathy/collabs/Lexi/ABC_model/results/enhancer_activity/K562/NoGeneExpr/Genes.DHS.k562.atac.rep3.bam.CountReads.bedgraph.temp_sort_order\n",
      "BEDTools completed successfully. \n",
      "\n",
      "Feature DHS completed in 1666.7391321659088\n",
      "Regenerating /data/reddylab/Revathy/collabs/Lexi/ABC_model/results/enhancer_activity/K562/NoGeneExpr/Genes.TSS1kb.H3K27ac.k562.h3k27ac.rep1.bam.CountReads.bedgraph\n",
      "Counting coverage for Genes.TSS1kb.H3K27ac.k562.h3k27ac.rep1.bam\n",
      "Running: awk 'FNR==NR {x2[$1] = $0; next} $1 in x2 {print x2[$1]}' /data/reddylab/Revathy/collabs/Lexi/ABC_model/data/reference/hg38.genome <(samtools view -H /data/reddylab/Revathy/collabs/Lexi/ABC_model/data/K562/k562.h3k27ac.rep1.bam | grep SQ | cut -f 2 | cut -c 4- )  > /data/reddylab/Revathy/collabs/Lexi/ABC_model/results/enhancer_activity/K562/NoGeneExpr/Genes.TSS1kb.H3K27ac.k562.h3k27ac.rep1.bam.CountReads.bedgraph.temp_sort_order\n",
      "Running: bedtools sort -faidx /data/reddylab/Revathy/collabs/Lexi/ABC_model/results/enhancer_activity/K562/NoGeneExpr/Genes.TSS1kb.H3K27ac.k562.h3k27ac.rep1.bam.CountReads.bedgraph.temp_sort_order -i /data/reddylab/Revathy/collabs/Lexi/ABC_model/results/enhancer_activity/K562/NoGeneExpr/GeneList.TSS1kb.bed | bedtools coverage -g /data/reddylab/Revathy/collabs/Lexi/ABC_model/results/enhancer_activity/K562/NoGeneExpr/Genes.TSS1kb.H3K27ac.k562.h3k27ac.rep1.bam.CountReads.bedgraph.temp_sort_order -counts -sorted -a stdin -b /data/reddylab/Revathy/collabs/Lexi/ABC_model/data/K562/k562.h3k27ac.rep1.bam | awk '{print $1 \"\\t\" $2 \"\\t\" $3 \"\\t\" $NF}'  | bedtools sort -faidx /data/reddylab/Revathy/collabs/Lexi/ABC_model/data/reference/hg38.genome -i stdin > /data/reddylab/Revathy/collabs/Lexi/ABC_model/results/enhancer_activity/K562/NoGeneExpr/Genes.TSS1kb.H3K27ac.k562.h3k27ac.rep1.bam.CountReads.bedgraph; rm /data/reddylab/Revathy/collabs/Lexi/ABC_model/results/enhancer_activity/K562/NoGeneExpr/Genes.TSS1kb.H3K27ac.k562.h3k27ac.rep1.bam.CountReads.bedgraph.temp_sort_order\n",
      "BEDTools completed successfully. \n",
      "\n",
      "Regenerating /data/reddylab/Revathy/collabs/Lexi/ABC_model/results/enhancer_activity/K562/NoGeneExpr/Genes.TSS1kb.H3K27ac.k562.h3k27ac.rep2.bam.CountReads.bedgraph\n",
      "Counting coverage for Genes.TSS1kb.H3K27ac.k562.h3k27ac.rep2.bam\n",
      "Running: awk 'FNR==NR {x2[$1] = $0; next} $1 in x2 {print x2[$1]}' /data/reddylab/Revathy/collabs/Lexi/ABC_model/data/reference/hg38.genome <(samtools view -H /data/reddylab/Revathy/collabs/Lexi/ABC_model/data/K562/k562.h3k27ac.rep2.bam | grep SQ | cut -f 2 | cut -c 4- )  > /data/reddylab/Revathy/collabs/Lexi/ABC_model/results/enhancer_activity/K562/NoGeneExpr/Genes.TSS1kb.H3K27ac.k562.h3k27ac.rep2.bam.CountReads.bedgraph.temp_sort_order\n",
      "Running: bedtools sort -faidx /data/reddylab/Revathy/collabs/Lexi/ABC_model/results/enhancer_activity/K562/NoGeneExpr/Genes.TSS1kb.H3K27ac.k562.h3k27ac.rep2.bam.CountReads.bedgraph.temp_sort_order -i /data/reddylab/Revathy/collabs/Lexi/ABC_model/results/enhancer_activity/K562/NoGeneExpr/GeneList.TSS1kb.bed | bedtools coverage -g /data/reddylab/Revathy/collabs/Lexi/ABC_model/results/enhancer_activity/K562/NoGeneExpr/Genes.TSS1kb.H3K27ac.k562.h3k27ac.rep2.bam.CountReads.bedgraph.temp_sort_order -counts -sorted -a stdin -b /data/reddylab/Revathy/collabs/Lexi/ABC_model/data/K562/k562.h3k27ac.rep2.bam | awk '{print $1 \"\\t\" $2 \"\\t\" $3 \"\\t\" $NF}'  | bedtools sort -faidx /data/reddylab/Revathy/collabs/Lexi/ABC_model/data/reference/hg38.genome -i stdin > /data/reddylab/Revathy/collabs/Lexi/ABC_model/results/enhancer_activity/K562/NoGeneExpr/Genes.TSS1kb.H3K27ac.k562.h3k27ac.rep2.bam.CountReads.bedgraph; rm /data/reddylab/Revathy/collabs/Lexi/ABC_model/results/enhancer_activity/K562/NoGeneExpr/Genes.TSS1kb.H3K27ac.k562.h3k27ac.rep2.bam.CountReads.bedgraph.temp_sort_order\n",
      "BEDTools completed successfully. \n",
      "\n",
      "Regenerating /data/reddylab/Revathy/collabs/Lexi/ABC_model/results/enhancer_activity/K562/NoGeneExpr/Genes.TSS1kb.H3K27ac.k562.h3k27ac.rep3.bam.CountReads.bedgraph\n",
      "Counting coverage for Genes.TSS1kb.H3K27ac.k562.h3k27ac.rep3.bam\n",
      "Running: awk 'FNR==NR {x2[$1] = $0; next} $1 in x2 {print x2[$1]}' /data/reddylab/Revathy/collabs/Lexi/ABC_model/data/reference/hg38.genome <(samtools view -H /data/reddylab/Revathy/collabs/Lexi/ABC_model/data/K562/k562.h3k27ac.rep3.bam | grep SQ | cut -f 2 | cut -c 4- )  > /data/reddylab/Revathy/collabs/Lexi/ABC_model/results/enhancer_activity/K562/NoGeneExpr/Genes.TSS1kb.H3K27ac.k562.h3k27ac.rep3.bam.CountReads.bedgraph.temp_sort_order\n",
      "Running: bedtools sort -faidx /data/reddylab/Revathy/collabs/Lexi/ABC_model/results/enhancer_activity/K562/NoGeneExpr/Genes.TSS1kb.H3K27ac.k562.h3k27ac.rep3.bam.CountReads.bedgraph.temp_sort_order -i /data/reddylab/Revathy/collabs/Lexi/ABC_model/results/enhancer_activity/K562/NoGeneExpr/GeneList.TSS1kb.bed | bedtools coverage -g /data/reddylab/Revathy/collabs/Lexi/ABC_model/results/enhancer_activity/K562/NoGeneExpr/Genes.TSS1kb.H3K27ac.k562.h3k27ac.rep3.bam.CountReads.bedgraph.temp_sort_order -counts -sorted -a stdin -b /data/reddylab/Revathy/collabs/Lexi/ABC_model/data/K562/k562.h3k27ac.rep3.bam | awk '{print $1 \"\\t\" $2 \"\\t\" $3 \"\\t\" $NF}'  | bedtools sort -faidx /data/reddylab/Revathy/collabs/Lexi/ABC_model/data/reference/hg38.genome -i stdin > /data/reddylab/Revathy/collabs/Lexi/ABC_model/results/enhancer_activity/K562/NoGeneExpr/Genes.TSS1kb.H3K27ac.k562.h3k27ac.rep3.bam.CountReads.bedgraph; rm /data/reddylab/Revathy/collabs/Lexi/ABC_model/results/enhancer_activity/K562/NoGeneExpr/Genes.TSS1kb.H3K27ac.k562.h3k27ac.rep3.bam.CountReads.bedgraph.temp_sort_order\n",
      "BEDTools completed successfully. \n",
      "\n",
      "Feature H3K27ac completed in 176.49095678329468\n",
      "Regenerating /data/reddylab/Revathy/collabs/Lexi/ABC_model/results/enhancer_activity/K562/NoGeneExpr/Genes.TSS1kb.DHS.k562.atac.rep1.bam.CountReads.bedgraph\n",
      "Counting coverage for Genes.TSS1kb.DHS.k562.atac.rep1.bam\n",
      "Running: awk 'FNR==NR {x2[$1] = $0; next} $1 in x2 {print x2[$1]}' /data/reddylab/Revathy/collabs/Lexi/ABC_model/data/reference/hg38.genome <(samtools view -H /data/reddylab/Revathy/collabs/Lexi/ABC_model/data/K562/k562.atac.rep1.bam | grep SQ | cut -f 2 | cut -c 4- )  > /data/reddylab/Revathy/collabs/Lexi/ABC_model/results/enhancer_activity/K562/NoGeneExpr/Genes.TSS1kb.DHS.k562.atac.rep1.bam.CountReads.bedgraph.temp_sort_order\n",
      "Running: bedtools sort -faidx /data/reddylab/Revathy/collabs/Lexi/ABC_model/results/enhancer_activity/K562/NoGeneExpr/Genes.TSS1kb.DHS.k562.atac.rep1.bam.CountReads.bedgraph.temp_sort_order -i /data/reddylab/Revathy/collabs/Lexi/ABC_model/results/enhancer_activity/K562/NoGeneExpr/GeneList.TSS1kb.bed | bedtools coverage -g /data/reddylab/Revathy/collabs/Lexi/ABC_model/results/enhancer_activity/K562/NoGeneExpr/Genes.TSS1kb.DHS.k562.atac.rep1.bam.CountReads.bedgraph.temp_sort_order -counts -sorted -a stdin -b /data/reddylab/Revathy/collabs/Lexi/ABC_model/data/K562/k562.atac.rep1.bam | awk '{print $1 \"\\t\" $2 \"\\t\" $3 \"\\t\" $NF}'  | bedtools sort -faidx /data/reddylab/Revathy/collabs/Lexi/ABC_model/data/reference/hg38.genome -i stdin > /data/reddylab/Revathy/collabs/Lexi/ABC_model/results/enhancer_activity/K562/NoGeneExpr/Genes.TSS1kb.DHS.k562.atac.rep1.bam.CountReads.bedgraph; rm /data/reddylab/Revathy/collabs/Lexi/ABC_model/results/enhancer_activity/K562/NoGeneExpr/Genes.TSS1kb.DHS.k562.atac.rep1.bam.CountReads.bedgraph.temp_sort_order\n",
      "BEDTools completed successfully. \n",
      "\n",
      "Regenerating /data/reddylab/Revathy/collabs/Lexi/ABC_model/results/enhancer_activity/K562/NoGeneExpr/Genes.TSS1kb.DHS.k562.atac.rep2.bam.CountReads.bedgraph\n",
      "Counting coverage for Genes.TSS1kb.DHS.k562.atac.rep2.bam\n",
      "Running: awk 'FNR==NR {x2[$1] = $0; next} $1 in x2 {print x2[$1]}' /data/reddylab/Revathy/collabs/Lexi/ABC_model/data/reference/hg38.genome <(samtools view -H /data/reddylab/Revathy/collabs/Lexi/ABC_model/data/K562/k562.atac.rep2.bam | grep SQ | cut -f 2 | cut -c 4- )  > /data/reddylab/Revathy/collabs/Lexi/ABC_model/results/enhancer_activity/K562/NoGeneExpr/Genes.TSS1kb.DHS.k562.atac.rep2.bam.CountReads.bedgraph.temp_sort_order\n",
      "Running: bedtools sort -faidx /data/reddylab/Revathy/collabs/Lexi/ABC_model/results/enhancer_activity/K562/NoGeneExpr/Genes.TSS1kb.DHS.k562.atac.rep2.bam.CountReads.bedgraph.temp_sort_order -i /data/reddylab/Revathy/collabs/Lexi/ABC_model/results/enhancer_activity/K562/NoGeneExpr/GeneList.TSS1kb.bed | bedtools coverage -g /data/reddylab/Revathy/collabs/Lexi/ABC_model/results/enhancer_activity/K562/NoGeneExpr/Genes.TSS1kb.DHS.k562.atac.rep2.bam.CountReads.bedgraph.temp_sort_order -counts -sorted -a stdin -b /data/reddylab/Revathy/collabs/Lexi/ABC_model/data/K562/k562.atac.rep2.bam | awk '{print $1 \"\\t\" $2 \"\\t\" $3 \"\\t\" $NF}'  | bedtools sort -faidx /data/reddylab/Revathy/collabs/Lexi/ABC_model/data/reference/hg38.genome -i stdin > /data/reddylab/Revathy/collabs/Lexi/ABC_model/results/enhancer_activity/K562/NoGeneExpr/Genes.TSS1kb.DHS.k562.atac.rep2.bam.CountReads.bedgraph; rm /data/reddylab/Revathy/collabs/Lexi/ABC_model/results/enhancer_activity/K562/NoGeneExpr/Genes.TSS1kb.DHS.k562.atac.rep2.bam.CountReads.bedgraph.temp_sort_order\n",
      "BEDTools completed successfully. \n",
      "\n",
      "Regenerating /data/reddylab/Revathy/collabs/Lexi/ABC_model/results/enhancer_activity/K562/NoGeneExpr/Genes.TSS1kb.DHS.k562.atac.rep3.bam.CountReads.bedgraph\n",
      "Counting coverage for Genes.TSS1kb.DHS.k562.atac.rep3.bam\n",
      "Running: awk 'FNR==NR {x2[$1] = $0; next} $1 in x2 {print x2[$1]}' /data/reddylab/Revathy/collabs/Lexi/ABC_model/data/reference/hg38.genome <(samtools view -H /data/reddylab/Revathy/collabs/Lexi/ABC_model/data/K562/k562.atac.rep3.bam | grep SQ | cut -f 2 | cut -c 4- )  > /data/reddylab/Revathy/collabs/Lexi/ABC_model/results/enhancer_activity/K562/NoGeneExpr/Genes.TSS1kb.DHS.k562.atac.rep3.bam.CountReads.bedgraph.temp_sort_order\n",
      "Running: bedtools sort -faidx /data/reddylab/Revathy/collabs/Lexi/ABC_model/results/enhancer_activity/K562/NoGeneExpr/Genes.TSS1kb.DHS.k562.atac.rep3.bam.CountReads.bedgraph.temp_sort_order -i /data/reddylab/Revathy/collabs/Lexi/ABC_model/results/enhancer_activity/K562/NoGeneExpr/GeneList.TSS1kb.bed | bedtools coverage -g /data/reddylab/Revathy/collabs/Lexi/ABC_model/results/enhancer_activity/K562/NoGeneExpr/Genes.TSS1kb.DHS.k562.atac.rep3.bam.CountReads.bedgraph.temp_sort_order -counts -sorted -a stdin -b /data/reddylab/Revathy/collabs/Lexi/ABC_model/data/K562/k562.atac.rep3.bam | awk '{print $1 \"\\t\" $2 \"\\t\" $3 \"\\t\" $NF}'  | bedtools sort -faidx /data/reddylab/Revathy/collabs/Lexi/ABC_model/data/reference/hg38.genome -i stdin > /data/reddylab/Revathy/collabs/Lexi/ABC_model/results/enhancer_activity/K562/NoGeneExpr/Genes.TSS1kb.DHS.k562.atac.rep3.bam.CountReads.bedgraph; rm /data/reddylab/Revathy/collabs/Lexi/ABC_model/results/enhancer_activity/K562/NoGeneExpr/Genes.TSS1kb.DHS.k562.atac.rep3.bam.CountReads.bedgraph.temp_sort_order\n",
      "BEDTools completed successfully. \n",
      "\n",
      "Feature DHS completed in 1202.7041993141174\n",
      "Regenerating /data/reddylab/Revathy/collabs/Lexi/ABC_model/results/enhancer_activity/K562/NoGeneExpr/Enhancers.H3K27ac.k562.h3k27ac.rep1.bam.CountReads.bedgraph\n",
      "Counting coverage for Enhancers.H3K27ac.k562.h3k27ac.rep1.bam\n",
      "Running: awk 'FNR==NR {x2[$1] = $0; next} $1 in x2 {print x2[$1]}' /data/reddylab/Revathy/collabs/Lexi/ABC_model/data/reference/hg38.genome <(samtools view -H /data/reddylab/Revathy/collabs/Lexi/ABC_model/data/K562/k562.h3k27ac.rep1.bam | grep SQ | cut -f 2 | cut -c 4- )  > /data/reddylab/Revathy/collabs/Lexi/ABC_model/results/enhancer_activity/K562/NoGeneExpr/Enhancers.H3K27ac.k562.h3k27ac.rep1.bam.CountReads.bedgraph.temp_sort_order\n",
      "Running: bedtools sort -faidx /data/reddylab/Revathy/collabs/Lexi/ABC_model/results/enhancer_activity/K562/NoGeneExpr/Enhancers.H3K27ac.k562.h3k27ac.rep1.bam.CountReads.bedgraph.temp_sort_order -i /data/reddylab/Revathy/collabs/Lexi/ABC_model/data/ipsc.expect_cells.protospacer_dhs.w_pos_ctrls_dhs.coordinates.bed | bedtools coverage -g /data/reddylab/Revathy/collabs/Lexi/ABC_model/results/enhancer_activity/K562/NoGeneExpr/Enhancers.H3K27ac.k562.h3k27ac.rep1.bam.CountReads.bedgraph.temp_sort_order -counts -sorted -a stdin -b /data/reddylab/Revathy/collabs/Lexi/ABC_model/data/K562/k562.h3k27ac.rep1.bam | awk '{print $1 \"\\t\" $2 \"\\t\" $3 \"\\t\" $NF}'  | bedtools sort -faidx /data/reddylab/Revathy/collabs/Lexi/ABC_model/data/reference/hg38.genome -i stdin > /data/reddylab/Revathy/collabs/Lexi/ABC_model/results/enhancer_activity/K562/NoGeneExpr/Enhancers.H3K27ac.k562.h3k27ac.rep1.bam.CountReads.bedgraph; rm /data/reddylab/Revathy/collabs/Lexi/ABC_model/results/enhancer_activity/K562/NoGeneExpr/Enhancers.H3K27ac.k562.h3k27ac.rep1.bam.CountReads.bedgraph.temp_sort_order\n",
      "BEDTools completed successfully. \n",
      "\n",
      "Regenerating /data/reddylab/Revathy/collabs/Lexi/ABC_model/results/enhancer_activity/K562/NoGeneExpr/Enhancers.H3K27ac.k562.h3k27ac.rep2.bam.CountReads.bedgraph\n",
      "Counting coverage for Enhancers.H3K27ac.k562.h3k27ac.rep2.bam\n",
      "Running: awk 'FNR==NR {x2[$1] = $0; next} $1 in x2 {print x2[$1]}' /data/reddylab/Revathy/collabs/Lexi/ABC_model/data/reference/hg38.genome <(samtools view -H /data/reddylab/Revathy/collabs/Lexi/ABC_model/data/K562/k562.h3k27ac.rep2.bam | grep SQ | cut -f 2 | cut -c 4- )  > /data/reddylab/Revathy/collabs/Lexi/ABC_model/results/enhancer_activity/K562/NoGeneExpr/Enhancers.H3K27ac.k562.h3k27ac.rep2.bam.CountReads.bedgraph.temp_sort_order\n",
      "Running: bedtools sort -faidx /data/reddylab/Revathy/collabs/Lexi/ABC_model/results/enhancer_activity/K562/NoGeneExpr/Enhancers.H3K27ac.k562.h3k27ac.rep2.bam.CountReads.bedgraph.temp_sort_order -i /data/reddylab/Revathy/collabs/Lexi/ABC_model/data/ipsc.expect_cells.protospacer_dhs.w_pos_ctrls_dhs.coordinates.bed | bedtools coverage -g /data/reddylab/Revathy/collabs/Lexi/ABC_model/results/enhancer_activity/K562/NoGeneExpr/Enhancers.H3K27ac.k562.h3k27ac.rep2.bam.CountReads.bedgraph.temp_sort_order -counts -sorted -a stdin -b /data/reddylab/Revathy/collabs/Lexi/ABC_model/data/K562/k562.h3k27ac.rep2.bam | awk '{print $1 \"\\t\" $2 \"\\t\" $3 \"\\t\" $NF}'  | bedtools sort -faidx /data/reddylab/Revathy/collabs/Lexi/ABC_model/data/reference/hg38.genome -i stdin > /data/reddylab/Revathy/collabs/Lexi/ABC_model/results/enhancer_activity/K562/NoGeneExpr/Enhancers.H3K27ac.k562.h3k27ac.rep2.bam.CountReads.bedgraph; rm /data/reddylab/Revathy/collabs/Lexi/ABC_model/results/enhancer_activity/K562/NoGeneExpr/Enhancers.H3K27ac.k562.h3k27ac.rep2.bam.CountReads.bedgraph.temp_sort_order\n",
      "BEDTools completed successfully. \n",
      "\n",
      "Regenerating /data/reddylab/Revathy/collabs/Lexi/ABC_model/results/enhancer_activity/K562/NoGeneExpr/Enhancers.H3K27ac.k562.h3k27ac.rep3.bam.CountReads.bedgraph\n",
      "Counting coverage for Enhancers.H3K27ac.k562.h3k27ac.rep3.bam\n",
      "Running: awk 'FNR==NR {x2[$1] = $0; next} $1 in x2 {print x2[$1]}' /data/reddylab/Revathy/collabs/Lexi/ABC_model/data/reference/hg38.genome <(samtools view -H /data/reddylab/Revathy/collabs/Lexi/ABC_model/data/K562/k562.h3k27ac.rep3.bam | grep SQ | cut -f 2 | cut -c 4- )  > /data/reddylab/Revathy/collabs/Lexi/ABC_model/results/enhancer_activity/K562/NoGeneExpr/Enhancers.H3K27ac.k562.h3k27ac.rep3.bam.CountReads.bedgraph.temp_sort_order\n",
      "Running: bedtools sort -faidx /data/reddylab/Revathy/collabs/Lexi/ABC_model/results/enhancer_activity/K562/NoGeneExpr/Enhancers.H3K27ac.k562.h3k27ac.rep3.bam.CountReads.bedgraph.temp_sort_order -i /data/reddylab/Revathy/collabs/Lexi/ABC_model/data/ipsc.expect_cells.protospacer_dhs.w_pos_ctrls_dhs.coordinates.bed | bedtools coverage -g /data/reddylab/Revathy/collabs/Lexi/ABC_model/results/enhancer_activity/K562/NoGeneExpr/Enhancers.H3K27ac.k562.h3k27ac.rep3.bam.CountReads.bedgraph.temp_sort_order -counts -sorted -a stdin -b /data/reddylab/Revathy/collabs/Lexi/ABC_model/data/K562/k562.h3k27ac.rep3.bam | awk '{print $1 \"\\t\" $2 \"\\t\" $3 \"\\t\" $NF}'  | bedtools sort -faidx /data/reddylab/Revathy/collabs/Lexi/ABC_model/data/reference/hg38.genome -i stdin > /data/reddylab/Revathy/collabs/Lexi/ABC_model/results/enhancer_activity/K562/NoGeneExpr/Enhancers.H3K27ac.k562.h3k27ac.rep3.bam.CountReads.bedgraph; rm /data/reddylab/Revathy/collabs/Lexi/ABC_model/results/enhancer_activity/K562/NoGeneExpr/Enhancers.H3K27ac.k562.h3k27ac.rep3.bam.CountReads.bedgraph.temp_sort_order\n",
      "BEDTools completed successfully. \n",
      "\n",
      "Feature H3K27ac completed in 123.73975324630737\n",
      "Regenerating /data/reddylab/Revathy/collabs/Lexi/ABC_model/results/enhancer_activity/K562/NoGeneExpr/Enhancers.DHS.k562.atac.rep1.bam.CountReads.bedgraph\n",
      "Counting coverage for Enhancers.DHS.k562.atac.rep1.bam\n",
      "Running: awk 'FNR==NR {x2[$1] = $0; next} $1 in x2 {print x2[$1]}' /data/reddylab/Revathy/collabs/Lexi/ABC_model/data/reference/hg38.genome <(samtools view -H /data/reddylab/Revathy/collabs/Lexi/ABC_model/data/K562/k562.atac.rep1.bam | grep SQ | cut -f 2 | cut -c 4- )  > /data/reddylab/Revathy/collabs/Lexi/ABC_model/results/enhancer_activity/K562/NoGeneExpr/Enhancers.DHS.k562.atac.rep1.bam.CountReads.bedgraph.temp_sort_order\n",
      "Running: bedtools sort -faidx /data/reddylab/Revathy/collabs/Lexi/ABC_model/results/enhancer_activity/K562/NoGeneExpr/Enhancers.DHS.k562.atac.rep1.bam.CountReads.bedgraph.temp_sort_order -i /data/reddylab/Revathy/collabs/Lexi/ABC_model/data/ipsc.expect_cells.protospacer_dhs.w_pos_ctrls_dhs.coordinates.bed | bedtools coverage -g /data/reddylab/Revathy/collabs/Lexi/ABC_model/results/enhancer_activity/K562/NoGeneExpr/Enhancers.DHS.k562.atac.rep1.bam.CountReads.bedgraph.temp_sort_order -counts -sorted -a stdin -b /data/reddylab/Revathy/collabs/Lexi/ABC_model/data/K562/k562.atac.rep1.bam | awk '{print $1 \"\\t\" $2 \"\\t\" $3 \"\\t\" $NF}'  | bedtools sort -faidx /data/reddylab/Revathy/collabs/Lexi/ABC_model/data/reference/hg38.genome -i stdin > /data/reddylab/Revathy/collabs/Lexi/ABC_model/results/enhancer_activity/K562/NoGeneExpr/Enhancers.DHS.k562.atac.rep1.bam.CountReads.bedgraph; rm /data/reddylab/Revathy/collabs/Lexi/ABC_model/results/enhancer_activity/K562/NoGeneExpr/Enhancers.DHS.k562.atac.rep1.bam.CountReads.bedgraph.temp_sort_order\n",
      "BEDTools completed successfully. \n",
      "\n",
      "Regenerating /data/reddylab/Revathy/collabs/Lexi/ABC_model/results/enhancer_activity/K562/NoGeneExpr/Enhancers.DHS.k562.atac.rep2.bam.CountReads.bedgraph\n",
      "Counting coverage for Enhancers.DHS.k562.atac.rep2.bam\n",
      "Running: awk 'FNR==NR {x2[$1] = $0; next} $1 in x2 {print x2[$1]}' /data/reddylab/Revathy/collabs/Lexi/ABC_model/data/reference/hg38.genome <(samtools view -H /data/reddylab/Revathy/collabs/Lexi/ABC_model/data/K562/k562.atac.rep2.bam | grep SQ | cut -f 2 | cut -c 4- )  > /data/reddylab/Revathy/collabs/Lexi/ABC_model/results/enhancer_activity/K562/NoGeneExpr/Enhancers.DHS.k562.atac.rep2.bam.CountReads.bedgraph.temp_sort_order\n",
      "Running: bedtools sort -faidx /data/reddylab/Revathy/collabs/Lexi/ABC_model/results/enhancer_activity/K562/NoGeneExpr/Enhancers.DHS.k562.atac.rep2.bam.CountReads.bedgraph.temp_sort_order -i /data/reddylab/Revathy/collabs/Lexi/ABC_model/data/ipsc.expect_cells.protospacer_dhs.w_pos_ctrls_dhs.coordinates.bed | bedtools coverage -g /data/reddylab/Revathy/collabs/Lexi/ABC_model/results/enhancer_activity/K562/NoGeneExpr/Enhancers.DHS.k562.atac.rep2.bam.CountReads.bedgraph.temp_sort_order -counts -sorted -a stdin -b /data/reddylab/Revathy/collabs/Lexi/ABC_model/data/K562/k562.atac.rep2.bam | awk '{print $1 \"\\t\" $2 \"\\t\" $3 \"\\t\" $NF}'  | bedtools sort -faidx /data/reddylab/Revathy/collabs/Lexi/ABC_model/data/reference/hg38.genome -i stdin > /data/reddylab/Revathy/collabs/Lexi/ABC_model/results/enhancer_activity/K562/NoGeneExpr/Enhancers.DHS.k562.atac.rep2.bam.CountReads.bedgraph; rm /data/reddylab/Revathy/collabs/Lexi/ABC_model/results/enhancer_activity/K562/NoGeneExpr/Enhancers.DHS.k562.atac.rep2.bam.CountReads.bedgraph.temp_sort_order\n",
      "BEDTools completed successfully. \n",
      "\n",
      "Regenerating /data/reddylab/Revathy/collabs/Lexi/ABC_model/results/enhancer_activity/K562/NoGeneExpr/Enhancers.DHS.k562.atac.rep3.bam.CountReads.bedgraph\n",
      "Counting coverage for Enhancers.DHS.k562.atac.rep3.bam\n",
      "Running: awk 'FNR==NR {x2[$1] = $0; next} $1 in x2 {print x2[$1]}' /data/reddylab/Revathy/collabs/Lexi/ABC_model/data/reference/hg38.genome <(samtools view -H /data/reddylab/Revathy/collabs/Lexi/ABC_model/data/K562/k562.atac.rep3.bam | grep SQ | cut -f 2 | cut -c 4- )  > /data/reddylab/Revathy/collabs/Lexi/ABC_model/results/enhancer_activity/K562/NoGeneExpr/Enhancers.DHS.k562.atac.rep3.bam.CountReads.bedgraph.temp_sort_order\n",
      "Running: bedtools sort -faidx /data/reddylab/Revathy/collabs/Lexi/ABC_model/results/enhancer_activity/K562/NoGeneExpr/Enhancers.DHS.k562.atac.rep3.bam.CountReads.bedgraph.temp_sort_order -i /data/reddylab/Revathy/collabs/Lexi/ABC_model/data/ipsc.expect_cells.protospacer_dhs.w_pos_ctrls_dhs.coordinates.bed | bedtools coverage -g /data/reddylab/Revathy/collabs/Lexi/ABC_model/results/enhancer_activity/K562/NoGeneExpr/Enhancers.DHS.k562.atac.rep3.bam.CountReads.bedgraph.temp_sort_order -counts -sorted -a stdin -b /data/reddylab/Revathy/collabs/Lexi/ABC_model/data/K562/k562.atac.rep3.bam | awk '{print $1 \"\\t\" $2 \"\\t\" $3 \"\\t\" $NF}'  | bedtools sort -faidx /data/reddylab/Revathy/collabs/Lexi/ABC_model/data/reference/hg38.genome -i stdin > /data/reddylab/Revathy/collabs/Lexi/ABC_model/results/enhancer_activity/K562/NoGeneExpr/Enhancers.DHS.k562.atac.rep3.bam.CountReads.bedgraph; rm /data/reddylab/Revathy/collabs/Lexi/ABC_model/results/enhancer_activity/K562/NoGeneExpr/Enhancers.DHS.k562.atac.rep3.bam.CountReads.bedgraph.temp_sort_order\n",
      "BEDTools completed successfully. \n",
      "\n",
      "Feature DHS completed in 821.0792665481567\n",
      "Assigning classes to enhancers\n",
      "Total enhancers: 596\n",
      "         Promoters: 63\n",
      "         Genic: 260\n",
      "         Intergenic: 273\n",
      "Neighborhoods Complete! \n",
      "\n"
     ]
    }
   ],
   "source": [
    "%%bash\n",
    "task=enhancer_activity\n",
    "mkdir -p /data/reddylab/Revathy/collabs/Lexi/ABC_model/results\n",
    "source /data/reddylab/software/miniconda3/bin/activate alex_py3\n",
    "module load bedtools2\n",
    "module load samtools\n",
    "data_dir=/data/reddylab/Revathy/collabs/Lexi/ABC_model/data/K562\n",
    "abc_dir=/data/reddylab/Revathy/collabs/Maria/ABC/ABC-Enhancer-Gene-Prediction\n",
    "\n",
    "mkdir -p /data/reddylab/Revathy/collabs/Lexi/ABC_model/results/${task}/K562/NoGeneExpr\n",
    "\n",
    "python ${abc_dir}/src/run.neighborhoods.py \\\n",
    "--candidate_enhancer_regions /data/reddylab/Revathy/collabs/Lexi/ABC_model/data/ipsc.expect_cells.protospacer_dhs.w_pos_ctrls_dhs.coordinates.bed \\\n",
    "--genes ${abc_dir}/reference/RefSeqCurated.170308.bed.CollapsedGeneBounds.bed \\\n",
    "--H3K27ac ${data_dir}/k562.h3k27ac.rep1.bam,${data_dir}/k562.h3k27ac.rep2.bam,${data_dir}/k562.h3k27ac.rep3.bam \\\n",
    "--DHS ${data_dir}/k562.atac.rep1.bam,${data_dir}/k562.atac.rep2.bam,${data_dir}/k562.atac.rep3.bam \\\n",
    "--chrom_sizes /data/reddylab/Revathy/collabs/Lexi/ABC_model/data/reference/hg38.genome \\\n",
    "--cellType K562 \\\n",
    "--outdir /data/reddylab/Revathy/collabs/Lexi/ABC_model/results/${task}/K562/NoGeneExpr"
   ]
  },
  {
   "cell_type": "code",
   "execution_count": 52,
   "metadata": {},
   "outputs": [],
   "source": [
    "%%bash\n",
    "zcat /data/gersbachlab/lrb53/SczProveIt/mhc2/analysis/abcmodel/inputs/k562/*.gz | cut -f1,2,3,4,5,6,7,12 | tail -n+3 \\\n",
    "| gzip -c \\\n",
    "> /data/reddylab/Revathy/collabs/Lexi/ABC_model/data/K562/k562.hic.bedpe.gz"
   ]
  },
  {
   "cell_type": "code",
   "execution_count": 10,
   "metadata": {},
   "outputs": [],
   "source": [
    "%%bash\n",
    "chrom=(\"chr1\" \"chr19\" \"chr20\" \"chr21\" \"chr22\" \"chrX\" \"chrY\" \"chr2\" \"chr3\" \"chr4\" \"chr5\" \"chr6\" \"chr7\" \"chr8\" \"chr9\" \"chr10\" \"chr11\" \"chr12\" \"chr13\" \"chr14\" \"chr15\" \"chr16\" \"chr17\" \"chr18\")\n",
    "for chr in \"${chrom[@]}\"\n",
    "do\n",
    "mkdir -p /data/reddylab/Revathy/collabs/Lexi/ABC_model/data/K562/HiC/${chr}\n",
    "ln -s /data/reddylab/Revathy/collabs/Lexi/ABC_model/data/K562/k562.hic.bedpe.gz \\\n",
    "/data/reddylab/Revathy/collabs/Lexi/ABC_model/data/K562/HiC/${chr}/${chr}.bedpe.gz\n",
    "done"
   ]
  },
  {
   "cell_type": "code",
   "execution_count": 8,
   "metadata": {
    "scrolled": true
   },
   "outputs": [
    {
     "name": "stdout",
     "output_type": "stream",
     "text": [
      "reading genes\n",
      "reading enhancers\n",
      "Making predictions for chromosome: chr12\n",
      "Making putative predictions table...\n",
      "Begin HiC\n",
      "Loading HiC\n",
      "0 67\n",
      "HiC added to predictions table. Elapsed time: 0.15626096725463867\n",
      "HiC Complete\n",
      "Completed chromosome: chr12. Elapsed time: 0.5024785995483398 \n",
      "\n",
      "Making predictions for chromosome: chr6\n",
      "Making putative predictions table...\n",
      "Begin HiC\n",
      "Loading HiC\n",
      "72 94\n",
      "HiC added to predictions table. Elapsed time: 0.3287363052368164\n",
      "HiC Complete\n",
      "Completed chromosome: chr6. Elapsed time: 0.9499437808990479 \n",
      "\n",
      "Making predictions for chromosome: chr2\n",
      "Making putative predictions table...\n",
      "Begin HiC\n",
      "Loading HiC\n",
      "0 79\n",
      "HiC added to predictions table. Elapsed time: 0.14385390281677246\n",
      "HiC Complete\n",
      "Completed chromosome: chr2. Elapsed time: 0.23351716995239258 \n",
      "\n",
      "Making predictions for chromosome: chr11\n",
      "Making putative predictions table...\n",
      "Begin HiC\n",
      "Loading HiC\n",
      "0 108\n",
      "HiC added to predictions table. Elapsed time: 0.14253640174865723\n",
      "HiC Complete\n",
      "Completed chromosome: chr11. Elapsed time: 0.23277640342712402 \n",
      "\n",
      "Making predictions for chromosome: chr1\n",
      "Making putative predictions table...\n",
      "Begin HiC\n",
      "Loading HiC\n",
      "0 211\n",
      "HiC added to predictions table. Elapsed time: 0.14952468872070312\n",
      "HiC Complete\n",
      "Completed chromosome: chr1. Elapsed time: 0.23855209350585938 \n",
      "\n",
      "Making predictions for chromosome: chr4\n",
      "Making putative predictions table...\n",
      "Begin HiC\n",
      "Loading HiC\n",
      "0 33\n",
      "HiC added to predictions table. Elapsed time: 0.14476752281188965\n",
      "HiC Complete\n",
      "Completed chromosome: chr4. Elapsed time: 0.24070215225219727 \n",
      "\n",
      "Making predictions for chromosome: chr3\n",
      "Making putative predictions table...\n",
      "Begin HiC\n",
      "Loading HiC\n",
      "0 91\n",
      "HiC added to predictions table. Elapsed time: 0.15695667266845703\n",
      "HiC Complete\n",
      "Completed chromosome: chr3. Elapsed time: 0.2509760856628418 \n",
      "\n",
      "Writing output files...\n",
      "Done.\n"
     ]
    }
   ],
   "source": [
    "%%bash\n",
    "source /data/reddylab/software/miniconda3/bin/activate alex_py3\n",
    "task=ABC_score\n",
    "mkdir -p /data/reddylab/Revathy/collabs/Lexi/ABC_model/results/${task}\n",
    "abc_dir=/data/reddylab/Revathy/collabs/Maria/ABC/ABC-Enhancer-Gene-Prediction\n",
    "enhancer_activity=/data/reddylab/Revathy/collabs/Lexi/ABC_model/results/enhancer_activity/K562/NoGeneExpr\n",
    "hic=/data/reddylab/Revathy/collabs/Lexi/ABC_model/data/K562/HiC\n",
    "\n",
    "cd ${enhancer_activity}\n",
    "\n",
    "python ${abc_dir}/src/predict.py \\\n",
    "--enhancers ${enhancer_activity}/EnhancerList.txt \\\n",
    "--genes ${enhancer_activity}/GeneList.txt \\\n",
    "--HiCdir ${hic} \\\n",
    "--hic_resolution 5000 \\\n",
    "--hic_type bedpe \\\n",
    "--scale_hic_using_powerlaw \\\n",
    "--threshold .02 \\\n",
    "--cellType K562 \\\n",
    "--outdir /data/reddylab/Revathy/collabs/Lexi/ABC_model/results/${task}/K562/NoGeneExpr \\\n",
    "--make_all_putative \n"
   ]
  },
  {
   "cell_type": "markdown",
   "metadata": {},
   "source": [
    "# NPC"
   ]
  },
  {
   "cell_type": "code",
   "execution_count": 2,
   "metadata": {},
   "outputs": [],
   "source": [
    "%%bash\n",
    "mkdir -p /data/reddylab/Revathy/collabs/Lexi/ABC_model/data/NPC\n",
    "mkdir -p /data/reddylab/Revathy/collabs/Lexi/ABC_model/data/NPC/bam\n",
    "cp /data/gersbachlab/lrb53/SczProveIt/mhc2/analysis/abcmodel/inputs/npc/*.bam /data/reddylab/Revathy/collabs/Lexi/ABC_model/data/NPC/bam\n",
    "module load samtools \n",
    "bam_files=$(/bin/ls /data/reddylab/Revathy/collabs/Lexi/ABC_model/data/NPC/bam/*.bam)\n",
    "for bam in ${bam_files};\n",
    "do\n",
    "samtools index -b ${bam} > ${bam/.bam/.bam.bai}\n",
    "done"
   ]
  },
  {
   "cell_type": "code",
   "execution_count": 1,
   "metadata": {},
   "outputs": [
    {
     "name": "stdout",
     "output_type": "stream",
     "text": [
      "150 /data/reddylab/Revathy/collabs/Lexi/ABC_model/data/NPC/npc.mean_tpms_bulk.txt\r\n"
     ]
    }
   ],
   "source": [
    "!wc -l /data/reddylab/Revathy/collabs/Lexi/ABC_model/data/NPC/npc.mean_tpms_bulk.txt"
   ]
  },
  {
   "cell_type": "code",
   "execution_count": 2,
   "metadata": {},
   "outputs": [],
   "source": [
    "import pandas as pd\n",
    "\n",
    "gene_tpm = pd.read_csv('/data/reddylab/Revathy/collabs/Lexi/ABC_model/data/NPC/npc.mean_tpms_bulk.txt', sep='\\t', names=['GeneName','tpm'])\n",
    "gene_annotation = pd.read_csv('/data/reddylab/Revathy/collabs/Maria/ABC/ABC-Enhancer-Gene-Prediction/reference/RefSeqCurated.170308.bed.CollapsedGeneBounds.bed', sep='\\t',\n",
    "                             names=['chr','start','end','GeneName','number','strand'])\n",
    "gene_bed = gene_tpm.merge(gene_annotation, on='GeneName', how='inner')\n",
    "cols = ['start','end','number']\n",
    "gene_bed[cols] = gene_bed[cols].apply(pd.to_numeric, errors='coerce')\n",
    "gene_bed[['chr','start','end','GeneName','number','strand']].to_csv('/data/reddylab/Revathy/collabs/Lexi/ABC_model/data/NPC/NPC.tpm_gene_list.coordinates.bed', sep='\\t', index=False, header=None)\n"
   ]
  },
  {
   "cell_type": "code",
   "execution_count": 9,
   "metadata": {},
   "outputs": [
    {
     "name": "stdout",
     "output_type": "stream",
     "text": [
      "Namespace(ATAC='', DHS='/data/reddylab/Revathy/collabs/Lexi/ABC_model/data/NPC/bam/npc.atac.rep1.bam,/data/reddylab/Revathy/collabs/Lexi/ABC_model/data/NPC/bam/npc.atac.rep2.bam', H3K27ac='/data/reddylab/Revathy/collabs/Lexi/ABC_model/data/NPC/bam/npc.h3k27ac.rep1.bam,/data/reddylab/Revathy/collabs/Lexi/ABC_model/data/NPC/bam/npc.h3k27ac.rep2.bam,/data/reddylab/Revathy/collabs/Lexi/ABC_model/data/NPC/bam/npc.h3k27ac.rep3.bam', candidate_enhancer_regions='/data/reddylab/Revathy/collabs/Lexi/ABC_model/data/ipsc.expect_cells.protospacer_dhs.w_pos_ctrls_dhs.coordinates.bed', cellType='NPC', chrom_sizes='/data/reddylab/Revathy/collabs/Lexi/ABC_model/data/reference/hg38.genome', default_accessibility_feature=None, enhancer_class_override=None, expression_table='', gene_name_annotations='symbol', genes='/data/reddylab/Revathy/collabs/Maria/ABC/ABC-Enhancer-Gene-Prediction/reference/RefSeqCurated.170308.bed.CollapsedGeneBounds.bed', genes_for_class_assignment=None, outdir='/data/reddylab/Revathy/collabs/Lexi/ABC_model/results/enhancer_activity/NPC/NoGeneExpr', primary_gene_identifier='symbol', qnorm=None, skip_gene_counts=False, skip_rpkm_quantile=False, supplementary_features=None, tss_slop_for_class_assignment=500, ubiquitously_expressed_genes=None, use_secondary_counting_method=False)\n",
      "Running command: bedtools sort -faidx /data/reddylab/Revathy/collabs/Lexi/ABC_model/data/reference/hg38.genome -i /data/reddylab/Revathy/collabs/Lexi/ABC_model/results/enhancer_activity/NPC/NoGeneExpr/GeneList.TSS1kb.bed > /data/reddylab/Revathy/collabs/Lexi/ABC_model/results/enhancer_activity/NPC/NoGeneExpr/GeneList.TSS1kb.bed.sorted; mv /data/reddylab/Revathy/collabs/Lexi/ABC_model/results/enhancer_activity/NPC/NoGeneExpr/GeneList.TSS1kb.bed.sorted /data/reddylab/Revathy/collabs/Lexi/ABC_model/results/enhancer_activity/NPC/NoGeneExpr/GeneList.TSS1kb.bed\n",
      "Regenerating /data/reddylab/Revathy/collabs/Lexi/ABC_model/results/enhancer_activity/NPC/NoGeneExpr/Genes.H3K27ac.npc.h3k27ac.rep1.bam.CountReads.bedgraph\n",
      "Counting coverage for Genes.H3K27ac.npc.h3k27ac.rep1.bam\n",
      "Running: awk 'FNR==NR {x2[$1] = $0; next} $1 in x2 {print x2[$1]}' /data/reddylab/Revathy/collabs/Lexi/ABC_model/data/reference/hg38.genome <(samtools view -H /data/reddylab/Revathy/collabs/Lexi/ABC_model/data/NPC/bam/npc.h3k27ac.rep1.bam | grep SQ | cut -f 2 | cut -c 4- )  > /data/reddylab/Revathy/collabs/Lexi/ABC_model/results/enhancer_activity/NPC/NoGeneExpr/Genes.H3K27ac.npc.h3k27ac.rep1.bam.CountReads.bedgraph.temp_sort_order\n",
      "Running: bedtools sort -faidx /data/reddylab/Revathy/collabs/Lexi/ABC_model/results/enhancer_activity/NPC/NoGeneExpr/Genes.H3K27ac.npc.h3k27ac.rep1.bam.CountReads.bedgraph.temp_sort_order -i /data/reddylab/Revathy/collabs/Lexi/ABC_model/results/enhancer_activity/NPC/NoGeneExpr/GeneList.bed | bedtools coverage -g /data/reddylab/Revathy/collabs/Lexi/ABC_model/results/enhancer_activity/NPC/NoGeneExpr/Genes.H3K27ac.npc.h3k27ac.rep1.bam.CountReads.bedgraph.temp_sort_order -counts -sorted -a stdin -b /data/reddylab/Revathy/collabs/Lexi/ABC_model/data/NPC/bam/npc.h3k27ac.rep1.bam | awk '{print $1 \"\\t\" $2 \"\\t\" $3 \"\\t\" $NF}'  | bedtools sort -faidx /data/reddylab/Revathy/collabs/Lexi/ABC_model/data/reference/hg38.genome -i stdin > /data/reddylab/Revathy/collabs/Lexi/ABC_model/results/enhancer_activity/NPC/NoGeneExpr/Genes.H3K27ac.npc.h3k27ac.rep1.bam.CountReads.bedgraph; rm /data/reddylab/Revathy/collabs/Lexi/ABC_model/results/enhancer_activity/NPC/NoGeneExpr/Genes.H3K27ac.npc.h3k27ac.rep1.bam.CountReads.bedgraph.temp_sort_order\n",
      "BEDTools completed successfully. \n",
      "\n",
      "Regenerating /data/reddylab/Revathy/collabs/Lexi/ABC_model/results/enhancer_activity/NPC/NoGeneExpr/Genes.H3K27ac.npc.h3k27ac.rep2.bam.CountReads.bedgraph\n",
      "Counting coverage for Genes.H3K27ac.npc.h3k27ac.rep2.bam\n",
      "Running: awk 'FNR==NR {x2[$1] = $0; next} $1 in x2 {print x2[$1]}' /data/reddylab/Revathy/collabs/Lexi/ABC_model/data/reference/hg38.genome <(samtools view -H /data/reddylab/Revathy/collabs/Lexi/ABC_model/data/NPC/bam/npc.h3k27ac.rep2.bam | grep SQ | cut -f 2 | cut -c 4- )  > /data/reddylab/Revathy/collabs/Lexi/ABC_model/results/enhancer_activity/NPC/NoGeneExpr/Genes.H3K27ac.npc.h3k27ac.rep2.bam.CountReads.bedgraph.temp_sort_order\n",
      "Running: bedtools sort -faidx /data/reddylab/Revathy/collabs/Lexi/ABC_model/results/enhancer_activity/NPC/NoGeneExpr/Genes.H3K27ac.npc.h3k27ac.rep2.bam.CountReads.bedgraph.temp_sort_order -i /data/reddylab/Revathy/collabs/Lexi/ABC_model/results/enhancer_activity/NPC/NoGeneExpr/GeneList.bed | bedtools coverage -g /data/reddylab/Revathy/collabs/Lexi/ABC_model/results/enhancer_activity/NPC/NoGeneExpr/Genes.H3K27ac.npc.h3k27ac.rep2.bam.CountReads.bedgraph.temp_sort_order -counts -sorted -a stdin -b /data/reddylab/Revathy/collabs/Lexi/ABC_model/data/NPC/bam/npc.h3k27ac.rep2.bam | awk '{print $1 \"\\t\" $2 \"\\t\" $3 \"\\t\" $NF}'  | bedtools sort -faidx /data/reddylab/Revathy/collabs/Lexi/ABC_model/data/reference/hg38.genome -i stdin > /data/reddylab/Revathy/collabs/Lexi/ABC_model/results/enhancer_activity/NPC/NoGeneExpr/Genes.H3K27ac.npc.h3k27ac.rep2.bam.CountReads.bedgraph; rm /data/reddylab/Revathy/collabs/Lexi/ABC_model/results/enhancer_activity/NPC/NoGeneExpr/Genes.H3K27ac.npc.h3k27ac.rep2.bam.CountReads.bedgraph.temp_sort_order\n",
      "BEDTools completed successfully. \n",
      "\n",
      "Regenerating /data/reddylab/Revathy/collabs/Lexi/ABC_model/results/enhancer_activity/NPC/NoGeneExpr/Genes.H3K27ac.npc.h3k27ac.rep3.bam.CountReads.bedgraph\n",
      "Counting coverage for Genes.H3K27ac.npc.h3k27ac.rep3.bam\n",
      "Running: awk 'FNR==NR {x2[$1] = $0; next} $1 in x2 {print x2[$1]}' /data/reddylab/Revathy/collabs/Lexi/ABC_model/data/reference/hg38.genome <(samtools view -H /data/reddylab/Revathy/collabs/Lexi/ABC_model/data/NPC/bam/npc.h3k27ac.rep3.bam | grep SQ | cut -f 2 | cut -c 4- )  > /data/reddylab/Revathy/collabs/Lexi/ABC_model/results/enhancer_activity/NPC/NoGeneExpr/Genes.H3K27ac.npc.h3k27ac.rep3.bam.CountReads.bedgraph.temp_sort_order\n",
      "Running: bedtools sort -faidx /data/reddylab/Revathy/collabs/Lexi/ABC_model/results/enhancer_activity/NPC/NoGeneExpr/Genes.H3K27ac.npc.h3k27ac.rep3.bam.CountReads.bedgraph.temp_sort_order -i /data/reddylab/Revathy/collabs/Lexi/ABC_model/results/enhancer_activity/NPC/NoGeneExpr/GeneList.bed | bedtools coverage -g /data/reddylab/Revathy/collabs/Lexi/ABC_model/results/enhancer_activity/NPC/NoGeneExpr/Genes.H3K27ac.npc.h3k27ac.rep3.bam.CountReads.bedgraph.temp_sort_order -counts -sorted -a stdin -b /data/reddylab/Revathy/collabs/Lexi/ABC_model/data/NPC/bam/npc.h3k27ac.rep3.bam | awk '{print $1 \"\\t\" $2 \"\\t\" $3 \"\\t\" $NF}'  | bedtools sort -faidx /data/reddylab/Revathy/collabs/Lexi/ABC_model/data/reference/hg38.genome -i stdin > /data/reddylab/Revathy/collabs/Lexi/ABC_model/results/enhancer_activity/NPC/NoGeneExpr/Genes.H3K27ac.npc.h3k27ac.rep3.bam.CountReads.bedgraph; rm /data/reddylab/Revathy/collabs/Lexi/ABC_model/results/enhancer_activity/NPC/NoGeneExpr/Genes.H3K27ac.npc.h3k27ac.rep3.bam.CountReads.bedgraph.temp_sort_order\n",
      "BEDTools completed successfully. \n",
      "\n",
      "Feature H3K27ac completed in 275.0512230396271\n",
      "Regenerating /data/reddylab/Revathy/collabs/Lexi/ABC_model/results/enhancer_activity/NPC/NoGeneExpr/Genes.DHS.npc.atac.rep1.bam.CountReads.bedgraph\n",
      "Counting coverage for Genes.DHS.npc.atac.rep1.bam\n",
      "Running: awk 'FNR==NR {x2[$1] = $0; next} $1 in x2 {print x2[$1]}' /data/reddylab/Revathy/collabs/Lexi/ABC_model/data/reference/hg38.genome <(samtools view -H /data/reddylab/Revathy/collabs/Lexi/ABC_model/data/NPC/bam/npc.atac.rep1.bam | grep SQ | cut -f 2 | cut -c 4- )  > /data/reddylab/Revathy/collabs/Lexi/ABC_model/results/enhancer_activity/NPC/NoGeneExpr/Genes.DHS.npc.atac.rep1.bam.CountReads.bedgraph.temp_sort_order\n",
      "Running: bedtools sort -faidx /data/reddylab/Revathy/collabs/Lexi/ABC_model/results/enhancer_activity/NPC/NoGeneExpr/Genes.DHS.npc.atac.rep1.bam.CountReads.bedgraph.temp_sort_order -i /data/reddylab/Revathy/collabs/Lexi/ABC_model/results/enhancer_activity/NPC/NoGeneExpr/GeneList.bed | bedtools coverage -g /data/reddylab/Revathy/collabs/Lexi/ABC_model/results/enhancer_activity/NPC/NoGeneExpr/Genes.DHS.npc.atac.rep1.bam.CountReads.bedgraph.temp_sort_order -counts -sorted -a stdin -b /data/reddylab/Revathy/collabs/Lexi/ABC_model/data/NPC/bam/npc.atac.rep1.bam | awk '{print $1 \"\\t\" $2 \"\\t\" $3 \"\\t\" $NF}'  | bedtools sort -faidx /data/reddylab/Revathy/collabs/Lexi/ABC_model/data/reference/hg38.genome -i stdin > /data/reddylab/Revathy/collabs/Lexi/ABC_model/results/enhancer_activity/NPC/NoGeneExpr/Genes.DHS.npc.atac.rep1.bam.CountReads.bedgraph; rm /data/reddylab/Revathy/collabs/Lexi/ABC_model/results/enhancer_activity/NPC/NoGeneExpr/Genes.DHS.npc.atac.rep1.bam.CountReads.bedgraph.temp_sort_order\n",
      "BEDTools completed successfully. \n",
      "\n",
      "Regenerating /data/reddylab/Revathy/collabs/Lexi/ABC_model/results/enhancer_activity/NPC/NoGeneExpr/Genes.DHS.npc.atac.rep2.bam.CountReads.bedgraph\n",
      "Counting coverage for Genes.DHS.npc.atac.rep2.bam\n",
      "Running: awk 'FNR==NR {x2[$1] = $0; next} $1 in x2 {print x2[$1]}' /data/reddylab/Revathy/collabs/Lexi/ABC_model/data/reference/hg38.genome <(samtools view -H /data/reddylab/Revathy/collabs/Lexi/ABC_model/data/NPC/bam/npc.atac.rep2.bam | grep SQ | cut -f 2 | cut -c 4- )  > /data/reddylab/Revathy/collabs/Lexi/ABC_model/results/enhancer_activity/NPC/NoGeneExpr/Genes.DHS.npc.atac.rep2.bam.CountReads.bedgraph.temp_sort_order\n",
      "Running: bedtools sort -faidx /data/reddylab/Revathy/collabs/Lexi/ABC_model/results/enhancer_activity/NPC/NoGeneExpr/Genes.DHS.npc.atac.rep2.bam.CountReads.bedgraph.temp_sort_order -i /data/reddylab/Revathy/collabs/Lexi/ABC_model/results/enhancer_activity/NPC/NoGeneExpr/GeneList.bed | bedtools coverage -g /data/reddylab/Revathy/collabs/Lexi/ABC_model/results/enhancer_activity/NPC/NoGeneExpr/Genes.DHS.npc.atac.rep2.bam.CountReads.bedgraph.temp_sort_order -counts -sorted -a stdin -b /data/reddylab/Revathy/collabs/Lexi/ABC_model/data/NPC/bam/npc.atac.rep2.bam | awk '{print $1 \"\\t\" $2 \"\\t\" $3 \"\\t\" $NF}'  | bedtools sort -faidx /data/reddylab/Revathy/collabs/Lexi/ABC_model/data/reference/hg38.genome -i stdin > /data/reddylab/Revathy/collabs/Lexi/ABC_model/results/enhancer_activity/NPC/NoGeneExpr/Genes.DHS.npc.atac.rep2.bam.CountReads.bedgraph; rm /data/reddylab/Revathy/collabs/Lexi/ABC_model/results/enhancer_activity/NPC/NoGeneExpr/Genes.DHS.npc.atac.rep2.bam.CountReads.bedgraph.temp_sort_order\n",
      "BEDTools completed successfully. \n",
      "\n",
      "Feature DHS completed in 200.16369247436523\n",
      "Regenerating /data/reddylab/Revathy/collabs/Lexi/ABC_model/results/enhancer_activity/NPC/NoGeneExpr/Genes.TSS1kb.H3K27ac.npc.h3k27ac.rep1.bam.CountReads.bedgraph\n",
      "Counting coverage for Genes.TSS1kb.H3K27ac.npc.h3k27ac.rep1.bam\n",
      "Running: awk 'FNR==NR {x2[$1] = $0; next} $1 in x2 {print x2[$1]}' /data/reddylab/Revathy/collabs/Lexi/ABC_model/data/reference/hg38.genome <(samtools view -H /data/reddylab/Revathy/collabs/Lexi/ABC_model/data/NPC/bam/npc.h3k27ac.rep1.bam | grep SQ | cut -f 2 | cut -c 4- )  > /data/reddylab/Revathy/collabs/Lexi/ABC_model/results/enhancer_activity/NPC/NoGeneExpr/Genes.TSS1kb.H3K27ac.npc.h3k27ac.rep1.bam.CountReads.bedgraph.temp_sort_order\n",
      "Running: bedtools sort -faidx /data/reddylab/Revathy/collabs/Lexi/ABC_model/results/enhancer_activity/NPC/NoGeneExpr/Genes.TSS1kb.H3K27ac.npc.h3k27ac.rep1.bam.CountReads.bedgraph.temp_sort_order -i /data/reddylab/Revathy/collabs/Lexi/ABC_model/results/enhancer_activity/NPC/NoGeneExpr/GeneList.TSS1kb.bed | bedtools coverage -g /data/reddylab/Revathy/collabs/Lexi/ABC_model/results/enhancer_activity/NPC/NoGeneExpr/Genes.TSS1kb.H3K27ac.npc.h3k27ac.rep1.bam.CountReads.bedgraph.temp_sort_order -counts -sorted -a stdin -b /data/reddylab/Revathy/collabs/Lexi/ABC_model/data/NPC/bam/npc.h3k27ac.rep1.bam | awk '{print $1 \"\\t\" $2 \"\\t\" $3 \"\\t\" $NF}'  | bedtools sort -faidx /data/reddylab/Revathy/collabs/Lexi/ABC_model/data/reference/hg38.genome -i stdin > /data/reddylab/Revathy/collabs/Lexi/ABC_model/results/enhancer_activity/NPC/NoGeneExpr/Genes.TSS1kb.H3K27ac.npc.h3k27ac.rep1.bam.CountReads.bedgraph; rm /data/reddylab/Revathy/collabs/Lexi/ABC_model/results/enhancer_activity/NPC/NoGeneExpr/Genes.TSS1kb.H3K27ac.npc.h3k27ac.rep1.bam.CountReads.bedgraph.temp_sort_order\n",
      "BEDTools completed successfully. \n",
      "\n",
      "Regenerating /data/reddylab/Revathy/collabs/Lexi/ABC_model/results/enhancer_activity/NPC/NoGeneExpr/Genes.TSS1kb.H3K27ac.npc.h3k27ac.rep2.bam.CountReads.bedgraph\n",
      "Counting coverage for Genes.TSS1kb.H3K27ac.npc.h3k27ac.rep2.bam\n",
      "Running: awk 'FNR==NR {x2[$1] = $0; next} $1 in x2 {print x2[$1]}' /data/reddylab/Revathy/collabs/Lexi/ABC_model/data/reference/hg38.genome <(samtools view -H /data/reddylab/Revathy/collabs/Lexi/ABC_model/data/NPC/bam/npc.h3k27ac.rep2.bam | grep SQ | cut -f 2 | cut -c 4- )  > /data/reddylab/Revathy/collabs/Lexi/ABC_model/results/enhancer_activity/NPC/NoGeneExpr/Genes.TSS1kb.H3K27ac.npc.h3k27ac.rep2.bam.CountReads.bedgraph.temp_sort_order\n",
      "Running: bedtools sort -faidx /data/reddylab/Revathy/collabs/Lexi/ABC_model/results/enhancer_activity/NPC/NoGeneExpr/Genes.TSS1kb.H3K27ac.npc.h3k27ac.rep2.bam.CountReads.bedgraph.temp_sort_order -i /data/reddylab/Revathy/collabs/Lexi/ABC_model/results/enhancer_activity/NPC/NoGeneExpr/GeneList.TSS1kb.bed | bedtools coverage -g /data/reddylab/Revathy/collabs/Lexi/ABC_model/results/enhancer_activity/NPC/NoGeneExpr/Genes.TSS1kb.H3K27ac.npc.h3k27ac.rep2.bam.CountReads.bedgraph.temp_sort_order -counts -sorted -a stdin -b /data/reddylab/Revathy/collabs/Lexi/ABC_model/data/NPC/bam/npc.h3k27ac.rep2.bam | awk '{print $1 \"\\t\" $2 \"\\t\" $3 \"\\t\" $NF}'  | bedtools sort -faidx /data/reddylab/Revathy/collabs/Lexi/ABC_model/data/reference/hg38.genome -i stdin > /data/reddylab/Revathy/collabs/Lexi/ABC_model/results/enhancer_activity/NPC/NoGeneExpr/Genes.TSS1kb.H3K27ac.npc.h3k27ac.rep2.bam.CountReads.bedgraph; rm /data/reddylab/Revathy/collabs/Lexi/ABC_model/results/enhancer_activity/NPC/NoGeneExpr/Genes.TSS1kb.H3K27ac.npc.h3k27ac.rep2.bam.CountReads.bedgraph.temp_sort_order\n",
      "BEDTools completed successfully. \n",
      "\n",
      "Regenerating /data/reddylab/Revathy/collabs/Lexi/ABC_model/results/enhancer_activity/NPC/NoGeneExpr/Genes.TSS1kb.H3K27ac.npc.h3k27ac.rep3.bam.CountReads.bedgraph\n",
      "Counting coverage for Genes.TSS1kb.H3K27ac.npc.h3k27ac.rep3.bam\n",
      "Running: awk 'FNR==NR {x2[$1] = $0; next} $1 in x2 {print x2[$1]}' /data/reddylab/Revathy/collabs/Lexi/ABC_model/data/reference/hg38.genome <(samtools view -H /data/reddylab/Revathy/collabs/Lexi/ABC_model/data/NPC/bam/npc.h3k27ac.rep3.bam | grep SQ | cut -f 2 | cut -c 4- )  > /data/reddylab/Revathy/collabs/Lexi/ABC_model/results/enhancer_activity/NPC/NoGeneExpr/Genes.TSS1kb.H3K27ac.npc.h3k27ac.rep3.bam.CountReads.bedgraph.temp_sort_order\n",
      "Running: bedtools sort -faidx /data/reddylab/Revathy/collabs/Lexi/ABC_model/results/enhancer_activity/NPC/NoGeneExpr/Genes.TSS1kb.H3K27ac.npc.h3k27ac.rep3.bam.CountReads.bedgraph.temp_sort_order -i /data/reddylab/Revathy/collabs/Lexi/ABC_model/results/enhancer_activity/NPC/NoGeneExpr/GeneList.TSS1kb.bed | bedtools coverage -g /data/reddylab/Revathy/collabs/Lexi/ABC_model/results/enhancer_activity/NPC/NoGeneExpr/Genes.TSS1kb.H3K27ac.npc.h3k27ac.rep3.bam.CountReads.bedgraph.temp_sort_order -counts -sorted -a stdin -b /data/reddylab/Revathy/collabs/Lexi/ABC_model/data/NPC/bam/npc.h3k27ac.rep3.bam | awk '{print $1 \"\\t\" $2 \"\\t\" $3 \"\\t\" $NF}'  | bedtools sort -faidx /data/reddylab/Revathy/collabs/Lexi/ABC_model/data/reference/hg38.genome -i stdin > /data/reddylab/Revathy/collabs/Lexi/ABC_model/results/enhancer_activity/NPC/NoGeneExpr/Genes.TSS1kb.H3K27ac.npc.h3k27ac.rep3.bam.CountReads.bedgraph; rm /data/reddylab/Revathy/collabs/Lexi/ABC_model/results/enhancer_activity/NPC/NoGeneExpr/Genes.TSS1kb.H3K27ac.npc.h3k27ac.rep3.bam.CountReads.bedgraph.temp_sort_order\n",
      "BEDTools completed successfully. \n",
      "\n",
      "Feature H3K27ac completed in 220.71426439285278\n",
      "Regenerating /data/reddylab/Revathy/collabs/Lexi/ABC_model/results/enhancer_activity/NPC/NoGeneExpr/Genes.TSS1kb.DHS.npc.atac.rep1.bam.CountReads.bedgraph\n",
      "Counting coverage for Genes.TSS1kb.DHS.npc.atac.rep1.bam\n",
      "Running: awk 'FNR==NR {x2[$1] = $0; next} $1 in x2 {print x2[$1]}' /data/reddylab/Revathy/collabs/Lexi/ABC_model/data/reference/hg38.genome <(samtools view -H /data/reddylab/Revathy/collabs/Lexi/ABC_model/data/NPC/bam/npc.atac.rep1.bam | grep SQ | cut -f 2 | cut -c 4- )  > /data/reddylab/Revathy/collabs/Lexi/ABC_model/results/enhancer_activity/NPC/NoGeneExpr/Genes.TSS1kb.DHS.npc.atac.rep1.bam.CountReads.bedgraph.temp_sort_order\n",
      "Running: bedtools sort -faidx /data/reddylab/Revathy/collabs/Lexi/ABC_model/results/enhancer_activity/NPC/NoGeneExpr/Genes.TSS1kb.DHS.npc.atac.rep1.bam.CountReads.bedgraph.temp_sort_order -i /data/reddylab/Revathy/collabs/Lexi/ABC_model/results/enhancer_activity/NPC/NoGeneExpr/GeneList.TSS1kb.bed | bedtools coverage -g /data/reddylab/Revathy/collabs/Lexi/ABC_model/results/enhancer_activity/NPC/NoGeneExpr/Genes.TSS1kb.DHS.npc.atac.rep1.bam.CountReads.bedgraph.temp_sort_order -counts -sorted -a stdin -b /data/reddylab/Revathy/collabs/Lexi/ABC_model/data/NPC/bam/npc.atac.rep1.bam | awk '{print $1 \"\\t\" $2 \"\\t\" $3 \"\\t\" $NF}'  | bedtools sort -faidx /data/reddylab/Revathy/collabs/Lexi/ABC_model/data/reference/hg38.genome -i stdin > /data/reddylab/Revathy/collabs/Lexi/ABC_model/results/enhancer_activity/NPC/NoGeneExpr/Genes.TSS1kb.DHS.npc.atac.rep1.bam.CountReads.bedgraph; rm /data/reddylab/Revathy/collabs/Lexi/ABC_model/results/enhancer_activity/NPC/NoGeneExpr/Genes.TSS1kb.DHS.npc.atac.rep1.bam.CountReads.bedgraph.temp_sort_order\n",
      "BEDTools completed successfully. \n",
      "\n",
      "Regenerating /data/reddylab/Revathy/collabs/Lexi/ABC_model/results/enhancer_activity/NPC/NoGeneExpr/Genes.TSS1kb.DHS.npc.atac.rep2.bam.CountReads.bedgraph\n",
      "Counting coverage for Genes.TSS1kb.DHS.npc.atac.rep2.bam\n",
      "Running: awk 'FNR==NR {x2[$1] = $0; next} $1 in x2 {print x2[$1]}' /data/reddylab/Revathy/collabs/Lexi/ABC_model/data/reference/hg38.genome <(samtools view -H /data/reddylab/Revathy/collabs/Lexi/ABC_model/data/NPC/bam/npc.atac.rep2.bam | grep SQ | cut -f 2 | cut -c 4- )  > /data/reddylab/Revathy/collabs/Lexi/ABC_model/results/enhancer_activity/NPC/NoGeneExpr/Genes.TSS1kb.DHS.npc.atac.rep2.bam.CountReads.bedgraph.temp_sort_order\n",
      "Running: bedtools sort -faidx /data/reddylab/Revathy/collabs/Lexi/ABC_model/results/enhancer_activity/NPC/NoGeneExpr/Genes.TSS1kb.DHS.npc.atac.rep2.bam.CountReads.bedgraph.temp_sort_order -i /data/reddylab/Revathy/collabs/Lexi/ABC_model/results/enhancer_activity/NPC/NoGeneExpr/GeneList.TSS1kb.bed | bedtools coverage -g /data/reddylab/Revathy/collabs/Lexi/ABC_model/results/enhancer_activity/NPC/NoGeneExpr/Genes.TSS1kb.DHS.npc.atac.rep2.bam.CountReads.bedgraph.temp_sort_order -counts -sorted -a stdin -b /data/reddylab/Revathy/collabs/Lexi/ABC_model/data/NPC/bam/npc.atac.rep2.bam | awk '{print $1 \"\\t\" $2 \"\\t\" $3 \"\\t\" $NF}'  | bedtools sort -faidx /data/reddylab/Revathy/collabs/Lexi/ABC_model/data/reference/hg38.genome -i stdin > /data/reddylab/Revathy/collabs/Lexi/ABC_model/results/enhancer_activity/NPC/NoGeneExpr/Genes.TSS1kb.DHS.npc.atac.rep2.bam.CountReads.bedgraph; rm /data/reddylab/Revathy/collabs/Lexi/ABC_model/results/enhancer_activity/NPC/NoGeneExpr/Genes.TSS1kb.DHS.npc.atac.rep2.bam.CountReads.bedgraph.temp_sort_order\n",
      "BEDTools completed successfully. \n",
      "\n",
      "Feature DHS completed in 154.69822216033936\n",
      "Regenerating /data/reddylab/Revathy/collabs/Lexi/ABC_model/results/enhancer_activity/NPC/NoGeneExpr/Enhancers.H3K27ac.npc.h3k27ac.rep1.bam.CountReads.bedgraph\n",
      "Counting coverage for Enhancers.H3K27ac.npc.h3k27ac.rep1.bam\n",
      "Running: awk 'FNR==NR {x2[$1] = $0; next} $1 in x2 {print x2[$1]}' /data/reddylab/Revathy/collabs/Lexi/ABC_model/data/reference/hg38.genome <(samtools view -H /data/reddylab/Revathy/collabs/Lexi/ABC_model/data/NPC/bam/npc.h3k27ac.rep1.bam | grep SQ | cut -f 2 | cut -c 4- )  > /data/reddylab/Revathy/collabs/Lexi/ABC_model/results/enhancer_activity/NPC/NoGeneExpr/Enhancers.H3K27ac.npc.h3k27ac.rep1.bam.CountReads.bedgraph.temp_sort_order\n",
      "Running: bedtools sort -faidx /data/reddylab/Revathy/collabs/Lexi/ABC_model/results/enhancer_activity/NPC/NoGeneExpr/Enhancers.H3K27ac.npc.h3k27ac.rep1.bam.CountReads.bedgraph.temp_sort_order -i /data/reddylab/Revathy/collabs/Lexi/ABC_model/data/ipsc.expect_cells.protospacer_dhs.w_pos_ctrls_dhs.coordinates.bed | bedtools coverage -g /data/reddylab/Revathy/collabs/Lexi/ABC_model/results/enhancer_activity/NPC/NoGeneExpr/Enhancers.H3K27ac.npc.h3k27ac.rep1.bam.CountReads.bedgraph.temp_sort_order -counts -sorted -a stdin -b /data/reddylab/Revathy/collabs/Lexi/ABC_model/data/NPC/bam/npc.h3k27ac.rep1.bam | awk '{print $1 \"\\t\" $2 \"\\t\" $3 \"\\t\" $NF}'  | bedtools sort -faidx /data/reddylab/Revathy/collabs/Lexi/ABC_model/data/reference/hg38.genome -i stdin > /data/reddylab/Revathy/collabs/Lexi/ABC_model/results/enhancer_activity/NPC/NoGeneExpr/Enhancers.H3K27ac.npc.h3k27ac.rep1.bam.CountReads.bedgraph; rm /data/reddylab/Revathy/collabs/Lexi/ABC_model/results/enhancer_activity/NPC/NoGeneExpr/Enhancers.H3K27ac.npc.h3k27ac.rep1.bam.CountReads.bedgraph.temp_sort_order\n",
      "BEDTools completed successfully. \n",
      "\n",
      "Regenerating /data/reddylab/Revathy/collabs/Lexi/ABC_model/results/enhancer_activity/NPC/NoGeneExpr/Enhancers.H3K27ac.npc.h3k27ac.rep2.bam.CountReads.bedgraph\n",
      "Counting coverage for Enhancers.H3K27ac.npc.h3k27ac.rep2.bam\n",
      "Running: awk 'FNR==NR {x2[$1] = $0; next} $1 in x2 {print x2[$1]}' /data/reddylab/Revathy/collabs/Lexi/ABC_model/data/reference/hg38.genome <(samtools view -H /data/reddylab/Revathy/collabs/Lexi/ABC_model/data/NPC/bam/npc.h3k27ac.rep2.bam | grep SQ | cut -f 2 | cut -c 4- )  > /data/reddylab/Revathy/collabs/Lexi/ABC_model/results/enhancer_activity/NPC/NoGeneExpr/Enhancers.H3K27ac.npc.h3k27ac.rep2.bam.CountReads.bedgraph.temp_sort_order\n",
      "Running: bedtools sort -faidx /data/reddylab/Revathy/collabs/Lexi/ABC_model/results/enhancer_activity/NPC/NoGeneExpr/Enhancers.H3K27ac.npc.h3k27ac.rep2.bam.CountReads.bedgraph.temp_sort_order -i /data/reddylab/Revathy/collabs/Lexi/ABC_model/data/ipsc.expect_cells.protospacer_dhs.w_pos_ctrls_dhs.coordinates.bed | bedtools coverage -g /data/reddylab/Revathy/collabs/Lexi/ABC_model/results/enhancer_activity/NPC/NoGeneExpr/Enhancers.H3K27ac.npc.h3k27ac.rep2.bam.CountReads.bedgraph.temp_sort_order -counts -sorted -a stdin -b /data/reddylab/Revathy/collabs/Lexi/ABC_model/data/NPC/bam/npc.h3k27ac.rep2.bam | awk '{print $1 \"\\t\" $2 \"\\t\" $3 \"\\t\" $NF}'  | bedtools sort -faidx /data/reddylab/Revathy/collabs/Lexi/ABC_model/data/reference/hg38.genome -i stdin > /data/reddylab/Revathy/collabs/Lexi/ABC_model/results/enhancer_activity/NPC/NoGeneExpr/Enhancers.H3K27ac.npc.h3k27ac.rep2.bam.CountReads.bedgraph; rm /data/reddylab/Revathy/collabs/Lexi/ABC_model/results/enhancer_activity/NPC/NoGeneExpr/Enhancers.H3K27ac.npc.h3k27ac.rep2.bam.CountReads.bedgraph.temp_sort_order\n",
      "BEDTools completed successfully. \n",
      "\n",
      "Regenerating /data/reddylab/Revathy/collabs/Lexi/ABC_model/results/enhancer_activity/NPC/NoGeneExpr/Enhancers.H3K27ac.npc.h3k27ac.rep3.bam.CountReads.bedgraph\n",
      "Counting coverage for Enhancers.H3K27ac.npc.h3k27ac.rep3.bam\n",
      "Running: awk 'FNR==NR {x2[$1] = $0; next} $1 in x2 {print x2[$1]}' /data/reddylab/Revathy/collabs/Lexi/ABC_model/data/reference/hg38.genome <(samtools view -H /data/reddylab/Revathy/collabs/Lexi/ABC_model/data/NPC/bam/npc.h3k27ac.rep3.bam | grep SQ | cut -f 2 | cut -c 4- )  > /data/reddylab/Revathy/collabs/Lexi/ABC_model/results/enhancer_activity/NPC/NoGeneExpr/Enhancers.H3K27ac.npc.h3k27ac.rep3.bam.CountReads.bedgraph.temp_sort_order\n",
      "Running: bedtools sort -faidx /data/reddylab/Revathy/collabs/Lexi/ABC_model/results/enhancer_activity/NPC/NoGeneExpr/Enhancers.H3K27ac.npc.h3k27ac.rep3.bam.CountReads.bedgraph.temp_sort_order -i /data/reddylab/Revathy/collabs/Lexi/ABC_model/data/ipsc.expect_cells.protospacer_dhs.w_pos_ctrls_dhs.coordinates.bed | bedtools coverage -g /data/reddylab/Revathy/collabs/Lexi/ABC_model/results/enhancer_activity/NPC/NoGeneExpr/Enhancers.H3K27ac.npc.h3k27ac.rep3.bam.CountReads.bedgraph.temp_sort_order -counts -sorted -a stdin -b /data/reddylab/Revathy/collabs/Lexi/ABC_model/data/NPC/bam/npc.h3k27ac.rep3.bam | awk '{print $1 \"\\t\" $2 \"\\t\" $3 \"\\t\" $NF}'  | bedtools sort -faidx /data/reddylab/Revathy/collabs/Lexi/ABC_model/data/reference/hg38.genome -i stdin > /data/reddylab/Revathy/collabs/Lexi/ABC_model/results/enhancer_activity/NPC/NoGeneExpr/Enhancers.H3K27ac.npc.h3k27ac.rep3.bam.CountReads.bedgraph; rm /data/reddylab/Revathy/collabs/Lexi/ABC_model/results/enhancer_activity/NPC/NoGeneExpr/Enhancers.H3K27ac.npc.h3k27ac.rep3.bam.CountReads.bedgraph.temp_sort_order\n",
      "BEDTools completed successfully. \n",
      "\n",
      "Feature H3K27ac completed in 150.5876533985138\n",
      "Regenerating /data/reddylab/Revathy/collabs/Lexi/ABC_model/results/enhancer_activity/NPC/NoGeneExpr/Enhancers.DHS.npc.atac.rep1.bam.CountReads.bedgraph\n",
      "Counting coverage for Enhancers.DHS.npc.atac.rep1.bam\n",
      "Running: awk 'FNR==NR {x2[$1] = $0; next} $1 in x2 {print x2[$1]}' /data/reddylab/Revathy/collabs/Lexi/ABC_model/data/reference/hg38.genome <(samtools view -H /data/reddylab/Revathy/collabs/Lexi/ABC_model/data/NPC/bam/npc.atac.rep1.bam | grep SQ | cut -f 2 | cut -c 4- )  > /data/reddylab/Revathy/collabs/Lexi/ABC_model/results/enhancer_activity/NPC/NoGeneExpr/Enhancers.DHS.npc.atac.rep1.bam.CountReads.bedgraph.temp_sort_order\n",
      "Running: bedtools sort -faidx /data/reddylab/Revathy/collabs/Lexi/ABC_model/results/enhancer_activity/NPC/NoGeneExpr/Enhancers.DHS.npc.atac.rep1.bam.CountReads.bedgraph.temp_sort_order -i /data/reddylab/Revathy/collabs/Lexi/ABC_model/data/ipsc.expect_cells.protospacer_dhs.w_pos_ctrls_dhs.coordinates.bed | bedtools coverage -g /data/reddylab/Revathy/collabs/Lexi/ABC_model/results/enhancer_activity/NPC/NoGeneExpr/Enhancers.DHS.npc.atac.rep1.bam.CountReads.bedgraph.temp_sort_order -counts -sorted -a stdin -b /data/reddylab/Revathy/collabs/Lexi/ABC_model/data/NPC/bam/npc.atac.rep1.bam | awk '{print $1 \"\\t\" $2 \"\\t\" $3 \"\\t\" $NF}'  | bedtools sort -faidx /data/reddylab/Revathy/collabs/Lexi/ABC_model/data/reference/hg38.genome -i stdin > /data/reddylab/Revathy/collabs/Lexi/ABC_model/results/enhancer_activity/NPC/NoGeneExpr/Enhancers.DHS.npc.atac.rep1.bam.CountReads.bedgraph; rm /data/reddylab/Revathy/collabs/Lexi/ABC_model/results/enhancer_activity/NPC/NoGeneExpr/Enhancers.DHS.npc.atac.rep1.bam.CountReads.bedgraph.temp_sort_order\n",
      "BEDTools completed successfully. \n",
      "\n",
      "Regenerating /data/reddylab/Revathy/collabs/Lexi/ABC_model/results/enhancer_activity/NPC/NoGeneExpr/Enhancers.DHS.npc.atac.rep2.bam.CountReads.bedgraph\n",
      "Counting coverage for Enhancers.DHS.npc.atac.rep2.bam\n",
      "Running: awk 'FNR==NR {x2[$1] = $0; next} $1 in x2 {print x2[$1]}' /data/reddylab/Revathy/collabs/Lexi/ABC_model/data/reference/hg38.genome <(samtools view -H /data/reddylab/Revathy/collabs/Lexi/ABC_model/data/NPC/bam/npc.atac.rep2.bam | grep SQ | cut -f 2 | cut -c 4- )  > /data/reddylab/Revathy/collabs/Lexi/ABC_model/results/enhancer_activity/NPC/NoGeneExpr/Enhancers.DHS.npc.atac.rep2.bam.CountReads.bedgraph.temp_sort_order\n",
      "Running: bedtools sort -faidx /data/reddylab/Revathy/collabs/Lexi/ABC_model/results/enhancer_activity/NPC/NoGeneExpr/Enhancers.DHS.npc.atac.rep2.bam.CountReads.bedgraph.temp_sort_order -i /data/reddylab/Revathy/collabs/Lexi/ABC_model/data/ipsc.expect_cells.protospacer_dhs.w_pos_ctrls_dhs.coordinates.bed | bedtools coverage -g /data/reddylab/Revathy/collabs/Lexi/ABC_model/results/enhancer_activity/NPC/NoGeneExpr/Enhancers.DHS.npc.atac.rep2.bam.CountReads.bedgraph.temp_sort_order -counts -sorted -a stdin -b /data/reddylab/Revathy/collabs/Lexi/ABC_model/data/NPC/bam/npc.atac.rep2.bam | awk '{print $1 \"\\t\" $2 \"\\t\" $3 \"\\t\" $NF}'  | bedtools sort -faidx /data/reddylab/Revathy/collabs/Lexi/ABC_model/data/reference/hg38.genome -i stdin > /data/reddylab/Revathy/collabs/Lexi/ABC_model/results/enhancer_activity/NPC/NoGeneExpr/Enhancers.DHS.npc.atac.rep2.bam.CountReads.bedgraph; rm /data/reddylab/Revathy/collabs/Lexi/ABC_model/results/enhancer_activity/NPC/NoGeneExpr/Enhancers.DHS.npc.atac.rep2.bam.CountReads.bedgraph.temp_sort_order\n",
      "BEDTools completed successfully. \n",
      "\n",
      "Feature DHS completed in 103.12441945075989\n",
      "Assigning classes to enhancers\n",
      "Total enhancers: 596\n",
      "         Promoters: 63\n",
      "         Genic: 260\n",
      "         Intergenic: 273\n",
      "Neighborhoods Complete! \n",
      "\n"
     ]
    }
   ],
   "source": [
    "%%bash\n",
    "task=enhancer_activity\n",
    "source /data/reddylab/software/miniconda3/bin/activate alex_py3\n",
    "module load bedtools2\n",
    "module load samtools\n",
    "data_dir=/data/reddylab/Revathy/collabs/Lexi/ABC_model/data/NPC\n",
    "abc_dir=/data/reddylab/Revathy/collabs/Maria/ABC/ABC-Enhancer-Gene-Prediction\n",
    "\n",
    "mkdir -p /data/reddylab/Revathy/collabs/Lexi/ABC_model/results/${task}/NPC/NoGeneExpr\n",
    "\n",
    "python ${abc_dir}/src/run.neighborhoods.py \\\n",
    "--candidate_enhancer_regions /data/reddylab/Revathy/collabs/Lexi/ABC_model/data/ipsc.expect_cells.protospacer_dhs.w_pos_ctrls_dhs.coordinates.bed \\\n",
    "--genes ${abc_dir}/reference/RefSeqCurated.170308.bed.CollapsedGeneBounds.bed \\\n",
    "--H3K27ac ${data_dir}/bam/npc.h3k27ac.rep1.bam,${data_dir}/bam/npc.h3k27ac.rep2.bam,${data_dir}/bam/npc.h3k27ac.rep3.bam \\\n",
    "--DHS ${data_dir}/bam/npc.atac.rep1.bam,${data_dir}/bam/npc.atac.rep2.bam \\\n",
    "--chrom_sizes /data/reddylab/Revathy/collabs/Lexi/ABC_model/data/reference/hg38.genome \\\n",
    "--cellType NPC \\\n",
    "--outdir /data/reddylab/Revathy/collabs/Lexi/ABC_model/results/${task}/NPC/NoGeneExpr"
   ]
  },
  {
   "cell_type": "code",
   "execution_count": 6,
   "metadata": {},
   "outputs": [],
   "source": [
    "%%bash\n",
    "awk -vOFS=\"\\t\" '{print $1,$2,$3,$4,$5,$6,$10,$8}' /data/gersbachlab/lrb53/SczProveIt/mhc2/analysis/abcmodel/inputs/npc/npc.hicar.bedpe \\\n",
    "| tail -n+2 \\\n",
    "| gzip -c \\\n",
    "> /data/reddylab/Revathy/collabs/Lexi/ABC_model/data/NPC/npc.hicar.bedpe.gz"
   ]
  },
  {
   "cell_type": "code",
   "execution_count": 9,
   "metadata": {},
   "outputs": [],
   "source": [
    "%%bash\n",
    "chrom=(\"chr1\" \"chr19\" \"chr20\" \"chr21\" \"chr22\" \"chrX\" \"chrY\" \"chr2\" \"chr3\" \"chr4\" \"chr5\" \"chr6\" \"chr7\" \"chr8\" \"chr9\" \"chr10\" \"chr11\" \"chr12\" \"chr13\" \"chr14\" \"chr15\" \"chr16\" \"chr17\" \"chr18\")\n",
    "for chr in \"${chrom[@]}\"\n",
    "do\n",
    "mkdir -p /data/reddylab/Revathy/collabs/Lexi/ABC_model/data/NPC/HiC/${chr}\n",
    "ln -s /data/reddylab/Revathy/collabs/Lexi/ABC_model/data/NPC/npc.hicar.bedpe.gz \\\n",
    "/data/reddylab/Revathy/collabs/Lexi/ABC_model/data/NPC/HiC/${chr}/${chr}.bedpe.gz\n",
    "done"
   ]
  },
  {
   "cell_type": "code",
   "execution_count": 1,
   "metadata": {
    "scrolled": true
   },
   "outputs": [
    {
     "name": "stdout",
     "output_type": "stream",
     "text": [
      "reading genes\n",
      "reading enhancers\n",
      "Making predictions for chromosome: chr11\n",
      "Making putative predictions table...\n",
      "Begin HiC\n",
      "Loading HiC\n",
      "0 0\n",
      "HiC added to predictions table. Elapsed time: 0.34586334228515625\n",
      "HiC Complete\n",
      "Completed chromosome: chr11. Elapsed time: 1.0910766124725342 \n",
      "\n",
      "Making predictions for chromosome: chr3\n",
      "Making putative predictions table...\n",
      "Begin HiC\n",
      "Loading HiC\n",
      "0 0\n",
      "HiC added to predictions table. Elapsed time: 0.1614236831665039\n",
      "HiC Complete\n",
      "Completed chromosome: chr3. Elapsed time: 0.31017470359802246 \n",
      "\n",
      "Making predictions for chromosome: chr2\n",
      "Making putative predictions table...\n",
      "Begin HiC\n",
      "Loading HiC\n",
      "0 0\n",
      "HiC added to predictions table. Elapsed time: 0.20608758926391602\n",
      "HiC Complete\n",
      "Completed chromosome: chr2. Elapsed time: 0.36472272872924805 \n",
      "\n",
      "Making predictions for chromosome: chr12\n",
      "Making putative predictions table...\n",
      "Begin HiC\n",
      "Loading HiC\n",
      "0 0\n",
      "HiC added to predictions table. Elapsed time: 0.15871167182922363\n",
      "HiC Complete\n",
      "Completed chromosome: chr12. Elapsed time: 0.3006744384765625 \n",
      "\n",
      "Making predictions for chromosome: chr4\n",
      "Making putative predictions table...\n",
      "Begin HiC\n",
      "Loading HiC\n",
      "2 0\n",
      "HiC added to predictions table. Elapsed time: 0.16390204429626465\n",
      "HiC Complete\n",
      "Completed chromosome: chr4. Elapsed time: 0.3088090419769287 \n",
      "\n",
      "Making predictions for chromosome: chr1\n",
      "Making putative predictions table...\n",
      "Begin HiC\n",
      "Loading HiC\n",
      "2 0\n",
      "HiC added to predictions table. Elapsed time: 0.19057583808898926\n",
      "HiC Complete\n",
      "Completed chromosome: chr1. Elapsed time: 0.33643293380737305 \n",
      "\n",
      "Making predictions for chromosome: chr6\n",
      "Making putative predictions table...\n",
      "Begin HiC\n",
      "Loading HiC\n",
      "111 17\n",
      "HiC added to predictions table. Elapsed time: 0.26995015144348145\n",
      "HiC Complete\n",
      "Completed chromosome: chr6. Elapsed time: 0.7182400226593018 \n",
      "\n",
      "Writing output files...\n",
      "Done.\n"
     ]
    }
   ],
   "source": [
    "%%bash\n",
    "source /data/reddylab/software/miniconda3/bin/activate alex_py3\n",
    "task=ABC_score\n",
    "abc_dir=/data/reddylab/Revathy/collabs/Maria/ABC/ABC-Enhancer-Gene-Prediction\n",
    "enhancer_activity=/data/reddylab/Revathy/collabs/Lexi/ABC_model/results/enhancer_activity/NPC/\n",
    "hic=/data/reddylab/Revathy/collabs/Lexi/ABC_model/data/NPC/HiC\n",
    "\n",
    "cd ${enhancer_activity}\n",
    "\n",
    "python ${abc_dir}/src/predict.py \\\n",
    "--enhancers ${enhancer_activity}/EnhancerList.txt \\\n",
    "--genes ${enhancer_activity}/GeneList.txt \\\n",
    "--HiCdir ${hic} \\\n",
    "--hic_resolution 5000 \\\n",
    "--hic_type bedpe \\\n",
    "--scale_hic_using_powerlaw \\\n",
    "--threshold .02 \\\n",
    "--cellType NPC \\\n",
    "--outdir /data/reddylab/Revathy/collabs/Lexi/ABC_model/results/${task}/NPC/ \\\n",
    "--make_all_putative \n"
   ]
  },
  {
   "cell_type": "code",
   "execution_count": null,
   "metadata": {},
   "outputs": [],
   "source": [
    "import pandas as pd\n",
    "\n",
    "k562_hits = pd.read_csv('/data/reddylab/Revathy/collabs/Lexi/ABC_model/data/v14mhc.dhs.int.k562.screenccresv4.hg38.txt', sep='\\t',\n",
    "                       names=['dhs_chr','dhs_start','dhs_end','cre_type','ccre_chr','ccre_start','ccre_end','ccre_id','ccre_score',\n",
    "                              'ccre_strand','ccre_thickStart','ccre_thickEnd','ccre_color','ccre_type','ccre_analysis'])\n",
    "\n",
    "k562_hits['dhs_chr_start_end'] = k562_hits['dhs_chr']+'_'+k562_hits['dhs_start'].astype(str)+'_'+k562_hits['dhs_end'].astype(str)\n",
    "k562_hits.groupby(['cre_type','ccre_type']).size().sort_values(ascending=False).reset_index(name='count') "
   ]
  }
 ],
 "metadata": {
  "kernelspec": {
   "display_name": "Python3 (revathy)",
   "language": "python",
   "name": "revathy_py3"
  },
  "language_info": {
   "codemirror_mode": {
    "name": "ipython",
    "version": 3
   },
   "file_extension": ".py",
   "mimetype": "text/x-python",
   "name": "python",
   "nbconvert_exporter": "python",
   "pygments_lexer": "ipython3",
   "version": "3.5.4"
  }
 },
 "nbformat": 4,
 "nbformat_minor": 2
}
