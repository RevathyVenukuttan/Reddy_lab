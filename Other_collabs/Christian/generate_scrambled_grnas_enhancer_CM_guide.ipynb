{
 "cells": [
  {
   "cell_type": "code",
   "execution_count": 1,
   "metadata": {},
   "outputs": [],
   "source": [
    "%%bash\n",
    "mkdir -p /data/reddylab/Revathy/collabs/Christian/grnas"
   ]
  },
  {
   "cell_type": "code",
   "execution_count": 2,
   "metadata": {},
   "outputs": [],
   "source": [
    "# Read gRNAs\n",
    "import pandas as pd\n",
    "grnas = pd.read_csv(\"/data/reddylab/Revathy/collabs/Christian/Enhancer_CM_guides.txt\", \n",
    "                    sep=',', names = [\"gRNA\"])\n",
    "grnas[\"gRNA\"] = grnas[\"gRNA\"].str.upper()"
   ]
  },
  {
   "cell_type": "code",
   "execution_count": 3,
   "metadata": {},
   "outputs": [
    {
     "data": {
      "text/html": [
       "<div>\n",
       "<style scoped>\n",
       "    .dataframe tbody tr th:only-of-type {\n",
       "        vertical-align: middle;\n",
       "    }\n",
       "\n",
       "    .dataframe tbody tr th {\n",
       "        vertical-align: top;\n",
       "    }\n",
       "\n",
       "    .dataframe thead th {\n",
       "        text-align: right;\n",
       "    }\n",
       "</style>\n",
       "<table border=\"1\" class=\"dataframe\">\n",
       "  <thead>\n",
       "    <tr style=\"text-align: right;\">\n",
       "      <th></th>\n",
       "      <th>gRNA</th>\n",
       "    </tr>\n",
       "  </thead>\n",
       "  <tbody>\n",
       "    <tr>\n",
       "      <th>0</th>\n",
       "      <td>TGAGAGGTGATTGTACCATAA</td>\n",
       "    </tr>\n",
       "    <tr>\n",
       "      <th>1</th>\n",
       "      <td>ATGGATTAGTTTCCTCTGAGA</td>\n",
       "    </tr>\n",
       "    <tr>\n",
       "      <th>2</th>\n",
       "      <td>AGGAATGGATTAGTTTCCTCT</td>\n",
       "    </tr>\n",
       "    <tr>\n",
       "      <th>3</th>\n",
       "      <td>AAATTCATATTTCGAAACCCC</td>\n",
       "    </tr>\n",
       "    <tr>\n",
       "      <th>4</th>\n",
       "      <td>TTCCTCTATAAGTGCTATGGT</td>\n",
       "    </tr>\n",
       "  </tbody>\n",
       "</table>\n",
       "</div>"
      ],
      "text/plain": [
       "                    gRNA\n",
       "0  TGAGAGGTGATTGTACCATAA\n",
       "1  ATGGATTAGTTTCCTCTGAGA\n",
       "2  AGGAATGGATTAGTTTCCTCT\n",
       "3  AAATTCATATTTCGAAACCCC\n",
       "4  TTCCTCTATAAGTGCTATGGT"
      ]
     },
     "execution_count": 3,
     "metadata": {},
     "output_type": "execute_result"
    }
   ],
   "source": [
    "grnas.head()"
   ]
  },
  {
   "cell_type": "code",
   "execution_count": 4,
   "metadata": {},
   "outputs": [],
   "source": [
    "import numpy as np"
   ]
  },
  {
   "cell_type": "code",
   "execution_count": 5,
   "metadata": {},
   "outputs": [],
   "source": [
    "import pandas as pd\n",
    "from random import random\n",
    "global DNA_ALPHABET\n",
    "DNA_ALPHABET = ['A', 'T', 'C', 'G']\n",
    "\n",
    "def extract_freq_from_np_uniq(a):\n",
    "    freqs = dict(zip(DNA_ALPHABET, np.zeros(4)))\n",
    "    kk,vv = np.unique(a, return_counts=True)\n",
    "    freqs.update(dict(zip(kk, (1.*vv)/a.shape[0])))\n",
    "    return [freqs[k] for k in DNA_ALPHABET]"
   ]
  },
  {
   "cell_type": "code",
   "execution_count": 7,
   "metadata": {},
   "outputs": [],
   "source": [
    "# Calculate the nucleotide frequency at each base\n",
    "from scipy.stats import itemfreq\n",
    "import numpy as np\n",
    "from Bio.Seq import Seq\n",
    "freqs = np.apply_along_axis(extract_freq_from_np_uniq, 0, \n",
    "                            np.vstack([list(t) for t in grnas.gRNA.values.T]))\n"
   ]
  },
  {
   "cell_type": "code",
   "execution_count": 8,
   "metadata": {},
   "outputs": [
    {
     "data": {
      "text/plain": [
       "array([0.2787226 , 0.28155707, 0.21371882, 0.22600151])"
      ]
     },
     "execution_count": 8,
     "metadata": {},
     "output_type": "execute_result"
    }
   ],
   "source": [
    "freqs.mean(axis=1)"
   ]
  },
  {
   "cell_type": "code",
   "execution_count": 9,
   "metadata": {},
   "outputs": [],
   "source": [
    "def subsample_alphabet_given_freqs(freqs):\n",
    "    return np.random.choice(DNA_ALPHABET, p=freqs)"
   ]
  },
  {
   "cell_type": "code",
   "execution_count": 10,
   "metadata": {},
   "outputs": [],
   "source": [
    "n_random_samples = 38"
   ]
  },
  {
   "cell_type": "code",
   "execution_count": 11,
   "metadata": {},
   "outputs": [],
   "source": [
    "def outputTempBowtieFastq(libraryTable, outputFileName):\n",
    "    phredString = 'I4!=======44444+++++++' #weighting for how impactful mismatches are along sgRNA sequence \n",
    "    with open(outputFileName,'w') as outfile:\n",
    "        for name, row in libraryTable.iterrows():\n",
    "            outfile.write('@' + name + '\\n')\n",
    "            outfile.write('CCN' + str(Seq(row['sequence'][1:]).reverse_complement()) + '\\n')\n",
    "            outfile.write('+\\n')\n",
    "            outfile.write(phredString + '\\n')\n"
   ]
  },
  {
   "cell_type": "code",
   "execution_count": 12,
   "metadata": {},
   "outputs": [],
   "source": [
    "import subprocess \n",
    "fqFile = '/data/reddylab/Revathy/ref_data/temp.fastq'\n",
    "alignmentList = [(31,1,'/data/reddylab/Reference_Data/Genomes/hg19/hg19','hg19_all_cosgrove')]\n",
    "\n",
    "nt_final_set = set()\n",
    "alignmentColumns = []\n",
    "while len(nt_final_set)<n_random_samples:\n",
    "    random_samples = [''.join(np.apply_along_axis(subsample_alphabet_given_freqs, 0,  freqs)) for ii in range(n_random_samples)]\n",
    "    negTable = pd.DataFrame(random_samples, \n",
    "                            index=['NT_%d' %i  for i in range(1, len(random_samples)+1)], \n",
    "                            columns = ['sequence'])\n",
    "    outputTempBowtieFastq(negTable, '/data/reddylab/Revathy/ref_data/temp.fastq')\n",
    "\n",
    "    for btThreshold, mflag, bowtieIndex, runname in alignmentList:\n",
    "\n",
    "        alignedFile = '/data/reddylab/Revathy/ref_data/' + runname + '_aligned.txt'\n",
    "        unalignedFile = '/data/reddylab/Revathy/ref_data/' + runname + '_unaligned.fq'\n",
    "        maxFile = '/data/reddylab/Revathy/ref_data/' + runname + '_max.fq'\n",
    "\n",
    "        bowtieString = '/nfs/software/helmod/apps/Core/bowtie/1.1.1-fasrc01/bowtie -n 3 -l 5 -e ' + \\\n",
    "            str(btThreshold) + \\\n",
    "            ' -m ' + str(mflag) + \\\n",
    "            ' --nomaqround -a --tryhard -p 16 --chunkmbs 256 ' + \\\n",
    "            bowtieIndex + \\\n",
    "            ' --suppress 5,6,7 --un ' + \\\n",
    "            unalignedFile + \\\n",
    "            ' --max ' + maxFile + \\\n",
    "            ' -q ' + \\\n",
    "            fqFile + ' ' + \\\n",
    "            alignedFile\n",
    "#         print bowtieString\n",
    "        subprocess.call(bowtieString, shell=True)\n",
    "\n",
    "        #read unaligned file for negs, and then don't flip boolean of alignmentTable\n",
    "        with open(unalignedFile) as infile:\n",
    "            sgsAligning = set()\n",
    "            for i, line in enumerate(infile):\n",
    "                if i%4 == 0: #id line\n",
    "                    sgsAligning.add(line.strip()[1:])\n",
    "\n",
    "        alignmentColumns.append(negTable.apply(lambda row: row.name in sgsAligning, axis=1))\n",
    "\n",
    "    alignmentTable = pd.concat(alignmentColumns,axis=1, keys=list(zip(*alignmentList))[3])\n",
    "#     print alignmentTable.head()\n",
    "    nt_final_set = set(list(nt_final_set) + list(negTable[alignmentTable.values].values.T[0]))\n"
   ]
  },
  {
   "cell_type": "code",
   "execution_count": 15,
   "metadata": {},
   "outputs": [],
   "source": [
    "pd.DataFrame(list(nt_final_set), columns=['nt_sequence'])\\\n",
    "    .to_csv('/data/reddylab/Revathy/collabs/Christian/grnas/Enhancer_CM_guides_nt_sequences.txt', index=False)"
   ]
  },
  {
   "cell_type": "code",
   "execution_count": null,
   "metadata": {},
   "outputs": [],
   "source": []
  },
  {
   "cell_type": "markdown",
   "metadata": {},
   "source": [
    "#### index for hg38 genome: /data/reddylab/Reference_Data/Genomes/hg38/GCA_000001405.15_GRCh38_no_alt_analysis_set.fna.bowtie_index"
   ]
  },
  {
   "cell_type": "markdown",
   "metadata": {},
   "source": [
    "----"
   ]
  }
 ],
 "metadata": {
  "kernelspec": {
   "display_name": "Python3 (revathy)",
   "language": "python",
   "name": "revathy_py3"
  },
  "language_info": {
   "codemirror_mode": {
    "name": "ipython",
    "version": 3
   },
   "file_extension": ".py",
   "mimetype": "text/x-python",
   "name": "python",
   "nbconvert_exporter": "python",
   "pygments_lexer": "ipython3",
   "version": "3.5.4"
  }
 },
 "nbformat": 4,
 "nbformat_minor": 2
}
