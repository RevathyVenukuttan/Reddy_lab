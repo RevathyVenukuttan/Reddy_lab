{
 "cells": [
  {
   "cell_type": "markdown",
   "metadata": {},
   "source": [
    "# 20220308_GDJ_multistim_rnaseq - rna_seq\n",
    "This notebook will create all the necessary files, scripts and folders to pre-process the aforementioned project. Is designed to be used in a jupyter server deployed in a system running SLURM. The majority of the scripts and heavy-lifting processes are wrapped up in sbatch scripts.As an end user, in order to pre-process your samples provided in the spread sheet, you will simply need to *run the entire notebook* (Cell > Run all) and the system should take care of the rest for you.\n",
    "#### Create necessary folder(s)"
   ]
  },
  {
   "cell_type": "code",
   "execution_count": 4,
   "metadata": {},
   "outputs": [],
   "source": [
    "%%bash\n",
    "mkdir -p /data/reddylab/Revathy/collabs/Graham/20220328/data/rna_seq/metadata\n",
    "mkdir -p /data/reddylab/Revathy/collabs/Graham/20220328/data/rna_seq/raw_reads\n",
    "mkdir -p /data/reddylab/Revathy/collabs/Graham/20220328/data/rna_seq/processed_raw_reads\n",
    "mkdir -p /data/reddylab/Revathy/collabs/Graham/20220328/processing/rna_seq/scripts\n",
    "mkdir -p /data/reddylab/Revathy/collabs/Graham/20220328/processing/rna_seq/jsons\n",
    "mkdir -p /data/reddylab/Revathy/collabs/Graham/20220328/processing/rna_seq/logs"
   ]
  },
  {
   "cell_type": "markdown",
   "metadata": {},
   "source": [
    "Save metadata file"
   ]
  },
  {
   "cell_type": "code",
   "execution_count": 5,
   "metadata": {},
   "outputs": [
    {
     "name": "stdout",
     "output_type": "stream",
     "text": [
      "Overwriting /data/reddylab/Revathy/collabs/Graham/20220328/data/rna_seq/metadata/rna_seq_download_metadata.20220308_GDJ_multistim_rnaseq.txt\n"
     ]
    }
   ],
   "source": [
    "%%writefile /data/reddylab/Revathy/collabs/Graham/20220328/data/rna_seq/metadata/rna_seq_download_metadata.20220308_GDJ_multistim_rnaseq.txt\n",
    "Sequencing core project\tSequencing core library name\tName\tPaired-end or single-end\tGenome\tLibrary type\tUmis\tControl\tStrand specificity\tBlacklist removal\tWith ercc spike-in\n",
    "20220308_GDJ_multistim_rnaseq \tA549_pretreatCORT108297_dex_RNAseq_rep1\tA549_pretreatCORT108297_dex_RNAseq_rep1\tPE\thg38\tRNA-seq\t\t\trevstranded\t\tFalse\n",
    "20220308_GDJ_multistim_rnaseq \tA549_pretreatCORT108297_dex_RNAseq_rep2\tA549_pretreatCORT108297_dex_RNAseq_rep2\tPE\thg38\tRNA-seq\t\t\trevstranded\t\tFalse\n",
    "20220308_GDJ_multistim_rnaseq \tA549_pretreatCORT108297_dex_RNAseq_rep3\tA549_pretreatCORT108297_dex_RNAseq_rep3\tPE\thg38\tRNA-seq\t\t\trevstranded\t\tFalse\n",
    "20220308_GDJ_multistim_rnaseq \tA549_TNF_pretreatCORT108297_dex_RNAseq_rep1\tA549_TNF_pretreatCORT108297_dex_RNAseq_rep1\tPE\thg38\tRNA-seq\t\t\trevstranded\t\tFalse\n",
    "20220308_GDJ_multistim_rnaseq \tA549_TNF_pretreatCORT108297_dex_RNAseq_rep2\tA549_TNF_pretreatCORT108297_dex_RNAseq_rep2\tPE\thg38\tRNA-seq\t\t\trevstranded\t\tFalse\n",
    "20220308_GDJ_multistim_rnaseq \tA549_pretreatCpdA_dex_RNAseq_rep1\tA549_pretreatCpdA_dex_RNAseq_rep1\tPE\thg38\tRNA-seq\t\t\trevstranded\t\tFalse\n",
    "20220308_GDJ_multistim_rnaseq \tA549_pretreatCpdA_dex_RNAseq_rep2\tA549_pretreatCpdA_dex_RNAseq_rep2\tPE\thg38\tRNA-seq\t\t\trevstranded\t\tFalse\n",
    "20220308_GDJ_multistim_rnaseq \tA549_pretreatCpdA_dex_RNAseq_rep3\tA549_pretreatCpdA_dex_RNAseq_rep3\tPE\thg38\tRNA-seq\t\t\trevstranded\t\tFalse\n",
    "20220308_GDJ_multistim_rnaseq \tA549_TNF_pretreatCpdA_dex_RNAseq_rep1\tA549_TNF_pretreatCpdA_dex_RNAseq_rep1\tPE\thg38\tRNA-seq\t\t\trevstranded\t\tFalse\n",
    "20220308_GDJ_multistim_rnaseq \tA549_TNF_pretreatCpdA_dex_RNAseq_rep2\tA549_TNF_pretreatCpdA_dex_RNAseq_rep2\tPE\thg38\tRNA-seq\t\t\trevstranded\t\tFalse\n",
    "20220308_GDJ_multistim_rnaseq \tA549_TNF_pretreatCpdA_dex_RNAseq_rep3\tA549_TNF_pretreatCpdA_dex_RNAseq_rep3\tPE\thg38\tRNA-seq\t\t\trevstranded\t\tFalse\n",
    "20220308_GDJ_multistim_rnaseq \tA549_CORT108297_RNAseq_rep1\tA549_CORT108297_RNAseq_rep1\tPE\thg38\tRNA-seq\t\t\trevstranded\t\tFalse\n",
    "20220308_GDJ_multistim_rnaseq \tA549_CORT108297_RNAseq_rep2\tA549_CORT108297_RNAseq_rep2\tPE\thg38\tRNA-seq\t\t\trevstranded\t\tFalse\n",
    "20220308_GDJ_multistim_rnaseq \tA549_CORT108297_RNAseq_rep3\tA549_CORT108297_RNAseq_rep3\tPE\thg38\tRNA-seq\t\t\trevstranded\t\tFalse\n",
    "20220308_GDJ_multistim_rnaseq \tA549_TNF_CORT108297_RNAseq_rep1\tA549_TNF_CORT108297_RNAseq_rep1\tPE\thg38\tRNA-seq\t\t\trevstranded\t\tFalse\n",
    "20220308_GDJ_multistim_rnaseq \tA549_TNF_CORT108297_RNAseq_rep2\tA549_TNF_CORT108297_RNAseq_rep2\tPE\thg38\tRNA-seq\t\t\trevstranded\t\tFalse\n",
    "20220308_GDJ_multistim_rnaseq \tA549_TNF_CORT108297_RNAseq_rep3\tA549_TNF_CORT108297_RNAseq_rep3\tPE\thg38\tRNA-seq\t\t\trevstranded\t\tFalse\n",
    "20220308_GDJ_multistim_rnaseq \tA549_dex_RNAseq_rep1\tA549_dex_RNAseq_rep1\tPE\thg38\tRNA-seq\t\t\trevstranded\t\tFalse\n",
    "20220308_GDJ_multistim_rnaseq \tA549_dex_RNAseq_rep2\tA549_dex_RNAseq_rep2\tPE\thg38\tRNA-seq\t\t\trevstranded\t\tFalse\n",
    "20220308_GDJ_multistim_rnaseq \tA549_dex_RNAseq_rep3\tA549_dex_RNAseq_rep3\tPE\thg38\tRNA-seq\t\t\trevstranded\t\tFalse\n",
    "20220308_GDJ_multistim_rnaseq \tA549_TNF_dex_RNAseq_rep1\tA549_TNF_dex_RNAseq_rep1\tPE\thg38\tRNA-seq\t\t\trevstranded\t\tFalse\n",
    "20220308_GDJ_multistim_rnaseq \tA549_TNF_dex_RNAseq_rep2\tA549_TNF_dex_RNAseq_rep2\tPE\thg38\tRNA-seq\t\t\trevstranded\t\tFalse\n",
    "20220308_GDJ_multistim_rnaseq \tA549_TNF_dex_RNAseq_rep3\tA549_TNF_dex_RNAseq_rep3\tPE\thg38\tRNA-seq\t\t\trevstranded\t\tFalse\n",
    "20220308_GDJ_multistim_rnaseq \tA549_ZK216348_RNAseq_rep1\tA549_ZK216348_RNAseq_rep1\tPE\thg38\tRNA-seq\t\t\trevstranded\t\tFalse\n",
    "20220308_GDJ_multistim_rnaseq \tA549_ZK216348_RNAseq_rep2\tA549_ZK216348_RNAseq_rep2\tPE\thg38\tRNA-seq\t\t\trevstranded\t\tFalse\n",
    "20220308_GDJ_multistim_rnaseq \tA549_ZK216348_RNAseq_rep3\tA549_ZK216348_RNAseq_rep3\tPE\thg38\tRNA-seq\t\t\trevstranded\t\tFalse\n",
    "20220308_GDJ_multistim_rnaseq \tA549_TNF_ZK216348_RNAseq_rep1\tA549_TNF_ZK216348_RNAseq_rep1\tPE\thg38\tRNA-seq\t\t\trevstranded\t\tFalse\n",
    "20220308_GDJ_multistim_rnaseq \tA549_TNF_ZK216348_RNAseq_rep2\tA549_TNF_ZK216348_RNAseq_rep2\tPE\thg38\tRNA-seq\t\t\trevstranded\t\tFalse\n",
    "20220308_GDJ_multistim_rnaseq \tA549_TNF_ZK216348_RNAseq_rep3\tA549_TNF_ZK216348_RNAseq_rep3\tPE\thg38\tRNA-seq\t\t\trevstranded\t\tFalse\n",
    "20220308_GDJ_multistim_rnaseq \tA549_hydrocortisone_RNAseq_rep1\tA549_hydrocortisone_RNAseq_rep1\tPE\thg38\tRNA-seq\t\t\trevstranded\t\tFalse\n",
    "20220308_GDJ_multistim_rnaseq \tA549_hydrocortisone_RNAseq_rep2\tA549_hydrocortisone_RNAseq_rep2\tPE\thg38\tRNA-seq\t\t\trevstranded\t\tFalse\n",
    "20220308_GDJ_multistim_rnaseq \tA549_hydrocortisone_RNAseq_rep3\tA549_hydrocortisone_RNAseq_rep3\tPE\thg38\tRNA-seq\t\t\trevstranded\t\tFalse\n",
    "20220308_GDJ_multistim_rnaseq \tA549_TNF_hydrocortisone_RNAseq_rep1\tA549_TNF_hydrocortisone_RNAseq_rep1\tPE\thg38\tRNA-seq\t\t\trevstranded\t\tFalse\n",
    "20220308_GDJ_multistim_rnaseq \tA549_TNF_hydrocortisone_RNAseq_rep2\tA549_TNF_hydrocortisone_RNAseq_rep2\tPE\thg38\tRNA-seq\t\t\trevstranded\t\tFalse\n",
    "20220308_GDJ_multistim_rnaseq \tA549_TNF_hydrocortisone_RNAseq_rep3\tA549_TNF_hydrocortisone_RNAseq_rep3\tPE\thg38\tRNA-seq\t\t\trevstranded\t\tFalse\n",
    "20220308_GDJ_multistim_rnaseq \tA549_CpdA_RNAseq_rep1\tA549_CpdA_RNAseq_rep1\tPE\thg38\tRNA-seq\t\t\trevstranded\t\tFalse\n",
    "20220308_GDJ_multistim_rnaseq \tA549_CpdA_RNAseq_rep2\tA549_CpdA_RNAseq_rep2\tPE\thg38\tRNA-seq\t\t\trevstranded\t\tFalse\n",
    "20220308_GDJ_multistim_rnaseq \tA549_CpdA_RNAseq_rep3\tA549_CpdA_RNAseq_rep3\tPE\thg38\tRNA-seq\t\t\trevstranded\t\tFalse\n",
    "20220308_GDJ_multistim_rnaseq \tA549_TNF_CpdA_RNAseq_rep1\tA549_TNF_CpdA_RNAseq_rep1\tPE\thg38\tRNA-seq\t\t\trevstranded\t\tFalse\n",
    "20220308_GDJ_multistim_rnaseq \tA549_TNF_CpdA_RNAseq_rep2\tA549_TNF_CpdA_RNAseq_rep2\tPE\thg38\tRNA-seq\t\t\trevstranded\t\tFalse\n",
    "20220308_GDJ_multistim_rnaseq \tA549_TNF_CpdA_RNAseq_rep3\tA549_TNF_CpdA_RNAseq_rep3\tPE\thg38\tRNA-seq\t\t\trevstranded\t\tFalse\n",
    "20220308_GDJ_multistim_rnaseq \tA549_RU489_RNAseq_rep1\tA549_RU489_RNAseq_rep1\tPE\thg38\tRNA-seq\t\t\trevstranded\t\tFalse\n",
    "20220308_GDJ_multistim_rnaseq \tA549_RU489_RNAseq_rep2\tA549_RU489_RNAseq_rep2\tPE\thg38\tRNA-seq\t\t\trevstranded\t\tFalse\n",
    "20220308_GDJ_multistim_rnaseq \tA549_RU489_RNAseq_rep3\tA549_RU489_RNAseq_rep3\tPE\thg38\tRNA-seq\t\t\trevstranded\t\tFalse\n",
    "20220308_GDJ_multistim_rnaseq \tA549_TNF_RU489_RNAseq_rep1\tA549_TNF_RU489_RNAseq_rep1\tPE\thg38\tRNA-seq\t\t\trevstranded\t\tFalse\n",
    "20220308_GDJ_multistim_rnaseq \tA549_TNF_RU489_RNAseq_rep2\tA549_TNF_RU489_RNAseq_rep2\tPE\thg38\tRNA-seq\t\t\trevstranded\t\tFalse\n",
    "20220308_GDJ_multistim_rnaseq \tA549_TNF_RU489_RNAseq_rep3\tA549_TNF_RU489_RNAseq_rep3\tPE\thg38\tRNA-seq\t\t\trevstranded\t\tFalse\n",
    "20220308_GDJ_multistim_rnaseq \tA549_DMSO_RNAseq_rep1\tA549_DMSO_RNAseq_rep1\tPE\thg38\tRNA-seq\t\t\trevstranded\t\tFalse\n",
    "20220308_GDJ_multistim_rnaseq \tA549_DMSO_RNAseq_rep2\tA549_DMSO_RNAseq_rep2\tPE\thg38\tRNA-seq\t\t\trevstranded\t\tFalse\n",
    "20220308_GDJ_multistim_rnaseq \tA549_DMSO_RNAseq_rep3\tA549_DMSO_RNAseq_rep3\tPE\thg38\tRNA-seq\t\t\trevstranded\t\tFalse\n",
    "20220308_GDJ_multistim_rnaseq \tA549_TNF_DMSO_RNAseq_rep1\tA549_TNF_DMSO_RNAseq_rep1\tPE\thg38\tRNA-seq\t\t\trevstranded\t\tFalse\n",
    "20220308_GDJ_multistim_rnaseq \tA549_TNF_DMSO_RNAseq_rep2\tA549_TNF_DMSO_RNAseq_rep2\tPE\thg38\tRNA-seq\t\t\trevstranded\t\tFalse\n",
    "20220308_GDJ_multistim_rnaseq \tA549_TNF_DMSO_RNAseq_rep3\tA549_TNF_DMSO_RNAseq_rep3\tPE\thg38\tRNA-seq\t\t\trevstranded\t\tFalse\n",
    "20220308_GDJ_multistim_rnaseq \tA549_AZD9567_RNAseq_rep1\tA549_AZD9567_RNAseq_rep1\tPE\thg38\tRNA-seq\t\t\trevstranded\t\tFalse\n",
    "20220308_GDJ_multistim_rnaseq \tA549_AZD9567_RNAseq_rep3\tA549_AZD9567_RNAseq_rep3\tPE\thg38\tRNA-seq\t\t\trevstranded\t\tFalse\n",
    "20220308_GDJ_multistim_rnaseq \tA549_TNF_AZD9567_RNAseq_rep1\tA549_TNF_AZD9567_RNAseq_rep1\tPE\thg38\tRNA-seq\t\t\trevstranded\t\tFalse\n",
    "20220308_GDJ_multistim_rnaseq \tA549_TNF_AZD9567_RNAseq_rep2\tA549_TNF_AZD9567_RNAseq_rep2\tPE\thg38\tRNA-seq\t\t\trevstranded\t\tFalse\n",
    "20220308_GDJ_multistim_rnaseq \tA549_TNF_AZD9567_RNAseq_rep3\tA549_TNF_AZD9567_RNAseq_rep3\tPE\thg38\tRNA-seq\t\t\trevstranded\t\tFalse\n",
    "20220308_GDJ_multistim_rnaseq \tA549_GW87085_RNAseq_rep1\tA549_GW87085_RNAseq_rep1\tPE\thg38\tRNA-seq\t\t\trevstranded\t\tFalse\n",
    "20220308_GDJ_multistim_rnaseq \tA549_GW87085_RNAseq_rep2\tA549_GW87085_RNAseq_rep2\tPE\thg38\tRNA-seq\t\t\trevstranded\t\tFalse\n",
    "20220308_GDJ_multistim_rnaseq \tA549_GW87085_RNAseq_rep3\tA549_GW87085_RNAseq_rep3\tPE\thg38\tRNA-seq\t\t\trevstranded\t\tFalse\n",
    "20220308_GDJ_multistim_rnaseq \tA549_TNF_GW87085_RNAseq_rep1\tA549_TNF_GW87085_RNAseq_rep1\tPE\thg38\tRNA-seq\t\t\trevstranded\t\tFalse\n",
    "20220308_GDJ_multistim_rnaseq \tA549_TNF_GW87085_RNAseq_rep2\tA549_TNF_GW87085_RNAseq_rep2\tPE\thg38\tRNA-seq\t\t\trevstranded\t\tFalse\n",
    "20220308_GDJ_multistim_rnaseq \tA549_TNF_GW87085_RNAseq_rep3\tA549_TNF_GW87085_RNAseq_rep3\tPE\thg38\tRNA-seq\t\t\trevstranded\t\tFalse\n",
    "20220308_GDJ_multistim_rnaseq \tA549_mapracorat_RNAseq_rep1\tA549_mapracorat_RNAseq_rep1\tPE\thg38\tRNA-seq\t\t\trevstranded\t\tFalse\n",
    "20220308_GDJ_multistim_rnaseq \tA549_mapracorat_RNAseq_rep2\tA549_mapracorat_RNAseq_rep2\tPE\thg38\tRNA-seq\t\t\trevstranded\t\tFalse\n",
    "20220308_GDJ_multistim_rnaseq \tA549_mapracorat_RNAseq_rep3\tA549_mapracorat_RNAseq_rep3\tPE\thg38\tRNA-seq\t\t\trevstranded\t\tFalse\n",
    "20220308_GDJ_multistim_rnaseq \tA549_TNF_mapracorat_RNAseq_rep1\tA549_TNF_mapracorat_RNAseq_rep1\tPE\thg38\tRNA-seq\t\t\trevstranded\t\tFalse\n",
    "20220308_GDJ_multistim_rnaseq \tA549_TNF_mapracorat_RNAseq_rep2\tA549_TNF_mapracorat_RNAseq_rep2\tPE\thg38\tRNA-seq\t\t\trevstranded\t\tFalse\n",
    "20220308_GDJ_multistim_rnaseq \tA549_TNF_mapracorat_RNAseq_rep3\tA549_TNF_mapracorat_RNAseq_rep3\tPE\thg38\tRNA-seq\t\t\trevstranded\t\tFalse\n",
    "20220308_GDJ_multistim_rnaseq \tA549_AZD2906_RNAseq_rep1\tA549_AZD2906_RNAseq_rep1\tPE\thg38\tRNA-seq\t\t\trevstranded\t\tFalse\n",
    "20220308_GDJ_multistim_rnaseq \tA549_AZD2906_RNAseq_rep2\tA549_AZD2906_RNAseq_rep2\tPE\thg38\tRNA-seq\t\t\trevstranded\t\tFalse\n",
    "20220308_GDJ_multistim_rnaseq \tA549_TNF_AZD2906_RNAseq_rep1\tA549_TNF_AZD2906_RNAseq_rep1\tPE\thg38\tRNA-seq\t\t\trevstranded\t\tFalse\n",
    "20220308_GDJ_multistim_rnaseq \tA549_TNF_AZD2906_RNAseq_rep2\tA549_TNF_AZD2906_RNAseq_rep2\tPE\thg38\tRNA-seq\t\t\trevstranded\t\tFalse\n",
    "20220308_GDJ_multistim_rnaseq \tA549_TNF_AZD2906_RNAseq_rep3\tA549_TNF_AZD2906_RNAseq_rep3\tPE\thg38\tRNA-seq\t\t\trevstranded\t\tFalse\n",
    "20220311_GDJ_multistim_rnaseq\tA549_pretreatCORT108297_dex_RNAseq_rep1\tA549_pretreatCORT108297_dex_RNAseq_rep1\tPE\thg38\tRNA-seq\t\t\trevstranded\t\tFalse\n",
    "20220311_GDJ_multistim_rnaseq\tA549_pretreatCORT108297_dex_RNAseq_rep2\tA549_pretreatCORT108297_dex_RNAseq_rep2\tPE\thg38\tRNA-seq\t\t\trevstranded\t\tFalse\n",
    "20220311_GDJ_multistim_rnaseq\tA549_pretreatCORT108297_dex_RNAseq_rep3\tA549_pretreatCORT108297_dex_RNAseq_rep3\tPE\thg38\tRNA-seq\t\t\trevstranded\t\tFalse\n",
    "20220311_GDJ_multistim_rnaseq\tA549_TNF_pretreatCORT108297_dex_RNAseq_rep1\tA549_TNF_pretreatCORT108297_dex_RNAseq_rep1\tPE\thg38\tRNA-seq\t\t\trevstranded\t\tFalse\n",
    "20220311_GDJ_multistim_rnaseq\tA549_TNF_pretreatCORT108297_dex_RNAseq_rep2\tA549_TNF_pretreatCORT108297_dex_RNAseq_rep2\tPE\thg38\tRNA-seq\t\t\trevstranded\t\tFalse\n",
    "20220311_GDJ_multistim_rnaseq\tA549_pretreatCpdA_dex_RNAseq_rep1\tA549_pretreatCpdA_dex_RNAseq_rep1\tPE\thg38\tRNA-seq\t\t\trevstranded\t\tFalse\n",
    "20220311_GDJ_multistim_rnaseq\tA549_pretreatCpdA_dex_RNAseq_rep2\tA549_pretreatCpdA_dex_RNAseq_rep2\tPE\thg38\tRNA-seq\t\t\trevstranded\t\tFalse\n",
    "20220311_GDJ_multistim_rnaseq\tA549_pretreatCpdA_dex_RNAseq_rep3\tA549_pretreatCpdA_dex_RNAseq_rep3\tPE\thg38\tRNA-seq\t\t\trevstranded\t\tFalse\n",
    "20220311_GDJ_multistim_rnaseq\tA549_TNF_pretreatCpdA_dex_RNAseq_rep1\tA549_TNF_pretreatCpdA_dex_RNAseq_rep1\tPE\thg38\tRNA-seq\t\t\trevstranded\t\tFalse\n",
    "20220311_GDJ_multistim_rnaseq\tA549_TNF_pretreatCpdA_dex_RNAseq_rep2\tA549_TNF_pretreatCpdA_dex_RNAseq_rep2\tPE\thg38\tRNA-seq\t\t\trevstranded\t\tFalse\n",
    "20220311_GDJ_multistim_rnaseq\tA549_TNF_pretreatCpdA_dex_RNAseq_rep3\tA549_TNF_pretreatCpdA_dex_RNAseq_rep3\tPE\thg38\tRNA-seq\t\t\trevstranded\t\tFalse\n",
    "20220311_GDJ_multistim_rnaseq\tA549_CORT108297_RNAseq_rep1\tA549_CORT108297_RNAseq_rep1\tPE\thg38\tRNA-seq\t\t\trevstranded\t\tFalse\n",
    "20220311_GDJ_multistim_rnaseq\tA549_CORT108297_RNAseq_rep2\tA549_CORT108297_RNAseq_rep2\tPE\thg38\tRNA-seq\t\t\trevstranded\t\tFalse\n",
    "20220311_GDJ_multistim_rnaseq\tA549_CORT108297_RNAseq_rep3\tA549_CORT108297_RNAseq_rep3\tPE\thg38\tRNA-seq\t\t\trevstranded\t\tFalse\n",
    "20220311_GDJ_multistim_rnaseq\tA549_TNF_CORT108297_RNAseq_rep1\tA549_TNF_CORT108297_RNAseq_rep1\tPE\thg38\tRNA-seq\t\t\trevstranded\t\tFalse\n",
    "20220311_GDJ_multistim_rnaseq\tA549_TNF_CORT108297_RNAseq_rep2\tA549_TNF_CORT108297_RNAseq_rep2\tPE\thg38\tRNA-seq\t\t\trevstranded\t\tFalse\n",
    "20220311_GDJ_multistim_rnaseq\tA549_TNF_CORT108297_RNAseq_rep3\tA549_TNF_CORT108297_RNAseq_rep3\tPE\thg38\tRNA-seq\t\t\trevstranded\t\tFalse\n",
    "20220311_GDJ_multistim_rnaseq\tA549_dex_RNAseq_rep1\tA549_dex_RNAseq_rep1\tPE\thg38\tRNA-seq\t\t\trevstranded\t\tFalse\n",
    "20220311_GDJ_multistim_rnaseq\tA549_dex_RNAseq_rep2\tA549_dex_RNAseq_rep2\tPE\thg38\tRNA-seq\t\t\trevstranded\t\tFalse\n",
    "20220311_GDJ_multistim_rnaseq\tA549_dex_RNAseq_rep3\tA549_dex_RNAseq_rep3\tPE\thg38\tRNA-seq\t\t\trevstranded\t\tFalse\n",
    "20220311_GDJ_multistim_rnaseq\tA549_TNF_dex_RNAseq_rep1\tA549_TNF_dex_RNAseq_rep1\tPE\thg38\tRNA-seq\t\t\trevstranded\t\tFalse\n",
    "20220311_GDJ_multistim_rnaseq\tA549_TNF_dex_RNAseq_rep2\tA549_TNF_dex_RNAseq_rep2\tPE\thg38\tRNA-seq\t\t\trevstranded\t\tFalse\n",
    "20220311_GDJ_multistim_rnaseq\tA549_TNF_dex_RNAseq_rep3\tA549_TNF_dex_RNAseq_rep3\tPE\thg38\tRNA-seq\t\t\trevstranded\t\tFalse\n",
    "20220311_GDJ_multistim_rnaseq\tA549_ZK216348_RNAseq_rep1\tA549_ZK216348_RNAseq_rep1\tPE\thg38\tRNA-seq\t\t\trevstranded\t\tFalse\n",
    "20220311_GDJ_multistim_rnaseq\tA549_ZK216348_RNAseq_rep2\tA549_ZK216348_RNAseq_rep2\tPE\thg38\tRNA-seq\t\t\trevstranded\t\tFalse\n",
    "20220311_GDJ_multistim_rnaseq\tA549_ZK216348_RNAseq_rep3\tA549_ZK216348_RNAseq_rep3\tPE\thg38\tRNA-seq\t\t\trevstranded\t\tFalse\n",
    "20220311_GDJ_multistim_rnaseq\tA549_TNF_ZK216348_RNAseq_rep1\tA549_TNF_ZK216348_RNAseq_rep1\tPE\thg38\tRNA-seq\t\t\trevstranded\t\tFalse\n",
    "20220311_GDJ_multistim_rnaseq\tA549_TNF_ZK216348_RNAseq_rep2\tA549_TNF_ZK216348_RNAseq_rep2\tPE\thg38\tRNA-seq\t\t\trevstranded\t\tFalse\n",
    "20220311_GDJ_multistim_rnaseq\tA549_TNF_ZK216348_RNAseq_rep3\tA549_TNF_ZK216348_RNAseq_rep3\tPE\thg38\tRNA-seq\t\t\trevstranded\t\tFalse\n",
    "20220311_GDJ_multistim_rnaseq\tA549_hydrocortisone_RNAseq_rep1\tA549_hydrocortisone_RNAseq_rep1\tPE\thg38\tRNA-seq\t\t\trevstranded\t\tFalse\n",
    "20220311_GDJ_multistim_rnaseq\tA549_hydrocortisone_RNAseq_rep2\tA549_hydrocortisone_RNAseq_rep2\tPE\thg38\tRNA-seq\t\t\trevstranded\t\tFalse\n",
    "20220311_GDJ_multistim_rnaseq\tA549_hydrocortisone_RNAseq_rep3\tA549_hydrocortisone_RNAseq_rep3\tPE\thg38\tRNA-seq\t\t\trevstranded\t\tFalse\n",
    "20220311_GDJ_multistim_rnaseq\tA549_TNF_hydrocortisone_RNAseq_rep1\tA549_TNF_hydrocortisone_RNAseq_rep1\tPE\thg38\tRNA-seq\t\t\trevstranded\t\tFalse\n",
    "20220311_GDJ_multistim_rnaseq\tA549_TNF_hydrocortisone_RNAseq_rep2\tA549_TNF_hydrocortisone_RNAseq_rep2\tPE\thg38\tRNA-seq\t\t\trevstranded\t\tFalse\n",
    "20220311_GDJ_multistim_rnaseq\tA549_TNF_hydrocortisone_RNAseq_rep3\tA549_TNF_hydrocortisone_RNAseq_rep3\tPE\thg38\tRNA-seq\t\t\trevstranded\t\tFalse\n",
    "20220311_GDJ_multistim_rnaseq\tA549_CpdA_RNAseq_rep1\tA549_CpdA_RNAseq_rep1\tPE\thg38\tRNA-seq\t\t\trevstranded\t\tFalse\n",
    "20220311_GDJ_multistim_rnaseq\tA549_CpdA_RNAseq_rep2\tA549_CpdA_RNAseq_rep2\tPE\thg38\tRNA-seq\t\t\trevstranded\t\tFalse\n",
    "20220311_GDJ_multistim_rnaseq\tA549_CpdA_RNAseq_rep3\tA549_CpdA_RNAseq_rep3\tPE\thg38\tRNA-seq\t\t\trevstranded\t\tFalse\n",
    "20220311_GDJ_multistim_rnaseq\tA549_TNF_CpdA_RNAseq_rep1\tA549_TNF_CpdA_RNAseq_rep1\tPE\thg38\tRNA-seq\t\t\trevstranded\t\tFalse\n",
    "20220311_GDJ_multistim_rnaseq\tA549_TNF_CpdA_RNAseq_rep2\tA549_TNF_CpdA_RNAseq_rep2\tPE\thg38\tRNA-seq\t\t\trevstranded\t\tFalse\n",
    "20220311_GDJ_multistim_rnaseq\tA549_TNF_CpdA_RNAseq_rep3\tA549_TNF_CpdA_RNAseq_rep3\tPE\thg38\tRNA-seq\t\t\trevstranded\t\tFalse\n",
    "20220311_GDJ_multistim_rnaseq\tA549_RU489_RNAseq_rep1\tA549_RU489_RNAseq_rep1\tPE\thg38\tRNA-seq\t\t\trevstranded\t\tFalse\n",
    "20220311_GDJ_multistim_rnaseq\tA549_RU489_RNAseq_rep2\tA549_RU489_RNAseq_rep2\tPE\thg38\tRNA-seq\t\t\trevstranded\t\tFalse\n",
    "20220311_GDJ_multistim_rnaseq\tA549_RU489_RNAseq_rep3\tA549_RU489_RNAseq_rep3\tPE\thg38\tRNA-seq\t\t\trevstranded\t\tFalse\n",
    "20220311_GDJ_multistim_rnaseq\tA549_TNF_RU489_RNAseq_rep1\tA549_TNF_RU489_RNAseq_rep1\tPE\thg38\tRNA-seq\t\t\trevstranded\t\tFalse\n",
    "20220311_GDJ_multistim_rnaseq\tA549_TNF_RU489_RNAseq_rep2\tA549_TNF_RU489_RNAseq_rep2\tPE\thg38\tRNA-seq\t\t\trevstranded\t\tFalse\n",
    "20220311_GDJ_multistim_rnaseq\tA549_TNF_RU489_RNAseq_rep3\tA549_TNF_RU489_RNAseq_rep3\tPE\thg38\tRNA-seq\t\t\trevstranded\t\tFalse\n",
    "20220311_GDJ_multistim_rnaseq\tA549_DMSO_RNAseq_rep1\tA549_DMSO_RNAseq_rep1\tPE\thg38\tRNA-seq\t\t\trevstranded\t\tFalse\n",
    "20220311_GDJ_multistim_rnaseq\tA549_DMSO_RNAseq_rep2\tA549_DMSO_RNAseq_rep2\tPE\thg38\tRNA-seq\t\t\trevstranded\t\tFalse\n",
    "20220311_GDJ_multistim_rnaseq\tA549_DMSO_RNAseq_rep3\tA549_DMSO_RNAseq_rep3\tPE\thg38\tRNA-seq\t\t\trevstranded\t\tFalse\n",
    "20220311_GDJ_multistim_rnaseq\tA549_TNF_DMSO_RNAseq_rep1\tA549_TNF_DMSO_RNAseq_rep1\tPE\thg38\tRNA-seq\t\t\trevstranded\t\tFalse\n",
    "20220311_GDJ_multistim_rnaseq\tA549_TNF_DMSO_RNAseq_rep2\tA549_TNF_DMSO_RNAseq_rep2\tPE\thg38\tRNA-seq\t\t\trevstranded\t\tFalse\n",
    "20220311_GDJ_multistim_rnaseq\tA549_TNF_DMSO_RNAseq_rep3\tA549_TNF_DMSO_RNAseq_rep3\tPE\thg38\tRNA-seq\t\t\trevstranded\t\tFalse\n",
    "20220311_GDJ_multistim_rnaseq\tA549_AZD9567_RNAseq_rep1\tA549_AZD9567_RNAseq_rep1\tPE\thg38\tRNA-seq\t\t\trevstranded\t\tFalse\n",
    "20220311_GDJ_multistim_rnaseq\tA549_AZD9567_RNAseq_rep3\tA549_AZD9567_RNAseq_rep3\tPE\thg38\tRNA-seq\t\t\trevstranded\t\tFalse\n",
    "20220311_GDJ_multistim_rnaseq\tA549_TNF_AZD9567_RNAseq_rep1\tA549_TNF_AZD9567_RNAseq_rep1\tPE\thg38\tRNA-seq\t\t\trevstranded\t\tFalse\n",
    "20220311_GDJ_multistim_rnaseq\tA549_TNF_AZD9567_RNAseq_rep2\tA549_TNF_AZD9567_RNAseq_rep2\tPE\thg38\tRNA-seq\t\t\trevstranded\t\tFalse\n",
    "20220311_GDJ_multistim_rnaseq\tA549_TNF_AZD9567_RNAseq_rep3\tA549_TNF_AZD9567_RNAseq_rep3\tPE\thg38\tRNA-seq\t\t\trevstranded\t\tFalse\n",
    "20220311_GDJ_multistim_rnaseq\tA549_GW87085_RNAseq_rep1\tA549_GW87085_RNAseq_rep1\tPE\thg38\tRNA-seq\t\t\trevstranded\t\tFalse\n",
    "20220311_GDJ_multistim_rnaseq\tA549_GW87085_RNAseq_rep2\tA549_GW87085_RNAseq_rep2\tPE\thg38\tRNA-seq\t\t\trevstranded\t\tFalse\n",
    "20220311_GDJ_multistim_rnaseq\tA549_GW87085_RNAseq_rep3\tA549_GW87085_RNAseq_rep3\tPE\thg38\tRNA-seq\t\t\trevstranded\t\tFalse\n",
    "20220311_GDJ_multistim_rnaseq\tA549_TNF_GW87085_RNAseq_rep1\tA549_TNF_GW87085_RNAseq_rep1\tPE\thg38\tRNA-seq\t\t\trevstranded\t\tFalse\n",
    "20220311_GDJ_multistim_rnaseq\tA549_TNF_GW87085_RNAseq_rep2\tA549_TNF_GW87085_RNAseq_rep2\tPE\thg38\tRNA-seq\t\t\trevstranded\t\tFalse\n",
    "20220311_GDJ_multistim_rnaseq\tA549_TNF_GW87085_RNAseq_rep3\tA549_TNF_GW87085_RNAseq_rep3\tPE\thg38\tRNA-seq\t\t\trevstranded\t\tFalse\n",
    "20220311_GDJ_multistim_rnaseq\tA549_mapracorat_RNAseq_rep1\tA549_mapracorat_RNAseq_rep1\tPE\thg38\tRNA-seq\t\t\trevstranded\t\tFalse\n",
    "20220311_GDJ_multistim_rnaseq\tA549_mapracorat_RNAseq_rep2\tA549_mapracorat_RNAseq_rep2\tPE\thg38\tRNA-seq\t\t\trevstranded\t\tFalse\n",
    "20220311_GDJ_multistim_rnaseq\tA549_mapracorat_RNAseq_rep3\tA549_mapracorat_RNAseq_rep3\tPE\thg38\tRNA-seq\t\t\trevstranded\t\tFalse\n",
    "20220311_GDJ_multistim_rnaseq\tA549_TNF_mapracorat_RNAseq_rep1\tA549_TNF_mapracorat_RNAseq_rep1\tPE\thg38\tRNA-seq\t\t\trevstranded\t\tFalse\n",
    "20220311_GDJ_multistim_rnaseq\tA549_TNF_mapracorat_RNAseq_rep2\tA549_TNF_mapracorat_RNAseq_rep2\tPE\thg38\tRNA-seq\t\t\trevstranded\t\tFalse\n",
    "20220311_GDJ_multistim_rnaseq\tA549_TNF_mapracorat_RNAseq_rep3\tA549_TNF_mapracorat_RNAseq_rep3\tPE\thg38\tRNA-seq\t\t\trevstranded\t\tFalse\n",
    "20220311_GDJ_multistim_rnaseq\tA549_AZD2906_RNAseq_rep1\tA549_AZD2906_RNAseq_rep1\tPE\thg38\tRNA-seq\t\t\trevstranded\t\tFalse\n",
    "20220311_GDJ_multistim_rnaseq\tA549_AZD2906_RNAseq_rep2\tA549_AZD2906_RNAseq_rep2\tPE\thg38\tRNA-seq\t\t\trevstranded\t\tFalse\n",
    "20220311_GDJ_multistim_rnaseq\tA549_TNF_AZD2906_RNAseq_rep1\tA549_TNF_AZD2906_RNAseq_rep1\tPE\thg38\tRNA-seq\t\t\trevstranded\t\tFalse\n",
    "20220311_GDJ_multistim_rnaseq\tA549_TNF_AZD2906_RNAseq_rep2\tA549_TNF_AZD2906_RNAseq_rep2\tPE\thg38\tRNA-seq\t\t\trevstranded\t\tFalse\n",
    "20220311_GDJ_multistim_rnaseq\tA549_TNF_AZD2906_RNAseq_rep3\tA549_TNF_AZD2906_RNAseq_rep3\tPE\thg38\tRNA-seq\t\t\trevstranded\t\tFalse\n",
    "20220317_GDJ_multistim_rnaseq\tA549_pretreatCORT108297_dex_RNAseq_rep1\tA549_pretreatCORT108297_dex_RNAseq_rep1\tPE\thg38\tRNA-seq\t\t\trevstranded\t\tFalse\n",
    "20220317_GDJ_multistim_rnaseq\tA549_pretreatCORT108297_dex_RNAseq_rep2\tA549_pretreatCORT108297_dex_RNAseq_rep2\tPE\thg38\tRNA-seq\t\t\trevstranded\t\tFalse\n",
    "20220317_GDJ_multistim_rnaseq\tA549_pretreatCORT108297_dex_RNAseq_rep3\tA549_pretreatCORT108297_dex_RNAseq_rep3\tPE\thg38\tRNA-seq\t\t\trevstranded\t\tFalse\n",
    "20220317_GDJ_multistim_rnaseq\tA549_TNF_pretreatCORT108297_dex_RNAseq_rep1\tA549_TNF_pretreatCORT108297_dex_RNAseq_rep1\tPE\thg38\tRNA-seq\t\t\trevstranded\t\tFalse\n",
    "20220317_GDJ_multistim_rnaseq\tA549_TNF_pretreatCORT108297_dex_RNAseq_rep2\tA549_TNF_pretreatCORT108297_dex_RNAseq_rep2\tPE\thg38\tRNA-seq\t\t\trevstranded\t\tFalse\n",
    "20220317_GDJ_multistim_rnaseq\tA549_pretreatCpdA_dex_RNAseq_rep1\tA549_pretreatCpdA_dex_RNAseq_rep1\tPE\thg38\tRNA-seq\t\t\trevstranded\t\tFalse\n",
    "20220317_GDJ_multistim_rnaseq\tA549_pretreatCpdA_dex_RNAseq_rep2\tA549_pretreatCpdA_dex_RNAseq_rep2\tPE\thg38\tRNA-seq\t\t\trevstranded\t\tFalse\n",
    "20220317_GDJ_multistim_rnaseq\tA549_pretreatCpdA_dex_RNAseq_rep3\tA549_pretreatCpdA_dex_RNAseq_rep3\tPE\thg38\tRNA-seq\t\t\trevstranded\t\tFalse\n",
    "20220317_GDJ_multistim_rnaseq\tA549_TNF_pretreatCpdA_dex_RNAseq_rep1\tA549_TNF_pretreatCpdA_dex_RNAseq_rep1\tPE\thg38\tRNA-seq\t\t\trevstranded\t\tFalse\n",
    "20220317_GDJ_multistim_rnaseq\tA549_TNF_pretreatCpdA_dex_RNAseq_rep2\tA549_TNF_pretreatCpdA_dex_RNAseq_rep2\tPE\thg38\tRNA-seq\t\t\trevstranded\t\tFalse\n",
    "20220317_GDJ_multistim_rnaseq\tA549_TNF_pretreatCpdA_dex_RNAseq_rep3\tA549_TNF_pretreatCpdA_dex_RNAseq_rep3\tPE\thg38\tRNA-seq\t\t\trevstranded\t\tFalse\n",
    "20220317_GDJ_multistim_rnaseq\tA549_CORT108297_RNAseq_rep1\tA549_CORT108297_RNAseq_rep1\tPE\thg38\tRNA-seq\t\t\trevstranded\t\tFalse\n",
    "20220317_GDJ_multistim_rnaseq\tA549_CORT108297_RNAseq_rep2\tA549_CORT108297_RNAseq_rep2\tPE\thg38\tRNA-seq\t\t\trevstranded\t\tFalse\n",
    "20220317_GDJ_multistim_rnaseq\tA549_CORT108297_RNAseq_rep3\tA549_CORT108297_RNAseq_rep3\tPE\thg38\tRNA-seq\t\t\trevstranded\t\tFalse\n",
    "20220317_GDJ_multistim_rnaseq\tA549_TNF_CORT108297_RNAseq_rep1\tA549_TNF_CORT108297_RNAseq_rep1\tPE\thg38\tRNA-seq\t\t\trevstranded\t\tFalse\n",
    "20220317_GDJ_multistim_rnaseq\tA549_TNF_CORT108297_RNAseq_rep2\tA549_TNF_CORT108297_RNAseq_rep2\tPE\thg38\tRNA-seq\t\t\trevstranded\t\tFalse\n",
    "20220317_GDJ_multistim_rnaseq\tA549_TNF_CORT108297_RNAseq_rep3\tA549_TNF_CORT108297_RNAseq_rep3\tPE\thg38\tRNA-seq\t\t\trevstranded\t\tFalse\n",
    "20220317_GDJ_multistim_rnaseq\tA549_dex_RNAseq_rep1\tA549_dex_RNAseq_rep1\tPE\thg38\tRNA-seq\t\t\trevstranded\t\tFalse\n",
    "20220317_GDJ_multistim_rnaseq\tA549_dex_RNAseq_rep2\tA549_dex_RNAseq_rep2\tPE\thg38\tRNA-seq\t\t\trevstranded\t\tFalse\n",
    "20220317_GDJ_multistim_rnaseq\tA549_dex_RNAseq_rep3\tA549_dex_RNAseq_rep3\tPE\thg38\tRNA-seq\t\t\trevstranded\t\tFalse\n",
    "20220317_GDJ_multistim_rnaseq\tA549_TNF_dex_RNAseq_rep1\tA549_TNF_dex_RNAseq_rep1\tPE\thg38\tRNA-seq\t\t\trevstranded\t\tFalse\n",
    "20220317_GDJ_multistim_rnaseq\tA549_TNF_dex_RNAseq_rep2\tA549_TNF_dex_RNAseq_rep2\tPE\thg38\tRNA-seq\t\t\trevstranded\t\tFalse\n",
    "20220317_GDJ_multistim_rnaseq\tA549_TNF_dex_RNAseq_rep3\tA549_TNF_dex_RNAseq_rep3\tPE\thg38\tRNA-seq\t\t\trevstranded\t\tFalse\n",
    "20220317_GDJ_multistim_rnaseq\tA549_ZK216348_RNAseq_rep1\tA549_ZK216348_RNAseq_rep1\tPE\thg38\tRNA-seq\t\t\trevstranded\t\tFalse\n",
    "20220317_GDJ_multistim_rnaseq\tA549_ZK216348_RNAseq_rep2\tA549_ZK216348_RNAseq_rep2\tPE\thg38\tRNA-seq\t\t\trevstranded\t\tFalse\n",
    "20220317_GDJ_multistim_rnaseq\tA549_ZK216348_RNAseq_rep3\tA549_ZK216348_RNAseq_rep3\tPE\thg38\tRNA-seq\t\t\trevstranded\t\tFalse\n",
    "20220317_GDJ_multistim_rnaseq\tA549_TNF_ZK216348_RNAseq_rep1\tA549_TNF_ZK216348_RNAseq_rep1\tPE\thg38\tRNA-seq\t\t\trevstranded\t\tFalse\n",
    "20220317_GDJ_multistim_rnaseq\tA549_TNF_ZK216348_RNAseq_rep2\tA549_TNF_ZK216348_RNAseq_rep2\tPE\thg38\tRNA-seq\t\t\trevstranded\t\tFalse\n",
    "20220317_GDJ_multistim_rnaseq\tA549_TNF_ZK216348_RNAseq_rep3\tA549_TNF_ZK216348_RNAseq_rep3\tPE\thg38\tRNA-seq\t\t\trevstranded\t\tFalse\n",
    "20220317_GDJ_multistim_rnaseq\tA549_hydrocortisone_RNAseq_rep1\tA549_hydrocortisone_RNAseq_rep1\tPE\thg38\tRNA-seq\t\t\trevstranded\t\tFalse\n",
    "20220317_GDJ_multistim_rnaseq\tA549_hydrocortisone_RNAseq_rep2\tA549_hydrocortisone_RNAseq_rep2\tPE\thg38\tRNA-seq\t\t\trevstranded\t\tFalse\n",
    "20220317_GDJ_multistim_rnaseq\tA549_hydrocortisone_RNAseq_rep3\tA549_hydrocortisone_RNAseq_rep3\tPE\thg38\tRNA-seq\t\t\trevstranded\t\tFalse\n",
    "20220317_GDJ_multistim_rnaseq\tA549_TNF_hydrocortisone_RNAseq_rep1\tA549_TNF_hydrocortisone_RNAseq_rep1\tPE\thg38\tRNA-seq\t\t\trevstranded\t\tFalse\n",
    "20220317_GDJ_multistim_rnaseq\tA549_TNF_hydrocortisone_RNAseq_rep2\tA549_TNF_hydrocortisone_RNAseq_rep2\tPE\thg38\tRNA-seq\t\t\trevstranded\t\tFalse\n",
    "20220317_GDJ_multistim_rnaseq\tA549_TNF_hydrocortisone_RNAseq_rep3\tA549_TNF_hydrocortisone_RNAseq_rep3\tPE\thg38\tRNA-seq\t\t\trevstranded\t\tFalse\n",
    "20220317_GDJ_multistim_rnaseq\tA549_CpdA_RNAseq_rep1\tA549_CpdA_RNAseq_rep1\tPE\thg38\tRNA-seq\t\t\trevstranded\t\tFalse\n",
    "20220317_GDJ_multistim_rnaseq\tA549_CpdA_RNAseq_rep2\tA549_CpdA_RNAseq_rep2\tPE\thg38\tRNA-seq\t\t\trevstranded\t\tFalse\n",
    "20220317_GDJ_multistim_rnaseq\tA549_CpdA_RNAseq_rep3\tA549_CpdA_RNAseq_rep3\tPE\thg38\tRNA-seq\t\t\trevstranded\t\tFalse\n",
    "20220317_GDJ_multistim_rnaseq\tA549_TNF_CpdA_RNAseq_rep1\tA549_TNF_CpdA_RNAseq_rep1\tPE\thg38\tRNA-seq\t\t\trevstranded\t\tFalse\n",
    "20220317_GDJ_multistim_rnaseq\tA549_TNF_CpdA_RNAseq_rep2\tA549_TNF_CpdA_RNAseq_rep2\tPE\thg38\tRNA-seq\t\t\trevstranded\t\tFalse\n",
    "20220317_GDJ_multistim_rnaseq\tA549_TNF_CpdA_RNAseq_rep3\tA549_TNF_CpdA_RNAseq_rep3\tPE\thg38\tRNA-seq\t\t\trevstranded\t\tFalse\n",
    "20220317_GDJ_multistim_rnaseq\tA549_RU489_RNAseq_rep1\tA549_RU489_RNAseq_rep1\tPE\thg38\tRNA-seq\t\t\trevstranded\t\tFalse\n",
    "20220317_GDJ_multistim_rnaseq\tA549_RU489_RNAseq_rep2\tA549_RU489_RNAseq_rep2\tPE\thg38\tRNA-seq\t\t\trevstranded\t\tFalse\n",
    "20220317_GDJ_multistim_rnaseq\tA549_RU489_RNAseq_rep3\tA549_RU489_RNAseq_rep3\tPE\thg38\tRNA-seq\t\t\trevstranded\t\tFalse\n",
    "20220317_GDJ_multistim_rnaseq\tA549_TNF_RU489_RNAseq_rep1\tA549_TNF_RU489_RNAseq_rep1\tPE\thg38\tRNA-seq\t\t\trevstranded\t\tFalse\n",
    "20220317_GDJ_multistim_rnaseq\tA549_TNF_RU489_RNAseq_rep2\tA549_TNF_RU489_RNAseq_rep2\tPE\thg38\tRNA-seq\t\t\trevstranded\t\tFalse\n",
    "20220317_GDJ_multistim_rnaseq\tA549_TNF_RU489_RNAseq_rep3\tA549_TNF_RU489_RNAseq_rep3\tPE\thg38\tRNA-seq\t\t\trevstranded\t\tFalse\n",
    "20220317_GDJ_multistim_rnaseq\tA549_DMSO_RNAseq_rep1\tA549_DMSO_RNAseq_rep1\tPE\thg38\tRNA-seq\t\t\trevstranded\t\tFalse\n",
    "20220317_GDJ_multistim_rnaseq\tA549_DMSO_RNAseq_rep2\tA549_DMSO_RNAseq_rep2\tPE\thg38\tRNA-seq\t\t\trevstranded\t\tFalse\n",
    "20220317_GDJ_multistim_rnaseq\tA549_DMSO_RNAseq_rep3\tA549_DMSO_RNAseq_rep3\tPE\thg38\tRNA-seq\t\t\trevstranded\t\tFalse\n",
    "20220317_GDJ_multistim_rnaseq\tA549_TNF_DMSO_RNAseq_rep1\tA549_TNF_DMSO_RNAseq_rep1\tPE\thg38\tRNA-seq\t\t\trevstranded\t\tFalse\n",
    "20220317_GDJ_multistim_rnaseq\tA549_TNF_DMSO_RNAseq_rep2\tA549_TNF_DMSO_RNAseq_rep2\tPE\thg38\tRNA-seq\t\t\trevstranded\t\tFalse\n",
    "20220317_GDJ_multistim_rnaseq\tA549_TNF_DMSO_RNAseq_rep3\tA549_TNF_DMSO_RNAseq_rep3\tPE\thg38\tRNA-seq\t\t\trevstranded\t\tFalse\n",
    "20220317_GDJ_multistim_rnaseq\tA549_AZD9567_RNAseq_rep1\tA549_AZD9567_RNAseq_rep1\tPE\thg38\tRNA-seq\t\t\trevstranded\t\tFalse\n",
    "20220317_GDJ_multistim_rnaseq\tA549_AZD9567_RNAseq_rep3\tA549_AZD9567_RNAseq_rep3\tPE\thg38\tRNA-seq\t\t\trevstranded\t\tFalse\n",
    "20220317_GDJ_multistim_rnaseq\tA549_TNF_AZD9567_RNAseq_rep1\tA549_TNF_AZD9567_RNAseq_rep1\tPE\thg38\tRNA-seq\t\t\trevstranded\t\tFalse\n",
    "20220317_GDJ_multistim_rnaseq\tA549_TNF_AZD9567_RNAseq_rep2\tA549_TNF_AZD9567_RNAseq_rep2\tPE\thg38\tRNA-seq\t\t\trevstranded\t\tFalse\n",
    "20220317_GDJ_multistim_rnaseq\tA549_TNF_AZD9567_RNAseq_rep3\tA549_TNF_AZD9567_RNAseq_rep3\tPE\thg38\tRNA-seq\t\t\trevstranded\t\tFalse\n",
    "20220317_GDJ_multistim_rnaseq\tA549_GW87085_RNAseq_rep1\tA549_GW87085_RNAseq_rep1\tPE\thg38\tRNA-seq\t\t\trevstranded\t\tFalse\n",
    "20220317_GDJ_multistim_rnaseq\tA549_GW87085_RNAseq_rep2\tA549_GW87085_RNAseq_rep2\tPE\thg38\tRNA-seq\t\t\trevstranded\t\tFalse\n",
    "20220317_GDJ_multistim_rnaseq\tA549_GW87085_RNAseq_rep3\tA549_GW87085_RNAseq_rep3\tPE\thg38\tRNA-seq\t\t\trevstranded\t\tFalse\n",
    "20220317_GDJ_multistim_rnaseq\tA549_TNF_GW87085_RNAseq_rep1\tA549_TNF_GW87085_RNAseq_rep1\tPE\thg38\tRNA-seq\t\t\trevstranded\t\tFalse\n",
    "20220317_GDJ_multistim_rnaseq\tA549_TNF_GW87085_RNAseq_rep2\tA549_TNF_GW87085_RNAseq_rep2\tPE\thg38\tRNA-seq\t\t\trevstranded\t\tFalse\n",
    "20220317_GDJ_multistim_rnaseq\tA549_TNF_GW87085_RNAseq_rep3\tA549_TNF_GW87085_RNAseq_rep3\tPE\thg38\tRNA-seq\t\t\trevstranded\t\tFalse\n",
    "20220317_GDJ_multistim_rnaseq\tA549_mapracorat_RNAseq_rep1\tA549_mapracorat_RNAseq_rep1\tPE\thg38\tRNA-seq\t\t\trevstranded\t\tFalse\n",
    "20220317_GDJ_multistim_rnaseq\tA549_mapracorat_RNAseq_rep2\tA549_mapracorat_RNAseq_rep2\tPE\thg38\tRNA-seq\t\t\trevstranded\t\tFalse\n",
    "20220317_GDJ_multistim_rnaseq\tA549_mapracorat_RNAseq_rep3\tA549_mapracorat_RNAseq_rep3\tPE\thg38\tRNA-seq\t\t\trevstranded\t\tFalse\n",
    "20220317_GDJ_multistim_rnaseq\tA549_TNF_mapracorat_RNAseq_rep1\tA549_TNF_mapracorat_RNAseq_rep1\tPE\thg38\tRNA-seq\t\t\trevstranded\t\tFalse\n",
    "20220317_GDJ_multistim_rnaseq\tA549_TNF_mapracorat_RNAseq_rep2\tA549_TNF_mapracorat_RNAseq_rep2\tPE\thg38\tRNA-seq\t\t\trevstranded\t\tFalse\n",
    "20220317_GDJ_multistim_rnaseq\tA549_TNF_mapracorat_RNAseq_rep3\tA549_TNF_mapracorat_RNAseq_rep3\tPE\thg38\tRNA-seq\t\t\trevstranded\t\tFalse\n",
    "20220317_GDJ_multistim_rnaseq\tA549_AZD2906_RNAseq_rep1\tA549_AZD2906_RNAseq_rep1\tPE\thg38\tRNA-seq\t\t\trevstranded\t\tFalse\n",
    "20220317_GDJ_multistim_rnaseq\tA549_AZD2906_RNAseq_rep2\tA549_AZD2906_RNAseq_rep2\tPE\thg38\tRNA-seq\t\t\trevstranded\t\tFalse\n",
    "20220317_GDJ_multistim_rnaseq\tA549_TNF_AZD2906_RNAseq_rep1\tA549_TNF_AZD2906_RNAseq_rep1\tPE\thg38\tRNA-seq\t\t\trevstranded\t\tFalse\n",
    "20220317_GDJ_multistim_rnaseq\tA549_TNF_AZD2906_RNAseq_rep2\tA549_TNF_AZD2906_RNAseq_rep2\tPE\thg38\tRNA-seq\t\t\trevstranded\t\tFalse\n",
    "20220317_GDJ_multistim_rnaseq\tA549_TNF_AZD2906_RNAseq_rep3\tA549_TNF_AZD2906_RNAseq_rep3\tPE\thg38\tRNA-seq\t\t\trevstranded\t\tFalse\n"
   ]
  },
  {
   "cell_type": "markdown",
   "metadata": {},
   "source": [
    "#### Download FASTQ from miseq\n",
    "Create file to download FASTQ files"
   ]
  },
  {
   "cell_type": "code",
   "execution_count": 9,
   "metadata": {},
   "outputs": [
    {
     "name": "stdout",
     "output_type": "stream",
     "text": [
      "Overwriting /data/reddylab/Revathy/collabs/Graham/20220328/processing/rna_seq/scripts/download_20220308_GDJ_multistim_rnaseq.sh\n"
     ]
    }
   ],
   "source": [
    "%%writefile /data/reddylab/Revathy/collabs/Graham/20220328/processing/rna_seq/scripts/download_20220308_GDJ_multistim_rnaseq.sh\n",
    "#!/bin/bash\n",
    "METADATA=/data/reddylab/Revathy/collabs/Graham/20220328/data/rna_seq/metadata/rna_seq_download_metadata.20220308_GDJ_multistim_rnaseq.txt\n",
    "DATA_HOME=/data/reddylab/Revathy/collabs/Graham/20220328/data/rna_seq\n",
    "mkdir -p ${DATA_HOME}/raw_reads/\n",
    "\n",
    "SEQ_PROJECT=20220308_GDJ_multistim_rnaseq\n",
    "BASEMOUNT_TMP=${DATA_HOME}/raw_reads/${SEQ_PROJECT}/bm_tmp\n",
    "mkdir -p ${BASEMOUNT_TMP}\n",
    "\n",
    "# Mount BaseMount\n",
    "basemount --config Mitchell.MiSeq ${BASEMOUNT_TMP}\n",
    "\n",
    "# Metadata\n",
    "rsync -rvz \\\n",
    "    --copy-links \\\n",
    "    -e ssh \\\n",
    "    --update ${BASEMOUNT_TMP}/Runs/${EXPERIMENT}/.json \\\n",
    "             ${DATA_HOME}/raw_reads/${SEQ_PROJECT}/\n",
    "\n",
    "\n",
    "cut -f 1,2 $METADATA | tail -n+2 | sort -u |  while read EXPERIMENT LIB_NAME;\n",
    "do\n",
    "    rsync -rvz \\\n",
    "        --copy-links \\\n",
    "        -e ssh \\\n",
    "        --update ${BASEMOUNT_TMP}/Projects/${EXPERIMENT}/samples/${LIB_NAME}/Files/* \\\n",
    "                 ${DATA_HOME}/raw_reads/${SEQ_PROJECT}/\n",
    "done\n",
    "\n",
    "# Unmount BaseMount\n",
    "basemount --unmount ${BASEMOUNT_TMP}\n"
   ]
  },
  {
   "cell_type": "markdown",
   "metadata": {},
   "source": [
    "Execute file to download files"
   ]
  },
  {
   "cell_type": "code",
   "execution_count": 10,
   "metadata": {},
   "outputs": [],
   "source": [
    "%%script --out blocking_job_str bash\n",
    "sbatch -o /data/reddylab/Revathy/collabs/Graham/20220328/processing/rna_seq/logs/20220308_GDJ_multistim_rnaseq_download_fastq_files.out \\\n",
    " -p all \\\n",
    " --wrap=\"ssh rv103@Hardac-xfer.genome.duke.edu 'sh /data/reddylab/Revathy/collabs/Graham/20220328/processing/rna_seq/scripts/download_20220308_GDJ_multistim_rnaseq.sh' \""
   ]
  },
  {
   "cell_type": "markdown",
   "metadata": {},
   "source": [
    "Extract blocking job id"
   ]
  },
  {
   "cell_type": "code",
   "execution_count": 8,
   "metadata": {},
   "outputs": [],
   "source": [
    "import re\n",
    "blocking_job = re.match('Submitted batch job (\\d+).*', blocking_job_str).group(1)"
   ]
  },
  {
   "cell_type": "markdown",
   "metadata": {},
   "source": [
    "#### Merge lanes of FASTQ files"
   ]
  },
  {
   "cell_type": "markdown",
   "metadata": {},
   "source": [
    "for ii in 20220308_GDJ_multistim_rnaseq 20220311_GDJ_multistim_rnaseq 20220317_GDJ_multistim_rnaseq\n",
    "do "
   ]
  },
  {
   "cell_type": "code",
   "execution_count": 1,
   "metadata": {},
   "outputs": [
    {
     "name": "stdout",
     "output_type": "stream",
     "text": [
      "Overwriting /data/reddylab/Revathy/collabs/Graham/20220328/processing/rna_seq/scripts/merge_lanes_20220308_GDJ_multistim_rnaseq.sh\n"
     ]
    }
   ],
   "source": [
    "%%writefile /data/reddylab/Revathy/collabs/Graham/20220328/processing/rna_seq/scripts/merge_lanes_20220308_GDJ_multistim_rnaseq.sh\n",
    "#!/bin/bash\n",
    "#SBATCH --array=0-225%20\n",
    "for ii in 20220308_GDJ_multistim_rnaseq 20220311_GDJ_multistim_rnaseq 20220317_GDJ_multistim_rnaseq\n",
    "do\n",
    "ORDER=${ii}\n",
    "RAW_DATA_DIR=/data/reddylab/Revathy/collabs/Graham/20220328/data/rna_seq/processed_raw_reads/${ORDER}\n",
    "PROCESSED_DATA_DIR=/data/reddylab/Revathy/collabs/Graham/20220328/data/rna_seq/processed_raw_reads/${ORDER}\n",
    "METADATA=/data/reddylab/Revathy/collabs/Graham/20220328/data/rna_seq/metadata/rna_seq_download_metadata.20220308_GDJ_multistim_rnaseq.txt\n",
    "\n",
    "mkdir -p ${PROCESSED_DATA_DIR}\n",
    "cd ${PROCESSED_DATA_DIR}\n",
    "\n",
    "seq_name_header=$(/bin/grep -Eoi \"sequencing.?core.?library.?name\" ${METADATA})\n",
    "if [[ $? == 1 ]];\n",
    "then\n",
    "    echo -e \"ERROR: Sequencing core library name not found in ${METADATA}\"\n",
    "    exit 1\n",
    "fi\n",
    "\n",
    "name_header=$(/bin/grep -Poi \"\\tname\\t\" ${METADATA})\n",
    "if [[ $? == 1 ]];\n",
    "then\n",
    "    echo -e \"ERROR: Library Name column not found in ${METADATA}\"\n",
    "    exit 1\n",
    "fi\n",
    "name_header=$(echo ${name_header} | cut -f2)\n",
    "\n",
    "seq_type_header=$(head -1 ${METADATA} | /bin/grep -Poi \"paired.?end.?or.?single.?end\")\n",
    "if [[ $? == 1 ]];\n",
    "then\n",
    "    echo -e \"ERROR: Paired-end or single-end column not found in ${METADATA}\"\n",
    "    exit 1\n",
    "fi\n",
    "\n",
    "sample_seq_name=$(/data/reddylab/software/bin/print_tab_cols.awk -v cols=\"${seq_name_header}\" ${METADATA} \\\n",
    "    | awk -v SLURM_ARRAY_TASK_ID=${SLURM_ARRAY_TASK_ID} 'NR==SLURM_ARRAY_TASK_ID+1{print}');\n",
    "sample_name=$(/data/reddylab/software/bin/print_tab_cols.awk -v cols=\"${name_header}\" ${METADATA} \\\n",
    "    | awk -v SLURM_ARRAY_TASK_ID=${SLURM_ARRAY_TASK_ID} 'NR==SLURM_ARRAY_TASK_ID+1{print}');\n",
    "seq_type=$(/data/reddylab/software/bin/print_tab_cols.awk -v cols=\"${seq_type_header}\" ${METADATA} \\\n",
    "    | awk -v SLURM_ARRAY_TASK_ID=${SLURM_ARRAY_TASK_ID} 'NR==SLURM_ARRAY_TASK_ID+1{print}');\n",
    "\n",
    "\n",
    "for read_pair in R1 R2 UMI;\n",
    "do\n",
    "    sample_files=$(/bin/ls ${RAW_DATA_DIR}/${sample_seq_name/ /}_S[0-9]*_L[0-9][0-9][0-9]_${read_pair}_* 2> /dev/null)\n",
    "    if [[ $? != 0 ]]; # If no samples found with that read_pair, continue\n",
    "    then\n",
    "        continue;\n",
    "    fi\n",
    "    if [[ ${read_pair} == \"R1\" || (${seq_type/ /} == \"PE\" || ${seq_type/ /} == \"pe\") ]];\n",
    "    then\n",
    "        # Merge all lanes\n",
    "        merged=$(basename $(echo ${sample_files} | awk '{print $1}') | sed -e 's/_L[0-9]\\{3\\}_/_/')\n",
    "        cat ${sample_files} > ${merged};\n",
    "\n",
    "        # Rename samples with our sample Names\n",
    "        dest_filename=$(basename $(echo ${merged} | awk '{print $1}') | sed -r 's/\\_S[0-9]+//; s/\\_(R1|R2|UMI)\\_/\\.\\1\\./; s/\\.[0-9]+\\.fastq/\\.fastq/')\n",
    "        mv ${merged} ${dest_filename}\n",
    "\n",
    "        cleaned_dest_filename=${dest_filename/${sample_seq_name/ /}/${sample_name/ /}}\n",
    "\n",
    "        if [[ ${seq_type/ /} == \"SE\" || ${seq_type/ /} == \"se\" ]];\n",
    "        then\n",
    "            cleaned_dest_filename=${cleaned_dest_filename/.R1/}\n",
    "        fi\n",
    "        \n",
    "        mv ${dest_filename} ${cleaned_dest_filename}\n",
    "    fi\n",
    "done\n",
    "done"
   ]
  },
  {
   "cell_type": "markdown",
   "metadata": {},
   "source": [
    "Execute file to merge lanes of FASTQ files"
   ]
  },
  {
   "cell_type": "code",
   "execution_count": 2,
   "metadata": {},
   "outputs": [],
   "source": [
    "%%script --out blocking_job_str bash -s \"$blocking_job\"\n",
    "sbatch -o /data/reddylab/Revathy/collabs/Graham/20220328/processing/rna_seq/logs/20220308_GDJ_multistim_rnaseq_merge_fastq_files_%a.out \\\n",
    " -p all \\\n",
    " --array 0-224%20 \\\n",
    " /data/reddylab/Revathy/collabs/Graham/20220328/processing/rna_seq/scripts/merge_lanes_20220308_GDJ_multistim_rnaseq.sh"
   ]
  },
  {
   "cell_type": "markdown",
   "metadata": {},
   "source": [
    "Extract blocking job id"
   ]
  },
  {
   "cell_type": "code",
   "execution_count": 3,
   "metadata": {},
   "outputs": [],
   "source": [
    "import re\n",
    "blocking_job = re.match('Submitted batch job (\\d+).*', blocking_job_str).group(1)"
   ]
  },
  {
   "cell_type": "markdown",
   "metadata": {},
   "source": [
    "##### merge the processed raw_reads created for each replicate into one file "
   ]
  },
  {
   "cell_type": "code",
   "execution_count": null,
   "metadata": {},
   "outputs": [],
   "source": [
    "%%bash\n",
    "mkdir -p /data/reddylab/Revathy/collabs/Graham/20220328/data/rna_seq/processed_raw_reads/20220401_GDJ_multistim_rnaseq\n",
    "cd /data/reddylab/Revathy/collabs/Graham/20220328/data/rna_seq/processed_raw_reads/20220308_GDJ_multistim_rnaseq\n",
    "filenames=$(/bin/ls)\n",
    "for file in ${filenames}\n",
    "do \n",
    " cat /data/reddylab/Revathy/collabs/Graham/20220328/data/rna_seq/processed_raw_reads/20220308_GDJ_multistim_rnaseq/${file} \\\n",
    " /data/reddylab/Revathy/collabs/Graham/20220328/data/rna_seq/processed_raw_reads/20220311_GDJ_multistim_rnaseq/${file} \\\n",
    " /data/reddylab/Revathy/collabs/Graham/20220328/data/rna_seq/processed_raw_reads/20220317_GDJ_multistim_rnaseq/${file} \\\n",
    " > /data/reddylab/Revathy/collabs/Graham/20220328/data/rna_seq/processed_raw_reads/20220401_GDJ_multistim_rnaseq/${file}\n",
    "done"
   ]
  },
  {
   "cell_type": "markdown",
   "metadata": {},
   "source": [
    "#### Create JSON files for CWL pipeline files"
   ]
  },
  {
   "cell_type": "code",
   "execution_count": 1,
   "metadata": {},
   "outputs": [
    {
     "name": "stdout",
     "output_type": "stream",
     "text": [
      "Writing /data/reddylab/Revathy/collabs/Graham/20220328/processing/rna_seq/scripts/cwl_json_gen_20220308_GDJ_multistim_rnaseq.sh\n"
     ]
    }
   ],
   "source": [
    "%%writefile /data/reddylab/Revathy/collabs/Graham/20220328/processing/rna_seq/scripts/cwl_json_gen_20220308_GDJ_multistim_rnaseq.sh\n",
    "#!/bin/bash\n",
    "ORDER=20220401_GDJ_multistim_rnaseq\n",
    "PROCESSED_DATA_DIR=/data/reddylab/Revathy/collabs/Graham/20220328/data/rna_seq/processed_raw_reads/${ORDER}\n",
    "METADATA=/data/reddylab/Revathy/collabs/Graham/20220328/data/rna_seq/metadata/rna_seq_download_metadata.20220308_GDJ_multistim_rnaseq.txt\n",
    "\n",
    "python /data/reddylab/software/cwl/GGR-cwl/v1.0/json-generator/run.py \\\n",
    "    -m ${METADATA} \\\n",
    "    -d ${PROCESSED_DATA_DIR} \\\n",
    "    -o /data/reddylab/Revathy/collabs/Graham/20220328/processing/rna_seq/jsons \\\n",
    "    -t rna-seq \\\n",
    "    --fastq-gzipped \\\n",
    "    --mem 48000 \\\n",
    "    --nthreads 24 \\\n",
    "    --separate-jsons \\\n",
    "    --skip-star-2pass \\\n"
   ]
  },
  {
   "cell_type": "markdown",
   "metadata": {},
   "source": [
    "Execute file to create JSON files"
   ]
  },
  {
   "cell_type": "code",
   "execution_count": 2,
   "metadata": {},
   "outputs": [],
   "source": [
    "%%script --out blocking_job_str bash -s \"$blocking_job\"\n",
    "source /data/reddylab/software/miniconda2/bin/activate cwl10\n",
    "sbatch -o /data/reddylab/Revathy/collabs/Graham/20220328/processing/rna_seq/logs/20220308_GDJ_multistim_rnaseq_cwl_json_gen.out \\\n",
    " -p all \\\n",
    " /data/reddylab/Revathy/collabs/Graham/20220328/processing/rna_seq/scripts/cwl_json_gen_20220308_GDJ_multistim_rnaseq.sh"
   ]
  },
  {
   "cell_type": "markdown",
   "metadata": {},
   "source": [
    "Extract blocking job id"
   ]
  },
  {
   "cell_type": "code",
   "execution_count": 3,
   "metadata": {},
   "outputs": [],
   "source": [
    "import re\n",
    "blocking_job = re.match('Submitted batch job (\\d+).*', blocking_job_str).group(1)"
   ]
  },
  {
   "cell_type": "markdown",
   "metadata": {},
   "source": [
    "#### Create SLURM array master bash file for pe-revstranded-with-sjdb samples"
   ]
  },
  {
   "cell_type": "code",
   "execution_count": 4,
   "metadata": {},
   "outputs": [
    {
     "name": "stdout",
     "output_type": "stream",
     "text": [
      "Writing /data/reddylab/Revathy/collabs/Graham/20220328/processing/rna_seq/scripts/20220308_GDJ_multistim_rnaseq-pe-revstranded-with-sjdb.sh\n"
     ]
    }
   ],
   "source": [
    "%%writefile /data/reddylab/Revathy/collabs/Graham/20220328/processing/rna_seq/scripts/20220308_GDJ_multistim_rnaseq-pe-revstranded-with-sjdb.sh\n",
    "#!/bin/bash\n",
    "#SBATCH --job-name=cwl_rna_seq\n",
    "#SBATCH --output=/data/reddylab/Revathy/collabs/Graham/20220328/processing/rna_seq/logs/20220308_GDJ_multistim_rnaseq-pe-revstranded-with-sjdb-%a.out\n",
    "#SBATCH --mail-user=rv103@duke.edu\n",
    "#SBATCH --mail-type=FAIL,END\n",
    "#SBATCH --mem=48000\n",
    "#SBATCH --cpus-per-task=24\n",
    "\n",
    "\n",
    "export PATH=\"/data/reddylab/software/bin:$PATH\"\n",
    "export PATH=\"/data/common/shared_conda_envs/ucsc/bin:$PATH\"\n",
    "export PATH=\"/data/reddylab/software/cwl/bin:$PATH\"\n",
    "export PATH=\"/data/reddylab/software/preseq_v2.0:$PATH\"\n",
    "export PATH=\"/data/reddylab/software/rsem-1.2.21/:$PATH\"\n",
    "export PATH=\"/data/reddylab/software/STAR-STAR_2.4.1a/bin/Linux_x86_64/:$PATH\"\n",
    "export PATH=\"/data/reddylab/software/subread-1.4.6-p4-Linux-x86_64/bin/:$PATH\"\n",
    "export PATH=\"/data/reddylab/software/bamtools-2.2.3/bin/:$PATH\"\n",
    "\n",
    "export PATH=\"/data/reddylab/software/miniconda2/envs/cwl10/bin:$PATH\"\n",
    "\n",
    "module load bedtools2\n",
    "module load fastqc\n",
    "module load samtools\n",
    "module load bowtie2\n",
    "module load java\n",
    "\n",
    "# For Fastqc\n",
    "export DISPLAY=:0.0\n",
    "\n",
    "# Make sure temporary files and folders are created in a specific folder\n",
    "mkdir -p /data/reddylab/Revathy/collabs/Graham/20220328/processing/rna_seq/tmpdirs/tmp-20220308_GDJ_multistim_rnaseq-pe-revstranded-with-sjdb-${SLURM_ARRAY_TASK_ID}-\n",
    "export TMPDIR=\"/data/reddylab/Revathy/collabs/Graham/20220328/processing/rna_seq/tmpdirs/tmp-20220308_GDJ_multistim_rnaseq-pe-revstranded-with-sjdb-${SLURM_ARRAY_TASK_ID}-\"\n",
    "\n",
    "cwltool --debug \\\n",
    "    --non-strict \\\n",
    "    --preserve-environment PATH \\\n",
    "    --preserve-environment DISPLAY \\\n",
    "    --preserve-environment TMPDIR \\\n",
    "    --outdir /data/reddylab/Revathy/collabs/Graham/20220328/processing/rna_seq/20220401_GDJ_multistim_rnaseq-pe-revstranded-with-sjdb  \\\n",
    "    --no-container \\\n",
    "    /data/reddylab/software/cwl/GGR-cwl/v1.0/RNA-seq_pipeline/pipeline-pe-revstranded-with-sjdb.cwl \\\n",
    "    /data/reddylab/Revathy/collabs/Graham/20220328/processing/rna_seq/jsons/rna_seq_download_metadata.20220308_GDJ_multistim_rnaseq-pe-revstranded-with-sjdb-${SLURM_ARRAY_TASK_ID}.json\n",
    "\n",
    "\n",
    "# Delete any tmpdir not removed by cwltool\n",
    "rm -rf /data/reddylab/Revathy/collabs/Graham/20220328/processing/rna_seq/tmpdirs/tmp-20220308_GDJ_multistim_rnaseq-pe-revstranded-with-sjdb-${SLURM_ARRAY_TASK_ID}-\n"
   ]
  },
  {
   "cell_type": "markdown",
   "metadata": {},
   "source": [
    "Execute SLURM array master file"
   ]
  },
  {
   "cell_type": "code",
   "execution_count": 5,
   "metadata": {},
   "outputs": [],
   "source": [
    "%%script --out blocking_job_str bash -s \"$blocking_job\"\n",
    "source /data/reddylab/software/miniconda2/bin/activate cwl10\n",
    "sbatch -p all \\\n",
    " --depend afterok:$1 \\\n",
    " --array 0-224%20 \\\n",
    " /data/reddylab/Revathy/collabs/Graham/20220328/processing/rna_seq/scripts/20220308_GDJ_multistim_rnaseq-pe-revstranded-with-sjdb.sh"
   ]
  },
  {
   "cell_type": "markdown",
   "metadata": {},
   "source": [
    "Extract blocking job id"
   ]
  },
  {
   "cell_type": "code",
   "execution_count": 6,
   "metadata": {},
   "outputs": [],
   "source": [
    "import re\n",
    "blocking_job = re.match('Submitted batch job (\\d+).*', blocking_job_str).group(1)"
   ]
  },
  {
   "cell_type": "markdown",
   "metadata": {},
   "source": [
    "#### Create QC generating script"
   ]
  },
  {
   "cell_type": "code",
   "execution_count": 7,
   "metadata": {},
   "outputs": [
    {
     "name": "stdout",
     "output_type": "stream",
     "text": [
      "Writing /data/reddylab/Revathy/collabs/Graham/20220328/processing/rna_seq/scripts/generate_qc_cell_20220308_GDJ_multistim_rnaseq-pe-revstranded-with-sjdb.sh\n"
     ]
    }
   ],
   "source": [
    "%%writefile /data/reddylab/Revathy/collabs/Graham/20220328/processing/rna_seq/scripts/generate_qc_cell_20220308_GDJ_multistim_rnaseq-pe-revstranded-with-sjdb.sh\n",
    "#!/bin/bash\n",
    "#SBATCH --job-name=qc\n",
    "#SBATCH --output=/data/reddylab/Revathy/collabs/Graham/20220328/processing/rna_seq/logs/qc_gen.20220308_GDJ_multistim_rnaseq-pe-revstranded-with-sjdb.out\n",
    "\n",
    "source /data/reddylab/software/miniconda2/bin/activate alex\n",
    "cd /data/reddylab/Revathy/collabs/Graham/20220328/processing/rna_seq/20220401_GDJ_multistim_rnaseq-pe-revstranded-with-sjdb\n",
    "\n",
    "python /data/reddylab/software/cwl/bin/generate_stats_rnaseq_paired_end.py ./ \\\n",
    "    -samples $(/bin/ls -1 *PBC.txt | sed 's@.PBC.txt@@') \\\n",
    "> qc.txt"
   ]
  },
  {
   "cell_type": "markdown",
   "metadata": {},
   "source": [
    "Generate QCs for 20220308_GDJ_multistim_rnaseq-pe-revstranded-with-sjdb"
   ]
  },
  {
   "cell_type": "code",
   "execution_count": 8,
   "metadata": {},
   "outputs": [],
   "source": [
    "%%script --out blocking_job_str bash -s \"$blocking_job\"\n",
    "sbatch -p all \\\n",
    " --depend afterok:$1 \\\n",
    " /data/reddylab/Revathy/collabs/Graham/20220328/processing/rna_seq/scripts/generate_qc_cell_20220308_GDJ_multistim_rnaseq-pe-revstranded-with-sjdb.sh"
   ]
  },
  {
   "cell_type": "markdown",
   "metadata": {},
   "source": [
    "Extract blocking job id"
   ]
  },
  {
   "cell_type": "code",
   "execution_count": 9,
   "metadata": {},
   "outputs": [],
   "source": [
    "import re\n",
    "blocking_job = re.match('Submitted batch job (\\d+).*', blocking_job_str).group(1)"
   ]
  },
  {
   "cell_type": "code",
   "execution_count": null,
   "metadata": {},
   "outputs": [],
   "source": []
  }
 ],
 "metadata": {
  "kernelspec": {
   "display_name": "Python3 (revathy)",
   "language": "python",
   "name": "revathy_py3"
  },
  "language_info": {
   "codemirror_mode": {
    "name": "ipython",
    "version": 3
   },
   "file_extension": ".py",
   "mimetype": "text/x-python",
   "name": "python",
   "nbconvert_exporter": "python",
   "pygments_lexer": "ipython3",
   "version": "3.5.4"
  }
 },
 "nbformat": 4,
 "nbformat_minor": 1
}
