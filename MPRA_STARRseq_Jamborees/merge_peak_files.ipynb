{
 "cells": [
  {
   "cell_type": "code",
   "execution_count": 8,
   "metadata": {},
   "outputs": [
    {
     "name": "stdout",
     "output_type": "stream",
     "text": [
      "   321 KS91_K562_hg38_ASTARRseq_Output_rep1.peak.final.bed\n",
      "   665 KS91_K562_hg38_ASTARRseq_Output_rep2.peak.final.bed\n",
      "   675 KS91_K562_hg38_ASTARRseq_Output_rep3.peak.final.bed\n",
      "  1587 KS91_K562_hg38_ASTARRseq_Output_rep4.peak.final.bed\n",
      "   114 KS91_K562_hg38_ASTARRseq_Output_rep5.peak.final.bed\n",
      "   107 KS91_K562_hg38_ASTARRseq_Output_rep6.peak.final.bed\n",
      "   107 KS91_K562_hg38_ASTARRseq_Output_UnionPeakSet.final.bed\n",
      "  1705 KS91_K562_hg38_ASTARRseq_Output_UnionSetPeakSet.final.bed\n",
      "  5281 total\n"
     ]
    }
   ],
   "source": [
    "%%bash\n",
    "cd /data/reddylab/Revathy/collabs/Jamborees/07192021/peak_calls/\n",
    "wc -l *.final.bed"
   ]
  },
  {
   "cell_type": "code",
   "execution_count": 7,
   "metadata": {},
   "outputs": [],
   "source": [
    "%%bash\n",
    "module load bedtools2\n",
    "cat /data/reddylab/Revathy/collabs/Jamborees/07192021/peak_calls/KS91_K562_hg38_ASTARRseq_Output_rep1.peak.final.bed \\\n",
    "    /data/reddylab/Revathy/collabs/Jamborees/07192021/peak_calls/KS91_K562_hg38_ASTARRseq_Output_rep2.peak.final.bed \\\n",
    "    /data/reddylab/Revathy/collabs/Jamborees/07192021/peak_calls/KS91_K562_hg38_ASTARRseq_Output_rep3.peak.final.bed \\\n",
    "    /data/reddylab/Revathy/collabs/Jamborees/07192021/peak_calls/KS91_K562_hg38_ASTARRseq_Output_rep4.peak.final.bed \\\n",
    "    /data/reddylab/Revathy/collabs/Jamborees/07192021/peak_calls/KS91_K562_hg38_ASTARRseq_Output_rep5.peak.final.bed \\\n",
    "    /data/reddylab/Revathy/collabs/Jamborees/07192021/peak_calls/KS91_K562_hg38_ASTARRseq_Output_rep6.peak.final.bed \\\n",
    "| sort -k1,1 -k2,2n | bedtools merge -i - > /data/reddylab/Revathy/collabs/Jamborees/07192021/peak_calls/KS91_K562_hg38_ASTARRseq_Output_UnionSetPeakSet.final.bed"
   ]
  },
  {
   "cell_type": "code",
   "execution_count": null,
   "metadata": {},
   "outputs": [],
   "source": []
  }
 ],
 "metadata": {
  "kernelspec": {
   "display_name": "Python3 (revathy)",
   "language": "python",
   "name": "revathy_py3"
  },
  "language_info": {
   "codemirror_mode": {
    "name": "ipython",
    "version": 3
   },
   "file_extension": ".py",
   "mimetype": "text/x-python",
   "name": "python",
   "nbconvert_exporter": "python",
   "pygments_lexer": "ipython3",
   "version": "3.5.4"
  }
 },
 "nbformat": 4,
 "nbformat_minor": 2
}
