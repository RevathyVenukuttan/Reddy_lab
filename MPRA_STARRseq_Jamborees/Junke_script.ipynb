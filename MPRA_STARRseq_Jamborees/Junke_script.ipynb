{
 "cells": [
  {
   "cell_type": "code",
   "execution_count": 3,
   "metadata": {},
   "outputs": [],
   "source": [
    "suppressPackageStartupMessages({\n",
    "    library(Rsamtools)\n",
    "    library(GenomicAlignments)\n",
    "    library(GenomicFiles)\n",
    "    library(data.table)\n",
    "    library(rtracklayer)\n",
    "    library(GenomicRanges)\n",
    "    library(RColorBrewer)\n",
    "    library(doParallel)\n",
    "});"
   ]
  },
  {
   "cell_type": "code",
   "execution_count": 4,
   "metadata": {},
   "outputs": [],
   "source": [
    "cfilters = ScanBamParam(mapqFilter=10, flag=scanBamFlag(isSecondaryAlignment = F, isDuplicate=F));\n",
    "bfilters = ScanBamParam(mapqFilter=10, flag=scanBamFlag(isSecondaryAlignment = F));\n",
    "yield.bam = function(X) {\n",
    "    y = GRanges( readGAlignmentPairs(X, use.names=F, param=bfilters ));\n",
    "    return(y);\n",
    "}\n",
    "\n",
    "yield.bam1 = function(X) {\n",
    "    y = GRanges( readGAlignmentPairs(X, use.names=F, param=cfilters ));\n",
    "    return(y);\n",
    "}\n",
    "\n",
    "map.bam = function(X) {\n",
    "    return(X);\n",
    "}\n",
    "\n",
    "reduce.bam = function(x, y) {\n",
    "    x = append(x, y);\n",
    "    # print the number of readpairs processed\n",
    "    #msgout(pn(length(x)), 'mapped human reads');\n",
    "    return(x);\n",
    "}\n",
    "\n",
    "collapse_reads = function(reads) {\n",
    "    print(length(reads))\n",
    "    uniq = unique(reads)\n",
    "    # sum over duplicates to get a count for each unique 5'/3' end\n",
    "    uniq$count = countOverlaps( uniq, reads, type=\"equal\");\n",
    "    print(length(uniq))\n",
    "    return( uniq );\n",
    "}"
   ]
  },
  {
   "cell_type": "code",
   "execution_count": 58,
   "metadata": {
    "scrolled": true
   },
   "outputs": [
    {
     "name": "stdout",
     "output_type": "stream",
     "text": [
      "[1] 249\n",
      "[1] 125\n",
      "[1] 128\n",
      "[1] 124\n"
     ]
    }
   ],
   "source": [
    "test_500='/data/reddylab/Revathy/dev/Jamborees/MPRA_STARRseq/tmp/k562.atacstarr.output.rep3.dups_marked_subset500.bam' \n",
    "test_bam=BamFile(test_500)\n",
    "\n",
    "## yield.bam doesn't use isDuplicate=F flag while yield.bam1 uses the isDuplicate=F flag\n",
    "\n",
    "test_out=reduceByYield(test_bam, yield.bam, map.bam, reduce.bam)\n",
    "test_out_isdup=reduceByYield(test_bam, yield.bam1, map.bam, reduce.bam)\n",
    "\n",
    "ctTable=collapse_reads(test_out)\n",
    "ctTable_isdup=collapse_reads(test_out_isdup)"
   ]
  },
  {
   "cell_type": "code",
   "execution_count": 61,
   "metadata": {},
   "outputs": [
    {
     "data": {
      "text/plain": [
       "GRanges object with 10 ranges and 1 metadata column:\n",
       "       seqnames         ranges strand |     count\n",
       "          <Rle>      <IRanges>  <Rle> | <integer>\n",
       "   [1]     chr1 [10586, 11175]      - |         1\n",
       "   [2]     chr1 [13149, 13328]      + |         1\n",
       "   [3]     chr1 [13170, 13341]      + |         1\n",
       "   [4]     chr1 [13304, 13494]      + |         1\n",
       "   [5]     chr1 [13304, 13505]      + |         1\n",
       "   [6]     chr1 [13304, 13505]      - |         2\n",
       "   [7]     chr1 [13315, 13505]      - |         1\n",
       "   [8]     chr1 [14453, 14620]      + |         1\n",
       "   [9]     chr1 [14694, 15109]      + |         1\n",
       "  [10]     chr1 [15180, 15401]      + |         2\n",
       "  -------\n",
       "  seqinfo: 195 sequences from an unspecified genome"
      ]
     },
     "metadata": {},
     "output_type": "display_data"
    }
   ],
   "source": [
    "head(ctTable_isdup, n=10)"
   ]
  },
  {
   "cell_type": "code",
   "execution_count": 62,
   "metadata": {},
   "outputs": [
    {
     "data": {
      "text/html": [
       "<table>\n",
       "<thead><tr><th scope=col>name</th><th scope=col>score</th><th scope=col>barcode</th></tr></thead>\n",
       "<tbody>\n",
       "\t<tr><td>chr1_10586_11175</td><td>1               </td><td>.               </td></tr>\n",
       "\t<tr><td>chr1_13149_13328</td><td>1               </td><td>.               </td></tr>\n",
       "\t<tr><td>chr1_13170_13341</td><td>1               </td><td>.               </td></tr>\n",
       "\t<tr><td>chr1_13304_13494</td><td>1               </td><td>.               </td></tr>\n",
       "\t<tr><td>chr1_13304_13505</td><td>1               </td><td>.               </td></tr>\n",
       "\t<tr><td>chr1_13304_13505</td><td>2               </td><td>.               </td></tr>\n",
       "\t<tr><td>chr1_13315_13505</td><td>1               </td><td>.               </td></tr>\n",
       "\t<tr><td>chr1_14453_14620</td><td>1               </td><td>.               </td></tr>\n",
       "\t<tr><td>chr1_14694_15109</td><td>1               </td><td>.               </td></tr>\n",
       "\t<tr><td>chr1_15180_15401</td><td>2               </td><td>.               </td></tr>\n",
       "\t<tr><td>chr1_15834_16249</td><td>1               </td><td>.               </td></tr>\n",
       "\t<tr><td>chr1_15835_16249</td><td>1               </td><td>.               </td></tr>\n",
       "\t<tr><td>chr1_16008_16298</td><td>1               </td><td>.               </td></tr>\n",
       "\t<tr><td>chr1_16018_16253</td><td>1               </td><td>.               </td></tr>\n",
       "\t<tr><td>chr1_16019_16253</td><td>1               </td><td>.               </td></tr>\n",
       "\t<tr><td>chr1_16039_16261</td><td>1               </td><td>.               </td></tr>\n",
       "\t<tr><td>chr1_16096_16290</td><td>1               </td><td>.               </td></tr>\n",
       "\t<tr><td>chr1_16107_16261</td><td>1               </td><td>.               </td></tr>\n",
       "\t<tr><td>chr1_16194_16455</td><td>1               </td><td>.               </td></tr>\n",
       "\t<tr><td>chr1_16195_16455</td><td>1               </td><td>.               </td></tr>\n",
       "\t<tr><td>chr1_16088_16248</td><td>1               </td><td>.               </td></tr>\n",
       "\t<tr><td>chr1_16226_16463</td><td>1               </td><td>.               </td></tr>\n",
       "\t<tr><td>chr1_16196_16256</td><td>1               </td><td>.               </td></tr>\n",
       "\t<tr><td>chr1_16088_16298</td><td>1               </td><td>.               </td></tr>\n",
       "\t<tr><td>chr1_16287_16736</td><td>1               </td><td>.               </td></tr>\n",
       "\t<tr><td>chr1_16295_16540</td><td>1               </td><td>.               </td></tr>\n",
       "\t<tr><td>chr1_17369_17513</td><td>1               </td><td>.               </td></tr>\n",
       "\t<tr><td>chr1_17284_17513</td><td>1               </td><td>.               </td></tr>\n",
       "\t<tr><td>chr1_18821_19249</td><td>1               </td><td>.               </td></tr>\n",
       "\t<tr><td>chr1_26849_27025</td><td>1               </td><td>.               </td></tr>\n",
       "\t<tr><td>⋮</td><td>⋮</td><td>⋮</td></tr>\n",
       "\t<tr><td>chr1_93271_93435  </td><td>1                 </td><td>.                 </td></tr>\n",
       "\t<tr><td>chr1_94782_95036  </td><td>1                 </td><td>.                 </td></tr>\n",
       "\t<tr><td>chr1_94370_94902  </td><td>1                 </td><td>.                 </td></tr>\n",
       "\t<tr><td>chr1_94370_94901  </td><td>1                 </td><td>.                 </td></tr>\n",
       "\t<tr><td>chr1_99124_99313  </td><td>1                 </td><td>.                 </td></tr>\n",
       "\t<tr><td>chr1_99181_99630  </td><td>1                 </td><td>.                 </td></tr>\n",
       "\t<tr><td>chr1_99183_99630  </td><td>1                 </td><td>.                 </td></tr>\n",
       "\t<tr><td>chr1_100647_100949</td><td>1                 </td><td>.                 </td></tr>\n",
       "\t<tr><td>chr1_100647_100948</td><td>1                 </td><td>.                 </td></tr>\n",
       "\t<tr><td>chr1_101483_101830</td><td>1                 </td><td>.                 </td></tr>\n",
       "\t<tr><td>chr1_101534_101744</td><td>1                 </td><td>.                 </td></tr>\n",
       "\t<tr><td>chr1_102546_102785</td><td>1                 </td><td>.                 </td></tr>\n",
       "\t<tr><td>chr1_102682_102774</td><td>1                 </td><td>.                 </td></tr>\n",
       "\t<tr><td>chr1_103647_103924</td><td>1                 </td><td>.                 </td></tr>\n",
       "\t<tr><td>chr1_104951_105055</td><td>1                 </td><td>.                 </td></tr>\n",
       "\t<tr><td>chr1_105879_106023</td><td>2                 </td><td>.                 </td></tr>\n",
       "\t<tr><td>chr1_106803_106909</td><td>1                 </td><td>.                 </td></tr>\n",
       "\t<tr><td>chr1_106799_107016</td><td>1                 </td><td>.                 </td></tr>\n",
       "\t<tr><td>chr1_106798_107016</td><td>1                 </td><td>.                 </td></tr>\n",
       "\t<tr><td>chr1_106814_107026</td><td>1                 </td><td>.                 </td></tr>\n",
       "\t<tr><td>chr1_107308_107525</td><td>1                 </td><td>.                 </td></tr>\n",
       "\t<tr><td>chr1_108526_108669</td><td>1                 </td><td>.                 </td></tr>\n",
       "\t<tr><td>chr1_108583_108767</td><td>1                 </td><td>.                 </td></tr>\n",
       "\t<tr><td>chr1_108732_109120</td><td>1                 </td><td>.                 </td></tr>\n",
       "\t<tr><td>chr1_109097_109214</td><td>1                 </td><td>.                 </td></tr>\n",
       "\t<tr><td>chr1_109161_109460</td><td>1                 </td><td>.                 </td></tr>\n",
       "\t<tr><td>chr1_109130_109192</td><td>1                 </td><td>.                 </td></tr>\n",
       "\t<tr><td>chr1_111411_111829</td><td>1                 </td><td>.                 </td></tr>\n",
       "\t<tr><td>chr1_111546_111844</td><td>1                 </td><td>.                 </td></tr>\n",
       "\t<tr><td>chr1_111822_111992</td><td>1                 </td><td>.                 </td></tr>\n",
       "</tbody>\n",
       "</table>\n"
      ],
      "text/latex": [
       "\\begin{tabular}{r|lll}\n",
       " name & score & barcode\\\\\n",
       "\\hline\n",
       "\t chr1\\_10586\\_11175 & 1                    & .                   \\\\\n",
       "\t chr1\\_13149\\_13328 & 1                    & .                   \\\\\n",
       "\t chr1\\_13170\\_13341 & 1                    & .                   \\\\\n",
       "\t chr1\\_13304\\_13494 & 1                    & .                   \\\\\n",
       "\t chr1\\_13304\\_13505 & 1                    & .                   \\\\\n",
       "\t chr1\\_13304\\_13505 & 2                    & .                   \\\\\n",
       "\t chr1\\_13315\\_13505 & 1                    & .                   \\\\\n",
       "\t chr1\\_14453\\_14620 & 1                    & .                   \\\\\n",
       "\t chr1\\_14694\\_15109 & 1                    & .                   \\\\\n",
       "\t chr1\\_15180\\_15401 & 2                    & .                   \\\\\n",
       "\t chr1\\_15834\\_16249 & 1                    & .                   \\\\\n",
       "\t chr1\\_15835\\_16249 & 1                    & .                   \\\\\n",
       "\t chr1\\_16008\\_16298 & 1                    & .                   \\\\\n",
       "\t chr1\\_16018\\_16253 & 1                    & .                   \\\\\n",
       "\t chr1\\_16019\\_16253 & 1                    & .                   \\\\\n",
       "\t chr1\\_16039\\_16261 & 1                    & .                   \\\\\n",
       "\t chr1\\_16096\\_16290 & 1                    & .                   \\\\\n",
       "\t chr1\\_16107\\_16261 & 1                    & .                   \\\\\n",
       "\t chr1\\_16194\\_16455 & 1                    & .                   \\\\\n",
       "\t chr1\\_16195\\_16455 & 1                    & .                   \\\\\n",
       "\t chr1\\_16088\\_16248 & 1                    & .                   \\\\\n",
       "\t chr1\\_16226\\_16463 & 1                    & .                   \\\\\n",
       "\t chr1\\_16196\\_16256 & 1                    & .                   \\\\\n",
       "\t chr1\\_16088\\_16298 & 1                    & .                   \\\\\n",
       "\t chr1\\_16287\\_16736 & 1                    & .                   \\\\\n",
       "\t chr1\\_16295\\_16540 & 1                    & .                   \\\\\n",
       "\t chr1\\_17369\\_17513 & 1                    & .                   \\\\\n",
       "\t chr1\\_17284\\_17513 & 1                    & .                   \\\\\n",
       "\t chr1\\_18821\\_19249 & 1                    & .                   \\\\\n",
       "\t chr1\\_26849\\_27025 & 1                    & .                   \\\\\n",
       "\t ⋮ & ⋮ & ⋮\\\\\n",
       "\t chr1\\_93271\\_93435   & 1                      & .                     \\\\\n",
       "\t chr1\\_94782\\_95036   & 1                      & .                     \\\\\n",
       "\t chr1\\_94370\\_94902   & 1                      & .                     \\\\\n",
       "\t chr1\\_94370\\_94901   & 1                      & .                     \\\\\n",
       "\t chr1\\_99124\\_99313   & 1                      & .                     \\\\\n",
       "\t chr1\\_99181\\_99630   & 1                      & .                     \\\\\n",
       "\t chr1\\_99183\\_99630   & 1                      & .                     \\\\\n",
       "\t chr1\\_100647\\_100949 & 1                      & .                     \\\\\n",
       "\t chr1\\_100647\\_100948 & 1                      & .                     \\\\\n",
       "\t chr1\\_101483\\_101830 & 1                      & .                     \\\\\n",
       "\t chr1\\_101534\\_101744 & 1                      & .                     \\\\\n",
       "\t chr1\\_102546\\_102785 & 1                      & .                     \\\\\n",
       "\t chr1\\_102682\\_102774 & 1                      & .                     \\\\\n",
       "\t chr1\\_103647\\_103924 & 1                      & .                     \\\\\n",
       "\t chr1\\_104951\\_105055 & 1                      & .                     \\\\\n",
       "\t chr1\\_105879\\_106023 & 2                      & .                     \\\\\n",
       "\t chr1\\_106803\\_106909 & 1                      & .                     \\\\\n",
       "\t chr1\\_106799\\_107016 & 1                      & .                     \\\\\n",
       "\t chr1\\_106798\\_107016 & 1                      & .                     \\\\\n",
       "\t chr1\\_106814\\_107026 & 1                      & .                     \\\\\n",
       "\t chr1\\_107308\\_107525 & 1                      & .                     \\\\\n",
       "\t chr1\\_108526\\_108669 & 1                      & .                     \\\\\n",
       "\t chr1\\_108583\\_108767 & 1                      & .                     \\\\\n",
       "\t chr1\\_108732\\_109120 & 1                      & .                     \\\\\n",
       "\t chr1\\_109097\\_109214 & 1                      & .                     \\\\\n",
       "\t chr1\\_109161\\_109460 & 1                      & .                     \\\\\n",
       "\t chr1\\_109130\\_109192 & 1                      & .                     \\\\\n",
       "\t chr1\\_111411\\_111829 & 1                      & .                     \\\\\n",
       "\t chr1\\_111546\\_111844 & 1                      & .                     \\\\\n",
       "\t chr1\\_111822\\_111992 & 1                      & .                     \\\\\n",
       "\\end{tabular}\n"
      ],
      "text/markdown": [
       "\n",
       "name | score | barcode | \n",
       "|---|---|---|---|---|---|---|---|---|---|---|---|---|---|---|---|---|---|---|---|---|---|---|---|---|---|---|---|---|---|---|---|---|---|---|---|---|---|---|---|---|---|---|---|---|---|---|---|---|---|---|---|---|---|---|---|---|---|---|---|---|\n",
       "| chr1_10586_11175 | 1                | .                | \n",
       "| chr1_13149_13328 | 1                | .                | \n",
       "| chr1_13170_13341 | 1                | .                | \n",
       "| chr1_13304_13494 | 1                | .                | \n",
       "| chr1_13304_13505 | 1                | .                | \n",
       "| chr1_13304_13505 | 2                | .                | \n",
       "| chr1_13315_13505 | 1                | .                | \n",
       "| chr1_14453_14620 | 1                | .                | \n",
       "| chr1_14694_15109 | 1                | .                | \n",
       "| chr1_15180_15401 | 2                | .                | \n",
       "| chr1_15834_16249 | 1                | .                | \n",
       "| chr1_15835_16249 | 1                | .                | \n",
       "| chr1_16008_16298 | 1                | .                | \n",
       "| chr1_16018_16253 | 1                | .                | \n",
       "| chr1_16019_16253 | 1                | .                | \n",
       "| chr1_16039_16261 | 1                | .                | \n",
       "| chr1_16096_16290 | 1                | .                | \n",
       "| chr1_16107_16261 | 1                | .                | \n",
       "| chr1_16194_16455 | 1                | .                | \n",
       "| chr1_16195_16455 | 1                | .                | \n",
       "| chr1_16088_16248 | 1                | .                | \n",
       "| chr1_16226_16463 | 1                | .                | \n",
       "| chr1_16196_16256 | 1                | .                | \n",
       "| chr1_16088_16298 | 1                | .                | \n",
       "| chr1_16287_16736 | 1                | .                | \n",
       "| chr1_16295_16540 | 1                | .                | \n",
       "| chr1_17369_17513 | 1                | .                | \n",
       "| chr1_17284_17513 | 1                | .                | \n",
       "| chr1_18821_19249 | 1                | .                | \n",
       "| chr1_26849_27025 | 1                | .                | \n",
       "| ⋮ | ⋮ | ⋮ | \n",
       "| chr1_93271_93435   | 1                  | .                  | \n",
       "| chr1_94782_95036   | 1                  | .                  | \n",
       "| chr1_94370_94902   | 1                  | .                  | \n",
       "| chr1_94370_94901   | 1                  | .                  | \n",
       "| chr1_99124_99313   | 1                  | .                  | \n",
       "| chr1_99181_99630   | 1                  | .                  | \n",
       "| chr1_99183_99630   | 1                  | .                  | \n",
       "| chr1_100647_100949 | 1                  | .                  | \n",
       "| chr1_100647_100948 | 1                  | .                  | \n",
       "| chr1_101483_101830 | 1                  | .                  | \n",
       "| chr1_101534_101744 | 1                  | .                  | \n",
       "| chr1_102546_102785 | 1                  | .                  | \n",
       "| chr1_102682_102774 | 1                  | .                  | \n",
       "| chr1_103647_103924 | 1                  | .                  | \n",
       "| chr1_104951_105055 | 1                  | .                  | \n",
       "| chr1_105879_106023 | 2                  | .                  | \n",
       "| chr1_106803_106909 | 1                  | .                  | \n",
       "| chr1_106799_107016 | 1                  | .                  | \n",
       "| chr1_106798_107016 | 1                  | .                  | \n",
       "| chr1_106814_107026 | 1                  | .                  | \n",
       "| chr1_107308_107525 | 1                  | .                  | \n",
       "| chr1_108526_108669 | 1                  | .                  | \n",
       "| chr1_108583_108767 | 1                  | .                  | \n",
       "| chr1_108732_109120 | 1                  | .                  | \n",
       "| chr1_109097_109214 | 1                  | .                  | \n",
       "| chr1_109161_109460 | 1                  | .                  | \n",
       "| chr1_109130_109192 | 1                  | .                  | \n",
       "| chr1_111411_111829 | 1                  | .                  | \n",
       "| chr1_111546_111844 | 1                  | .                  | \n",
       "| chr1_111822_111992 | 1                  | .                  | \n",
       "\n",
       "\n"
      ],
      "text/plain": [
       "    name               score barcode\n",
       "1   chr1_10586_11175   1     .      \n",
       "2   chr1_13149_13328   1     .      \n",
       "3   chr1_13170_13341   1     .      \n",
       "4   chr1_13304_13494   1     .      \n",
       "5   chr1_13304_13505   1     .      \n",
       "6   chr1_13304_13505   2     .      \n",
       "7   chr1_13315_13505   1     .      \n",
       "8   chr1_14453_14620   1     .      \n",
       "9   chr1_14694_15109   1     .      \n",
       "10  chr1_15180_15401   2     .      \n",
       "11  chr1_15834_16249   1     .      \n",
       "12  chr1_15835_16249   1     .      \n",
       "13  chr1_16008_16298   1     .      \n",
       "14  chr1_16018_16253   1     .      \n",
       "15  chr1_16019_16253   1     .      \n",
       "16  chr1_16039_16261   1     .      \n",
       "17  chr1_16096_16290   1     .      \n",
       "18  chr1_16107_16261   1     .      \n",
       "19  chr1_16194_16455   1     .      \n",
       "20  chr1_16195_16455   1     .      \n",
       "21  chr1_16088_16248   1     .      \n",
       "22  chr1_16226_16463   1     .      \n",
       "23  chr1_16196_16256   1     .      \n",
       "24  chr1_16088_16298   1     .      \n",
       "25  chr1_16287_16736   1     .      \n",
       "26  chr1_16295_16540   1     .      \n",
       "27  chr1_17369_17513   1     .      \n",
       "28  chr1_17284_17513   1     .      \n",
       "29  chr1_18821_19249   1     .      \n",
       "30  chr1_26849_27025   1     .      \n",
       "⋮   ⋮                  ⋮     ⋮      \n",
       "95  chr1_93271_93435   1     .      \n",
       "96  chr1_94782_95036   1     .      \n",
       "97  chr1_94370_94902   1     .      \n",
       "98  chr1_94370_94901   1     .      \n",
       "99  chr1_99124_99313   1     .      \n",
       "100 chr1_99181_99630   1     .      \n",
       "101 chr1_99183_99630   1     .      \n",
       "102 chr1_100647_100949 1     .      \n",
       "103 chr1_100647_100948 1     .      \n",
       "104 chr1_101483_101830 1     .      \n",
       "105 chr1_101534_101744 1     .      \n",
       "106 chr1_102546_102785 1     .      \n",
       "107 chr1_102682_102774 1     .      \n",
       "108 chr1_103647_103924 1     .      \n",
       "109 chr1_104951_105055 1     .      \n",
       "110 chr1_105879_106023 2     .      \n",
       "111 chr1_106803_106909 1     .      \n",
       "112 chr1_106799_107016 1     .      \n",
       "113 chr1_106798_107016 1     .      \n",
       "114 chr1_106814_107026 1     .      \n",
       "115 chr1_107308_107525 1     .      \n",
       "116 chr1_108526_108669 1     .      \n",
       "117 chr1_108583_108767 1     .      \n",
       "118 chr1_108732_109120 1     .      \n",
       "119 chr1_109097_109214 1     .      \n",
       "120 chr1_109161_109460 1     .      \n",
       "121 chr1_109130_109192 1     .      \n",
       "122 chr1_111411_111829 1     .      \n",
       "123 chr1_111546_111844 1     .      \n",
       "124 chr1_111822_111992 1     .      "
      ]
     },
     "metadata": {},
     "output_type": "display_data"
    }
   ],
   "source": [
    "ctTable_df = as.data.frame(ctTable_isdup)\n",
    "newCols=data.frame(name=paste0(ctTable_df$seqnames,\"_\", ctTable_df$start,\"_\",ctTable_df$end),\n",
    "                   score = pmin(ctTable_df$count,1000),\n",
    "                   barcode = '.')\n",
    "newCols\n",
    "\n",
    "# ctTable_df$name = paste0(ctTable_df$seqnames,\"_\", ctTable_df$start,\"_\",ctTable_df$end)\n",
    "# ctTable_df$score = '1000'\n",
    "# ctTable_df$barcode = '.'\n",
    "# col_order = c('seqnames','start','end','name','score','strand','count','barcode')\n",
    "# ctTable_df = ctTable_df[, col_order]\n",
    "# ctTable_df"
   ]
  },
  {
   "cell_type": "code",
   "execution_count": 39,
   "metadata": {},
   "outputs": [],
   "source": [
    "write.csv(test_out_isdup, \"/data/reddylab/Revathy/dev/Jamborees/MPRA_STARRseq/tmp/test_out_isdup_table.txt\")"
   ]
  },
  {
   "cell_type": "code",
   "execution_count": 35,
   "metadata": {},
   "outputs": [
    {
     "data": {
      "text/plain": [
       "GRanges object with 10 ranges and 0 metadata columns:\n",
       "       seqnames         ranges strand\n",
       "          <Rle>      <IRanges>  <Rle>\n",
       "   [1]     chr1 [10586, 11175]      -\n",
       "   [2]     chr1 [13149, 13328]      +\n",
       "   [3]     chr1 [13170, 13341]      +\n",
       "   [4]     chr1 [13304, 13494]      +\n",
       "   [5]     chr1 [13304, 13505]      +\n",
       "   [6]     chr1 [13304, 13505]      -\n",
       "   [7]     chr1 [13315, 13505]      -\n",
       "   [8]     chr1 [13304, 13505]      -\n",
       "   [9]     chr1 [14453, 14620]      +\n",
       "  [10]     chr1 [14694, 15109]      +\n",
       "  -------\n",
       "  seqinfo: 195 sequences from an unspecified genome"
      ]
     },
     "metadata": {},
     "output_type": "display_data"
    }
   ],
   "source": [
    "head(test_out_isdup, n=10)"
   ]
  },
  {
   "cell_type": "code",
   "execution_count": 28,
   "metadata": {
    "scrolled": true
   },
   "outputs": [
    {
     "name": "stdout",
     "output_type": "stream",
     "text": [
      "[1] 465\n",
      "[1] 223\n",
      "[1] 242\n",
      "[1] 221\n"
     ]
    }
   ],
   "source": [
    "test_1000='/data/reddylab/Revathy/dev/Jamborees/MPRA_STARRseq/tmp/k562.atacstarr.output.rep3.dups_marked_subset1000.bam'\n",
    "test_bam=BamFile(test_1000)\n",
    "\n",
    "## yield.bam doesn't use isDuplicate=F flag while yield.bam1 uses the isDuplicate=F flag\n",
    "\n",
    "test_out=reduceByYield(test_bam, yield.bam, map.bam, reduce.bam)\n",
    "test_out_isdup=reduceByYield(test_bam, yield.bam1, map.bam, reduce.bam)\n",
    "\n",
    "ctTable=collapse_reads(test_out)\n",
    "ctTable_isdup=collapse_reads(test_out_isdup)"
   ]
  },
  {
   "cell_type": "code",
   "execution_count": 26,
   "metadata": {},
   "outputs": [
    {
     "data": {
      "text/plain": [
       "GRanges object with 223 ranges and 1 metadata column:\n",
       "        seqnames           ranges strand |     count\n",
       "           <Rle>        <IRanges>  <Rle> | <integer>\n",
       "    [1]     chr1   [10586, 11175]      - |         2\n",
       "    [2]     chr1   [13149, 13328]      + |         1\n",
       "    [3]     chr1   [13170, 13341]      + |         3\n",
       "    [4]     chr1   [13304, 13494]      + |         3\n",
       "    [5]     chr1   [13304, 13505]      + |         2\n",
       "    ...      ...              ...    ... .       ...\n",
       "  [219]     chr1 [115638, 115758]      - |         1\n",
       "  [220]     chr1 [115637, 115758]      - |         1\n",
       "  [221]     chr1 [115676, 115758]      - |         2\n",
       "  [222]     chr1 [115650, 115758]      - |         1\n",
       "  [223]     chr1 [115558, 115758]      - |         1\n",
       "  -------\n",
       "  seqinfo: 195 sequences from an unspecified genome"
      ]
     },
     "metadata": {},
     "output_type": "display_data"
    }
   ],
   "source": [
    "ctTable"
   ]
  },
  {
   "cell_type": "code",
   "execution_count": 25,
   "metadata": {},
   "outputs": [
    {
     "data": {
      "text/plain": [
       "GRanges object with 221 ranges and 1 metadata column:\n",
       "        seqnames           ranges strand |     count\n",
       "           <Rle>        <IRanges>  <Rle> | <integer>\n",
       "    [1]     chr1   [10586, 11175]      - |         1\n",
       "    [2]     chr1   [13149, 13328]      + |         1\n",
       "    [3]     chr1   [13170, 13341]      + |         1\n",
       "    [4]     chr1   [13304, 13494]      + |         1\n",
       "    [5]     chr1   [13304, 13505]      + |         1\n",
       "    ...      ...              ...    ... .       ...\n",
       "  [217]     chr1 [115565, 115758]      - |         3\n",
       "  [218]     chr1 [115650, 115757]      - |         1\n",
       "  [219]     chr1 [115676, 115758]      - |         1\n",
       "  [220]     chr1 [115650, 115758]      - |         1\n",
       "  [221]     chr1 [115558, 115758]      - |         1\n",
       "  -------\n",
       "  seqinfo: 195 sequences from an unspecified genome"
      ]
     },
     "metadata": {},
     "output_type": "display_data"
    }
   ],
   "source": [
    "ctTable_isdup"
   ]
  },
  {
   "cell_type": "code",
   "execution_count": 29,
   "metadata": {
    "scrolled": false
   },
   "outputs": [
    {
     "name": "stdout",
     "output_type": "stream",
     "text": [
      "[1] 1793\n",
      "[1] 895\n",
      "[1] 952\n",
      "[1] 895\n"
     ]
    }
   ],
   "source": [
    "test_5000='/data/reddylab/Revathy/dev/Jamborees/MPRA_STARRseq/tmp/k562.atacstarr.output.rep3.dups_marked_subset5000.bam'\n",
    "test_bam=BamFile(test_5000)\n",
    "\n",
    "## yield.bam doesn't use isDuplicate=F flag while yield.bam1 uses the isDuplicate=F flag\n",
    "\n",
    "test_out=reduceByYield(test_bam, yield.bam, map.bam, reduce.bam)\n",
    "test_out_isdup=reduceByYield(test_bam, yield.bam1, map.bam, reduce.bam)\n",
    "\n",
    "ctTable=collapse_reads(test_out)\n",
    "ctTable_isdup=collapse_reads(test_out_isdup)"
   ]
  },
  {
   "cell_type": "code",
   "execution_count": 33,
   "metadata": {},
   "outputs": [
    {
     "data": {
      "text/plain": [
       "GRanges object with 10 ranges and 1 metadata column:\n",
       "       seqnames         ranges strand |     count\n",
       "          <Rle>      <IRanges>  <Rle> | <integer>\n",
       "   [1]     chr1 [10586, 11175]      - |         2\n",
       "   [2]     chr1 [13149, 13328]      + |         1\n",
       "   [3]     chr1 [13170, 13341]      + |         3\n",
       "   [4]     chr1 [13304, 13494]      + |         3\n",
       "   [5]     chr1 [13304, 13505]      + |         2\n",
       "   [6]     chr1 [13304, 13505]      - |         2\n",
       "   [7]     chr1 [13315, 13505]      - |         1\n",
       "   [8]     chr1 [14453, 14620]      + |         1\n",
       "   [9]     chr1 [14694, 15109]      + |         2\n",
       "  [10]     chr1 [15180, 15401]      + |         3\n",
       "  -------\n",
       "  seqinfo: 195 sequences from an unspecified genome"
      ]
     },
     "metadata": {},
     "output_type": "display_data"
    }
   ],
   "source": [
    "head(ctTable, n=10)"
   ]
  },
  {
   "cell_type": "code",
   "execution_count": 32,
   "metadata": {},
   "outputs": [
    {
     "data": {
      "text/plain": [
       "GRanges object with 10 ranges and 1 metadata column:\n",
       "       seqnames         ranges strand |     count\n",
       "          <Rle>      <IRanges>  <Rle> | <integer>\n",
       "   [1]     chr1 [10586, 11175]      - |         1\n",
       "   [2]     chr1 [13149, 13328]      + |         1\n",
       "   [3]     chr1 [13170, 13341]      + |         1\n",
       "   [4]     chr1 [13304, 13494]      + |         1\n",
       "   [5]     chr1 [13304, 13505]      + |         1\n",
       "   [6]     chr1 [13304, 13505]      - |         2\n",
       "   [7]     chr1 [13315, 13505]      - |         1\n",
       "   [8]     chr1 [14453, 14620]      + |         1\n",
       "   [9]     chr1 [14694, 15109]      + |         1\n",
       "  [10]     chr1 [15180, 15401]      + |         2\n",
       "  -------\n",
       "  seqinfo: 195 sequences from an unspecified genome"
      ]
     },
     "metadata": {},
     "output_type": "display_data"
    }
   ],
   "source": [
    "head(ctTable_isdup, n=10)"
   ]
  },
  {
   "cell_type": "code",
   "execution_count": 52,
   "metadata": {},
   "outputs": [
    {
     "name": "stderr",
     "output_type": "stream",
     "text": [
      "Warning message in doTryCatch(return(expr), name, parentenv, handler):\n",
      "“[bam_header_read] EOF marker is absent. The input is probably truncated.”Warning message in doTryCatch(return(expr), name, parentenv, handler):\n",
      "“[bam_header_read] EOF marker is absent. The input is probably truncated.”Warning message in doTryCatch(return(expr), name, parentenv, handler):\n",
      "“[bam_header_read] EOF marker is absent. The input is probably truncated.”Warning message in doTryCatch(return(expr), name, parentenv, handler):\n",
      "“[bam_header_read] EOF marker is absent. The input is probably truncated.”"
     ]
    },
    {
     "name": "stdout",
     "output_type": "stream",
     "text": [
      "[1] 1756\n",
      "[1] 1176\n",
      "[1] 1071\n",
      "[1] 1071\n"
     ]
    }
   ],
   "source": [
    "input_500='/data/reddylab/Revathy/dev/Jamborees/MPRA_STARRseq/tmp/k562.atacstarr.input.rep1.dups_marked_subset500.bam'\n",
    "input_bam=BamFile(input_500)\n",
    "\n",
    "input_out=reduceByYield(input_bam, yield.bam, map.bam, reduce.bam)\n",
    "input_out_isdup=reduceByYield(input_bam, yield.bam1, map.bam, reduce.bam)\n",
    "\n",
    "input_ctTable=collapse_reads(input_out)\n",
    "input_ctTable_isdup=collapse_reads(input_out_isdup)\n"
   ]
  },
  {
   "cell_type": "code",
   "execution_count": 37,
   "metadata": {},
   "outputs": [
    {
     "name": "stdout",
     "output_type": "stream",
     "text": [
      "[1] 45\n",
      "[1] 44\n",
      "[1] 44\n",
      "[1] 44\n"
     ]
    },
    {
     "data": {
      "text/plain": [
       "GRanges object with 44 ranges and 1 metadata column:\n",
       "       seqnames           ranges strand |     count\n",
       "          <Rle>        <IRanges>  <Rle> | <integer>\n",
       "   [1]     chr1   [10238, 10455]      - |         1\n",
       "   [2]     chr1   [10586, 11024]      + |         1\n",
       "   [3]     chr1   [14265, 14471]      + |         1\n",
       "   [4]     chr1   [17336, 17499]      - |         2\n",
       "   [5]     chr1   [17294, 17506]      - |         1\n",
       "   ...      ...              ...    ... .       ...\n",
       "  [40]     chr1 [115729, 115830]      + |         1\n",
       "  [41]     chr1 [115729, 115799]      - |         1\n",
       "  [42]     chr1 [115724, 115828]      - |         1\n",
       "  [43]     chr1 [115729, 115835]      - |         1\n",
       "  [44]     chr1 [115729, 115856]      - |         1\n",
       "  -------\n",
       "  seqinfo: 195 sequences from an unspecified genome"
      ]
     },
     "metadata": {},
     "output_type": "display_data"
    }
   ],
   "source": [
    "inp=BamFile('/data/reddylab/Revathy/dev/Jamborees/MPRA_STARRseq/tmp/k562.atacstarr.input.rep1.dups_marked_subset100.bam')\n",
    "inp_out=reduceByYield(inp, yield.bam, map.bam, reduce.bam)\n",
    "inp_out_isdup=reduceByYield(inp, yield.bam1, map.bam, reduce.bam)\n",
    "inp_ct=collapse_reads(inp_out)\n",
    "inp_ct_isdup=collapse_reads(inp_out_isdup)\n",
    "inp_ct\n"
   ]
  },
  {
   "cell_type": "code",
   "execution_count": 56,
   "metadata": {
    "scrolled": true
   },
   "outputs": [
    {
     "data": {
      "text/plain": [
       "GRanges object with 1071 ranges and 1 metadata column:\n",
       "         seqnames           ranges strand |     count\n",
       "            <Rle>        <IRanges>  <Rle> | <integer>\n",
       "     [1]     chr1   [10238, 10455]      - |         1\n",
       "     [2]     chr1   [10586, 11024]      + |         1\n",
       "     [3]     chr1   [14265, 14471]      + |         1\n",
       "     [4]     chr1   [17336, 17499]      - |         1\n",
       "     [5]     chr1   [17294, 17506]      - |         1\n",
       "     ...      ...              ...    ... .       ...\n",
       "  [1067]     chr1 [634022, 634166]      - |         1\n",
       "  [1068]     chr1 [634011, 634167]      - |         1\n",
       "  [1069]     chr1 [634015, 634167]      - |         1\n",
       "  [1070]     chr1 [634013, 634170]      - |         1\n",
       "  [1071]     chr1 [634013, 634173]      - |         1\n",
       "  -------\n",
       "  seqinfo: 195 sequences from an unspecified genome"
      ]
     },
     "metadata": {},
     "output_type": "display_data"
    }
   ],
   "source": [
    "input_ctTable_isdup"
   ]
  },
  {
   "cell_type": "code",
   "execution_count": 31,
   "metadata": {},
   "outputs": [],
   "source": [
    "write.csv(ctTable, \"/data/reddylab/Revathy/dev/Jamborees/MPRA_STARRseq/tmp/count_table.txt\")\n",
    "write.csv(ctTable_isdup, \"/data/reddylab/Revathy/dev/Jamborees/MPRA_STARRseq/tmp/count_table_isDup.txt\")"
   ]
  },
  {
   "cell_type": "code",
   "execution_count": 35,
   "metadata": {
    "scrolled": true
   },
   "outputs": [
    {
     "data": {
      "text/plain": [
       "GRanges object with 10 ranges and 1 metadata column:\n",
       "       seqnames         ranges strand |     count\n",
       "          <Rle>      <IRanges>  <Rle> | <integer>\n",
       "   [1]     chr1 [10586, 11175]      - |         1\n",
       "   [2]     chr1 [13149, 13328]      + |         1\n",
       "   [3]     chr1 [13170, 13341]      + |         1\n",
       "   [4]     chr1 [13304, 13494]      + |         1\n",
       "   [5]     chr1 [13304, 13505]      + |         1\n",
       "   [6]     chr1 [13304, 13505]      - |         2\n",
       "   [7]     chr1 [13315, 13505]      - |         1\n",
       "   [8]     chr1 [14453, 14620]      + |         1\n",
       "   [9]     chr1 [14694, 15109]      + |         1\n",
       "  [10]     chr1 [15180, 15401]      + |         2\n",
       "  -------\n",
       "  seqinfo: 195 sequences from an unspecified genome"
      ]
     },
     "metadata": {},
     "output_type": "display_data"
    }
   ],
   "source": [
    "head(ctTable_isdup, n=10)"
   ]
  },
  {
   "cell_type": "code",
   "execution_count": 26,
   "metadata": {},
   "outputs": [
    {
     "data": {
      "text/plain": [
       "GRanges object with 10 ranges and 1 metadata column:\n",
       "       seqnames         ranges strand |     count\n",
       "          <Rle>      <IRanges>  <Rle> | <integer>\n",
       "   [1]     chr1 [10586, 11175]      - |         1\n",
       "   [2]     chr1 [13149, 13328]      + |         1\n",
       "   [3]     chr1 [13170, 13341]      + |         1\n",
       "   [4]     chr1 [13304, 13494]      + |         1\n",
       "   [5]     chr1 [13304, 13505]      + |         1\n",
       "   [6]     chr1 [13304, 13505]      - |         2\n",
       "   [7]     chr1 [13315, 13505]      - |         1\n",
       "   [8]     chr1 [14453, 14620]      + |         1\n",
       "   [9]     chr1 [14694, 15109]      + |         1\n",
       "  [10]     chr1 [15180, 15401]      + |         2\n",
       "  -------\n",
       "  seqinfo: 195 sequences from an unspecified genome"
      ]
     },
     "metadata": {},
     "output_type": "display_data"
    }
   ],
   "source": [
    "head(ctTable_isdup, n=10)"
   ]
  },
  {
   "cell_type": "code",
   "execution_count": 6,
   "metadata": {
    "scrolled": true
   },
   "outputs": [
    {
     "name": "stdout",
     "output_type": "stream",
     "text": [
      "[1] 29556329\n",
      "[1] 29556329\n"
     ]
    },
    {
     "data": {
      "text/plain": [
       "GRanges object with 29556329 ranges and 1 metadata column:\n",
       "                     seqnames           ranges strand |     count\n",
       "                        <Rle>        <IRanges>  <Rle> | <integer>\n",
       "         [1]             chr1   [10238, 10455]      - |         1\n",
       "         [2]             chr1   [10586, 11024]      + |         1\n",
       "         [3]             chr1   [14265, 14471]      + |         1\n",
       "         [4]             chr1   [17336, 17499]      - |         1\n",
       "         [5]             chr1   [17294, 17506]      - |         1\n",
       "         ...              ...              ...    ... .       ...\n",
       "  [29556325] chrUn_GL000218v1 [139140, 139236]      + |         1\n",
       "  [29556326] chrUn_GL000218v1 [142191, 142579]      + |         1\n",
       "  [29556327] chrUn_GL000218v1 [147527, 147670]      + |         1\n",
       "  [29556328] chrUn_GL000218v1 [149210, 149539]      + |         1\n",
       "  [29556329] chrUn_GL000218v1 [156032, 156188]      + |         1\n",
       "  -------\n",
       "  seqinfo: 195 sequences from an unspecified genome"
      ]
     },
     "metadata": {},
     "output_type": "display_data"
    }
   ],
   "source": [
    "count_reads = function(reads) {\n",
    "    print(length(reads))\n",
    "    uniq = unique(reads)\n",
    "    # sum over duplicates to get a count for each unique 5'/3' end\n",
    "    reads$count = countOverlaps( reads, uniq, type=\"equal\");\n",
    "    print(length(uniq))\n",
    "    return( reads );\n",
    "}\n",
    "\n",
    "count_reads(readFile)"
   ]
  },
  {
   "cell_type": "code",
   "execution_count": null,
   "metadata": {},
   "outputs": [],
   "source": [
    "count_reads(out_read1)"
   ]
  },
  {
   "cell_type": "code",
   "execution_count": null,
   "metadata": {},
   "outputs": [],
   "source": [
    "count_reads(out_read2)"
   ]
  },
  {
   "cell_type": "code",
   "execution_count": 41,
   "metadata": {
    "scrolled": true
   },
   "outputs": [
    {
     "name": "stdout",
     "output_type": "stream",
     "text": [
      "[1] 128\n",
      "[1] 124\n",
      "[1] 128\n",
      "[1] 124\n"
     ]
    }
   ],
   "source": [
    "\n",
    "\n",
    "# testfile='/data/reddylab/Revathy/dev/Jamborees/MPRA_STARRseq/tmp/k562.atacstarr.input.rep1.dups_marked_dedup.bam'\n",
    "# input = BamFile(testfile, yieldSize=1 * 10^6, asMates=T)\n",
    "# readFile = reduceByYield(input, yield.bam, map.bam, reduce.bam)\n",
    "\n",
    "# out_test1='/data/reddylab/Alex/encode4_duke/data/data_distribution/bam/k562.atacstarr.output.rep3.dups_marked.bam'\n",
    "# out_test2='/data/reddylab/Revathy/dev/Jamborees/MPRA_STARRseq/tmp/k562.atacstarr.output.rep3.dups_marked_dedup.bam'\n",
    "\n",
    "# out1=BamFile(out_test1, yieldSize=1 * 10^6, asMates=T)\n",
    "# out2=BamFile(out_test2, yieldSize=1 * 10^6, asMates=T)\n",
    "\n",
    "# out_read1=reduceByYield(out1, yield.bam, map.bam, reduce.bam)\n",
    "# out_read2=reduceByYield(out2, yield.bam, map.bam, reduce.bam)\n",
    "\n",
    "test_dedup='/data/reddylab/Revathy/dev/Jamborees/MPRA_STARRseq/tmp/k562.atacstarr.output.rep3.dups_marked_subset500_dedup.bam'\n",
    "test_dedup_bam=BamFile(test_dedup)\n",
    "test_dedup_out=reduceByYield(test_dedup_bam, yield.bam, map.bam, reduce.bam)\n",
    "test_dedup_out_isdup=reduceByYield(test_dedup_bam, yield.bam1, map.bam, reduce.bam)\n",
    "ct_dedup=collapse_reads(test_dedup_out)\n",
    "ct_dedup_isdup=collapse_reads(test_dedup_out_isdup)"
   ]
  },
  {
   "cell_type": "code",
   "execution_count": null,
   "metadata": {},
   "outputs": [],
   "source": []
  }
 ],
 "metadata": {
  "kernelspec": {
   "display_name": "R 3.2 (r_conda)",
   "language": "R",
   "name": "ir32"
  },
  "language_info": {
   "codemirror_mode": "r",
   "file_extension": ".r",
   "mimetype": "text/x-r-source",
   "name": "R",
   "pygments_lexer": "r",
   "version": "3.3.2"
  }
 },
 "nbformat": 4,
 "nbformat_minor": 2
}
