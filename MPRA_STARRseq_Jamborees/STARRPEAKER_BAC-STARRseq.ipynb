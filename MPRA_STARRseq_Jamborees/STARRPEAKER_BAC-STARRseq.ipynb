{
 "cells": [
  {
   "cell_type": "code",
   "execution_count": 2,
   "metadata": {},
   "outputs": [
    {
     "name": "stdout",
     "output_type": "stream",
     "text": [
      "Submitted batch job 25395618\n"
     ]
    }
   ],
   "source": [
    "%%bash\n",
    "source /data/reddylab/software/miniconda2/bin/activate Revathy\n",
    "source activate starrpeaker\n",
    "sbatch -pnew,all \\\n",
    "    --array=0-2 \\\n",
    "    --output=/data/reddylab/Revathy/dev/Jamborees/05172021/logs/BAC_STARR_starrpeaker.%a.out \\\n",
    "    --cpus-per-task 8 \\\n",
    "    --mem 64G \\\n",
    "    <<'EOF'\n",
    "#!/bin/bash\n",
    "input_dir=/data/reddylab/Revathy/dev/Jamborees/05172021\n",
    "output_dir=/data/reddylab/Revathy/dev/Jamborees/05172021/peak_calls\n",
    "file_dir=/data/reddylab/gjohnson/whole_genome_STARRseq/RD_work/ORI_and_SCP_PER1_BAC_Lib/alignments\n",
    "output_files=( \\ \n",
    "  ORI_PER1_BACSS_Dex1/ORI_PER1_BACSS_Dex1.dedup.bam \\\n",
    "  ORI_PER1_BACSS_Dex2/ORI_PER1_BACSS_Dex2.dedup.bam \\\n",
    "  )\n",
    "output_file=${output_files[${SLURM_ARRAY_TASK_ID}]}\n",
    "identifier=$(echo $output_file | cut -d \"/\" -f1)\n",
    "starrpeaker --prefix ${output_dir}/BAC_STARR_${identifier} \\\n",
    "--chromsize ${input_dir}/GRCh38.chrom.sizes.simple.sorted \\\n",
    "--blacklist ${input_dir}/ENCODE_blacklist_GRCh38_ENCFF419RSJ_merged.bed \\\n",
    "--cov ${input_dir}/STARRPeaker_cov_GRCh38_ucsc-gc-5bp.bw \\\n",
    "      ${input_dir}/STARRPeaker_cov_GRCh38_linearfold-folding-energy-100bp.bw \\\n",
    "      ${input_dir}/STARRPeaker_cov_GRCh38_gem-mappability-100mer.bw \\\n",
    "--input ${file_dir}/bed_filtered_deduped_input_reads.bam \\\n",
    "--output ${file_dir}/${output_file} \\\n",
    "--threshold 0.05\n",
    "EOF"
   ]
  },
  {
   "cell_type": "code",
   "execution_count": null,
   "metadata": {},
   "outputs": [],
   "source": []
  }
 ],
 "metadata": {
  "kernelspec": {
   "display_name": "Python2 (revathy)",
   "language": "python",
   "name": "python2-revathy"
  },
  "language_info": {
   "codemirror_mode": {
    "name": "ipython",
    "version": 2
   },
   "file_extension": ".py",
   "mimetype": "text/x-python",
   "name": "python",
   "nbconvert_exporter": "python",
   "pygments_lexer": "ipython2",
   "version": "2.7.18"
  }
 },
 "nbformat": 4,
 "nbformat_minor": 2
}
