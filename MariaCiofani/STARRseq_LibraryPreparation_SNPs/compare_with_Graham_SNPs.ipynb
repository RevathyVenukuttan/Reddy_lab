{
 "cells": [
  {
   "cell_type": "code",
   "execution_count": 3,
   "metadata": {},
   "outputs": [
    {
     "name": "stdout",
     "output_type": "stream",
     "text": [
      "chr1\t9939\t11526\tchr1.9940.11526\t.\n",
      "chr1\t28527\t30143\tchr1.28528.30143\t.\n",
      "chr1\t38551\t38855\tchr1.38552.38855\t.\n",
      "chr1\t91075\t91593\tchr1.91076.91593\t.\n",
      "chr1\t127420\t127976\tchr1.127421.127976\t.\n",
      "chr1\t136176\t137561\tchr1.136177.137561\t.\n",
      "chr1\t180665\t182081\tchr1.180666.182081\t.\n",
      "chr1\t191235\t191987\tchr1.191236.191987\t.\n",
      "chr1\t199113\t200559\tchr1.199114.200559\t.\n",
      "chr1\t205419\t206795\tchr1.205420.206795\t.\n"
     ]
    }
   ],
   "source": [
    "!head /data/reddylab/Revathy/collabs/Maria/human-th-ms_new/data/snp_data/atac_snp_loop/combined_ATAC_peaks.bed"
   ]
  },
  {
   "cell_type": "code",
   "execution_count": 4,
   "metadata": {},
   "outputs": [],
   "source": [
    "import pandas as pd\n",
    "\n",
    "graham_snp = pd.read_csv('/data/reddylab/gjohnson/whole_genome_STARRseq/wgss3/allele_specific_activity/NA12878_hetSNPs_in_DMSO_active_peaks.bed', sep='\\t', names=['chr','start','end'])\n",
    "atac_peaks = pd.read_csv('/data/reddylab/Revathy/collabs/Maria/human-th-ms_new/data/snp_data/atac_snp_loop/combined_ATAC_peaks.bed', sep='\\t')"
   ]
  },
  {
   "cell_type": "code",
   "execution_count": null,
   "metadata": {},
   "outputs": [],
   "source": [
    "%%bash\n",
    "module load bedtools2\n",
    "bedtools intersect \\\n",
    "-a /data/reddylab/gjohnson/whole_genome_STARRseq/wgss3/allele_specific_activity/NA12878_hetSNPs_in_DMSO_active_peaks.bed \\\n",
    "-b /data/reddylab/Revathy/collabs/Maria/human-th-ms_new/data/snp_data/atac_snp_loop/combined_ATAC_peaks.bed \\"
   ]
  },
  {
   "cell_type": "code",
   "execution_count": 6,
   "metadata": {},
   "outputs": [
    {
     "name": "stderr",
     "output_type": "stream",
     "text": [
      "***** WARNING: File /data/reddylab/Revathy/collabs/Maria/human-th-ms_new/data/snp_data/atac_snp_loop/combined_ATAC_peaks.bed has inconsistent naming convention for record:\n",
      "GL000008.2\t73\t4042\tGL000008.2.74.4042\t.\n",
      "\n",
      "***** WARNING: File /data/reddylab/Revathy/collabs/Maria/human-th-ms_new/data/snp_data/atac_snp_loop/combined_ATAC_peaks.bed has inconsistent naming convention for record:\n",
      "GL000008.2\t73\t4042\tGL000008.2.74.4042\t.\n",
      "\n"
     ]
    }
   ],
   "source": [
    "%%bash\n",
    "module load bedtools2\n",
    "bedtools intersect \\\n",
    "-a /data/reddylab/gjohnson/whole_genome_STARRseq/wgss3/allele_specific_activity/NA12878_hetSNPs_in_DMSO_active_peaks.bed \\\n",
    "-b /data/reddylab/Revathy/collabs/Maria/human-th-ms_new/data/snp_data/atac_snp_loop/combined_ATAC_peaks.bed \\\n",
    "> /data/reddylab/Revathy/collabs/Maria/human-th-ms_new/data/snp_data/atac_snp_loop/atac_graham_snp_intersect.bed"
   ]
  },
  {
   "cell_type": "code",
   "execution_count": 8,
   "metadata": {},
   "outputs": [
    {
     "name": "stdout",
     "output_type": "stream",
     "text": [
      "28199 /data/reddylab/gjohnson/whole_genome_STARRseq/wgss3/allele_specific_activity/NA12878_hetSNPs_in_DMSO_active_peaks.bed\n",
      "88138 /data/reddylab/Revathy/collabs/Maria/human-th-ms_new/data/snp_data/atac_snp_loop/combined_ATAC_peaks.bed\n",
      "5688 /data/reddylab/Revathy/collabs/Maria/human-th-ms_new/data/snp_data/atac_snp_loop/atac_graham_snp_intersect.bed\n"
     ]
    }
   ],
   "source": [
    "%%bash\n",
    "wc -l /data/reddylab/gjohnson/whole_genome_STARRseq/wgss3/allele_specific_activity/NA12878_hetSNPs_in_DMSO_active_peaks.bed\n",
    "wc -l /data/reddylab/Revathy/collabs/Maria/human-th-ms_new/data/snp_data/atac_snp_loop/combined_ATAC_peaks.bed\n",
    "wc -l /data/reddylab/Revathy/collabs/Maria/human-th-ms_new/data/snp_data/atac_snp_loop/atac_graham_snp_intersect.bed"
   ]
  },
  {
   "cell_type": "code",
   "execution_count": 2,
   "metadata": {},
   "outputs": [
    {
     "name": "stdout",
     "output_type": "stream",
     "text": [
      "138366 /data/reddylab/Revathy/collabs/Maria/human-th-ms_new/data/atac-seq/ENCFF346CZA.bed\n"
     ]
    }
   ],
   "source": [
    "%%bash\n",
    "wc -l /data/reddylab/Revathy/collabs/Maria/human-th-ms_new/data/atac-seq/ENCFF346CZA.bed"
   ]
  },
  {
   "cell_type": "code",
   "execution_count": 4,
   "metadata": {},
   "outputs": [],
   "source": [
    "%%bash\n",
    "module load bedtools2\n",
    "bedtools intersect \\\n",
    "-a /data/reddylab/gjohnson/whole_genome_STARRseq/wgss3/allele_specific_activity/NA12878_hetSNPs_in_DMSO_active_peaks.bed \\\n",
    "-b /data/reddylab/Revathy/collabs/Maria/human-th-ms_new/data/atac-seq/ENCFF346CZA.bed \\\n",
    "> /data/reddylab/Revathy/collabs/Maria/human-th-ms_new/data/snp_data/atac_snp_loop/ENCODE_atac_graham_intersect.bed\n"
   ]
  },
  {
   "cell_type": "code",
   "execution_count": 5,
   "metadata": {},
   "outputs": [
    {
     "name": "stdout",
     "output_type": "stream",
     "text": [
      "10506 /data/reddylab/Revathy/collabs/Maria/human-th-ms_new/data/snp_data/atac_snp_loop/ENCODE_atac_graham_intersect.bed\r\n"
     ]
    }
   ],
   "source": [
    "!wc -l /data/reddylab/Revathy/collabs/Maria/human-th-ms_new/data/snp_data/atac_snp_loop/ENCODE_atac_graham_intersect.bed"
   ]
  },
  {
   "cell_type": "code",
   "execution_count": null,
   "metadata": {},
   "outputs": [],
   "source": []
  }
 ],
 "metadata": {
  "kernelspec": {
   "display_name": "Python3 (revathy)",
   "language": "python",
   "name": "revathy_py3"
  },
  "language_info": {
   "codemirror_mode": {
    "name": "ipython",
    "version": 3
   },
   "file_extension": ".py",
   "mimetype": "text/x-python",
   "name": "python",
   "nbconvert_exporter": "python",
   "pygments_lexer": "ipython3",
   "version": "3.5.4"
  }
 },
 "nbformat": 4,
 "nbformat_minor": 2
}
