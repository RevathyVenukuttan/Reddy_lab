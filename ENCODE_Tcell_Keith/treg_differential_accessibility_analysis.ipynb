{
 "cells": [
  {
   "cell_type": "markdown",
   "metadata": {},
   "source": [
    "##### 2021 atac-seq data: /data/reddylab/Keith/encode4_duke/processing/atac_seq/Siklenka_6420_200805A5-pe-blacklist-removal"
   ]
  },
  {
   "cell_type": "code",
   "execution_count": 22,
   "metadata": {},
   "outputs": [
    {
     "name": "stdout",
     "output_type": "stream",
     "text": [
      "/data/reddylab/Keith/encode4_duke/processing/atac_seq/Siklenka_6420_200805A5-pe-blacklist-removal/KS130.Th1.96hrs.ASTARR.insert.rep1.masked.dups_marked.bam\r\n",
      "/data/reddylab/Keith/encode4_duke/processing/atac_seq/Siklenka_6420_200805A5-pe-blacklist-removal/KS130.Th1.96hrs.ASTARR.insert.rep2.masked.dups_marked.bam\r\n",
      "/data/reddylab/Keith/encode4_duke/processing/atac_seq/Siklenka_6420_200805A5-pe-blacklist-removal/KS131.Th2.96hrs.ASTARR.insert.rep1.masked.dups_marked.bam\r\n",
      "/data/reddylab/Keith/encode4_duke/processing/atac_seq/Siklenka_6420_200805A5-pe-blacklist-removal/KS131.Th2.96hrs.ASTARR.insert.rep2.masked.dups_marked.bam\r\n",
      "/data/reddylab/Keith/encode4_duke/processing/atac_seq/Siklenka_6420_200805A5-pe-blacklist-removal/KS133.Th0.72hrs.ASTARR.insert.rep1.masked.dups_marked.bam\r\n",
      "/data/reddylab/Keith/encode4_duke/processing/atac_seq/Siklenka_6420_200805A5-pe-blacklist-removal/KS133.Th0.72hrs.ASTARR.insert.rep2.masked.dups_marked.bam\r\n",
      "/data/reddylab/Keith/encode4_duke/processing/atac_seq/Siklenka_6420_200805A5-pe-blacklist-removal/KS133.Treg.72hrs.ASTARR.insert.rep1.masked.dups_marked.bam\r\n",
      "/data/reddylab/Keith/encode4_duke/processing/atac_seq/Siklenka_6420_200805A5-pe-blacklist-removal/KS133.Treg.72hrs.ASTARR.insert.rep2.masked.dups_marked.bam\r\n"
     ]
    }
   ],
   "source": [
    "!ls /data/reddylab/Keith/encode4_duke/processing/atac_seq/Siklenka_6420_200805A5-pe-blacklist-removal/*.bam"
   ]
  },
  {
   "cell_type": "markdown",
   "metadata": {},
   "source": [
    "### featureCounts for Treg"
   ]
  },
  {
   "cell_type": "code",
   "execution_count": 16,
   "metadata": {},
   "outputs": [],
   "source": [
    "%%bash\n",
    "mkdir -p /data/reddylab/Revathy/collabs/Keith/Treg/data/atac_seq/featureCounts\n",
    "dir=/data/reddylab/Keith/encode4_duke/processing/atac_seq/Siklenka_6420_200805A5-pe-blacklist-removal\n",
    "outdir=/data/reddylab/Revathy/collabs/Keith/Treg/data/atac_seq/featureCounts\n",
    "files=(\\\n",
    "       KS133.Th0.72hrs.ASTARR.insert.rep1.masked.dedup.sorted_peaks.narrowPeak \\\n",
    "       KS133.Th0.72hrs.ASTARR.insert.rep2.masked.dedup.sorted_peaks.narrowPeak \\\n",
    "       KS133.Treg.72hrs.ASTARR.insert.rep1.masked.dedup.sorted_peaks.narrowPeak \\\n",
    "       KS133.Treg.72hrs.ASTARR.insert.rep2.masked.dedup.sorted_peaks.narrowPeak \\\n",
    ")\n",
    "for file in ${files[@]}; \n",
    "do \n",
    "  ### sort the bed files\n",
    "  sort -k1,1 -k2,2n -k3,3n ${dir}/${file} > ${outdir}/${file/.masked.dedup.sorted_peaks.narrowPeak/.sorted_peaks.narrowPeak}\n",
    "\n",
    "done"
   ]
  },
  {
   "cell_type": "code",
   "execution_count": 17,
   "metadata": {},
   "outputs": [],
   "source": [
    "%%bash\n",
    "module load bedtools2\n",
    "dir=/data/reddylab/Revathy/collabs/Keith/Treg/data/atac_seq/featureCounts\n",
    "files=(\\\n",
    "       KS133.Th0.72hrs.ASTARR.insert.rep1.sorted_peaks.narrowPeak \\\n",
    "       KS133.Th0.72hrs.ASTARR.insert.rep2.sorted_peaks.narrowPeak \\\n",
    "       KS133.Treg.72hrs.ASTARR.insert.rep1.sorted_peaks.narrowPeak \\\n",
    "       KS133.Treg.72hrs.ASTARR.insert.rep2.sorted_peaks.narrowPeak \\\n",
    ")\n",
    "for file in ${files[@]}; \n",
    "do \n",
    "  ### merge the bed files\n",
    "  bedtools merge -i ${dir}/${file} > ${dir}/Th0_Treg.72hrs.UnionPeakSet.narrowPeak\n",
    "\n",
    "done"
   ]
  },
  {
   "cell_type": "code",
   "execution_count": 18,
   "metadata": {},
   "outputs": [
    {
     "name": "stdout",
     "output_type": "stream",
     "text": [
      "   78104 /data/reddylab/Revathy/collabs/Keith/Treg/data/atac_seq/featureCounts/KS133.Th0.72hrs.ASTARR.insert.rep1.sorted_peaks.narrowPeak\n",
      "   74733 /data/reddylab/Revathy/collabs/Keith/Treg/data/atac_seq/featureCounts/KS133.Th0.72hrs.ASTARR.insert.rep2.sorted_peaks.narrowPeak\n",
      "   68903 /data/reddylab/Revathy/collabs/Keith/Treg/data/atac_seq/featureCounts/KS133.Treg.72hrs.ASTARR.insert.rep1.sorted_peaks.narrowPeak\n",
      "   78262 /data/reddylab/Revathy/collabs/Keith/Treg/data/atac_seq/featureCounts/KS133.Treg.72hrs.ASTARR.insert.rep2.sorted_peaks.narrowPeak\n",
      "   78262 /data/reddylab/Revathy/collabs/Keith/Treg/data/atac_seq/featureCounts/Th0_Treg.72hrs.UnionPeakSet.narrowPeak\n",
      "   78262 /data/reddylab/Revathy/collabs/Keith/Treg/data/atac_seq/featureCounts/Treg.72hrs.UnionPeakSet.narrowPeak\n",
      "  456526 total\n"
     ]
    }
   ],
   "source": [
    "%%bash\n",
    "wc -l /data/reddylab/Revathy/collabs/Keith/Treg/data/atac_seq/featureCounts/*.narrowPeak"
   ]
  },
  {
   "cell_type": "code",
   "execution_count": 19,
   "metadata": {},
   "outputs": [],
   "source": [
    "%%bash\n",
    "source /data/reddylab/software/miniconda2/bin/activate alex\n",
    "outdir=/data/reddylab/Revathy/collabs/Keith/Treg/data/atac_seq/featureCounts\n",
    "python /data/reddylab/Alex/reddylab_utils/scripts/bed_to_saf.py \\\n",
    "    --bed6 \\\n",
    "    -beds \\\n",
    "        ${outdir}/Th0_Treg.72hrs.UnionPeakSet.narrowPeak \\\n",
    "    -safs \\\n",
    "        ${outdir}/Th0_Treg.72hrs.UnionPeakSet.saf"
   ]
  },
  {
   "cell_type": "code",
   "execution_count": 21,
   "metadata": {},
   "outputs": [
    {
     "name": "stdout",
     "output_type": "stream",
     "text": [
      "chr1_4492044_4492439\tchr1\t4492044\t4492439\t+\r\n",
      "chr1_4492682_4493419\tchr1\t4492682\t4493419\t+\r\n",
      "chr1_4496388_4497020\tchr1\t4496388\t4497020\t+\r\n",
      "chr1_4571547_4572067\tchr1\t4571547\t4572067\t+\r\n",
      "chr1_4671456_4672001\tchr1\t4671456\t4672001\t+\r\n",
      "chr1_4724578_4724950\tchr1\t4724578\t4724950\t+\r\n",
      "chr1_4748286_4748507\tchr1\t4748286\t4748507\t+\r\n",
      "chr1_4769822_4770252\tchr1\t4769822\t4770252\t+\r\n",
      "chr1_4774916_4775860\tchr1\t4774916\t4775860\t+\r\n",
      "chr1_4780184_4780525\tchr1\t4780184\t4780525\t+\r\n"
     ]
    }
   ],
   "source": [
    "!head /data/reddylab/Revathy/collabs/Keith/Treg/data/atac_seq/featureCounts/Th0_Treg.72hrs.UnionPeakSet.saf"
   ]
  },
  {
   "cell_type": "code",
   "execution_count": 24,
   "metadata": {},
   "outputs": [
    {
     "name": "stdout",
     "output_type": "stream",
     "text": [
      "Submitted batch job 26118416\n"
     ]
    }
   ],
   "source": [
    "%%bash\n",
    "cd /data/reddylab/Revathy/collabs/Keith/Treg/data/atac_seq/featureCounts\n",
    "sbatch -p all \\\n",
    "    --cpus-per-task 16 \\\n",
    "    --mem 32G \\\n",
    "    -o /data/reddylab/Revathy/collabs/Keith/Treg/logs/Th0_Treg.72hrs.UnionPeakSet.featurecounts.out \\\n",
    "    <<'EOF'\n",
    "#!/bin/bash\n",
    "/data/reddylab/software/subread-1.4.6-p4-Linux-x86_64/bin/featureCounts \\\n",
    "    -T 16 \\\n",
    "    -F SAF \\\n",
    "    -p \\\n",
    "    -a Th0_Treg.72hrs.UnionPeakSet.saf \\\n",
    "    -o /data/reddylab/Revathy/collabs/Keith/Treg/data/atac_seq/featureCounts/Th0_Treg.72hrs.UnionPeakSet.featurecounts.txt \\\n",
    "       /data/reddylab/Keith/encode4_duke/processing/atac_seq/Siklenka_6420_200805A5-pe-blacklist-removal/KS133.Th0.72hrs.ASTARR.insert.rep1.masked.dups_marked.bam \\\n",
    "       /data/reddylab/Keith/encode4_duke/processing/atac_seq/Siklenka_6420_200805A5-pe-blacklist-removal/KS133.Th0.72hrs.ASTARR.insert.rep2.masked.dups_marked.bam \\\n",
    "       /data/reddylab/Keith/encode4_duke/processing/atac_seq/Siklenka_6420_200805A5-pe-blacklist-removal/KS133.Treg.72hrs.ASTARR.insert.rep1.masked.dups_marked.bam \\\n",
    "       /data/reddylab/Keith/encode4_duke/processing/atac_seq/Siklenka_6420_200805A5-pe-blacklist-removal/KS133.Treg.72hrs.ASTARR.insert.rep2.masked.dups_marked.bam\n",
    "EOF"
   ]
  },
  {
   "cell_type": "code",
   "execution_count": 25,
   "metadata": {},
   "outputs": [
    {
     "name": "stdout",
     "output_type": "stream",
     "text": [
      "# Program:featureCounts v1.4.6-p4; Command:\"/data/reddylab/software/subread-1.4.6-p4-Linux-x86_64/bin/featureCounts\" \"-T\" \"16\" \"-F\" \"SAF\" \"-p\" \"-a\" \"Th0_Treg.72hrs.UnionPeakSet.saf\" \"-o\" \"/data/reddylab/Revathy/collabs/Keith/Treg/data/atac_seq/featureCounts/Th0_TregTh17.72hrs.UnionPeakSet.featurecounts.txt\" \"/data/reddylab/Keith/encode4_duke/processing/atac_seq/Siklenka_6420_200805A5-pe-blacklist-removal/KS133.Th0.72hrs.ASTARR.insert.rep1.masked.dups_marked.bam\" \"/data/reddylab/Keith/encode4_duke/processing/atac_seq/Siklenka_6420_200805A5-pe-blacklist-removal/KS133.Th0.72hrs.ASTARR.insert.rep2.masked.dups_marked.bam\" \"/data/reddylab/Keith/encode4_duke/processing/atac_seq/Siklenka_6420_200805A5-pe-blacklist-removal/KS133.Treg.72hrs.ASTARR.insert.rep1.masked.dups_marked.bam\" \"/data/reddylab/Keith/encode4_duke/processing/atac_seq/Siklenka_6420_200805A5-pe-blacklist-removal/KS133.Treg.72hrs.ASTARR.insert.rep2.masked.dups_marked.bam\" \r\n",
      "Geneid\tChr\tStart\tEnd\tStrand\tLength\t/data/reddylab/Keith/encode4_duke/processing/atac_seq/Siklenka_6420_200805A5-pe-blacklist-removal/KS133.Th0.72hrs.ASTARR.insert.rep1.masked.dups_marked.bam\t/data/reddylab/Keith/encode4_duke/processing/atac_seq/Siklenka_6420_200805A5-pe-blacklist-removal/KS133.Th0.72hrs.ASTARR.insert.rep2.masked.dups_marked.bam\t/data/reddylab/Keith/encode4_duke/processing/atac_seq/Siklenka_6420_200805A5-pe-blacklist-removal/KS133.Treg.72hrs.ASTARR.insert.rep1.masked.dups_marked.bam\t/data/reddylab/Keith/encode4_duke/processing/atac_seq/Siklenka_6420_200805A5-pe-blacklist-removal/KS133.Treg.72hrs.ASTARR.insert.rep2.masked.dups_marked.bam\r\n",
      "chr1_4492044_4492439\tchr1\t4492044\t4492439\t+\t396\t36\t23\t5\t20\r\n",
      "chr1_4492682_4493419\tchr1\t4492682\t4493419\t+\t738\t41\t43\t17\t37\r\n",
      "chr1_4496388_4497020\tchr1\t4496388\t4497020\t+\t633\t87\t52\t22\t57\r\n",
      "chr1_4571547_4572067\tchr1\t4571547\t4572067\t+\t521\t48\t34\t17\t42\r\n",
      "chr1_4671456_4672001\tchr1\t4671456\t4672001\t+\t546\t183\t146\t28\t63\r\n",
      "chr1_4724578_4724950\tchr1\t4724578\t4724950\t+\t373\t24\t26\t42\t67\r\n",
      "chr1_4748286_4748507\tchr1\t4748286\t4748507\t+\t222\t67\t31\t9\t23\r\n",
      "chr1_4769822_4770252\tchr1\t4769822\t4770252\t+\t431\t32\t16\t23\t50\r\n"
     ]
    }
   ],
   "source": [
    "!head /data/reddylab/Revathy/collabs/Keith/Treg/data/atac_seq/featureCounts/Th0_TregTh17.72hrs.UnionPeakSet.featurecounts.txt"
   ]
  },
  {
   "cell_type": "markdown",
   "metadata": {},
   "source": [
    "### DA analysis for Treg"
   ]
  },
  {
   "cell_type": "code",
   "execution_count": 27,
   "metadata": {},
   "outputs": [],
   "source": [
    "%%bash\n",
    "source /data/reddylab/software/miniconda2/bin/activate alex\n",
    "module load gcc\n",
    "python /data/reddylab/Alex/reddylab_utils/scripts/featurecounts_output_to_df.py \\\n",
    "    -featurecounts /data/reddylab/Revathy/collabs/Keith/Treg/data/atac_seq/featureCounts/Th0_TregTh17.72hrs.UnionPeakSet.featurecounts.txt \\\n",
    "    -outfiles /data/reddylab/Revathy/collabs/Keith/Treg/data/atac_seq/featureCounts/Th0_Treg.72hrs.UnionPeakSet.featurecounts.df.txt \\\n",
    "    --drop-suffixes .masked.dups_marked.bam \\\n",
    "    --join-input-files \\\n"
   ]
  },
  {
   "cell_type": "code",
   "execution_count": 1,
   "metadata": {},
   "outputs": [
    {
     "name": "stdout",
     "output_type": "stream",
     "text": [
      "78263 /data/reddylab/Revathy/collabs/Keith/Treg/data/atac_seq/featureCounts/Th0_Treg.72hrs.UnionPeakSet.featurecounts.df.txt\r\n"
     ]
    }
   ],
   "source": [
    "!wc -l /data/reddylab/Revathy/collabs/Keith/Treg/data/atac_seq/featureCounts/Th0_Treg.72hrs.UnionPeakSet.featurecounts.df.txt"
   ]
  },
  {
   "cell_type": "code",
   "execution_count": 37,
   "metadata": {},
   "outputs": [],
   "source": [
    "%%bash\n",
    "cd /data/reddylab/Revathy/collabs/Keith/Treg/data/atac_seq/featureCounts/\n",
    "file=Th0_Treg.72hrs.UnionPeakSet.featurecounts\n",
    "cat ${file}.df.txt | cut -f1,2,3,4,5 | sed '1{ s/KS133.Th0.72hrs.ASTARR.insert.rep1/Th0.72hrs.ASTARR.insert.rep1/; s/KS133.Th0.72hrs.ASTARR.insert.rep2/Th0.72hrs.ASTARR.insert.rep2/; s/KS133.Treg.72hrs.ASTARR.insert.rep1/Treg.72hrs.ASTARR.insert.rep1/; s/KS133.Treg.72hrs.ASTARR.insert.rep2/Treg.72hrs.ASTARR.insert.rep2/; s/^/#/; }' > ${file}.txt \n"
   ]
  },
  {
   "cell_type": "code",
   "execution_count": 76,
   "metadata": {},
   "outputs": [
    {
     "name": "stdout",
     "output_type": "stream",
     "text": [
      "#Geneid\tTh0.72hrs.ASTARR.insert.rep1\tTh0.72hrs.ASTARR.insert.rep2\tTreg.72hrs.ASTARR.insert.rep1\tTreg.72hrs.ASTARR.insert.rep2\r\n",
      "chr1_4492044_4492439\t36\t23\t5\t20\r\n",
      "chr1_4492682_4493419\t41\t43\t17\t37\r\n",
      "chr1_4496388_4497020\t87\t52\t22\t57\r\n",
      "chr1_4571547_4572067\t48\t34\t17\t42\r\n",
      "chr1_4671456_4672001\t183\t146\t28\t63\r\n",
      "chr1_4724578_4724950\t24\t26\t42\t67\r\n",
      "chr1_4748286_4748507\t67\t31\t9\t23\r\n",
      "chr1_4769822_4770252\t32\t16\t23\t50\r\n",
      "chr1_4774916_4775860\t142\t92\t145\t209\r\n"
     ]
    }
   ],
   "source": [
    "!head /data/reddylab/Revathy/collabs/Keith/Treg/data/atac_seq/featureCounts/Th0_Treg.72hrs.UnionPeakSet.featurecounts.txt"
   ]
  },
  {
   "cell_type": "code",
   "execution_count": 39,
   "metadata": {},
   "outputs": [],
   "source": [
    "%%bash\n",
    "mkdir -p /data/reddylab/Revathy/collabs/Keith/Treg/data/atac_seq/readCount\n",
    "\n",
    "cp /data/reddylab/Keith/encode4_duke/processing/atac_seq/Siklenka_6420_200805A5-pe-blacklist-removal/*.Treg.*.mapped /data/reddylab/Revathy/collabs/Keith/Treg/data/atac_seq/readCount\n",
    "cp /data/reddylab/Keith/encode4_duke/processing/atac_seq/Siklenka_6420_200805A5-pe-blacklist-removal/*.Th0.*.mapped /data/reddylab/Revathy/collabs/Keith/Treg/data/atac_seq/readCount\n"
   ]
  },
  {
   "cell_type": "code",
   "execution_count": 58,
   "metadata": {},
   "outputs": [],
   "source": [
    "!rm -r  /data/reddylab/Revathy/collabs/Keith/Treg/data/atac_seq/readCount/*.txt"
   ]
  },
  {
   "cell_type": "code",
   "execution_count": 59,
   "metadata": {},
   "outputs": [
    {
     "name": "stdout",
     "output_type": "stream",
     "text": [
      "KS133.Th0.72hrs.ASTARR.insert.rep1.bowtie.log.read_count.mapped\r\n",
      "KS133.Th0.72hrs.ASTARR.insert.rep2.bowtie.log.read_count.mapped\r\n",
      "KS133.Treg.72hrs.ASTARR.insert.rep1.bowtie.log.read_count.mapped\r\n",
      "KS133.Treg.72hrs.ASTARR.insert.rep2.bowtie.log.read_count.mapped\r\n"
     ]
    }
   ],
   "source": [
    "ls /data/reddylab/Revathy/collabs/Keith/Treg/data/atac_seq/readCount/"
   ]
  },
  {
   "cell_type": "code",
   "execution_count": 60,
   "metadata": {},
   "outputs": [],
   "source": [
    "%%bash\n",
    "# Generate lib_sizes for each ATAC-seq library (number of mapped_reads)\n",
    "cd /data/reddylab/Revathy/collabs/Keith/Treg/data/atac_seq/readCount\n",
    "echo -n > /data/reddylab/Revathy/collabs/Keith/Treg/data/atac_seq/readCount/lib_sizes.txt\n",
    "for ii in *.{Th0,Treg}.*.bowtie.log.read_count.mapped;\n",
    "do\n",
    "    iname=$(basename ${ii} | sed 's@.bowtie.log.read_count.mapped@@')\n",
    "    echo -e $iname\"\\t\"$(cut -f2 ${ii}) \\\n",
    "        >> /data/reddylab/Revathy/collabs/Keith/Treg/data/atac_seq/readCount/lib_sizes.tmp.txt\n",
    "done"
   ]
  },
  {
   "cell_type": "code",
   "execution_count": 61,
   "metadata": {},
   "outputs": [
    {
     "name": "stdout",
     "output_type": "stream",
     "text": [
      "Writing /data/reddylab/Revathy/collabs/Keith/Treg/data/atac_seq/readCount/lib_sizes.names.txt\n"
     ]
    }
   ],
   "source": [
    "%%writefile /data/reddylab/Revathy/collabs/Keith/Treg/data/atac_seq/readCount/lib_sizes.names.txt\n",
    "KS133.Th0.72hrs.ASTARR.insert.rep1\n",
    "KS133.Th0.72hrs.ASTARR.insert.rep2\n",
    "KS133.Treg.72hrs.ASTARR.insert.rep1\n",
    "KS133.Treg.72hrs.ASTARR.insert.rep2"
   ]
  },
  {
   "cell_type": "code",
   "execution_count": 67,
   "metadata": {},
   "outputs": [],
   "source": [
    "%%bash\n",
    "paste /data/reddylab/Revathy/collabs/Keith/Treg/data/atac_seq/readCount/lib_sizes.names.txt /data/reddylab/Revathy/collabs/Keith/Treg/data/atac_seq/readCount/lib_sizes.tmp.txt \\\n",
    "    | cut -f1,3 \\\n",
    "    > /data/reddylab/Revathy/collabs/Keith/Treg/data/atac_seq/readCount/lib_sizes.txt\n",
    "    "
   ]
  },
  {
   "cell_type": "code",
   "execution_count": 72,
   "metadata": {},
   "outputs": [],
   "source": [
    "%%bash\n",
    "cut -d \".\" -f2,3,4,5,6 /data/reddylab/Revathy/collabs/Keith/Treg/data/atac_seq/readCount/lib_sizes.txt > /data/reddylab/Revathy/collabs/Keith/Treg/data/atac_seq/readCount/lib_sizes_format.txt\n"
   ]
  },
  {
   "cell_type": "code",
   "execution_count": 77,
   "metadata": {},
   "outputs": [
    {
     "name": "stdout",
     "output_type": "stream",
     "text": [
      "Submitted batch job 26121278\n"
     ]
    }
   ],
   "source": [
    "%%bash\n",
    "mkdir -p /data/reddylab/Revathy/collabs/Keith/Treg/data/atac_seq/deseq\n",
    "source /data/reddylab/software/miniconda2/bin/activate alex_dev\n",
    "module load gcc\n",
    "sbatch -p all \\\n",
    "    --mem 16G \\\n",
    "    -o /data/reddylab/Revathy/collabs/Keith/Treg/logs/atac_deseq.out \\\n",
    "    <<'EOF'\n",
    "#!/bin/bash\n",
    "COMPARISON=( \\\n",
    "    Treg.72hrs.ASTARR.insert-Th0.72hrs.ASTARR.insert \\\n",
    ")\n",
    "TREAT=$(echo $COMPARISON | cut -d\"-\" -f1)\n",
    "CONTROL=$(echo $COMPARISON | cut -d\"-\" -f2)\n",
    "FACTOR=$(echo ${CONTROL} | cut -d. -f1)\n",
    "\n",
    "Rscript /data/reddylab/Revathy/scripts/atacseq.deseq2.R \\\n",
    "    --lfcShrink ashr \\\n",
    "    --no-model-reps \\\n",
    "    --treatments $(/bin/grep ${TREAT} /data/reddylab/Revathy/collabs/Keith/Treg/data/atac_seq/readCount/lib_sizes_format.txt | cut -f1) \\\n",
    "    --controls $(/bin/grep ${CONTROL} /data/reddylab/Revathy/collabs/Keith/Treg/data/atac_seq/readCount/lib_sizes_format.txt | cut -f1) \\\n",
    "    --lib-sizes /data/reddylab/Revathy/collabs/Keith/Treg/data/atac_seq/readCount/lib_sizes_format.txt \\\n",
    "    --outdir /data/reddylab/Revathy/collabs/Keith/Treg/data/atac_seq/deseq \\\n",
    "    --counts /data/reddylab/Revathy/collabs/Keith/Treg/data/atac_seq/featureCounts/Th0_Treg.72hrs.UnionPeakSet.featurecounts.txt\n",
    "EOF"
   ]
  },
  {
   "cell_type": "code",
   "execution_count": 78,
   "metadata": {},
   "outputs": [],
   "source": [
    "%%bash\n",
    "FDR=0.05\n",
    "COMPARISONS=( \\\n",
    "    Treg.72hrs.ASTARR.insert_vs_Th0.72hrs.ASTARR.insert \\\n",
    ")\n",
    "cd /data/reddylab/Revathy/collabs/Keith/Treg/data/atac_seq/deseq\n",
    "for COMP in ${COMPARISONS[@]};\n",
    "do\n",
    "    # Save expressed genes (more than 5 normalized counts)\n",
    "    tail -n+2 ${COMP}.txt |  cut -f1 > ${COMP}.accessible_peaks.txt \n",
    "    \n",
    "    # Save significant upreg genes\n",
    "    tail -n+2 ${COMP}.txt |  awk -vFDR=${FDR} '{if(($NF<FDR) && ($3>0)){print $1}}' |  cut -d. -f1 > ${COMP}.increase.txt \n",
    "\n",
    "    # Save significant downreg genes\n",
    "    tail -n+2 ${COMP}.txt |  awk -vFDR=${FDR} '{if(($NF<FDR) && ($3<0)){print $1}}' |  cut -d. -f1 > ${COMP}.decrease.txt \n",
    "\n",
    "done\n"
   ]
  },
  {
   "cell_type": "code",
   "execution_count": 79,
   "metadata": {},
   "outputs": [],
   "source": [
    "%%bash\n",
    "cd /data/reddylab/Revathy/collabs/Keith/Treg/data/atac_seq/deseq\n",
    "COMPARISONS=( \\\n",
    "    Treg.72hrs.ASTARR.insert_vs_Th0.72hrs.ASTARR.insert \\\n",
    ")\n",
    "for ENRICH in increase decrease;\n",
    "do\n",
    "    for ii in ${COMPARISONS[@]};\n",
    "    do\n",
    "        tail -n+2 ${ii}.${ENRICH}.txt | cut -f1 | sed 's@_@\\t@g' > ${ii}.${ENRICH}.bed \n",
    "    done\n",
    "done"
   ]
  },
  {
   "cell_type": "code",
   "execution_count": 80,
   "metadata": {},
   "outputs": [],
   "source": [
    "%%bash\n",
    "# For all, just take one of the rlog files\n",
    "cd /data/reddylab/Revathy/collabs/Keith/Treg/data/atac_seq/deseq\n",
    "COMPARISONS=( \\\n",
    "    Treg.72hrs.ASTARR.insert_vs_Th0.72hrs.ASTARR.insert \\\n",
    ")\n",
    "for ii in ${COMPARISONS[@]};\n",
    "do\n",
    "    tail -n+2 ${ii}.rlog.txt | cut -f1 | sed 's@_@\\t@g' > ${ii}.rlog.bed \n",
    "done\n"
   ]
  },
  {
   "cell_type": "code",
   "execution_count": 81,
   "metadata": {},
   "outputs": [
    {
     "name": "stdout",
     "output_type": "stream",
     "text": [
      "64315 /data/reddylab/Revathy/collabs/Keith/Treg/data/atac_seq/deseq/Treg.72hrs.ASTARR.insert_vs_Th0.72hrs.ASTARR.insert.accessible_peaks.txt\r\n"
     ]
    }
   ],
   "source": [
    "!wc -l /data/reddylab/Revathy/collabs/Keith/Treg/data/atac_seq/deseq/Treg.72hrs.ASTARR.insert_vs_Th0.72hrs.ASTARR.insert.accessible_peaks.txt"
   ]
  },
  {
   "cell_type": "code",
   "execution_count": 82,
   "metadata": {},
   "outputs": [
    {
     "name": "stdout",
     "output_type": "stream",
     "text": [
      "64316 /data/reddylab/Revathy/collabs/Keith/Treg/data/atac_seq/deseq/Treg.72hrs.ASTARR.insert_vs_Th0.72hrs.ASTARR.insert.txt\r\n"
     ]
    }
   ],
   "source": [
    "!wc -l /data/reddylab/Revathy/collabs/Keith/Treg/data/atac_seq/deseq/Treg.72hrs.ASTARR.insert_vs_Th0.72hrs.ASTARR.insert.txt"
   ]
  },
  {
   "cell_type": "code",
   "execution_count": 1,
   "metadata": {},
   "outputs": [
    {
     "name": "stdout",
     "output_type": "stream",
     "text": [
      "Submitted batch job 26193315\n"
     ]
    }
   ],
   "source": [
    "%%bash\n",
    "cd /data/reddylab/Revathy/collabs/Keith/Treg/data/atac_seq/deseq/\n",
    "sbatch -p all \\\n",
    "    --cpus-per-task 1 \\\n",
    "    --mem 8G \\\n",
    "    -o /data/reddylab/Revathy/collabs/Keith/Treg/logs/atacseq_deseq2.add_closest_gene.rlog.out \\\n",
    "    <<'EOF'\n",
    "#!/bin/bash\n",
    "SAMPLE=\"Treg.72hrs.ASTARR.insert_vs_Th0.72hrs.ASTARR.insert.rlog.txt\"\n",
    "\n",
    "tail -n+2 ${SAMPLE} \\\n",
    "| cut -f1 \\\n",
    "| awk -F_ -vOFS=\"\\t\" '{print $1, $2, $3, $1\"_\"$2\"_\"$3}' \\\n",
    "| sort -k1,1 -k2,2n \\\n",
    "| bedtools closest \\\n",
    "    -nonamecheck \\\n",
    "    -D a \\\n",
    "    -a - \\\n",
    "    -b /data/reddylab/Reference_Data/Gencode/vM19/gencode.vM19.basic.annotation.bed \\\n",
    "| awk -vOFS=\"\\t\" \\\n",
    "    '{if(last==$4){genes=$11\",\"genes;}else{if(genes){print peak, genes, distance}peak=$4; genes=$11; distance=$13; last=peak}}END{if(last==$4){genes=$11\",\"genes;print peak, genes, distance}}' \\\n",
    "> ${SAMPLE/.txt/.closest_gene.txt}\n",
    "\n",
    "\n",
    "EOF"
   ]
  },
  {
   "cell_type": "code",
   "execution_count": 2,
   "metadata": {},
   "outputs": [
    {
     "name": "stdout",
     "output_type": "stream",
     "text": [
      "chr1_4496388_4497020\tSox17\t0\r\n",
      "chr1_4671456_4672001\tGm6085\t15933\r\n",
      "chr1_4724578_4724950\tGm25493\t-1200\r\n",
      "chr1_4774916_4775860\tMrpl15\t0\r\n",
      "chr1_4780184_4780525\tMrpl15\t0\r\n",
      "chr1_4785113_4786258\tMrpl15\t0\r\n",
      "chr1_4807009_4808675\tGm37988,Lypla1\t0\r\n",
      "chr1_4857053_4858710\tTcea1,Gm37988\t0\r\n",
      "chr1_5015406_5015748\tRgs20\t0\r\n",
      "chr1_5018634_5020555\tRgs20\t0\r\n"
     ]
    }
   ],
   "source": [
    "!head /data/reddylab/Revathy/collabs/Keith/Treg/data/atac_seq/deseq/Treg.72hrs.ASTARR.insert_vs_Th0.72hrs.ASTARR.insert.rlog.closest_gene.txt"
   ]
  },
  {
   "cell_type": "code",
   "execution_count": 6,
   "metadata": {},
   "outputs": [],
   "source": [
    "import pandas as pd\n",
    "samples = [\"Treg.72hrs.ASTARR.insert_vs_Th0.72hrs.ASTARR.insert\"] \n",
    "data_dir = '/data/reddylab/Revathy/collabs/Keith/Treg/data/atac_seq/deseq'\n",
    "for sample in samples:\n",
    "    df = pd.read_csv(\"%s/%s.txt\" % (data_dir, sample), sep='\\t')\n",
    "    df_closest= pd.read_csv(\"%s/%s.rlog.closest_gene.txt\" % (data_dir, sample), index_col=0, sep='\\t',\n",
    "                            names=['peak', 'genes', 'distance'])\n",
    "    df.join(df_closest, how='outer')\\\n",
    "        .to_csv(\"%s/%s.with_closest_gene.txt\" % (data_dir, sample), sep='\\t')"
   ]
  },
  {
   "cell_type": "code",
   "execution_count": 2,
   "metadata": {},
   "outputs": [
    {
     "name": "stdout",
     "output_type": "stream",
     "text": [
      "64316 /data/reddylab/Revathy/collabs/Keith/Treg/data/atac_seq/deseq/Treg.72hrs.ASTARR.insert_vs_Th0.72hrs.ASTARR.insert.with_closest_gene.txt\r\n"
     ]
    }
   ],
   "source": [
    "!wc -l /data/reddylab/Revathy/collabs/Keith/Treg/data/atac_seq/deseq/Treg.72hrs.ASTARR.insert_vs_Th0.72hrs.ASTARR.insert.with_closest_gene.txt "
   ]
  },
  {
   "cell_type": "code",
   "execution_count": null,
   "metadata": {},
   "outputs": [],
   "source": []
  }
 ],
 "metadata": {
  "kernelspec": {
   "display_name": "Python3 (revathy)",
   "language": "python",
   "name": "revathy_py3"
  },
  "language_info": {
   "codemirror_mode": {
    "name": "ipython",
    "version": 3
   },
   "file_extension": ".py",
   "mimetype": "text/x-python",
   "name": "python",
   "nbconvert_exporter": "python",
   "pygments_lexer": "ipython3",
   "version": "3.5.4"
  }
 },
 "nbformat": 4,
 "nbformat_minor": 5
}
