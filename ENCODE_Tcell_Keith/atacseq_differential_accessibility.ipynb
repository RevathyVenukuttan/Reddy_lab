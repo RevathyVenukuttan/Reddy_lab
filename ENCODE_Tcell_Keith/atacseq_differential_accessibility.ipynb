{
 "cells": [
  {
   "cell_type": "code",
   "execution_count": 1,
   "metadata": {},
   "outputs": [],
   "source": [
    "%%bash\n",
    "source /data/reddylab/software/miniconda2/bin/activate alex\n",
    "module load gcc\n",
    "python /data/reddylab/Alex/reddylab_utils/scripts/featurecounts_output_to_df.py \\\n",
    "    -featurecounts /data/reddylab/Revathy/collabs/atac-seq_Siklenka/analysis/Th0_Th17.72hrs.UnionPeakSet.featurecounts.txt \\\n",
    "    -outfiles /data/reddylab/Revathy/collabs/atac-seq_Siklenka/analysis/Th0_Th17.72hrs.UnionPeakSet.featurecounts.df.txt \\\n",
    "    --drop-suffixes .masked.dups_marked.bam \\\n",
    "    --join-input-files \\\n"
   ]
  },
  {
   "cell_type": "code",
   "execution_count": 2,
   "metadata": {},
   "outputs": [],
   "source": [
    "%%bash\n",
    "source /data/reddylab/software/miniconda2/bin/activate alex\n",
    "module load gcc\n",
    "python /data/reddylab/Alex/reddylab_utils/scripts/featurecounts_output_to_df.py \\\n",
    "    -featurecounts /data/reddylab/Revathy/dev/atac-seq_Siklenka/analysis/Th0_Th17_new.72hrs.UnionPeakSet.featurecounts.txt \\\n",
    "    -outfiles /data/reddylab/Revathy/dev/atac-seq_Siklenka/analysis/Th0_Th17_new.72hrs.UnionPeakSet.featurecounts.combined.df.txt \\\n",
    "    --drop-suffixes masked.dups_marked.bam masked.dups_marked.nsorted.bam \\"
   ]
  },
  {
   "cell_type": "code",
   "execution_count": 2,
   "metadata": {},
   "outputs": [],
   "source": [
    "%%bash\n",
    "cd /data/reddylab/Revathy/collabs/atac-seq_Siklenka/analysis\n",
    "file=Th0_Th17.72hrs.UnionPeakSet.featurecounts\n",
    "cat ${file}.df.txt | cut -f1,3,4,5,6,7,8 | sed '1{ s/KS133.Th0.72hrs.ASTARR.insert.rep1/Th0.72hrs.ASTARR.insert.rep1/; s/KS133.Th0.72hrs.ASTARR.insert.rep2/Th0.72hrs.ASTARR.insert.rep2/; s/KS134.Th17.72hrs.ASTARR.insert.rep1/Th17.72hrs.ASTARR.insert.rep1/; s/KS134.Th17.72hrs.ASTARR.insert.rep2/Th17.72hrs.ASTARR.insert.rep2/; s/KS136.Th17.72hrs.ASTARR.insert.rep3/Th17.72hrs.ASTARR.insert.rep3/; s/KS136.Th17.72hrs.ASTARR.insert.rep4/Th17.72hrs.ASTARR.insert.rep4/; s/^/#/; }' > ${file}.txt \n"
   ]
  },
  {
   "cell_type": "code",
   "execution_count": 4,
   "metadata": {},
   "outputs": [
    {
     "name": "stdout",
     "output_type": "stream",
     "text": [
      "#Geneid\tTh0.72hrs.ASTARR.insert.rep2\tTh17.72hrs.ASTARR.insert.rep1\tTh17.72hrs.ASTARR.insert.rep2\tTh17.72hrs.ASTARR.insert.rep3\tTh17.72hrs.ASTARR.insert.rep4\r\n",
      "chr1_4491842_4492115\t18\t10\t13\t28\t19\r\n",
      "chr1_4492489_4493388\t53\t46\t36\t40\t48\r\n",
      "chr1_4496438_4497087\t58\t45\t58\t59\t53\r\n",
      "chr1_4571640_4571997\t25\t32\t16\t29\t34\r\n",
      "chr1_4600559_4601117\t44\t308\t332\t439\t369\r\n",
      "chr1_4671564_4672001\t141\t73\t92\t104\t87\r\n",
      "chr1_4724647_4724940\t24\t85\t60\t63\t55\r\n",
      "chr1_4748181_4748505\t40\t24\t28\t65\t51\r\n",
      "chr1_4774994_4775958\t93\t166\t157\t121\t132\r\n"
     ]
    }
   ],
   "source": [
    "!head /data/reddylab/Revathy/collabs/atac-seq_Siklenka/analysis/Th0_Th17.72hrs.UnionPeakSet.featurecounts.txt"
   ]
  },
  {
   "cell_type": "markdown",
   "metadata": {},
   "source": [
    "Copy read_count.mapped files to new folder for ease of library size calculation"
   ]
  },
  {
   "cell_type": "code",
   "execution_count": 3,
   "metadata": {},
   "outputs": [],
   "source": [
    "%%bash\n",
    "mkdir -p /data/reddylab/Revathy/dev/atac-seq_Siklenka/data/atac_seq/readCount\n",
    "\n",
    "cp /data/reddylab/Revathy/dev/atac-seq_Siklenka/processing/atac_seq/Siklenka_6420_200804A5-pe-blacklist-removal/*.Th17.*.mapped /data/reddylab/Revathy/dev/atac-seq_Siklenka/data/atac_seq/readCount\n",
    "cp /data/reddylab/Revathy/dev/atac-seq_Siklenka/processing/atac_seq/Siklenka_6420_200805A5-pe-blacklist-removal/*.Th0.*.mapped /data/reddylab/Revathy/dev/atac-seq_Siklenka/data/atac_seq/readCount\n"
   ]
  },
  {
   "cell_type": "markdown",
   "metadata": {},
   "source": [
    "Calculate library sizes for Th0 and Th17"
   ]
  },
  {
   "cell_type": "code",
   "execution_count": 5,
   "metadata": {},
   "outputs": [],
   "source": [
    "%%bash\n",
    "# Generate lib_sizes for each ATAC-seq library (number of mapped_reads)\n",
    "cd /data/reddylab/Revathy/collabs/atac-seq_Siklenka/data/atac_seq/readCount\n",
    "echo -n > /data/reddylab/Revathy/collabs/atac-seq_Siklenka/data/atac_seq/counts/lib_sizes.txt\n",
    "for ii in *.{Th0,Th17}.*.bowtie.log.read_count.mapped;\n",
    "do\n",
    "    iname=$(basename ${ii} | sed 's@.bowtie.log.read_count.mapped@@')\n",
    "    echo -e $iname\"\\t\"$(cut -f2 ${ii}) \\\n",
    "        >> /data/reddylab/Revathy/collabs/atac-seq_Siklenka/data/atac_seq/counts/lib_sizes.tmp.txt\n",
    "done"
   ]
  },
  {
   "cell_type": "code",
   "execution_count": 6,
   "metadata": {},
   "outputs": [
    {
     "name": "stdout",
     "output_type": "stream",
     "text": [
      "Overwriting /data/reddylab/Revathy/collabs/atac-seq_Siklenka/data/atac_seq/counts/lib_sizes.names.txt\n"
     ]
    }
   ],
   "source": [
    "%%writefile /data/reddylab/Revathy/collabs/atac-seq_Siklenka/data/atac_seq/counts/lib_sizes.names.txt\n",
    "KS133.Th0.72hrs.ASTARR.insert.rep1\n",
    "KS133.Th0.72hrs.ASTARR.insert.rep2\n",
    "KS134.Th17.72hrs.ASTARR.insert.rep1\n",
    "KS134.Th17.72hrs.ASTARR.insert.rep2\n",
    "KS136.Th17.72hrs.ASTARR.insert.rep3\n",
    "KS136.Th17.72hrs.ASTARR.insert.rep4"
   ]
  },
  {
   "cell_type": "code",
   "execution_count": 7,
   "metadata": {},
   "outputs": [],
   "source": [
    "%%bash\n",
    "paste /data/reddylab/Revathy/collabs/atac-seq_Siklenka/data/atac_seq/counts/lib_sizes.names.txt /data/reddylab/Revathy/collabs/atac-seq_Siklenka/data/atac_seq/counts/lib_sizes.tmp.txt \\\n",
    "    | cut -f1,3 \\\n",
    "    > /data/reddylab/Revathy/collabs/atac-seq_Siklenka/data/atac_seq/counts/lib_sizes.txt"
   ]
  },
  {
   "cell_type": "code",
   "execution_count": 8,
   "metadata": {},
   "outputs": [],
   "source": [
    "%%bash\n",
    "cut -d \".\" -f2,3,4,5,6 /data/reddylab/Revathy/collabs/atac-seq_Siklenka/data/atac_seq/counts/lib_sizes.txt > /data/reddylab/Revathy/collabs/atac-seq_Siklenka/data/atac_seq/counts/lib_sizes_format.txt\n"
   ]
  },
  {
   "cell_type": "code",
   "execution_count": 12,
   "metadata": {},
   "outputs": [
    {
     "name": "stdout",
     "output_type": "stream",
     "text": [
      "Overwriting /data/reddylab/Revathy/scripts/atacseq.deseq2.R\n"
     ]
    }
   ],
   "source": [
    "%%writefile /data/reddylab/Revathy/scripts/atacseq.deseq2.R\n",
    "#!/usr/bin/env Rscript\n",
    "library(DESeq2)\n",
    "library(ggplot2)\n",
    "library(matrixStats)\n",
    "library(dplyr)\n",
    "\n",
    "suppressPackageStartupMessages(library(\"argparse\"))\n",
    "\n",
    "# Rewrite DESeq2 plotPCA function to specify which PC to plot\n",
    "plotPCA_ = function(object, intgroup=\"condition\", ntop=500, returnData=FALSE, pcX=1, pcY=2, ignoreReps=FALSE)\n",
    "{\n",
    "  # calculate the variance for each gene\n",
    "  rv <- rowVars(assay(object))\n",
    "\n",
    "  # select the ntop genes by variance\n",
    "  select <- order(rv, decreasing=TRUE)[seq_len(min(ntop, length(rv)))]\n",
    "\n",
    "  # perform a PCA on the data in assay(x) for the selected genes\n",
    "  pca <- prcomp(t(assay(object)[select,]))\n",
    "\n",
    "  # the contribution to the total variance for each component\n",
    "  percentVar <- pca$sdev^2 / sum( pca$sdev^2 )\n",
    "\n",
    "  if (!all(intgroup %in% names(colData(object)))) {\n",
    "    stop(\"the argument 'intgroup' should specify columns of colData(dds)\")\n",
    "  }\n",
    "\n",
    "  intgroup.df <- as.data.frame(colData(object)[, intgroup, drop=FALSE])\n",
    "  \n",
    "  # add the intgroup factors together to create a new grouping factor\n",
    "  group <- if (length(intgroup) > 1) {\n",
    "    factor(apply( intgroup.df, 1, paste, collapse=\":\"))\n",
    "  } else {\n",
    "    colData(object)[[intgroup]]\n",
    "  }\n",
    "    \n",
    "  if (returnData) {\n",
    "    attr(d, \"percentVar\") <- c(percentVar[pcX], percentVar[pcY])\n",
    "    return(d)\n",
    "  }\n",
    "\n",
    "  if (!ignoreReps){\n",
    "      # Add replicate info\n",
    "      rep <- colData(object)[['rep']]\n",
    "\n",
    "        # assembly the data for the plot\n",
    "      d <- data.frame(PCX=pca$x[,pcX], PCY=pca$x[,pcY], group=group, rep=rep, intgroup.df, name=colnames(object))\n",
    "\n",
    "      ggplot(data=d, aes_string(x=\"PCX\", y=\"PCY\", color=\"group\", shape=\"rep\")) + geom_point(size=3) + \n",
    "        xlab(paste0(\"PC\", pcX, \": \",round(percentVar[pcX] * 100),\"% variance\")) +\n",
    "          ylab(paste0(\"PC\", pcY, \": \",round(percentVar[pcY] * 100),\"% variance\"))       \n",
    "  } else {\n",
    "#       sex <- colData(object)[['sex']]\n",
    "\n",
    "        # assembly the data for the plot\n",
    "      d <- data.frame(PCX=pca$x[,pcX], PCY=pca$x[,pcY], group=group, intgroup.df, name=colnames(object)) # , sex=sex\n",
    "#     , shape=\"sex\"\n",
    "      ggplot(data=d, aes_string(x=\"PCX\", y=\"PCY\", color=\"group\")) + geom_point(size=3) + \n",
    "        xlab(paste0(\"PC\", pcX, \": \",round(percentVar[pcX] * 100),\"% variance\")) +\n",
    "          ylab(paste0(\"PC\", pcY, \": \",round(percentVar[pcY] * 100),\"% variance\"))       \n",
    "      \n",
    "  }\n",
    "#     + coord_fixed()\n",
    "}\n",
    "\n",
    "# create parser object\n",
    "parser <- ArgumentParser()\n",
    "\n",
    "# specify our desired options \n",
    "# by default ArgumentParser will add an help option \n",
    "parser$add_argument(\"-c\", \"--controls\", nargs=\"+\", help=\"Featurecounts file for controls\")\n",
    "parser$add_argument(\"-t\", \"--treatments\", nargs=\"+\", help=\"Featurecounts file for treatments\")\n",
    "parser$add_argument(\"--counts\", nargs=\"+\", help=\"Count matrix (or matrices). Count columns should match controls and treatments specified\")\n",
    "parser$add_argument(\"--outdir\", help=\"Output directory where result files will be saved.\")\n",
    "parser$add_argument(\"--lfcShrink\", required=F, \n",
    "                    help=\"Perform effect size shrinkage (types: normal, apeglm and ashr. See Zhu, Ibrahim, and Love 2018).\")\n",
    "parser$add_argument(\"--lib-sizes\", required=F, \n",
    "                    help=\"Use library sizes as scaling factor overwritting the default total counts per library\")\n",
    "parser$add_argument(\"--counts-skip-ncols\", required=F, \n",
    "                    help=\"Skip n first columns from count matrix\")\n",
    "parser$add_argument(\"--counts-only-treatments-and-controls\", required=F, action=\"store_true\", default=FALSE,\n",
    "                    help=\"Keep only the counts from the treatment and control samples (affects dispersion estimates, but can speed up things significantly)\")\n",
    "parser$add_argument(\"--no-filter\", required=F, action=\"store_true\", default=FALSE,\n",
    "                    help=\"By default, lowly expressed regions in only 1 sample are removed. Specify if no filter should be done\")\n",
    "parser$add_argument(\"--no-model-reps\", required=F, action=\"store_true\", default=FALSE,\n",
    "                    help=\"Ignore replicates when plotting PCA components\")\n",
    "parser$add_argument(\"--additional-metadata\", required=F, help=\"For genotype and sex info\")\n",
    "\n",
    "# get command line options, if help option encountered print help and exit,\n",
    "# otherwise if options not found on command line then set defaults, \n",
    "args <- parser$parse_args()\n",
    "treatments <- args$treatments\n",
    "controls <- args$controls\n",
    "outdir <- args$outdir\n",
    "\n",
    "ff <- args$counts\n",
    "dd <- lapply(ff, read.csv, header=TRUE, sep=\"\\t\", stringsAsFactors=FALSE, row.names=1)\n",
    "xx <- do.call(cbind, dd)\n",
    "\n",
    "countData <- xx\n",
    "if (!is.null(args$counts_skip_ncols)){\n",
    "    countData <- xx[, -c(1:args$counts_skip_ncols)]\n",
    "}\n",
    "\n",
    "colnames(countData)[colnames(countData)%in%append(treatments, controls)]\n",
    "if (args$counts_only_treatments_and_controls){\n",
    "#     countData <- xx %>% select(unlist(append(treatments, controls)))\n",
    "    countData <- subset(xx, select = append(treatments, controls))\n",
    "}\n",
    "\n",
    "controls\n",
    "treatments\n",
    "\n",
    "samples_no_reps <- gsub(\"(.*)\\\\..*\", \"\\\\1\", colnames(countData))\n",
    "reps <- gsub(\".*\\\\.(.*)\", \"\\\\1\", colnames(countData))\n",
    "\n",
    "conditions <- samples_no_reps\n",
    "conditions\n",
    "\n",
    "if (!args$no_model_reps){\n",
    "    if (!is.null(args$additional_metadata)){\n",
    "        sex_genotype <- read.table(args$additional_metadata, sep=\"\\t\", header=1, row.names=1)\n",
    "        sex <- sex_genotype[colnames(countData), c(\"Sex\")]\n",
    "#         genotypes <- sex_genotype[colnames(countData), c(\"Genotype\")]\n",
    "\n",
    "        colData <- data.frame(condition=conditions, rep=reps, sex=sex, row.names=colnames(countData))\n",
    "        dds <- DESeqDataSetFromMatrix(countData = countData,\n",
    "                                      colData = colData,\n",
    "                                      design = ~ rep + sex + condition)\n",
    "        \n",
    "    } else {\n",
    "        colData <- data.frame(condition=conditions, rep=reps, row.names=colnames(countData))\n",
    "        dds <- DESeqDataSetFromMatrix(countData = countData,\n",
    "                                      colData = colData,\n",
    "                                      design = ~ rep + condition)\n",
    "    }\n",
    "} else {\n",
    "    \n",
    "    if (!is.null(args$additional_metadata)){\n",
    "        sex_genotype <- read.table(args$additional_metadata, sep=\"\\t\", header=1, row.names=1)\n",
    "        sex <- sex_genotype[colnames(countData), c(\"Sex\")]\n",
    "\n",
    "        colData <- data.frame(condition=conditions, sex=sex, row.names=colnames(countData))\n",
    "        dds <- DESeqDataSetFromMatrix(countData = countData,\n",
    "                                      colData = colData,\n",
    "                                      design = ~ sex + condition)\n",
    "        \n",
    "    } else {\n",
    "        colData <- data.frame(condition=conditions, row.names=colnames(countData))\n",
    "        dds <- DESeqDataSetFromMatrix(countData = countData,\n",
    "                                      colData = colData,\n",
    "                                      design = ~ condition)\n",
    "        \n",
    "    }\n",
    "}\n",
    "\n",
    "# Optionally: if lib_sizes provided, manually assigned scale factors\n",
    "if (!is.null(args$lib_sizes)){\n",
    "    lib_sizes <- read.table(args$lib_sizes, sep=\"\\t\", row.names=1)\n",
    "    lib_sizes <- lib_sizes[colnames(countData), ]\n",
    "    lib_sizes_scale_factors <- lib_sizes/min(lib_sizes)\n",
    "    sizeFactors(dds) <- lib_sizes_scale_factors    \n",
    "}\n",
    "\n",
    "\n",
    "# Reorder condition comparisons to always compute log2 fold changes of treat vs control\n",
    "conditions_pair <- unique(conditions)\n",
    "control_conditions <- unique(gsub(\"(.*)\\\\..*\", \"\\\\1\", controls))\n",
    "treatment_conditions <- unique(gsub(\"(.*)\\\\..*\", \"\\\\1\", treatments))\n",
    "\n",
    "# Relevel to setup control as reference\n",
    "dds$condition <- relevel(dds$condition, ref = control_conditions)\n",
    "\n",
    "# Pre-filtering low count genes\n",
    "# dds <- dds[ rowSums(counts(dds)) > 5, ]\n",
    "if (!args$no_filter){\n",
    "    dds <- dds[ rowSums(fpm(dds, robust = FALSE)>=2) > 1, ]\n",
    "}\n",
    "\n",
    "# Run DESeq2\n",
    "dds <- DESeq(dds)\n",
    "\n",
    "# rlog transformed values (typically used for clustering - see DESeq2 manual for details)\n",
    "rld <- rlog(dds)\n",
    "nrow(results(dds))\n",
    "head(assay(rld))\n",
    "\n",
    "# Calculate comparison string name \n",
    "treat_vs_contr <- paste0(treatment_conditions, '_vs_', control_conditions)\n",
    "\n",
    "# Extracting transformed values for PCA analysis\n",
    "vsd <- vst(dds, blind=FALSE)\n",
    "\n",
    "# Create PCA plot for the first and second PCs\n",
    "pdf(paste0(outdir, '/', treat_vs_contr, '.pca.1_vs_2.pdf'), width=8, height=5)\n",
    "plotPCA_(vsd, intgroup=c('condition'), ntop=500, pcX=1, pcY=2, ignoreReps=args$no_model_reps)\n",
    "dev.off()\n",
    "# Create PCA plot for the second and third PCs\n",
    "pdf(paste0(outdir, '/', treat_vs_contr, '.pca.2_vs_3.pdf'), width=8, height=5)\n",
    "plotPCA_(vsd, intgroup=c('condition'), ntop=500, pcX=2, pcY=3, ignoreReps=args$no_model_reps)\n",
    "dev.off()\n",
    "# Create PCA plot for the third and fourth PCs\n",
    "pdf(paste0(outdir, '/', treat_vs_contr, '.pca.3_vs_4.pdf'), width=8, height=5)\n",
    "plotPCA_(vsd, intgroup=c('condition'), ntop=500, pcX=3, pcY=4, ignoreReps=args$no_model_reps)\n",
    "dev.off()\n",
    "\n",
    "\n",
    "c('condition',  \n",
    "  conditions_pair[conditions_pair %in% treatment_conditions], \n",
    "  conditions_pair[conditions_pair %in% control_conditions])\n",
    "res <- results(dds, \n",
    "               contrast=c('condition', \n",
    "                          conditions_pair[conditions_pair %in% treatment_conditions],\n",
    "                          conditions_pair[conditions_pair %in% control_conditions]), \n",
    "               alpha=0.05,\n",
    "               independentFiltering=TRUE)  # TODO: Test how the results look without independent filtering\n",
    "\n",
    "# Print out result names\n",
    "resultsNames(dds)\n",
    "\n",
    "\n",
    "# Shrink log2 fold-change values?\n",
    "if (!is.null(args$lfcShrink)){\n",
    "    targ_contrast <- paste0(\"condition_\", treat_vs_contr)\n",
    "    res <- lfcShrink(dds, \n",
    "                     coef=targ_contrast, \n",
    "                     type=args$lfcShrink)\n",
    "}\n",
    "\n",
    "# Sort by adjusted p-value (FDR)\n",
    "(resOrdered <- res[order(res$padj),])\n",
    "\n",
    "\n",
    "# Print out summary of results\n",
    "summary(resOrdered, alpha=0.05)\n",
    "\n",
    "# Try IHW multiple hypothesis testing package\n",
    "library(\"IHW\")\n",
    "resIHW <- results(dds, \n",
    "                  alpha=0.05,\n",
    "                  contrast=c('condition', \n",
    "                          conditions_pair[conditions_pair %in% treatment_conditions],\n",
    "                          conditions_pair[conditions_pair %in% control_conditions]),\n",
    "                  filterFun=ihw\n",
    "                 )\n",
    "summary(resIHW, alpha=0.05)\n",
    "\n",
    "\n",
    "# Create plot for the log2 fold changes from the treatment over the mean of normalized counts\n",
    "pdf(paste0(outdir, '/', treat_vs_contr, '.pdf'))\n",
    "plotMA(res, main=paste0(\"DESeq2_\", treat_vs_contr), ylim=c(-10,10))\n",
    "dev.off()\n",
    "\n",
    "# Create plot for dispersion of normalized counts\n",
    "pdf(paste0(outdir, '/', treat_vs_contr, '.mean_counts_dispersion.pdf'))\n",
    "plotDispEsts(dds)\n",
    "dev.off()\n",
    "\n",
    "# To check if there are too many outliers, plot the Cook distances \n",
    "pdf(paste0(outdir, '/', treat_vs_contr, '.cook_distances.pdf'))\n",
    "par(mar=c(8,5,2,2))\n",
    "boxplot(log10(assays(dds)[[\"cooks\"]]), range=0, las=2)\n",
    "dev.off()\n",
    "\n",
    "# Save sorted results in a text file\n",
    "write.table(resOrdered, \n",
    "            file=paste0(outdir, '/', treat_vs_contr, '.txt'),\n",
    "            quote = FALSE, row.names=TRUE, sep = '\\t')\n",
    "\n",
    "# Save rlog transformed values\n",
    "write.table(assay(rld), \n",
    "            file=paste0(outdir, '/', treat_vs_contr, '.rlog.txt'),\n",
    "            quote = FALSE, row.names=TRUE, sep = '\\t')\n",
    "\n"
   ]
  },
  {
   "cell_type": "code",
   "execution_count": 13,
   "metadata": {},
   "outputs": [
    {
     "name": "stdout",
     "output_type": "stream",
     "text": [
      "Submitted batch job 25793273\n"
     ]
    }
   ],
   "source": [
    "%%bash\n",
    "mkdir -p /data/reddylab/Revathy/collabs/atac-seq_Siklenka/results/tmp\n",
    "source /data/reddylab/software/miniconda2/bin/activate alex_dev\n",
    "module load gcc\n",
    "sbatch -p all \\\n",
    "    --mem 16G \\\n",
    "    -o /data/reddylab/Revathy/collabs/atac-seq_Siklenka/logs/tmp_atac_deseq.out \\\n",
    "    <<'EOF'\n",
    "#!/bin/bash\n",
    "COMPARISONS=( \\\n",
    "    Th17.72hrs.ASTARR.insert-Th0.72hrs.ASTARR.insert \\\n",
    ")\n",
    "\n",
    "COMPARISON=${COMPARISONS[${SLURM_ARRAY_TASK_ID}]}\n",
    "TREAT=$(echo $COMPARISON | cut -d\"-\" -f1)\n",
    "CONTROL=$(echo $COMPARISON | cut -d\"-\" -f2)\n",
    "FACTOR=$(echo ${CONTROL} | cut -d. -f1)\n",
    "\n",
    "Rscript /data/reddylab/Revathy/scripts/atacseq.deseq2.R \\\n",
    "    --lfcShrink ashr \\\n",
    "    --no-model-reps \\\n",
    "    --treatments $(/bin/grep ${TREAT} /data/reddylab/Revathy/collabs/atac-seq_Siklenka/data/atac_seq/counts/lib_sizes_format.txt | cut -f1) \\\n",
    "    --controls $(/bin/grep ${CONTROL} /data/reddylab/Revathy/collabs/atac-seq_Siklenka/data/atac_seq/counts/lib_sizes_format.txt | cut -f1) \\\n",
    "    --lib-sizes /data/reddylab/Revathy/collabs/atac-seq_Siklenka/data/atac_seq/counts/lib_sizes_format.txt \\\n",
    "    --outdir /data/reddylab/Revathy/collabs/atac-seq_Siklenka/results/tmp/ \\\n",
    "    --counts /data/reddylab/Revathy/collabs/atac-seq_Siklenka/analysis/Th0_Th17.72hrs.UnionPeakSet.featurecounts.txt\n",
    "EOF"
   ]
  },
  {
   "cell_type": "code",
   "execution_count": 3,
   "metadata": {},
   "outputs": [
    {
     "name": "stdout",
     "output_type": "stream",
     "text": [
      "84223 /data/reddylab/Revathy/collabs/atac-seq_Siklenka/analysis/Th0_Th17.72hrs.UnionPeakSet.featurecounts.txt\r\n"
     ]
    }
   ],
   "source": [
    "!wc -l /data/reddylab/Revathy/collabs/atac-seq_Siklenka/analysis/Th0_Th17.72hrs.UnionPeakSet.featurecounts.txt"
   ]
  },
  {
   "cell_type": "code",
   "execution_count": 1,
   "metadata": {},
   "outputs": [
    {
     "name": "stdout",
     "output_type": "stream",
     "text": [
      "baseMean\tlog2FoldChange\tlfcSE\tpvalue\tpadj\r\n",
      "chr4_143288226_143289757\t1647.73336636732\t3.81726459784635\t0.149421823937938\t2.26509166736847e-145\t1.54875642756319e-140\r\n",
      "chr16_25010772_25012159\t1485.52387348661\t3.48472723761304\t0.140449160020006\t4.20040679819601e-137\t1.43601407413326e-132\r\n",
      "chr2_181099140_181100692\t1928.35072840258\t2.9614912246334\t0.12138931489356\t2.19773839527376e-132\t5.00901209256145e-128\r\n",
      "chr17_24922152_24923413\t1302.95899109185\t4.05652786705213\t0.173908025374107\t6.24351466900603e-122\t1.06725078873322e-117\r\n",
      "chr6_88827500_88829063\t1481.49179677977\t3.53133982990557\t0.152986375873328\t3.99629865460984e-119\t5.46493841017895e-115\r\n",
      "chr1_36965264_36966375\t1868.2189488516\t2.32734236110937\t0.102147391471507\t1.24159084180454e-115\t1.41489623013975e-111\r\n",
      "chr12_70890543_70891870\t1399.96979228548\t3.98211754387464\t0.178451046369452\t7.65614613393013e-112\t7.47841417010676e-108\r\n",
      "chr1_93529464_93530987\t1365.00075899984\t3.19374550045465\t0.143893638020533\t3.44938808156298e-110\t2.94814887596086e-106\r\n",
      "chr13_49396570_49397505\t1339.95017639109\t3.1995712004824\t0.14484912807346\t3.61186520272987e-109\t2.74401425818506e-105\r\n"
     ]
    }
   ],
   "source": [
    "!head /data/reddylab/Revathy/collabs/atac-seq_Siklenka/results/tmp/Th17.72hrs.ASTARR.insert_vs_Th0.72hrs.ASTARR.insert.txt"
   ]
  },
  {
   "cell_type": "code",
   "execution_count": 12,
   "metadata": {},
   "outputs": [],
   "source": [
    "%%bash\n",
    "FDR=0.05\n",
    "COMPARISONS=( \\\n",
    "    Th17.72hrs.ASTARR.insert_vs_Th0.72hrs.ASTARR.insert \\\n",
    ")\n",
    "cd /data/reddylab/Revathy/collabs/atac-seq_Siklenka/results/deseq2\n",
    "for COMP in ${COMPARISONS[@]};\n",
    "do\n",
    "    # Save expressed genes (more than 5 normalized counts)\n",
    "    tail -n+2 ${COMP}.txt |  cut -f1 > ${COMP}.accessible_peaks.txt \n",
    "    \n",
    "    # Save significant upreg genes\n",
    "    tail -n+2 ${COMP}.txt |  awk -vFDR=${FDR} '{if(($NF<FDR) && ($3>0)){print $1}}' |  cut -d. -f1 > ${COMP}.increase.txt \n",
    "\n",
    "    # Save significant downreg genes\n",
    "    tail -n+2 ${COMP}.txt |  awk -vFDR=${FDR} '{if(($NF<FDR) && ($3<0)){print $1}}' |  cut -d. -f1 > ${COMP}.decrease.txt \n",
    "\n",
    "done\n"
   ]
  },
  {
   "cell_type": "code",
   "execution_count": 13,
   "metadata": {},
   "outputs": [],
   "source": [
    "%%bash\n",
    "cd /data/reddylab/Revathy/collabs/atac-seq_Siklenka/results/deseq2\n",
    "COMPARISONS=( \\\n",
    "    Th17.72hrs.ASTARR.insert_vs_Th0.72hrs.ASTARR.insert \\\n",
    ")\n",
    "for ENRICH in increase decrease;\n",
    "do\n",
    "    for ii in ${COMPARISONS[@]};\n",
    "    do\n",
    "        tail -n+2 ${ii}.${ENRICH}.txt | cut -f1 | sed 's@_@\\t@g' > ${ii}.${ENRICH}.bed \n",
    "    done\n",
    "done"
   ]
  },
  {
   "cell_type": "code",
   "execution_count": 14,
   "metadata": {},
   "outputs": [],
   "source": [
    "%%bash\n",
    "# For all, just take one of the rlog files\n",
    "cd /data/reddylab/Revathy/collabs/atac-seq_Siklenka/results/deseq2\n",
    "COMPARISONS=( \\\n",
    "    Th17.72hrs.ASTARR.insert_vs_Th0.72hrs.ASTARR.insert \\\n",
    ")\n",
    "for ii in ${COMPARISONS[@]};\n",
    "do\n",
    "    tail -n+2 ${ii}.rlog.txt | cut -f1 | sed 's@_@\\t@g' > ${ii}.rlog.bed \n",
    "done\n"
   ]
  },
  {
   "cell_type": "code",
   "execution_count": 15,
   "metadata": {},
   "outputs": [
    {
     "name": "stdout",
     "output_type": "stream",
     "text": [
      "68375 /data/reddylab/Revathy/collabs/atac-seq_Siklenka/results/deseq2/Th17.72hrs.ASTARR.insert_vs_Th0.72hrs.ASTARR.insert.accessible_peaks.txt\n",
      "21583 /data/reddylab/Revathy/collabs/atac-seq_Siklenka/results/deseq2/Th17.72hrs.ASTARR.insert_vs_Th0.72hrs.ASTARR.insert.increase.txt\n",
      "11740 /data/reddylab/Revathy/collabs/atac-seq_Siklenka/results/deseq2/Th17.72hrs.ASTARR.insert_vs_Th0.72hrs.ASTARR.insert.decrease.txt\n"
     ]
    }
   ],
   "source": [
    "%%bash \n",
    "wc -l /data/reddylab/Revathy/collabs/atac-seq_Siklenka/results/deseq2/Th17.72hrs.ASTARR.insert_vs_Th0.72hrs.ASTARR.insert.accessible_peaks.txt\n",
    "wc -l /data/reddylab/Revathy/collabs/atac-seq_Siklenka/results/deseq2/Th17.72hrs.ASTARR.insert_vs_Th0.72hrs.ASTARR.insert.increase.txt\n",
    "wc -l /data/reddylab/Revathy/collabs/atac-seq_Siklenka/results/deseq2/Th17.72hrs.ASTARR.insert_vs_Th0.72hrs.ASTARR.insert.decrease.txt\n",
    "\n"
   ]
  },
  {
   "cell_type": "markdown",
   "metadata": {},
   "source": [
    "Add closest gene info"
   ]
  },
  {
   "cell_type": "code",
   "execution_count": 16,
   "metadata": {},
   "outputs": [
    {
     "name": "stdout",
     "output_type": "stream",
     "text": [
      "Submitted batch job 25774122\n"
     ]
    }
   ],
   "source": [
    "%%bash\n",
    "cd /data/reddylab/Revathy/collabs/atac-seq_Siklenka/results/deseq2/\n",
    "sbatch -p all \\\n",
    "    --cpus-per-task 1 \\\n",
    "    --mem 8G \\\n",
    "    -o /data/reddylab/Revathy/collabs/atac-seq_Siklenka/logs/atacseq_deseq2.add_closest_gene.rlog.out \\\n",
    "    <<'EOF'\n",
    "#!/bin/bash\n",
    "SAMPLE=\"Th17.72hrs.ASTARR.insert_vs_Th0.72hrs.ASTARR.insert.rlog.txt\"\n",
    "\n",
    "tail -n+2 ${SAMPLE} \\\n",
    "| cut -f1 \\\n",
    "| awk -F_ -vOFS=\"\\t\" '{print $1, $2, $3, $1\"_\"$2\"_\"$3}' \\\n",
    "| sort -k1,1 -k2,2n \\\n",
    "| bedtools closest \\\n",
    "    -nonamecheck \\\n",
    "    -D a \\\n",
    "    -a - \\\n",
    "    -b /data/reddylab/Reference_Data/Gencode/vM19/gencode.vM19.basic.annotation.bed \\\n",
    "| awk -vOFS=\"\\t\" \\\n",
    "    '{if(last==$4){genes=$11\",\"genes;}else{if(genes){print peak, genes, distance}peak=$4; genes=$11; distance=$13; last=peak}}END{if(last==$4){genes=$11\",\"genes;print peak, genes, distance}}' \\\n",
    "> ${SAMPLE/.txt/.closest_gene.txt}\n",
    "\n",
    "\n",
    "EOF"
   ]
  },
  {
   "cell_type": "code",
   "execution_count": 17,
   "metadata": {},
   "outputs": [],
   "source": [
    "import pandas as pd\n",
    "samples = [\"Th17.72hrs.ASTARR.insert_vs_Th0.72hrs.ASTARR.insert.rlog\"] \n",
    "data_dir = '/data/reddylab/Revathy/collabs/atac-seq_Siklenka/results/deseq2'\n",
    "for sample in samples:\n",
    "    df = pd.read_csv(\"%s/%s.txt\" % (data_dir, sample), sep='\\t')\n",
    "    df_closest= pd.read_csv(\"%s/%s.closest_gene.txt\" % (data_dir, sample), index_col=0, sep='\\t',\n",
    "                            names=['peak', 'genes', 'distance'])\n",
    "    df.join(df_closest, how='outer')\\\n",
    "        .to_csv(\"%s/%s.with_closest_gene.txt\" % (data_dir, sample), sep='\\t')"
   ]
  },
  {
   "cell_type": "code",
   "execution_count": 18,
   "metadata": {},
   "outputs": [],
   "source": [
    "%%bash\n",
    "module load bedtools2\n",
    "tail -n+2 /data/reddylab/Revathy/collabs/atac-seq_Siklenka/results/deseq2/Th17.72hrs.ASTARR.insert_vs_Th0.72hrs.ASTARR.insert.txt | awk -vOFS=\"\\t\" '$NF<0.05{split($1, coords, \"_\"); print coords[1], coords[2], coords[3], $1, $3, \".\"}' \\\n",
    "    | sort -k1,1 -k2,2n  \\\n",
    "    > /data/reddylab/Revathy/collabs/atac-seq_Siklenka/results/deseq2/Th17.72hrs.ASTARR.insert_vs_Th0.72hrs.ASTARR.insert.sig_da.bed\n",
    "    "
   ]
  },
  {
   "cell_type": "code",
   "execution_count": 19,
   "metadata": {},
   "outputs": [
    {
     "name": "stdout",
     "output_type": "stream",
     "text": [
      "33323 /data/reddylab/Revathy/collabs/atac-seq_Siklenka/results/deseq2/Th17.72hrs.ASTARR.insert_vs_Th0.72hrs.ASTARR.insert.sig_da.bed\r\n"
     ]
    }
   ],
   "source": [
    "!wc -l /data/reddylab/Revathy/collabs/atac-seq_Siklenka/results/deseq2/Th17.72hrs.ASTARR.insert_vs_Th0.72hrs.ASTARR.insert.sig_da.bed"
   ]
  },
  {
   "cell_type": "code",
   "execution_count": 20,
   "metadata": {},
   "outputs": [
    {
     "name": "stdout",
     "output_type": "stream",
     "text": [
      "chr1\t4600559\t4601117\tchr1_4600559_4601117\t2.16206789078558\t.\r\n",
      "chr1\t4671564\t4672001\tchr1_4671564_4672001\t-1.30409349798851\t.\r\n",
      "chr1\t4888157\t4888775\tchr1_4888157_4888775\t1.20295110927484\t.\r\n",
      "chr1\t4915898\t4916201\tchr1_4915898_4916201\t0.818977985803797\t.\r\n",
      "chr1\t5015194\t5015905\tchr1_5015194_5015905\t1.43184762199044\t.\r\n",
      "chr1\t5019033\t5020138\tchr1_5019033_5020138\t-0.418523393776327\t.\r\n",
      "chr1\t5031597\t5031970\tchr1_5031597_5031970\t1.31568568310573\t.\r\n",
      "chr1\t5082592\t5083621\tchr1_5082592_5083621\t0.516028339604227\t.\r\n",
      "chr1\t6214071\t6215608\tchr1_6214071_6215608\t-0.281673178101854\t.\r\n",
      "chr1\t6382605\t6383624\tchr1_6382605_6383624\t-1.05227287171606\t.\r\n"
     ]
    }
   ],
   "source": [
    "!head /data/reddylab/Revathy/collabs/atac-seq_Siklenka/results/deseq2/Th17.72hrs.ASTARR.insert_vs_Th0.72hrs.ASTARR.insert.sig_da.bed"
   ]
  },
  {
   "cell_type": "code",
   "execution_count": 23,
   "metadata": {},
   "outputs": [
    {
     "name": "stdout",
     "output_type": "stream",
     "text": [
      "68376 /data/reddylab/Revathy/collabs/atac-seq_Siklenka/results/deseq2/Th17.72hrs.ASTARR.insert_vs_Th0.72hrs.ASTARR.insert.txt\r\n"
     ]
    }
   ],
   "source": [
    "!wc -l /data/reddylab/Revathy/collabs/atac-seq_Siklenka/results/deseq2/Th17.72hrs.ASTARR.insert_vs_Th0.72hrs.ASTARR.insert.txt"
   ]
  },
  {
   "cell_type": "code",
   "execution_count": 1,
   "metadata": {},
   "outputs": [
    {
     "name": "stdout",
     "output_type": "stream",
     "text": [
      "baseMean\tlog2FoldChange\tlfcSE\tpvalue\tpadj\r\n",
      "chr4_143288226_143289757\t1647.73336636732\t3.81726459784635\t0.149421823937938\t2.26509166736847e-145\t1.54875642756319e-140\r\n",
      "chr16_25010772_25012159\t1485.52387348661\t3.48472723761304\t0.140449160020006\t4.20040679819601e-137\t1.43601407413326e-132\r\n",
      "chr2_181099140_181100692\t1928.35072840258\t2.9614912246334\t0.12138931489356\t2.19773839527376e-132\t5.00901209256145e-128\r\n",
      "chr17_24922152_24923413\t1302.95899109185\t4.05652786705213\t0.173908025374107\t6.24351466900603e-122\t1.06725078873322e-117\r\n",
      "chr6_88827500_88829063\t1481.49179677977\t3.53133982990557\t0.152986375873328\t3.99629865460984e-119\t5.46493841017895e-115\r\n",
      "chr1_36965264_36966375\t1868.2189488516\t2.32734236110937\t0.102147391471507\t1.24159084180454e-115\t1.41489623013975e-111\r\n",
      "chr12_70890543_70891870\t1399.96979228548\t3.98211754387464\t0.178451046369452\t7.65614613393013e-112\t7.47841417010676e-108\r\n",
      "chr1_93529464_93530987\t1365.00075899984\t3.19374550045465\t0.143893638020533\t3.44938808156298e-110\t2.94814887596086e-106\r\n",
      "chr13_49396570_49397505\t1339.95017639109\t3.1995712004824\t0.14484912807346\t3.61186520272987e-109\t2.74401425818506e-105\r\n"
     ]
    }
   ],
   "source": [
    "!head /data/reddylab/Revathy/collabs/atac-seq_Siklenka/results/deseq2/Th17.72hrs.ASTARR.insert_vs_Th0.72hrs.ASTARR.insert.txt"
   ]
  },
  {
   "cell_type": "code",
   "execution_count": null,
   "metadata": {},
   "outputs": [],
   "source": []
  }
 ],
 "metadata": {
  "kernelspec": {
   "display_name": "Python 3",
   "language": "python",
   "name": "python3"
  },
  "language_info": {
   "codemirror_mode": {
    "name": "ipython",
    "version": 3
   },
   "file_extension": ".py",
   "mimetype": "text/x-python",
   "name": "python",
   "nbconvert_exporter": "python",
   "pygments_lexer": "ipython3",
   "version": "3.6.7"
  }
 },
 "nbformat": 4,
 "nbformat_minor": 2
}
