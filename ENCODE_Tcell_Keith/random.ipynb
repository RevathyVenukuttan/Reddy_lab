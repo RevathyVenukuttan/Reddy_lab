{
 "cells": [
  {
   "cell_type": "code",
   "execution_count": 2,
   "metadata": {},
   "outputs": [
    {
     "name": "stdout",
     "output_type": "stream",
     "text": [
      "56192 /data/reddylab/Revathy/collabs/Keith/data/atac_starr_vs_whg_starr_negative_intersect_region.bed\r\n"
     ]
    }
   ],
   "source": [
    "!wc -l /data/reddylab/Revathy/collabs/Keith/data/atac_starr_vs_whg_starr_negative_intersect_region.bed"
   ]
  },
  {
   "cell_type": "code",
   "execution_count": 26,
   "metadata": {},
   "outputs": [],
   "source": [
    "%%bash\n",
    "module load bedtools2\n",
    "cat /data/reddylab/Revathy/collabs/Keith/data/atac_starr_vs_whg_starr_negative_intersect_region.bed \\\n",
    "| cut -f1,2,3 \\\n",
    "| bedtools intersect -a - \\\n",
    "-b /data/reddylab/Revathy/collabs/Jamborees/fcc_capstone/data/inputs/ASTARR/KS91_K562_hg38_ASTARRseq_Input_allReps.masked.dedup.sorted_peaks.cut.narrowPeak \\\n",
    "> /data/reddylab/Revathy/collabs/Keith/data/atac_starr_vs_whg_starr_negative_intersect_region.atac_intersected.bed"
   ]
  },
  {
   "cell_type": "code",
   "execution_count": 20,
   "metadata": {},
   "outputs": [
    {
     "name": "stdout",
     "output_type": "stream",
     "text": [
      "chr1\t139050\t139090\tchr1\t139050\t139210\tchr1\t138990\t139090\n",
      "chr1\t778150\t778290\tchr1\t777950\t778290\tchr1\t778150\t778360\n",
      "chr1\t842680\t842810\tchr1\t842680\t842810\tchr1\t842500\t842850\n",
      "chr1\t869670\t869770\tchr1\t869670\t869770\tchr1\t869660\t870090\n",
      "chr1\t907070\t907210\tchr1\t906730\t907210\tchr1\t907070\t907220\n",
      "chr1\t912840\t912940\tchr1\t912840\t913000\tchr1\t912760\t912940\n",
      "chr1\t920650\t920760\tchr1\t920650\t920760\tchr1\t920520\t920940\n",
      "chr1\t921440\t921530\tchr1\t921200\t921530\tchr1\t921440\t921550\n",
      "chr1\t923430\t923700\tchr1\t923430\t923700\tchr1\t923360\t923770\n",
      "chr1\t926100\t926200\tchr1\t926100\t926200\tchr1\t925990\t926470\n",
      "chr1\t930860\t930960\tchr1\t930860\t930960\tchr1\t930860\t931300\n",
      "chr1\t935690\t935870\tchr1\t935690\t935910\tchr1\t935360\t935870\n",
      "chr1\t938230\t938510\tchr1\t938230\t938510\tchr1\t938090\t938590\n",
      "chr1\t939350\t939420\tchr1\t939250\t939420\tchr1\t939350\t939450\n",
      "chr1\t940160\t940300\tchr1\t940000\t940400\tchr1\t940160\t940300\n",
      "chr1\t940330\t940400\tchr1\t940000\t940400\tchr1\t940330\t940480\n",
      "chr1\t940640\t940810\tchr1\t940640\t941770\tchr1\t940640\t940810\n",
      "chr1\t958730\t958870\tchr1\t958730\t959080\tchr1\t958680\t958870\n",
      "chr1\t959700\t959810\tchr1\t959690\t959890\tchr1\t959700\t959810\n",
      "chr1\t960320\t960420\tchr1\t960320\t960420\tchr1\t960320\t960520\n",
      "chr1\t960440\t960520\tchr1\t960440\t960600\tchr1\t960320\t960520\n",
      "chr1\t961520\t961658\tchr1\t961360\t961720\tchr1\t961520\t961740\n",
      "chr1\t966120\t966140\tchr1\t966000\t966140\tchr1\t966120\t966220\n",
      "chr1\t976160\t976190\tchr1\t976080\t976190\tchr1\t976160\t976510\n",
      "chr1\t976260\t976510\tchr1\t976260\t976640\tchr1\t976160\t976510\n",
      "chr1\t978280\t978340\tchr1\t978210\t978340\tchr1\t978280\t978390\n",
      "chr1\t979760\t979770\tchr1\t979760\t979860\tchr1\t979570\t979770\n",
      "chr1\t979830\t979860\tchr1\t979760\t979860\tchr1\t979830\t980020\n",
      "chr1\t984430\t984530\tchr1\t984370\t984540\tchr1\t984430\t984530\n",
      "chr1\t1002190\t1002290\tchr1\t1002190\t1002290\tchr1\t1002070\t1002410\n",
      "chr1\t1005060\t1005160\tchr1\t1005060\t1005160\tchr1\t1004920\t1005170\n",
      "chr1\t1005550\t1005608\tchr1\t1005510\t1005610\tchr1\t1005550\t1005910\n",
      "chr1\t1013650\t1013740\tchr1\t1013650\t1014440\tchr1\t1013620\t1013740\n",
      "chr1\t1013930\t1014050\tchr1\t1013650\t1014440\tchr1\t1013930\t1014050\n",
      "chr1\t1014090\t1014310\tchr1\t1013650\t1014440\tchr1\t1014090\t1014310\n",
      "chr1\t1019150\t1019270\tchr1\t1019110\t1019340\tchr1\t1019150\t1019270\n",
      "chr1\t1019320\t1019340\tchr1\t1019110\t1019340\tchr1\t1019320\t1019450\n",
      "chr1\t1024510\t1024530\tchr1\t1024110\t1024530\tchr1\t1024510\t1024720\n",
      "chr1\t1027040\t1027130\tchr1\t1026930\t1027130\tchr1\t1027040\t1027320\n",
      "chr1\t1040260\t1040430\tchr1\t1040260\t1040430\tchr1\t1040200\t1040470\n",
      "chr1\t1058510\t1058530\tchr1\t1058510\t1058630\tchr1\t1058340\t1058530\n",
      "chr1\t1060000\t1060160\tchr1\t1059950\t1060160\tchr1\t1060000\t1060260\n",
      "chr1\t1061920\t1061980\tchr1\t1061870\t1061980\tchr1\t1061920\t1062030\n",
      "chr1\t1062360\t1062460\tchr1\t1062210\t1062670\tchr1\t1062360\t1062460\n",
      "chr1\t1068320\t1068390\tchr1\t1068280\t1068390\tchr1\t1068320\t1068450\n",
      "chr1\t1068650\t1068660\tchr1\t1068560\t1068660\tchr1\t1068650\t1068790\n",
      "chr1\t1074070\t1074080\tchr1\t1073970\t1074080\tchr1\t1074070\t1074200\n",
      "chr1\t1080340\t1080450\tchr1\t1080340\t1080590\tchr1\t1079870\t1080450\n",
      "chr1\t1080520\t1080590\tchr1\t1080340\t1080590\tchr1\t1080520\t1080640\n",
      "chr1\t1109780\t1109970\tchr1\t1109740\t1109970\tchr1\t1109780\t1110310\n"
     ]
    }
   ],
   "source": [
    "%%bash\n",
    "module load bedtools2\n",
    "bedtools intersect -a /data/reddylab/Revathy/collabs/Keith/data/atac_starr_vs_whg_starr_negative_intersect_region.bed \\\n",
    "-b /data/reddylab/Revathy/collabs/Jamborees/fcc_capstone/data/inputs/ASTARR/KS91_K562_hg38_ASTARRseq_Input_allReps.masked.dedup.sorted_peaks.cut.narrowPeak \\\n",
    "| head -n 50"
   ]
  },
  {
   "cell_type": "code",
   "execution_count": 14,
   "metadata": {},
   "outputs": [
    {
     "name": "stdout",
     "output_type": "stream",
     "text": [
      "chr1\t10015\t10460\t5.18111\r\n",
      "chr1\t14251\t14785\t3.09253\r\n",
      "chr1\t16002\t16539\t3.56762\r\n",
      "chr1\t17216\t17767\t7.42208\r\n",
      "chr1\t28886\t29620\t8.39914\r\n",
      "chr1\t30774\t31172\t4.94805\r\n",
      "chr1\t101595\t101867\t2.54574\r\n",
      "chr1\t115401\t115993\t21.40571\r\n",
      "chr1\t136059\t137429\t8.47666\r\n",
      "chr1\t137735\t139608\t3.13629\r\n"
     ]
    }
   ],
   "source": [
    "!head /data/reddylab/Revathy/collabs/Jamborees/fcc_capstone/data/inputs/ASTARR/KS91_K562_hg38_ASTARRseq_Input_allReps.masked.dedup.sorted_peaks.cut.narrowPeak"
   ]
  },
  {
   "cell_type": "code",
   "execution_count": 21,
   "metadata": {},
   "outputs": [
    {
     "name": "stdout",
     "output_type": "stream",
     "text": [
      "chr1\t139050\t139090\tchr1\t139050\t139210\tchr1\t138990\t139090\r\n",
      "chr1\t778150\t778290\tchr1\t777950\t778290\tchr1\t778150\t778360\r\n",
      "chr1\t779890\t779960\tchr1\t779860\t779960\tchr1\t779890\t780000\r\n",
      "chr1\t842680\t842810\tchr1\t842680\t842810\tchr1\t842500\t842850\r\n",
      "chr1\t869670\t869770\tchr1\t869670\t869770\tchr1\t869660\t870090\r\n",
      "chr1\t907070\t907210\tchr1\t906730\t907210\tchr1\t907070\t907220\r\n",
      "chr1\t912840\t912940\tchr1\t912840\t913000\tchr1\t912760\t912940\r\n",
      "chr1\t920650\t920760\tchr1\t920650\t920760\tchr1\t920520\t920940\r\n",
      "chr1\t921440\t921530\tchr1\t921200\t921530\tchr1\t921440\t921550\r\n",
      "chr1\t923430\t923700\tchr1\t923430\t923700\tchr1\t923360\t923770\r\n",
      "chr1\t926100\t926200\tchr1\t926100\t926200\tchr1\t925990\t926470\r\n",
      "chr1\t930860\t930960\tchr1\t930860\t930960\tchr1\t930860\t931300\r\n",
      "chr1\t935690\t935870\tchr1\t935690\t935910\tchr1\t935360\t935870\r\n",
      "chr1\t938230\t938510\tchr1\t938230\t938510\tchr1\t938090\t938590\r\n",
      "chr1\t938750\t938810\tchr1\t938750\t938870\tchr1\t938700\t938810\r\n",
      "chr1\t939350\t939420\tchr1\t939250\t939420\tchr1\t939350\t939450\r\n",
      "chr1\t940160\t940300\tchr1\t940000\t940400\tchr1\t940160\t940300\r\n",
      "chr1\t940330\t940400\tchr1\t940000\t940400\tchr1\t940330\t940480\r\n",
      "chr1\t940640\t940810\tchr1\t940640\t941770\tchr1\t940640\t940810\r\n",
      "chr1\t944650\t944710\tchr1\t944590\t944710\tchr1\t944650\t944810\r\n",
      "chr1\t944780\t944810\tchr1\t944780\t944880\tchr1\t944650\t944810\r\n",
      "chr1\t947540\t947640\tchr1\t947540\t947640\tchr1\t947470\t947640\r\n",
      "chr1\t958730\t958870\tchr1\t958730\t959080\tchr1\t958680\t958870\r\n",
      "chr1\t959700\t959810\tchr1\t959690\t959890\tchr1\t959700\t959810\r\n",
      "chr1\t960320\t960420\tchr1\t960320\t960420\tchr1\t960320\t960520\r\n",
      "chr1\t960440\t960520\tchr1\t960440\t960600\tchr1\t960320\t960520\r\n",
      "chr1\t961520\t961720\tchr1\t961360\t961720\tchr1\t961520\t961740\r\n",
      "chr1\t966120\t966140\tchr1\t966000\t966140\tchr1\t966120\t966220\r\n",
      "chr1\t976160\t976190\tchr1\t976080\t976190\tchr1\t976160\t976510\r\n",
      "chr1\t976260\t976510\tchr1\t976260\t976640\tchr1\t976160\t976510\r\n",
      "chr1\t978280\t978340\tchr1\t978210\t978340\tchr1\t978280\t978390\r\n",
      "chr1\t979760\t979770\tchr1\t979760\t979860\tchr1\t979570\t979770\r\n",
      "chr1\t979830\t979860\tchr1\t979760\t979860\tchr1\t979830\t980020\r\n",
      "chr1\t984430\t984530\tchr1\t984370\t984540\tchr1\t984430\t984530\r\n",
      "chr1\t996930\t997020\tchr1\t996930\t997060\tchr1\t996890\t997020\r\n",
      "chr1\t1002190\t1002290\tchr1\t1002190\t1002290\tchr1\t1002070\t1002410\r\n",
      "chr1\t1005060\t1005160\tchr1\t1005060\t1005160\tchr1\t1004920\t1005170\r\n",
      "chr1\t1005550\t1005610\tchr1\t1005510\t1005610\tchr1\t1005550\t1005910\r\n",
      "chr1\t1013650\t1013740\tchr1\t1013650\t1014440\tchr1\t1013620\t1013740\r\n",
      "chr1\t1013930\t1014050\tchr1\t1013650\t1014440\tchr1\t1013930\t1014050\r\n",
      "chr1\t1014090\t1014310\tchr1\t1013650\t1014440\tchr1\t1014090\t1014310\r\n",
      "chr1\t1019150\t1019270\tchr1\t1019110\t1019340\tchr1\t1019150\t1019270\r\n",
      "chr1\t1019320\t1019340\tchr1\t1019110\t1019340\tchr1\t1019320\t1019450\r\n",
      "chr1\t1024510\t1024530\tchr1\t1024110\t1024530\tchr1\t1024510\t1024720\r\n",
      "chr1\t1027040\t1027130\tchr1\t1026930\t1027130\tchr1\t1027040\t1027320\r\n",
      "chr1\t1031570\t1031660\tchr1\t1031570\t1031690\tchr1\t1031330\t1031660\r\n",
      "chr1\t1040260\t1040430\tchr1\t1040260\t1040430\tchr1\t1040200\t1040470\r\n",
      "chr1\t1058510\t1058530\tchr1\t1058510\t1058630\tchr1\t1058340\t1058530\r\n",
      "chr1\t1060000\t1060160\tchr1\t1059950\t1060160\tchr1\t1060000\t1060260\r\n",
      "chr1\t1061920\t1061980\tchr1\t1061870\t1061980\tchr1\t1061920\t1062030\r\n"
     ]
    }
   ],
   "source": [
    "!head -n 50 /data/reddylab/Revathy/collabs/Keith/data/atac_starr_vs_whg_starr_negative_intersect_region.bed"
   ]
  },
  {
   "cell_type": "code",
   "execution_count": null,
   "metadata": {},
   "outputs": [],
   "source": []
  }
 ],
 "metadata": {
  "kernelspec": {
   "display_name": "Python3 (revathy)",
   "language": "python",
   "name": "revathy_py3"
  },
  "language_info": {
   "codemirror_mode": {
    "name": "ipython",
    "version": 3
   },
   "file_extension": ".py",
   "mimetype": "text/x-python",
   "name": "python",
   "nbconvert_exporter": "python",
   "pygments_lexer": "ipython3",
   "version": "3.5.4"
  }
 },
 "nbformat": 4,
 "nbformat_minor": 2
}
