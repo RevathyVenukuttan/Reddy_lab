{
 "cells": [
  {
   "cell_type": "markdown",
   "metadata": {},
   "source": [
    "Sort replicate files for Th17"
   ]
  },
  {
   "cell_type": "code",
   "execution_count": 1,
   "metadata": {},
   "outputs": [],
   "source": [
    "mkdir -p /data/reddylab/Revathy/dev/atac-seq_Siklenka/results/featureCounts"
   ]
  },
  {
   "cell_type": "code",
   "execution_count": 19,
   "metadata": {},
   "outputs": [],
   "source": [
    "%%bash\n",
    "dir=/data/reddylab/Keith/encode4_duke/processing/atac_seq/Siklenka_6420_200804A5-pe-blacklist-removal\n",
    "outdir=/data/reddylab/Revathy/dev/atac-seq_Siklenka/results/featureCounts\n",
    "file=KS134.Th17.72hrs.ASTARR.insert\n",
    "replicates=(\\\n",
    "       rep1 \\\n",
    "       rep2 \\\n",
    ")\n",
    "for rep in ${replicates[@]}; \n",
    "do \n",
    "  ### sort the bed files\n",
    "  sort -k1,1 -k2,2n -k3,3n ${dir}/${file}.${rep}.masked.dedup.sorted_peaks.narrowPeak > ${outdir}/${file}.${rep}.sorted_peaks.narrowPeak\n",
    "\n",
    "done"
   ]
  },
  {
   "cell_type": "code",
   "execution_count": 20,
   "metadata": {},
   "outputs": [],
   "source": [
    "%%bash\n",
    "dir=/data/reddylab/Keith/encode4_duke/processing/atac_seq/Siklenka_6420_200804A5-pe-blacklist-removal\n",
    "outdir=/data/reddylab/Revathy/dev/atac-seq_Siklenka/results/featureCounts\n",
    "file=KS136.Th17.72hrs.ASTARR.insert\n",
    "replicates=(\\\n",
    "       rep3 \\\n",
    "       rep4 \\\n",
    ")\n",
    "for rep in ${replicates[@]}; \n",
    "do \n",
    "  ### sort the bed files\n",
    "  sort -k1,1 -k2,2n -k3,3n ${dir}/${file}.${rep}.masked.dedup.sorted_peaks.narrowPeak > ${outdir}/KS134.Th17.72hrs.ASTARR.insert.${rep}.sorted_peaks.narrowPeak\n",
    "\n",
    "done"
   ]
  },
  {
   "cell_type": "code",
   "execution_count": 21,
   "metadata": {},
   "outputs": [],
   "source": [
    "%%bash\n",
    "module load bedtools2\n",
    "dir=/data/reddylab/Revathy/dev/atac-seq_Siklenka/results/featureCounts\n",
    "file=KS134.Th17.72hrs.ASTARR.insert\n",
    "replicates=(\\\n",
    "       rep1 \\\n",
    "       rep2 \\\n",
    "       rep3 \\\n",
    "       rep4 \\\n",
    ")\n",
    "for rep in ${replicates[@]}; \n",
    "do \n",
    "  ### merge the bed files\n",
    "  bedtools merge -i ${dir}/${file}.${rep}.sorted_peaks.narrowPeak > ${dir}/Th17.72hrs.UnionPeakSet.narrowPeak\n",
    "\n",
    "done"
   ]
  },
  {
   "cell_type": "code",
   "execution_count": 22,
   "metadata": {},
   "outputs": [],
   "source": [
    "%%bash\n",
    "source /data/reddylab/software/miniconda2/bin/activate alex\n",
    "outdir=/data/reddylab/Revathy/dev/atac-seq_Siklenka/results/featureCounts\n",
    "python /data/reddylab/Alex/reddylab_utils/scripts/bed_to_saf.py \\\n",
    "    --bed6 \\\n",
    "    -beds \\\n",
    "        ${outdir}/Th17.72hrs.UnionPeakSet.narrowPeak \\\n",
    "    -safs \\\n",
    "        ${outdir}/Th17.72hrs.UnionPeakSet.saf"
   ]
  },
  {
   "cell_type": "code",
   "execution_count": 23,
   "metadata": {},
   "outputs": [
    {
     "name": "stdout",
     "output_type": "stream",
     "text": [
      "chr1_4491842_4492115\tchr1\t4491842\t4492115\t+\n",
      "chr1_4492489_4493388\tchr1\t4492489\t4493388\t+\n",
      "chr1_4496438_4497087\tchr1\t4496438\t4497087\t+\n",
      "chr1_4571640_4571997\tchr1\t4571640\t4571997\t+\n",
      "chr1_4600559_4601117\tchr1\t4600559\t4601117\t+\n",
      "chr1_4671564_4672001\tchr1\t4671564\t4672001\t+\n",
      "chr1_4724647_4724940\tchr1\t4724647\t4724940\t+\n",
      "chr1_4748181_4748505\tchr1\t4748181\t4748505\t+\n",
      "chr1_4774994_4775958\tchr1\t4774994\t4775958\t+\n",
      "chr1_4785097_4786265\tchr1\t4785097\t4786265\t+\n"
     ]
    }
   ],
   "source": [
    "%%bash\n",
    "head /data/reddylab/Revathy/dev/atac-seq_Siklenka/results/featureCounts/Th17.72hrs.UnionPeakSet.saf"
   ]
  },
  {
   "cell_type": "code",
   "execution_count": 1,
   "metadata": {},
   "outputs": [
    {
     "name": "stdout",
     "output_type": "stream",
     "text": [
      "Submitted batch job 24208208\n"
     ]
    }
   ],
   "source": [
    "%%bash\n",
    "mkdir -p /data/reddylab/Revathy/dev/atac-seq_Siklenka/analysis\n",
    "mkdir -p /data/reddylab/Revathy/dev/atac-seq_Siklenka/logs\n",
    "cd /data/reddylab/Revathy/dev/atac-seq_Siklenka/results/featureCounts\n",
    "\n",
    "sbatch -pnew,all \\\n",
    "    --cpus-per-task 16 \\\n",
    "    --mem 32G \\\n",
    "    -o /data/reddylab/Revathy/dev/atac-seq_Siklenka/logs/Th17.72hrs.UnionPeakSet.featurecounts.out \\\n",
    "    <<'EOF'\n",
    "#!/bin/bash\n",
    "/data/reddylab/software/subread-1.4.6-p4-Linux-x86_64/bin/featureCounts \\\n",
    "    -T 16 \\\n",
    "    -F SAF \\\n",
    "    -p \\\n",
    "    -a Th17.72hrs.UnionPeakSet.saf \\\n",
    "    -o /data/reddylab/Revathy/dev/atac-seq_Siklenka/analysis/Th17.72hrs.UnionPeakSet.featurecounts.txt \\\n",
    "    /data/reddylab/Keith/encode4_duke/processing/atac_seq/Siklenka_6420_200804A5-pe-blacklist-removal/KS134.Th17.72hrs.ASTARR.insert.rep1.masked.dups_marked.bam \\\n",
    "    /data/reddylab/Keith/encode4_duke/processing/atac_seq/Siklenka_6420_200804A5-pe-blacklist-removal/KS134.Th17.72hrs.ASTARR.insert.rep2.masked.dups_marked.bam \\\n",
    "    /data/reddylab/Keith/encode4_duke/processing/atac_seq/Siklenka_6420_200804A5-pe-blacklist-removal/KS136.Th17.72hrs.ASTARR.insert.rep3.masked.dups_marked.bam \\\n",
    "    /data/reddylab/Keith/encode4_duke/processing/atac_seq/Siklenka_6420_200804A5-pe-blacklist-removal/KS136.Th17.72hrs.ASTARR.insert.rep4.masked.dups_marked.bam \\\n",
    "\n",
    "EOF"
   ]
  },
  {
   "cell_type": "markdown",
   "metadata": {},
   "source": [
    "#### FeatureCounts for Th0"
   ]
  },
  {
   "cell_type": "markdown",
   "metadata": {},
   "source": [
    "Sort replicates for Th0"
   ]
  },
  {
   "cell_type": "code",
   "execution_count": 6,
   "metadata": {},
   "outputs": [],
   "source": [
    "%%bash\n",
    "dir=/data/reddylab/Keith/encode4_duke/processing/atac_seq/Siklenka_6420_200805A5-pe-blacklist-removal\n",
    "outdir=/data/reddylab/Revathy/dev/atac-seq_Siklenka/results/featureCounts\n",
    "file=KS133.Th0.72hrs.ASTARR.insert\n",
    "replicates=(\\\n",
    "       rep1 \\\n",
    "       rep2 \\\n",
    ")\n",
    "for rep in ${replicates[@]}; \n",
    "do \n",
    "  ### sort the bed files\n",
    "  sort -k1,1 -k2,2n -k3,3n ${dir}/${file}.${rep}.masked.dedup.sorted_peaks.narrowPeak > ${outdir}/KS133.Th0.72hrs.ASTARR.insert.${rep}.sorted_peaks.narrowPeak\n",
    "\n",
    "done"
   ]
  },
  {
   "cell_type": "code",
   "execution_count": 7,
   "metadata": {},
   "outputs": [],
   "source": [
    "%%bash\n",
    "module load bedtools2\n",
    "dir=/data/reddylab/Revathy/collabs/atac-seq_Siklenka/results/featureCounts\n",
    "file=KS133.Th0.72hrs.ASTARR.insert\n",
    "replicates=(\\\n",
    "       rep1 \\\n",
    "       rep2 \\\n",
    ")\n",
    "for rep in ${replicates[@]}; \n",
    "do \n",
    "  ### merge the bed files\n",
    "  bedtools merge -i ${dir}/${file}.${rep}.sorted_peaks.narrowPeak > ${dir}/Th0.72hrs.UnionPeakSet.narrowPeak\n",
    "\n",
    "done\n"
   ]
  },
  {
   "cell_type": "code",
   "execution_count": 6,
   "metadata": {},
   "outputs": [
    {
     "name": "stdout",
     "output_type": "stream",
     "text": [
      "chr1\t3670944\t3671834\n",
      "chr1\t4491772\t4492812\n",
      "chr1\t4496364\t4497230\n",
      "chr1\t4571571\t4572101\n",
      "chr1\t4600765\t4601015\n",
      "chr1\t4671415\t4672098\n",
      "chr1\t4688892\t4689626\n",
      "chr1\t4724588\t4724820\n",
      "chr1\t4748171\t4748551\n",
      "chr1\t4768368\t4768600\n"
     ]
    }
   ],
   "source": [
    "%%bash\n",
    "head /data/reddylab/Revathy/collabs/atac-seq_Siklenka/results/featureCounts/Th0.72hrs.UnionPeakSet.narrowPeak"
   ]
  },
  {
   "cell_type": "markdown",
   "metadata": {},
   "source": [
    "#### Merge the Th0 and Th17 unionset narrowPeak files"
   ]
  },
  {
   "cell_type": "code",
   "execution_count": 20,
   "metadata": {},
   "outputs": [],
   "source": [
    "%%bash\n",
    "source /data/reddylab/software/miniconda3/bin/activate revathy_py3\n",
    "module load bedtools2\n",
    "dir=/data/reddylab/Revathy/collabs/atac-seq_Siklenka/results/featureCounts\n",
    "files=(\\\n",
    "        Th0.72hrs.UnionPeakSet \\\n",
    "        Th17.72hrs.UnionPeakSet \\\n",
    "        )\n",
    "for file in ${files[@]};\n",
    "do\n",
    "bedtools merge -i ${dir}/${file}.narrowPeak > ${dir}/Th0_Th17.72hrs.UnionPeakSet.narrowPeak\n",
    "done"
   ]
  },
  {
   "cell_type": "code",
   "execution_count": 23,
   "metadata": {},
   "outputs": [
    {
     "name": "stdout",
     "output_type": "stream",
     "text": [
      "84222 /data/reddylab/Revathy/collabs/atac-seq_Siklenka/results/featureCounts/Th0_Th17.72hrs.UnionPeakSet.narrowPeak\r\n"
     ]
    }
   ],
   "source": [
    "!wc -l /data/reddylab/Revathy/collabs/atac-seq_Siklenka/results/featureCounts/Th0_Th17.72hrs.UnionPeakSet.narrowPeak"
   ]
  },
  {
   "cell_type": "code",
   "execution_count": 24,
   "metadata": {},
   "outputs": [
    {
     "name": "stdout",
     "output_type": "stream",
     "text": [
      "chr1\t4491842\t4492115\r\n",
      "chr1\t4492489\t4493388\r\n",
      "chr1\t4496438\t4497087\r\n",
      "chr1\t4571640\t4571997\r\n",
      "chr1\t4600559\t4601117\r\n",
      "chr1\t4671564\t4672001\r\n",
      "chr1\t4724647\t4724940\r\n",
      "chr1\t4748181\t4748505\r\n",
      "chr1\t4774994\t4775958\r\n",
      "chr1\t4785097\t4786265\r\n"
     ]
    }
   ],
   "source": [
    "!head /data/reddylab/Revathy/collabs/atac-seq_Siklenka/results/featureCounts/Th0_Th17.72hrs.UnionPeakSet.narrowPeak"
   ]
  },
  {
   "cell_type": "markdown",
   "metadata": {},
   "source": [
    "#### convert the merged Th0 and Th17 narrowPeak files to .saf files"
   ]
  },
  {
   "cell_type": "code",
   "execution_count": 25,
   "metadata": {},
   "outputs": [],
   "source": [
    "%%bash\n",
    "source /data/reddylab/software/miniconda2/bin/activate alex\n",
    "outdir=/data/reddylab/Revathy/collabs/atac-seq_Siklenka/results/featureCounts\n",
    "python /data/reddylab/Alex/reddylab_utils/scripts/bed_to_saf.py \\\n",
    "    --bed6 \\\n",
    "    -beds \\\n",
    "        ${outdir}/Th0_Th17.72hrs.UnionPeakSet.narrowPeak \\\n",
    "    -safs \\\n",
    "        ${outdir}/Th0_Th17.72hrs.UnionPeakSet.saf"
   ]
  },
  {
   "cell_type": "code",
   "execution_count": 1,
   "metadata": {},
   "outputs": [
    {
     "name": "stdout",
     "output_type": "stream",
     "text": [
      "chr1\t4491842\t4492115\n",
      "chr1\t4492489\t4493388\n",
      "chr1\t4496438\t4497087\n",
      "chr1\t4571640\t4571997\n",
      "chr1\t4600559\t4601117\n",
      "chr1\t4671564\t4672001\n",
      "chr1\t4724647\t4724940\n",
      "chr1\t4748181\t4748505\n",
      "chr1\t4774994\t4775958\n",
      "chr1\t4785097\t4786265\n"
     ]
    }
   ],
   "source": [
    "%%bash\n",
    "head /data/reddylab/Revathy/collabs/atac-seq_Siklenka/results/featureCounts/Th0_Th17.72hrs.UnionPeakSet.narrowPeak"
   ]
  },
  {
   "cell_type": "markdown",
   "metadata": {},
   "source": [
    "### featureCounts program for Th0"
   ]
  },
  {
   "cell_type": "code",
   "execution_count": 2,
   "metadata": {},
   "outputs": [
    {
     "name": "stdout",
     "output_type": "stream",
     "text": [
      "Submitted batch job 24208209\n"
     ]
    }
   ],
   "source": [
    "%%bash\n",
    "mkdir -p /data/reddylab/Revathy/dev/atac-seq_Siklenka/analysis\n",
    "mkdir -p /data/reddylab/Revathy/dev/atac-seq_Siklenka/logs\n",
    "cd /data/reddylab/Revathy/dev/atac-seq_Siklenka/results/featureCounts\n",
    "\n",
    "sbatch -pnew,all \\\n",
    "    --cpus-per-task 16 \\\n",
    "    --mem 32G \\\n",
    "    -o /data/reddylab/Revathy/dev/atac-seq_Siklenka/logs/Th0.72hrs.UnionPeakSet.featurecounts.out \\\n",
    "    <<'EOF'\n",
    "#!/bin/bash\n",
    "/data/reddylab/software/subread-1.4.6-p4-Linux-x86_64/bin/featureCounts \\\n",
    "    -T 16 \\\n",
    "    -F SAF \\\n",
    "    -p \\\n",
    "    \n",
    "    -a Th0.72hrs.UnionPeakSet.saf \\\n",
    "    -o /data/reddylab/Revathy/dev/atac-seq_Siklenka/analysis/Th0.72hrs.UnionPeakSet.featurecounts.txt \\\n",
    "    /data/reddylab/Keith/encode4_duke/processing/atac_seq/Siklenka_6420_200805A5-pe-blacklist-removal/KS133.Th0.72hrs.ASTARR.insert.rep1.masked.dups_marked.bam \\\n",
    "    /data/reddylab/Keith/encode4_duke/processing/atac_seq/Siklenka_6420_200805A5-pe-blacklist-removal/KS133.Th0.72hrs.ASTARR.insert.rep2.masked.dups_marked.bam \\\n",
    "\n",
    "EOF"
   ]
  },
  {
   "cell_type": "markdown",
   "metadata": {},
   "source": [
    "### featureCounts for Th0_Th17"
   ]
  },
  {
   "cell_type": "code",
   "execution_count": 2,
   "metadata": {},
   "outputs": [
    {
     "name": "stdout",
     "output_type": "stream",
     "text": [
      "Submitted batch job 25773756\n"
     ]
    }
   ],
   "source": [
    "%%bash\n",
    "cd /data/reddylab/Revathy/collabs/atac-seq_Siklenka/results/featureCounts\n",
    "sbatch -p all \\\n",
    "    -w x3-04-3 \\\n",
    "    --cpus-per-task 16 \\\n",
    "    --mem 32G \\\n",
    "    -o /data/reddylab/Revathy/collabs/atac-seq_Siklenka/logs/Th0_Th17.72hrs.UnionPeakSet.featurecounts.out \\\n",
    "    <<'EOF'\n",
    "#!/bin/bash\n",
    "/data/reddylab/software/subread-1.4.6-p4-Linux-x86_64/bin/featureCounts \\\n",
    "    -T 16 \\\n",
    "    -F SAF \\\n",
    "    -p \\\n",
    "    -a Th0_Th17.72hrs.UnionPeakSet.saf \\\n",
    "    -o /data/reddylab/Revathy/collabs/atac-seq_Siklenka/analysis/Th0_Th17.72hrs.UnionPeakSet.featurecounts.txt \\\n",
    "    /data/reddylab/Keith/encode4_duke/processing/atac_seq/Siklenka_6420_200805A5-pe-blacklist-removal/KS133.Th0.72hrs.ASTARR.insert.rep1.masked.dups_marked.bam \\\n",
    "    /data/reddylab/Keith/encode4_duke/processing/atac_seq/Siklenka_6420_200805A5-pe-blacklist-removal/KS133.Th0.72hrs.ASTARR.insert.rep2.masked.dups_marked.bam \\\n",
    "    /data/reddylab/Keith/encode4_duke/processing/atac_seq/Siklenka_6420_200804A5-pe-blacklist-removal/KS134.Th17.72hrs.ASTARR.insert.rep1.masked.dups_marked.bam \\\n",
    "    /data/reddylab/Keith/encode4_duke/processing/atac_seq/Siklenka_6420_200804A5-pe-blacklist-removal/KS134.Th17.72hrs.ASTARR.insert.rep2.masked.dups_marked.bam \\\n",
    "    /data/reddylab/Keith/encode4_duke/processing/atac_seq/Siklenka_6420_200804A5-pe-blacklist-removal/KS136.Th17.72hrs.ASTARR.insert.rep3.masked.dups_marked.bam \\\n",
    "    /data/reddylab/Keith/encode4_duke/processing/atac_seq/Siklenka_6420_200804A5-pe-blacklist-removal/KS136.Th17.72hrs.ASTARR.insert.rep4.masked.dups_marked.bam \\\n",
    "EOF"
   ]
  },
  {
   "cell_type": "markdown",
   "metadata": {},
   "source": [
    "### featurecounts for ATACseq data (both 2019 and 2020)"
   ]
  },
  {
   "cell_type": "code",
   "execution_count": 1,
   "metadata": {},
   "outputs": [
    {
     "name": "stdout",
     "output_type": "stream",
     "text": [
      "Submitted batch job 25770968\n"
     ]
    }
   ],
   "source": [
    "%%bash\n",
    "mkdir -p /data/reddylab/Revathy/collabs/atac-seq_Siklenka/analysis\n",
    "mkdir -p /data/reddylab/Revathy/collabs/atac-seq_Siklenka/logs\n",
    "cd /data/reddylab/Revathy/collabs/atac-seq_Siklenka/results/featureCounts\n",
    "\n",
    "sbatch -p all \\\n",
    "    --cpus-per-task 16 \\\n",
    "    --mem 32G \\\n",
    "    -o /data/reddylab/Revathy/collabs/atac-seq_Siklenka/logs/Th0_Th17.72hrs.UnionPeakSet.featurecounts.out \\\n",
    "    <<'EOF'\n",
    "#!/bin/bash\n",
    "/data/reddylab/software/subread-1.4.6-p4-Linux-x86_64/bin/featureCounts \\\n",
    "    -T 16 \\\n",
    "    -F SAF \\\n",
    "    -p \\\n",
    "    -a Th0_Th17.72hrs.UnionPeakSet.saf \\\n",
    "    -o /data/reddylab/Revathy/collabs/atac-seq_Siklenka/analysis/Th0_Th17_combined.72hrs.UnionPeakSet.featurecounts.txt \\\n",
    "    /data/reddylab/Keith/encode4_duke/processing/atac_seq/Siklenka_6420_200805A5-pe-blacklist-removal/KS133.Th0.72hrs.ASTARR.insert.rep1.masked.dups_marked.bam \\\n",
    "    /data/reddylab/Keith/encode4_duke/processing/atac_seq/Siklenka_6420_200805A5-pe-blacklist-removal/KS133.Th0.72hrs.ASTARR.insert.rep2.masked.dups_marked.bam \\\n",
    "    /data/reddylab/Keith/encode4_duke/processing/atac_seq/Siklenka_6420_200804A5-pe-blacklist-removal/KS134.Th17.72hrs.ASTARR.insert.rep1.masked.dups_marked.bam \\\n",
    "    /data/reddylab/Keith/encode4_duke/processing/atac_seq/Siklenka_6420_200804A5-pe-blacklist-removal/KS134.Th17.72hrs.ASTARR.insert.rep2.masked.dups_marked.bam \\\n",
    "    /data/reddylab/Keith/encode4_duke/processing/atac_seq/Siklenka_6420_200804A5-pe-blacklist-removal/KS136.Th17.72hrs.ASTARR.insert.rep3.masked.dups_marked.bam \\\n",
    "    /data/reddylab/Keith/encode4_duke/processing/atac_seq/Siklenka_6420_200804A5-pe-blacklist-removal/KS136.Th17.72hrs.ASTARR.insert.rep4.masked.dups_marked.bam \\\n",
    "    /data/reddylab/Revathy/collabs/Keith/data/Th0_mm313.atacseq.activated_sorted.072h.rep1.R1.masked.dups_marked.nsorted.bam \\\n",
    "    /data/reddylab/Revathy/collabs/Keith/data/Th0_mm328.atacseq.activated_sorted.072h.rep1.R1.masked.dups_marked.nsorted.bam \\\n",
    "    /data/reddylab/Revathy/collabs/Keith/data/Th0_mm329.atacseq.activated_sorted.072h.rep1.R1.masked.dups_marked.nsorted.bam \\\n",
    "    /data/reddylab/Revathy/collabs/Keith/data/Th0_mm340.atacseq.activated_sorted.072h.rep1.R1.masked.dups_marked.nsorted.bam \\\n",
    "    /data/reddylab/Revathy/collabs/Keith/data/Th17_mm129.atacseq.activated_sorted.072h.rep1.R1.masked.dups_marked.nsorted.bam \\\n",
    "    /data/reddylab/Revathy/collabs/Keith/data/Th17_mm195.atacseq.activated_sorted.072h.rep1.masked.dups_marked.nsorted.bam \\\n",
    "    /data/reddylab/Revathy/collabs/Keith/data/Th17_mm195.atacseq.activated_sorted.072h.rep1.masked.dups_marked.nsorted.bam \\\n",
    "    /data/reddylab/Revathy/collabs/Keith/data/Th17_mm332.atacseq.activated_sorted.072h.rep1.R1.masked.dups_marked.nsorted.bam \\\n",
    "    /data/reddylab/Revathy/collabs/Keith/data/Th17_mm333.atacseq.activated_sorted.072h.rep1.R1.masked.dups_marked.nsorted.bam \\\n",
    "    /data/reddylab/Revathy/collabs/Keith/data/Th17_mm403.atacseq.activated_sorted.072h.rep1.R1.masked.dups_marked.nsorted.bam \\\n",
    "    \n",
    "\n",
    "EOF"
   ]
  },
  {
   "cell_type": "code",
   "execution_count": 2,
   "metadata": {},
   "outputs": [],
   "source": [
    "%%bash \n",
    "cd /data/reddylab/Revathy/dev/atac-seq_Siklenka/results\n",
    "mv *.narrowPeak *.bed *.saf /data/reddylab/Revathy/dev/atac-seq_Siklenka/results/featureCounts"
   ]
  },
  {
   "cell_type": "code",
   "execution_count": 5,
   "metadata": {},
   "outputs": [
    {
     "name": "stdout",
     "output_type": "stream",
     "text": [
      "Th0_mm313.atacseq.activated_sorted.072h.rep1.R1.masked.dups_marked.nsorted.bam\n",
      "Th0_mm328.atacseq.activated_sorted.072h.rep1.R1.masked.dups_marked.nsorted.bam\n",
      "Th0_mm329.atacseq.activated_sorted.072h.rep1.R1.masked.dups_marked.nsorted.bam\n",
      "Th0_mm340.atacseq.activated_sorted.072h.rep1.R1.masked.dups_marked.nsorted.bam\n",
      "Th17_mm129.atacseq.activated_sorted.072h.rep1.R1.masked.dups_marked.nsorted.bam\n",
      "Th17_mm195.atacseq.activated_sorted.072h.rep1.masked.dups_marked.nsorted.bam\n",
      "Th17_mm226.atacseq.activated_sorted.072h.rep1.masked.dups_marked.nsorted.bam\n",
      "Th17_mm332.atacseq.activated_sorted.072h.rep1.R1.masked.dups_marked.nsorted.bam\n",
      "Th17_mm333.atacseq.activated_sorted.072h.rep1.R1.masked.dups_marked.nsorted.bam\n",
      "Th17_mm403.atacseq.activated_sorted.072h.rep1.R1.masked.dups_marked.nsorted.bam\n"
     ]
    }
   ],
   "source": [
    "%%bash\n",
    "\n",
    "cd /data/reddylab/Revathy/dev/Keith/data\n",
    "ls *.nsorted.bam\n"
   ]
  },
  {
   "cell_type": "code",
   "execution_count": 1,
   "metadata": {},
   "outputs": [
    {
     "name": "stdout",
     "output_type": "stream",
     "text": [
      "84223 /data/reddylab/Revathy/collabs/atac-seq_Siklenka/analysis/Th0_Th17.72hrs.UnionPeakSet.featurecounts.txt\r\n"
     ]
    }
   ],
   "source": [
    "!wc -l /data/reddylab/Revathy/collabs/atac-seq_Siklenka/analysis/Th0_Th17.72hrs.UnionPeakSet.featurecounts.txt"
   ]
  },
  {
   "cell_type": "code",
   "execution_count": null,
   "metadata": {},
   "outputs": [],
   "source": []
  }
 ],
 "metadata": {
  "kernelspec": {
   "display_name": "Python 3",
   "language": "python",
   "name": "python3"
  },
  "language_info": {
   "codemirror_mode": {
    "name": "ipython",
    "version": 3
   },
   "file_extension": ".py",
   "mimetype": "text/x-python",
   "name": "python",
   "nbconvert_exporter": "python",
   "pygments_lexer": "ipython3",
   "version": "3.6.7"
  }
 },
 "nbformat": 4,
 "nbformat_minor": 4
}
