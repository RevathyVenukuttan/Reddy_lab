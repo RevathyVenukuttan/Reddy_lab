{
 "cells": [
  {
   "cell_type": "code",
   "execution_count": 1,
   "metadata": {},
   "outputs": [
    {
     "name": "stdout",
     "output_type": "stream",
     "text": [
      "Submitted batch job 30692246\n"
     ]
    }
   ],
   "source": [
    "%%bash\n",
    "mkdir -p /data/reddylab/Revathy/collabs/Keith/data/GEO_ChIP\n",
    "cd /data/reddylab/Revathy/collabs/Keith/data/GEO_ChIP\n",
    "export PATH=$PATH:/data/reddylab/Revathy/software/sratoolkit.3.0.0-centos_linux64/bin\n",
    "sbatch -p all \\\n",
    "    --mem 16G \\\n",
    "    -o /data/reddylab/Revathy/collabs/Keith/Tcell/logs/GEO_ChIP.out \\\n",
    "    <<'EOF'\n",
    "#!/bin/bash\n",
    "fastq-dump --gzip --origfmt SRR1552947\n",
    "EOF"
   ]
  },
  {
   "cell_type": "code",
   "execution_count": 4,
   "metadata": {},
   "outputs": [
    {
     "name": "stdout",
     "output_type": "stream",
     "text": [
      "             JOBID PARTITION     NAME     USER ST       TIME  NODES NODELIST(REASON)\r\n",
      "          30692236       all spawner-    rv103  R      18:58      1 x2-07-4\r\n",
      "          30692246       all   sbatch    rv103  R       8:19      1 x2-07-3\r\n"
     ]
    }
   ],
   "source": [
    "!squeue -u rv103"
   ]
  },
  {
   "cell_type": "code",
   "execution_count": 8,
   "metadata": {},
   "outputs": [],
   "source": [
    "%%bash\n",
    "source /data/reddylab/software/miniconda3/bin/activate revathy_py3\n",
    "ggr_cwl_ipynb_gen \\\n",
    "--metadata /data/reddylab/Revathy/collabs/Keith/data/GEO_ChIP/Th1_ChIP_GEO.xlsx \\\n",
    "--root-dir /data/reddylab/Revathy/collabs/Keith/data/GEO_ChIP \\\n",
    "--out /data/reddylab/Revathy/collabs/Keith/data/GEO_ChIP \\\n",
    "--project-name Th1_ChIP \\\n",
    "-u rv103 -e rv103@duke.edu"
   ]
  },
  {
   "cell_type": "code",
   "execution_count": null,
   "metadata": {},
   "outputs": [],
   "source": []
  }
 ],
 "metadata": {
  "kernelspec": {
   "display_name": "Python3 (revathy)",
   "language": "python",
   "name": "revathy_py3"
  },
  "language_info": {
   "codemirror_mode": {
    "name": "ipython",
    "version": 3
   },
   "file_extension": ".py",
   "mimetype": "text/x-python",
   "name": "python",
   "nbconvert_exporter": "python",
   "pygments_lexer": "ipython3",
   "version": "3.5.4"
  }
 },
 "nbformat": 4,
 "nbformat_minor": 2
}
