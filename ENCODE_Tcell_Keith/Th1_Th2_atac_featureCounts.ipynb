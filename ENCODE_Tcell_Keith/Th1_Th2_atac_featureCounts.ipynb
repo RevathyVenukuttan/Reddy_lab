{
 "cells": [
  {
   "cell_type": "code",
   "execution_count": 2,
   "metadata": {},
   "outputs": [],
   "source": [
    "%%bash\n",
    "mkdir -p /data/reddylab/Revathy/collabs/Keith/Th1\n",
    "mkdir -p /data/reddylab/Revathy/collabs/Keith/Th1/data\n",
    "\n",
    "mkdir -p /data/reddylab/Revathy/collabs/Keith/Th2\n",
    "mkdir -p /data/reddylab/Revathy/collabs/Keith/Th2/data\n"
   ]
  },
  {
   "cell_type": "code",
   "execution_count": 8,
   "metadata": {},
   "outputs": [
    {
     "name": "stdout",
     "output_type": "stream",
     "text": [
      "/data/reddylab/Keith/encode4_duke/processing/atac_seq/Siklenka_6420_200805A5-pe-blacklist-removal/KS130.Th1.96hrs.ASTARR.insert.rep1.masked.dedup.sorted_peaks.narrowPeak\r\n",
      "/data/reddylab/Keith/encode4_duke/processing/atac_seq/Siklenka_6420_200805A5-pe-blacklist-removal/KS130.Th1.96hrs.ASTARR.insert.rep2.masked.dedup.sorted_peaks.narrowPeak\r\n",
      "/data/reddylab/Keith/encode4_duke/processing/atac_seq/Siklenka_6420_200805A5-pe-blacklist-removal/KS131.Th2.96hrs.ASTARR.insert.rep1.masked.dedup.sorted_peaks.narrowPeak\r\n",
      "/data/reddylab/Keith/encode4_duke/processing/atac_seq/Siklenka_6420_200805A5-pe-blacklist-removal/KS131.Th2.96hrs.ASTARR.insert.rep2.masked.dedup.sorted_peaks.narrowPeak\r\n",
      "/data/reddylab/Keith/encode4_duke/processing/atac_seq/Siklenka_6420_200805A5-pe-blacklist-removal/KS133.Th0.72hrs.ASTARR.insert.rep1.masked.dedup.sorted_peaks.narrowPeak\r\n",
      "/data/reddylab/Keith/encode4_duke/processing/atac_seq/Siklenka_6420_200805A5-pe-blacklist-removal/KS133.Th0.72hrs.ASTARR.insert.rep2.masked.dedup.sorted_peaks.narrowPeak\r\n",
      "/data/reddylab/Keith/encode4_duke/processing/atac_seq/Siklenka_6420_200805A5-pe-blacklist-removal/KS133.Treg.72hrs.ASTARR.insert.rep1.masked.dedup.sorted_peaks.narrowPeak\r\n",
      "/data/reddylab/Keith/encode4_duke/processing/atac_seq/Siklenka_6420_200805A5-pe-blacklist-removal/KS133.Treg.72hrs.ASTARR.insert.rep2.masked.dedup.sorted_peaks.narrowPeak\r\n"
     ]
    }
   ],
   "source": [
    "ls /data/reddylab/Keith/encode4_duke/processing/atac_seq/Siklenka_6420_200805A5-pe-blacklist-removal/*.sorted_peaks.narrowPeak"
   ]
  },
  {
   "cell_type": "markdown",
   "metadata": {},
   "source": [
    "### sorting the files"
   ]
  },
  {
   "cell_type": "code",
   "execution_count": 9,
   "metadata": {},
   "outputs": [],
   "source": [
    "%%bash\n",
    "mkdir -p /data/reddylab/Revathy/collabs/Keith/Th1/data/atac_seq/featureCounts\n",
    "dir=/data/reddylab/Keith/encode4_duke/processing/atac_seq/Siklenka_6420_200805A5-pe-blacklist-removal\n",
    "outdir=/data/reddylab/Revathy/collabs/Keith/Th1/data/atac_seq/featureCounts\n",
    "files=(\\\n",
    "       KS133.Th0.72hrs.ASTARR.insert.rep1.masked.dedup.sorted_peaks.narrowPeak \\\n",
    "       KS133.Th0.72hrs.ASTARR.insert.rep2.masked.dedup.sorted_peaks.narrowPeak \\\n",
    "       KS130.Th1.96hrs.ASTARR.insert.rep1.masked.dedup.sorted_peaks.narrowPeak \\\n",
    "       KS130.Th1.96hrs.ASTARR.insert.rep2.masked.dedup.sorted_peaks.narrowPeak \\\n",
    "       KS131.Th2.96hrs.ASTARR.insert.rep1.masked.dedup.sorted_peaks.narrowPeak \\\n",
    "       KS131.Th2.96hrs.ASTARR.insert.rep2.masked.dedup.sorted_peaks.narrowPeak\n",
    ")\n",
    "for file in ${files[@]}; \n",
    "do \n",
    "  ### sort the bed files\n",
    "  sort -k1,1 -k2,2n -k3,3n ${dir}/${file} > ${outdir}/${file/.masked.dedup.sorted_peaks.narrowPeak/.sorted_peaks.narrowPeak}\n",
    "\n",
    "done"
   ]
  },
  {
   "cell_type": "code",
   "execution_count": 15,
   "metadata": {},
   "outputs": [],
   "source": [
    "%%bash\n",
    "mkdir -p /data/reddylab/Revathy/collabs/Keith/Th2/data/atac_seq/featureCounts\n",
    "dir=/data/reddylab/Keith/encode4_duke/processing/atac_seq/Siklenka_6420_200805A5-pe-blacklist-removal\n",
    "outdir=/data/reddylab/Revathy/collabs/Keith/Th2/data/atac_seq/featureCounts\n",
    "files=(\\\n",
    "       KS133.Th0.72hrs.ASTARR.insert.rep1.masked.dedup.sorted_peaks.narrowPeak \\\n",
    "       KS133.Th0.72hrs.ASTARR.insert.rep2.masked.dedup.sorted_peaks.narrowPeak \\\n",
    "       KS131.Th2.96hrs.ASTARR.insert.rep1.masked.dedup.sorted_peaks.narrowPeak \\\n",
    "       KS131.Th2.96hrs.ASTARR.insert.rep2.masked.dedup.sorted_peaks.narrowPeak\n",
    ")\n",
    "for file in ${files[@]}; \n",
    "do \n",
    "  ### sort the bed files\n",
    "  sort -k1,1 -k2,2n -k3,3n ${dir}/${file} > ${outdir}/${file/.masked.dedup.sorted_peaks.narrowPeak/.sorted_peaks.narrowPeak}\n",
    "\n",
    "done"
   ]
  },
  {
   "cell_type": "markdown",
   "metadata": {},
   "source": [
    "bedtools merge the Th1 and Th2 files to create unionpeakset"
   ]
  },
  {
   "cell_type": "code",
   "execution_count": 11,
   "metadata": {},
   "outputs": [],
   "source": [
    "%%bash\n",
    "module load bedtools2\n",
    "cd /data/reddylab/Revathy/collabs/Keith/Th1/data/atac_seq/featureCounts\n",
    "cat KS133.Th0.72hrs.ASTARR.insert.rep1.sorted_peaks.narrowPeak \\\n",
    "    KS133.Th0.72hrs.ASTARR.insert.rep2.sorted_peaks.narrowPeak \\\n",
    "    KS130.Th1.96hrs.ASTARR.insert.rep1.sorted_peaks.narrowPeak \\\n",
    "    KS130.Th1.96hrs.ASTARR.insert.rep2.sorted_peaks.narrowPeak \\\n",
    "| sort -k1,1 -k2,2n | bedtools merge -i - > Th0_Th1.72hrs.UnionPeakSet.narrowPeak"
   ]
  },
  {
   "cell_type": "code",
   "execution_count": 16,
   "metadata": {},
   "outputs": [],
   "source": [
    "%%bash\n",
    "module load bedtools2\n",
    "cd /data/reddylab/Revathy/collabs/Keith/Th2/data/atac_seq/featureCounts\n",
    "cat KS133.Th0.72hrs.ASTARR.insert.rep1.sorted_peaks.narrowPeak \\\n",
    "    KS133.Th0.72hrs.ASTARR.insert.rep2.sorted_peaks.narrowPeak \\\n",
    "    KS131.Th2.96hrs.ASTARR.insert.rep1.sorted_peaks.narrowPeak \\\n",
    "    KS131.Th2.96hrs.ASTARR.insert.rep2.sorted_peaks.narrowPeak \\\n",
    "| sort -k1,1 -k2,2n | bedtools merge -i - > Th0_Th2.72hrs.UnionPeakSet.narrowPeak"
   ]
  },
  {
   "cell_type": "code",
   "execution_count": 14,
   "metadata": {},
   "outputs": [
    {
     "name": "stdout",
     "output_type": "stream",
     "text": [
      "   98875 /data/reddylab/Revathy/collabs/Keith/Th1/data/atac_seq/featureCounts/KS130.Th1.96hrs.ASTARR.insert.rep1.sorted_peaks.narrowPeak\r\n",
      "   91488 /data/reddylab/Revathy/collabs/Keith/Th1/data/atac_seq/featureCounts/KS130.Th1.96hrs.ASTARR.insert.rep2.sorted_peaks.narrowPeak\r\n",
      "   51557 /data/reddylab/Revathy/collabs/Keith/Th1/data/atac_seq/featureCounts/KS131.Th2.96hrs.ASTARR.insert.rep1.sorted_peaks.narrowPeak\r\n",
      "   60891 /data/reddylab/Revathy/collabs/Keith/Th1/data/atac_seq/featureCounts/KS131.Th2.96hrs.ASTARR.insert.rep2.sorted_peaks.narrowPeak\r\n",
      "   78104 /data/reddylab/Revathy/collabs/Keith/Th1/data/atac_seq/featureCounts/KS133.Th0.72hrs.ASTARR.insert.rep1.sorted_peaks.narrowPeak\r\n",
      "   74733 /data/reddylab/Revathy/collabs/Keith/Th1/data/atac_seq/featureCounts/KS133.Th0.72hrs.ASTARR.insert.rep2.sorted_peaks.narrowPeak\r\n",
      "  117427 /data/reddylab/Revathy/collabs/Keith/Th1/data/atac_seq/featureCounts/Th0_Th1.72hrs.UnionPeakSet.narrowPeak\r\n",
      "   98031 /data/reddylab/Revathy/collabs/Keith/Th1/data/atac_seq/featureCounts/Th0_Th2.72hrs.UnionPeakSet.narrowPeak\r\n",
      "  671106 total\r\n"
     ]
    }
   ],
   "source": [
    "!wc -l  /data/reddylab/Revathy/collabs/Keith/Th1/data/atac_seq/featureCounts/*.narrowPeak"
   ]
  },
  {
   "cell_type": "code",
   "execution_count": 18,
   "metadata": {},
   "outputs": [
    {
     "name": "stdout",
     "output_type": "stream",
     "text": [
      "   51557 /data/reddylab/Revathy/collabs/Keith/Th2/data/atac_seq/featureCounts/KS131.Th2.96hrs.ASTARR.insert.rep1.sorted_peaks.narrowPeak\n",
      "   60891 /data/reddylab/Revathy/collabs/Keith/Th2/data/atac_seq/featureCounts/KS131.Th2.96hrs.ASTARR.insert.rep2.sorted_peaks.narrowPeak\n",
      "   78104 /data/reddylab/Revathy/collabs/Keith/Th2/data/atac_seq/featureCounts/KS133.Th0.72hrs.ASTARR.insert.rep1.sorted_peaks.narrowPeak\n",
      "   74733 /data/reddylab/Revathy/collabs/Keith/Th2/data/atac_seq/featureCounts/KS133.Th0.72hrs.ASTARR.insert.rep2.sorted_peaks.narrowPeak\n",
      "   98031 /data/reddylab/Revathy/collabs/Keith/Th2/data/atac_seq/featureCounts/Th0_Th2.72hrs.UnionPeakSet.narrowPeak\n",
      "  363316 total\n"
     ]
    }
   ],
   "source": [
    "!wc -l /data/reddylab/Revathy/collabs/Keith/Th2/data/atac_seq/featureCounts/*.narrowPeak"
   ]
  },
  {
   "cell_type": "code",
   "execution_count": 19,
   "metadata": {},
   "outputs": [],
   "source": [
    "%%bash\n",
    "source /data/reddylab/software/miniconda2/bin/activate alex\n",
    "outdir=/data/reddylab/Revathy/collabs/Keith/Th1/data/atac_seq/featureCounts\n",
    "python /data/reddylab/Alex/reddylab_utils/scripts/bed_to_saf.py \\\n",
    "    --bed6 \\\n",
    "    -beds \\\n",
    "        ${outdir}/Th0_Th1.72hrs.UnionPeakSet.narrowPeak \\\n",
    "    -safs \\\n",
    "        ${outdir}/Th0_Th1.72hrs.UnionPeakSet.saf"
   ]
  },
  {
   "cell_type": "code",
   "execution_count": 20,
   "metadata": {},
   "outputs": [],
   "source": [
    "%%bash\n",
    "source /data/reddylab/software/miniconda2/bin/activate alex\n",
    "outdir=/data/reddylab/Revathy/collabs/Keith/Th2/data/atac_seq/featureCounts\n",
    "python /data/reddylab/Alex/reddylab_utils/scripts/bed_to_saf.py \\\n",
    "    --bed6 \\\n",
    "    -beds \\\n",
    "        ${outdir}/Th0_Th2.72hrs.UnionPeakSet.narrowPeak \\\n",
    "    -safs \\\n",
    "        ${outdir}/Th0_Th2.72hrs.UnionPeakSet.saf"
   ]
  },
  {
   "cell_type": "code",
   "execution_count": 21,
   "metadata": {},
   "outputs": [
    {
     "name": "stdout",
     "output_type": "stream",
     "text": [
      "chr1_3670944_3671848\tchr1\t3670944\t3671848\t+\r\n",
      "chr1_4491772_4492903\tchr1\t4491772\t4492903\t+\r\n",
      "chr1_4496199_4497230\tchr1\t4496199\t4497230\t+\r\n",
      "chr1_4571571_4572139\tchr1\t4571571\t4572139\t+\r\n",
      "chr1_4600496_4601112\tchr1\t4600496\t4601112\t+\r\n",
      "chr1_4671216_4672098\tchr1\t4671216\t4672098\t+\r\n",
      "chr1_4688892_4689633\tchr1\t4688892\t4689633\t+\r\n",
      "chr1_4724465_4725198\tchr1\t4724465\t4725198\t+\r\n",
      "chr1_4745580_4745966\tchr1\t4745580\t4745966\t+\r\n",
      "chr1_4747901_4748766\tchr1\t4747901\t4748766\t+\r\n"
     ]
    }
   ],
   "source": [
    "!head /data/reddylab/Revathy/collabs/Keith/Th1/data/atac_seq/featureCounts/Th0_Th1.72hrs.UnionPeakSet.saf"
   ]
  },
  {
   "cell_type": "code",
   "execution_count": 60,
   "metadata": {},
   "outputs": [
    {
     "name": "stdout",
     "output_type": "stream",
     "text": [
      "chr1\t3670944\t3671848\r\n",
      "chr1\t4491772\t4492903\r\n",
      "chr1\t4496364\t4497230\r\n",
      "chr1\t4571571\t4572139\r\n",
      "chr1\t4600679\t4601027\r\n",
      "chr1\t4671216\t4672098\r\n",
      "chr1\t4688892\t4689633\r\n",
      "chr1\t4724588\t4724820\r\n",
      "chr1\t4747985\t4748565\r\n",
      "chr1\t4768368\t4768600\r\n"
     ]
    }
   ],
   "source": [
    "!head /data/reddylab/Revathy/collabs/Keith/Th2/data/atac_seq/featureCounts/Th0_Th2.72hrs.UnionPeakSet.narrowPeak\n"
   ]
  },
  {
   "cell_type": "code",
   "execution_count": 23,
   "metadata": {},
   "outputs": [
    {
     "name": "stdout",
     "output_type": "stream",
     "text": [
      "Submitted batch job 26179081\n"
     ]
    }
   ],
   "source": [
    "%%bash\n",
    "mkdir -p /data/reddylab/Revathy/collabs/Keith/Th1/logs/\n",
    "cd /data/reddylab/Revathy/collabs/Keith/Th1/data/atac_seq/featureCounts\n",
    "sbatch -p all \\\n",
    "    --cpus-per-task 16 \\\n",
    "    --mem 32G \\\n",
    "    -o /data/reddylab/Revathy/collabs/Keith/Th1/logs/Th0_Th1.72hrs.UnionPeakSet.featurecounts.out \\\n",
    "    <<'EOF'\n",
    "#!/bin/bash\n",
    "/data/reddylab/software/subread-1.4.6-p4-Linux-x86_64/bin/featureCounts \\\n",
    "    -T 16 \\\n",
    "    -F SAF \\\n",
    "    -p \\\n",
    "    -a Th0_Th1.72hrs.UnionPeakSet.saf \\\n",
    "    -o /data/reddylab/Revathy/collabs/Keith/Th1/data/atac_seq/featureCounts/Th0_Th1.72hrs.UnionPeakSet.featurecounts.txt \\\n",
    "       /data/reddylab/Keith/encode4_duke/processing/atac_seq/Siklenka_6420_200805A5-pe-blacklist-removal/KS133.Th0.72hrs.ASTARR.insert.rep1.masked.dups_marked.bam \\\n",
    "       /data/reddylab/Keith/encode4_duke/processing/atac_seq/Siklenka_6420_200805A5-pe-blacklist-removal/KS133.Th0.72hrs.ASTARR.insert.rep2.masked.dups_marked.bam \\\n",
    "       /data/reddylab/Keith/encode4_duke/processing/atac_seq/Siklenka_6420_200805A5-pe-blacklist-removal/KS130.Th1.96hrs.ASTARR.insert.rep1.masked.dups_marked.bam \\\n",
    "       /data/reddylab/Keith/encode4_duke/processing/atac_seq/Siklenka_6420_200805A5-pe-blacklist-removal/KS130.Th1.96hrs.ASTARR.insert.rep2.masked.dups_marked.bam\n",
    "EOF"
   ]
  },
  {
   "cell_type": "code",
   "execution_count": 24,
   "metadata": {},
   "outputs": [
    {
     "name": "stdout",
     "output_type": "stream",
     "text": [
      "Submitted batch job 26179084\n"
     ]
    }
   ],
   "source": [
    "%%bash\n",
    "mkdir -p /data/reddylab/Revathy/collabs/Keith/Th2/logs/\n",
    "cd /data/reddylab/Revathy/collabs/Keith/Th2/data/atac_seq/featureCounts\n",
    "sbatch -p all \\\n",
    "    --cpus-per-task 16 \\\n",
    "    --mem 32G \\\n",
    "    -o /data/reddylab/Revathy/collabs/Keith/Th2/logs/Th0_Th1.72hrs.UnionPeakSet.featurecounts.out \\\n",
    "    <<'EOF'\n",
    "#!/bin/bash\n",
    "/data/reddylab/software/subread-1.4.6-p4-Linux-x86_64/bin/featureCounts \\\n",
    "    -T 16 \\\n",
    "    -F SAF \\\n",
    "    -p \\\n",
    "    -a Th0_Th2.72hrs.UnionPeakSet.saf \\\n",
    "    -o /data/reddylab/Revathy/collabs/Keith/Th2/data/atac_seq/featureCounts/Th0_Th2.72hrs.UnionPeakSet.featurecounts.txt \\\n",
    "       /data/reddylab/Keith/encode4_duke/processing/atac_seq/Siklenka_6420_200805A5-pe-blacklist-removal/KS133.Th0.72hrs.ASTARR.insert.rep1.masked.dups_marked.bam \\\n",
    "       /data/reddylab/Keith/encode4_duke/processing/atac_seq/Siklenka_6420_200805A5-pe-blacklist-removal/KS133.Th0.72hrs.ASTARR.insert.rep2.masked.dups_marked.bam \\\n",
    "       /data/reddylab/Keith/encode4_duke/processing/atac_seq/Siklenka_6420_200805A5-pe-blacklist-removal/KS131.Th2.96hrs.ASTARR.insert.rep1.masked.dups_marked.bam \\\n",
    "       /data/reddylab/Keith/encode4_duke/processing/atac_seq/Siklenka_6420_200805A5-pe-blacklist-removal/KS131.Th2.96hrs.ASTARR.insert.rep2.masked.dups_marked.bam\n",
    "EOF"
   ]
  },
  {
   "cell_type": "markdown",
   "metadata": {},
   "source": []
  },
  {
   "cell_type": "code",
   "execution_count": null,
   "metadata": {},
   "outputs": [],
   "source": []
  },
  {
   "cell_type": "code",
   "execution_count": null,
   "metadata": {},
   "outputs": [],
   "source": []
  },
  {
   "cell_type": "code",
   "execution_count": null,
   "metadata": {},
   "outputs": [],
   "source": []
  },
  {
   "cell_type": "code",
   "execution_count": null,
   "metadata": {},
   "outputs": [],
   "source": []
  },
  {
   "cell_type": "code",
   "execution_count": null,
   "metadata": {},
   "outputs": [],
   "source": []
  },
  {
   "cell_type": "code",
   "execution_count": null,
   "metadata": {},
   "outputs": [],
   "source": []
  },
  {
   "cell_type": "markdown",
   "metadata": {},
   "source": [
    "### DA analysis for Th1"
   ]
  },
  {
   "cell_type": "code",
   "execution_count": 28,
   "metadata": {},
   "outputs": [],
   "source": [
    "%%bash\n",
    "source /data/reddylab/software/miniconda2/bin/activate alex\n",
    "module load gcc\n",
    "python /data/reddylab/Alex/reddylab_utils/scripts/featurecounts_output_to_df.py \\\n",
    "    -featurecounts /data/reddylab/Revathy/collabs/Keith/Th1/data/atac_seq/featureCounts/Th0_Th1.72hrs.UnionPeakSet.featurecounts.txt \\\n",
    "    -outfiles /data/reddylab/Revathy/collabs/Keith/Th1/data/atac_seq/featureCounts/Th0_Th1.72hrs.UnionPeakSet.featurecounts.df.txt \\\n",
    "    --drop-suffixes .masked.dups_marked.bam \\\n",
    "    --join-input-files \\\n",
    "    \n"
   ]
  },
  {
   "cell_type": "code",
   "execution_count": 30,
   "metadata": {},
   "outputs": [
    {
     "name": "stdout",
     "output_type": "stream",
     "text": [
      "117428 /data/reddylab/Revathy/collabs/Keith/Th1/data/atac_seq/featureCounts/Th0_Th1.72hrs.UnionPeakSet.featurecounts.df.txt\r\n"
     ]
    }
   ],
   "source": [
    "!wc -l /data/reddylab/Revathy/collabs/Keith/Th1/data/atac_seq/featureCounts/Th0_Th1.72hrs.UnionPeakSet.featurecounts.df.txt"
   ]
  },
  {
   "cell_type": "code",
   "execution_count": 32,
   "metadata": {},
   "outputs": [],
   "source": [
    "%%bash\n",
    "cd /data/reddylab/Revathy/collabs/Keith/Th1/data/atac_seq/featureCounts/\n",
    "file=Th0_Th1.72hrs.UnionPeakSet.featurecounts\n",
    "cat ${file}.df.txt | cut -f1,2,3,4,5 | sed '1{ s/KS133.Th0.72hrs.ASTARR.insert.rep1/Th0.72hrs.ASTARR.insert.rep1/; s/KS133.Th0.72hrs.ASTARR.insert.rep2/Th0.72hrs.ASTARR.insert.rep2/; s/KS130.Th1.96hrs.ASTARR.insert.rep1/Th1.96hrs.ASTARR.insert.rep1/; s/KS130.Th1.96hrs.ASTARR.insert.rep2/Th1.96hrs.ASTARR.insert.rep2/; s/^/#/; }' > ${file}.txt \n"
   ]
  },
  {
   "cell_type": "code",
   "execution_count": 34,
   "metadata": {},
   "outputs": [
    {
     "name": "stdout",
     "output_type": "stream",
     "text": [
      "#Geneid\tTh0.72hrs.ASTARR.insert.rep1\tTh0.72hrs.ASTARR.insert.rep2\tTh1.96hrs.ASTARR.insert.rep1\tTh1.96hrs.ASTARR.insert.rep2\r\n",
      "chr1_3670944_3671848\t46\t35\t23\t13\r\n",
      "chr1_4491772_4492903\t79\t64\t28\t35\r\n",
      "chr1_4496199_4497230\t105\t69\t101\t85\r\n",
      "chr1_4571571_4572139\t49\t36\t27\t21\r\n",
      "chr1_4600496_4601112\t68\t45\t243\t208\r\n",
      "chr1_4671216_4672098\t194\t152\t170\t84\r\n",
      "chr1_4688892_4689633\t61\t50\t56\t38\r\n",
      "chr1_4724465_4725198\t26\t27\t202\t142\r\n",
      "chr1_4745580_4745966\t7\t9\t67\t53\r\n"
     ]
    }
   ],
   "source": [
    "!head /data/reddylab/Revathy/collabs/Keith/Th1/data/atac_seq/featureCounts/Th0_Th1.72hrs.UnionPeakSet.featurecounts.txt"
   ]
  },
  {
   "cell_type": "code",
   "execution_count": 35,
   "metadata": {},
   "outputs": [],
   "source": [
    "%%bash\n",
    "mkdir -p /data/reddylab/Revathy/collabs/Keith/Th1/data/atac_seq/readCount\n",
    "\n",
    "cp /data/reddylab/Keith/encode4_duke/processing/atac_seq/Siklenka_6420_200805A5-pe-blacklist-removal/*.Th1.*.mapped /data/reddylab/Revathy/collabs/Keith/Th1/data/atac_seq/readCount\n",
    "cp /data/reddylab/Keith/encode4_duke/processing/atac_seq/Siklenka_6420_200805A5-pe-blacklist-removal/*.Th0.*.mapped /data/reddylab/Revathy/collabs/Keith/Th1/data/atac_seq/readCount\n"
   ]
  },
  {
   "cell_type": "code",
   "execution_count": 36,
   "metadata": {},
   "outputs": [
    {
     "name": "stdout",
     "output_type": "stream",
     "text": [
      "KS130.Th1.96hrs.ASTARR.insert.rep1.bowtie.log.read_count.mapped\r\n",
      "KS130.Th1.96hrs.ASTARR.insert.rep2.bowtie.log.read_count.mapped\r\n",
      "KS133.Th0.72hrs.ASTARR.insert.rep1.bowtie.log.read_count.mapped\r\n",
      "KS133.Th0.72hrs.ASTARR.insert.rep2.bowtie.log.read_count.mapped\r\n"
     ]
    }
   ],
   "source": [
    "!ls /data/reddylab/Revathy/collabs/Keith/Th1/data/atac_seq/readCount"
   ]
  },
  {
   "cell_type": "code",
   "execution_count": 37,
   "metadata": {},
   "outputs": [],
   "source": [
    "%%bash\n",
    "# Generate lib_sizes for each ATAC-seq library (number of mapped_reads)\n",
    "cd /data/reddylab/Revathy/collabs/Keith/Th1/data/atac_seq/readCount\n",
    "echo -n > /data/reddylab/Revathy/collabs/Keith/Th1/data/atac_seq/readCount/lib_sizes.txt\n",
    "for ii in *.{Th0,Th1}.*.bowtie.log.read_count.mapped;\n",
    "do\n",
    "    iname=$(basename ${ii} | sed 's@.bowtie.log.read_count.mapped@@')\n",
    "    echo -e $iname\"\\t\"$(cut -f2 ${ii}) \\\n",
    "        >> /data/reddylab/Revathy/collabs/Keith/Th1/data/atac_seq/readCount/lib_sizes.tmp.txt\n",
    "done"
   ]
  },
  {
   "cell_type": "code",
   "execution_count": 38,
   "metadata": {},
   "outputs": [
    {
     "name": "stdout",
     "output_type": "stream",
     "text": [
      "Writing /data/reddylab/Revathy/collabs/Keith/Th1/data/atac_seq/readCount/lib_sizes.names.txt\n"
     ]
    }
   ],
   "source": [
    "%%writefile /data/reddylab/Revathy/collabs/Keith/Th1/data/atac_seq/readCount/lib_sizes.names.txt\n",
    "KS133.Th0.72hrs.ASTARR.insert.rep1\n",
    "KS133.Th0.72hrs.ASTARR.insert.rep2\n",
    "KS130.Th1.96hrs.ASTARR.insert.rep1\n",
    "KS130.Th1.96hrs.ASTARR.insert.rep2"
   ]
  },
  {
   "cell_type": "code",
   "execution_count": 39,
   "metadata": {},
   "outputs": [],
   "source": [
    "%%bash\n",
    "paste /data/reddylab/Revathy/collabs/Keith/Th1/data/atac_seq/readCount/lib_sizes.names.txt /data/reddylab/Revathy/collabs/Keith/Th1/data/atac_seq/readCount/lib_sizes.tmp.txt \\\n",
    "    | cut -f1,3 \\\n",
    "    > /data/reddylab/Revathy/collabs/Keith/Th1/data/atac_seq/readCount/lib_sizes.txt\n",
    "    "
   ]
  },
  {
   "cell_type": "code",
   "execution_count": 40,
   "metadata": {},
   "outputs": [],
   "source": [
    "%%bash\n",
    "cut -d \".\" -f2,3,4,5,6 /data/reddylab/Revathy/collabs/Keith/Th1/data/atac_seq/readCount/lib_sizes.txt > /data/reddylab/Revathy/collabs/Keith/Th1/data/atac_seq/readCount/lib_sizes_format.txt\n"
   ]
  },
  {
   "cell_type": "code",
   "execution_count": 41,
   "metadata": {},
   "outputs": [
    {
     "name": "stdout",
     "output_type": "stream",
     "text": [
      "Submitted batch job 26180052\n"
     ]
    }
   ],
   "source": [
    "%%bash\n",
    "mkdir -p /data/reddylab/Revathy/collabs/Keith/Th1/data/atac_seq/deseq\n",
    "source /data/reddylab/software/miniconda2/bin/activate alex_dev\n",
    "module load gcc\n",
    "sbatch -p all \\\n",
    "    --mem 16G \\\n",
    "    -o /data/reddylab/Revathy/collabs/Keith/Th1/logs/atac_deseq.out \\\n",
    "    <<'EOF'\n",
    "#!/bin/bash\n",
    "COMPARISON=( \\\n",
    "    Th1.96hrs.ASTARR.insert-Th0.72hrs.ASTARR.insert \\\n",
    ")\n",
    "TREAT=$(echo $COMPARISON | cut -d\"-\" -f1)\n",
    "CONTROL=$(echo $COMPARISON | cut -d\"-\" -f2)\n",
    "FACTOR=$(echo ${CONTROL} | cut -d. -f1)\n",
    "\n",
    "Rscript /data/reddylab/Revathy/scripts/atacseq.deseq2.R \\\n",
    "    --lfcShrink ashr \\\n",
    "    --no-model-reps \\\n",
    "    --treatments $(/bin/grep ${TREAT} /data/reddylab/Revathy/collabs/Keith/Th1/data/atac_seq/readCount/lib_sizes_format.txt | cut -f1) \\\n",
    "    --controls $(/bin/grep ${CONTROL} /data/reddylab/Revathy/collabs/Keith/Th1/data/atac_seq/readCount/lib_sizes_format.txt | cut -f1) \\\n",
    "    --lib-sizes /data/reddylab/Revathy/collabs/Keith/Th1/data/atac_seq/readCount/lib_sizes_format.txt \\\n",
    "    --outdir /data/reddylab/Revathy/collabs/Keith/Th1/data/atac_seq/deseq \\\n",
    "    --counts /data/reddylab/Revathy/collabs/Keith/Th1/data/atac_seq/featureCounts/Th0_Th1.72hrs.UnionPeakSet.featurecounts.txt\n",
    "EOF"
   ]
  },
  {
   "cell_type": "code",
   "execution_count": 42,
   "metadata": {},
   "outputs": [],
   "source": [
    "%%bash\n",
    "FDR=0.05\n",
    "COMPARISONS=( \\\n",
    "    Th1.96hrs.ASTARR.insert_vs_Th0.72hrs.ASTARR.insert \\\n",
    ")\n",
    "cd /data/reddylab/Revathy/collabs/Keith/Th1/data/atac_seq/deseq\n",
    "for COMP in ${COMPARISONS[@]};\n",
    "do\n",
    "    # Save expressed genes (more than 5 normalized counts)\n",
    "    tail -n+2 ${COMP}.txt |  cut -f1 > ${COMP}.accessible_peaks.txt \n",
    "    \n",
    "    # Save significant upreg genes\n",
    "    tail -n+2 ${COMP}.txt |  awk -vFDR=${FDR} '{if(($NF<FDR) && ($3>0)){print $1}}' |  cut -d. -f1 > ${COMP}.increase.txt \n",
    "\n",
    "    # Save significant downreg genes\n",
    "    tail -n+2 ${COMP}.txt |  awk -vFDR=${FDR} '{if(($NF<FDR) && ($3<0)){print $1}}' |  cut -d. -f1 > ${COMP}.decrease.txt \n",
    "\n",
    "done\n"
   ]
  },
  {
   "cell_type": "code",
   "execution_count": 43,
   "metadata": {},
   "outputs": [],
   "source": [
    "%%bash\n",
    "cd /data/reddylab/Revathy/collabs/Keith/Th1/data/atac_seq/deseq\n",
    "COMPARISONS=( \\\n",
    "    Th1.96hrs.ASTARR.insert_vs_Th0.72hrs.ASTARR.insert \\\n",
    ")\n",
    "for ENRICH in increase decrease;\n",
    "do\n",
    "    for ii in ${COMPARISONS[@]};\n",
    "    do\n",
    "        tail -n+2 ${ii}.${ENRICH}.txt | cut -f1 | sed 's@_@\\t@g' > ${ii}.${ENRICH}.bed \n",
    "    done\n",
    "done"
   ]
  },
  {
   "cell_type": "code",
   "execution_count": 44,
   "metadata": {},
   "outputs": [],
   "source": [
    "%%bash\n",
    "# For all, just take one of the rlog files\n",
    "cd /data/reddylab/Revathy/collabs/Keith/Th1/data/atac_seq/deseq\n",
    "COMPARISONS=( \\\n",
    "    Th1.96hrs.ASTARR.insert_vs_Th0.72hrs.ASTARR.insert \\\n",
    ")\n",
    "for ii in ${COMPARISONS[@]};\n",
    "do\n",
    "    tail -n+2 ${ii}.rlog.txt | cut -f1 | sed 's@_@\\t@g' > ${ii}.rlog.bed \n",
    "done\n"
   ]
  },
  {
   "cell_type": "code",
   "execution_count": 1,
   "metadata": {},
   "outputs": [
    {
     "name": "stdout",
     "output_type": "stream",
     "text": [
      "Submitted batch job 27270644\n"
     ]
    }
   ],
   "source": [
    "%%bash\n",
    "cd /data/reddylab/Revathy/collabs/Keith/Th1/data/atac_seq/deseq\n",
    "sbatch -p all \\\n",
    "    --cpus-per-task 1 \\\n",
    "    --mem 8G \\\n",
    "    -o /data/reddylab/Revathy/collabs/Keith/Th1/logs/atacseq_deseq2.add_closest_gene.rlog.out \\\n",
    "    <<'EOF'\n",
    "#!/bin/bash\n",
    "SAMPLE=\"Th1.96hrs.ASTARR.insert_vs_Th0.72hrs.ASTARR.insert.rlog.txt\"\n",
    "\n",
    "tail -n+2 ${SAMPLE} \\\n",
    "| cut -f1 \\\n",
    "| awk -F_ -vOFS=\"\\t\" '{print $1, $2, $3, $1\"_\"$2\"_\"$3}' \\\n",
    "| sort -k1,1 -k2,2n \\\n",
    "| bedtools closest \\\n",
    "    -nonamecheck \\\n",
    "    -D a \\\n",
    "    -a - \\\n",
    "    -b /data/reddylab/Reference_Data/Gencode/vM19/gencode.vM19.basic.annotation.bed \\\n",
    "| awk -vOFS=\"\\t\" \\\n",
    "    '{if(last==$4){genes=$11\",\"genes;}else{if(genes){print peak, genes, distance}peak=$4; genes=$11; distance=$13; last=peak}}END{if(last==$4){genes=$11\",\"genes;print peak, genes, distance}}' \\\n",
    "> ${SAMPLE/.txt/.closest_gene.txt}\n",
    "\n",
    "\n",
    "EOF"
   ]
  },
  {
   "cell_type": "markdown",
   "metadata": {},
   "source": [
    "### DA analysis for Th2"
   ]
  },
  {
   "cell_type": "code",
   "execution_count": 45,
   "metadata": {},
   "outputs": [],
   "source": [
    "%%bash\n",
    "source /data/reddylab/software/miniconda2/bin/activate alex\n",
    "module load gcc\n",
    "python /data/reddylab/Alex/reddylab_utils/scripts/featurecounts_output_to_df.py \\\n",
    "    -featurecounts /data/reddylab/Revathy/collabs/Keith/Th2/data/atac_seq/featureCounts/Th0_Th2.72hrs.UnionPeakSet.featurecounts.txt \\\n",
    "    -outfiles /data/reddylab/Revathy/collabs/Keith/Th2/data/atac_seq/featureCounts/Th0_Th2.72hrs.UnionPeakSet.featurecounts.df.txt \\\n",
    "    --drop-suffixes .masked.dups_marked.bam \\\n",
    "    --join-input-files \\\n",
    "    "
   ]
  },
  {
   "cell_type": "code",
   "execution_count": 46,
   "metadata": {},
   "outputs": [
    {
     "name": "stdout",
     "output_type": "stream",
     "text": [
      "98032 /data/reddylab/Revathy/collabs/Keith/Th2/data/atac_seq/featureCounts/Th0_Th2.72hrs.UnionPeakSet.featurecounts.df.txt\r\n"
     ]
    }
   ],
   "source": [
    "!wc -l /data/reddylab/Revathy/collabs/Keith/Th2/data/atac_seq/featureCounts/Th0_Th2.72hrs.UnionPeakSet.featurecounts.df.txt"
   ]
  },
  {
   "cell_type": "code",
   "execution_count": 47,
   "metadata": {},
   "outputs": [],
   "source": [
    "%%bash\n",
    "cd /data/reddylab/Revathy/collabs/Keith/Th2/data/atac_seq/featureCounts/\n",
    "file=Th0_Th2.72hrs.UnionPeakSet.featurecounts\n",
    "cat ${file}.df.txt | cut -f1,2,3,4,5 | sed '1{ s/KS133.Th0.72hrs.ASTARR.insert.rep1/Th0.72hrs.ASTARR.insert.rep1/; s/KS133.Th0.72hrs.ASTARR.insert.rep2/Th0.72hrs.ASTARR.insert.rep2/; s/KS131.Th2.96hrs.ASTARR.insert.rep1/Th2.96hrs.ASTARR.insert.rep1/; s/KS131.Th2.96hrs.ASTARR.insert.rep2/Th2.96hrs.ASTARR.insert.rep2/; s/^/#/; }' > ${file}.txt \n"
   ]
  },
  {
   "cell_type": "code",
   "execution_count": 49,
   "metadata": {},
   "outputs": [
    {
     "name": "stdout",
     "output_type": "stream",
     "text": [
      "98032 /data/reddylab/Revathy/collabs/Keith/Th2/data/atac_seq/featureCounts/Th0_Th2.72hrs.UnionPeakSet.featurecounts.txt\r\n"
     ]
    }
   ],
   "source": [
    "!wc -l /data/reddylab/Revathy/collabs/Keith/Th2/data/atac_seq/featureCounts/Th0_Th2.72hrs.UnionPeakSet.featurecounts.txt\n"
   ]
  },
  {
   "cell_type": "code",
   "execution_count": 50,
   "metadata": {},
   "outputs": [],
   "source": [
    "%%bash\n",
    "mkdir -p /data/reddylab/Revathy/collabs/Keith/Th2/data/atac_seq/readCount\n",
    "\n",
    "cp /data/reddylab/Keith/encode4_duke/processing/atac_seq/Siklenka_6420_200805A5-pe-blacklist-removal/*.Th2.*.mapped /data/reddylab/Revathy/collabs/Keith/Th2/data/atac_seq/readCount\n",
    "cp /data/reddylab/Keith/encode4_duke/processing/atac_seq/Siklenka_6420_200805A5-pe-blacklist-removal/*.Th0.*.mapped /data/reddylab/Revathy/collabs/Keith/Th2/data/atac_seq/readCount\n"
   ]
  },
  {
   "cell_type": "code",
   "execution_count": 51,
   "metadata": {},
   "outputs": [
    {
     "name": "stdout",
     "output_type": "stream",
     "text": [
      "KS131.Th2.96hrs.ASTARR.insert.rep1.bowtie.log.read_count.mapped\r\n",
      "KS131.Th2.96hrs.ASTARR.insert.rep2.bowtie.log.read_count.mapped\r\n",
      "KS133.Th0.72hrs.ASTARR.insert.rep1.bowtie.log.read_count.mapped\r\n",
      "KS133.Th0.72hrs.ASTARR.insert.rep2.bowtie.log.read_count.mapped\r\n"
     ]
    }
   ],
   "source": [
    "!ls /data/reddylab/Revathy/collabs/Keith/Th2/data/atac_seq/readCount"
   ]
  },
  {
   "cell_type": "code",
   "execution_count": 52,
   "metadata": {},
   "outputs": [],
   "source": [
    "%%bash\n",
    "# Generate lib_sizes for each ATAC-seq library (number of mapped_reads)\n",
    "cd /data/reddylab/Revathy/collabs/Keith/Th2/data/atac_seq/readCount\n",
    "echo -n > /data/reddylab/Revathy/collabs/Keith/Th2/data/atac_seq/readCount/lib_sizes.txt\n",
    "for ii in *.{Th0,Th2}.*.bowtie.log.read_count.mapped;\n",
    "do\n",
    "    iname=$(basename ${ii} | sed 's@.bowtie.log.read_count.mapped@@')\n",
    "    echo -e $iname\"\\t\"$(cut -f2 ${ii}) \\\n",
    "        >> /data/reddylab/Revathy/collabs/Keith/Th2/data/atac_seq/readCount/lib_sizes.tmp.txt\n",
    "done"
   ]
  },
  {
   "cell_type": "code",
   "execution_count": 53,
   "metadata": {},
   "outputs": [
    {
     "name": "stdout",
     "output_type": "stream",
     "text": [
      "Writing /data/reddylab/Revathy/collabs/Keith/Th2/data/atac_seq/readCount/lib_sizes.names.txt\n"
     ]
    }
   ],
   "source": [
    "%%writefile /data/reddylab/Revathy/collabs/Keith/Th2/data/atac_seq/readCount/lib_sizes.names.txt\n",
    "KS133.Th0.72hrs.ASTARR.insert.rep1\n",
    "KS133.Th0.72hrs.ASTARR.insert.rep2\n",
    "KS131.Th2.96hrs.ASTARR.insert.rep1\n",
    "KS131.Th2.96hrs.ASTARR.insert.rep2"
   ]
  },
  {
   "cell_type": "code",
   "execution_count": 54,
   "metadata": {},
   "outputs": [],
   "source": [
    "%%bash\n",
    "paste /data/reddylab/Revathy/collabs/Keith/Th2/data/atac_seq/readCount/lib_sizes.names.txt /data/reddylab/Revathy/collabs/Keith/Th2/data/atac_seq/readCount/lib_sizes.tmp.txt \\\n",
    "    | cut -f1,3 \\\n",
    "    > /data/reddylab/Revathy/collabs/Keith/Th2/data/atac_seq/readCount/lib_sizes.txt\n",
    "    "
   ]
  },
  {
   "cell_type": "code",
   "execution_count": 55,
   "metadata": {},
   "outputs": [],
   "source": [
    "%%bash\n",
    "cut -d \".\" -f2,3,4,5,6 /data/reddylab/Revathy/collabs/Keith/Th2/data/atac_seq/readCount/lib_sizes.txt > /data/reddylab/Revathy/collabs/Keith/Th2/data/atac_seq/readCount/lib_sizes_format.txt\n"
   ]
  },
  {
   "cell_type": "code",
   "execution_count": 56,
   "metadata": {},
   "outputs": [
    {
     "name": "stdout",
     "output_type": "stream",
     "text": [
      "Submitted batch job 26180655\n"
     ]
    }
   ],
   "source": [
    "%%bash\n",
    "mkdir -p /data/reddylab/Revathy/collabs/Keith/Th2/data/atac_seq/deseq\n",
    "source /data/reddylab/software/miniconda2/bin/activate alex_dev\n",
    "module load gcc\n",
    "sbatch -p all \\\n",
    "    --mem 16G \\\n",
    "    -o /data/reddylab/Revathy/collabs/Keith/Th2/logs/atac_deseq.out \\\n",
    "    <<'EOF'\n",
    "#!/bin/bash\n",
    "COMPARISON=( \\\n",
    "    Th2.96hrs.ASTARR.insert-Th0.72hrs.ASTARR.insert \\\n",
    ")\n",
    "TREAT=$(echo $COMPARISON | cut -d\"-\" -f1)\n",
    "CONTROL=$(echo $COMPARISON | cut -d\"-\" -f2)\n",
    "FACTOR=$(echo ${CONTROL} | cut -d. -f1)\n",
    "\n",
    "Rscript /data/reddylab/Revathy/scripts/atacseq.deseq2.R \\\n",
    "    --lfcShrink ashr \\\n",
    "    --no-model-reps \\\n",
    "    --treatments $(/bin/grep ${TREAT} /data/reddylab/Revathy/collabs/Keith/Th2/data/atac_seq/readCount/lib_sizes_format.txt | cut -f1) \\\n",
    "    --controls $(/bin/grep ${CONTROL} /data/reddylab/Revathy/collabs/Keith/Th2/data/atac_seq/readCount/lib_sizes_format.txt | cut -f1) \\\n",
    "    --lib-sizes /data/reddylab/Revathy/collabs/Keith/Th2/data/atac_seq/readCount/lib_sizes_format.txt \\\n",
    "    --outdir /data/reddylab/Revathy/collabs/Keith/Th2/data/atac_seq/deseq \\\n",
    "    --counts /data/reddylab/Revathy/collabs/Keith/Th2/data/atac_seq/featureCounts/Th0_Th2.72hrs.UnionPeakSet.featurecounts.txt\n",
    "EOF"
   ]
  },
  {
   "cell_type": "code",
   "execution_count": 57,
   "metadata": {},
   "outputs": [],
   "source": [
    "%%bash\n",
    "FDR=0.05\n",
    "COMPARISONS=( \\\n",
    "    Th2.96hrs.ASTARR.insert_vs_Th0.72hrs.ASTARR.insert \\\n",
    ")\n",
    "cd /data/reddylab/Revathy/collabs/Keith/Th2/data/atac_seq/deseq\n",
    "for COMP in ${COMPARISONS[@]};\n",
    "do\n",
    "    # Save expressed genes (more than 5 normalized counts)\n",
    "    tail -n+2 ${COMP}.txt |  cut -f1 > ${COMP}.accessible_peaks.txt \n",
    "    \n",
    "    # Save significant upreg genes\n",
    "    tail -n+2 ${COMP}.txt |  awk -vFDR=${FDR} '{if(($NF<FDR) && ($3>0)){print $1}}' |  cut -d. -f1 > ${COMP}.increase.txt \n",
    "\n",
    "    # Save significant downreg genes\n",
    "    tail -n+2 ${COMP}.txt |  awk -vFDR=${FDR} '{if(($NF<FDR) && ($3<0)){print $1}}' |  cut -d. -f1 > ${COMP}.decrease.txt \n",
    "\n",
    "done\n"
   ]
  },
  {
   "cell_type": "code",
   "execution_count": 58,
   "metadata": {},
   "outputs": [],
   "source": [
    "%%bash\n",
    "cd /data/reddylab/Revathy/collabs/Keith/Th2/data/atac_seq/deseq\n",
    "COMPARISONS=( \\\n",
    "    Th2.96hrs.ASTARR.insert_vs_Th0.72hrs.ASTARR.insert \\\n",
    ")\n",
    "for ENRICH in increase decrease;\n",
    "do\n",
    "    for ii in ${COMPARISONS[@]};\n",
    "    do\n",
    "        tail -n+2 ${ii}.${ENRICH}.txt | cut -f1 | sed 's@_@\\t@g' > ${ii}.${ENRICH}.bed \n",
    "    done\n",
    "done"
   ]
  },
  {
   "cell_type": "code",
   "execution_count": 59,
   "metadata": {},
   "outputs": [],
   "source": [
    "%%bash\n",
    "# For all, just take one of the rlog files\n",
    "cd /data/reddylab/Revathy/collabs/Keith/Th2/data/atac_seq/deseq\n",
    "COMPARISONS=( \\\n",
    "    Th2.96hrs.ASTARR.insert_vs_Th0.72hrs.ASTARR.insert \\\n",
    ")\n",
    "for ii in ${COMPARISONS[@]};\n",
    "do\n",
    "    tail -n+2 ${ii}.rlog.txt | cut -f1 | sed 's@_@\\t@g' > ${ii}.rlog.bed \n",
    "done\n"
   ]
  },
  {
   "cell_type": "code",
   "execution_count": 2,
   "metadata": {},
   "outputs": [
    {
     "name": "stdout",
     "output_type": "stream",
     "text": [
      "Submitted batch job 27270645\n"
     ]
    }
   ],
   "source": [
    "%%bash\n",
    "cd /data/reddylab/Revathy/collabs/Keith/Th2/data/atac_seq/deseq\n",
    "sbatch -p all \\\n",
    "    --cpus-per-task 1 \\\n",
    "    --mem 8G \\\n",
    "    -o /data/reddylab/Revathy/collabs/Keith/Th2/logs/atacseq_deseq2.add_closest_gene.rlog.out \\\n",
    "    <<'EOF'\n",
    "#!/bin/bash\n",
    "SAMPLE=\"Th2.96hrs.ASTARR.insert_vs_Th0.72hrs.ASTARR.insert.rlog.txt\"\n",
    "\n",
    "tail -n+2 ${SAMPLE} \\\n",
    "| cut -f1 \\\n",
    "| awk -F_ -vOFS=\"\\t\" '{print $1, $2, $3, $1\"_\"$2\"_\"$3}' \\\n",
    "| sort -k1,1 -k2,2n \\\n",
    "| bedtools closest \\\n",
    "    -nonamecheck \\\n",
    "    -D a \\\n",
    "    -a - \\\n",
    "    -b /data/reddylab/Reference_Data/Gencode/vM19/gencode.vM19.basic.annotation.bed \\\n",
    "| awk -vOFS=\"\\t\" \\\n",
    "    '{if(last==$4){genes=$11\",\"genes;}else{if(genes){print peak, genes, distance}peak=$4; genes=$11; distance=$13; last=peak}}END{if(last==$4){genes=$11\",\"genes;print peak, genes, distance}}' \\\n",
    "> ${SAMPLE/.txt/.closest_gene.txt}\n",
    "\n",
    "\n",
    "EOF"
   ]
  },
  {
   "cell_type": "code",
   "execution_count": null,
   "metadata": {},
   "outputs": [],
   "source": []
  }
 ],
 "metadata": {
  "kernelspec": {
   "display_name": "Python3 (revathy)",
   "language": "python",
   "name": "revathy_py3"
  },
  "language_info": {
   "codemirror_mode": {
    "name": "ipython",
    "version": 3
   },
   "file_extension": ".py",
   "mimetype": "text/x-python",
   "name": "python",
   "nbconvert_exporter": "python",
   "pygments_lexer": "ipython3",
   "version": "3.5.4"
  }
 },
 "nbformat": 4,
 "nbformat_minor": 2
}
