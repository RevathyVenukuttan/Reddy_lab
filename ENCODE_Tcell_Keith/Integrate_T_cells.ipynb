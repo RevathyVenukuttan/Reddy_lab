{
 "cells": [
  {
   "cell_type": "markdown",
   "metadata": {},
   "source": [
    "#### UnionPeakSet for Th1, Th2, Th17 and Treg"
   ]
  },
  {
   "cell_type": "code",
   "execution_count": 10,
   "metadata": {},
   "outputs": [],
   "source": [
    "%%bash\n",
    "mkdir -p /data/reddylab/Revathy/collabs/Keith/Tcell\n",
    "mkdir -p /data/reddylab/Revathy/collabs/Keith/Tcell/data/atac_seq/narrowPeak\n",
    "in_dir=/data/reddylab/Keith/encode4_duke/processing/atac_seq/Siklenka_6420_200805A5-pe-blacklist-removal\n",
    "outdir=/data/reddylab/Revathy/collabs/Keith/Tcell/data/atac_seq/narrowPeak\n",
    "files=(\\\n",
    "KS130.Th1.96hrs.ASTARR.insert.rep1.masked.dedup.sorted_peaks.narrowPeak \\\n",
    "KS130.Th1.96hrs.ASTARR.insert.rep2.masked.dedup.sorted_peaks.narrowPeak \\\n",
    "KS131.Th2.96hrs.ASTARR.insert.rep1.masked.dedup.sorted_peaks.narrowPeak \\\n",
    "KS131.Th2.96hrs.ASTARR.insert.rep2.masked.dedup.sorted_peaks.narrowPeak \\\n",
    "KS133.Th0.72hrs.ASTARR.insert.rep1.masked.dedup.sorted_peaks.narrowPeak \\\n",
    "KS133.Th0.72hrs.ASTARR.insert.rep2.masked.dedup.sorted_peaks.narrowPeak \\\n",
    "KS133.Treg.72hrs.ASTARR.insert.rep1.masked.dedup.sorted_peaks.narrowPeak \\\n",
    "KS133.Treg.72hrs.ASTARR.insert.rep2.masked.dedup.sorted_peaks.narrowPeak \n",
    ")\n",
    "for file in ${files[@]}; \n",
    "do \n",
    "  ### sort the bed files\n",
    "  sort -k1,1 -k2,2n -k3,3n ${in_dir}/${file} > ${outdir}/${file/.masked.dedup.sorted_peaks.narrowPeak/.sorted_peaks.narrowPeak}\n",
    "\n",
    "done"
   ]
  },
  {
   "cell_type": "code",
   "execution_count": 9,
   "metadata": {},
   "outputs": [],
   "source": [
    "%%bash\n",
    "in_dir=/data/reddylab/Keith/encode4_duke/processing/atac_seq/Siklenka_6420_200804A5-pe-blacklist-removal/\n",
    "outdir=/data/reddylab/Revathy/collabs/Keith/Tcell/data/atac_seq/narrowPeak\n",
    "files=(\\\n",
    "KS134.Th17.72hrs.ASTARR.insert.rep1.masked.dedup.sorted_peaks.narrowPeak \\\n",
    "KS134.Th17.72hrs.ASTARR.insert.rep2.masked.dedup.sorted_peaks.narrowPeak \\\n",
    "KS136.Th17.72hrs.ASTARR.insert.rep3.masked.dedup.sorted_peaks.narrowPeak \\\n",
    "KS136.Th17.72hrs.ASTARR.insert.rep4.masked.dedup.sorted_peaks.narrowPeak\n",
    ")\n",
    "for file in ${files[@]}; \n",
    "do \n",
    "  ### sort the bed files\n",
    "  sort -k1,1 -k2,2n -k3,3n ${in_dir}/${file} > ${outdir}/${file/.masked.dedup.sorted_peaks.narrowPeak/.sorted_peaks.narrowPeak}\n",
    "\n",
    "done"
   ]
  },
  {
   "cell_type": "code",
   "execution_count": 7,
   "metadata": {},
   "outputs": [],
   "source": [
    "%%bash\n",
    "module load bedtools2\n",
    "cd /data/reddylab/Revathy/collabs/Keith/Tcell/data/atac_seq/narrowPeak\n",
    "cat KS130.Th1.96hrs.ASTARR.insert.rep1.sorted_peaks.narrowPeak \\\n",
    "KS130.Th1.96hrs.ASTARR.insert.rep2.sorted_peaks.narrowPeak \\\n",
    "KS131.Th2.96hrs.ASTARR.insert.rep1.sorted_peaks.narrowPeak \\\n",
    "KS131.Th2.96hrs.ASTARR.insert.rep2.sorted_peaks.narrowPeak \\\n",
    "KS133.Treg.72hrs.ASTARR.insert.rep1.sorted_peaks.narrowPeak \\\n",
    "KS133.Treg.72hrs.ASTARR.insert.rep2.sorted_peaks.narrowPeak \\\n",
    "KS134.Th17.72hrs.ASTARR.insert.rep1.sorted_peaks.narrowPeak \\\n",
    "KS134.Th17.72hrs.ASTARR.insert.rep2.sorted_peaks.narrowPeak \\\n",
    "KS136.Th17.72hrs.ASTARR.insert.rep3.sorted_peaks.narrowPeak \\\n",
    "KS136.Th17.72hrs.ASTARR.insert.rep4.sorted_peaks.narrowPeak \\\n",
    "| sort -k1,1 -k2,2n | bedtools merge -i - > /data/reddylab/Revathy/collabs/Keith/Tcell/data/atac_seq/Th1_Th2_Th17_Treg.72hrs.UnionPeakSet.narrowPeak"
   ]
  },
  {
   "cell_type": "code",
   "execution_count": 8,
   "metadata": {},
   "outputs": [],
   "source": [
    "%%bash\n",
    "module load bedtools2\n",
    "cd /data/reddylab/Revathy/collabs/Keith/Tcell/data/atac_seq/narrowPeak\n",
    "cat KS133.Th0.72hrs.ASTARR.insert.rep1.sorted_peaks.narrowPeak \\\n",
    "KS133.Th0.72hrs.ASTARR.insert.rep2.sorted_peaks.narrowPeak \\\n",
    "| sort -k1,1 -k2,2n | bedtools merge -i - > /data/reddylab/Revathy/collabs/Keith/Tcell/data/atac_seq/Th0.72hrs.UnionPeakSet.narrowPeak"
   ]
  },
  {
   "cell_type": "code",
   "execution_count": 16,
   "metadata": {},
   "outputs": [],
   "source": [
    "%%bash\n",
    "module load bedtools2\n",
    "cd /data/reddylab/Revathy/collabs/Keith/Tcell/data/atac_seq/narrowPeak\n",
    "cat KS130.Th1.96hrs.ASTARR.insert.rep1.sorted_peaks.narrowPeak \\\n",
    "KS130.Th1.96hrs.ASTARR.insert.rep2.sorted_peaks.narrowPeak \\\n",
    "| sort -k1,1 -k2,2n | bedtools merge -i - > /data/reddylab/Revathy/collabs/Keith/Tcell/data/atac_seq/Th1.96hrs.UnionPeakSet.narrowPeak"
   ]
  },
  {
   "cell_type": "code",
   "execution_count": 17,
   "metadata": {},
   "outputs": [],
   "source": [
    "%%bash\n",
    "module load bedtools2\n",
    "cd /data/reddylab/Revathy/collabs/Keith/Tcell/data/atac_seq/narrowPeak\n",
    "cat KS131.Th2.96hrs.ASTARR.insert.rep1.sorted_peaks.narrowPeak \\\n",
    "KS131.Th2.96hrs.ASTARR.insert.rep2.sorted_peaks.narrowPeak \\\n",
    "| sort -k1,1 -k2,2n | bedtools merge -i - > /data/reddylab/Revathy/collabs/Keith/Tcell/data/atac_seq/Th2.96hrs.UnionPeakSet.narrowPeak"
   ]
  },
  {
   "cell_type": "code",
   "execution_count": 18,
   "metadata": {},
   "outputs": [],
   "source": [
    "%%bash\n",
    "module load bedtools2\n",
    "cd /data/reddylab/Revathy/collabs/Keith/Tcell/data/atac_seq/narrowPeak\n",
    "cat KS134.Th17.72hrs.ASTARR.insert.rep1.sorted_peaks.narrowPeak \\\n",
    "KS134.Th17.72hrs.ASTARR.insert.rep2.sorted_peaks.narrowPeak \\\n",
    "KS136.Th17.72hrs.ASTARR.insert.rep3.sorted_peaks.narrowPeak \\\n",
    "KS136.Th17.72hrs.ASTARR.insert.rep4.sorted_peaks.narrowPeak \\\n",
    "| sort -k1,1 -k2,2n | bedtools merge -i - > /data/reddylab/Revathy/collabs/Keith/Tcell/data/atac_seq/Th17.72hrs.UnionPeakSet.narrowPeak"
   ]
  },
  {
   "cell_type": "code",
   "execution_count": 25,
   "metadata": {},
   "outputs": [],
   "source": [
    "%%bash\n",
    "module load bedtools2\n",
    "cd /data/reddylab/Revathy/collabs/Keith/Tcell/data/atac_seq/narrowPeak\n",
    "cat KS133.Treg.72hrs.ASTARR.insert.rep1.sorted_peaks.narrowPeak \\\n",
    "KS133.Treg.72hrs.ASTARR.insert.rep2.sorted_peaks.narrowPeak\\\n",
    "| sort -k1,1 -k2,2n | bedtools merge -i - > /data/reddylab/Revathy/collabs/Keith/Tcell/data/atac_seq/Treg.72hrs.UnionPeakSet.narrowPeak"
   ]
  },
  {
   "cell_type": "code",
   "execution_count": 19,
   "metadata": {},
   "outputs": [
    {
     "name": "stdout",
     "output_type": "stream",
     "text": [
      "    98875 KS130.Th1.96hrs.ASTARR.insert.rep1.sorted_peaks.narrowPeak\n",
      "    91488 KS130.Th1.96hrs.ASTARR.insert.rep2.sorted_peaks.narrowPeak\n",
      "    51557 KS131.Th2.96hrs.ASTARR.insert.rep1.sorted_peaks.narrowPeak\n",
      "    60891 KS131.Th2.96hrs.ASTARR.insert.rep2.sorted_peaks.narrowPeak\n",
      "    78104 KS133.Th0.72hrs.ASTARR.insert.rep1.sorted_peaks.narrowPeak\n",
      "    74733 KS133.Th0.72hrs.ASTARR.insert.rep2.sorted_peaks.narrowPeak\n",
      "    68903 KS133.Treg.72hrs.ASTARR.insert.rep1.sorted_peaks.narrowPeak\n",
      "    78262 KS133.Treg.72hrs.ASTARR.insert.rep2.sorted_peaks.narrowPeak\n",
      "    83991 KS134.Th17.72hrs.ASTARR.insert.rep1.sorted_peaks.narrowPeak\n",
      "    85202 KS134.Th17.72hrs.ASTARR.insert.rep2.sorted_peaks.narrowPeak\n",
      "    85375 KS136.Th17.72hrs.ASTARR.insert.rep3.sorted_peaks.narrowPeak\n",
      "    84222 KS136.Th17.72hrs.ASTARR.insert.rep4.sorted_peaks.narrowPeak\n",
      "   941603 total\n"
     ]
    }
   ],
   "source": [
    "%%bash\n",
    "cd /data/reddylab/Revathy/collabs/Keith/Tcell/data/atac_seq/narrowPeak\n",
    "wc -l *.narrowPeak"
   ]
  },
  {
   "cell_type": "code",
   "execution_count": 21,
   "metadata": {},
   "outputs": [
    {
     "name": "stdout",
     "output_type": "stream",
     "text": [
      "138911 /data/reddylab/Revathy/collabs/Keith/Tcell/data/atac_seq/Th1_Th2_Th17_Treg.72hrs.UnionPeakSet.narrowPeak\r\n"
     ]
    }
   ],
   "source": [
    "!wc -l /data/reddylab/Revathy/collabs/Keith/Tcell/data/atac_seq/Th1_Th2_Th17_Treg.72hrs.UnionPeakSet.narrowPeak"
   ]
  },
  {
   "cell_type": "code",
   "execution_count": 2,
   "metadata": {},
   "outputs": [],
   "source": [
    "%%bash\n",
    "source /data/reddylab/software/miniconda2/bin/activate alex\n",
    "outdir=/data/reddylab/Revathy/collabs/Keith/Tcell/data/atac_seq\n",
    "python /data/reddylab/Alex/reddylab_utils/scripts/bed_to_saf.py \\\n",
    "    --bed6 \\\n",
    "    -beds \\\n",
    "        ${outdir}/Th1_Th2_Th17_Treg.72hrs.UnionPeakSet.narrowPeak \\\n",
    "    -safs \\\n",
    "        ${outdir}/Th1_Th2_Th17_Treg.72hrs.UnionPeakSet.saf"
   ]
  },
  {
   "cell_type": "code",
   "execution_count": 3,
   "metadata": {},
   "outputs": [
    {
     "name": "stdout",
     "output_type": "stream",
     "text": [
      "chr1_4491842_4493419\tchr1\t4491842\t4493419\t+\r\n",
      "chr1_4496199_4497155\tchr1\t4496199\t4497155\t+\r\n",
      "chr1_4571547_4572067\tchr1\t4571547\t4572067\t+\r\n",
      "chr1_4600496_4601119\tchr1\t4600496\t4601119\t+\r\n",
      "chr1_4671434_4672049\tchr1\t4671434\t4672049\t+\r\n",
      "chr1_4689010_4689626\tchr1\t4689010\t4689626\t+\r\n",
      "chr1_4724465_4725198\tchr1\t4724465\t4725198\t+\r\n",
      "chr1_4745580_4745966\tchr1\t4745580\t4745966\t+\r\n",
      "chr1_4747901_4748766\tchr1\t4747901\t4748766\t+\r\n",
      "chr1_4769822_4770396\tchr1\t4769822\t4770396\t+\r\n"
     ]
    }
   ],
   "source": [
    "!head /data/reddylab/Revathy/collabs/Keith/Tcell/data/atac_seq/Th1_Th2_Th17_Treg.72hrs.UnionPeakSet.saf"
   ]
  },
  {
   "cell_type": "code",
   "execution_count": 4,
   "metadata": {},
   "outputs": [
    {
     "name": "stdout",
     "output_type": "stream",
     "text": [
      "Submitted batch job 26323924\n"
     ]
    }
   ],
   "source": [
    "%%bash\n",
    "mkdir -p /data/reddylab/Revathy/collabs/Keith/Tcell/data/atac_seq/featureCounts\n",
    "cd /data/reddylab/Revathy/collabs/Keith/Th1/data/atac_seq/featureCounts\n",
    "sbatch -p all \\\n",
    "    --cpus-per-task 16 \\\n",
    "    --mem 32G \\\n",
    "    -o /data/reddylab/Revathy/collabs/Keith/Tcell/logs/Th1_Th2_Th17_Treg.72hrs.UnionPeakSet.featurecounts.out \\\n",
    "    <<'EOF'\n",
    "#!/bin/bash\n",
    "/data/reddylab/software/subread-1.4.6-p4-Linux-x86_64/bin/featureCounts \\\n",
    "    -T 16 \\\n",
    "    -F SAF \\\n",
    "    -p \\\n",
    "    -a /data/reddylab/Revathy/collabs/Keith/Tcell/data/atac_seq/Th1_Th2_Th17_Treg.72hrs.UnionPeakSet.saf \\\n",
    "    -o /data/reddylab/Revathy/collabs/Keith/Tcell/data/atac_seq/featureCounts/Th1_Th2_Th17_Treg.72hrs.UnionPeakSet.featurecounts.txt \\\n",
    "       /data/reddylab/Keith/encode4_duke/processing/atac_seq/Siklenka_6420_200805A5-pe-blacklist-removal/KS130.Th1.96hrs.ASTARR.insert.rep1.masked.dups_marked.bam \\\n",
    "       /data/reddylab/Keith/encode4_duke/processing/atac_seq/Siklenka_6420_200805A5-pe-blacklist-removal/KS130.Th1.96hrs.ASTARR.insert.rep2.masked.dups_marked.bam \\\n",
    "       /data/reddylab/Keith/encode4_duke/processing/atac_seq/Siklenka_6420_200805A5-pe-blacklist-removal/KS131.Th2.96hrs.ASTARR.insert.rep1.masked.dups_marked.bam \\\n",
    "       /data/reddylab/Keith/encode4_duke/processing/atac_seq/Siklenka_6420_200805A5-pe-blacklist-removal/KS131.Th2.96hrs.ASTARR.insert.rep2.masked.dups_marked.bam \\\n",
    "       /data/reddylab/Keith/encode4_duke/processing/atac_seq/Siklenka_6420_200804A5-pe-blacklist-removal/KS134.Th17.72hrs.ASTARR.insert.rep1.masked.dups_marked.bam \\\n",
    "       /data/reddylab/Keith/encode4_duke/processing/atac_seq/Siklenka_6420_200804A5-pe-blacklist-removal/KS134.Th17.72hrs.ASTARR.insert.rep2.masked.dups_marked.bam \\\n",
    "       /data/reddylab/Keith/encode4_duke/processing/atac_seq/Siklenka_6420_200804A5-pe-blacklist-removal/KS136.Th17.72hrs.ASTARR.insert.rep3.masked.dups_marked.bam \\\n",
    "       /data/reddylab/Keith/encode4_duke/processing/atac_seq/Siklenka_6420_200804A5-pe-blacklist-removal/KS136.Th17.72hrs.ASTARR.insert.rep4.masked.dups_marked.bam \\\n",
    "       /data/reddylab/Keith/encode4_duke/processing/atac_seq/Siklenka_6420_200805A5-pe-blacklist-removal/KS133.Treg.72hrs.ASTARR.insert.rep1.masked.dups_marked.bam \\\n",
    "       /data/reddylab/Keith/encode4_duke/processing/atac_seq/Siklenka_6420_200805A5-pe-blacklist-removal/KS133.Treg.72hrs.ASTARR.insert.rep2.masked.dups_marked.bam\n",
    "EOF"
   ]
  },
  {
   "cell_type": "code",
   "execution_count": null,
   "metadata": {},
   "outputs": [],
   "source": []
  },
  {
   "cell_type": "markdown",
   "metadata": {},
   "source": [
    "#### intersection between unionpeaks of Th0 and Th1,Th2,Th17 and Treg"
   ]
  },
  {
   "cell_type": "code",
   "execution_count": 10,
   "metadata": {},
   "outputs": [
    {
     "name": "stderr",
     "output_type": "stream",
     "text": [
      "***** WARNING: File Th1_Th2_Th17_Treg.72hrs.UnionPeakSet.narrowPeak has inconsistent naming convention for record:\n",
      "GL456216.1\t13778\t13946\n",
      "\n",
      "***** WARNING: File Th1_Th2_Th17_Treg.72hrs.UnionPeakSet.narrowPeak has inconsistent naming convention for record:\n",
      "GL456216.1\t13778\t13946\n",
      "\n"
     ]
    }
   ],
   "source": [
    "%%bash\n",
    "module load bedtools2\n",
    "cd /data/reddylab/Revathy/collabs/Keith/Tcell/data/atac_seq/narrowPeak\n",
    "bedtools intersect \\\n",
    "-a Th0.72hrs.UnionPeakSet.narrowPeak \\\n",
    "-b Th1_Th2_Th17_Treg.72hrs.UnionPeakSet.narrowPeak \\\n",
    "> /data/reddylab/Revathy/collabs/Keith/Tcell/data/atac_seq/Th0_Th1_Th2_Th17_Treg.atac_seq.intersected_peaks.bed"
   ]
  },
  {
   "cell_type": "code",
   "execution_count": 1,
   "metadata": {},
   "outputs": [
    {
     "name": "stdout",
     "output_type": "stream",
     "text": [
      "chr1\t4491842\t4492903\r\n",
      "chr1\t4496364\t4497155\r\n",
      "chr1\t4571571\t4572067\r\n",
      "chr1\t4600679\t4601024\r\n",
      "chr1\t4671434\t4672049\r\n",
      "chr1\t4689010\t4689626\r\n",
      "chr1\t4724588\t4724820\r\n",
      "chr1\t4747985\t4748565\r\n",
      "chr1\t4774950\t4775866\r\n",
      "chr1\t4780086\t4780487\r\n"
     ]
    }
   ],
   "source": [
    "!head /data/reddylab/Revathy/collabs/Keith/Tcell/data/atac_seq/Th0_Th1_Th2_Th17_Treg.atac_seq.intersected_peaks.bed"
   ]
  },
  {
   "cell_type": "code",
   "execution_count": 26,
   "metadata": {},
   "outputs": [
    {
     "name": "stdout",
     "output_type": "stream",
     "text": [
      "   84760 /data/reddylab/Revathy/collabs/Keith/Tcell/data/atac_seq/Th0.72hrs.UnionPeakSet.narrowPeak\n",
      "  101113 /data/reddylab/Revathy/collabs/Keith/Tcell/data/atac_seq/Th17.72hrs.UnionPeakSet.narrowPeak\n",
      "  104142 /data/reddylab/Revathy/collabs/Keith/Tcell/data/atac_seq/Th1.96hrs.UnionPeakSet.narrowPeak\n",
      "  138911 /data/reddylab/Revathy/collabs/Keith/Tcell/data/atac_seq/Th1_Th2_Th17_Treg.72hrs.UnionPeakSet.narrowPeak\n",
      "   67132 /data/reddylab/Revathy/collabs/Keith/Tcell/data/atac_seq/Th2.96hrs.UnionPeakSet.narrowPeak\n",
      "   82535 /data/reddylab/Revathy/collabs/Keith/Tcell/data/atac_seq/Treg.72hrs.UnionPeakSet.narrowPeak\n",
      "  578593 total\n"
     ]
    }
   ],
   "source": [
    "!wc -l /data/reddylab/Revathy/collabs/Keith/Tcell/data/atac_seq/*.narrowPeak"
   ]
  },
  {
   "cell_type": "code",
   "execution_count": 27,
   "metadata": {},
   "outputs": [
    {
     "name": "stdout",
     "output_type": "stream",
     "text": [
      "Submitted batch job 26192542\n"
     ]
    }
   ],
   "source": [
    "%%bash\n",
    "mkdir -p /data/reddylab/Revathy/collabs/Keith/Tcell/logs\n",
    "cd /data/reddylab/Revathy/collabs/Keith/Tcell/data/atac_seq\n",
    "sbatch -p all \\\n",
    "    --cpus-per-task 1 \\\n",
    "    --mem 8G \\\n",
    "    -o /data/reddylab/Revathy/collabs/Keith/Tcell/logs/Th0_Th1_Th2_Th17_Treg.atac_seq.intersected_peaks.closest_gene.out \\\n",
    "    <<'EOF'\n",
    "#!/bin/bash\n",
    "SAMPLE=\"Th0_Th1_Th2_Th17_Treg.atac_seq.intersected_peaks.bed\"\n",
    "\n",
    "tail -n+2 ${SAMPLE} \\\n",
    "| cut -f1,2,3 \\\n",
    "| awk -vOFS=\"\\t\" '{print $1, $2, $3, $1\"_\"$2\"_\"$3}' \\\n",
    "| sort -k1,1 -k2,2n \\\n",
    "| bedtools closest \\\n",
    "    -nonamecheck \\\n",
    "    -D a \\\n",
    "    -a - \\\n",
    "    -b /data/reddylab/Revathy/collabs/Keith/data/annotation_files/gencode.vM19.basic.annotation.TSS.bed \\\n",
    "| awk -vOFS=\"\\t\" \\\n",
    "    '{if(last==$4){genes=$11\",\"genes;}else{if(genes){print peak, genes, distance}peak=$4; genes=$11; distance=$13; last=peak}}END{if(last==$4){genes=$11\",\"genes;print peak, genes, distance}}' \\\n",
    "> ${SAMPLE/.bed/.gencode_closest_gene.txt}\n",
    "\n",
    "EOF"
   ]
  },
  {
   "cell_type": "code",
   "execution_count": 31,
   "metadata": {},
   "outputs": [
    {
     "name": "stdout",
     "output_type": "stream",
     "text": [
      "80630 /data/reddylab/Revathy/collabs/Keith/Tcell/data/atac_seq/Th0_Th1_Th2_Th17_Treg.atac_seq.intersected_peaks.bed\r\n"
     ]
    }
   ],
   "source": [
    "!wc -l /data/reddylab/Revathy/collabs/Keith/Tcell/data/atac_seq/Th0_Th1_Th2_Th17_Treg.atac_seq.intersected_peaks.bed"
   ]
  },
  {
   "cell_type": "code",
   "execution_count": 30,
   "metadata": {},
   "outputs": [
    {
     "name": "stdout",
     "output_type": "stream",
     "text": [
      "80629 /data/reddylab/Revathy/collabs/Keith/Tcell/data/atac_seq/Th0_Th1_Th2_Th17_Treg.atac_seq.intersected_peaks.gencode_closest_gene.txt\r\n"
     ]
    }
   ],
   "source": [
    "!wc -l /data/reddylab/Revathy/collabs/Keith/Tcell/data/atac_seq/Th0_Th1_Th2_Th17_Treg.atac_seq.intersected_peaks.gencode_closest_gene.txt\n"
   ]
  },
  {
   "cell_type": "code",
   "execution_count": 37,
   "metadata": {},
   "outputs": [
    {
     "name": "stdout",
     "output_type": "stream",
     "text": [
      "16415\n"
     ]
    }
   ],
   "source": [
    "%%bash\n",
    "awk '{ if ($3 >= -3000 && $3 <= 3000) print $1}' /data/reddylab/Revathy/collabs/Keith/Tcell/data/atac_seq/Th0_Th1_Th2_Th17_Treg.atac_seq.intersected_peaks.gencode_closest_gene.txt | wc -l"
   ]
  },
  {
   "cell_type": "code",
   "execution_count": 46,
   "metadata": {},
   "outputs": [],
   "source": [
    "%%bash \n",
    "cat /data/reddylab/Revathy/collabs/Keith/Tcell/data/atac_seq/Th0_Th1_Th2_Th17_Treg.atac_seq.intersected_peaks.gencode_closest_gene.txt \\\n",
    "| awk '{ if ($3 >= -3000 && $3 <= 3000) print $1}' | awk -F '_' -vOFS=\"\\t\" '{print $1, $2, $3}' > /data/reddylab/Revathy/collabs/Keith/Tcell/data/atac_seq/Th0_Th1_Th2_Th17_Treg.atac_seq.intersected_peaks.promoters.bed"
   ]
  },
  {
   "cell_type": "code",
   "execution_count": 51,
   "metadata": {},
   "outputs": [],
   "source": [
    "%%bash \n",
    "cat /data/reddylab/Revathy/collabs/Keith/Tcell/data/atac_seq/Th0_Th1_Th2_Th17_Treg.atac_seq.intersected_peaks.gencode_closest_gene.txt \\\n",
    "| awk '{print $1}' | awk -F '_' -vOFS=\"\\t\" '{print $1, $2, $3}' > /data/reddylab/Revathy/collabs/Keith/Tcell/data/atac_seq/Th0_Th1_Th2_Th17_Treg.atac_seq.intersected_peaks.all_peaks.bed\n"
   ]
  },
  {
   "cell_type": "markdown",
   "metadata": {},
   "source": [
    "#### Number of peaks\n",
    "\n",
    "* Number of peaks when Th0 intersected with unionPeakSet of Th1, Th2, Th17 and Treg: 80629\n",
    "* Number of peaks in the promoter region when Th0 intersected with unionPeakSet of Th1, Th2, Th17 and Treg: 16415"
   ]
  },
  {
   "cell_type": "code",
   "execution_count": null,
   "metadata": {},
   "outputs": [],
   "source": []
  },
  {
   "cell_type": "markdown",
   "metadata": {},
   "source": [
    "### Intersection of Th0 with each of the T cell subtypes"
   ]
  },
  {
   "cell_type": "code",
   "execution_count": 54,
   "metadata": {},
   "outputs": [
    {
     "name": "stderr",
     "output_type": "stream",
     "text": [
      "***** WARNING: File Th1.96hrs.UnionPeakSet.narrowPeak has inconsistent naming convention for record:\n",
      "GL456216.1\t15713\t17710\n",
      "\n",
      "***** WARNING: File Th1.96hrs.UnionPeakSet.narrowPeak has inconsistent naming convention for record:\n",
      "GL456216.1\t15713\t17710\n",
      "\n"
     ]
    }
   ],
   "source": [
    "%%bash\n",
    "module load bedtools2\n",
    "cd /data/reddylab/Revathy/collabs/Keith/Tcell/data/atac_seq/\n",
    "bedtools intersect \\\n",
    "-a Th0.72hrs.UnionPeakSet.narrowPeak \\\n",
    "-b Th1.96hrs.UnionPeakSet.narrowPeak \\\n",
    "> /data/reddylab/Revathy/collabs/Keith/Tcell/data/atac_seq/Th0_Th1.atac_seq.intersected_peaks.bed"
   ]
  },
  {
   "cell_type": "code",
   "execution_count": 56,
   "metadata": {},
   "outputs": [
    {
     "name": "stdout",
     "output_type": "stream",
     "text": [
      "71473 /data/reddylab/Revathy/collabs/Keith/Tcell/data/atac_seq/Th0_Th1.atac_seq.intersected_peaks.bed\r\n"
     ]
    }
   ],
   "source": [
    "!wc -l /data/reddylab/Revathy/collabs/Keith/Tcell/data/atac_seq/Th0_Th1.atac_seq.intersected_peaks.bed"
   ]
  },
  {
   "cell_type": "code",
   "execution_count": 57,
   "metadata": {},
   "outputs": [
    {
     "name": "stdout",
     "output_type": "stream",
     "text": [
      "Submitted batch job 26192959\n"
     ]
    }
   ],
   "source": [
    "%%bash\n",
    "cd /data/reddylab/Revathy/collabs/Keith/Tcell/data/atac_seq\n",
    "sbatch -p all \\\n",
    "    --cpus-per-task 1 \\\n",
    "    --mem 8G \\\n",
    "    -o /data/reddylab/Revathy/collabs/Keith/Tcell/logs/Th0_Th1.atac_seq.intersected_peaks.closest_gene.out \\\n",
    "    <<'EOF'\n",
    "#!/bin/bash\n",
    "SAMPLE=\"Th0_Th1.atac_seq.intersected_peaks.bed\"\n",
    "\n",
    "tail -n+2 ${SAMPLE} \\\n",
    "| cut -f1,2,3 \\\n",
    "| awk -vOFS=\"\\t\" '{print $1, $2, $3, $1\"_\"$2\"_\"$3}' \\\n",
    "| sort -k1,1 -k2,2n \\\n",
    "| bedtools closest \\\n",
    "    -nonamecheck \\\n",
    "    -D a \\\n",
    "    -a - \\\n",
    "    -b /data/reddylab/Revathy/collabs/Keith/data/annotation_files/gencode.vM19.basic.annotation.TSS.bed \\\n",
    "| awk -vOFS=\"\\t\" \\\n",
    "    '{if(last==$4){genes=$11\",\"genes;}else{if(genes){print peak, genes, distance}peak=$4; genes=$11; distance=$13; last=peak}}END{if(last==$4){genes=$11\",\"genes;print peak, genes, distance}}' \\\n",
    "> ${SAMPLE/.bed/.gencode_closest_gene.txt}\n",
    "\n",
    "EOF"
   ]
  },
  {
   "cell_type": "code",
   "execution_count": 58,
   "metadata": {},
   "outputs": [
    {
     "name": "stdout",
     "output_type": "stream",
     "text": [
      "71472 /data/reddylab/Revathy/collabs/Keith/Tcell/data/atac_seq/Th0_Th1.atac_seq.intersected_peaks.gencode_closest_gene.txt\r\n"
     ]
    }
   ],
   "source": [
    "!wc -l /data/reddylab/Revathy/collabs/Keith/Tcell/data/atac_seq/Th0_Th1.atac_seq.intersected_peaks.gencode_closest_gene.txt"
   ]
  },
  {
   "cell_type": "code",
   "execution_count": 59,
   "metadata": {},
   "outputs": [
    {
     "name": "stdout",
     "output_type": "stream",
     "text": [
      "15784\n"
     ]
    }
   ],
   "source": [
    "%%bash\n",
    "awk '{ if ($3 >= -3000 && $3 <= 3000) print $1}' /data/reddylab/Revathy/collabs/Keith/Tcell/data/atac_seq/Th0_Th1.atac_seq.intersected_peaks.gencode_closest_gene.txt | wc -l"
   ]
  },
  {
   "cell_type": "code",
   "execution_count": 1,
   "metadata": {},
   "outputs": [
    {
     "name": "stderr",
     "output_type": "stream",
     "text": [
      "***** WARNING: File Th2.96hrs.UnionPeakSet.narrowPeak has inconsistent naming convention for record:\n",
      "GL456216.1\t13778\t13946\n",
      "\n",
      "***** WARNING: File Th2.96hrs.UnionPeakSet.narrowPeak has inconsistent naming convention for record:\n",
      "GL456216.1\t13778\t13946\n",
      "\n"
     ]
    }
   ],
   "source": [
    "%%bash\n",
    "module load bedtools2\n",
    "cd /data/reddylab/Revathy/collabs/Keith/Tcell/data/atac_seq/\n",
    "bedtools intersect \\\n",
    "-a Th0.72hrs.UnionPeakSet.narrowPeak \\\n",
    "-b Th2.96hrs.UnionPeakSet.narrowPeak \\\n",
    "> /data/reddylab/Revathy/collabs/Keith/Tcell/data/atac_seq/Th0_Th2.atac_seq.intersected_peaks.bed"
   ]
  },
  {
   "cell_type": "code",
   "execution_count": 2,
   "metadata": {},
   "outputs": [
    {
     "name": "stdout",
     "output_type": "stream",
     "text": [
      "53861 /data/reddylab/Revathy/collabs/Keith/Tcell/data/atac_seq/Th0_Th2.atac_seq.intersected_peaks.bed\r\n"
     ]
    }
   ],
   "source": [
    "!wc -l /data/reddylab/Revathy/collabs/Keith/Tcell/data/atac_seq/Th0_Th2.atac_seq.intersected_peaks.bed"
   ]
  },
  {
   "cell_type": "code",
   "execution_count": 5,
   "metadata": {},
   "outputs": [
    {
     "name": "stdout",
     "output_type": "stream",
     "text": [
      "Submitted batch job 26193181\n"
     ]
    }
   ],
   "source": [
    "%%bash\n",
    "cd /data/reddylab/Revathy/collabs/Keith/Tcell/data/atac_seq\n",
    "sbatch -p all \\\n",
    "    --cpus-per-task 1 \\\n",
    "    --mem 8G \\\n",
    "    -o /data/reddylab/Revathy/collabs/Keith/Tcell/logs/Th0_Th2.atac_seq.intersected_peaks.closest_gene.out \\\n",
    "    <<'EOF'\n",
    "#!/bin/bash\n",
    "SAMPLE=\"Th0_Th2.atac_seq.intersected_peaks.bed\"\n",
    "\n",
    "tail -n+2 ${SAMPLE} \\\n",
    "| cut -f1,2,3 \\\n",
    "| awk -vOFS=\"\\t\" '{print $1, $2, $3, $1\"_\"$2\"_\"$3}' \\\n",
    "| sort -k1,1 -k2,2n \\\n",
    "| bedtools closest \\\n",
    "    -nonamecheck \\\n",
    "    -D a \\\n",
    "    -a - \\\n",
    "    -b /data/reddylab/Revathy/collabs/Keith/data/annotation_files/gencode.vM19.basic.annotation.TSS.bed \\\n",
    "| awk -vOFS=\"\\t\" \\\n",
    "    '{if(last==$4){genes=$11\",\"genes;}else{if(genes){print peak, genes, distance}peak=$4; genes=$11; distance=$13; last=peak}}END{if(last==$4){genes=$11\",\"genes;print peak, genes, distance}}' \\\n",
    "> ${SAMPLE/.bed/.gencode_closest_gene.txt}\n",
    "\n",
    "EOF"
   ]
  },
  {
   "cell_type": "code",
   "execution_count": 6,
   "metadata": {},
   "outputs": [
    {
     "name": "stdout",
     "output_type": "stream",
     "text": [
      "14760\n"
     ]
    }
   ],
   "source": [
    "%%bash\n",
    "awk '{ if ($3 >= -3000 && $3 <= 3000) print $1}' /data/reddylab/Revathy/collabs/Keith/Tcell/data/atac_seq/Th0_Th2.atac_seq.intersected_peaks.gencode_closest_gene.txt | wc -l"
   ]
  },
  {
   "cell_type": "code",
   "execution_count": 7,
   "metadata": {},
   "outputs": [
    {
     "name": "stderr",
     "output_type": "stream",
     "text": [
      "***** WARNING: File Th17.72hrs.UnionPeakSet.narrowPeak has inconsistent naming convention for record:\n",
      "GL456216.1\t15706\t17696\n",
      "\n",
      "***** WARNING: File Th17.72hrs.UnionPeakSet.narrowPeak has inconsistent naming convention for record:\n",
      "GL456216.1\t15706\t17696\n",
      "\n"
     ]
    }
   ],
   "source": [
    "%%bash\n",
    "module load bedtools2\n",
    "cd /data/reddylab/Revathy/collabs/Keith/Tcell/data/atac_seq/\n",
    "bedtools intersect \\\n",
    "-a Th0.72hrs.UnionPeakSet.narrowPeak \\\n",
    "-b Th17.72hrs.UnionPeakSet.narrowPeak \\\n",
    "> /data/reddylab/Revathy/collabs/Keith/Tcell/data/atac_seq/Th0_Th17.atac_seq.intersected_peaks.bed"
   ]
  },
  {
   "cell_type": "code",
   "execution_count": 8,
   "metadata": {},
   "outputs": [
    {
     "name": "stdout",
     "output_type": "stream",
     "text": [
      "72323 /data/reddylab/Revathy/collabs/Keith/Tcell/data/atac_seq/Th0_Th17.atac_seq.intersected_peaks.bed\r\n"
     ]
    }
   ],
   "source": [
    "!wc -l /data/reddylab/Revathy/collabs/Keith/Tcell/data/atac_seq/Th0_Th17.atac_seq.intersected_peaks.bed"
   ]
  },
  {
   "cell_type": "code",
   "execution_count": 13,
   "metadata": {},
   "outputs": [
    {
     "name": "stdout",
     "output_type": "stream",
     "text": [
      "Submitted batch job 26193235\n"
     ]
    }
   ],
   "source": [
    "%%bash\n",
    "cd /data/reddylab/Revathy/collabs/Keith/Tcell/data/atac_seq\n",
    "sbatch -p all \\\n",
    "    --cpus-per-task 1 \\\n",
    "    --mem 8G \\\n",
    "    -o /data/reddylab/Revathy/collabs/Keith/Tcell/logs/Th0_Th17.atac_seq.intersected_peaks.closest_gene.out \\\n",
    "    <<'EOF'\n",
    "#!/bin/bash\n",
    "SAMPLE=\"Th0_Th17.atac_seq.intersected_peaks.bed\"\n",
    "\n",
    "tail -n+2 ${SAMPLE} \\\n",
    "| cut -f1,2,3 \\\n",
    "| awk -vOFS=\"\\t\" '{print $1, $2, $3, $1\"_\"$2\"_\"$3}' \\\n",
    "| sort -k1,1 -k2,2n \\\n",
    "| bedtools closest \\\n",
    "    -nonamecheck \\\n",
    "    -D a \\\n",
    "    -a - \\\n",
    "    -b /data/reddylab/Revathy/collabs/Keith/data/annotation_files/gencode.vM19.basic.annotation.TSS.bed \\\n",
    "| awk -vOFS=\"\\t\" \\\n",
    "    '{if(last==$4){genes=$11\",\"genes;}else{if(genes){print peak, genes, distance}peak=$4; genes=$11; distance=$13; last=peak}}END{if(last==$4){genes=$11\",\"genes;print peak, genes, distance}}' \\\n",
    "> ${SAMPLE/.bed/.gencode_closest_gene.txt}\n",
    "\n",
    "EOF"
   ]
  },
  {
   "cell_type": "code",
   "execution_count": 14,
   "metadata": {},
   "outputs": [
    {
     "name": "stdout",
     "output_type": "stream",
     "text": [
      "15872\n"
     ]
    }
   ],
   "source": [
    "%%bash\n",
    "awk '{ if ($3 >= -3000 && $3 <= 3000) print $1}' /data/reddylab/Revathy/collabs/Keith/Tcell/data/atac_seq/Th0_Th17.atac_seq.intersected_peaks.gencode_closest_gene.txt | wc -l\n"
   ]
  },
  {
   "cell_type": "code",
   "execution_count": 15,
   "metadata": {},
   "outputs": [
    {
     "name": "stderr",
     "output_type": "stream",
     "text": [
      "***** WARNING: File Treg.72hrs.UnionPeakSet.narrowPeak has inconsistent naming convention for record:\n",
      "GL456216.1\t15676\t17541\n",
      "\n",
      "***** WARNING: File Treg.72hrs.UnionPeakSet.narrowPeak has inconsistent naming convention for record:\n",
      "GL456216.1\t15676\t17541\n",
      "\n"
     ]
    }
   ],
   "source": [
    "%%bash\n",
    "module load bedtools2\n",
    "cd /data/reddylab/Revathy/collabs/Keith/Tcell/data/atac_seq/\n",
    "bedtools intersect \\\n",
    "-a Th0.72hrs.UnionPeakSet.narrowPeak \\\n",
    "-b Treg.72hrs.UnionPeakSet.narrowPeak \\\n",
    "> /data/reddylab/Revathy/collabs/Keith/Tcell/data/atac_seq/Th0_Treg.atac_seq.intersected_peaks.bed"
   ]
  },
  {
   "cell_type": "code",
   "execution_count": 16,
   "metadata": {},
   "outputs": [
    {
     "name": "stdout",
     "output_type": "stream",
     "text": [
      "67032 /data/reddylab/Revathy/collabs/Keith/Tcell/data/atac_seq/Th0_Treg.atac_seq.intersected_peaks.bed\r\n"
     ]
    }
   ],
   "source": [
    "!wc -l /data/reddylab/Revathy/collabs/Keith/Tcell/data/atac_seq/Th0_Treg.atac_seq.intersected_peaks.bed"
   ]
  },
  {
   "cell_type": "code",
   "execution_count": 17,
   "metadata": {},
   "outputs": [
    {
     "name": "stdout",
     "output_type": "stream",
     "text": [
      "Submitted batch job 26193268\n"
     ]
    }
   ],
   "source": [
    "%%bash\n",
    "cd /data/reddylab/Revathy/collabs/Keith/Tcell/data/atac_seq\n",
    "sbatch -p all \\\n",
    "    --cpus-per-task 1 \\\n",
    "    --mem 8G \\\n",
    "    -o /data/reddylab/Revathy/collabs/Keith/Tcell/logs/Th0_Treg.atac_seq.intersected_peaks.closest_gene.out \\\n",
    "    <<'EOF'\n",
    "#!/bin/bash\n",
    "SAMPLE=\"Th0_Treg.atac_seq.intersected_peaks.bed\"\n",
    "\n",
    "tail -n+2 ${SAMPLE} \\\n",
    "| cut -f1,2,3 \\\n",
    "| awk -vOFS=\"\\t\" '{print $1, $2, $3, $1\"_\"$2\"_\"$3}' \\\n",
    "| sort -k1,1 -k2,2n \\\n",
    "| bedtools closest \\\n",
    "    -nonamecheck \\\n",
    "    -D a \\\n",
    "    -a - \\\n",
    "    -b /data/reddylab/Revathy/collabs/Keith/data/annotation_files/gencode.vM19.basic.annotation.TSS.bed \\\n",
    "| awk -vOFS=\"\\t\" \\\n",
    "    '{if(last==$4){genes=$11\",\"genes;}else{if(genes){print peak, genes, distance}peak=$4; genes=$11; distance=$13; last=peak}}END{if(last==$4){genes=$11\",\"genes;print peak, genes, distance}}' \\\n",
    "> ${SAMPLE/.bed/.gencode_closest_gene.txt}\n",
    "\n",
    "EOF"
   ]
  },
  {
   "cell_type": "code",
   "execution_count": 18,
   "metadata": {},
   "outputs": [
    {
     "name": "stdout",
     "output_type": "stream",
     "text": [
      "15506\n"
     ]
    }
   ],
   "source": [
    "%%bash\n",
    "awk '{ if ($3 >= -3000 && $3 <= 3000) print $1}' /data/reddylab/Revathy/collabs/Keith/Tcell/data/atac_seq/Th0_Treg.atac_seq.intersected_peaks.gencode_closest_gene.txt | wc -l\n"
   ]
  },
  {
   "cell_type": "code",
   "execution_count": null,
   "metadata": {},
   "outputs": [],
   "source": []
  }
 ],
 "metadata": {
  "kernelspec": {
   "display_name": "Python3 (revathy)",
   "language": "python",
   "name": "revathy_py3"
  },
  "language_info": {
   "codemirror_mode": {
    "name": "ipython",
    "version": 3
   },
   "file_extension": ".py",
   "mimetype": "text/x-python",
   "name": "python",
   "nbconvert_exporter": "python",
   "pygments_lexer": "ipython3",
   "version": "3.5.4"
  }
 },
 "nbformat": 4,
 "nbformat_minor": 2
}
