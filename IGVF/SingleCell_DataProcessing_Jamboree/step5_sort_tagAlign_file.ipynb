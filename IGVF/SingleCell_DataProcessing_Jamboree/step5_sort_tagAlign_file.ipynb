{
 "cells": [
  {
   "cell_type": "code",
   "execution_count": 1,
   "metadata": {},
   "outputs": [],
   "source": [
    "# step 5 - run bed tools"
   ]
  },
  {
   "cell_type": "code",
   "execution_count": 2,
   "metadata": {},
   "outputs": [
    {
     "name": "stdout",
     "output_type": "stream",
     "text": [
      "/Users/eilaarich-landkof-stanford/Documents/Code/git_kundaje_genomics/DNA/ATAC/single-cell/fragments-file-manipulation/synapse_in_out\n"
     ]
    }
   ],
   "source": [
    "# sort tagAlign file\n",
    "# install bedtools:\n",
    "# conda install -c bioconda bedtools\n",
    "# conda install -c bioconda htslib\n",
    "\n",
    "!pwd"
   ]
  },
  {
   "cell_type": "code",
   "execution_count": 23,
   "metadata": {},
   "outputs": [],
   "source": [
    "%%bash\n",
    "cat /data/reddylab/Reference_Data/Genomes/hg38/encode.hg38.chrom.sizes \\\n",
    "> /data/gersbachlab/Revathy/IGVF/Jamboree/SingleCellData/notebooks/chrom_sizes_file/encode.hg38.chrom.sizes"
   ]
  },
  {
   "cell_type": "code",
   "execution_count": 5,
   "metadata": {},
   "outputs": [],
   "source": [
    "clusters_fld = \"clusters\""
   ]
  },
  {
   "cell_type": "code",
   "execution_count": 2,
   "metadata": {},
   "outputs": [
    {
     "name": "stdout",
     "output_type": "stream",
     "text": [
      "local_chrom_sizes_file_path is /gpfs/fs1/data/gersbachlab/Revathy/IGVF/Jamboree/SingleCellData/notebooks/chrom_sizes_file/encode.hg38.chrom.sizes\n",
      "Nothing to download. local_chrom_sizes_file_path /gpfs/fs1/data/gersbachlab/Revathy/IGVF/Jamboree/SingleCellData/notebooks/chrom_sizes_file/encode.hg38.chrom.sizes exists\n"
     ]
    }
   ],
   "source": [
    "import os\n",
    "chrom_sizes_fld = \"chrom_sizes_file\"\n",
    "os.makedirs(chrom_sizes_fld,exist_ok=True)\n",
    "# TODO: change it to your relevant chromosome size\n",
    "gs_chrom_sizes_file_path = \"/data/reddylab/Revathy/ref_data/encode.hg38.chrom.sizes\"\n",
    "local_chrom_sizes_file_path = os.path.join(os.getcwd(),chrom_sizes_fld,os.path.basename(gs_chrom_sizes_file_path))\n",
    "print(\"local_chrom_sizes_file_path is {}\".format(local_chrom_sizes_file_path))\n",
    "# download the relevant chormosome for your needs:\n",
    "if (os.path.exists(local_chrom_sizes_file_path) == False):\n",
    "    !gsutil cp $gs_chrom_sizes_file_path $local_chrom_sizes_file_path\n",
    "else:\n",
    "    print(\"Nothing to download. local_chrom_sizes_file_path {} exists\".format(local_chrom_sizes_file_path))\n"
   ]
  },
  {
   "cell_type": "code",
   "execution_count": 3,
   "metadata": {},
   "outputs": [
    {
     "name": "stdout",
     "output_type": "stream",
     "text": [
      "sorted file: /gpfs/fs1/data/gersbachlab/Revathy/IGVF/Jamboree/SingleCellData/notebooks/chrom_sizes_file/encode.hg38.chrom.sizes.sorted.tsv is available\n"
     ]
    }
   ],
   "source": [
    "# this one is only for validation. it is not being used to generate the tagAlign file\n",
    "import pandas as pd\n",
    "local_sorted_chrom_sizes_file_path = local_chrom_sizes_file_path.split(\".tsv\")[0]+\".sorted.tsv\"\n",
    "sorted_df = None\n",
    "if os.path.exists(local_sorted_chrom_sizes_file_path) == False:\n",
    "    # Step 1: Load the chromosome size file into a DataFrame\n",
    "    df = pd.read_csv(local_chrom_sizes_file_path,sep=\"\\t\", header=None)\n",
    "    print(\"df before sort is {}\".format(df.head()))\n",
    "    # Step 2: Sort the DataFrame by the second column\n",
    "    sorted_df = df.sort_values(by=df.columns[1])\n",
    "    # print(\"df after sort is {}\".format(sorted_df.head())\n",
    "    \n",
    "    # Step 3: Save the sorted DataFrame to a new TSV file\n",
    "    output_file_path = local_chrom_sizes_file_path.split(\".tsv\")[0]+\".sorted.tsv\"\n",
    "    sorted_df.to_csv(local_sorted_chrom_sizes_file_path, sep='\\t', index=False, header = False)\n",
    "    \n",
    "    # Step 4: Confirm successful save\n",
    "    print(\"Sorted DataFrame saved to {}\".format(output_file_path))\n",
    "else:\n",
    "    sorted_df = pd.read_csv(local_sorted_chrom_sizes_file_path,sep=\"\\t\", header=None)\n",
    "    print(\"sorted file: {} is available\".format(local_sorted_chrom_sizes_file_path))"
   ]
  },
  {
   "cell_type": "code",
   "execution_count": 6,
   "metadata": {},
   "outputs": [
    {
     "data": {
      "text/plain": [
       "['GerminalCenter10xATAC_GSM5051499',\n",
       " 'GerminalCenter10xATAC_GSM5051506',\n",
       " 'GerminalCenter10xATAC_GSM5051508',\n",
       " 'GM12878_10XMultiome',\n",
       " 'GerminalCenter10xATAC_GSM5051500',\n",
       " 'GerminalCenter10xATAC_GSM5051501',\n",
       " 'GerminalCenter10xATAC_GSM5051507',\n",
       " 'GerminalCenter10xATAC_combined']"
      ]
     },
     "execution_count": 6,
     "metadata": {},
     "output_type": "execute_result"
    }
   ],
   "source": [
    "import os\n",
    "list_of_folders_in_clusters = os.listdir(os.path.join(os.getcwd(),clusters_fld))\n",
    "list_of_folders_in_clusters = [x for x in list_of_folders_in_clusters if \".ipynb\" not in x and \".DS_Store\" not in x]\n",
    "list_of_folders_in_clusters"
   ]
  },
  {
   "cell_type": "code",
   "execution_count": 7,
   "metadata": {},
   "outputs": [],
   "source": [
    "import subprocess\n",
    "\n",
    "def run_bedtools_command(command):\n",
    "    try:\n",
    "        # Execute the Bedtools command and capture the output and errors\n",
    "        result = subprocess.run(command, shell=True, check=True, stdout=subprocess.PIPE, stderr=subprocess.PIPE)\n",
    "        if result.stderr:\n",
    "            print(\"Error occurred:\")\n",
    "            print(result.stderr)\n",
    "        else:\n",
    "            print(\"Output:\")\n",
    "            print(result.stdout)\n",
    "    except subprocess.CalledProcessError as e:\n",
    "        print(\"Error occurred:\")\n",
    "        print(e.stderr)\n"
   ]
  },
  {
   "cell_type": "code",
   "execution_count": 9,
   "metadata": {},
   "outputs": [],
   "source": [
    "# list_of_folders_in_clusters=['ENCSR023FME'] # debug\n",
    "# list_of_folders_in_clusters"
   ]
  },
  {
   "cell_type": "code",
   "execution_count": 10,
   "metadata": {},
   "outputs": [],
   "source": [
    "# \"tagAlign_\" in f and \"CellClusterAssignment\" not in f"
   ]
  },
  {
   "cell_type": "code",
   "execution_count": 11,
   "metadata": {},
   "outputs": [],
   "source": [
    "# os.listdir(os.path.join(clusters_fld,fld))"
   ]
  },
  {
   "cell_type": "code",
   "execution_count": 8,
   "metadata": {},
   "outputs": [
    {
     "data": {
      "text/plain": [
       "['GM12878_10XMultiome', 'GerminalCenter10xATAC_combined']"
      ]
     },
     "execution_count": 8,
     "metadata": {},
     "output_type": "execute_result"
    }
   ],
   "source": [
    "list_of_folders_in_clusters = ['GM12878_10XMultiome','GerminalCenter10xATAC_combined']\n",
    "list_of_folders_in_clusters"
   ]
  },
  {
   "cell_type": "code",
   "execution_count": 9,
   "metadata": {},
   "outputs": [
    {
     "name": "stdout",
     "output_type": "stream",
     "text": [
      "\n",
      "\n",
      "f_full_path is /gpfs/fs1/data/gersbachlab/Revathy/IGVF/Jamboree/SingleCellData/notebooks/clusters/GM12878_10XMultiome/GM12878_10XMultiome_ClusterMetadata.tsv\n",
      "\n",
      "\n",
      "!!!Will not run bedtools for file: /gpfs/fs1/data/gersbachlab/Revathy/IGVF/Jamboree/SingleCellData/notebooks/clusters/GM12878_10XMultiome/GM12878_10XMultiome_ClusterMetadata.tsv\n",
      "\n",
      "\n",
      "f_full_path is /gpfs/fs1/data/gersbachlab/Revathy/IGVF/Jamboree/SingleCellData/notebooks/clusters/GM12878_10XMultiome/tagAlign_GM12878_10XMultiome_GM12878_10XMultiome.tsv\n",
      "*****run bedtools for /gpfs/fs1/data/gersbachlab/Revathy/IGVF/Jamboree/SingleCellData/notebooks/clusters/GM12878_10XMultiome/tagAlign_GM12878_10XMultiome_GM12878_10XMultiome.tsv\n",
      "#####output_sorted_tagAlign_gz /gpfs/fs1/data/gersbachlab/Revathy/IGVF/Jamboree/SingleCellData/notebooks/clusters/GM12878_10XMultiome/tagAlign_GM12878_10XMultiome_GM12878_10XMultiome.tsv exists. continue\n",
      "\n",
      "\n",
      "f_full_path is /gpfs/fs1/data/gersbachlab/Revathy/IGVF/Jamboree/SingleCellData/notebooks/clusters/GerminalCenter10xATAC_combined/tagAlign_GerminalCenter10xATAC_Tcm_CD8.tsv\n",
      "*****run bedtools for /gpfs/fs1/data/gersbachlab/Revathy/IGVF/Jamboree/SingleCellData/notebooks/clusters/GerminalCenter10xATAC_combined/tagAlign_GerminalCenter10xATAC_Tcm_CD8.tsv\n",
      "bedtools_command is bedtools sort -i /gpfs/fs1/data/gersbachlab/Revathy/IGVF/Jamboree/SingleCellData/notebooks/clusters/GerminalCenter10xATAC_combined/tagAlign_GerminalCenter10xATAC_Tcm_CD8.tsv -g /gpfs/fs1/data/gersbachlab/Revathy/IGVF/Jamboree/SingleCellData/notebooks/chrom_sizes_file/encode.hg38.chrom.sizes | bgzip -c > /gpfs/fs1/data/gersbachlab/Revathy/IGVF/Jamboree/SingleCellData/notebooks/clusters/GerminalCenter10xATAC_combined/sort_tagAlign_GerminalCenter10xATAC_Tcm_CD8/tagAlign_GerminalCenter10xATAC_Tcm_CD8.sorted.tagAlign.gz && tabix -p bed /gpfs/fs1/data/gersbachlab/Revathy/IGVF/Jamboree/SingleCellData/notebooks/clusters/GerminalCenter10xATAC_combined/sort_tagAlign_GerminalCenter10xATAC_Tcm_CD8/tagAlign_GerminalCenter10xATAC_Tcm_CD8.sorted.tagAlign.gz\n",
      "Error occurred:\n",
      "b'/bin/sh: bgzip: command not found\\n\\n*****ERROR: Unrecognized parameter: -g *****\\n\\n\\n*****ERROR: Unrecognized parameter: /gpfs/fs1/data/gersbachlab/Revathy/IGVF/Jamboree/SingleCellData/notebooks/chrom_sizes_file/encode.hg38.chrom.sizes *****\\n\\n\\nTool:    bedtools sort (aka sortBed)\\nVersion: v2.26.0\\nSummary: Sorts a feature file in various and useful ways.\\n\\nUsage:   bedtools sort [OPTIONS] -i <bed/gff/vcf>\\n\\nOptions: \\n\\t-sizeA\\t\\t\\tSort by feature size in ascending order.\\n\\t-sizeD\\t\\t\\tSort by feature size in descending order.\\n\\t-chrThenSizeA\\t\\tSort by chrom (asc), then feature size (asc).\\n\\t-chrThenSizeD\\t\\tSort by chrom (asc), then feature size (desc).\\n\\t-chrThenScoreA\\t\\tSort by chrom (asc), then score (asc).\\n\\t-chrThenScoreD\\t\\tSort by chrom (asc), then score (desc).\\n\\t-faidx (names.txt)\\tSort according to the chromosomes declared in \"names.txt\"\\n\\t-header\\tPrint the header from the A file prior to results.\\n\\n'\n",
      "\n",
      "\n",
      "f_full_path is /gpfs/fs1/data/gersbachlab/Revathy/IGVF/Jamboree/SingleCellData/notebooks/clusters/GerminalCenter10xATAC_combined/tagAlign_GerminalCenter10xATAC_DZ_GC.tsv\n",
      "*****run bedtools for /gpfs/fs1/data/gersbachlab/Revathy/IGVF/Jamboree/SingleCellData/notebooks/clusters/GerminalCenter10xATAC_combined/tagAlign_GerminalCenter10xATAC_DZ_GC.tsv\n",
      "bedtools_command is bedtools sort -i /gpfs/fs1/data/gersbachlab/Revathy/IGVF/Jamboree/SingleCellData/notebooks/clusters/GerminalCenter10xATAC_combined/tagAlign_GerminalCenter10xATAC_DZ_GC.tsv -g /gpfs/fs1/data/gersbachlab/Revathy/IGVF/Jamboree/SingleCellData/notebooks/chrom_sizes_file/encode.hg38.chrom.sizes | bgzip -c > /gpfs/fs1/data/gersbachlab/Revathy/IGVF/Jamboree/SingleCellData/notebooks/clusters/GerminalCenter10xATAC_combined/sort_tagAlign_GerminalCenter10xATAC_DZ_GC/tagAlign_GerminalCenter10xATAC_DZ_GC.sorted.tagAlign.gz && tabix -p bed /gpfs/fs1/data/gersbachlab/Revathy/IGVF/Jamboree/SingleCellData/notebooks/clusters/GerminalCenter10xATAC_combined/sort_tagAlign_GerminalCenter10xATAC_DZ_GC/tagAlign_GerminalCenter10xATAC_DZ_GC.sorted.tagAlign.gz\n",
      "Error occurred:\n",
      "b'/bin/sh: bgzip: command not found\\n\\n*****ERROR: Unrecognized parameter: -g *****\\n\\n\\n*****ERROR: Unrecognized parameter: /gpfs/fs1/data/gersbachlab/Revathy/IGVF/Jamboree/SingleCellData/notebooks/chrom_sizes_file/encode.hg38.chrom.sizes *****\\n\\n\\nTool:    bedtools sort (aka sortBed)\\nVersion: v2.26.0\\nSummary: Sorts a feature file in various and useful ways.\\n\\nUsage:   bedtools sort [OPTIONS] -i <bed/gff/vcf>\\n\\nOptions: \\n\\t-sizeA\\t\\t\\tSort by feature size in ascending order.\\n\\t-sizeD\\t\\t\\tSort by feature size in descending order.\\n\\t-chrThenSizeA\\t\\tSort by chrom (asc), then feature size (asc).\\n\\t-chrThenSizeD\\t\\tSort by chrom (asc), then feature size (desc).\\n\\t-chrThenScoreA\\t\\tSort by chrom (asc), then score (asc).\\n\\t-chrThenScoreD\\t\\tSort by chrom (asc), then score (desc).\\n\\t-faidx (names.txt)\\tSort according to the chromosomes declared in \"names.txt\"\\n\\t-header\\tPrint the header from the A file prior to results.\\n\\n'\n",
      "\n",
      "\n",
      "f_full_path is /gpfs/fs1/data/gersbachlab/Revathy/IGVF/Jamboree/SingleCellData/notebooks/clusters/GerminalCenter10xATAC_combined/tagAlign_GerminalCenter10xATAC_Activated_B.tsv\n",
      "*****run bedtools for /gpfs/fs1/data/gersbachlab/Revathy/IGVF/Jamboree/SingleCellData/notebooks/clusters/GerminalCenter10xATAC_combined/tagAlign_GerminalCenter10xATAC_Activated_B.tsv\n",
      "bedtools_command is bedtools sort -i /gpfs/fs1/data/gersbachlab/Revathy/IGVF/Jamboree/SingleCellData/notebooks/clusters/GerminalCenter10xATAC_combined/tagAlign_GerminalCenter10xATAC_Activated_B.tsv -g /gpfs/fs1/data/gersbachlab/Revathy/IGVF/Jamboree/SingleCellData/notebooks/chrom_sizes_file/encode.hg38.chrom.sizes | bgzip -c > /gpfs/fs1/data/gersbachlab/Revathy/IGVF/Jamboree/SingleCellData/notebooks/clusters/GerminalCenter10xATAC_combined/sort_tagAlign_GerminalCenter10xATAC_Activated_B/tagAlign_GerminalCenter10xATAC_Activated_B.sorted.tagAlign.gz && tabix -p bed /gpfs/fs1/data/gersbachlab/Revathy/IGVF/Jamboree/SingleCellData/notebooks/clusters/GerminalCenter10xATAC_combined/sort_tagAlign_GerminalCenter10xATAC_Activated_B/tagAlign_GerminalCenter10xATAC_Activated_B.sorted.tagAlign.gz\n",
      "Error occurred:\n",
      "b'/bin/sh: bgzip: command not found\\n\\n*****ERROR: Unrecognized parameter: -g *****\\n\\n\\n*****ERROR: Unrecognized parameter: /gpfs/fs1/data/gersbachlab/Revathy/IGVF/Jamboree/SingleCellData/notebooks/chrom_sizes_file/encode.hg38.chrom.sizes *****\\n\\n\\nTool:    bedtools sort (aka sortBed)\\nVersion: v2.26.0\\nSummary: Sorts a feature file in various and useful ways.\\n\\nUsage:   bedtools sort [OPTIONS] -i <bed/gff/vcf>\\n\\nOptions: \\n\\t-sizeA\\t\\t\\tSort by feature size in ascending order.\\n\\t-sizeD\\t\\t\\tSort by feature size in descending order.\\n\\t-chrThenSizeA\\t\\tSort by chrom (asc), then feature size (asc).\\n\\t-chrThenSizeD\\t\\tSort by chrom (asc), then feature size (desc).\\n\\t-chrThenScoreA\\t\\tSort by chrom (asc), then score (asc).\\n\\t-chrThenScoreD\\t\\tSort by chrom (asc), then score (desc).\\n\\t-faidx (names.txt)\\tSort according to the chromosomes declared in \"names.txt\"\\n\\t-header\\tPrint the header from the A file prior to results.\\n\\n'\n",
      "\n",
      "\n",
      "f_full_path is /gpfs/fs1/data/gersbachlab/Revathy/IGVF/Jamboree/SingleCellData/notebooks/clusters/GerminalCenter10xATAC_combined/tagAlign_GerminalCenter10xATAC_Dendritic.tsv\n",
      "*****run bedtools for /gpfs/fs1/data/gersbachlab/Revathy/IGVF/Jamboree/SingleCellData/notebooks/clusters/GerminalCenter10xATAC_combined/tagAlign_GerminalCenter10xATAC_Dendritic.tsv\n",
      "bedtools_command is bedtools sort -i /gpfs/fs1/data/gersbachlab/Revathy/IGVF/Jamboree/SingleCellData/notebooks/clusters/GerminalCenter10xATAC_combined/tagAlign_GerminalCenter10xATAC_Dendritic.tsv -g /gpfs/fs1/data/gersbachlab/Revathy/IGVF/Jamboree/SingleCellData/notebooks/chrom_sizes_file/encode.hg38.chrom.sizes | bgzip -c > /gpfs/fs1/data/gersbachlab/Revathy/IGVF/Jamboree/SingleCellData/notebooks/clusters/GerminalCenter10xATAC_combined/sort_tagAlign_GerminalCenter10xATAC_Dendritic/tagAlign_GerminalCenter10xATAC_Dendritic.sorted.tagAlign.gz && tabix -p bed /gpfs/fs1/data/gersbachlab/Revathy/IGVF/Jamboree/SingleCellData/notebooks/clusters/GerminalCenter10xATAC_combined/sort_tagAlign_GerminalCenter10xATAC_Dendritic/tagAlign_GerminalCenter10xATAC_Dendritic.sorted.tagAlign.gz\n",
      "Error occurred:\n",
      "b'/bin/sh: bgzip: command not found\\n\\n*****ERROR: Unrecognized parameter: -g *****\\n\\n\\n*****ERROR: Unrecognized parameter: /gpfs/fs1/data/gersbachlab/Revathy/IGVF/Jamboree/SingleCellData/notebooks/chrom_sizes_file/encode.hg38.chrom.sizes *****\\n\\n\\nTool:    bedtools sort (aka sortBed)\\nVersion: v2.26.0\\nSummary: Sorts a feature file in various and useful ways.\\n\\nUsage:   bedtools sort [OPTIONS] -i <bed/gff/vcf>\\n\\nOptions: \\n\\t-sizeA\\t\\t\\tSort by feature size in ascending order.\\n\\t-sizeD\\t\\t\\tSort by feature size in descending order.\\n\\t-chrThenSizeA\\t\\tSort by chrom (asc), then feature size (asc).\\n\\t-chrThenSizeD\\t\\tSort by chrom (asc), then feature size (desc).\\n\\t-chrThenScoreA\\t\\tSort by chrom (asc), then score (asc).\\n\\t-chrThenScoreD\\t\\tSort by chrom (asc), then score (desc).\\n\\t-faidx (names.txt)\\tSort according to the chromosomes declared in \"names.txt\"\\n\\t-header\\tPrint the header from the A file prior to results.\\n\\n'\n",
      "\n",
      "\n",
      "f_full_path is /gpfs/fs1/data/gersbachlab/Revathy/IGVF/Jamboree/SingleCellData/notebooks/clusters/GerminalCenter10xATAC_combined/GerminalCenter10xATAC_combined_ClusterMetadata.tsv\n",
      "\n",
      "\n",
      "!!!Will not run bedtools for file: /gpfs/fs1/data/gersbachlab/Revathy/IGVF/Jamboree/SingleCellData/notebooks/clusters/GerminalCenter10xATAC_combined/GerminalCenter10xATAC_combined_ClusterMetadata.tsv\n",
      "\n",
      "\n",
      "f_full_path is /gpfs/fs1/data/gersbachlab/Revathy/IGVF/Jamboree/SingleCellData/notebooks/clusters/GerminalCenter10xATAC_combined/tagAlign_GerminalCenter10xATAC_Plasmablasts.tsv\n",
      "*****run bedtools for /gpfs/fs1/data/gersbachlab/Revathy/IGVF/Jamboree/SingleCellData/notebooks/clusters/GerminalCenter10xATAC_combined/tagAlign_GerminalCenter10xATAC_Plasmablasts.tsv\n",
      "bedtools_command is bedtools sort -i /gpfs/fs1/data/gersbachlab/Revathy/IGVF/Jamboree/SingleCellData/notebooks/clusters/GerminalCenter10xATAC_combined/tagAlign_GerminalCenter10xATAC_Plasmablasts.tsv -g /gpfs/fs1/data/gersbachlab/Revathy/IGVF/Jamboree/SingleCellData/notebooks/chrom_sizes_file/encode.hg38.chrom.sizes | bgzip -c > /gpfs/fs1/data/gersbachlab/Revathy/IGVF/Jamboree/SingleCellData/notebooks/clusters/GerminalCenter10xATAC_combined/sort_tagAlign_GerminalCenter10xATAC_Plasmablasts/tagAlign_GerminalCenter10xATAC_Plasmablasts.sorted.tagAlign.gz && tabix -p bed /gpfs/fs1/data/gersbachlab/Revathy/IGVF/Jamboree/SingleCellData/notebooks/clusters/GerminalCenter10xATAC_combined/sort_tagAlign_GerminalCenter10xATAC_Plasmablasts/tagAlign_GerminalCenter10xATAC_Plasmablasts.sorted.tagAlign.gz\n",
      "Error occurred:\n",
      "b'/bin/sh: bgzip: command not found\\n\\n*****ERROR: Unrecognized parameter: -g *****\\n\\n\\n*****ERROR: Unrecognized parameter: /gpfs/fs1/data/gersbachlab/Revathy/IGVF/Jamboree/SingleCellData/notebooks/chrom_sizes_file/encode.hg38.chrom.sizes *****\\n\\n\\nTool:    bedtools sort (aka sortBed)\\nVersion: v2.26.0\\nSummary: Sorts a feature file in various and useful ways.\\n\\nUsage:   bedtools sort [OPTIONS] -i <bed/gff/vcf>\\n\\nOptions: \\n\\t-sizeA\\t\\t\\tSort by feature size in ascending order.\\n\\t-sizeD\\t\\t\\tSort by feature size in descending order.\\n\\t-chrThenSizeA\\t\\tSort by chrom (asc), then feature size (asc).\\n\\t-chrThenSizeD\\t\\tSort by chrom (asc), then feature size (desc).\\n\\t-chrThenScoreA\\t\\tSort by chrom (asc), then score (asc).\\n\\t-chrThenScoreD\\t\\tSort by chrom (asc), then score (desc).\\n\\t-faidx (names.txt)\\tSort according to the chromosomes declared in \"names.txt\"\\n\\t-header\\tPrint the header from the A file prior to results.\\n\\n'\n",
      "\n",
      "\n",
      "f_full_path is /gpfs/fs1/data/gersbachlab/Revathy/IGVF/Jamboree/SingleCellData/notebooks/clusters/GerminalCenter10xATAC_combined/tagAlign_GerminalCenter10xATAC_MBC.tsv\n",
      "*****run bedtools for /gpfs/fs1/data/gersbachlab/Revathy/IGVF/Jamboree/SingleCellData/notebooks/clusters/GerminalCenter10xATAC_combined/tagAlign_GerminalCenter10xATAC_MBC.tsv\n",
      "bedtools_command is bedtools sort -i /gpfs/fs1/data/gersbachlab/Revathy/IGVF/Jamboree/SingleCellData/notebooks/clusters/GerminalCenter10xATAC_combined/tagAlign_GerminalCenter10xATAC_MBC.tsv -g /gpfs/fs1/data/gersbachlab/Revathy/IGVF/Jamboree/SingleCellData/notebooks/chrom_sizes_file/encode.hg38.chrom.sizes | bgzip -c > /gpfs/fs1/data/gersbachlab/Revathy/IGVF/Jamboree/SingleCellData/notebooks/clusters/GerminalCenter10xATAC_combined/sort_tagAlign_GerminalCenter10xATAC_MBC/tagAlign_GerminalCenter10xATAC_MBC.sorted.tagAlign.gz && tabix -p bed /gpfs/fs1/data/gersbachlab/Revathy/IGVF/Jamboree/SingleCellData/notebooks/clusters/GerminalCenter10xATAC_combined/sort_tagAlign_GerminalCenter10xATAC_MBC/tagAlign_GerminalCenter10xATAC_MBC.sorted.tagAlign.gz\n",
      "Error occurred:\n",
      "b'/bin/sh: bgzip: command not found\\n\\n*****ERROR: Unrecognized parameter: -g *****\\n\\n\\n*****ERROR: Unrecognized parameter: /gpfs/fs1/data/gersbachlab/Revathy/IGVF/Jamboree/SingleCellData/notebooks/chrom_sizes_file/encode.hg38.chrom.sizes *****\\n\\n\\nTool:    bedtools sort (aka sortBed)\\nVersion: v2.26.0\\nSummary: Sorts a feature file in various and useful ways.\\n\\nUsage:   bedtools sort [OPTIONS] -i <bed/gff/vcf>\\n\\nOptions: \\n\\t-sizeA\\t\\t\\tSort by feature size in ascending order.\\n\\t-sizeD\\t\\t\\tSort by feature size in descending order.\\n\\t-chrThenSizeA\\t\\tSort by chrom (asc), then feature size (asc).\\n\\t-chrThenSizeD\\t\\tSort by chrom (asc), then feature size (desc).\\n\\t-chrThenScoreA\\t\\tSort by chrom (asc), then score (asc).\\n\\t-chrThenScoreD\\t\\tSort by chrom (asc), then score (desc).\\n\\t-faidx (names.txt)\\tSort according to the chromosomes declared in \"names.txt\"\\n\\t-header\\tPrint the header from the A file prior to results.\\n\\n'\n",
      "\n",
      "\n",
      "f_full_path is /gpfs/fs1/data/gersbachlab/Revathy/IGVF/Jamboree/SingleCellData/notebooks/clusters/GerminalCenter10xATAC_combined/tagAlign_GerminalCenter10xATAC_Tcm_CD4.tsv\n",
      "*****run bedtools for /gpfs/fs1/data/gersbachlab/Revathy/IGVF/Jamboree/SingleCellData/notebooks/clusters/GerminalCenter10xATAC_combined/tagAlign_GerminalCenter10xATAC_Tcm_CD4.tsv\n",
      "bedtools_command is bedtools sort -i /gpfs/fs1/data/gersbachlab/Revathy/IGVF/Jamboree/SingleCellData/notebooks/clusters/GerminalCenter10xATAC_combined/tagAlign_GerminalCenter10xATAC_Tcm_CD4.tsv -g /gpfs/fs1/data/gersbachlab/Revathy/IGVF/Jamboree/SingleCellData/notebooks/chrom_sizes_file/encode.hg38.chrom.sizes | bgzip -c > /gpfs/fs1/data/gersbachlab/Revathy/IGVF/Jamboree/SingleCellData/notebooks/clusters/GerminalCenter10xATAC_combined/sort_tagAlign_GerminalCenter10xATAC_Tcm_CD4/tagAlign_GerminalCenter10xATAC_Tcm_CD4.sorted.tagAlign.gz && tabix -p bed /gpfs/fs1/data/gersbachlab/Revathy/IGVF/Jamboree/SingleCellData/notebooks/clusters/GerminalCenter10xATAC_combined/sort_tagAlign_GerminalCenter10xATAC_Tcm_CD4/tagAlign_GerminalCenter10xATAC_Tcm_CD4.sorted.tagAlign.gz\n",
      "Error occurred:\n",
      "b'/bin/sh: bgzip: command not found\\n\\n*****ERROR: Unrecognized parameter: -g *****\\n\\n\\n*****ERROR: Unrecognized parameter: /gpfs/fs1/data/gersbachlab/Revathy/IGVF/Jamboree/SingleCellData/notebooks/chrom_sizes_file/encode.hg38.chrom.sizes *****\\n\\n\\nTool:    bedtools sort (aka sortBed)\\nVersion: v2.26.0\\nSummary: Sorts a feature file in various and useful ways.\\n\\nUsage:   bedtools sort [OPTIONS] -i <bed/gff/vcf>\\n\\nOptions: \\n\\t-sizeA\\t\\t\\tSort by feature size in ascending order.\\n\\t-sizeD\\t\\t\\tSort by feature size in descending order.\\n\\t-chrThenSizeA\\t\\tSort by chrom (asc), then feature size (asc).\\n\\t-chrThenSizeD\\t\\tSort by chrom (asc), then feature size (desc).\\n\\t-chrThenScoreA\\t\\tSort by chrom (asc), then score (asc).\\n\\t-chrThenScoreD\\t\\tSort by chrom (asc), then score (desc).\\n\\t-faidx (names.txt)\\tSort according to the chromosomes declared in \"names.txt\"\\n\\t-header\\tPrint the header from the A file prior to results.\\n\\n'\n",
      "\n",
      "\n",
      "f_full_path is /gpfs/fs1/data/gersbachlab/Revathy/IGVF/Jamboree/SingleCellData/notebooks/clusters/GerminalCenter10xATAC_combined/tagAlign_GerminalCenter10xATAC_Myeloid.tsv\n",
      "*****run bedtools for /gpfs/fs1/data/gersbachlab/Revathy/IGVF/Jamboree/SingleCellData/notebooks/clusters/GerminalCenter10xATAC_combined/tagAlign_GerminalCenter10xATAC_Myeloid.tsv\n",
      "bedtools_command is bedtools sort -i /gpfs/fs1/data/gersbachlab/Revathy/IGVF/Jamboree/SingleCellData/notebooks/clusters/GerminalCenter10xATAC_combined/tagAlign_GerminalCenter10xATAC_Myeloid.tsv -g /gpfs/fs1/data/gersbachlab/Revathy/IGVF/Jamboree/SingleCellData/notebooks/chrom_sizes_file/encode.hg38.chrom.sizes | bgzip -c > /gpfs/fs1/data/gersbachlab/Revathy/IGVF/Jamboree/SingleCellData/notebooks/clusters/GerminalCenter10xATAC_combined/sort_tagAlign_GerminalCenter10xATAC_Myeloid/tagAlign_GerminalCenter10xATAC_Myeloid.sorted.tagAlign.gz && tabix -p bed /gpfs/fs1/data/gersbachlab/Revathy/IGVF/Jamboree/SingleCellData/notebooks/clusters/GerminalCenter10xATAC_combined/sort_tagAlign_GerminalCenter10xATAC_Myeloid/tagAlign_GerminalCenter10xATAC_Myeloid.sorted.tagAlign.gz\n",
      "Error occurred:\n",
      "b'/bin/sh: bgzip: command not found\\n\\n*****ERROR: Unrecognized parameter: -g *****\\n\\n\\n*****ERROR: Unrecognized parameter: /gpfs/fs1/data/gersbachlab/Revathy/IGVF/Jamboree/SingleCellData/notebooks/chrom_sizes_file/encode.hg38.chrom.sizes *****\\n\\n\\nTool:    bedtools sort (aka sortBed)\\nVersion: v2.26.0\\nSummary: Sorts a feature file in various and useful ways.\\n\\nUsage:   bedtools sort [OPTIONS] -i <bed/gff/vcf>\\n\\nOptions: \\n\\t-sizeA\\t\\t\\tSort by feature size in ascending order.\\n\\t-sizeD\\t\\t\\tSort by feature size in descending order.\\n\\t-chrThenSizeA\\t\\tSort by chrom (asc), then feature size (asc).\\n\\t-chrThenSizeD\\t\\tSort by chrom (asc), then feature size (desc).\\n\\t-chrThenScoreA\\t\\tSort by chrom (asc), then score (asc).\\n\\t-chrThenScoreD\\t\\tSort by chrom (asc), then score (desc).\\n\\t-faidx (names.txt)\\tSort according to the chromosomes declared in \"names.txt\"\\n\\t-header\\tPrint the header from the A file prior to results.\\n\\n'\n",
      "\n",
      "\n",
      "f_full_path is /gpfs/fs1/data/gersbachlab/Revathy/IGVF/Jamboree/SingleCellData/notebooks/clusters/GerminalCenter10xATAC_combined/tagAlign_GerminalCenter10xATAC_CTL.tsv\n",
      "*****run bedtools for /gpfs/fs1/data/gersbachlab/Revathy/IGVF/Jamboree/SingleCellData/notebooks/clusters/GerminalCenter10xATAC_combined/tagAlign_GerminalCenter10xATAC_CTL.tsv\n"
     ]
    },
    {
     "name": "stdout",
     "output_type": "stream",
     "text": [
      "bedtools_command is bedtools sort -i /gpfs/fs1/data/gersbachlab/Revathy/IGVF/Jamboree/SingleCellData/notebooks/clusters/GerminalCenter10xATAC_combined/tagAlign_GerminalCenter10xATAC_CTL.tsv -g /gpfs/fs1/data/gersbachlab/Revathy/IGVF/Jamboree/SingleCellData/notebooks/chrom_sizes_file/encode.hg38.chrom.sizes | bgzip -c > /gpfs/fs1/data/gersbachlab/Revathy/IGVF/Jamboree/SingleCellData/notebooks/clusters/GerminalCenter10xATAC_combined/sort_tagAlign_GerminalCenter10xATAC_CTL/tagAlign_GerminalCenter10xATAC_CTL.sorted.tagAlign.gz && tabix -p bed /gpfs/fs1/data/gersbachlab/Revathy/IGVF/Jamboree/SingleCellData/notebooks/clusters/GerminalCenter10xATAC_combined/sort_tagAlign_GerminalCenter10xATAC_CTL/tagAlign_GerminalCenter10xATAC_CTL.sorted.tagAlign.gz\n",
      "Error occurred:\n",
      "b'/bin/sh: bgzip: command not found\\n\\n*****ERROR: Unrecognized parameter: -g *****\\n\\n\\n*****ERROR: Unrecognized parameter: /gpfs/fs1/data/gersbachlab/Revathy/IGVF/Jamboree/SingleCellData/notebooks/chrom_sizes_file/encode.hg38.chrom.sizes *****\\n\\n\\nTool:    bedtools sort (aka sortBed)\\nVersion: v2.26.0\\nSummary: Sorts a feature file in various and useful ways.\\n\\nUsage:   bedtools sort [OPTIONS] -i <bed/gff/vcf>\\n\\nOptions: \\n\\t-sizeA\\t\\t\\tSort by feature size in ascending order.\\n\\t-sizeD\\t\\t\\tSort by feature size in descending order.\\n\\t-chrThenSizeA\\t\\tSort by chrom (asc), then feature size (asc).\\n\\t-chrThenSizeD\\t\\tSort by chrom (asc), then feature size (desc).\\n\\t-chrThenScoreA\\t\\tSort by chrom (asc), then score (asc).\\n\\t-chrThenScoreD\\t\\tSort by chrom (asc), then score (desc).\\n\\t-faidx (names.txt)\\tSort according to the chromosomes declared in \"names.txt\"\\n\\t-header\\tPrint the header from the A file prior to results.\\n\\n'\n",
      "\n",
      "\n",
      "f_full_path is /gpfs/fs1/data/gersbachlab/Revathy/IGVF/Jamboree/SingleCellData/notebooks/clusters/GerminalCenter10xATAC_combined/tagAlign_GerminalCenter10xATAC_Treg.tsv\n",
      "*****run bedtools for /gpfs/fs1/data/gersbachlab/Revathy/IGVF/Jamboree/SingleCellData/notebooks/clusters/GerminalCenter10xATAC_combined/tagAlign_GerminalCenter10xATAC_Treg.tsv\n",
      "bedtools_command is bedtools sort -i /gpfs/fs1/data/gersbachlab/Revathy/IGVF/Jamboree/SingleCellData/notebooks/clusters/GerminalCenter10xATAC_combined/tagAlign_GerminalCenter10xATAC_Treg.tsv -g /gpfs/fs1/data/gersbachlab/Revathy/IGVF/Jamboree/SingleCellData/notebooks/chrom_sizes_file/encode.hg38.chrom.sizes | bgzip -c > /gpfs/fs1/data/gersbachlab/Revathy/IGVF/Jamboree/SingleCellData/notebooks/clusters/GerminalCenter10xATAC_combined/sort_tagAlign_GerminalCenter10xATAC_Treg/tagAlign_GerminalCenter10xATAC_Treg.sorted.tagAlign.gz && tabix -p bed /gpfs/fs1/data/gersbachlab/Revathy/IGVF/Jamboree/SingleCellData/notebooks/clusters/GerminalCenter10xATAC_combined/sort_tagAlign_GerminalCenter10xATAC_Treg/tagAlign_GerminalCenter10xATAC_Treg.sorted.tagAlign.gz\n",
      "Error occurred:\n",
      "b'/bin/sh: bgzip: command not found\\n\\n*****ERROR: Unrecognized parameter: -g *****\\n\\n\\n*****ERROR: Unrecognized parameter: /gpfs/fs1/data/gersbachlab/Revathy/IGVF/Jamboree/SingleCellData/notebooks/chrom_sizes_file/encode.hg38.chrom.sizes *****\\n\\n\\nTool:    bedtools sort (aka sortBed)\\nVersion: v2.26.0\\nSummary: Sorts a feature file in various and useful ways.\\n\\nUsage:   bedtools sort [OPTIONS] -i <bed/gff/vcf>\\n\\nOptions: \\n\\t-sizeA\\t\\t\\tSort by feature size in ascending order.\\n\\t-sizeD\\t\\t\\tSort by feature size in descending order.\\n\\t-chrThenSizeA\\t\\tSort by chrom (asc), then feature size (asc).\\n\\t-chrThenSizeD\\t\\tSort by chrom (asc), then feature size (desc).\\n\\t-chrThenScoreA\\t\\tSort by chrom (asc), then score (asc).\\n\\t-chrThenScoreD\\t\\tSort by chrom (asc), then score (desc).\\n\\t-faidx (names.txt)\\tSort according to the chromosomes declared in \"names.txt\"\\n\\t-header\\tPrint the header from the A file prior to results.\\n\\n'\n",
      "\n",
      "\n",
      "f_full_path is /gpfs/fs1/data/gersbachlab/Revathy/IGVF/Jamboree/SingleCellData/notebooks/clusters/GerminalCenter10xATAC_combined/tagAlign_GerminalCenter10xATAC_LZ_GC.tsv\n",
      "*****run bedtools for /gpfs/fs1/data/gersbachlab/Revathy/IGVF/Jamboree/SingleCellData/notebooks/clusters/GerminalCenter10xATAC_combined/tagAlign_GerminalCenter10xATAC_LZ_GC.tsv\n",
      "bedtools_command is bedtools sort -i /gpfs/fs1/data/gersbachlab/Revathy/IGVF/Jamboree/SingleCellData/notebooks/clusters/GerminalCenter10xATAC_combined/tagAlign_GerminalCenter10xATAC_LZ_GC.tsv -g /gpfs/fs1/data/gersbachlab/Revathy/IGVF/Jamboree/SingleCellData/notebooks/chrom_sizes_file/encode.hg38.chrom.sizes | bgzip -c > /gpfs/fs1/data/gersbachlab/Revathy/IGVF/Jamboree/SingleCellData/notebooks/clusters/GerminalCenter10xATAC_combined/sort_tagAlign_GerminalCenter10xATAC_LZ_GC/tagAlign_GerminalCenter10xATAC_LZ_GC.sorted.tagAlign.gz && tabix -p bed /gpfs/fs1/data/gersbachlab/Revathy/IGVF/Jamboree/SingleCellData/notebooks/clusters/GerminalCenter10xATAC_combined/sort_tagAlign_GerminalCenter10xATAC_LZ_GC/tagAlign_GerminalCenter10xATAC_LZ_GC.sorted.tagAlign.gz\n",
      "Error occurred:\n",
      "b'/bin/sh: bgzip: command not found\\n\\n*****ERROR: Unrecognized parameter: -g *****\\n\\n\\n*****ERROR: Unrecognized parameter: /gpfs/fs1/data/gersbachlab/Revathy/IGVF/Jamboree/SingleCellData/notebooks/chrom_sizes_file/encode.hg38.chrom.sizes *****\\n\\n\\nTool:    bedtools sort (aka sortBed)\\nVersion: v2.26.0\\nSummary: Sorts a feature file in various and useful ways.\\n\\nUsage:   bedtools sort [OPTIONS] -i <bed/gff/vcf>\\n\\nOptions: \\n\\t-sizeA\\t\\t\\tSort by feature size in ascending order.\\n\\t-sizeD\\t\\t\\tSort by feature size in descending order.\\n\\t-chrThenSizeA\\t\\tSort by chrom (asc), then feature size (asc).\\n\\t-chrThenSizeD\\t\\tSort by chrom (asc), then feature size (desc).\\n\\t-chrThenScoreA\\t\\tSort by chrom (asc), then score (asc).\\n\\t-chrThenScoreD\\t\\tSort by chrom (asc), then score (desc).\\n\\t-faidx (names.txt)\\tSort according to the chromosomes declared in \"names.txt\"\\n\\t-header\\tPrint the header from the A file prior to results.\\n\\n'\n",
      "\n",
      "\n",
      "f_full_path is /gpfs/fs1/data/gersbachlab/Revathy/IGVF/Jamboree/SingleCellData/notebooks/clusters/GerminalCenter10xATAC_combined/tagAlign_GerminalCenter10xATAC_Naive_T.tsv\n",
      "*****run bedtools for /gpfs/fs1/data/gersbachlab/Revathy/IGVF/Jamboree/SingleCellData/notebooks/clusters/GerminalCenter10xATAC_combined/tagAlign_GerminalCenter10xATAC_Naive_T.tsv\n",
      "bedtools_command is bedtools sort -i /gpfs/fs1/data/gersbachlab/Revathy/IGVF/Jamboree/SingleCellData/notebooks/clusters/GerminalCenter10xATAC_combined/tagAlign_GerminalCenter10xATAC_Naive_T.tsv -g /gpfs/fs1/data/gersbachlab/Revathy/IGVF/Jamboree/SingleCellData/notebooks/chrom_sizes_file/encode.hg38.chrom.sizes | bgzip -c > /gpfs/fs1/data/gersbachlab/Revathy/IGVF/Jamboree/SingleCellData/notebooks/clusters/GerminalCenter10xATAC_combined/sort_tagAlign_GerminalCenter10xATAC_Naive_T/tagAlign_GerminalCenter10xATAC_Naive_T.sorted.tagAlign.gz && tabix -p bed /gpfs/fs1/data/gersbachlab/Revathy/IGVF/Jamboree/SingleCellData/notebooks/clusters/GerminalCenter10xATAC_combined/sort_tagAlign_GerminalCenter10xATAC_Naive_T/tagAlign_GerminalCenter10xATAC_Naive_T.sorted.tagAlign.gz\n",
      "Error occurred:\n",
      "b'/bin/sh: bgzip: command not found\\n\\n*****ERROR: Unrecognized parameter: -g *****\\n\\n\\n*****ERROR: Unrecognized parameter: /gpfs/fs1/data/gersbachlab/Revathy/IGVF/Jamboree/SingleCellData/notebooks/chrom_sizes_file/encode.hg38.chrom.sizes *****\\n\\n\\nTool:    bedtools sort (aka sortBed)\\nVersion: v2.26.0\\nSummary: Sorts a feature file in various and useful ways.\\n\\nUsage:   bedtools sort [OPTIONS] -i <bed/gff/vcf>\\n\\nOptions: \\n\\t-sizeA\\t\\t\\tSort by feature size in ascending order.\\n\\t-sizeD\\t\\t\\tSort by feature size in descending order.\\n\\t-chrThenSizeA\\t\\tSort by chrom (asc), then feature size (asc).\\n\\t-chrThenSizeD\\t\\tSort by chrom (asc), then feature size (desc).\\n\\t-chrThenScoreA\\t\\tSort by chrom (asc), then score (asc).\\n\\t-chrThenScoreD\\t\\tSort by chrom (asc), then score (desc).\\n\\t-faidx (names.txt)\\tSort according to the chromosomes declared in \"names.txt\"\\n\\t-header\\tPrint the header from the A file prior to results.\\n\\n'\n",
      "\n",
      "\n",
      "f_full_path is /gpfs/fs1/data/gersbachlab/Revathy/IGVF/Jamboree/SingleCellData/notebooks/clusters/GerminalCenter10xATAC_combined/tagAlign_GerminalCenter10xATAC_Naive_B.tsv\n",
      "*****run bedtools for /gpfs/fs1/data/gersbachlab/Revathy/IGVF/Jamboree/SingleCellData/notebooks/clusters/GerminalCenter10xATAC_combined/tagAlign_GerminalCenter10xATAC_Naive_B.tsv\n",
      "bedtools_command is bedtools sort -i /gpfs/fs1/data/gersbachlab/Revathy/IGVF/Jamboree/SingleCellData/notebooks/clusters/GerminalCenter10xATAC_combined/tagAlign_GerminalCenter10xATAC_Naive_B.tsv -g /gpfs/fs1/data/gersbachlab/Revathy/IGVF/Jamboree/SingleCellData/notebooks/chrom_sizes_file/encode.hg38.chrom.sizes | bgzip -c > /gpfs/fs1/data/gersbachlab/Revathy/IGVF/Jamboree/SingleCellData/notebooks/clusters/GerminalCenter10xATAC_combined/sort_tagAlign_GerminalCenter10xATAC_Naive_B/tagAlign_GerminalCenter10xATAC_Naive_B.sorted.tagAlign.gz && tabix -p bed /gpfs/fs1/data/gersbachlab/Revathy/IGVF/Jamboree/SingleCellData/notebooks/clusters/GerminalCenter10xATAC_combined/sort_tagAlign_GerminalCenter10xATAC_Naive_B/tagAlign_GerminalCenter10xATAC_Naive_B.sorted.tagAlign.gz\n",
      "Error occurred:\n",
      "b'/bin/sh: bgzip: command not found\\n\\n*****ERROR: Unrecognized parameter: -g *****\\n\\n\\n*****ERROR: Unrecognized parameter: /gpfs/fs1/data/gersbachlab/Revathy/IGVF/Jamboree/SingleCellData/notebooks/chrom_sizes_file/encode.hg38.chrom.sizes *****\\n\\n\\nTool:    bedtools sort (aka sortBed)\\nVersion: v2.26.0\\nSummary: Sorts a feature file in various and useful ways.\\n\\nUsage:   bedtools sort [OPTIONS] -i <bed/gff/vcf>\\n\\nOptions: \\n\\t-sizeA\\t\\t\\tSort by feature size in ascending order.\\n\\t-sizeD\\t\\t\\tSort by feature size in descending order.\\n\\t-chrThenSizeA\\t\\tSort by chrom (asc), then feature size (asc).\\n\\t-chrThenSizeD\\t\\tSort by chrom (asc), then feature size (desc).\\n\\t-chrThenScoreA\\t\\tSort by chrom (asc), then score (asc).\\n\\t-chrThenScoreD\\t\\tSort by chrom (asc), then score (desc).\\n\\t-faidx (names.txt)\\tSort according to the chromosomes declared in \"names.txt\"\\n\\t-header\\tPrint the header from the A file prior to results.\\n\\n'\n",
      "\n",
      "\n",
      "f_full_path is /gpfs/fs1/data/gersbachlab/Revathy/IGVF/Jamboree/SingleCellData/notebooks/clusters/GerminalCenter10xATAC_combined/tagAlign_GerminalCenter10xATAC_Tfh.tsv\n",
      "*****run bedtools for /gpfs/fs1/data/gersbachlab/Revathy/IGVF/Jamboree/SingleCellData/notebooks/clusters/GerminalCenter10xATAC_combined/tagAlign_GerminalCenter10xATAC_Tfh.tsv\n",
      "bedtools_command is bedtools sort -i /gpfs/fs1/data/gersbachlab/Revathy/IGVF/Jamboree/SingleCellData/notebooks/clusters/GerminalCenter10xATAC_combined/tagAlign_GerminalCenter10xATAC_Tfh.tsv -g /gpfs/fs1/data/gersbachlab/Revathy/IGVF/Jamboree/SingleCellData/notebooks/chrom_sizes_file/encode.hg38.chrom.sizes | bgzip -c > /gpfs/fs1/data/gersbachlab/Revathy/IGVF/Jamboree/SingleCellData/notebooks/clusters/GerminalCenter10xATAC_combined/sort_tagAlign_GerminalCenter10xATAC_Tfh/tagAlign_GerminalCenter10xATAC_Tfh.sorted.tagAlign.gz && tabix -p bed /gpfs/fs1/data/gersbachlab/Revathy/IGVF/Jamboree/SingleCellData/notebooks/clusters/GerminalCenter10xATAC_combined/sort_tagAlign_GerminalCenter10xATAC_Tfh/tagAlign_GerminalCenter10xATAC_Tfh.sorted.tagAlign.gz\n",
      "Error occurred:\n",
      "b'/bin/sh: bgzip: command not found\\n\\n*****ERROR: Unrecognized parameter: -g *****\\n\\n\\n*****ERROR: Unrecognized parameter: /gpfs/fs1/data/gersbachlab/Revathy/IGVF/Jamboree/SingleCellData/notebooks/chrom_sizes_file/encode.hg38.chrom.sizes *****\\n\\n\\nTool:    bedtools sort (aka sortBed)\\nVersion: v2.26.0\\nSummary: Sorts a feature file in various and useful ways.\\n\\nUsage:   bedtools sort [OPTIONS] -i <bed/gff/vcf>\\n\\nOptions: \\n\\t-sizeA\\t\\t\\tSort by feature size in ascending order.\\n\\t-sizeD\\t\\t\\tSort by feature size in descending order.\\n\\t-chrThenSizeA\\t\\tSort by chrom (asc), then feature size (asc).\\n\\t-chrThenSizeD\\t\\tSort by chrom (asc), then feature size (desc).\\n\\t-chrThenScoreA\\t\\tSort by chrom (asc), then score (asc).\\n\\t-chrThenScoreD\\t\\tSort by chrom (asc), then score (desc).\\n\\t-faidx (names.txt)\\tSort according to the chromosomes declared in \"names.txt\"\\n\\t-header\\tPrint the header from the A file prior to results.\\n\\n'\n"
     ]
    }
   ],
   "source": [
    "#debug\n",
    "# for fld in list_of_folders_in_clusters[0:1]:\n",
    "for fld in list_of_folders_in_clusters:\n",
    "    files_list = os.listdir(os.path.join(clusters_fld,fld))\n",
    "    files_list = [x for x in files_list if \"DS_Store\" not in x and \".ipynb\" not in x and \"sort_tagAlign_\" not in x]\n",
    "    for f in files_list:\n",
    "        # print(\"f is {}\".format(f))\n",
    "        f_full_path = os.path.join(os.getcwd(),clusters_fld,fld,f)\n",
    "        print(\"\\n\\nf_full_path is {}\".format(f_full_path))\n",
    "        if \"tagAlign_\" in f and \"stats\" not in f and \"ClusterMetadata\" not in f:\n",
    "            sort_fld = \"sort_{}\".format(f.split(\".tsv\")[0])\n",
    "            \n",
    "            print(\"*****run bedtools for {}\".format(f_full_path))\n",
    "            output_tagAlign_gz_folder = os.path.join(os.getcwd(),clusters_fld,fld,sort_fld)\n",
    "            os.makedirs(output_tagAlign_gz_folder, exist_ok=True)\n",
    "            output_sorted_tagAlign = os.path.join(output_tagAlign_gz_folder,f.split(\".tsv\")[0])+\".sorted.tagAlign\"\n",
    "            output_sorted_tagAlign_gz = output_sorted_tagAlign+\".gz\"\n",
    "            if os.path.exists(output_sorted_tagAlign_gz):\n",
    "                #####output_sorted_tagAlign_gz /Users/eilaarich-landkof-stanford/Documents/Code/git_kundaje_genomics/DNA/ATAC/single-cell/fragments-file-manipulation/synapse_in_out/clusters/ENCSR023FME/tagAlign_ENCSR023FME_Endothelial_cell.tsv exists\n",
    "                print(\"#####output_sorted_tagAlign_gz {} exists. continue\".format(f_full_path))\n",
    "                continue\n",
    "            # print(\"output_tagAlign_gz is {}\".format(output_tagAlign_gz))\n",
    "            # print(\"bedtools sort -i {} -g {} > {}\".format(f_full_path,\n",
    "            #                                               local_chrom_sizes_file_path,  #local_sorted_chrom_sizes_file_path,\n",
    "            #                                               output_tagAlign))\n",
    "\n",
    "            # bedtools sort -i input.tagalign -g chromosome_sizes.txt > output_sorted.tagalign | bgzip -c > output_sorted.tagalign.gz && tabix -p bed output_sorted.tagalign.gz\n",
    "            bedtools_command = \"bedtools sort -i {} -g {} | bgzip -c > {} && tabix -p bed {}\".format(f_full_path,\n",
    "                                                                                                     local_chrom_sizes_file_path, \n",
    "                                                                                                     output_sorted_tagAlign_gz,\n",
    "                                                                                                     output_sorted_tagAlign_gz)\n",
    "\n",
    "            print(\"bedtools_command is {}\".format(bedtools_command))\n",
    "            run_bedtools_command(bedtools_command)\n",
    "        else:\n",
    "            print(\"\\n\\n!!!Will not run bedtools for file: {}\".format(f_full_path))\n",
    "\n",
    "# from Jesse\n",
    "# bedtools sort -faidx {the IGVF chrom sizes file} {input.tagAlign} | bgzip > {output.tagAlign.gz}; tabix -p bed {output.tagAlign.gz})\n",
    "\n"
   ]
  },
  {
   "cell_type": "code",
   "execution_count": 1,
   "metadata": {},
   "outputs": [
    {
     "data": {
      "text/plain": [
       "CompletedProcess(args='bedtools sort -i /gpfs/fs1/data/gersbachlab/Revathy/IGVF/Jamboree/SingleCellData/notebooks/clusters/GM12878_10XMultiome/tagAlign_GM12878_10XMultiome_GM12878_10XMultiome.tsv -g /gpfs/fs1/data/gersbachlab/Revathy/IGVF/Jamboree/SingleCellData/notebooks/chrom_sizes_file/encode.hg38.chrom.sizes | bgzip -c > /gpfs/fs1/data/gersbachlab/Revathy/IGVF/Jamboree/SingleCellData/notebooks/clusters/GM12878_10XMultiome/sort_tagAlign_GM12878_10XMultiome_GM12878_10XMultiome/tagAlign_GM12878_10XMultiome_GM12878_10XMultiome.sorted.tagAlign.gz && tabix -p bed /gpfs/fs1/data/gersbachlab/Revathy/IGVF/Jamboree/SingleCellData/notebooks/clusters/GM12878_10XMultiome/sort_tagAlign_GM12878_10XMultiome_GM12878_10XMultiome/tagAlign_GM12878_10XMultiome_GM12878_10XMultiome.sorted.tagAlign.gz', returncode=127)"
      ]
     },
     "execution_count": 1,
     "metadata": {},
     "output_type": "execute_result"
    }
   ],
   "source": [
    "import subprocess\n",
    "\n",
    "bedtools_command=\"bedtools sort -i /gpfs/fs1/data/gersbachlab/Revathy/IGVF/Jamboree/SingleCellData/notebooks/clusters/GM12878_10XMultiome/tagAlign_GM12878_10XMultiome_GM12878_10XMultiome.tsv -g /gpfs/fs1/data/gersbachlab/Revathy/IGVF/Jamboree/SingleCellData/notebooks/chrom_sizes_file/encode.hg38.chrom.sizes | bgzip -c > /gpfs/fs1/data/gersbachlab/Revathy/IGVF/Jamboree/SingleCellData/notebooks/clusters/GM12878_10XMultiome/sort_tagAlign_GM12878_10XMultiome_GM12878_10XMultiome/tagAlign_GM12878_10XMultiome_GM12878_10XMultiome.sorted.tagAlign.gz && tabix -p bed /gpfs/fs1/data/gersbachlab/Revathy/IGVF/Jamboree/SingleCellData/notebooks/clusters/GM12878_10XMultiome/sort_tagAlign_GM12878_10XMultiome_GM12878_10XMultiome/tagAlign_GM12878_10XMultiome_GM12878_10XMultiome.sorted.tagAlign.gz\"\n",
    "subprocess.run(bedtools_command, shell=True)"
   ]
  },
  {
   "cell_type": "code",
   "execution_count": 32,
   "metadata": {},
   "outputs": [
    {
     "name": "stderr",
     "output_type": "stream",
     "text": [
      "\n",
      "*****ERROR: Unrecognized parameter: -g *****\n",
      "\n",
      "\n",
      "*****ERROR: Unrecognized parameter: /gpfs/fs1/data/gersbachlab/Revathy/IGVF/Jamboree/SingleCellData/notebooks/chrom_sizes_file/encode.hg38.chrom.sizes *****\n",
      "\n",
      "\n",
      "Tool:    bedtools sort (aka sortBed)\n",
      "Version: v2.26.0\n",
      "Summary: Sorts a feature file in various and useful ways.\n",
      "\n",
      "Usage:   bedtools sort [OPTIONS] -i <bed/gff/vcf>\n",
      "\n",
      "Options: \n",
      "\t-sizeA\t\t\tSort by feature size in ascending order.\n",
      "\t-sizeD\t\t\tSort by feature size in descending order.\n",
      "\t-chrThenSizeA\t\tSort by chrom (asc), then feature size (asc).\n",
      "\t-chrThenSizeD\t\tSort by chrom (asc), then feature size (desc).\n",
      "\t-chrThenScoreA\t\tSort by chrom (asc), then score (asc).\n",
      "\t-chrThenScoreD\t\tSort by chrom (asc), then score (desc).\n",
      "\t-faidx (names.txt)\tSort according to the chromosomes declared in \"names.txt\"\n",
      "\t-header\tPrint the header from the A file prior to results.\n",
      "\n"
     ]
    }
   ],
   "source": [
    "%%bash\n",
    "bedtools sort \\\n",
    "-i /gpfs/fs1/data/gersbachlab/Revathy/IGVF/Jamboree/SingleCellData/notebooks/clusters/GM12878_10XMultiome/tagAlign_GM12878_10XMultiome_GM12878_10XMultiome.tsv \\\n",
    "-g /gpfs/fs1/data/gersbachlab/Revathy/IGVF/Jamboree/SingleCellData/notebooks/chrom_sizes_file/encode.hg38.chrom.sizes \\\n",
    "| head"
   ]
  },
  {
   "cell_type": "code",
   "execution_count": null,
   "metadata": {},
   "outputs": [],
   "source": [
    "-g /gpfs/fs1/data/gersbachlab/Revathy/IGVF/Jamboree/SingleCellData/notebooks/chrom_sizes_file/encode.hg38.chrom.sizes | bgzip -c > /gpfs/fs1/data/gersbachlab/Revathy/IGVF/Jamboree/SingleCellData/notebooks/clusters/GM12878_10XMultiome/sort_tagAlign_GM12878_10XMultiome_GM12878_10XMultiome/tagAlign_GM12878_10XMultiome_GM12878_10XMultiome.sorted.tagAlign.gz && tabix -p bed /gpfs/fs1/data/gersbachlab/Revathy/IGVF/Jamboree/SingleCellData/notebooks/clusters/GM12878_10XMultiome/sort_tagAlign_GM12878_10XMultiome_GM12878_10XMultiome/tagAlign_GM12878_10XMultiome_GM12878_10XMultiome.sorted.tagAlign.gz"
   ]
  },
  {
   "cell_type": "code",
   "execution_count": 13,
   "metadata": {},
   "outputs": [],
   "source": [
    "# df_output_tagAlign.head()"
   ]
  },
  {
   "cell_type": "code",
   "execution_count": 14,
   "metadata": {},
   "outputs": [],
   "source": [
    "# len(first_column_values)"
   ]
  },
  {
   "cell_type": "markdown",
   "metadata": {},
   "source": [
    "# For testing purpose only"
   ]
  },
  {
   "cell_type": "code",
   "execution_count": 15,
   "metadata": {},
   "outputs": [],
   "source": [
    "# read the sorted tagAlign file and make sure that the sorting is correct\n",
    "# df_output_tagAlign = pd.read_csv(output_tagAlign,sep=\"\\t\", header=None) # works for bedtools sort -i {} -g {} > {}"
   ]
  },
  {
   "cell_type": "code",
   "execution_count": 16,
   "metadata": {},
   "outputs": [],
   "source": [
    "# first_column_values = df_output_tagAlign.iloc[:, 0]\n",
    "# first_column_values[0:4]"
   ]
  },
  {
   "cell_type": "code",
   "execution_count": 17,
   "metadata": {},
   "outputs": [],
   "source": [
    "# # test the sorting\n",
    "# for index, val in enumerate(first_column_values[1000000:1500000]): #\n",
    "#     # print(val)\n",
    "#     # print(index)\n",
    "#     next_val = first_column_values[index+1]\n",
    "#     val_chrom_size = sorted_df[sorted_df.iloc[:, 0] == val]\n",
    "#     # print(val_chrom_size)\n",
    "#     next_val_chrom_size = sorted_df[sorted_df.iloc[:, 0] == next_val]\n",
    "#     # print(next_val_chrom_size)\n",
    "#     if val_chrom_size.iloc[0][1] <= next_val_chrom_size.iloc[0][1]:\n",
    "#         continue\n",
    "#     else:\n",
    "#         print(\"bad for index {}\".format(index))"
   ]
  },
  {
   "cell_type": "code",
   "execution_count": 18,
   "metadata": {},
   "outputs": [],
   "source": [
    "# !pwd"
   ]
  },
  {
   "cell_type": "code",
   "execution_count": 19,
   "metadata": {},
   "outputs": [],
   "source": [
    "# check the output gz file\n",
    "# !zless /Users/eilaarich-landkof-stanford/Documents/Code/git_kundaje_genomics/DNA/ATAC/single-cell/fragments-file-manipulation/synapse_in_out/clusters/ENCSR023FME/sort_tagAlign_ENCSR023FME_Basal_epithelial_cell/tagAlign_ENCSR023FME_Basal_epithelial_cell.sorted.tagAlign.gz\n"
   ]
  },
  {
   "cell_type": "code",
   "execution_count": 20,
   "metadata": {},
   "outputs": [],
   "source": [
    "# tagAlign_ENCSR023FME_Basal_epithelial_cell.tsv\n",
    "\n",
    "\n"
   ]
  }
 ],
 "metadata": {
  "kernelspec": {
   "display_name": "Python3 (revathy)",
   "language": "python",
   "name": "revathy_py3"
  },
  "language_info": {
   "codemirror_mode": {
    "name": "ipython",
    "version": 3
   },
   "file_extension": ".py",
   "mimetype": "text/x-python",
   "name": "python",
   "nbconvert_exporter": "python",
   "pygments_lexer": "ipython3",
   "version": "3.5.4"
  }
 },
 "nbformat": 4,
 "nbformat_minor": 5
}
