{
 "cells": [
  {
   "cell_type": "code",
   "execution_count": 1,
   "metadata": {},
   "outputs": [],
   "source": [
    "import pandas as pd\n",
    "\n",
    "archr_tsv = pd.read_csv('/data/gersbachlab/Revathy/IGVF/Jamboree/SingleCellData/results/GM12878_10XMultiome.atac.archr.barcode_metadata.hg38.tsv', sep='\\t')\n",
    "archr_tsv[['rm', 'barcode']] = archr_tsv['barcodes'].str.split('#', 1, expand=True)\n",
    "archr_tsv.drop(columns=['barcodes','rm'], inplace=True)\n"
   ]
  },
  {
   "cell_type": "code",
   "execution_count": 2,
   "metadata": {},
   "outputs": [],
   "source": [
    "seurat_tsv = pd.read_csv('/data/gersbachlab/Revathy/IGVF/Jamboree/SingleCellData/epi-SHARE-seq-pipeline/src/jupyter_nb/GM12878_10XMultiome.rna.seurat.filtered_scaled.barcode_metadata.hg38.tsv', sep='\\t')\n"
   ]
  },
  {
   "cell_type": "code",
   "execution_count": 3,
   "metadata": {},
   "outputs": [
    {
     "data": {
      "text/plain": [
       "Index(['Sample', 'TSSEnrichment', 'ReadsInTSS', 'ReadsInPromoter',\n",
       "       'ReadsInBlacklist', 'PromoterRatio', 'PassQC_x', 'NucleosomeRatio',\n",
       "       'nMultiFrags', 'nMonoFrags', 'nFrags', 'nDiFrags', 'BlacklistRatio',\n",
       "       'DoubletScore', 'DoubletEnrichment', 'Clusters', 'lognFrags', 'barcode',\n",
       "       'orig.ident', 'nCount_RNA', 'nFeature_RNA', 'percent.mt', 'PassQC_y'],\n",
       "      dtype='object')"
      ]
     },
     "execution_count": 3,
     "metadata": {},
     "output_type": "execute_result"
    }
   ],
   "source": [
    "merge = archr_tsv.merge(seurat_tsv, on='barcode', how='inner')\n",
    "merge.columns"
   ]
  },
  {
   "cell_type": "code",
   "execution_count": 5,
   "metadata": {},
   "outputs": [
    {
     "name": "stderr",
     "output_type": "stream",
     "text": [
      "/data/reddylab/software/miniconda3/envs/revathy_py3/lib/python3.5/site-packages/pandas/core/frame.py:3778: SettingWithCopyWarning: \n",
      "A value is trying to be set on a copy of a slice from a DataFrame\n",
      "\n",
      "See the caveats in the documentation: http://pandas.pydata.org/pandas-docs/stable/indexing.html#indexing-view-versus-copy\n",
      "  return super(DataFrame, self).rename(**kwargs)\n"
     ]
    }
   ],
   "source": [
    "merge_subset = merge[['barcode','Clusters','nCount_RNA','nFeature_RNA','nFrags']]\n",
    "merge_subset.rename(columns={'nCount_RNA':'RNAUMI','nFeature_RNA':'RNAGenes','nFrags':'ATACFragments'}, inplace=True)\n",
    "merge_subset.to_csv('/data/gersbachlab/Revathy/IGVF/Jamboree/SingleCellData/results/GM12878_10XMultiome_CellClusterAssignment.tsv', sep='\\t', index=False)"
   ]
  },
  {
   "cell_type": "code",
   "execution_count": null,
   "metadata": {},
   "outputs": [],
   "source": []
  }
 ],
 "metadata": {
  "kernelspec": {
   "display_name": "Python3 (revathy)",
   "language": "python",
   "name": "revathy_py3"
  },
  "language_info": {
   "codemirror_mode": {
    "name": "ipython",
    "version": 3
   },
   "file_extension": ".py",
   "mimetype": "text/x-python",
   "name": "python",
   "nbconvert_exporter": "python",
   "pygments_lexer": "ipython3",
   "version": "3.5.4"
  }
 },
 "nbformat": 4,
 "nbformat_minor": 2
}
