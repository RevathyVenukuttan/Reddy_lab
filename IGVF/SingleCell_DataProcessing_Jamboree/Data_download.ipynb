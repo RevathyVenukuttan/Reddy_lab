{
 "cells": [
  {
   "cell_type": "code",
   "execution_count": null,
   "metadata": {},
   "outputs": [],
   "source": [
    "%%bash\n",
    "# In command line since Synapse requires to type in password...\n",
    "mkdir -p data/junke\n",
    "cd data/junke/\n",
    "synapse -u abarrera get syn24983530  \n",
    "synapse -u abarrera get syn24983531"
   ]
  },
  {
   "cell_type": "code",
   "execution_count": 1,
   "metadata": {},
   "outputs": [],
   "source": [
    "# %%bash\n",
    "# In command line since Synapse requires to type in password...\n",
    "mkdir -p /data/gersbachlab/Revathy/IGVF/Jamboree/SingleCellData/data/GM12878_Multiome\n",
    "cd /data/gersbachlab/Revathy/IGVF/Jamboree/SingleCellData/data/GM12878_Multiome\n",
    "synapse -u revathy get syn52128717"
   ]
  },
  {
   "cell_type": "code",
   "execution_count": null,
   "metadata": {},
   "outputs": [],
   "source": [
    "%%bash\n",
    "synapse_ids=(\"syn52120099\" \"syn52120092\" \"syn52120089\" \"syn52120098\" \"syn52120084\" \"syn52120090\" \"syn52120097\" \"syn52120082\" \"syn52120086\" \"syn52120095\" \"syn52120080\" \"syn52120091\" \"syn52120096\" \"syn52120072\" \"syn52120079\" \"syn52120094\" \"syn52120070\" \"syn52120076\" \"syn52120093\" \"syn52120069\" \"syn52120078\")\n",
    "for id in \"${synapse_ids[@]}\"; do   # The quotes are necessary here\n",
    "    synapse -u revathy get $id\n",
    "done"
   ]
  },
  {
   "cell_type": "code",
   "execution_count": 2,
   "metadata": {},
   "outputs": [
    {
     "name": "stdout",
     "output_type": "stream",
     "text": [
      "GM12878_10XMultiome.atac.filter.fragments.hg38.tsv.gz\r\n",
      "GM12878_10XMultiome.atac.filter.fragments.hg38.tsv.gz.tbi\r\n",
      "GM12878_10XMultiome.atac.qc.hg38.metadata.tsv\r\n",
      "GM12878_10XMultiome.joint.barcode.metadata.hg38.csv\r\n",
      "GM12878_10XMultiome.qc.rna.hg38.barcode.metadata.tsv\r\n",
      "GM12878_10XMultiome.raw.tar.gz\r\n"
     ]
    }
   ],
   "source": [
    "!ls /data/gersbachlab/Revathy/IGVF/Jamboree/SingleCellData/data/GM12878_Multiome"
   ]
  },
  {
   "cell_type": "code",
   "execution_count": 3,
   "metadata": {},
   "outputs": [
    {
     "name": "stdout",
     "output_type": "stream",
     "text": [
      "Data_download.ipynb\r\n"
     ]
    }
   ],
   "source": [
    "!ls /data/gersbachlab/Revathy/IGVF/Jamboree/SingleCellData/notebooks/"
   ]
  },
  {
   "cell_type": "code",
   "execution_count": null,
   "metadata": {},
   "outputs": [],
   "source": []
  }
 ],
 "metadata": {
  "kernelspec": {
   "display_name": "Python3 (revathy)",
   "language": "python",
   "name": "revathy_py3"
  },
  "language_info": {
   "codemirror_mode": {
    "name": "ipython",
    "version": 3
   },
   "file_extension": ".py",
   "mimetype": "text/x-python",
   "name": "python",
   "nbconvert_exporter": "python",
   "pygments_lexer": "ipython3",
   "version": "3.5.4"
  }
 },
 "nbformat": 4,
 "nbformat_minor": 2
}
