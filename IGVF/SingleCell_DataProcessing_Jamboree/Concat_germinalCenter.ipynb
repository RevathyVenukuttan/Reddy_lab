{
 "cells": [
  {
   "cell_type": "code",
   "execution_count": 25,
   "metadata": {},
   "outputs": [
    {
     "name": "stdout",
     "output_type": "stream",
     "text": [
      "Submitted batch job 30181822\n"
     ]
    }
   ],
   "source": [
    "%%bash\n",
    "mkdir -p /data/gersbachlab/Revathy/IGVF/Jamboree/SingleCellData/notebooks/clusters/GerminalCenter10xATAC_combined\n",
    "cd /data/gersbachlab/Revathy/IGVF/Jamboree/SingleCellData/notebooks/clusters\n",
    "source /data/reddylab/software/miniconda3/bin/activate revathy_py3\n",
    "sbatch -p all \\\n",
    "    --array=0-6 \\\n",
    "    --mem 16G \\\n",
    "    -o /data/gersbachlab/Revathy/IGVF/Jamboree/SingleCellData/logs/GerminalCenter10xATAC.%a.out \\\n",
    "    <<'EOF'\n",
    "#!/bin/bash\n",
    "gsms=( \\\n",
    "     GerminalCenter10xATAC_GSM5051499 \\ \n",
    "     GerminalCenter10xATAC_GSM5051500 \\\n",
    "     GerminalCenter10xATAC_GSM5051501 \\\n",
    "     GerminalCenter10xATAC_GSM5051506 \\ \n",
    "     GerminalCenter10xATAC_GSM5051507 \\\n",
    "     GerminalCenter10xATAC_GSM5051508)\n",
    "celltypes=( \\\n",
    "              Activated_B \\\n",
    "              CTL \\\n",
    "              Dendritic \\\n",
    "              DZ_GC \\\n",
    "              LZ_GC \\\n",
    "              MBC_FCRl4+ \\\n",
    "              MBC \\\n",
    "              Myeloid \\\n",
    "              Naive_B \\\n",
    "              Naive_T \\\n",
    "              Plasmablasts \\\n",
    "              Tcm_CD4 \\\n",
    "              Tcm_CD8 \\\n",
    "              Tfh \\\n",
    "              Treg)\n",
    "gsm=${gsms[${SLURM_ARRAY_TASK_ID}]}\n",
    "for cell in ${celltypes[@]}; do\n",
    "cat ${gsm}/tagAlign_${gsm}_${cell}.tsv > GerminalCenter10xATAC_combined/tagAlign_GerminalCenter10xATAC_${cell}.tsv\n",
    "done\n",
    "EOF"
   ]
  },
  {
   "cell_type": "code",
   "execution_count": 28,
   "metadata": {},
   "outputs": [
    {
     "name": "stdout",
     "output_type": "stream",
     "text": [
      "             JOBID PARTITION     NAME     USER ST       TIME  NODES NODELIST(REASON)\r\n",
      "          30181222       all spawner-    rv103  R    5:09:13      1 dl-01\r\n"
     ]
    }
   ],
   "source": [
    "!squeue -u rv103"
   ]
  },
  {
   "cell_type": "code",
   "execution_count": 6,
   "metadata": {},
   "outputs": [
    {
     "name": "stdout",
     "output_type": "stream",
     "text": [
      "GerminalCenter10xATAC_GSM5051499_ClusterMetadata.tsv\n",
      "tagAlign_GerminalCenter10xATAC_GSM5051499_Activated_B.tsv\n",
      "tagAlign_GerminalCenter10xATAC_GSM5051499_CTL.tsv\n",
      "tagAlign_GerminalCenter10xATAC_GSM5051499_Dendritic.tsv\n",
      "tagAlign_GerminalCenter10xATAC_GSM5051499_DZ_GC.tsv\n",
      "tagAlign_GerminalCenter10xATAC_GSM5051499_LZ_GC.tsv\n",
      "tagAlign_GerminalCenter10xATAC_GSM5051499_MBC_FCRL4+.tsv\n",
      "tagAlign_GerminalCenter10xATAC_GSM5051499_MBC.tsv\n",
      "tagAlign_GerminalCenter10xATAC_GSM5051499_Myeloid.tsv\n",
      "tagAlign_GerminalCenter10xATAC_GSM5051499_Naive_B.tsv\n",
      "tagAlign_GerminalCenter10xATAC_GSM5051499_Naive_T.tsv\n",
      "tagAlign_GerminalCenter10xATAC_GSM5051499_Plasmablasts.tsv\n",
      "tagAlign_GerminalCenter10xATAC_GSM5051499_Tcm_CD4.tsv\n",
      "tagAlign_GerminalCenter10xATAC_GSM5051499_Tcm_CD8.tsv\n",
      "tagAlign_GerminalCenter10xATAC_GSM5051499_Tfh.tsv\n",
      "tagAlign_GerminalCenter10xATAC_GSM5051499_Treg.tsv\n"
     ]
    }
   ],
   "source": [
    "%%bash\n",
    "cd /data/gersbachlab/Revathy/IGVF/Jamboree/SingleCellData/notebooks/clusters/GerminalCenter10xATAC_GSM5051499\n",
    "ls\n"
   ]
  },
  {
   "cell_type": "code",
   "execution_count": null,
   "metadata": {},
   "outputs": [],
   "source": []
  }
 ],
 "metadata": {
  "kernelspec": {
   "display_name": "Python3 (revathy)",
   "language": "python",
   "name": "revathy_py3"
  },
  "language_info": {
   "codemirror_mode": {
    "name": "ipython",
    "version": 3
   },
   "file_extension": ".py",
   "mimetype": "text/x-python",
   "name": "python",
   "nbconvert_exporter": "python",
   "pygments_lexer": "ipython3",
   "version": "3.5.4"
  }
 },
 "nbformat": 4,
 "nbformat_minor": 2
}
