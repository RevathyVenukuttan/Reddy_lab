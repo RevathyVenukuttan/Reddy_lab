{
 "cells": [
  {
   "cell_type": "code",
   "execution_count": 1,
   "metadata": {},
   "outputs": [],
   "source": [
    "!mkdir -p /data/gersbachlab/Revathy/IGVF/Pipeline/scripts"
   ]
  },
  {
   "cell_type": "code",
   "execution_count": 2,
   "metadata": {},
   "outputs": [
    {
     "name": "stdout",
     "output_type": "stream",
     "text": [
      "Writing /data/gersbachlab/Revathy/IGVF/Pipeline/scripts/Seurat_DE.R\n"
     ]
    }
   ],
   "source": [
    "%%writefile /data/gersbachlab/Revathy/IGVF/Pipeline/scripts/Seurat_DE.R\n",
    "#!/usr/bin/env Rscript\n",
    "suppressPackageStartupMessages(library(dplyr))\n",
    "suppressPackageStartupMessages(library(Seurat))\n",
    "suppressPackageStartupMessages(library(ggplot2))\n",
    "suppressPackageStartupMessages(library(patchwork))\n",
    "suppressPackageStartupMessages(library(\"argparse\"))\n",
    "\n",
    "parser <- ArgumentParser()\n",
    "\n",
    "\n",
    "parser$add_argument(p, 'feature-matrix',\n",
    "                      help='folder or h5 containing feature matrix')\n",
    "parser$add_argument(p, '--output-dir', default='.',\n",
    "                      help='output directory for plots and tables')\n",
    "\n",
    "args <- parser$parse_args()\n",
    "\n",
    "\n",
    "data <- Read10X(args$feature_matrix)\n",
    "\n",
    "rna <- CreateSeuratObject(counts = data, project = \"Sean_Perturb_seq\", min.cells = 3, min.features = 0)\n",
    "rna[[\"percent.mt\"]] <- PercentageFeatureSet(rna, pattern = \"^(MT|Mt|mt)-\")\n",
    "rna[[\"percent.ribo\"]] <- PercentageFeatureSet(rna, pattern = \"^(RP[LS]|rp[ls])\")\n",
    "\n",
    "## Pre-filtering plot\n",
    "\n",
    "p <- ggplot(rna@meta.data, aes(nCount_RNA, nFeature_RNA, color=percent.mt))\n",
    "p <- p + geom_point(size=0.2)\n",
    "p <- p + geom_hline(yintercept=0, color='red')\n",
    "p <- p + geom_hline(yintercept=10, color='red')\n",
    "p\n",
    "\n",
    "## Violin plot\n",
    "p <- VlnPlot(rna, features = c('percent.mt', 'percent.ribo', 'nFeature_RNA', 'nCount_RNA'), ncol = 2, pt.size = 0)\n",
    "p\n",
    "\n",
    "rna <- subset(rna, subset = (nFeature_RNA > 1 & nFeature_RNA < 2500 & percent.mt < 5 & percent.ribo < 5))\n",
    "\n",
    "rna <- NormalizeData(rna)\n",
    "rna <- FindVariableFeatures(rna, nfeatures = 2000)\n",
    "rna <- ScaleData(rna)\n",
    "\n",
    "rna <- RunPCA(rna, features = VariableFeatures(object = rna))\n",
    "\n",
    "\n",
    "## Dim plot\n",
    "p <- DimPlot(rna, reduction = \"pca\")\n",
    "p\n",
    "\n",
    "\n",
    "## elbow plot\n",
    "p <- ElbowPlot(rna)\n",
    "p\n",
    "\n",
    "\n",
    "## Find clusters\n",
    "rna <- FindNeighbors(rna, dims = 1:8)\n",
    "rna <- FindClusters(rna, resolution = 0.5)\n",
    "\n",
    "\n",
    "## find cluster markers\n",
    "cluster.markers <- FindAllMarkers(rna)\n",
    "\n",
    "\n",
    "rna <- RunUMAP(rna, dims = 1:8)\n",
    "\n",
    "## Dimplot after clustering\n",
    "p <- DimPlot(rna, label=TRUE)+ NoLegend()\n",
    "p\n",
    "\n",
    "\n",
    "DefaultAssay(rna) <- 'RNA'\n",
    "all.markers <- FindAllMarkers(rna)\n",
    "top5 <- all.markers %>% group_by(cluster) %>% top_n(n = 5, wt = avg_log2FC)\n",
    "write.csv(all.markers, file = file.path(args$output_dir, \"all_markers.csv\"),quote = FALSE)\n"
   ]
  },
  {
   "cell_type": "code",
   "execution_count": null,
   "metadata": {},
   "outputs": [],
   "source": [
    "/data/reddylab/Alex/collab/20210526_Sean/data/sc_rna_seq/count/Targeted_GEX_Lib_1/outs/filtered_feature_bc_matrix"
   ]
  },
  {
   "cell_type": "code",
   "execution_count": 2,
   "metadata": {},
   "outputs": [
    {
     "ename": "NameError",
     "evalue": "name 'library' is not defined",
     "output_type": "error",
     "traceback": [
      "\u001b[0;31m---------------------------------------------------------------------------\u001b[0m",
      "\u001b[0;31mNameError\u001b[0m                                 Traceback (most recent call last)",
      "\u001b[0;32m<ipython-input-2-40a66fc474fb>\u001b[0m in \u001b[0;36m<module>\u001b[0;34m()\u001b[0m\n\u001b[0;32m----> 1\u001b[0;31m \u001b[0mlibrary\u001b[0m\u001b[0;34m(\u001b[0m\u001b[0mSeurat\u001b[0m\u001b[0;34m)\u001b[0m\u001b[0;34m\u001b[0m\u001b[0m\n\u001b[0m",
      "\u001b[0;31mNameError\u001b[0m: name 'library' is not defined"
     ]
    }
   ],
   "source": [
    "library(Seurat)"
   ]
  },
  {
   "cell_type": "code",
   "execution_count": null,
   "metadata": {},
   "outputs": [],
   "source": []
  }
 ],
 "metadata": {
  "kernelspec": {
   "display_name": "Python3 (revathy)",
   "language": "python",
   "name": "revathy_py3"
  },
  "language_info": {
   "codemirror_mode": {
    "name": "ipython",
    "version": 3
   },
   "file_extension": ".py",
   "mimetype": "text/x-python",
   "name": "python",
   "nbconvert_exporter": "python",
   "pygments_lexer": "ipython3",
   "version": "3.5.4"
  }
 },
 "nbformat": 4,
 "nbformat_minor": 2
}
