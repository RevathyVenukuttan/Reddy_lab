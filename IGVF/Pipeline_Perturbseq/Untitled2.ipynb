{
 "cells": [
  {
   "cell_type": "code",
   "execution_count": 1,
   "metadata": {},
   "outputs": [
    {
     "ename": "ImportError",
     "evalue": "No module named 'scanpy'",
     "output_type": "error",
     "traceback": [
      "\u001b[0;31m---------------------------------------------------------------------------\u001b[0m",
      "\u001b[0;31mImportError\u001b[0m                               Traceback (most recent call last)",
      "\u001b[0;32m<ipython-input-1-4528ee390e26>\u001b[0m in \u001b[0;36m<module>\u001b[0;34m()\u001b[0m\n\u001b[0;32m----> 1\u001b[0;31m \u001b[0;32mimport\u001b[0m \u001b[0mscanpy\u001b[0m\u001b[0;34m\u001b[0m\u001b[0m\n\u001b[0m\u001b[1;32m      2\u001b[0m \u001b[0madata\u001b[0m \u001b[0;34m=\u001b[0m \u001b[0mscanpy\u001b[0m\u001b[0;34m.\u001b[0m\u001b[0mread_h5ad\u001b[0m\u001b[0;34m(\u001b[0m\u001b[0;34m\"/data/gersbachlab/Ruhi/pipeline_perturbseq_like/perturbseq_OUT_exp_1/f4/05c1fb327cdd10557e0834c4cd49a8/S1_L001_ks_guide_out/counts_unfiltered/adata.h5ad\"\u001b[0m\u001b[0;34m)\u001b[0m\u001b[0;34m\u001b[0m\u001b[0m\n\u001b[1;32m      3\u001b[0m \u001b[0madata\u001b[0m\u001b[0;34m\u001b[0m\u001b[0m\n",
      "\u001b[0;31mImportError\u001b[0m: No module named 'scanpy'"
     ]
    }
   ],
   "source": [
    "import scanpy\n",
    "adata = scanpy.read_h5ad(\"/data/gersbachlab/Ruhi/pipeline_perturbseq_like/perturbseq_OUT_exp_1/f4/05c1fb327cdd10557e0834c4cd49a8/S1_L001_ks_guide_out/counts_unfiltered/adata.h5ad\")\n",
    "adata"
   ]
  },
  {
   "cell_type": "code",
   "execution_count": 2,
   "metadata": {},
   "outputs": [
    {
     "ename": "ImportError",
     "evalue": "No module named 'mudata'",
     "output_type": "error",
     "traceback": [
      "\u001b[0;31m---------------------------------------------------------------------------\u001b[0m",
      "\u001b[0;31mImportError\u001b[0m                               Traceback (most recent call last)",
      "\u001b[0;32m<ipython-input-2-f590079bb8dd>\u001b[0m in \u001b[0;36m<module>\u001b[0;34m()\u001b[0m\n\u001b[0;32m----> 1\u001b[0;31m \u001b[0;32mimport\u001b[0m \u001b[0mmudata\u001b[0m \u001b[0;32mas\u001b[0m \u001b[0mmd\u001b[0m\u001b[0;34m\u001b[0m\u001b[0m\n\u001b[0m",
      "\u001b[0;31mImportError\u001b[0m: No module named 'mudata'"
     ]
    }
   ],
   "source": [
    "import mudata as md"
   ]
  },
  {
   "cell_type": "code",
   "execution_count": 2,
   "metadata": {},
   "outputs": [
    {
     "name": "stdout",
     "output_type": "stream",
     "text": [
      "ls: cannot access /data/gersbachlab/Ruhi/pipeline_perturbseq_like/perturbseq_OUT_exp_1/f4/05c1fb327cdd10557e0834c4cd49a8/adata.h5ad: No such file or directory\r\n"
     ]
    }
   ],
   "source": [
    "!ls /data/gersbachlab/Ruhi/pipeline_perturbseq_like/perturbseq_OUT_exp_1/f4/05c1fb327cdd10557e0834c4cd49a8/adata.h5ad\n"
   ]
  },
  {
   "cell_type": "code",
   "execution_count": 6,
   "metadata": {},
   "outputs": [
    {
     "name": "stdout",
     "output_type": "stream",
     "text": [
      "adata.h5ad\t\t       cells_x_features.genes.txt\r\n",
      "cells_x_features.barcodes.txt  cells_x_features.mtx\r\n"
     ]
    }
   ],
   "source": [
    "!ls /data/gersbachlab/Ruhi/pipeline_perturbseq_like/perturbseq_OUT_exp_1/f4/05c1fb327cdd10557e0834c4cd49a8/S1_L001_ks_guide_out/counts_unfiltered/"
   ]
  },
  {
   "cell_type": "code",
   "execution_count": null,
   "metadata": {},
   "outputs": [],
   "source": []
  }
 ],
 "metadata": {
  "kernelspec": {
   "display_name": "Perturbseq_pipeline",
   "language": "python",
   "name": "perturbseq_like_pipeline2"
  },
  "language_info": {
   "codemirror_mode": {
    "name": "ipython",
    "version": 3
   },
   "file_extension": ".py",
   "mimetype": "text/x-python",
   "name": "python",
   "nbconvert_exporter": "python",
   "pygments_lexer": "ipython3",
   "version": "3.5.4"
  }
 },
 "nbformat": 4,
 "nbformat_minor": 2
}
